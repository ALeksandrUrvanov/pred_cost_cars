{
 "cells": [
  {
   "cell_type": "markdown",
   "metadata": {},
   "source": [
    "# Определение стоимости автомобилей"
   ]
  },
  {
   "cell_type": "markdown",
   "metadata": {},
   "source": [
    "Сервис по продаже автомобилей с пробегом «Не бит, не крашен» разрабатывает приложение для привлечения новых клиентов. В нём можно быстро узнать рыночную стоимость своего автомобиля. В вашем распоряжении исторические данные: технические характеристики, комплектации и цены автомобилей. Вам нужно построить модель для определения стоимости. \n",
    "\n",
    "Заказчику важны:\n",
    "\n",
    "- качество предсказания;\n",
    "- скорость предсказания;\n",
    "- время обучения."
   ]
  },
  {
   "cell_type": "markdown",
   "metadata": {},
   "source": [
    "## Подготовка данных"
   ]
  },
  {
   "cell_type": "code",
   "execution_count": 1,
   "metadata": {},
   "outputs": [],
   "source": [
    "import pandas as pd\n",
    "import numpy as np\n",
    "\n",
    "import warnings\n",
    "warnings.filterwarnings(\"ignore\")\n",
    "\n",
    "import matplotlib.pyplot as plt\n",
    "import seaborn as sns\n",
    "\n",
    "from sklearn.preprocessing import OrdinalEncoder\n",
    "from sklearn.model_selection import train_test_split\n",
    "from sklearn.model_selection import cross_val_score\n",
    "\n",
    "from sklearn.ensemble import RandomForestRegressor\n",
    "from sklearn.model_selection import GridSearchCV\n",
    "from catboost import CatBoostRegressor\n",
    "from lightgbm import LGBMRegressor\n",
    "\n",
    "from sklearn.metrics import mean_squared_error\n",
    "\n",
    "RANDOM_STATE = 12345"
   ]
  },
  {
   "cell_type": "code",
   "execution_count": 2,
   "metadata": {},
   "outputs": [
    {
     "data": {
      "text/html": [
       "<div>\n",
       "<style scoped>\n",
       "    .dataframe tbody tr th:only-of-type {\n",
       "        vertical-align: middle;\n",
       "    }\n",
       "\n",
       "    .dataframe tbody tr th {\n",
       "        vertical-align: top;\n",
       "    }\n",
       "\n",
       "    .dataframe thead th {\n",
       "        text-align: right;\n",
       "    }\n",
       "</style>\n",
       "<table border=\"1\" class=\"dataframe\">\n",
       "  <thead>\n",
       "    <tr style=\"text-align: right;\">\n",
       "      <th></th>\n",
       "      <th>DateCrawled</th>\n",
       "      <th>Price</th>\n",
       "      <th>VehicleType</th>\n",
       "      <th>RegistrationYear</th>\n",
       "      <th>Gearbox</th>\n",
       "      <th>Power</th>\n",
       "      <th>Model</th>\n",
       "      <th>Kilometer</th>\n",
       "      <th>RegistrationMonth</th>\n",
       "      <th>FuelType</th>\n",
       "      <th>Brand</th>\n",
       "      <th>Repaired</th>\n",
       "      <th>DateCreated</th>\n",
       "      <th>NumberOfPictures</th>\n",
       "      <th>PostalCode</th>\n",
       "      <th>LastSeen</th>\n",
       "    </tr>\n",
       "  </thead>\n",
       "  <tbody>\n",
       "    <tr>\n",
       "      <th>0</th>\n",
       "      <td>2016-03-24 11:52:17</td>\n",
       "      <td>480</td>\n",
       "      <td>NaN</td>\n",
       "      <td>1993</td>\n",
       "      <td>manual</td>\n",
       "      <td>0</td>\n",
       "      <td>golf</td>\n",
       "      <td>150000</td>\n",
       "      <td>0</td>\n",
       "      <td>petrol</td>\n",
       "      <td>volkswagen</td>\n",
       "      <td>NaN</td>\n",
       "      <td>2016-03-24 00:00:00</td>\n",
       "      <td>0</td>\n",
       "      <td>70435</td>\n",
       "      <td>2016-04-07 03:16:57</td>\n",
       "    </tr>\n",
       "    <tr>\n",
       "      <th>1</th>\n",
       "      <td>2016-03-24 10:58:45</td>\n",
       "      <td>18300</td>\n",
       "      <td>coupe</td>\n",
       "      <td>2011</td>\n",
       "      <td>manual</td>\n",
       "      <td>190</td>\n",
       "      <td>NaN</td>\n",
       "      <td>125000</td>\n",
       "      <td>5</td>\n",
       "      <td>gasoline</td>\n",
       "      <td>audi</td>\n",
       "      <td>yes</td>\n",
       "      <td>2016-03-24 00:00:00</td>\n",
       "      <td>0</td>\n",
       "      <td>66954</td>\n",
       "      <td>2016-04-07 01:46:50</td>\n",
       "    </tr>\n",
       "    <tr>\n",
       "      <th>2</th>\n",
       "      <td>2016-03-14 12:52:21</td>\n",
       "      <td>9800</td>\n",
       "      <td>suv</td>\n",
       "      <td>2004</td>\n",
       "      <td>auto</td>\n",
       "      <td>163</td>\n",
       "      <td>grand</td>\n",
       "      <td>125000</td>\n",
       "      <td>8</td>\n",
       "      <td>gasoline</td>\n",
       "      <td>jeep</td>\n",
       "      <td>NaN</td>\n",
       "      <td>2016-03-14 00:00:00</td>\n",
       "      <td>0</td>\n",
       "      <td>90480</td>\n",
       "      <td>2016-04-05 12:47:46</td>\n",
       "    </tr>\n",
       "  </tbody>\n",
       "</table>\n",
       "</div>"
      ],
      "text/plain": [
       "           DateCrawled  Price VehicleType  RegistrationYear Gearbox  Power  \\\n",
       "0  2016-03-24 11:52:17    480         NaN              1993  manual      0   \n",
       "1  2016-03-24 10:58:45  18300       coupe              2011  manual    190   \n",
       "2  2016-03-14 12:52:21   9800         suv              2004    auto    163   \n",
       "\n",
       "   Model  Kilometer  RegistrationMonth  FuelType       Brand Repaired  \\\n",
       "0   golf     150000                  0    petrol  volkswagen      NaN   \n",
       "1    NaN     125000                  5  gasoline        audi      yes   \n",
       "2  grand     125000                  8  gasoline        jeep      NaN   \n",
       "\n",
       "           DateCreated  NumberOfPictures  PostalCode             LastSeen  \n",
       "0  2016-03-24 00:00:00                 0       70435  2016-04-07 03:16:57  \n",
       "1  2016-03-24 00:00:00                 0       66954  2016-04-07 01:46:50  \n",
       "2  2016-03-14 00:00:00                 0       90480  2016-04-05 12:47:46  "
      ]
     },
     "metadata": {},
     "output_type": "display_data"
    }
   ],
   "source": [
    "df = pd.read_csv('/datasets/autos.csv')\n",
    "display(df.head(3))"
   ]
  },
  {
   "cell_type": "code",
   "execution_count": 3,
   "metadata": {},
   "outputs": [
    {
     "name": "stdout",
     "output_type": "stream",
     "text": [
      "<class 'pandas.core.frame.DataFrame'>\n",
      "RangeIndex: 354369 entries, 0 to 354368\n",
      "Data columns (total 16 columns):\n",
      " #   Column             Non-Null Count   Dtype \n",
      "---  ------             --------------   ----- \n",
      " 0   DateCrawled        354369 non-null  object\n",
      " 1   Price              354369 non-null  int64 \n",
      " 2   VehicleType        316879 non-null  object\n",
      " 3   RegistrationYear   354369 non-null  int64 \n",
      " 4   Gearbox            334536 non-null  object\n",
      " 5   Power              354369 non-null  int64 \n",
      " 6   Model              334664 non-null  object\n",
      " 7   Kilometer          354369 non-null  int64 \n",
      " 8   RegistrationMonth  354369 non-null  int64 \n",
      " 9   FuelType           321474 non-null  object\n",
      " 10  Brand              354369 non-null  object\n",
      " 11  Repaired           283215 non-null  object\n",
      " 12  DateCreated        354369 non-null  object\n",
      " 13  NumberOfPictures   354369 non-null  int64 \n",
      " 14  PostalCode         354369 non-null  int64 \n",
      " 15  LastSeen           354369 non-null  object\n",
      "dtypes: int64(7), object(9)\n",
      "memory usage: 43.3+ MB\n"
     ]
    },
    {
     "data": {
      "text/plain": [
       "None"
      ]
     },
     "metadata": {},
     "output_type": "display_data"
    }
   ],
   "source": [
    "# смотрим информацию о количестве и типе данных признаков\n",
    "display(df.info())"
   ]
  },
  {
   "cell_type": "code",
   "execution_count": 4,
   "metadata": {},
   "outputs": [
    {
     "data": {
      "text/plain": [
       "4"
      ]
     },
     "execution_count": 4,
     "metadata": {},
     "output_type": "execute_result"
    }
   ],
   "source": [
    "# проверим наличие дубликатов\n",
    "df.duplicated().sum()"
   ]
  },
  {
   "cell_type": "code",
   "execution_count": 5,
   "metadata": {},
   "outputs": [],
   "source": [
    "# удаляем дубликаты\n",
    "df = df.drop_duplicates().reset_index(drop=True)"
   ]
  },
  {
   "cell_type": "code",
   "execution_count": 6,
   "metadata": {},
   "outputs": [
    {
     "data": {
      "text/html": [
       "<div>\n",
       "<style scoped>\n",
       "    .dataframe tbody tr th:only-of-type {\n",
       "        vertical-align: middle;\n",
       "    }\n",
       "\n",
       "    .dataframe tbody tr th {\n",
       "        vertical-align: top;\n",
       "    }\n",
       "\n",
       "    .dataframe thead th {\n",
       "        text-align: right;\n",
       "    }\n",
       "</style>\n",
       "<table border=\"1\" class=\"dataframe\">\n",
       "  <thead>\n",
       "    <tr style=\"text-align: right;\">\n",
       "      <th></th>\n",
       "      <th>Price</th>\n",
       "      <th>VehicleType</th>\n",
       "      <th>RegistrationYear</th>\n",
       "      <th>Gearbox</th>\n",
       "      <th>Power</th>\n",
       "      <th>Model</th>\n",
       "      <th>Kilometer</th>\n",
       "      <th>FuelType</th>\n",
       "      <th>Brand</th>\n",
       "      <th>Repaired</th>\n",
       "    </tr>\n",
       "  </thead>\n",
       "  <tbody>\n",
       "    <tr>\n",
       "      <th>0</th>\n",
       "      <td>480</td>\n",
       "      <td>NaN</td>\n",
       "      <td>1993</td>\n",
       "      <td>manual</td>\n",
       "      <td>0</td>\n",
       "      <td>golf</td>\n",
       "      <td>150000</td>\n",
       "      <td>petrol</td>\n",
       "      <td>volkswagen</td>\n",
       "      <td>NaN</td>\n",
       "    </tr>\n",
       "  </tbody>\n",
       "</table>\n",
       "</div>"
      ],
      "text/plain": [
       "   Price VehicleType  RegistrationYear Gearbox  Power Model  Kilometer  \\\n",
       "0    480         NaN              1993  manual      0  golf     150000   \n",
       "\n",
       "  FuelType       Brand Repaired  \n",
       "0   petrol  volkswagen      NaN  "
      ]
     },
     "metadata": {},
     "output_type": "display_data"
    }
   ],
   "source": [
    "# удаляем признаки, не влияющих на целевой признак:\n",
    "df.drop(columns=['DateCrawled', 'DateCreated', 'NumberOfPictures',\n",
    "                    'PostalCode', 'LastSeen', 'RegistrationMonth'],\n",
    "           axis=1,\n",
    "           inplace=True)\n",
    "\n",
    "display(df.head(1))"
   ]
  },
  {
   "cell_type": "code",
   "execution_count": 7,
   "metadata": {},
   "outputs": [
    {
     "data": {
      "text/html": [
       "<div>\n",
       "<style scoped>\n",
       "    .dataframe tbody tr th:only-of-type {\n",
       "        vertical-align: middle;\n",
       "    }\n",
       "\n",
       "    .dataframe tbody tr th {\n",
       "        vertical-align: top;\n",
       "    }\n",
       "\n",
       "    .dataframe thead th {\n",
       "        text-align: right;\n",
       "    }\n",
       "</style>\n",
       "<table border=\"1\" class=\"dataframe\">\n",
       "  <thead>\n",
       "    <tr style=\"text-align: right;\">\n",
       "      <th></th>\n",
       "      <th>price</th>\n",
       "      <th>vehicle_type</th>\n",
       "      <th>registration_year</th>\n",
       "      <th>gearbox</th>\n",
       "      <th>power</th>\n",
       "      <th>model</th>\n",
       "      <th>kilometer</th>\n",
       "      <th>fuel_type</th>\n",
       "      <th>brand</th>\n",
       "      <th>repaired</th>\n",
       "    </tr>\n",
       "  </thead>\n",
       "  <tbody>\n",
       "    <tr>\n",
       "      <th>0</th>\n",
       "      <td>480</td>\n",
       "      <td>NaN</td>\n",
       "      <td>1993</td>\n",
       "      <td>manual</td>\n",
       "      <td>0</td>\n",
       "      <td>golf</td>\n",
       "      <td>150000</td>\n",
       "      <td>petrol</td>\n",
       "      <td>volkswagen</td>\n",
       "      <td>NaN</td>\n",
       "    </tr>\n",
       "  </tbody>\n",
       "</table>\n",
       "</div>"
      ],
      "text/plain": [
       "   price vehicle_type  registration_year gearbox  power model  kilometer  \\\n",
       "0    480          NaN               1993  manual      0  golf     150000   \n",
       "\n",
       "  fuel_type       brand repaired  \n",
       "0    petrol  volkswagen      NaN  "
      ]
     },
     "metadata": {},
     "output_type": "display_data"
    }
   ],
   "source": [
    "# переобразуем названия колонок в более привычный:\n",
    "df.columns = df.columns.str.replace(r\"([A-Z])\", r\" \\1\").str.lower().str.replace(' ', '_').str[1:]\n",
    "display(df.head(1))\n"
   ]
  },
  {
   "cell_type": "code",
   "execution_count": 8,
   "metadata": {},
   "outputs": [
    {
     "name": "stdout",
     "output_type": "stream",
     "text": [
      "Количество пропусков:\n"
     ]
    },
    {
     "data": {
      "text/plain": [
       "price                    0\n",
       "vehicle_type         37490\n",
       "registration_year        0\n",
       "gearbox              19833\n",
       "power                    0\n",
       "model                19705\n",
       "kilometer                0\n",
       "fuel_type            32895\n",
       "brand                    0\n",
       "repaired             71154\n",
       "dtype: int64"
      ]
     },
     "metadata": {},
     "output_type": "display_data"
    }
   ],
   "source": [
    "print('Количество пропусков:')\n",
    "display(df.isna().sum())"
   ]
  },
  {
   "cell_type": "markdown",
   "metadata": {},
   "source": [
    "Большое количество пропусков, будем разбираться!"
   ]
  },
  {
   "cell_type": "code",
   "execution_count": 9,
   "metadata": {},
   "outputs": [
    {
     "data": {
      "text/html": [
       "<div>\n",
       "<style scoped>\n",
       "    .dataframe tbody tr th:only-of-type {\n",
       "        vertical-align: middle;\n",
       "    }\n",
       "\n",
       "    .dataframe tbody tr th {\n",
       "        vertical-align: top;\n",
       "    }\n",
       "\n",
       "    .dataframe thead th {\n",
       "        text-align: right;\n",
       "    }\n",
       "</style>\n",
       "<table border=\"1\" class=\"dataframe\">\n",
       "  <thead>\n",
       "    <tr style=\"text-align: right;\">\n",
       "      <th></th>\n",
       "      <th>count</th>\n",
       "      <th>mean</th>\n",
       "      <th>std</th>\n",
       "      <th>min</th>\n",
       "      <th>25%</th>\n",
       "      <th>50%</th>\n",
       "      <th>75%</th>\n",
       "      <th>max</th>\n",
       "    </tr>\n",
       "  </thead>\n",
       "  <tbody>\n",
       "    <tr>\n",
       "      <th>price</th>\n",
       "      <td>354365.0</td>\n",
       "      <td>4416.679830</td>\n",
       "      <td>4514.176349</td>\n",
       "      <td>0.0</td>\n",
       "      <td>1050.0</td>\n",
       "      <td>2700.0</td>\n",
       "      <td>6400.0</td>\n",
       "      <td>20000.0</td>\n",
       "    </tr>\n",
       "    <tr>\n",
       "      <th>registration_year</th>\n",
       "      <td>354365.0</td>\n",
       "      <td>2004.234481</td>\n",
       "      <td>90.228466</td>\n",
       "      <td>1000.0</td>\n",
       "      <td>1999.0</td>\n",
       "      <td>2003.0</td>\n",
       "      <td>2008.0</td>\n",
       "      <td>9999.0</td>\n",
       "    </tr>\n",
       "    <tr>\n",
       "      <th>power</th>\n",
       "      <td>354365.0</td>\n",
       "      <td>110.093816</td>\n",
       "      <td>189.851330</td>\n",
       "      <td>0.0</td>\n",
       "      <td>69.0</td>\n",
       "      <td>105.0</td>\n",
       "      <td>143.0</td>\n",
       "      <td>20000.0</td>\n",
       "    </tr>\n",
       "    <tr>\n",
       "      <th>kilometer</th>\n",
       "      <td>354365.0</td>\n",
       "      <td>128211.363989</td>\n",
       "      <td>37905.083858</td>\n",
       "      <td>5000.0</td>\n",
       "      <td>125000.0</td>\n",
       "      <td>150000.0</td>\n",
       "      <td>150000.0</td>\n",
       "      <td>150000.0</td>\n",
       "    </tr>\n",
       "  </tbody>\n",
       "</table>\n",
       "</div>"
      ],
      "text/plain": [
       "                      count           mean           std     min       25%  \\\n",
       "price              354365.0    4416.679830   4514.176349     0.0    1050.0   \n",
       "registration_year  354365.0    2004.234481     90.228466  1000.0    1999.0   \n",
       "power              354365.0     110.093816    189.851330     0.0      69.0   \n",
       "kilometer          354365.0  128211.363989  37905.083858  5000.0  125000.0   \n",
       "\n",
       "                        50%       75%       max  \n",
       "price                2700.0    6400.0   20000.0  \n",
       "registration_year    2003.0    2008.0    9999.0  \n",
       "power                 105.0     143.0   20000.0  \n",
       "kilometer          150000.0  150000.0  150000.0  "
      ]
     },
     "execution_count": 9,
     "metadata": {},
     "output_type": "execute_result"
    }
   ],
   "source": [
    "# выводим основные данные по числовым признакам\n",
    "df.describe().T"
   ]
  },
  {
   "cell_type": "markdown",
   "metadata": {},
   "source": [
    "Наблюдаем аномальные значения в признаках"
   ]
  },
  {
   "cell_type": "code",
   "execution_count": 10,
   "metadata": {},
   "outputs": [
    {
     "data": {
      "image/png": "[encoded data removed]",
      "text/plain": [
       "<Figure size 1440x360 with 1 Axes>"
      ]
     },
     "metadata": {
      "needs_background": "light"
     },
     "output_type": "display_data"
    },
    {
     "data": {
      "image/png": "[encoded data removed]",
      "text/plain": [
       "<Figure size 720x216 with 1 Axes>"
      ]
     },
     "metadata": {
      "needs_background": "light"
     },
     "output_type": "display_data"
    }
   ],
   "source": [
    "# выведем гистограмму и ящик с усами для целевого признака price: \n",
    "df.price.hist(bins=200, figsize=(20,5))\n",
    "\n",
    "plt.figure(figsize=(10,3))\n",
    "sns.boxplot(data=df.price, orient='h')\n",
    "plt.title('Ящик с усами для целевого признака')\n",
    "plt.show()"
   ]
  },
  {
   "cell_type": "code",
   "execution_count": 11,
   "metadata": {},
   "outputs": [
    {
     "data": {
      "text/plain": [
       "0.05      200.0\n",
       "0.95    14600.0\n",
       "Name: price, dtype: float64"
      ]
     },
     "execution_count": 11,
     "metadata": {},
     "output_type": "execute_result"
    }
   ],
   "source": [
    "# на гистограмме и ящике с усами странные данные у нуля и длинный хвост возле 15000, смотрим квантили:\n",
    "df.price.quantile([.05, 0.95])"
   ]
  },
  {
   "cell_type": "code",
   "execution_count": 12,
   "metadata": {},
   "outputs": [
    {
     "data": {
      "text/plain": [
       "0.09908992140871697"
      ]
     },
     "execution_count": 12,
     "metadata": {},
     "output_type": "execute_result"
    }
   ],
   "source": [
    "# смотрим долю строк, где цена меньше 200 и больше 14600:\n",
    "1 - df.query('200 <= price <= 14600').shape[0] / df.shape[0]"
   ]
  },
  {
   "cell_type": "code",
   "execution_count": 13,
   "metadata": {},
   "outputs": [],
   "source": [
    "# усечем в нужном диапазоне\n",
    "df = df.query('200 <= price <= 14600').reset_index(drop=True)"
   ]
  },
  {
   "cell_type": "code",
   "execution_count": 14,
   "metadata": {},
   "outputs": [
    {
     "data": {
      "text/plain": [
       "2000    22036\n",
       "1999    21483\n",
       "2005    20916\n",
       "2001    19382\n",
       "2003    19278\n",
       "        ...  \n",
       "1948        1\n",
       "1949        1\n",
       "5300        1\n",
       "8888        1\n",
       "2290        1\n",
       "Name: registration_year, Length: 132, dtype: int64"
      ]
     },
     "execution_count": 14,
     "metadata": {},
     "output_type": "execute_result"
    }
   ],
   "source": [
    "# смотрим значения в registration_year:\n",
    "df.registration_year.value_counts()"
   ]
  },
  {
   "cell_type": "code",
   "execution_count": 15,
   "metadata": {},
   "outputs": [
    {
     "data": {
      "image/png": "[encoded data removed]",
      "text/plain": [
       "<Figure size 2160x1080 with 1 Axes>"
      ]
     },
     "metadata": {
      "needs_background": "light"
     },
     "output_type": "display_data"
    }
   ],
   "source": [
    "year = df.pivot_table(index='registration_year', values='brand', aggfunc='count')\n",
    "year.columns = ['quantity']\n",
    "year.plot.bar(figsize = (30,15))\n",
    "plt.title('Годы регистрации')\n",
    "plt.show()"
   ]
  },
  {
   "cell_type": "code",
   "execution_count": 16,
   "metadata": {},
   "outputs": [
    {
     "data": {
      "text/plain": [
       "0.05    1993.0\n",
       "0.95    2016.0\n",
       "Name: registration_year, dtype: float64"
      ]
     },
     "execution_count": 16,
     "metadata": {},
     "output_type": "execute_result"
    }
   ],
   "source": [
    "df.registration_year.quantile([.05, 0.95])"
   ]
  },
  {
   "cell_type": "code",
   "execution_count": 17,
   "metadata": {},
   "outputs": [
    {
     "data": {
      "text/plain": [
       "0.048566801670159254"
      ]
     },
     "execution_count": 17,
     "metadata": {},
     "output_type": "execute_result"
    }
   ],
   "source": [
    "# смотрим долю строк, где год меньше 1993 и больше 2016:\n",
    "1 - df.query('1993 <= registration_year <= 2018').shape[0] / df.shape[0]"
   ]
  },
  {
   "cell_type": "code",
   "execution_count": 18,
   "metadata": {},
   "outputs": [],
   "source": [
    "df = df.query('1993 <= registration_year <= 2018').reset_index(drop=True)"
   ]
  },
  {
   "cell_type": "markdown",
   "metadata": {},
   "source": [
    "Не понятно с чем связано резкое увеличение в 2016, 2017, 2018 регистрации, наваерное с увеличением продаж, не похоже на выброс. Оставим свежие данные, исключим аномалии."
   ]
  },
  {
   "cell_type": "code",
   "execution_count": 19,
   "metadata": {},
   "outputs": [],
   "source": [
    "df = df.query('10 <= power <= 2000').reset_index(drop=True)"
   ]
  },
  {
   "cell_type": "markdown",
   "metadata": {},
   "source": [
    "Оставим автомобили с мощностью начиная с 10 л.с. до 2000 л.с."
   ]
  },
  {
   "cell_type": "code",
   "execution_count": 20,
   "metadata": {},
   "outputs": [
    {
     "data": {
      "text/html": [
       "<div>\n",
       "<style scoped>\n",
       "    .dataframe tbody tr th:only-of-type {\n",
       "        vertical-align: middle;\n",
       "    }\n",
       "\n",
       "    .dataframe tbody tr th {\n",
       "        vertical-align: top;\n",
       "    }\n",
       "\n",
       "    .dataframe thead th {\n",
       "        text-align: right;\n",
       "    }\n",
       "</style>\n",
       "<table border=\"1\" class=\"dataframe\">\n",
       "  <thead>\n",
       "    <tr style=\"text-align: right;\">\n",
       "      <th></th>\n",
       "      <th>count</th>\n",
       "      <th>mean</th>\n",
       "      <th>std</th>\n",
       "      <th>min</th>\n",
       "      <th>25%</th>\n",
       "      <th>50%</th>\n",
       "      <th>75%</th>\n",
       "      <th>max</th>\n",
       "    </tr>\n",
       "  </thead>\n",
       "  <tbody>\n",
       "    <tr>\n",
       "      <th>price</th>\n",
       "      <td>273062.0</td>\n",
       "      <td>4176.028774</td>\n",
       "      <td>3573.164278</td>\n",
       "      <td>200.0</td>\n",
       "      <td>1300.0</td>\n",
       "      <td>2990.0</td>\n",
       "      <td>6200.0</td>\n",
       "      <td>14600.0</td>\n",
       "    </tr>\n",
       "    <tr>\n",
       "      <th>registration_year</th>\n",
       "      <td>273062.0</td>\n",
       "      <td>2003.808901</td>\n",
       "      <td>5.628864</td>\n",
       "      <td>1993.0</td>\n",
       "      <td>2000.0</td>\n",
       "      <td>2003.0</td>\n",
       "      <td>2007.0</td>\n",
       "      <td>2018.0</td>\n",
       "    </tr>\n",
       "    <tr>\n",
       "      <th>power</th>\n",
       "      <td>273062.0</td>\n",
       "      <td>118.468384</td>\n",
       "      <td>60.772388</td>\n",
       "      <td>10.0</td>\n",
       "      <td>75.0</td>\n",
       "      <td>109.0</td>\n",
       "      <td>143.0</td>\n",
       "      <td>2000.0</td>\n",
       "    </tr>\n",
       "    <tr>\n",
       "      <th>kilometer</th>\n",
       "      <td>273062.0</td>\n",
       "      <td>130769.806857</td>\n",
       "      <td>34514.011781</td>\n",
       "      <td>5000.0</td>\n",
       "      <td>125000.0</td>\n",
       "      <td>150000.0</td>\n",
       "      <td>150000.0</td>\n",
       "      <td>150000.0</td>\n",
       "    </tr>\n",
       "  </tbody>\n",
       "</table>\n",
       "</div>"
      ],
      "text/plain": [
       "                      count           mean           std     min       25%  \\\n",
       "price              273062.0    4176.028774   3573.164278   200.0    1300.0   \n",
       "registration_year  273062.0    2003.808901      5.628864  1993.0    2000.0   \n",
       "power              273062.0     118.468384     60.772388    10.0      75.0   \n",
       "kilometer          273062.0  130769.806857  34514.011781  5000.0  125000.0   \n",
       "\n",
       "                        50%       75%       max  \n",
       "price                2990.0    6200.0   14600.0  \n",
       "registration_year    2003.0    2007.0    2018.0  \n",
       "power                 109.0     143.0    2000.0  \n",
       "kilometer          150000.0  150000.0  150000.0  "
      ]
     },
     "execution_count": 20,
     "metadata": {},
     "output_type": "execute_result"
    }
   ],
   "source": [
    "df.describe().T"
   ]
  },
  {
   "cell_type": "code",
   "execution_count": 21,
   "metadata": {},
   "outputs": [
    {
     "data": {
      "image/png": "[encoded data removed]",
      "text/plain": [
       "<Figure size 720x216 with 1 Axes>"
      ]
     },
     "metadata": {
      "needs_background": "light"
     },
     "output_type": "display_data"
    }
   ],
   "source": [
    "# выведем гистограмму и ящик с усами для километража: \n",
    "plt.figure(figsize=(10,3))\n",
    "sns.boxplot(data=df.kilometer, orient='h')\n",
    "plt.title('Квантили ')\n",
    "plt.show()"
   ]
  },
  {
   "cell_type": "markdown",
   "metadata": {},
   "source": [
    "В основном автомобили с большим километражом от 125000км до 150000км."
   ]
  },
  {
   "cell_type": "code",
   "execution_count": 22,
   "metadata": {},
   "outputs": [
    {
     "data": {
      "text/plain": [
       "volkswagen        58679\n",
       "opel              31834\n",
       "bmw               28577\n",
       "mercedes_benz     23019\n",
       "audi              22368\n",
       "ford              19680\n",
       "renault           13952\n",
       "peugeot            9278\n",
       "fiat               7474\n",
       "seat               5832\n",
       "skoda              4690\n",
       "smart              4583\n",
       "mazda              4534\n",
       "citroen            4149\n",
       "toyota             3853\n",
       "nissan             3728\n",
       "hyundai            2992\n",
       "mini               2540\n",
       "volvo              2524\n",
       "mitsubishi         2377\n",
       "honda              2268\n",
       "kia                1994\n",
       "alfa_romeo         1872\n",
       "suzuki             1814\n",
       "chevrolet          1258\n",
       "chrysler           1101\n",
       "sonstige_autos      999\n",
       "dacia               807\n",
       "daihatsu            599\n",
       "subaru              575\n",
       "jeep                452\n",
       "saab                424\n",
       "daewoo              413\n",
       "rover               363\n",
       "lancia              355\n",
       "jaguar              346\n",
       "land_rover          337\n",
       "porsche             276\n",
       "lada                134\n",
       "trabant              12\n",
       "Name: brand, dtype: int64"
      ]
     },
     "execution_count": 22,
     "metadata": {},
     "output_type": "execute_result"
    }
   ],
   "source": [
    "# провеим на неявные дубликаты признак brand\n",
    "df.brand.value_counts()"
   ]
  },
  {
   "cell_type": "markdown",
   "metadata": {},
   "source": [
    "В признаке brand неявных дубликатов не выявлено"
   ]
  },
  {
   "cell_type": "code",
   "execution_count": 23,
   "metadata": {},
   "outputs": [
    {
     "name": "stdout",
     "output_type": "stream",
     "text": [
      "Количество пропусков:\n"
     ]
    },
    {
     "data": {
      "text/plain": [
       "price                    0\n",
       "vehicle_type         19660\n",
       "registration_year        0\n",
       "gearbox               5343\n",
       "power                    0\n",
       "model                10317\n",
       "kilometer                0\n",
       "fuel_type            17655\n",
       "brand                    0\n",
       "repaired             41877\n",
       "dtype: int64"
      ]
     },
     "metadata": {},
     "output_type": "display_data"
    }
   ],
   "source": [
    "print('Количество пропусков:')\n",
    "display(df.isna().sum())"
   ]
  },
  {
   "cell_type": "code",
   "execution_count": 24,
   "metadata": {},
   "outputs": [],
   "source": [
    "# для признака gearbox заменим NaN на 'auto', так как в основном машины с этим типом коробки передач:\n",
    "df.fillna({'gearbox':'auto'}, inplace=True)"
   ]
  },
  {
   "cell_type": "code",
   "execution_count": 25,
   "metadata": {},
   "outputs": [],
   "source": [
    "# заменим для обучения модели в gearbox значение auto на 1, manual - на 0:\n",
    "df.loc[(df.gearbox == 'auto'), 'gearbox'] = 1   \n",
    "df.loc[(df.gearbox == 'manual'), 'gearbox'] = 0\n",
    "df.gearbox = df.gearbox.astype('int')"
   ]
  },
  {
   "cell_type": "code",
   "execution_count": 26,
   "metadata": {},
   "outputs": [],
   "source": [
    "# для признака repaired заменим NaN на 'yes', так как в основном подержанная машина с пробегом была в ремонте:\n",
    "df.fillna({'repaired':'yes'}, inplace=True)\n",
    "\n"
   ]
  },
  {
   "cell_type": "code",
   "execution_count": 27,
   "metadata": {},
   "outputs": [],
   "source": [
    "# заменим для обучения модели в repaired значение yes на 1, no - на 0:\n",
    "df.loc[(df.repaired == 'yes'), 'repaired'] = 1\n",
    "df.loc[(df.repaired == 'no'), 'repaired'] = 0\n",
    "df.repaired = df.repaired.astype('int')"
   ]
  },
  {
   "cell_type": "code",
   "execution_count": 28,
   "metadata": {},
   "outputs": [
    {
     "data": {
      "text/plain": [
       "golf                  22652\n",
       "3er                   15809\n",
       "other                 15601\n",
       "unknown               10317\n",
       "polo                  10309\n",
       "                      ...  \n",
       "rangerover                2\n",
       "range_rover_evoque        2\n",
       "200                       1\n",
       "gl                        1\n",
       "serie_2                   1\n",
       "Name: model, Length: 249, dtype: int64"
      ]
     },
     "execution_count": 28,
     "metadata": {},
     "output_type": "execute_result"
    }
   ],
   "source": [
    "# заменим NaN в признаке model на 'unknown', так как нет возожности восстановить данные другим способом:\n",
    "df.fillna({'model':'unknown'}, inplace=True)\n",
    "df.model.value_counts()"
   ]
  },
  {
   "cell_type": "code",
   "execution_count": 29,
   "metadata": {},
   "outputs": [],
   "source": [
    "# объединяем марку, модель в один столбец для удобства\n",
    "df['model'] = + df['brand'] + ' ' + df['model'] \n"
   ]
  },
  {
   "cell_type": "code",
   "execution_count": 30,
   "metadata": {},
   "outputs": [],
   "source": [
    "# убираем лишний столбец в тестовых данных\n",
    "df = df.drop(columns=['brand'])"
   ]
  },
  {
   "cell_type": "code",
   "execution_count": 31,
   "metadata": {},
   "outputs": [
    {
     "data": {
      "text/plain": [
       "sedan          72544\n",
       "small          65871\n",
       "wagon          54670\n",
       "bus            23861\n",
       "unknown        19660\n",
       "convertible    15257\n",
       "coupe          11001\n",
       "suv             8172\n",
       "other           2026\n",
       "Name: vehicle_type, dtype: int64"
      ]
     },
     "execution_count": 31,
     "metadata": {},
     "output_type": "execute_result"
    }
   ],
   "source": [
    "# заменим NaN в признаке vehicle_type на 'unknown', так как нет возможности восстановить данные другим способом:\n",
    "df.fillna({'vehicle_type':'unknown'}, inplace=True)\n",
    "df.vehicle_type.value_counts()\n",
    "\n"
   ]
  },
  {
   "cell_type": "code",
   "execution_count": 32,
   "metadata": {},
   "outputs": [
    {
     "data": {
      "text/plain": [
       "petrol      171138\n",
       "gasoline     79023\n",
       "unknown      17655\n",
       "lpg           4497\n",
       "cng            487\n",
       "hybrid         157\n",
       "electric        56\n",
       "other           49\n",
       "Name: fuel_type, dtype: int64"
      ]
     },
     "execution_count": 32,
     "metadata": {},
     "output_type": "execute_result"
    }
   ],
   "source": [
    "# заменим NaN в признаке fuel_type на 'unknown', так как нет возможности восстановить данные другим способом:\n",
    "df.fillna({'fuel_type':'unknown'}, inplace=True)\n",
    "df.fuel_type.value_counts()\n",
    "\n"
   ]
  },
  {
   "cell_type": "code",
   "execution_count": 33,
   "metadata": {},
   "outputs": [
    {
     "name": "stdout",
     "output_type": "stream",
     "text": [
      "Количество пропусков:\n"
     ]
    },
    {
     "data": {
      "text/plain": [
       "price                0\n",
       "vehicle_type         0\n",
       "registration_year    0\n",
       "gearbox              0\n",
       "power                0\n",
       "model                0\n",
       "kilometer            0\n",
       "fuel_type            0\n",
       "repaired             0\n",
       "dtype: int64"
      ]
     },
     "metadata": {},
     "output_type": "display_data"
    }
   ],
   "source": [
    "print('Количество пропусков:')\n",
    "display(df.isna().sum())"
   ]
  },
  {
   "cell_type": "code",
   "execution_count": 34,
   "metadata": {},
   "outputs": [],
   "source": [
    "# уменьшим размерность хранения типа для ускорения работы с дата фреймом\n",
    "df['repaired'] = pd.to_numeric(df['repaired'], downcast='integer')\n",
    "df['gearbox'] = pd.to_numeric(df['gearbox'], downcast='integer')\n",
    "df['registration_year'] = pd.to_numeric(df['registration_year'], downcast='integer')\n",
    "df['power'] = pd.to_numeric(df['power'], downcast='integer')\n",
    "df['kilometer'] = pd.to_numeric(df['kilometer'], downcast='integer')\n",
    "df['price'] = pd.to_numeric(df['price'], downcast='integer')"
   ]
  },
  {
   "cell_type": "code",
   "execution_count": 35,
   "metadata": {},
   "outputs": [
    {
     "name": "stdout",
     "output_type": "stream",
     "text": [
      "<class 'pandas.core.frame.DataFrame'>\n",
      "RangeIndex: 273062 entries, 0 to 273061\n",
      "Data columns (total 9 columns):\n",
      " #   Column             Non-Null Count   Dtype \n",
      "---  ------             --------------   ----- \n",
      " 0   price              273062 non-null  int16 \n",
      " 1   vehicle_type       273062 non-null  object\n",
      " 2   registration_year  273062 non-null  int16 \n",
      " 3   gearbox            273062 non-null  int8  \n",
      " 4   power              273062 non-null  int16 \n",
      " 5   model              273062 non-null  object\n",
      " 6   kilometer          273062 non-null  int32 \n",
      " 7   fuel_type          273062 non-null  object\n",
      " 8   repaired           273062 non-null  int8  \n",
      "dtypes: int16(3), int32(1), int8(2), object(3)\n",
      "memory usage: 9.4+ MB\n"
     ]
    }
   ],
   "source": [
    "df.info()"
   ]
  },
  {
   "cell_type": "code",
   "execution_count": 36,
   "metadata": {},
   "outputs": [
    {
     "data": {
      "text/html": [
       "<div>\n",
       "<style scoped>\n",
       "    .dataframe tbody tr th:only-of-type {\n",
       "        vertical-align: middle;\n",
       "    }\n",
       "\n",
       "    .dataframe tbody tr th {\n",
       "        vertical-align: top;\n",
       "    }\n",
       "\n",
       "    .dataframe thead th {\n",
       "        text-align: right;\n",
       "    }\n",
       "</style>\n",
       "<table border=\"1\" class=\"dataframe\">\n",
       "  <thead>\n",
       "    <tr style=\"text-align: right;\">\n",
       "      <th></th>\n",
       "      <th>price</th>\n",
       "      <th>vehicle_type</th>\n",
       "      <th>registration_year</th>\n",
       "      <th>gearbox</th>\n",
       "      <th>power</th>\n",
       "      <th>model</th>\n",
       "      <th>kilometer</th>\n",
       "      <th>fuel_type</th>\n",
       "      <th>repaired</th>\n",
       "    </tr>\n",
       "  </thead>\n",
       "  <tbody>\n",
       "    <tr>\n",
       "      <th>0</th>\n",
       "      <td>9800</td>\n",
       "      <td>suv</td>\n",
       "      <td>2004</td>\n",
       "      <td>1</td>\n",
       "      <td>163</td>\n",
       "      <td>jeep grand</td>\n",
       "      <td>125000</td>\n",
       "      <td>gasoline</td>\n",
       "      <td>1</td>\n",
       "    </tr>\n",
       "    <tr>\n",
       "      <th>1</th>\n",
       "      <td>1500</td>\n",
       "      <td>small</td>\n",
       "      <td>2001</td>\n",
       "      <td>0</td>\n",
       "      <td>75</td>\n",
       "      <td>volkswagen golf</td>\n",
       "      <td>150000</td>\n",
       "      <td>petrol</td>\n",
       "      <td>0</td>\n",
       "    </tr>\n",
       "    <tr>\n",
       "      <th>2</th>\n",
       "      <td>3600</td>\n",
       "      <td>small</td>\n",
       "      <td>2008</td>\n",
       "      <td>0</td>\n",
       "      <td>69</td>\n",
       "      <td>skoda fabia</td>\n",
       "      <td>90000</td>\n",
       "      <td>gasoline</td>\n",
       "      <td>0</td>\n",
       "    </tr>\n",
       "    <tr>\n",
       "      <th>3</th>\n",
       "      <td>650</td>\n",
       "      <td>sedan</td>\n",
       "      <td>1995</td>\n",
       "      <td>0</td>\n",
       "      <td>102</td>\n",
       "      <td>bmw 3er</td>\n",
       "      <td>150000</td>\n",
       "      <td>petrol</td>\n",
       "      <td>1</td>\n",
       "    </tr>\n",
       "    <tr>\n",
       "      <th>4</th>\n",
       "      <td>2200</td>\n",
       "      <td>convertible</td>\n",
       "      <td>2004</td>\n",
       "      <td>0</td>\n",
       "      <td>109</td>\n",
       "      <td>peugeot 2_reihe</td>\n",
       "      <td>150000</td>\n",
       "      <td>petrol</td>\n",
       "      <td>0</td>\n",
       "    </tr>\n",
       "  </tbody>\n",
       "</table>\n",
       "</div>"
      ],
      "text/plain": [
       "   price vehicle_type  registration_year  gearbox  power            model  \\\n",
       "0   9800          suv               2004        1    163       jeep grand   \n",
       "1   1500        small               2001        0     75  volkswagen golf   \n",
       "2   3600        small               2008        0     69      skoda fabia   \n",
       "3    650        sedan               1995        0    102          bmw 3er   \n",
       "4   2200  convertible               2004        0    109  peugeot 2_reihe   \n",
       "\n",
       "   kilometer fuel_type  repaired  \n",
       "0     125000  gasoline         1  \n",
       "1     150000    petrol         0  \n",
       "2      90000  gasoline         0  \n",
       "3     150000    petrol         1  \n",
       "4     150000    petrol         0  "
      ]
     },
     "metadata": {},
     "output_type": "display_data"
    }
   ],
   "source": [
    "display(df.head())"
   ]
  },
  {
   "cell_type": "code",
   "execution_count": 37,
   "metadata": {},
   "outputs": [
    {
     "data": {
      "text/plain": [
       "price                1.000000\n",
       "registration_year    0.512401\n",
       "gearbox              0.191798\n",
       "power                0.381141\n",
       "kilometer           -0.341819\n",
       "repaired            -0.250116\n",
       "Name: price, dtype: float64"
      ]
     },
     "execution_count": 37,
     "metadata": {},
     "output_type": "execute_result"
    }
   ],
   "source": [
    "# выведем матрицу корреляций коэффициента Пирсона по целевому признаку\n",
    "df.corr()['price']"
   ]
  },
  {
   "cell_type": "markdown",
   "metadata": {},
   "source": [
    "### Вывод"
   ]
  },
  {
   "cell_type": "markdown",
   "metadata": {},
   "source": [
    "Предобработали данные:\n",
    "\n",
    "- удалили дубликаты,\n",
    "- убрали выбросы в признаках,\n",
    "- заполнили пропуски в данных.\n",
    "\n",
    "Наблюдаем закономерную корреляцию с признаками. Данные готовы к обучению."
   ]
  },
  {
   "cell_type": "markdown",
   "metadata": {},
   "source": [
    "## Обучение моделей"
   ]
  },
  {
   "cell_type": "code",
   "execution_count": 38,
   "metadata": {},
   "outputs": [],
   "source": [
    "# выделяем целевой признак и признаки:\n",
    "target = df[\"price\"]\n",
    "features = df.drop(\"price\", axis=1)\n"
   ]
  },
  {
   "cell_type": "code",
   "execution_count": 39,
   "metadata": {},
   "outputs": [],
   "source": [
    "# выделяем 75% данных для обучающей выборки, остальные данные для тестовой\n",
    "features_train, features_test, target_train, target_test = train_test_split(\n",
    "    features, target, test_size = 0.25, random_state = RANDOM_STATE)"
   ]
  },
  {
   "cell_type": "code",
   "execution_count": 40,
   "metadata": {},
   "outputs": [],
   "source": [
    "# кодируем категориальные признаки:\n",
    "encoder = OrdinalEncoder(handle_unknown='ignore')\n",
    "\n",
    "features_train_ord = features_train[[\"vehicle_type\",\"fuel_type\",\"model\"]]\n",
    "features_train_ord = pd.DataFrame(encoder.fit_transform(features_train_ord),\n",
    "                                 columns=features_train_ord.columns,\n",
    "                                 index=features_train_ord.index)\n",
    "\n",
    "\n"
   ]
  },
  {
   "cell_type": "code",
   "execution_count": 41,
   "metadata": {},
   "outputs": [],
   "source": [
    "features_test_ord = features_test[[\"vehicle_type\",\"fuel_type\",\"model\"]]\n",
    "features_test_ord = pd.DataFrame(encoder.transform(features_test_ord),\n",
    "                                 columns=features_test_ord.columns,\n",
    "                                 index=features_test_ord.index)"
   ]
  },
  {
   "cell_type": "code",
   "execution_count": 42,
   "metadata": {},
   "outputs": [],
   "source": [
    "features_train = features_train.drop(columns=[\"vehicle_type\",\"fuel_type\",\"model\"])\n"
   ]
  },
  {
   "cell_type": "code",
   "execution_count": 43,
   "metadata": {},
   "outputs": [],
   "source": [
    "features_train = pd.merge(\n",
    "    features_train, features_train_ord, left_index=True, right_index=True)\n"
   ]
  },
  {
   "cell_type": "code",
   "execution_count": 44,
   "metadata": {},
   "outputs": [],
   "source": [
    "features_test = features_test.drop(columns=[\"vehicle_type\",\"fuel_type\",\"model\"])"
   ]
  },
  {
   "cell_type": "code",
   "execution_count": 45,
   "metadata": {},
   "outputs": [],
   "source": [
    "features_test = pd.merge(features_test, features_test_ord, left_index=True, right_index=True)\n"
   ]
  },
  {
   "cell_type": "markdown",
   "metadata": {},
   "source": [
    "------------------------------------------------"
   ]
  },
  {
   "cell_type": "markdown",
   "metadata": {},
   "source": [
    "Модель RandomForestRegressor"
   ]
  },
  {
   "cell_type": "code",
   "execution_count": 46,
   "metadata": {},
   "outputs": [],
   "source": [
    "# подбираем гиперпарамаметры для модели случайного леса\n",
    "param = {'max_depth': range(1,21,5),\n",
    "         'n_estimators':range(1,10,1),\n",
    "          'min_samples_leaf': range (1,8)}\n",
    "grid_search_rfr = GridSearchCV(\n",
    "     RandomForestRegressor(\n",
    "         random_state=RANDOM_STATE), param, verbose=1, cv=3, scoring = 'neg_root_mean_squared_error')\n"
   ]
  },
  {
   "cell_type": "code",
   "execution_count": 47,
   "metadata": {},
   "outputs": [
    {
     "name": "stdout",
     "output_type": "stream",
     "text": [
      "Fitting 3 folds for each of 252 candidates, totalling 756 fits\n",
      "CPU times: user 8min 38s, sys: 633 ms, total: 8min 39s\n",
      "Wall time: 8min 42s\n"
     ]
    },
    {
     "data": {
      "text/plain": [
       "GridSearchCV(cv=3, estimator=RandomForestRegressor(random_state=12345),\n",
       "             param_grid={'max_depth': range(1, 21, 5),\n",
       "                         'min_samples_leaf': range(1, 8),\n",
       "                         'n_estimators': range(1, 10)},\n",
       "             scoring='neg_root_mean_squared_error', verbose=1)"
      ]
     },
     "execution_count": 47,
     "metadata": {},
     "output_type": "execute_result"
    }
   ],
   "source": [
    "%%time\n",
    "\n",
    "# инициализируем модель случайного леса\n",
    "grid_search_rfr.fit(features_train, target_train)"
   ]
  },
  {
   "cell_type": "code",
   "execution_count": 48,
   "metadata": {},
   "outputs": [
    {
     "name": "stdout",
     "output_type": "stream",
     "text": [
      "CPU times: user 378 ms, sys: 4 ms, total: 382 ms\n",
      "Wall time: 398 ms\n"
     ]
    }
   ],
   "source": [
    "%%time\n",
    "\n",
    "# измеряем время предсказания для модели случайный лес\n",
    "predictions = grid_search_rfr.predict(features_train)"
   ]
  },
  {
   "cell_type": "code",
   "execution_count": 49,
   "metadata": {},
   "outputs": [
    {
     "data": {
      "text/plain": [
       "RandomForestRegressor(max_depth=16, min_samples_leaf=2, n_estimators=9,\n",
       "                      random_state=12345)"
      ]
     },
     "execution_count": 49,
     "metadata": {},
     "output_type": "execute_result"
    }
   ],
   "source": [
    "# выводим модель случайного леса с лучшими гиперпараметрами\n",
    "grid_search_rfr.best_estimator_\n"
   ]
  },
  {
   "cell_type": "code",
   "execution_count": 50,
   "metadata": {},
   "outputs": [
    {
     "name": "stdout",
     "output_type": "stream",
     "text": [
      "1371.0\n"
     ]
    }
   ],
   "source": [
    "# RMSE для лучшей модели\n",
    "grid_search_rfr_score = (grid_search_rfr.best_score_*-1).round()\n",
    "print(grid_search_rfr_score)"
   ]
  },
  {
   "cell_type": "markdown",
   "metadata": {},
   "source": [
    "----------------------------------------------------------------"
   ]
  },
  {
   "cell_type": "markdown",
   "metadata": {},
   "source": [
    "Модель CatBoostRegressor"
   ]
  },
  {
   "cell_type": "code",
   "execution_count": 51,
   "metadata": {},
   "outputs": [],
   "source": [
    "# подбираем гиперпарамаметры для модели CatBoostRegressor\n",
    "param = {'max_depth': range(1,21,10),\n",
    "         'learning_rate':range(1,2,1)}\n",
    "grid_search_cbr = GridSearchCV(\n",
    "     CatBoostRegressor(\n",
    "         random_state=RANDOM_STATE), param, verbose=1, cv=3, scoring = 'neg_root_mean_squared_error')\n"
   ]
  },
  {
   "cell_type": "code",
   "execution_count": 52,
   "metadata": {},
   "outputs": [
    {
     "name": "stdout",
     "output_type": "stream",
     "text": [
      "Fitting 3 folds for each of 2 candidates, totalling 6 fits\n",
      "0:\tlearn: 2916.6707182\ttotal: 82.1ms\tremaining: 1m 22s\n",
      "1:\tlearn: 2646.3106373\ttotal: 97.6ms\tremaining: 48.7s\n",
      "2:\tlearn: 2531.4760800\ttotal: 109ms\tremaining: 36.3s\n",
      "3:\tlearn: 2383.9856336\ttotal: 119ms\tremaining: 29.7s\n",
      "4:\tlearn: 2337.2872572\ttotal: 131ms\tremaining: 26s\n",
      "5:\tlearn: 2292.3886054\ttotal: 141ms\tremaining: 23.4s\n",
      "6:\tlearn: 2225.5022429\ttotal: 153ms\tremaining: 21.6s\n",
      "7:\tlearn: 2173.6518504\ttotal: 170ms\tremaining: 21s\n",
      "8:\tlearn: 2135.2061245\ttotal: 182ms\tremaining: 20s\n",
      "9:\tlearn: 2113.0896033\ttotal: 193ms\tremaining: 19.1s\n",
      "10:\tlearn: 2095.6056023\ttotal: 204ms\tremaining: 18.3s\n",
      "11:\tlearn: 2078.9558675\ttotal: 215ms\tremaining: 17.7s\n",
      "12:\tlearn: 2057.4122508\ttotal: 226ms\tremaining: 17.1s\n",
      "13:\tlearn: 2044.1822434\ttotal: 236ms\tremaining: 16.6s\n",
      "14:\tlearn: 2018.6020099\ttotal: 247ms\tremaining: 16.2s\n",
      "15:\tlearn: 2002.8274693\ttotal: 258ms\tremaining: 15.9s\n",
      "16:\tlearn: 1986.3865850\ttotal: 272ms\tremaining: 15.7s\n",
      "17:\tlearn: 1977.2302398\ttotal: 287ms\tremaining: 15.6s\n",
      "18:\tlearn: 1965.5016510\ttotal: 302ms\tremaining: 15.6s\n",
      "19:\tlearn: 1957.8144616\ttotal: 315ms\tremaining: 15.4s\n",
      "20:\tlearn: 1948.6249241\ttotal: 326ms\tremaining: 15.2s\n",
      "21:\tlearn: 1942.1556244\ttotal: 336ms\tremaining: 14.9s\n",
      "22:\tlearn: 1937.1602989\ttotal: 347ms\tremaining: 14.7s\n",
      "23:\tlearn: 1927.4755609\ttotal: 359ms\tremaining: 14.6s\n",
      "24:\tlearn: 1916.7150664\ttotal: 370ms\tremaining: 14.4s\n",
      "25:\tlearn: 1910.4579533\ttotal: 381ms\tremaining: 14.3s\n",
      "26:\tlearn: 1905.2537205\ttotal: 392ms\tremaining: 14.1s\n",
      "27:\tlearn: 1900.6065357\ttotal: 402ms\tremaining: 14s\n",
      "28:\tlearn: 1894.4704000\ttotal: 413ms\tremaining: 13.8s\n",
      "29:\tlearn: 1890.0323662\ttotal: 423ms\tremaining: 13.7s\n",
      "30:\tlearn: 1885.7966380\ttotal: 434ms\tremaining: 13.6s\n",
      "31:\tlearn: 1880.6730288\ttotal: 447ms\tremaining: 13.5s\n",
      "32:\tlearn: 1874.7014469\ttotal: 461ms\tremaining: 13.5s\n",
      "33:\tlearn: 1870.4509080\ttotal: 476ms\tremaining: 13.5s\n",
      "34:\tlearn: 1860.6760012\ttotal: 489ms\tremaining: 13.5s\n",
      "35:\tlearn: 1854.9682813\ttotal: 501ms\tremaining: 13.4s\n",
      "36:\tlearn: 1851.3156432\ttotal: 512ms\tremaining: 13.3s\n",
      "37:\tlearn: 1847.7869343\ttotal: 522ms\tremaining: 13.2s\n",
      "38:\tlearn: 1844.5096397\ttotal: 532ms\tremaining: 13.1s\n",
      "39:\tlearn: 1841.1830907\ttotal: 544ms\tremaining: 13.1s\n",
      "40:\tlearn: 1838.2687882\ttotal: 556ms\tremaining: 13s\n",
      "41:\tlearn: 1833.9393203\ttotal: 568ms\tremaining: 13s\n",
      "42:\tlearn: 1831.1559993\ttotal: 580ms\tremaining: 12.9s\n",
      "43:\tlearn: 1827.4819413\ttotal: 590ms\tremaining: 12.8s\n",
      "44:\tlearn: 1824.7654539\ttotal: 601ms\tremaining: 12.8s\n",
      "45:\tlearn: 1822.1320770\ttotal: 612ms\tremaining: 12.7s\n",
      "46:\tlearn: 1819.8076923\ttotal: 622ms\tremaining: 12.6s\n",
      "47:\tlearn: 1818.1135959\ttotal: 639ms\tremaining: 12.7s\n",
      "48:\tlearn: 1816.5494960\ttotal: 650ms\tremaining: 12.6s\n",
      "49:\tlearn: 1814.4430299\ttotal: 661ms\tremaining: 12.6s\n",
      "50:\tlearn: 1811.5117887\ttotal: 671ms\tremaining: 12.5s\n",
      "51:\tlearn: 1809.2660436\ttotal: 681ms\tremaining: 12.4s\n",
      "52:\tlearn: 1807.6334227\ttotal: 692ms\tremaining: 12.4s\n",
      "53:\tlearn: 1805.9160550\ttotal: 702ms\tremaining: 12.3s\n",
      "54:\tlearn: 1804.1904619\ttotal: 713ms\tremaining: 12.2s\n",
      "55:\tlearn: 1802.9156804\ttotal: 724ms\tremaining: 12.2s\n",
      "56:\tlearn: 1800.7626837\ttotal: 737ms\tremaining: 12.2s\n",
      "57:\tlearn: 1799.4802499\ttotal: 747ms\tremaining: 12.1s\n",
      "58:\tlearn: 1798.1511646\ttotal: 757ms\tremaining: 12.1s\n",
      "59:\tlearn: 1795.2241424\ttotal: 768ms\tremaining: 12s\n",
      "60:\tlearn: 1792.4197088\ttotal: 778ms\tremaining: 12s\n",
      "61:\tlearn: 1790.5624824\ttotal: 789ms\tremaining: 11.9s\n",
      "62:\tlearn: 1788.8990443\ttotal: 799ms\tremaining: 11.9s\n",
      "63:\tlearn: 1787.1622191\ttotal: 809ms\tremaining: 11.8s\n",
      "64:\tlearn: 1785.8494583\ttotal: 821ms\tremaining: 11.8s\n",
      "65:\tlearn: 1784.5377439\ttotal: 834ms\tremaining: 11.8s\n",
      "66:\tlearn: 1782.8965154\ttotal: 844ms\tremaining: 11.8s\n",
      "67:\tlearn: 1780.9287998\ttotal: 854ms\tremaining: 11.7s\n",
      "68:\tlearn: 1779.4736355\ttotal: 865ms\tremaining: 11.7s\n",
      "69:\tlearn: 1777.6072565\ttotal: 877ms\tremaining: 11.6s\n",
      "70:\tlearn: 1776.2177468\ttotal: 891ms\tremaining: 11.7s\n",
      "71:\tlearn: 1774.8781826\ttotal: 902ms\tremaining: 11.6s\n",
      "72:\tlearn: 1773.3136162\ttotal: 914ms\tremaining: 11.6s\n",
      "73:\tlearn: 1771.7511635\ttotal: 926ms\tremaining: 11.6s\n",
      "74:\tlearn: 1770.4447158\ttotal: 937ms\tremaining: 11.6s\n",
      "75:\tlearn: 1769.1680862\ttotal: 947ms\tremaining: 11.5s\n",
      "76:\tlearn: 1768.0658640\ttotal: 957ms\tremaining: 11.5s\n",
      "77:\tlearn: 1767.0166935\ttotal: 968ms\tremaining: 11.4s\n",
      "78:\tlearn: 1766.1487986\ttotal: 979ms\tremaining: 11.4s\n",
      "79:\tlearn: 1764.4022674\ttotal: 989ms\tremaining: 11.4s\n",
      "80:\tlearn: 1763.3230067\ttotal: 1s\tremaining: 11.4s\n",
      "81:\tlearn: 1762.5401991\ttotal: 1.01s\tremaining: 11.3s\n",
      "82:\tlearn: 1761.8556086\ttotal: 1.02s\tremaining: 11.3s\n",
      "83:\tlearn: 1761.1398397\ttotal: 1.04s\tremaining: 11.3s\n",
      "84:\tlearn: 1760.1894935\ttotal: 1.05s\tremaining: 11.3s\n",
      "85:\tlearn: 1759.3685287\ttotal: 1.06s\tremaining: 11.3s\n",
      "86:\tlearn: 1758.5874710\ttotal: 1.07s\tremaining: 11.3s\n",
      "87:\tlearn: 1757.7426282\ttotal: 1.08s\tremaining: 11.2s\n",
      "88:\tlearn: 1756.8885515\ttotal: 1.1s\tremaining: 11.2s\n",
      "89:\tlearn: 1756.0307753\ttotal: 1.11s\tremaining: 11.2s\n",
      "90:\tlearn: 1755.4127897\ttotal: 1.12s\tremaining: 11.2s\n",
      "91:\tlearn: 1754.4981806\ttotal: 1.13s\tremaining: 11.2s\n",
      "92:\tlearn: 1753.4585274\ttotal: 1.14s\tremaining: 11.1s\n",
      "93:\tlearn: 1752.8367469\ttotal: 1.15s\tremaining: 11.1s\n",
      "94:\tlearn: 1752.1377137\ttotal: 1.16s\tremaining: 11.1s\n",
      "95:\tlearn: 1751.5329666\ttotal: 1.17s\tremaining: 11.1s\n",
      "96:\tlearn: 1750.8501858\ttotal: 1.18s\tremaining: 11s\n",
      "97:\tlearn: 1749.2976251\ttotal: 1.2s\tremaining: 11s\n",
      "98:\tlearn: 1748.3171739\ttotal: 1.21s\tremaining: 11s\n",
      "99:\tlearn: 1747.4332511\ttotal: 1.22s\tremaining: 11s\n",
      "100:\tlearn: 1746.7110321\ttotal: 1.23s\tremaining: 11s\n",
      "101:\tlearn: 1746.1656125\ttotal: 1.24s\tremaining: 10.9s\n",
      "102:\tlearn: 1744.9321313\ttotal: 1.25s\tremaining: 10.9s\n",
      "103:\tlearn: 1744.2363395\ttotal: 1.26s\tremaining: 10.9s\n",
      "104:\tlearn: 1743.7113084\ttotal: 1.27s\tremaining: 10.9s\n",
      "105:\tlearn: 1742.9556328\ttotal: 1.29s\tremaining: 10.8s\n",
      "106:\tlearn: 1742.0031363\ttotal: 1.3s\tremaining: 10.8s\n",
      "107:\tlearn: 1741.0684401\ttotal: 1.31s\tremaining: 10.8s\n",
      "108:\tlearn: 1740.4984691\ttotal: 1.32s\tremaining: 10.8s\n",
      "109:\tlearn: 1739.7556323\ttotal: 1.33s\tremaining: 10.8s\n",
      "110:\tlearn: 1739.1358973\ttotal: 1.34s\tremaining: 10.7s\n",
      "111:\tlearn: 1738.4193043\ttotal: 1.35s\tremaining: 10.7s\n",
      "112:\tlearn: 1737.7392482\ttotal: 1.36s\tremaining: 10.7s\n",
      "113:\tlearn: 1737.1346104\ttotal: 1.37s\tremaining: 10.7s\n",
      "114:\tlearn: 1736.6150328\ttotal: 1.39s\tremaining: 10.7s\n",
      "115:\tlearn: 1736.0825234\ttotal: 1.4s\tremaining: 10.7s\n",
      "116:\tlearn: 1735.5144854\ttotal: 1.41s\tremaining: 10.6s\n",
      "117:\tlearn: 1735.0629468\ttotal: 1.42s\tremaining: 10.6s\n",
      "118:\tlearn: 1734.6593895\ttotal: 1.43s\tremaining: 10.6s\n",
      "119:\tlearn: 1733.9011448\ttotal: 1.44s\tremaining: 10.6s\n",
      "120:\tlearn: 1733.0944932\ttotal: 1.45s\tremaining: 10.5s\n",
      "121:\tlearn: 1732.3094828\ttotal: 1.46s\tremaining: 10.5s\n",
      "122:\tlearn: 1731.7696057\ttotal: 1.47s\tremaining: 10.5s\n",
      "123:\tlearn: 1731.1923566\ttotal: 1.49s\tremaining: 10.5s\n",
      "124:\tlearn: 1730.5851548\ttotal: 1.5s\tremaining: 10.5s\n",
      "125:\tlearn: 1729.9141841\ttotal: 1.51s\tremaining: 10.5s\n",
      "126:\tlearn: 1729.5065363\ttotal: 1.52s\tremaining: 10.5s\n",
      "127:\tlearn: 1728.9730914\ttotal: 1.53s\tremaining: 10.4s\n",
      "128:\tlearn: 1728.3469236\ttotal: 1.54s\tremaining: 10.4s\n",
      "129:\tlearn: 1727.7764749\ttotal: 1.55s\tremaining: 10.4s\n",
      "130:\tlearn: 1727.2905950\ttotal: 1.56s\tremaining: 10.4s\n",
      "131:\tlearn: 1726.8122752\ttotal: 1.57s\tremaining: 10.4s\n",
      "132:\tlearn: 1726.3165611\ttotal: 1.59s\tremaining: 10.3s\n",
      "133:\tlearn: 1725.9759846\ttotal: 1.6s\tremaining: 10.3s\n",
      "134:\tlearn: 1725.6202856\ttotal: 1.61s\tremaining: 10.3s\n",
      "135:\tlearn: 1725.2671382\ttotal: 1.62s\tremaining: 10.3s\n",
      "136:\tlearn: 1724.8144601\ttotal: 1.63s\tremaining: 10.3s\n",
      "137:\tlearn: 1724.1978323\ttotal: 1.64s\tremaining: 10.2s\n",
      "138:\tlearn: 1723.7304519\ttotal: 1.65s\tremaining: 10.2s\n",
      "139:\tlearn: 1723.2668245\ttotal: 1.66s\tremaining: 10.2s\n",
      "140:\tlearn: 1722.9731415\ttotal: 1.67s\tremaining: 10.2s\n",
      "141:\tlearn: 1722.6946033\ttotal: 1.69s\tremaining: 10.2s\n",
      "142:\tlearn: 1722.3696400\ttotal: 1.7s\tremaining: 10.2s\n",
      "143:\tlearn: 1721.8990701\ttotal: 1.71s\tremaining: 10.1s\n",
      "144:\tlearn: 1721.5044300\ttotal: 1.72s\tremaining: 10.1s\n",
      "145:\tlearn: 1721.0509434\ttotal: 1.73s\tremaining: 10.1s\n",
      "146:\tlearn: 1720.6135834\ttotal: 1.74s\tremaining: 10.1s\n",
      "147:\tlearn: 1720.1921262\ttotal: 1.75s\tremaining: 10.1s\n",
      "148:\tlearn: 1719.8670641\ttotal: 1.76s\tremaining: 10.1s\n",
      "149:\tlearn: 1719.5406528\ttotal: 1.77s\tremaining: 10s\n",
      "150:\tlearn: 1719.0398043\ttotal: 1.79s\tremaining: 10.1s\n",
      "151:\tlearn: 1718.6072570\ttotal: 1.8s\tremaining: 10.1s\n",
      "152:\tlearn: 1718.2336864\ttotal: 1.82s\tremaining: 10.1s\n",
      "153:\tlearn: 1717.9110708\ttotal: 1.83s\tremaining: 10s\n",
      "154:\tlearn: 1717.5719372\ttotal: 1.84s\tremaining: 10s\n",
      "155:\tlearn: 1717.1851673\ttotal: 1.85s\tremaining: 10s\n",
      "156:\tlearn: 1716.9014965\ttotal: 1.86s\tremaining: 10s\n",
      "157:\tlearn: 1716.5748200\ttotal: 1.87s\tremaining: 9.99s\n",
      "158:\tlearn: 1716.1940343\ttotal: 1.89s\tremaining: 9.97s\n",
      "159:\tlearn: 1715.8297603\ttotal: 1.9s\tremaining: 9.96s\n",
      "160:\tlearn: 1715.4927897\ttotal: 1.91s\tremaining: 9.94s\n",
      "161:\tlearn: 1715.1801391\ttotal: 1.92s\tremaining: 9.92s\n",
      "162:\tlearn: 1714.8450648\ttotal: 1.93s\tremaining: 9.9s\n",
      "163:\tlearn: 1714.5273348\ttotal: 1.94s\tremaining: 9.91s\n",
      "164:\tlearn: 1714.2327775\ttotal: 1.96s\tremaining: 9.92s\n",
      "165:\tlearn: 1713.9635962\ttotal: 1.97s\tremaining: 9.92s\n",
      "166:\tlearn: 1713.5909646\ttotal: 1.99s\tremaining: 9.92s\n",
      "167:\tlearn: 1713.3465382\ttotal: 2s\tremaining: 9.93s\n",
      "168:\tlearn: 1713.0430482\ttotal: 2.02s\tremaining: 9.93s\n",
      "169:\tlearn: 1712.7955560\ttotal: 2.04s\tremaining: 9.95s\n",
      "170:\tlearn: 1712.4312057\ttotal: 2.05s\tremaining: 9.95s\n",
      "171:\tlearn: 1712.2096128\ttotal: 2.06s\tremaining: 9.94s\n",
      "172:\tlearn: 1711.8959295\ttotal: 2.08s\tremaining: 9.92s\n",
      "173:\tlearn: 1711.5651188\ttotal: 2.09s\tremaining: 9.9s\n",
      "174:\tlearn: 1711.1898354\ttotal: 2.1s\tremaining: 9.88s\n",
      "175:\tlearn: 1710.8207281\ttotal: 2.11s\tremaining: 9.87s\n",
      "176:\tlearn: 1710.5261749\ttotal: 2.12s\tremaining: 9.86s\n",
      "177:\tlearn: 1710.2550611\ttotal: 2.13s\tremaining: 9.85s\n",
      "178:\tlearn: 1709.8985683\ttotal: 2.14s\tremaining: 9.83s\n",
      "179:\tlearn: 1709.6697165\ttotal: 2.16s\tremaining: 9.83s\n",
      "180:\tlearn: 1709.3719881\ttotal: 2.17s\tremaining: 9.83s\n",
      "181:\tlearn: 1709.1372267\ttotal: 2.18s\tremaining: 9.81s\n",
      "182:\tlearn: 1708.9133117\ttotal: 2.19s\tremaining: 9.79s\n",
      "183:\tlearn: 1708.6950175\ttotal: 2.2s\tremaining: 9.77s\n",
      "184:\tlearn: 1708.4808883\ttotal: 2.21s\tremaining: 9.76s\n",
      "185:\tlearn: 1708.2772367\ttotal: 2.23s\tremaining: 9.74s\n",
      "186:\tlearn: 1708.0124892\ttotal: 2.24s\tremaining: 9.73s\n",
      "187:\tlearn: 1707.6271480\ttotal: 2.25s\tremaining: 9.71s\n",
      "188:\tlearn: 1707.3353131\ttotal: 2.26s\tremaining: 9.7s\n",
      "189:\tlearn: 1707.0501921\ttotal: 2.27s\tremaining: 9.68s\n",
      "190:\tlearn: 1706.7824733\ttotal: 2.28s\tremaining: 9.66s\n",
      "191:\tlearn: 1706.4922034\ttotal: 2.29s\tremaining: 9.65s\n",
      "192:\tlearn: 1706.2533484\ttotal: 2.3s\tremaining: 9.63s\n",
      "193:\tlearn: 1706.0303726\ttotal: 2.32s\tremaining: 9.63s\n",
      "194:\tlearn: 1705.8175696\ttotal: 2.33s\tremaining: 9.62s\n",
      "195:\tlearn: 1705.6134744\ttotal: 2.34s\tremaining: 9.6s\n",
      "196:\tlearn: 1705.3309088\ttotal: 2.35s\tremaining: 9.59s\n",
      "197:\tlearn: 1705.0827803\ttotal: 2.36s\tremaining: 9.57s\n",
      "198:\tlearn: 1704.8463849\ttotal: 2.37s\tremaining: 9.55s\n",
      "199:\tlearn: 1704.6718174\ttotal: 2.38s\tremaining: 9.53s\n",
      "200:\tlearn: 1704.4998462\ttotal: 2.39s\tremaining: 9.52s\n",
      "201:\tlearn: 1704.2887484\ttotal: 2.41s\tremaining: 9.52s\n",
      "202:\tlearn: 1704.0754127\ttotal: 2.42s\tremaining: 9.51s\n",
      "203:\tlearn: 1703.7641836\ttotal: 2.43s\tremaining: 9.49s\n",
      "204:\tlearn: 1703.5109851\ttotal: 2.44s\tremaining: 9.47s\n",
      "205:\tlearn: 1703.3238830\ttotal: 2.45s\tremaining: 9.46s\n",
      "206:\tlearn: 1703.0910968\ttotal: 2.46s\tremaining: 9.44s\n",
      "207:\tlearn: 1702.8734189\ttotal: 2.47s\tremaining: 9.42s\n",
      "208:\tlearn: 1702.6603148\ttotal: 2.48s\tremaining: 9.4s\n",
      "209:\tlearn: 1702.3975108\ttotal: 2.5s\tremaining: 9.39s\n",
      "210:\tlearn: 1702.1340700\ttotal: 2.51s\tremaining: 9.38s\n",
      "211:\tlearn: 1701.9348413\ttotal: 2.52s\tremaining: 9.37s\n",
      "212:\tlearn: 1701.7460164\ttotal: 2.53s\tremaining: 9.35s\n",
      "213:\tlearn: 1701.5569531\ttotal: 2.54s\tremaining: 9.33s\n",
      "214:\tlearn: 1701.2900256\ttotal: 2.55s\tremaining: 9.32s\n",
      "215:\tlearn: 1701.0841690\ttotal: 2.56s\tremaining: 9.3s\n",
      "216:\tlearn: 1700.9254104\ttotal: 2.57s\tremaining: 9.28s\n",
      "217:\tlearn: 1700.7745670\ttotal: 2.58s\tremaining: 9.27s\n",
      "218:\tlearn: 1700.6365437\ttotal: 2.6s\tremaining: 9.26s\n",
      "219:\tlearn: 1700.4000643\ttotal: 2.61s\tremaining: 9.24s\n",
      "220:\tlearn: 1700.2165439\ttotal: 2.62s\tremaining: 9.23s\n",
      "221:\tlearn: 1700.0021357\ttotal: 2.63s\tremaining: 9.21s\n",
      "222:\tlearn: 1699.8069183\ttotal: 2.64s\tremaining: 9.2s\n",
      "223:\tlearn: 1699.6186439\ttotal: 2.65s\tremaining: 9.18s\n",
      "224:\tlearn: 1699.4370648\ttotal: 2.66s\tremaining: 9.16s\n",
      "225:\tlearn: 1699.2619459\ttotal: 2.67s\tremaining: 9.15s\n",
      "226:\tlearn: 1699.0876226\ttotal: 2.68s\tremaining: 9.14s\n",
      "227:\tlearn: 1698.9065506\ttotal: 2.7s\tremaining: 9.13s\n",
      "228:\tlearn: 1698.7836294\ttotal: 2.71s\tremaining: 9.11s\n",
      "229:\tlearn: 1698.6429117\ttotal: 2.72s\tremaining: 9.1s\n",
      "230:\tlearn: 1698.3419656\ttotal: 2.73s\tremaining: 9.08s\n",
      "231:\tlearn: 1698.1090885\ttotal: 2.74s\tremaining: 9.07s\n",
      "232:\tlearn: 1697.9288907\ttotal: 2.75s\tremaining: 9.05s\n",
      "233:\tlearn: 1697.7726570\ttotal: 2.76s\tremaining: 9.04s\n",
      "234:\tlearn: 1697.6390803\ttotal: 2.77s\tremaining: 9.02s\n",
      "235:\tlearn: 1697.4965932\ttotal: 2.78s\tremaining: 9.01s\n",
      "236:\tlearn: 1697.3171822\ttotal: 2.79s\tremaining: 9s\n",
      "237:\tlearn: 1697.1622627\ttotal: 2.81s\tremaining: 8.98s\n",
      "238:\tlearn: 1697.0273883\ttotal: 2.82s\tremaining: 8.97s\n",
      "239:\tlearn: 1696.8060429\ttotal: 2.83s\tremaining: 8.96s\n",
      "240:\tlearn: 1696.6337029\ttotal: 2.84s\tremaining: 8.94s\n",
      "241:\tlearn: 1696.4827237\ttotal: 2.85s\tremaining: 8.93s\n",
      "242:\tlearn: 1696.3637401\ttotal: 2.86s\tremaining: 8.91s\n",
      "243:\tlearn: 1696.2160026\ttotal: 2.87s\tremaining: 8.9s\n",
      "244:\tlearn: 1696.0153989\ttotal: 2.88s\tremaining: 8.89s\n",
      "245:\tlearn: 1695.7647965\ttotal: 2.9s\tremaining: 8.88s\n",
      "246:\tlearn: 1695.5553409\ttotal: 2.91s\tremaining: 8.86s\n",
      "247:\tlearn: 1695.4467206\ttotal: 2.92s\tremaining: 8.85s\n",
      "248:\tlearn: 1695.3105239\ttotal: 2.93s\tremaining: 8.83s\n",
      "249:\tlearn: 1695.1157114\ttotal: 2.94s\tremaining: 8.82s\n",
      "250:\tlearn: 1694.9778062\ttotal: 2.95s\tremaining: 8.8s\n",
      "251:\tlearn: 1694.8238527\ttotal: 2.96s\tremaining: 8.79s\n",
      "252:\tlearn: 1694.7038542\ttotal: 2.97s\tremaining: 8.78s\n",
      "253:\tlearn: 1694.4610303\ttotal: 2.98s\tremaining: 8.77s\n",
      "254:\tlearn: 1694.2627395\ttotal: 3s\tremaining: 8.75s\n",
      "255:\tlearn: 1694.0846012\ttotal: 3.01s\tremaining: 8.74s\n",
      "256:\tlearn: 1693.9002210\ttotal: 3.02s\tremaining: 8.72s\n",
      "257:\tlearn: 1693.7634758\ttotal: 3.03s\tremaining: 8.71s\n",
      "258:\tlearn: 1693.6261998\ttotal: 3.04s\tremaining: 8.69s\n",
      "259:\tlearn: 1693.5143456\ttotal: 3.05s\tremaining: 8.68s\n",
      "260:\tlearn: 1693.3922981\ttotal: 3.06s\tremaining: 8.67s\n",
      "261:\tlearn: 1693.2854731\ttotal: 3.07s\tremaining: 8.66s\n",
      "262:\tlearn: 1693.1430274\ttotal: 3.08s\tremaining: 8.64s\n",
      "263:\tlearn: 1693.0565712\ttotal: 3.1s\tremaining: 8.63s\n",
      "264:\tlearn: 1692.9730624\ttotal: 3.11s\tremaining: 8.62s\n",
      "265:\tlearn: 1692.7929296\ttotal: 3.12s\tremaining: 8.6s\n",
      "266:\tlearn: 1692.6857902\ttotal: 3.13s\tremaining: 8.59s\n",
      "267:\tlearn: 1692.5502768\ttotal: 3.14s\tremaining: 8.57s\n",
      "268:\tlearn: 1692.4549254\ttotal: 3.15s\tremaining: 8.57s\n",
      "269:\tlearn: 1692.3469880\ttotal: 3.17s\tremaining: 8.58s\n",
      "270:\tlearn: 1692.2464843\ttotal: 3.19s\tremaining: 8.58s\n",
      "271:\tlearn: 1692.1234508\ttotal: 3.2s\tremaining: 8.57s\n",
      "272:\tlearn: 1691.9720400\ttotal: 3.22s\tremaining: 8.57s\n",
      "273:\tlearn: 1691.8344671\ttotal: 3.23s\tremaining: 8.57s\n",
      "274:\tlearn: 1691.7324230\ttotal: 3.25s\tremaining: 8.58s\n",
      "275:\tlearn: 1691.5654235\ttotal: 3.27s\tremaining: 8.57s\n",
      "276:\tlearn: 1691.4043743\ttotal: 3.28s\tremaining: 8.56s\n",
      "277:\tlearn: 1691.2530938\ttotal: 3.29s\tremaining: 8.55s\n",
      "278:\tlearn: 1691.1361350\ttotal: 3.3s\tremaining: 8.54s\n",
      "279:\tlearn: 1690.9807863\ttotal: 3.31s\tremaining: 8.52s\n",
      "280:\tlearn: 1690.8309713\ttotal: 3.33s\tremaining: 8.51s\n",
      "281:\tlearn: 1690.6864871\ttotal: 3.34s\tremaining: 8.5s\n",
      "282:\tlearn: 1690.5471463\ttotal: 3.35s\tremaining: 8.49s\n",
      "283:\tlearn: 1690.4127644\ttotal: 3.36s\tremaining: 8.47s\n",
      "284:\tlearn: 1690.2831671\ttotal: 3.37s\tremaining: 8.46s\n",
      "285:\tlearn: 1690.1581827\ttotal: 3.38s\tremaining: 8.45s\n",
      "286:\tlearn: 1690.0376489\ttotal: 3.39s\tremaining: 8.43s\n",
      "287:\tlearn: 1689.9214060\ttotal: 3.4s\tremaining: 8.42s\n",
      "288:\tlearn: 1689.8093030\ttotal: 3.42s\tremaining: 8.41s\n",
      "289:\tlearn: 1689.7011913\ttotal: 3.43s\tremaining: 8.4s\n",
      "290:\tlearn: 1689.5969304\ttotal: 3.45s\tremaining: 8.4s\n",
      "291:\tlearn: 1689.4972482\ttotal: 3.46s\tremaining: 8.4s\n",
      "292:\tlearn: 1689.3304002\ttotal: 3.48s\tremaining: 8.39s\n",
      "293:\tlearn: 1689.1771271\ttotal: 3.49s\tremaining: 8.38s\n",
      "294:\tlearn: 1689.0363222\ttotal: 3.5s\tremaining: 8.37s\n",
      "295:\tlearn: 1688.9069719\ttotal: 3.51s\tremaining: 8.35s\n",
      "296:\tlearn: 1688.7881455\ttotal: 3.52s\tremaining: 8.34s\n",
      "297:\tlearn: 1688.6591093\ttotal: 3.53s\tremaining: 8.33s\n",
      "298:\tlearn: 1688.5314203\ttotal: 3.54s\tremaining: 8.31s\n",
      "299:\tlearn: 1688.4265077\ttotal: 3.56s\tremaining: 8.3s\n",
      "300:\tlearn: 1688.3297838\ttotal: 3.57s\tremaining: 8.28s\n",
      "301:\tlearn: 1688.2304118\ttotal: 3.58s\tremaining: 8.27s\n",
      "302:\tlearn: 1688.1306425\ttotal: 3.59s\tremaining: 8.25s\n",
      "303:\tlearn: 1688.0146766\ttotal: 3.6s\tremaining: 8.24s\n",
      "304:\tlearn: 1687.9387259\ttotal: 3.61s\tremaining: 8.23s\n",
      "305:\tlearn: 1687.8390649\ttotal: 3.62s\tremaining: 8.22s\n",
      "306:\tlearn: 1687.7430050\ttotal: 3.63s\tremaining: 8.2s\n",
      "307:\tlearn: 1687.6457499\ttotal: 3.65s\tremaining: 8.19s\n",
      "308:\tlearn: 1687.5425232\ttotal: 3.65s\tremaining: 8.18s\n",
      "309:\tlearn: 1687.4567252\ttotal: 3.67s\tremaining: 8.16s\n",
      "310:\tlearn: 1687.3501672\ttotal: 3.68s\tremaining: 8.15s\n",
      "311:\tlearn: 1687.2657469\ttotal: 3.69s\tremaining: 8.13s\n",
      "312:\tlearn: 1687.1878416\ttotal: 3.7s\tremaining: 8.12s\n",
      "313:\tlearn: 1687.0472413\ttotal: 3.71s\tremaining: 8.11s\n",
      "314:\tlearn: 1686.9384462\ttotal: 3.72s\tremaining: 8.1s\n",
      "315:\tlearn: 1686.8220908\ttotal: 3.73s\tremaining: 8.08s\n",
      "316:\tlearn: 1686.6700034\ttotal: 3.75s\tremaining: 8.07s\n",
      "317:\tlearn: 1686.5273694\ttotal: 3.76s\tremaining: 8.05s\n",
      "318:\tlearn: 1686.4081899\ttotal: 3.77s\tremaining: 8.04s\n",
      "319:\tlearn: 1686.3305467\ttotal: 3.78s\tremaining: 8.04s\n",
      "320:\tlearn: 1686.2233142\ttotal: 3.79s\tremaining: 8.03s\n",
      "321:\tlearn: 1686.1033929\ttotal: 3.81s\tremaining: 8.01s\n",
      "322:\tlearn: 1686.0027238\ttotal: 3.82s\tremaining: 8s\n",
      "323:\tlearn: 1685.9160113\ttotal: 3.83s\tremaining: 7.98s\n",
      "324:\tlearn: 1685.8270499\ttotal: 3.84s\tremaining: 7.97s\n",
      "325:\tlearn: 1685.7411149\ttotal: 3.85s\tremaining: 7.96s\n",
      "326:\tlearn: 1685.6592122\ttotal: 3.86s\tremaining: 7.94s\n",
      "327:\tlearn: 1685.5745389\ttotal: 3.87s\tremaining: 7.93s\n",
      "328:\tlearn: 1685.5032200\ttotal: 3.88s\tremaining: 7.91s\n",
      "329:\tlearn: 1685.3869698\ttotal: 3.89s\tremaining: 7.9s\n",
      "330:\tlearn: 1685.3161290\ttotal: 3.9s\tremaining: 7.89s\n",
      "331:\tlearn: 1685.1851350\ttotal: 3.92s\tremaining: 7.88s\n",
      "332:\tlearn: 1685.1121856\ttotal: 3.93s\tremaining: 7.86s\n",
      "333:\tlearn: 1685.0280101\ttotal: 3.94s\tremaining: 7.85s\n",
      "334:\tlearn: 1684.9577034\ttotal: 3.95s\tremaining: 7.83s\n",
      "335:\tlearn: 1684.8337480\ttotal: 3.96s\tremaining: 7.82s\n",
      "336:\tlearn: 1684.7254235\ttotal: 3.97s\tremaining: 7.81s\n",
      "337:\tlearn: 1684.6569469\ttotal: 3.98s\tremaining: 7.8s\n",
      "338:\tlearn: 1684.5353643\ttotal: 3.99s\tremaining: 7.79s\n",
      "339:\tlearn: 1684.4303842\ttotal: 4s\tremaining: 7.77s\n",
      "340:\tlearn: 1684.3397339\ttotal: 4.01s\tremaining: 7.76s\n",
      "341:\tlearn: 1684.2614602\ttotal: 4.03s\tremaining: 7.75s\n",
      "342:\tlearn: 1684.1803674\ttotal: 4.04s\tremaining: 7.74s\n",
      "343:\tlearn: 1684.0337018\ttotal: 4.05s\tremaining: 7.72s\n",
      "344:\tlearn: 1683.9139376\ttotal: 4.06s\tremaining: 7.71s\n",
      "345:\tlearn: 1683.8118525\ttotal: 4.07s\tremaining: 7.7s\n",
      "346:\tlearn: 1683.7098173\ttotal: 4.08s\tremaining: 7.69s\n",
      "347:\tlearn: 1683.6255531\ttotal: 4.09s\tremaining: 7.67s\n",
      "348:\tlearn: 1683.5364950\ttotal: 4.11s\tremaining: 7.66s\n",
      "349:\tlearn: 1683.4461140\ttotal: 4.12s\tremaining: 7.64s\n",
      "350:\tlearn: 1683.3396069\ttotal: 4.13s\tremaining: 7.63s\n",
      "351:\tlearn: 1683.2506173\ttotal: 4.14s\tremaining: 7.62s\n",
      "352:\tlearn: 1683.1467505\ttotal: 4.15s\tremaining: 7.6s\n",
      "353:\tlearn: 1683.0329618\ttotal: 4.16s\tremaining: 7.59s\n",
      "354:\tlearn: 1682.9151653\ttotal: 4.17s\tremaining: 7.58s\n",
      "355:\tlearn: 1682.8252571\ttotal: 4.18s\tremaining: 7.57s\n",
      "356:\tlearn: 1682.7552193\ttotal: 4.19s\tremaining: 7.55s\n",
      "357:\tlearn: 1682.6692317\ttotal: 4.2s\tremaining: 7.54s\n",
      "358:\tlearn: 1682.5698144\ttotal: 4.22s\tremaining: 7.53s\n",
      "359:\tlearn: 1682.4924074\ttotal: 4.23s\tremaining: 7.53s\n",
      "360:\tlearn: 1682.3911598\ttotal: 4.24s\tremaining: 7.51s\n",
      "361:\tlearn: 1682.2984956\ttotal: 4.26s\tremaining: 7.51s\n",
      "362:\tlearn: 1682.1951867\ttotal: 4.27s\tremaining: 7.5s\n",
      "363:\tlearn: 1682.1207711\ttotal: 4.28s\tremaining: 7.48s\n",
      "364:\tlearn: 1682.0227213\ttotal: 4.29s\tremaining: 7.47s\n",
      "365:\tlearn: 1681.9402135\ttotal: 4.3s\tremaining: 7.46s\n",
      "366:\tlearn: 1681.8176532\ttotal: 4.31s\tremaining: 7.44s\n",
      "367:\tlearn: 1681.7249662\ttotal: 4.32s\tremaining: 7.43s\n",
      "368:\tlearn: 1681.6312486\ttotal: 4.33s\tremaining: 7.41s\n",
      "369:\tlearn: 1681.5672417\ttotal: 4.35s\tremaining: 7.4s\n",
      "370:\tlearn: 1681.4911160\ttotal: 4.36s\tremaining: 7.39s\n",
      "371:\tlearn: 1681.4191376\ttotal: 4.37s\tremaining: 7.38s\n",
      "372:\tlearn: 1681.3432993\ttotal: 4.38s\tremaining: 7.37s\n",
      "373:\tlearn: 1681.2459645\ttotal: 4.39s\tremaining: 7.36s\n",
      "374:\tlearn: 1681.1575880\ttotal: 4.41s\tremaining: 7.34s\n",
      "375:\tlearn: 1681.0623441\ttotal: 4.42s\tremaining: 7.33s\n",
      "376:\tlearn: 1680.9899540\ttotal: 4.43s\tremaining: 7.31s\n",
      "377:\tlearn: 1680.9116578\ttotal: 4.44s\tremaining: 7.3s\n",
      "378:\tlearn: 1680.8382636\ttotal: 4.45s\tremaining: 7.29s\n",
      "379:\tlearn: 1680.7705639\ttotal: 4.47s\tremaining: 7.29s\n",
      "380:\tlearn: 1680.7140914\ttotal: 4.48s\tremaining: 7.27s\n",
      "381:\tlearn: 1680.6523541\ttotal: 4.49s\tremaining: 7.26s\n",
      "382:\tlearn: 1680.5879137\ttotal: 4.5s\tremaining: 7.25s\n",
      "383:\tlearn: 1680.4744026\ttotal: 4.51s\tremaining: 7.23s\n",
      "384:\tlearn: 1680.3867568\ttotal: 4.52s\tremaining: 7.22s\n",
      "385:\tlearn: 1680.3161738\ttotal: 4.53s\tremaining: 7.21s\n",
      "386:\tlearn: 1680.2320233\ttotal: 4.54s\tremaining: 7.2s\n",
      "387:\tlearn: 1680.1711575\ttotal: 4.55s\tremaining: 7.18s\n",
      "388:\tlearn: 1680.1108360\ttotal: 4.57s\tremaining: 7.17s\n",
      "389:\tlearn: 1680.0486896\ttotal: 4.58s\tremaining: 7.16s\n",
      "390:\tlearn: 1679.9951660\ttotal: 4.59s\tremaining: 7.15s\n",
      "391:\tlearn: 1679.9399539\ttotal: 4.6s\tremaining: 7.13s\n",
      "392:\tlearn: 1679.8695828\ttotal: 4.61s\tremaining: 7.12s\n",
      "393:\tlearn: 1679.8062250\ttotal: 4.62s\tremaining: 7.11s\n",
      "394:\tlearn: 1679.7399818\ttotal: 4.63s\tremaining: 7.09s\n",
      "395:\tlearn: 1679.6737934\ttotal: 4.64s\tremaining: 7.08s\n",
      "396:\tlearn: 1679.6121691\ttotal: 4.66s\tremaining: 7.07s\n",
      "397:\tlearn: 1679.5540318\ttotal: 4.67s\tremaining: 7.06s\n",
      "398:\tlearn: 1679.4918548\ttotal: 4.68s\tremaining: 7.04s\n",
      "399:\tlearn: 1679.4367861\ttotal: 4.69s\tremaining: 7.03s\n",
      "400:\tlearn: 1679.3612100\ttotal: 4.7s\tremaining: 7.02s\n",
      "401:\tlearn: 1679.2856767\ttotal: 4.71s\tremaining: 7s\n",
      "402:\tlearn: 1679.2421909\ttotal: 4.72s\tremaining: 6.99s\n",
      "403:\tlearn: 1679.1678437\ttotal: 4.73s\tremaining: 6.98s\n",
      "404:\tlearn: 1679.1102708\ttotal: 4.75s\tremaining: 6.97s\n",
      "405:\tlearn: 1679.0525246\ttotal: 4.76s\tremaining: 6.96s\n",
      "406:\tlearn: 1678.9494674\ttotal: 4.78s\tremaining: 6.96s\n",
      "407:\tlearn: 1678.8542408\ttotal: 4.79s\tremaining: 6.95s\n",
      "408:\tlearn: 1678.7658985\ttotal: 4.8s\tremaining: 6.94s\n",
      "409:\tlearn: 1678.6804956\ttotal: 4.82s\tremaining: 6.94s\n",
      "410:\tlearn: 1678.6337199\ttotal: 4.83s\tremaining: 6.93s\n",
      "411:\tlearn: 1678.5467665\ttotal: 4.84s\tremaining: 6.92s\n",
      "412:\tlearn: 1678.4629880\ttotal: 4.86s\tremaining: 6.9s\n",
      "413:\tlearn: 1678.3946211\ttotal: 4.87s\tremaining: 6.89s\n",
      "414:\tlearn: 1678.3186141\ttotal: 4.88s\tremaining: 6.87s\n",
      "415:\tlearn: 1678.2485423\ttotal: 4.89s\tremaining: 6.86s\n",
      "416:\tlearn: 1678.1740838\ttotal: 4.9s\tremaining: 6.85s\n",
      "417:\tlearn: 1678.1053967\ttotal: 4.91s\tremaining: 6.84s\n",
      "418:\tlearn: 1678.0225014\ttotal: 4.92s\tremaining: 6.83s\n",
      "419:\tlearn: 1677.9442138\ttotal: 4.93s\tremaining: 6.81s\n",
      "420:\tlearn: 1677.8932665\ttotal: 4.94s\tremaining: 6.8s\n",
      "421:\tlearn: 1677.8423446\ttotal: 4.95s\tremaining: 6.79s\n",
      "422:\tlearn: 1677.7715501\ttotal: 4.96s\tremaining: 6.77s\n",
      "423:\tlearn: 1677.6808026\ttotal: 4.97s\tremaining: 6.76s\n",
      "424:\tlearn: 1677.5918612\ttotal: 4.99s\tremaining: 6.75s\n",
      "425:\tlearn: 1677.5341966\ttotal: 5s\tremaining: 6.73s\n",
      "426:\tlearn: 1677.4717618\ttotal: 5.01s\tremaining: 6.72s\n",
      "427:\tlearn: 1677.4175785\ttotal: 5.02s\tremaining: 6.71s\n",
      "428:\tlearn: 1677.3472560\ttotal: 5.03s\tremaining: 6.7s\n",
      "429:\tlearn: 1677.2928483\ttotal: 5.04s\tremaining: 6.68s\n",
      "430:\tlearn: 1677.2280717\ttotal: 5.05s\tremaining: 6.67s\n",
      "431:\tlearn: 1677.1721411\ttotal: 5.06s\tremaining: 6.66s\n",
      "432:\tlearn: 1677.1237509\ttotal: 5.07s\tremaining: 6.64s\n",
      "433:\tlearn: 1677.0646042\ttotal: 5.08s\tremaining: 6.63s\n",
      "434:\tlearn: 1677.0074015\ttotal: 5.09s\tremaining: 6.62s\n",
      "435:\tlearn: 1676.9421301\ttotal: 5.11s\tremaining: 6.6s\n",
      "436:\tlearn: 1676.8727066\ttotal: 5.12s\tremaining: 6.59s\n",
      "437:\tlearn: 1676.8070179\ttotal: 5.13s\tremaining: 6.58s\n",
      "438:\tlearn: 1676.7404620\ttotal: 5.14s\tremaining: 6.56s\n",
      "439:\tlearn: 1676.6787383\ttotal: 5.15s\tremaining: 6.55s\n",
      "440:\tlearn: 1676.6162206\ttotal: 5.16s\tremaining: 6.54s\n",
      "441:\tlearn: 1676.5538880\ttotal: 5.17s\tremaining: 6.53s\n",
      "442:\tlearn: 1676.4727367\ttotal: 5.18s\tremaining: 6.51s\n",
      "443:\tlearn: 1676.3944793\ttotal: 5.19s\tremaining: 6.5s\n",
      "444:\tlearn: 1676.3190096\ttotal: 5.2s\tremaining: 6.49s\n",
      "445:\tlearn: 1676.2462295\ttotal: 5.21s\tremaining: 6.48s\n",
      "446:\tlearn: 1676.1760421\ttotal: 5.22s\tremaining: 6.46s\n",
      "447:\tlearn: 1676.1083563\ttotal: 5.24s\tremaining: 6.45s\n",
      "448:\tlearn: 1676.0430819\ttotal: 5.25s\tremaining: 6.44s\n",
      "449:\tlearn: 1675.9801341\ttotal: 5.26s\tremaining: 6.42s\n",
      "450:\tlearn: 1675.9194293\ttotal: 5.27s\tremaining: 6.41s\n",
      "451:\tlearn: 1675.8608882\ttotal: 5.28s\tremaining: 6.4s\n",
      "452:\tlearn: 1675.8123008\ttotal: 5.29s\tremaining: 6.39s\n",
      "453:\tlearn: 1675.7630867\ttotal: 5.3s\tremaining: 6.38s\n",
      "454:\tlearn: 1675.7012653\ttotal: 5.31s\tremaining: 6.36s\n",
      "455:\tlearn: 1675.6402868\ttotal: 5.32s\tremaining: 6.35s\n",
      "456:\tlearn: 1675.5875554\ttotal: 5.33s\tremaining: 6.34s\n",
      "457:\tlearn: 1675.5081870\ttotal: 5.34s\tremaining: 6.32s\n",
      "458:\tlearn: 1675.4377056\ttotal: 5.35s\tremaining: 6.31s\n",
      "459:\tlearn: 1675.3755923\ttotal: 5.38s\tremaining: 6.31s\n",
      "460:\tlearn: 1675.3255845\ttotal: 5.38s\tremaining: 6.3s\n",
      "461:\tlearn: 1675.2829102\ttotal: 5.4s\tremaining: 6.28s\n",
      "462:\tlearn: 1675.2255059\ttotal: 5.41s\tremaining: 6.27s\n",
      "463:\tlearn: 1675.1722550\ttotal: 5.42s\tremaining: 6.26s\n",
      "464:\tlearn: 1675.1148332\ttotal: 5.43s\tremaining: 6.25s\n",
      "465:\tlearn: 1675.0599201\ttotal: 5.44s\tremaining: 6.23s\n",
      "466:\tlearn: 1675.0003707\ttotal: 5.45s\tremaining: 6.22s\n",
      "467:\tlearn: 1674.9395417\ttotal: 5.46s\tremaining: 6.21s\n",
      "468:\tlearn: 1674.8882834\ttotal: 5.48s\tremaining: 6.2s\n",
      "469:\tlearn: 1674.8428214\ttotal: 5.49s\tremaining: 6.19s\n",
      "470:\tlearn: 1674.7877448\ttotal: 5.5s\tremaining: 6.17s\n",
      "471:\tlearn: 1674.7379600\ttotal: 5.51s\tremaining: 6.16s\n",
      "472:\tlearn: 1674.6905600\ttotal: 5.52s\tremaining: 6.15s\n",
      "473:\tlearn: 1674.6454303\ttotal: 5.53s\tremaining: 6.14s\n",
      "474:\tlearn: 1674.5957935\ttotal: 5.54s\tremaining: 6.12s\n",
      "475:\tlearn: 1674.5490234\ttotal: 5.55s\tremaining: 6.11s\n",
      "476:\tlearn: 1674.5010983\ttotal: 5.57s\tremaining: 6.1s\n",
      "477:\tlearn: 1674.4549484\ttotal: 5.58s\tremaining: 6.09s\n",
      "478:\tlearn: 1674.4127621\ttotal: 5.59s\tremaining: 6.08s\n",
      "479:\tlearn: 1674.3736464\ttotal: 5.6s\tremaining: 6.06s\n",
      "480:\tlearn: 1674.3267789\ttotal: 5.61s\tremaining: 6.05s\n",
      "481:\tlearn: 1674.2802331\ttotal: 5.62s\tremaining: 6.04s\n",
      "482:\tlearn: 1674.2343638\ttotal: 5.63s\tremaining: 6.03s\n",
      "483:\tlearn: 1674.1891611\ttotal: 5.64s\tremaining: 6.01s\n",
      "484:\tlearn: 1674.1446153\ttotal: 5.65s\tremaining: 6s\n",
      "485:\tlearn: 1674.1007169\ttotal: 5.66s\tremaining: 5.99s\n",
      "486:\tlearn: 1674.0574565\ttotal: 5.67s\tremaining: 5.98s\n",
      "487:\tlearn: 1674.0148248\ttotal: 5.68s\tremaining: 5.96s\n",
      "488:\tlearn: 1673.9728128\ttotal: 5.7s\tremaining: 5.95s\n",
      "489:\tlearn: 1673.9344372\ttotal: 5.71s\tremaining: 5.94s\n",
      "490:\tlearn: 1673.8935427\ttotal: 5.72s\tremaining: 5.93s\n",
      "491:\tlearn: 1673.8527329\ttotal: 5.73s\tremaining: 5.92s\n",
      "492:\tlearn: 1673.8125163\ttotal: 5.74s\tremaining: 5.91s\n",
      "493:\tlearn: 1673.7765569\ttotal: 5.75s\tremaining: 5.89s\n",
      "494:\tlearn: 1673.7022463\ttotal: 5.77s\tremaining: 5.88s\n",
      "495:\tlearn: 1673.6339858\ttotal: 5.78s\tremaining: 5.87s\n",
      "496:\tlearn: 1673.5712810\ttotal: 5.79s\tremaining: 5.86s\n",
      "497:\tlearn: 1673.5136799\ttotal: 5.8s\tremaining: 5.84s\n",
      "498:\tlearn: 1673.4607672\ttotal: 5.81s\tremaining: 5.83s\n",
      "499:\tlearn: 1673.4032135\ttotal: 5.82s\tremaining: 5.82s\n",
      "500:\tlearn: 1673.3382068\ttotal: 5.83s\tremaining: 5.81s\n",
      "501:\tlearn: 1673.2772706\ttotal: 5.84s\tremaining: 5.8s\n",
      "502:\tlearn: 1673.2168141\ttotal: 5.86s\tremaining: 5.79s\n",
      "503:\tlearn: 1673.1681137\ttotal: 5.87s\tremaining: 5.78s\n",
      "504:\tlearn: 1673.1290444\ttotal: 5.89s\tremaining: 5.77s\n",
      "505:\tlearn: 1673.0782570\ttotal: 5.9s\tremaining: 5.76s\n",
      "506:\tlearn: 1673.0211281\ttotal: 5.92s\tremaining: 5.75s\n",
      "507:\tlearn: 1672.9675768\ttotal: 5.93s\tremaining: 5.74s\n",
      "508:\tlearn: 1672.9173110\ttotal: 5.94s\tremaining: 5.73s\n",
      "509:\tlearn: 1672.8644922\ttotal: 5.96s\tremaining: 5.72s\n",
      "510:\tlearn: 1672.8194200\ttotal: 5.97s\tremaining: 5.71s\n",
      "511:\tlearn: 1672.7626507\ttotal: 5.98s\tremaining: 5.7s\n",
      "512:\tlearn: 1672.6958028\ttotal: 5.99s\tremaining: 5.68s\n",
      "513:\tlearn: 1672.6345539\ttotal: 6s\tremaining: 5.67s\n",
      "514:\tlearn: 1672.5742077\ttotal: 6.01s\tremaining: 5.66s\n",
      "515:\tlearn: 1672.4996589\ttotal: 6.02s\tremaining: 5.65s\n",
      "516:\tlearn: 1672.4494383\ttotal: 6.05s\tremaining: 5.65s\n",
      "517:\tlearn: 1672.4048071\ttotal: 6.06s\tremaining: 5.64s\n",
      "518:\tlearn: 1672.3584526\ttotal: 6.08s\tremaining: 5.63s\n",
      "519:\tlearn: 1672.3195493\ttotal: 6.09s\tremaining: 5.62s\n",
      "520:\tlearn: 1672.2851313\ttotal: 6.1s\tremaining: 5.61s\n",
      "521:\tlearn: 1672.2360806\ttotal: 6.11s\tremaining: 5.59s\n",
      "522:\tlearn: 1672.1493166\ttotal: 6.13s\tremaining: 5.59s\n",
      "523:\tlearn: 1672.0822007\ttotal: 6.14s\tremaining: 5.58s\n",
      "524:\tlearn: 1672.0302527\ttotal: 6.15s\tremaining: 5.56s\n",
      "525:\tlearn: 1671.9776750\ttotal: 6.16s\tremaining: 5.55s\n",
      "526:\tlearn: 1671.9403148\ttotal: 6.17s\tremaining: 5.54s\n",
      "527:\tlearn: 1671.8892514\ttotal: 6.18s\tremaining: 5.53s\n",
      "528:\tlearn: 1671.8498753\ttotal: 6.19s\tremaining: 5.51s\n",
      "529:\tlearn: 1671.8108943\ttotal: 6.2s\tremaining: 5.5s\n",
      "530:\tlearn: 1671.7783283\ttotal: 6.21s\tremaining: 5.49s\n",
      "531:\tlearn: 1671.7398329\ttotal: 6.23s\tremaining: 5.48s\n",
      "532:\tlearn: 1671.6988086\ttotal: 6.24s\tremaining: 5.47s\n",
      "533:\tlearn: 1671.6573440\ttotal: 6.25s\tremaining: 5.45s\n",
      "534:\tlearn: 1671.6219518\ttotal: 6.26s\tremaining: 5.44s\n",
      "535:\tlearn: 1671.5833951\ttotal: 6.27s\tremaining: 5.43s\n",
      "536:\tlearn: 1671.5512316\ttotal: 6.28s\tremaining: 5.42s\n",
      "537:\tlearn: 1671.5166149\ttotal: 6.29s\tremaining: 5.4s\n",
      "538:\tlearn: 1671.4742851\ttotal: 6.3s\tremaining: 5.39s\n",
      "539:\tlearn: 1671.4319440\ttotal: 6.31s\tremaining: 5.38s\n",
      "540:\tlearn: 1671.3958944\ttotal: 6.33s\tremaining: 5.37s\n",
      "541:\tlearn: 1671.3593015\ttotal: 6.34s\tremaining: 5.36s\n",
      "542:\tlearn: 1671.3295250\ttotal: 6.35s\tremaining: 5.34s\n",
      "543:\tlearn: 1671.3001761\ttotal: 6.36s\tremaining: 5.33s\n",
      "544:\tlearn: 1671.2491345\ttotal: 6.37s\tremaining: 5.32s\n",
      "545:\tlearn: 1671.2105557\ttotal: 6.38s\tremaining: 5.3s\n",
      "546:\tlearn: 1671.1541059\ttotal: 6.4s\tremaining: 5.3s\n",
      "547:\tlearn: 1671.1119323\ttotal: 6.41s\tremaining: 5.29s\n",
      "548:\tlearn: 1671.0761183\ttotal: 6.43s\tremaining: 5.28s\n",
      "549:\tlearn: 1671.0329184\ttotal: 6.44s\tremaining: 5.27s\n",
      "550:\tlearn: 1670.9943846\ttotal: 6.45s\tremaining: 5.26s\n",
      "551:\tlearn: 1670.9607437\ttotal: 6.46s\tremaining: 5.25s\n",
      "552:\tlearn: 1670.9276886\ttotal: 6.48s\tremaining: 5.24s\n",
      "553:\tlearn: 1670.8709573\ttotal: 6.49s\tremaining: 5.23s\n",
      "554:\tlearn: 1670.8016869\ttotal: 6.5s\tremaining: 5.22s\n",
      "555:\tlearn: 1670.7436992\ttotal: 6.52s\tremaining: 5.21s\n",
      "556:\tlearn: 1670.6914600\ttotal: 6.53s\tremaining: 5.19s\n",
      "557:\tlearn: 1670.6410829\ttotal: 6.54s\tremaining: 5.18s\n",
      "558:\tlearn: 1670.5925378\ttotal: 6.56s\tremaining: 5.17s\n",
      "559:\tlearn: 1670.5518992\ttotal: 6.57s\tremaining: 5.16s\n",
      "560:\tlearn: 1670.5033138\ttotal: 6.59s\tremaining: 5.15s\n",
      "561:\tlearn: 1670.4564616\ttotal: 6.6s\tremaining: 5.14s\n",
      "562:\tlearn: 1670.4112791\ttotal: 6.62s\tremaining: 5.13s\n",
      "563:\tlearn: 1670.3628455\ttotal: 6.63s\tremaining: 5.12s\n",
      "564:\tlearn: 1670.3238317\ttotal: 6.64s\tremaining: 5.11s\n",
      "565:\tlearn: 1670.2802573\ttotal: 6.65s\tremaining: 5.1s\n",
      "566:\tlearn: 1670.2404480\ttotal: 6.67s\tremaining: 5.09s\n",
      "567:\tlearn: 1670.1927586\ttotal: 6.68s\tremaining: 5.08s\n",
      "568:\tlearn: 1670.1489564\ttotal: 6.7s\tremaining: 5.07s\n",
      "569:\tlearn: 1670.1123698\ttotal: 6.71s\tremaining: 5.06s\n",
      "570:\tlearn: 1670.0815841\ttotal: 6.72s\tremaining: 5.05s\n",
      "571:\tlearn: 1670.0462465\ttotal: 6.73s\tremaining: 5.04s\n",
      "572:\tlearn: 1670.0054543\ttotal: 6.75s\tremaining: 5.03s\n",
      "573:\tlearn: 1669.9661168\ttotal: 6.76s\tremaining: 5.02s\n",
      "574:\tlearn: 1669.9232671\ttotal: 6.78s\tremaining: 5.01s\n",
      "575:\tlearn: 1669.8750162\ttotal: 6.79s\tremaining: 5s\n",
      "576:\tlearn: 1669.8252236\ttotal: 6.8s\tremaining: 4.99s\n",
      "577:\tlearn: 1669.7764747\ttotal: 6.81s\tremaining: 4.97s\n",
      "578:\tlearn: 1669.7321979\ttotal: 6.82s\tremaining: 4.96s\n",
      "579:\tlearn: 1669.6855201\ttotal: 6.83s\tremaining: 4.95s\n",
      "580:\tlearn: 1669.6417654\ttotal: 6.84s\tremaining: 4.93s\n",
      "581:\tlearn: 1669.6015486\ttotal: 6.86s\tremaining: 4.93s\n",
      "582:\tlearn: 1669.5650213\ttotal: 6.87s\tremaining: 4.91s\n",
      "583:\tlearn: 1669.5240039\ttotal: 6.88s\tremaining: 4.9s\n",
      "584:\tlearn: 1669.4805628\ttotal: 6.89s\tremaining: 4.89s\n",
      "585:\tlearn: 1669.4414614\ttotal: 6.9s\tremaining: 4.88s\n",
      "586:\tlearn: 1669.4030109\ttotal: 6.91s\tremaining: 4.86s\n",
      "587:\tlearn: 1669.3669680\ttotal: 6.92s\tremaining: 4.85s\n",
      "588:\tlearn: 1669.3317701\ttotal: 6.94s\tremaining: 4.84s\n",
      "589:\tlearn: 1669.3002121\ttotal: 6.95s\tremaining: 4.83s\n",
      "590:\tlearn: 1669.2727930\ttotal: 6.96s\tremaining: 4.82s\n",
      "591:\tlearn: 1669.2276959\ttotal: 6.97s\tremaining: 4.8s\n",
      "592:\tlearn: 1669.1617240\ttotal: 6.98s\tremaining: 4.79s\n",
      "593:\tlearn: 1669.0907697\ttotal: 6.99s\tremaining: 4.78s\n",
      "594:\tlearn: 1669.0125754\ttotal: 7s\tremaining: 4.77s\n",
      "595:\tlearn: 1668.9450959\ttotal: 7.01s\tremaining: 4.75s\n",
      "596:\tlearn: 1668.8819038\ttotal: 7.03s\tremaining: 4.75s\n",
      "597:\tlearn: 1668.8217032\ttotal: 7.04s\tremaining: 4.73s\n",
      "598:\tlearn: 1668.7641630\ttotal: 7.05s\tremaining: 4.72s\n",
      "599:\tlearn: 1668.7086338\ttotal: 7.06s\tremaining: 4.71s\n",
      "600:\tlearn: 1668.6513403\ttotal: 7.07s\tremaining: 4.7s\n",
      "601:\tlearn: 1668.5958468\ttotal: 7.08s\tremaining: 4.68s\n",
      "602:\tlearn: 1668.5400741\ttotal: 7.09s\tremaining: 4.67s\n",
      "603:\tlearn: 1668.4892522\ttotal: 7.1s\tremaining: 4.66s\n",
      "604:\tlearn: 1668.4385039\ttotal: 7.12s\tremaining: 4.64s\n",
      "605:\tlearn: 1668.3844438\ttotal: 7.13s\tremaining: 4.63s\n",
      "606:\tlearn: 1668.3263523\ttotal: 7.14s\tremaining: 4.62s\n",
      "607:\tlearn: 1668.2760429\ttotal: 7.15s\tremaining: 4.61s\n",
      "608:\tlearn: 1668.2232446\ttotal: 7.16s\tremaining: 4.6s\n",
      "609:\tlearn: 1668.1678657\ttotal: 7.17s\tremaining: 4.58s\n",
      "610:\tlearn: 1668.1212556\ttotal: 7.18s\tremaining: 4.57s\n",
      "611:\tlearn: 1668.0709577\ttotal: 7.19s\tremaining: 4.56s\n",
      "612:\tlearn: 1668.0228842\ttotal: 7.2s\tremaining: 4.55s\n",
      "613:\tlearn: 1667.9770383\ttotal: 7.21s\tremaining: 4.54s\n",
      "614:\tlearn: 1667.9335753\ttotal: 7.23s\tremaining: 4.52s\n",
      "615:\tlearn: 1667.8791960\ttotal: 7.24s\tremaining: 4.51s\n",
      "616:\tlearn: 1667.8352757\ttotal: 7.25s\tremaining: 4.5s\n",
      "617:\tlearn: 1667.7932931\ttotal: 7.26s\tremaining: 4.49s\n",
      "618:\tlearn: 1667.7513622\ttotal: 7.27s\tremaining: 4.48s\n",
      "619:\tlearn: 1667.7089244\ttotal: 7.28s\tremaining: 4.46s\n",
      "620:\tlearn: 1667.6649198\ttotal: 7.29s\tremaining: 4.45s\n",
      "621:\tlearn: 1667.6282338\ttotal: 7.3s\tremaining: 4.44s\n",
      "622:\tlearn: 1667.5432725\ttotal: 7.32s\tremaining: 4.43s\n",
      "623:\tlearn: 1667.4689573\ttotal: 7.33s\tremaining: 4.42s\n",
      "624:\tlearn: 1667.4035961\ttotal: 7.34s\tremaining: 4.4s\n",
      "625:\tlearn: 1667.3392451\ttotal: 7.35s\tremaining: 4.39s\n",
      "626:\tlearn: 1667.3130903\ttotal: 7.36s\tremaining: 4.38s\n",
      "627:\tlearn: 1667.2729802\ttotal: 7.37s\tremaining: 4.37s\n",
      "628:\tlearn: 1667.2038179\ttotal: 7.38s\tremaining: 4.35s\n",
      "629:\tlearn: 1667.1394302\ttotal: 7.39s\tremaining: 4.34s\n",
      "630:\tlearn: 1667.0712224\ttotal: 7.4s\tremaining: 4.33s\n",
      "631:\tlearn: 1667.0086631\ttotal: 7.41s\tremaining: 4.32s\n",
      "632:\tlearn: 1666.9486800\ttotal: 7.43s\tremaining: 4.3s\n",
      "633:\tlearn: 1666.8927808\ttotal: 7.44s\tremaining: 4.29s\n",
      "634:\tlearn: 1666.8353291\ttotal: 7.45s\tremaining: 4.28s\n",
      "635:\tlearn: 1666.7778336\ttotal: 7.46s\tremaining: 4.27s\n",
      "636:\tlearn: 1666.7243034\ttotal: 7.47s\tremaining: 4.25s\n",
      "637:\tlearn: 1666.6693395\ttotal: 7.48s\tremaining: 4.24s\n",
      "638:\tlearn: 1666.6172628\ttotal: 7.49s\tremaining: 4.23s\n",
      "639:\tlearn: 1666.5653132\ttotal: 7.5s\tremaining: 4.22s\n",
      "640:\tlearn: 1666.5151089\ttotal: 7.51s\tremaining: 4.21s\n",
      "641:\tlearn: 1666.4672719\ttotal: 7.53s\tremaining: 4.2s\n",
      "642:\tlearn: 1666.4213318\ttotal: 7.54s\tremaining: 4.18s\n",
      "643:\tlearn: 1666.3783033\ttotal: 7.55s\tremaining: 4.17s\n",
      "644:\tlearn: 1666.3343557\ttotal: 7.56s\tremaining: 4.16s\n",
      "645:\tlearn: 1666.2904243\ttotal: 7.57s\tremaining: 4.15s\n",
      "646:\tlearn: 1666.2524589\ttotal: 7.58s\tremaining: 4.13s\n",
      "647:\tlearn: 1666.2118970\ttotal: 7.59s\tremaining: 4.12s\n",
      "648:\tlearn: 1666.1707176\ttotal: 7.6s\tremaining: 4.11s\n",
      "649:\tlearn: 1666.1308884\ttotal: 7.62s\tremaining: 4.1s\n",
      "650:\tlearn: 1666.0923657\ttotal: 7.63s\tremaining: 4.09s\n",
      "651:\tlearn: 1666.0549410\ttotal: 7.64s\tremaining: 4.08s\n",
      "652:\tlearn: 1666.0113534\ttotal: 7.65s\tremaining: 4.06s\n",
      "653:\tlearn: 1665.9709938\ttotal: 7.66s\tremaining: 4.05s\n",
      "654:\tlearn: 1665.9309436\ttotal: 7.67s\tremaining: 4.04s\n",
      "655:\tlearn: 1665.8907711\ttotal: 7.68s\tremaining: 4.03s\n",
      "656:\tlearn: 1665.8512668\ttotal: 7.7s\tremaining: 4.02s\n",
      "657:\tlearn: 1665.8107329\ttotal: 7.71s\tremaining: 4.01s\n",
      "658:\tlearn: 1665.7723461\ttotal: 7.72s\tremaining: 3.99s\n",
      "659:\tlearn: 1665.7231487\ttotal: 7.73s\tremaining: 3.98s\n",
      "660:\tlearn: 1665.6749160\ttotal: 7.74s\tremaining: 3.97s\n",
      "661:\tlearn: 1665.6294683\ttotal: 7.75s\tremaining: 3.96s\n",
      "662:\tlearn: 1665.5932851\ttotal: 7.76s\tremaining: 3.94s\n",
      "663:\tlearn: 1665.5478538\ttotal: 7.77s\tremaining: 3.93s\n",
      "664:\tlearn: 1665.5026587\ttotal: 7.78s\tremaining: 3.92s\n",
      "665:\tlearn: 1665.4605441\ttotal: 7.8s\tremaining: 3.91s\n",
      "666:\tlearn: 1665.4303577\ttotal: 7.81s\tremaining: 3.9s\n",
      "667:\tlearn: 1665.3910687\ttotal: 7.82s\tremaining: 3.89s\n",
      "668:\tlearn: 1665.3487365\ttotal: 7.83s\tremaining: 3.87s\n",
      "669:\tlearn: 1665.3114089\ttotal: 7.84s\tremaining: 3.86s\n",
      "670:\tlearn: 1665.2788630\ttotal: 7.85s\tremaining: 3.85s\n",
      "671:\tlearn: 1665.2419713\ttotal: 7.86s\tremaining: 3.84s\n",
      "672:\tlearn: 1665.2019830\ttotal: 7.87s\tremaining: 3.82s\n",
      "673:\tlearn: 1665.1647267\ttotal: 7.88s\tremaining: 3.81s\n",
      "674:\tlearn: 1665.1300242\ttotal: 7.89s\tremaining: 3.8s\n",
      "675:\tlearn: 1665.0985901\ttotal: 7.91s\tremaining: 3.79s\n",
      "676:\tlearn: 1665.0723261\ttotal: 7.92s\tremaining: 3.78s\n",
      "677:\tlearn: 1665.0421163\ttotal: 7.93s\tremaining: 3.77s\n",
      "678:\tlearn: 1665.0071692\ttotal: 7.94s\tremaining: 3.75s\n",
      "679:\tlearn: 1664.9807722\ttotal: 7.95s\tremaining: 3.74s\n",
      "680:\tlearn: 1664.9400905\ttotal: 7.96s\tremaining: 3.73s\n",
      "681:\tlearn: 1664.8999524\ttotal: 7.97s\tremaining: 3.71s\n",
      "682:\tlearn: 1664.8630819\ttotal: 7.98s\tremaining: 3.7s\n",
      "683:\tlearn: 1664.8292128\ttotal: 7.99s\tremaining: 3.69s\n",
      "684:\tlearn: 1664.7974127\ttotal: 8s\tremaining: 3.68s\n",
      "685:\tlearn: 1664.7624547\ttotal: 8.01s\tremaining: 3.67s\n",
      "686:\tlearn: 1664.7296862\ttotal: 8.02s\tremaining: 3.65s\n",
      "687:\tlearn: 1664.6989695\ttotal: 8.03s\tremaining: 3.64s\n",
      "688:\tlearn: 1664.6654548\ttotal: 8.04s\tremaining: 3.63s\n",
      "689:\tlearn: 1664.6288248\ttotal: 8.05s\tremaining: 3.62s\n",
      "690:\tlearn: 1664.5941116\ttotal: 8.06s\tremaining: 3.6s\n",
      "691:\tlearn: 1664.5651748\ttotal: 8.08s\tremaining: 3.6s\n",
      "692:\tlearn: 1664.5391550\ttotal: 8.09s\tremaining: 3.58s\n",
      "693:\tlearn: 1664.5061131\ttotal: 8.1s\tremaining: 3.57s\n",
      "694:\tlearn: 1664.4721345\ttotal: 8.12s\tremaining: 3.56s\n",
      "695:\tlearn: 1664.4409686\ttotal: 8.13s\tremaining: 3.55s\n",
      "696:\tlearn: 1664.4107608\ttotal: 8.14s\tremaining: 3.54s\n",
      "697:\tlearn: 1664.3826107\ttotal: 8.16s\tremaining: 3.53s\n",
      "698:\tlearn: 1664.3539914\ttotal: 8.17s\tremaining: 3.52s\n",
      "699:\tlearn: 1664.3255588\ttotal: 8.19s\tremaining: 3.51s\n",
      "700:\tlearn: 1664.3001670\ttotal: 8.2s\tremaining: 3.5s\n",
      "701:\tlearn: 1664.2728025\ttotal: 8.22s\tremaining: 3.49s\n",
      "702:\tlearn: 1664.2371452\ttotal: 8.23s\tremaining: 3.48s\n",
      "703:\tlearn: 1664.2026320\ttotal: 8.24s\tremaining: 3.46s\n",
      "704:\tlearn: 1664.1667941\ttotal: 8.25s\tremaining: 3.45s\n",
      "705:\tlearn: 1664.1437529\ttotal: 8.26s\tremaining: 3.44s\n",
      "706:\tlearn: 1664.0952291\ttotal: 8.28s\tremaining: 3.43s\n",
      "707:\tlearn: 1664.0502169\ttotal: 8.29s\tremaining: 3.42s\n",
      "708:\tlearn: 1664.0084607\ttotal: 8.3s\tremaining: 3.4s\n",
      "709:\tlearn: 1663.9633948\ttotal: 8.31s\tremaining: 3.39s\n",
      "710:\tlearn: 1663.9210474\ttotal: 8.32s\tremaining: 3.38s\n",
      "711:\tlearn: 1663.8832017\ttotal: 8.33s\tremaining: 3.37s\n",
      "712:\tlearn: 1663.8449503\ttotal: 8.34s\tremaining: 3.36s\n",
      "713:\tlearn: 1663.8046023\ttotal: 8.35s\tremaining: 3.34s\n",
      "714:\tlearn: 1663.7664255\ttotal: 8.36s\tremaining: 3.33s\n",
      "715:\tlearn: 1663.7273597\ttotal: 8.37s\tremaining: 3.32s\n",
      "716:\tlearn: 1663.6867856\ttotal: 8.38s\tremaining: 3.31s\n",
      "717:\tlearn: 1663.6500288\ttotal: 8.39s\tremaining: 3.3s\n",
      "718:\tlearn: 1663.6138060\ttotal: 8.41s\tremaining: 3.29s\n",
      "719:\tlearn: 1663.5781098\ttotal: 8.42s\tremaining: 3.27s\n",
      "720:\tlearn: 1663.5429326\ttotal: 8.43s\tremaining: 3.26s\n",
      "721:\tlearn: 1663.5082668\ttotal: 8.44s\tremaining: 3.25s\n",
      "722:\tlearn: 1663.4741051\ttotal: 8.45s\tremaining: 3.24s\n",
      "723:\tlearn: 1663.4413533\ttotal: 8.46s\tremaining: 3.23s\n",
      "724:\tlearn: 1663.4125206\ttotal: 8.48s\tremaining: 3.21s\n",
      "725:\tlearn: 1663.3781176\ttotal: 8.49s\tremaining: 3.2s\n",
      "726:\tlearn: 1663.3449422\ttotal: 8.5s\tremaining: 3.19s\n",
      "727:\tlearn: 1663.3152468\ttotal: 8.51s\tremaining: 3.18s\n",
      "728:\tlearn: 1663.2820086\ttotal: 8.52s\tremaining: 3.17s\n",
      "729:\tlearn: 1663.2490007\ttotal: 8.53s\tremaining: 3.16s\n",
      "730:\tlearn: 1663.2181835\ttotal: 8.55s\tremaining: 3.15s\n",
      "731:\tlearn: 1663.1868505\ttotal: 8.57s\tremaining: 3.14s\n",
      "732:\tlearn: 1663.1501693\ttotal: 8.58s\tremaining: 3.13s\n",
      "733:\tlearn: 1663.1140614\ttotal: 8.6s\tremaining: 3.12s\n",
      "734:\tlearn: 1663.0764469\ttotal: 8.61s\tremaining: 3.1s\n",
      "735:\tlearn: 1663.0388915\ttotal: 8.62s\tremaining: 3.09s\n",
      "736:\tlearn: 1663.0158210\ttotal: 8.63s\tremaining: 3.08s\n",
      "737:\tlearn: 1662.9935265\ttotal: 8.65s\tremaining: 3.07s\n",
      "738:\tlearn: 1662.9527895\ttotal: 8.66s\tremaining: 3.06s\n",
      "739:\tlearn: 1662.9156714\ttotal: 8.67s\tremaining: 3.05s\n",
      "740:\tlearn: 1662.8850470\ttotal: 8.68s\tremaining: 3.04s\n",
      "741:\tlearn: 1662.8571199\ttotal: 8.69s\tremaining: 3.02s\n",
      "742:\tlearn: 1662.8190230\ttotal: 8.71s\tremaining: 3.01s\n",
      "743:\tlearn: 1662.7859118\ttotal: 8.72s\tremaining: 3s\n",
      "744:\tlearn: 1662.7501207\ttotal: 8.73s\tremaining: 2.99s\n",
      "745:\tlearn: 1662.7159119\ttotal: 8.74s\tremaining: 2.98s\n",
      "746:\tlearn: 1662.6855867\ttotal: 8.75s\tremaining: 2.96s\n",
      "747:\tlearn: 1662.6501692\ttotal: 8.76s\tremaining: 2.95s\n",
      "748:\tlearn: 1662.6142272\ttotal: 8.77s\tremaining: 2.94s\n",
      "749:\tlearn: 1662.5782180\ttotal: 8.78s\tremaining: 2.93s\n",
      "750:\tlearn: 1662.5447683\ttotal: 8.79s\tremaining: 2.92s\n",
      "751:\tlearn: 1662.5115594\ttotal: 8.8s\tremaining: 2.9s\n",
      "752:\tlearn: 1662.4785162\ttotal: 8.81s\tremaining: 2.89s\n",
      "753:\tlearn: 1662.4470359\ttotal: 8.83s\tremaining: 2.88s\n",
      "754:\tlearn: 1662.4189583\ttotal: 8.84s\tremaining: 2.87s\n",
      "755:\tlearn: 1662.3915917\ttotal: 8.85s\tremaining: 2.86s\n",
      "756:\tlearn: 1662.3648302\ttotal: 8.86s\tremaining: 2.85s\n",
      "757:\tlearn: 1662.3381593\ttotal: 8.87s\tremaining: 2.83s\n",
      "758:\tlearn: 1662.3065528\ttotal: 8.88s\tremaining: 2.82s\n",
      "759:\tlearn: 1662.2766927\ttotal: 8.9s\tremaining: 2.81s\n",
      "760:\tlearn: 1662.2447711\ttotal: 8.91s\tremaining: 2.8s\n",
      "761:\tlearn: 1662.2139347\ttotal: 8.92s\tremaining: 2.79s\n",
      "762:\tlearn: 1662.1811983\ttotal: 8.93s\tremaining: 2.77s\n",
      "763:\tlearn: 1662.1491490\ttotal: 8.94s\tremaining: 2.76s\n",
      "764:\tlearn: 1662.1206269\ttotal: 8.96s\tremaining: 2.75s\n",
      "765:\tlearn: 1662.0894827\ttotal: 8.97s\tremaining: 2.74s\n",
      "766:\tlearn: 1662.0605919\ttotal: 8.98s\tremaining: 2.73s\n",
      "767:\tlearn: 1662.0336040\ttotal: 9s\tremaining: 2.72s\n",
      "768:\tlearn: 1662.0071500\ttotal: 9.02s\tremaining: 2.71s\n",
      "769:\tlearn: 1661.9785216\ttotal: 9.03s\tremaining: 2.7s\n",
      "770:\tlearn: 1661.9495638\ttotal: 9.05s\tremaining: 2.69s\n",
      "771:\tlearn: 1661.9272219\ttotal: 9.06s\tremaining: 2.68s\n",
      "772:\tlearn: 1661.9003483\ttotal: 9.08s\tremaining: 2.67s\n",
      "773:\tlearn: 1661.8704977\ttotal: 9.09s\tremaining: 2.65s\n",
      "774:\tlearn: 1661.8431749\ttotal: 9.1s\tremaining: 2.64s\n",
      "775:\tlearn: 1661.8126095\ttotal: 9.12s\tremaining: 2.63s\n",
      "776:\tlearn: 1661.7868167\ttotal: 9.13s\tremaining: 2.62s\n",
      "777:\tlearn: 1661.7605830\ttotal: 9.14s\tremaining: 2.61s\n",
      "778:\tlearn: 1661.7244928\ttotal: 9.15s\tremaining: 2.6s\n",
      "779:\tlearn: 1661.6895874\ttotal: 9.17s\tremaining: 2.58s\n",
      "780:\tlearn: 1661.6561096\ttotal: 9.18s\tremaining: 2.57s\n",
      "781:\tlearn: 1661.6209550\ttotal: 9.19s\tremaining: 2.56s\n",
      "782:\tlearn: 1661.5823137\ttotal: 9.2s\tremaining: 2.55s\n",
      "783:\tlearn: 1661.5498139\ttotal: 9.21s\tremaining: 2.54s\n",
      "784:\tlearn: 1661.5183796\ttotal: 9.23s\tremaining: 2.53s\n",
      "785:\tlearn: 1661.4894057\ttotal: 9.24s\tremaining: 2.52s\n",
      "786:\tlearn: 1661.4638465\ttotal: 9.26s\tremaining: 2.51s\n",
      "787:\tlearn: 1661.4409253\ttotal: 9.28s\tremaining: 2.5s\n",
      "788:\tlearn: 1661.4167420\ttotal: 9.29s\tremaining: 2.48s\n",
      "789:\tlearn: 1661.3944810\ttotal: 9.3s\tremaining: 2.47s\n",
      "790:\tlearn: 1661.3714054\ttotal: 9.31s\tremaining: 2.46s\n",
      "791:\tlearn: 1661.3523207\ttotal: 9.32s\tremaining: 2.45s\n",
      "792:\tlearn: 1661.3303803\ttotal: 9.33s\tremaining: 2.44s\n",
      "793:\tlearn: 1661.3020931\ttotal: 9.34s\tremaining: 2.42s\n",
      "794:\tlearn: 1661.2751011\ttotal: 9.35s\tremaining: 2.41s\n",
      "795:\tlearn: 1661.2433515\ttotal: 9.36s\tremaining: 2.4s\n",
      "796:\tlearn: 1661.2097292\ttotal: 9.37s\tremaining: 2.39s\n",
      "797:\tlearn: 1661.1768010\ttotal: 9.38s\tremaining: 2.38s\n",
      "798:\tlearn: 1661.1457754\ttotal: 9.4s\tremaining: 2.36s\n",
      "799:\tlearn: 1661.1235452\ttotal: 9.41s\tremaining: 2.35s\n",
      "800:\tlearn: 1661.0999279\ttotal: 9.42s\tremaining: 2.34s\n",
      "801:\tlearn: 1661.0741876\ttotal: 9.43s\tremaining: 2.33s\n",
      "802:\tlearn: 1661.0510178\ttotal: 9.44s\tremaining: 2.32s\n",
      "803:\tlearn: 1661.0288462\ttotal: 9.45s\tremaining: 2.3s\n",
      "804:\tlearn: 1660.9934990\ttotal: 9.46s\tremaining: 2.29s\n",
      "805:\tlearn: 1660.9661482\ttotal: 9.47s\tremaining: 2.28s\n",
      "806:\tlearn: 1660.9306577\ttotal: 9.49s\tremaining: 2.27s\n",
      "807:\tlearn: 1660.8850675\ttotal: 9.5s\tremaining: 2.26s\n",
      "808:\tlearn: 1660.8457038\ttotal: 9.51s\tremaining: 2.24s\n",
      "809:\tlearn: 1660.8104293\ttotal: 9.52s\tremaining: 2.23s\n",
      "810:\tlearn: 1660.7887155\ttotal: 9.53s\tremaining: 2.22s\n",
      "811:\tlearn: 1660.7645993\ttotal: 9.54s\tremaining: 2.21s\n",
      "812:\tlearn: 1660.7428664\ttotal: 9.55s\tremaining: 2.2s\n",
      "813:\tlearn: 1660.7168402\ttotal: 9.56s\tremaining: 2.18s\n",
      "814:\tlearn: 1660.6909152\ttotal: 9.57s\tremaining: 2.17s\n",
      "815:\tlearn: 1660.6579592\ttotal: 9.59s\tremaining: 2.16s\n",
      "816:\tlearn: 1660.6301629\ttotal: 9.6s\tremaining: 2.15s\n",
      "817:\tlearn: 1660.6043156\ttotal: 9.61s\tremaining: 2.14s\n",
      "818:\tlearn: 1660.5752221\ttotal: 9.62s\tremaining: 2.13s\n",
      "819:\tlearn: 1660.5469671\ttotal: 9.63s\tremaining: 2.11s\n",
      "820:\tlearn: 1660.5215061\ttotal: 9.64s\tremaining: 2.1s\n",
      "821:\tlearn: 1660.4949685\ttotal: 9.65s\tremaining: 2.09s\n",
      "822:\tlearn: 1660.4679147\ttotal: 9.67s\tremaining: 2.08s\n",
      "823:\tlearn: 1660.4433735\ttotal: 9.68s\tremaining: 2.07s\n",
      "824:\tlearn: 1660.4165080\ttotal: 9.69s\tremaining: 2.06s\n",
      "825:\tlearn: 1660.3932027\ttotal: 9.7s\tremaining: 2.04s\n",
      "826:\tlearn: 1660.3721223\ttotal: 9.71s\tremaining: 2.03s\n",
      "827:\tlearn: 1660.3481907\ttotal: 9.72s\tremaining: 2.02s\n",
      "828:\tlearn: 1660.3191424\ttotal: 9.73s\tremaining: 2.01s\n",
      "829:\tlearn: 1660.2919263\ttotal: 9.74s\tremaining: 2s\n",
      "830:\tlearn: 1660.2667288\ttotal: 9.76s\tremaining: 1.98s\n",
      "831:\tlearn: 1660.2382378\ttotal: 9.77s\tremaining: 1.97s\n",
      "832:\tlearn: 1660.2109122\ttotal: 9.78s\tremaining: 1.96s\n",
      "833:\tlearn: 1660.1845697\ttotal: 9.79s\tremaining: 1.95s\n",
      "834:\tlearn: 1660.1601335\ttotal: 9.8s\tremaining: 1.94s\n",
      "835:\tlearn: 1660.1354446\ttotal: 9.81s\tremaining: 1.93s\n",
      "836:\tlearn: 1660.1098937\ttotal: 9.83s\tremaining: 1.91s\n",
      "837:\tlearn: 1660.0860115\ttotal: 9.84s\tremaining: 1.9s\n",
      "838:\tlearn: 1660.0649877\ttotal: 9.85s\tremaining: 1.89s\n",
      "839:\tlearn: 1660.0435575\ttotal: 9.86s\tremaining: 1.88s\n",
      "840:\tlearn: 1660.0243728\ttotal: 9.87s\tremaining: 1.87s\n",
      "841:\tlearn: 1660.0004761\ttotal: 9.88s\tremaining: 1.85s\n",
      "842:\tlearn: 1659.9820490\ttotal: 9.89s\tremaining: 1.84s\n",
      "843:\tlearn: 1659.9608415\ttotal: 9.9s\tremaining: 1.83s\n",
      "844:\tlearn: 1659.9394339\ttotal: 9.91s\tremaining: 1.82s\n",
      "845:\tlearn: 1659.9209482\ttotal: 9.93s\tremaining: 1.81s\n",
      "846:\tlearn: 1659.8878229\ttotal: 9.94s\tremaining: 1.79s\n",
      "847:\tlearn: 1659.8578284\ttotal: 9.95s\tremaining: 1.78s\n",
      "848:\tlearn: 1659.8310915\ttotal: 9.97s\tremaining: 1.77s\n",
      "849:\tlearn: 1659.8068569\ttotal: 9.98s\tremaining: 1.76s\n",
      "850:\tlearn: 1659.7769420\ttotal: 9.99s\tremaining: 1.75s\n",
      "851:\tlearn: 1659.7539527\ttotal: 10s\tremaining: 1.74s\n",
      "852:\tlearn: 1659.7360167\ttotal: 10s\tremaining: 1.72s\n",
      "853:\tlearn: 1659.7159609\ttotal: 10s\tremaining: 1.71s\n",
      "854:\tlearn: 1659.6889797\ttotal: 10s\tremaining: 1.7s\n",
      "855:\tlearn: 1659.6602881\ttotal: 10s\tremaining: 1.69s\n",
      "856:\tlearn: 1659.6438496\ttotal: 10.1s\tremaining: 1.68s\n",
      "857:\tlearn: 1659.6200750\ttotal: 10.1s\tremaining: 1.67s\n",
      "858:\tlearn: 1659.5981503\ttotal: 10.1s\tremaining: 1.65s\n",
      "859:\tlearn: 1659.5658709\ttotal: 10.1s\tremaining: 1.64s\n",
      "860:\tlearn: 1659.5340619\ttotal: 10.1s\tremaining: 1.63s\n",
      "861:\tlearn: 1659.5027154\ttotal: 10.1s\tremaining: 1.62s\n",
      "862:\tlearn: 1659.4738884\ttotal: 10.1s\tremaining: 1.61s\n",
      "863:\tlearn: 1659.4527537\ttotal: 10.1s\tremaining: 1.59s\n",
      "864:\tlearn: 1659.4194378\ttotal: 10.1s\tremaining: 1.58s\n",
      "865:\tlearn: 1659.3827525\ttotal: 10.2s\tremaining: 1.57s\n",
      "866:\tlearn: 1659.3467558\ttotal: 10.2s\tremaining: 1.56s\n",
      "867:\tlearn: 1659.3123506\ttotal: 10.2s\tremaining: 1.55s\n",
      "868:\tlearn: 1659.2794650\ttotal: 10.2s\tremaining: 1.54s\n",
      "869:\tlearn: 1659.2480331\ttotal: 10.2s\tremaining: 1.52s\n",
      "870:\tlearn: 1659.2173099\ttotal: 10.2s\tremaining: 1.51s\n",
      "871:\tlearn: 1659.1848363\ttotal: 10.2s\tremaining: 1.5s\n",
      "872:\tlearn: 1659.1560736\ttotal: 10.2s\tremaining: 1.49s\n",
      "873:\tlearn: 1659.1296012\ttotal: 10.3s\tremaining: 1.48s\n",
      "874:\tlearn: 1659.0999934\ttotal: 10.3s\tremaining: 1.47s\n",
      "875:\tlearn: 1659.0713570\ttotal: 10.3s\tremaining: 1.46s\n",
      "876:\tlearn: 1659.0436600\ttotal: 10.3s\tremaining: 1.44s\n",
      "877:\tlearn: 1659.0171180\ttotal: 10.3s\tremaining: 1.43s\n",
      "878:\tlearn: 1658.9937535\ttotal: 10.3s\tremaining: 1.42s\n",
      "879:\tlearn: 1658.9686482\ttotal: 10.3s\tremaining: 1.41s\n",
      "880:\tlearn: 1658.9448548\ttotal: 10.3s\tremaining: 1.4s\n",
      "881:\tlearn: 1658.9213922\ttotal: 10.4s\tremaining: 1.39s\n",
      "882:\tlearn: 1658.8995985\ttotal: 10.4s\tremaining: 1.38s\n",
      "883:\tlearn: 1658.8727127\ttotal: 10.4s\tremaining: 1.36s\n",
      "884:\tlearn: 1658.8467910\ttotal: 10.4s\tremaining: 1.35s\n",
      "885:\tlearn: 1658.8217194\ttotal: 10.4s\tremaining: 1.34s\n",
      "886:\tlearn: 1658.7974703\ttotal: 10.4s\tremaining: 1.33s\n",
      "887:\tlearn: 1658.7748103\ttotal: 10.5s\tremaining: 1.32s\n",
      "888:\tlearn: 1658.7529126\ttotal: 10.5s\tremaining: 1.31s\n",
      "889:\tlearn: 1658.7297764\ttotal: 10.5s\tremaining: 1.29s\n",
      "890:\tlearn: 1658.7083142\ttotal: 10.5s\tremaining: 1.28s\n",
      "891:\tlearn: 1658.6859500\ttotal: 10.5s\tremaining: 1.27s\n",
      "892:\tlearn: 1658.6651947\ttotal: 10.5s\tremaining: 1.26s\n",
      "893:\tlearn: 1658.6450916\ttotal: 10.5s\tremaining: 1.25s\n",
      "894:\tlearn: 1658.6293369\ttotal: 10.5s\tremaining: 1.24s\n",
      "895:\tlearn: 1658.6122316\ttotal: 10.6s\tremaining: 1.23s\n",
      "896:\tlearn: 1658.5947468\ttotal: 10.6s\tremaining: 1.21s\n",
      "897:\tlearn: 1658.5747847\ttotal: 10.6s\tremaining: 1.2s\n",
      "898:\tlearn: 1658.5562086\ttotal: 10.6s\tremaining: 1.19s\n",
      "899:\tlearn: 1658.5369136\ttotal: 10.6s\tremaining: 1.18s\n",
      "900:\tlearn: 1658.5200549\ttotal: 10.6s\tremaining: 1.17s\n",
      "901:\tlearn: 1658.4976016\ttotal: 10.6s\tremaining: 1.15s\n",
      "902:\tlearn: 1658.4716847\ttotal: 10.6s\tremaining: 1.14s\n",
      "903:\tlearn: 1658.4553125\ttotal: 10.6s\tremaining: 1.13s\n",
      "904:\tlearn: 1658.4395293\ttotal: 10.7s\tremaining: 1.12s\n",
      "905:\tlearn: 1658.4223444\ttotal: 10.7s\tremaining: 1.11s\n",
      "906:\tlearn: 1658.4051068\ttotal: 10.7s\tremaining: 1.09s\n",
      "907:\tlearn: 1658.3881897\ttotal: 10.7s\tremaining: 1.08s\n",
      "908:\tlearn: 1658.3692614\ttotal: 10.7s\tremaining: 1.07s\n",
      "909:\tlearn: 1658.3499486\ttotal: 10.7s\tremaining: 1.06s\n",
      "910:\tlearn: 1658.3253833\ttotal: 10.7s\tremaining: 1.05s\n",
      "911:\tlearn: 1658.3041095\ttotal: 10.7s\tremaining: 1.04s\n",
      "912:\tlearn: 1658.2835113\ttotal: 10.8s\tremaining: 1.02s\n",
      "913:\tlearn: 1658.2624133\ttotal: 10.8s\tremaining: 1.01s\n",
      "914:\tlearn: 1658.2395404\ttotal: 10.8s\tremaining: 1s\n",
      "915:\tlearn: 1658.2184921\ttotal: 10.8s\tremaining: 990ms\n",
      "916:\tlearn: 1658.1955876\ttotal: 10.8s\tremaining: 978ms\n",
      "917:\tlearn: 1658.1733439\ttotal: 10.8s\tremaining: 966ms\n",
      "918:\tlearn: 1658.1564217\ttotal: 10.8s\tremaining: 954ms\n",
      "919:\tlearn: 1658.1310777\ttotal: 10.8s\tremaining: 942ms\n",
      "920:\tlearn: 1658.1038744\ttotal: 10.8s\tremaining: 931ms\n",
      "921:\tlearn: 1658.0821115\ttotal: 10.9s\tremaining: 919ms\n",
      "922:\tlearn: 1658.0556670\ttotal: 10.9s\tremaining: 907ms\n",
      "923:\tlearn: 1658.0309261\ttotal: 10.9s\tremaining: 895ms\n",
      "924:\tlearn: 1658.0077345\ttotal: 10.9s\tremaining: 883ms\n",
      "925:\tlearn: 1657.9839309\ttotal: 10.9s\tremaining: 871ms\n",
      "926:\tlearn: 1657.9625055\ttotal: 10.9s\tremaining: 860ms\n",
      "927:\tlearn: 1657.9407656\ttotal: 10.9s\tremaining: 848ms\n",
      "928:\tlearn: 1657.9173649\ttotal: 10.9s\tremaining: 836ms\n",
      "929:\tlearn: 1657.8891593\ttotal: 11s\tremaining: 824ms\n",
      "930:\tlearn: 1657.8632299\ttotal: 11s\tremaining: 813ms\n",
      "931:\tlearn: 1657.8394116\ttotal: 11s\tremaining: 801ms\n",
      "932:\tlearn: 1657.8148625\ttotal: 11s\tremaining: 789ms\n",
      "933:\tlearn: 1657.7902304\ttotal: 11s\tremaining: 777ms\n",
      "934:\tlearn: 1657.7673673\ttotal: 11s\tremaining: 765ms\n",
      "935:\tlearn: 1657.7440186\ttotal: 11s\tremaining: 753ms\n",
      "936:\tlearn: 1657.7216403\ttotal: 11s\tremaining: 741ms\n",
      "937:\tlearn: 1657.6908916\ttotal: 11s\tremaining: 730ms\n",
      "938:\tlearn: 1657.6599058\ttotal: 11.1s\tremaining: 718ms\n",
      "939:\tlearn: 1657.6305365\ttotal: 11.1s\tremaining: 706ms\n",
      "940:\tlearn: 1657.5978741\ttotal: 11.1s\tremaining: 694ms\n",
      "941:\tlearn: 1657.5734625\ttotal: 11.1s\tremaining: 683ms\n",
      "942:\tlearn: 1657.5480579\ttotal: 11.1s\tremaining: 671ms\n",
      "943:\tlearn: 1657.5229292\ttotal: 11.1s\tremaining: 659ms\n",
      "944:\tlearn: 1657.4926248\ttotal: 11.1s\tremaining: 647ms\n",
      "945:\tlearn: 1657.4627616\ttotal: 11.1s\tremaining: 635ms\n",
      "946:\tlearn: 1657.4333326\ttotal: 11.1s\tremaining: 623ms\n",
      "947:\tlearn: 1657.4043317\ttotal: 11.2s\tremaining: 612ms\n",
      "948:\tlearn: 1657.3757524\ttotal: 11.2s\tremaining: 600ms\n",
      "949:\tlearn: 1657.3475888\ttotal: 11.2s\tremaining: 588ms\n",
      "950:\tlearn: 1657.3198347\ttotal: 11.2s\tremaining: 576ms\n",
      "951:\tlearn: 1657.2924843\ttotal: 11.2s\tremaining: 565ms\n",
      "952:\tlearn: 1657.2651605\ttotal: 11.2s\tremaining: 553ms\n",
      "953:\tlearn: 1657.2366745\ttotal: 11.2s\tremaining: 541ms\n",
      "954:\tlearn: 1657.2084171\ttotal: 11.2s\tremaining: 530ms\n",
      "955:\tlearn: 1657.1811243\ttotal: 11.3s\tremaining: 518ms\n",
      "956:\tlearn: 1657.1541697\ttotal: 11.3s\tremaining: 506ms\n",
      "957:\tlearn: 1657.1276073\ttotal: 11.3s\tremaining: 495ms\n",
      "958:\tlearn: 1657.1014311\ttotal: 11.3s\tremaining: 483ms\n",
      "959:\tlearn: 1657.0756356\ttotal: 11.3s\tremaining: 471ms\n",
      "960:\tlearn: 1657.0502153\ttotal: 11.3s\tremaining: 460ms\n",
      "961:\tlearn: 1657.0251647\ttotal: 11.3s\tremaining: 448ms\n",
      "962:\tlearn: 1657.0004784\ttotal: 11.4s\tremaining: 436ms\n",
      "963:\tlearn: 1656.9761513\ttotal: 11.4s\tremaining: 425ms\n",
      "964:\tlearn: 1656.9521779\ttotal: 11.4s\tremaining: 413ms\n",
      "965:\tlearn: 1656.9285532\ttotal: 11.4s\tremaining: 401ms\n",
      "966:\tlearn: 1656.9048020\ttotal: 11.4s\tremaining: 389ms\n",
      "967:\tlearn: 1656.8800574\ttotal: 11.4s\tremaining: 377ms\n",
      "968:\tlearn: 1656.8555052\ttotal: 11.4s\tremaining: 366ms\n",
      "969:\tlearn: 1656.8319057\ttotal: 11.4s\tremaining: 354ms\n",
      "970:\tlearn: 1656.8086233\ttotal: 11.5s\tremaining: 342ms\n",
      "971:\tlearn: 1656.7856795\ttotal: 11.5s\tremaining: 331ms\n",
      "972:\tlearn: 1656.7630695\ttotal: 11.5s\tremaining: 319ms\n",
      "973:\tlearn: 1656.7407884\ttotal: 11.5s\tremaining: 307ms\n",
      "974:\tlearn: 1656.7188313\ttotal: 11.5s\tremaining: 295ms\n",
      "975:\tlearn: 1656.6979609\ttotal: 11.5s\tremaining: 284ms\n",
      "976:\tlearn: 1656.6769437\ttotal: 11.6s\tremaining: 272ms\n",
      "977:\tlearn: 1656.6592990\ttotal: 11.6s\tremaining: 260ms\n",
      "978:\tlearn: 1656.6413114\ttotal: 11.6s\tremaining: 248ms\n",
      "979:\tlearn: 1656.6121957\ttotal: 11.6s\tremaining: 236ms\n",
      "980:\tlearn: 1656.5864838\ttotal: 11.6s\tremaining: 225ms\n",
      "981:\tlearn: 1656.5637772\ttotal: 11.6s\tremaining: 213ms\n",
      "982:\tlearn: 1656.5452088\ttotal: 11.6s\tremaining: 201ms\n",
      "983:\tlearn: 1656.5252785\ttotal: 11.6s\tremaining: 189ms\n",
      "984:\tlearn: 1656.5107888\ttotal: 11.7s\tremaining: 178ms\n",
      "985:\tlearn: 1656.4910826\ttotal: 11.7s\tremaining: 166ms\n",
      "986:\tlearn: 1656.4673720\ttotal: 11.7s\tremaining: 154ms\n",
      "987:\tlearn: 1656.4453615\ttotal: 11.7s\tremaining: 142ms\n",
      "988:\tlearn: 1656.4235107\ttotal: 11.7s\tremaining: 130ms\n",
      "989:\tlearn: 1656.4021287\ttotal: 11.7s\tremaining: 118ms\n",
      "990:\tlearn: 1656.3806626\ttotal: 11.7s\tremaining: 107ms\n",
      "991:\tlearn: 1656.3601122\ttotal: 11.7s\tremaining: 94.7ms\n",
      "992:\tlearn: 1656.3415990\ttotal: 11.8s\tremaining: 82.9ms\n",
      "993:\tlearn: 1656.3196843\ttotal: 11.8s\tremaining: 71ms\n",
      "994:\tlearn: 1656.2995244\ttotal: 11.8s\tremaining: 59.2ms\n",
      "995:\tlearn: 1656.2803937\ttotal: 11.8s\tremaining: 47.3ms\n",
      "996:\tlearn: 1656.2588238\ttotal: 11.8s\tremaining: 35.5ms\n",
      "997:\tlearn: 1656.2403920\ttotal: 11.8s\tremaining: 23.7ms\n",
      "998:\tlearn: 1656.2204624\ttotal: 11.8s\tremaining: 11.8ms\n",
      "999:\tlearn: 1656.2017122\ttotal: 11.8s\tremaining: 0us\n",
      "0:\tlearn: 2900.7354442\ttotal: 15ms\tremaining: 15s\n",
      "1:\tlearn: 2636.3398643\ttotal: 33.8ms\tremaining: 16.9s\n",
      "2:\tlearn: 2520.8921411\ttotal: 49.4ms\tremaining: 16.4s\n",
      "3:\tlearn: 2373.3952796\ttotal: 62.1ms\tremaining: 15.5s\n",
      "4:\tlearn: 2327.8054453\ttotal: 73.8ms\tremaining: 14.7s\n",
      "5:\tlearn: 2282.0883459\ttotal: 84.7ms\tremaining: 14s\n",
      "6:\tlearn: 2216.9362063\ttotal: 97.6ms\tremaining: 13.8s\n",
      "7:\tlearn: 2161.5503669\ttotal: 114ms\tremaining: 14.1s\n",
      "8:\tlearn: 2125.1159121\ttotal: 126ms\tremaining: 13.8s\n",
      "9:\tlearn: 2101.9121086\ttotal: 137ms\tremaining: 13.6s\n",
      "10:\tlearn: 2084.4062962\ttotal: 148ms\tremaining: 13.3s\n",
      "11:\tlearn: 2067.1266390\ttotal: 159ms\tremaining: 13.1s\n",
      "12:\tlearn: 2034.2993489\ttotal: 170ms\tremaining: 12.9s\n",
      "13:\tlearn: 2014.7793452\ttotal: 183ms\tremaining: 12.9s\n",
      "14:\tlearn: 2002.8504178\ttotal: 200ms\tremaining: 13.1s\n",
      "15:\tlearn: 1980.4029173\ttotal: 213ms\tremaining: 13.1s\n",
      "16:\tlearn: 1968.8205775\ttotal: 226ms\tremaining: 13.1s\n",
      "17:\tlearn: 1958.1967036\ttotal: 240ms\tremaining: 13.1s\n",
      "18:\tlearn: 1948.5095486\ttotal: 251ms\tremaining: 12.9s\n",
      "19:\tlearn: 1941.4823573\ttotal: 262ms\tremaining: 12.8s\n",
      "20:\tlearn: 1935.1224591\ttotal: 273ms\tremaining: 12.7s\n",
      "21:\tlearn: 1922.3764769\ttotal: 284ms\tremaining: 12.6s\n",
      "22:\tlearn: 1915.3420546\ttotal: 299ms\tremaining: 12.7s\n",
      "23:\tlearn: 1908.6194826\ttotal: 309ms\tremaining: 12.6s\n",
      "24:\tlearn: 1896.7849550\ttotal: 320ms\tremaining: 12.5s\n",
      "25:\tlearn: 1890.9696528\ttotal: 331ms\tremaining: 12.4s\n",
      "26:\tlearn: 1885.1183793\ttotal: 342ms\tremaining: 12.3s\n",
      "27:\tlearn: 1879.5623720\ttotal: 355ms\tremaining: 12.3s\n",
      "28:\tlearn: 1874.8988848\ttotal: 372ms\tremaining: 12.5s\n",
      "29:\tlearn: 1869.2317780\ttotal: 388ms\tremaining: 12.5s\n",
      "30:\tlearn: 1864.5143049\ttotal: 400ms\tremaining: 12.5s\n",
      "31:\tlearn: 1859.4249441\ttotal: 411ms\tremaining: 12.4s\n",
      "32:\tlearn: 1850.1490162\ttotal: 423ms\tremaining: 12.4s\n",
      "33:\tlearn: 1844.7354044\ttotal: 434ms\tremaining: 12.3s\n",
      "34:\tlearn: 1840.8496490\ttotal: 446ms\tremaining: 12.3s\n",
      "35:\tlearn: 1837.4472364\ttotal: 457ms\tremaining: 12.2s\n",
      "36:\tlearn: 1833.9678679\ttotal: 468ms\tremaining: 12.2s\n",
      "37:\tlearn: 1830.5542522\ttotal: 479ms\tremaining: 12.1s\n",
      "38:\tlearn: 1827.2996240\ttotal: 490ms\tremaining: 12.1s\n",
      "39:\tlearn: 1824.7562983\ttotal: 501ms\tremaining: 12s\n",
      "40:\tlearn: 1821.8369892\ttotal: 513ms\tremaining: 12s\n",
      "41:\tlearn: 1818.2265419\ttotal: 525ms\tremaining: 12s\n",
      "42:\tlearn: 1815.8569511\ttotal: 538ms\tremaining: 12s\n",
      "43:\tlearn: 1810.7722102\ttotal: 550ms\tremaining: 11.9s\n",
      "44:\tlearn: 1808.2169567\ttotal: 565ms\tremaining: 12s\n",
      "45:\tlearn: 1805.8769314\ttotal: 579ms\tremaining: 12s\n",
      "46:\tlearn: 1803.1837540\ttotal: 599ms\tremaining: 12.1s\n",
      "47:\tlearn: 1800.9163381\ttotal: 610ms\tremaining: 12.1s\n",
      "48:\tlearn: 1798.8592547\ttotal: 621ms\tremaining: 12s\n",
      "49:\tlearn: 1797.0713682\ttotal: 632ms\tremaining: 12s\n",
      "50:\tlearn: 1794.9960089\ttotal: 643ms\tremaining: 12s\n",
      "51:\tlearn: 1792.1397614\ttotal: 653ms\tremaining: 11.9s\n",
      "52:\tlearn: 1790.3784515\ttotal: 664ms\tremaining: 11.9s\n",
      "53:\tlearn: 1788.8753951\ttotal: 674ms\tremaining: 11.8s\n",
      "54:\tlearn: 1787.0394277\ttotal: 690ms\tremaining: 11.9s\n",
      "55:\tlearn: 1785.7115133\ttotal: 701ms\tremaining: 11.8s\n",
      "56:\tlearn: 1783.0907490\ttotal: 712ms\tremaining: 11.8s\n",
      "57:\tlearn: 1781.6639897\ttotal: 723ms\tremaining: 11.7s\n",
      "58:\tlearn: 1779.5463299\ttotal: 733ms\tremaining: 11.7s\n",
      "59:\tlearn: 1778.0072328\ttotal: 744ms\tremaining: 11.7s\n",
      "60:\tlearn: 1776.5692994\ttotal: 755ms\tremaining: 11.6s\n",
      "61:\tlearn: 1774.9398819\ttotal: 766ms\tremaining: 11.6s\n",
      "62:\tlearn: 1773.1605251\ttotal: 778ms\tremaining: 11.6s\n",
      "63:\tlearn: 1772.0228835\ttotal: 790ms\tremaining: 11.6s\n",
      "64:\tlearn: 1770.3881831\ttotal: 800ms\tremaining: 11.5s\n",
      "65:\tlearn: 1769.2276673\ttotal: 811ms\tremaining: 11.5s\n",
      "66:\tlearn: 1767.9938905\ttotal: 823ms\tremaining: 11.5s\n",
      "67:\tlearn: 1766.7487116\ttotal: 833ms\tremaining: 11.4s\n",
      "68:\tlearn: 1765.6431603\ttotal: 843ms\tremaining: 11.4s\n",
      "69:\tlearn: 1764.5388437\ttotal: 855ms\tremaining: 11.4s\n",
      "70:\tlearn: 1763.2611961\ttotal: 866ms\tremaining: 11.3s\n",
      "71:\tlearn: 1762.3542208\ttotal: 879ms\tremaining: 11.3s\n",
      "72:\tlearn: 1761.3110978\ttotal: 891ms\tremaining: 11.3s\n",
      "73:\tlearn: 1759.8463267\ttotal: 901ms\tremaining: 11.3s\n",
      "74:\tlearn: 1758.8492568\ttotal: 912ms\tremaining: 11.3s\n",
      "75:\tlearn: 1757.8508528\ttotal: 923ms\tremaining: 11.2s\n",
      "76:\tlearn: 1756.9302139\ttotal: 933ms\tremaining: 11.2s\n",
      "77:\tlearn: 1756.0150224\ttotal: 944ms\tremaining: 11.2s\n",
      "78:\tlearn: 1755.0482740\ttotal: 955ms\tremaining: 11.1s\n",
      "79:\tlearn: 1754.3361225\ttotal: 967ms\tremaining: 11.1s\n",
      "80:\tlearn: 1753.5158479\ttotal: 980ms\tremaining: 11.1s\n",
      "81:\tlearn: 1752.6103915\ttotal: 990ms\tremaining: 11.1s\n",
      "82:\tlearn: 1751.7370249\ttotal: 1s\tremaining: 11.1s\n",
      "83:\tlearn: 1750.4430513\ttotal: 1.01s\tremaining: 11s\n",
      "84:\tlearn: 1749.7037163\ttotal: 1.02s\tremaining: 11s\n",
      "85:\tlearn: 1748.7513124\ttotal: 1.03s\tremaining: 11s\n",
      "86:\tlearn: 1747.8934460\ttotal: 1.04s\tremaining: 11s\n",
      "87:\tlearn: 1747.2693749\ttotal: 1.06s\tremaining: 11s\n",
      "88:\tlearn: 1746.7213768\ttotal: 1.07s\tremaining: 10.9s\n",
      "89:\tlearn: 1745.1226188\ttotal: 1.08s\tremaining: 10.9s\n",
      "90:\tlearn: 1744.2808589\ttotal: 1.09s\tremaining: 10.9s\n",
      "91:\tlearn: 1743.5966166\ttotal: 1.1s\tremaining: 10.9s\n",
      "92:\tlearn: 1743.1089167\ttotal: 1.12s\tremaining: 10.9s\n",
      "93:\tlearn: 1742.5381309\ttotal: 1.13s\tremaining: 10.9s\n",
      "94:\tlearn: 1741.9407529\ttotal: 1.14s\tremaining: 10.9s\n",
      "95:\tlearn: 1741.4135171\ttotal: 1.16s\tremaining: 10.9s\n",
      "96:\tlearn: 1740.9563840\ttotal: 1.17s\tremaining: 10.9s\n",
      "97:\tlearn: 1740.4874782\ttotal: 1.18s\tremaining: 10.9s\n",
      "98:\tlearn: 1740.0117183\ttotal: 1.19s\tremaining: 10.8s\n",
      "99:\tlearn: 1739.4275979\ttotal: 1.2s\tremaining: 10.8s\n",
      "100:\tlearn: 1738.9233172\ttotal: 1.21s\tremaining: 10.8s\n",
      "101:\tlearn: 1738.4041643\ttotal: 1.23s\tremaining: 10.8s\n",
      "102:\tlearn: 1737.9691387\ttotal: 1.24s\tremaining: 10.8s\n",
      "103:\tlearn: 1737.4293043\ttotal: 1.26s\tremaining: 10.9s\n",
      "104:\tlearn: 1736.3852484\ttotal: 1.28s\tremaining: 10.9s\n",
      "105:\tlearn: 1735.4191202\ttotal: 1.29s\tremaining: 10.9s\n",
      "106:\tlearn: 1734.8450221\ttotal: 1.31s\tremaining: 10.9s\n",
      "107:\tlearn: 1733.6202563\ttotal: 1.32s\tremaining: 10.9s\n",
      "108:\tlearn: 1732.7410862\ttotal: 1.33s\tremaining: 10.9s\n",
      "109:\tlearn: 1731.8882079\ttotal: 1.34s\tremaining: 10.8s\n",
      "110:\tlearn: 1731.3813885\ttotal: 1.35s\tremaining: 10.8s\n",
      "111:\tlearn: 1730.7124316\ttotal: 1.36s\tremaining: 10.8s\n",
      "112:\tlearn: 1730.1410672\ttotal: 1.37s\tremaining: 10.8s\n",
      "113:\tlearn: 1729.6183153\ttotal: 1.38s\tremaining: 10.8s\n",
      "114:\tlearn: 1729.1204031\ttotal: 1.4s\tremaining: 10.7s\n",
      "115:\tlearn: 1728.6394836\ttotal: 1.41s\tremaining: 10.7s\n",
      "116:\tlearn: 1727.9391488\ttotal: 1.43s\tremaining: 10.8s\n",
      "117:\tlearn: 1727.3168122\ttotal: 1.44s\tremaining: 10.8s\n",
      "118:\tlearn: 1726.8337701\ttotal: 1.46s\tremaining: 10.8s\n",
      "119:\tlearn: 1726.0361941\ttotal: 1.47s\tremaining: 10.8s\n",
      "120:\tlearn: 1725.3780218\ttotal: 1.48s\tremaining: 10.8s\n",
      "121:\tlearn: 1724.8380512\ttotal: 1.5s\tremaining: 10.8s\n",
      "122:\tlearn: 1724.1471259\ttotal: 1.51s\tremaining: 10.8s\n",
      "123:\tlearn: 1723.4574925\ttotal: 1.53s\tremaining: 10.8s\n",
      "124:\tlearn: 1723.0242049\ttotal: 1.54s\tremaining: 10.8s\n",
      "125:\tlearn: 1722.2890069\ttotal: 1.56s\tremaining: 10.8s\n",
      "126:\tlearn: 1721.7890122\ttotal: 1.57s\tremaining: 10.8s\n",
      "127:\tlearn: 1721.2919041\ttotal: 1.58s\tremaining: 10.8s\n",
      "128:\tlearn: 1720.7209475\ttotal: 1.59s\tremaining: 10.8s\n",
      "129:\tlearn: 1720.2806342\ttotal: 1.61s\tremaining: 10.8s\n",
      "130:\tlearn: 1719.7485947\ttotal: 1.62s\tremaining: 10.7s\n",
      "131:\tlearn: 1719.2411092\ttotal: 1.63s\tremaining: 10.7s\n",
      "132:\tlearn: 1718.6258347\ttotal: 1.64s\tremaining: 10.7s\n",
      "133:\tlearn: 1718.1645948\ttotal: 1.66s\tremaining: 10.7s\n",
      "134:\tlearn: 1717.7943461\ttotal: 1.67s\tremaining: 10.7s\n",
      "135:\tlearn: 1717.3394414\ttotal: 1.68s\tremaining: 10.7s\n",
      "136:\tlearn: 1716.8793483\ttotal: 1.69s\tremaining: 10.7s\n",
      "137:\tlearn: 1716.5180045\ttotal: 1.71s\tremaining: 10.7s\n",
      "138:\tlearn: 1716.1492800\ttotal: 1.72s\tremaining: 10.6s\n",
      "139:\tlearn: 1715.5818622\ttotal: 1.73s\tremaining: 10.6s\n",
      "140:\tlearn: 1715.2509475\ttotal: 1.74s\tremaining: 10.6s\n",
      "141:\tlearn: 1714.9055107\ttotal: 1.76s\tremaining: 10.6s\n",
      "142:\tlearn: 1714.4083488\ttotal: 1.78s\tremaining: 10.7s\n",
      "143:\tlearn: 1714.1027366\ttotal: 1.79s\tremaining: 10.7s\n",
      "144:\tlearn: 1713.6950947\ttotal: 1.8s\tremaining: 10.6s\n",
      "145:\tlearn: 1713.2360502\ttotal: 1.82s\tremaining: 10.6s\n",
      "146:\tlearn: 1712.8397727\ttotal: 1.83s\tremaining: 10.6s\n",
      "147:\tlearn: 1712.4181410\ttotal: 1.85s\tremaining: 10.6s\n",
      "148:\tlearn: 1712.0894039\ttotal: 1.86s\tremaining: 10.6s\n",
      "149:\tlearn: 1711.4159485\ttotal: 1.87s\tremaining: 10.6s\n",
      "150:\tlearn: 1710.9727353\ttotal: 1.89s\tremaining: 10.6s\n",
      "151:\tlearn: 1710.6546887\ttotal: 1.9s\tremaining: 10.6s\n",
      "152:\tlearn: 1710.2508761\ttotal: 1.91s\tremaining: 10.6s\n",
      "153:\tlearn: 1709.9890243\ttotal: 1.92s\tremaining: 10.5s\n",
      "154:\tlearn: 1709.4440980\ttotal: 1.93s\tremaining: 10.5s\n",
      "155:\tlearn: 1709.0851491\ttotal: 1.94s\tremaining: 10.5s\n",
      "156:\tlearn: 1708.7889965\ttotal: 1.96s\tremaining: 10.5s\n",
      "157:\tlearn: 1708.5232703\ttotal: 1.97s\tremaining: 10.5s\n",
      "158:\tlearn: 1708.2215089\ttotal: 1.98s\tremaining: 10.5s\n",
      "159:\tlearn: 1707.9296999\ttotal: 1.99s\tremaining: 10.4s\n",
      "160:\tlearn: 1707.6570552\ttotal: 2s\tremaining: 10.4s\n",
      "161:\tlearn: 1707.3323235\ttotal: 2.01s\tremaining: 10.4s\n",
      "162:\tlearn: 1707.0432596\ttotal: 2.02s\tremaining: 10.4s\n",
      "163:\tlearn: 1706.7602931\ttotal: 2.03s\tremaining: 10.4s\n",
      "164:\tlearn: 1706.4946942\ttotal: 2.04s\tremaining: 10.3s\n",
      "165:\tlearn: 1706.2700584\ttotal: 2.06s\tremaining: 10.3s\n",
      "166:\tlearn: 1706.0194347\ttotal: 2.07s\tremaining: 10.3s\n",
      "167:\tlearn: 1705.7608251\ttotal: 2.08s\tremaining: 10.3s\n",
      "168:\tlearn: 1705.3460828\ttotal: 2.09s\tremaining: 10.3s\n",
      "169:\tlearn: 1705.0338787\ttotal: 2.1s\tremaining: 10.2s\n",
      "170:\tlearn: 1704.7891825\ttotal: 2.11s\tremaining: 10.2s\n",
      "171:\tlearn: 1704.5339964\ttotal: 2.12s\tremaining: 10.2s\n",
      "172:\tlearn: 1704.3216178\ttotal: 2.13s\tremaining: 10.2s\n",
      "173:\tlearn: 1704.0344918\ttotal: 2.14s\tremaining: 10.2s\n",
      "174:\tlearn: 1703.7874109\ttotal: 2.16s\tremaining: 10.2s\n",
      "175:\tlearn: 1703.5748030\ttotal: 2.17s\tremaining: 10.2s\n",
      "176:\tlearn: 1703.3714563\ttotal: 2.18s\tremaining: 10.1s\n",
      "177:\tlearn: 1703.1150836\ttotal: 2.19s\tremaining: 10.1s\n",
      "178:\tlearn: 1702.9034832\ttotal: 2.2s\tremaining: 10.1s\n",
      "179:\tlearn: 1702.5039147\ttotal: 2.21s\tremaining: 10.1s\n",
      "180:\tlearn: 1702.2726724\ttotal: 2.22s\tremaining: 10s\n",
      "181:\tlearn: 1702.0831181\ttotal: 2.23s\tremaining: 10s\n",
      "182:\tlearn: 1701.8997292\ttotal: 2.24s\tremaining: 10s\n",
      "183:\tlearn: 1701.7061636\ttotal: 2.25s\tremaining: 10s\n",
      "184:\tlearn: 1701.3305189\ttotal: 2.27s\tremaining: 9.98s\n",
      "185:\tlearn: 1701.0486202\ttotal: 2.27s\tremaining: 9.96s\n",
      "186:\tlearn: 1700.6678570\ttotal: 2.29s\tremaining: 9.94s\n",
      "187:\tlearn: 1700.3391032\ttotal: 2.3s\tremaining: 9.92s\n",
      "188:\tlearn: 1700.1334627\ttotal: 2.31s\tremaining: 9.91s\n",
      "189:\tlearn: 1699.8716535\ttotal: 2.32s\tremaining: 9.9s\n",
      "190:\tlearn: 1699.6545892\ttotal: 2.34s\tremaining: 9.9s\n",
      "191:\tlearn: 1699.4020545\ttotal: 2.35s\tremaining: 9.9s\n",
      "192:\tlearn: 1699.1199620\ttotal: 2.36s\tremaining: 9.88s\n",
      "193:\tlearn: 1698.8872128\ttotal: 2.37s\tremaining: 9.86s\n",
      "194:\tlearn: 1698.7019515\ttotal: 2.38s\tremaining: 9.84s\n",
      "195:\tlearn: 1698.5132538\ttotal: 2.4s\tremaining: 9.82s\n",
      "196:\tlearn: 1698.2878312\ttotal: 2.41s\tremaining: 9.81s\n",
      "197:\tlearn: 1698.0048201\ttotal: 2.42s\tremaining: 9.79s\n",
      "198:\tlearn: 1697.8452221\ttotal: 2.43s\tremaining: 9.78s\n",
      "199:\tlearn: 1697.6285561\ttotal: 2.44s\tremaining: 9.77s\n",
      "200:\tlearn: 1697.3339930\ttotal: 2.45s\tremaining: 9.75s\n",
      "201:\tlearn: 1697.1619305\ttotal: 2.46s\tremaining: 9.74s\n",
      "202:\tlearn: 1697.0167444\ttotal: 2.48s\tremaining: 9.72s\n",
      "203:\tlearn: 1696.8468251\ttotal: 2.49s\tremaining: 9.7s\n",
      "204:\tlearn: 1696.6571530\ttotal: 2.5s\tremaining: 9.68s\n",
      "205:\tlearn: 1696.5143867\ttotal: 2.51s\tremaining: 9.67s\n",
      "206:\tlearn: 1696.3395247\ttotal: 2.52s\tremaining: 9.65s\n",
      "207:\tlearn: 1696.2164046\ttotal: 2.53s\tremaining: 9.64s\n",
      "208:\tlearn: 1696.0911571\ttotal: 2.54s\tremaining: 9.63s\n",
      "209:\tlearn: 1695.9364513\ttotal: 2.55s\tremaining: 9.61s\n",
      "210:\tlearn: 1695.8115473\ttotal: 2.56s\tremaining: 9.59s\n",
      "211:\tlearn: 1695.6410202\ttotal: 2.58s\tremaining: 9.58s\n",
      "212:\tlearn: 1695.4619870\ttotal: 2.59s\tremaining: 9.56s\n",
      "213:\tlearn: 1695.2782791\ttotal: 2.6s\tremaining: 9.54s\n",
      "214:\tlearn: 1694.9285562\ttotal: 2.61s\tremaining: 9.52s\n",
      "215:\tlearn: 1694.6145066\ttotal: 2.62s\tremaining: 9.52s\n",
      "216:\tlearn: 1694.3317751\ttotal: 2.64s\tremaining: 9.52s\n",
      "217:\tlearn: 1694.0724835\ttotal: 2.65s\tremaining: 9.5s\n",
      "218:\tlearn: 1693.8348936\ttotal: 2.66s\tremaining: 9.48s\n",
      "219:\tlearn: 1693.5842163\ttotal: 2.67s\tremaining: 9.46s\n",
      "220:\tlearn: 1693.3095083\ttotal: 2.68s\tremaining: 9.45s\n",
      "221:\tlearn: 1693.0474325\ttotal: 2.69s\tremaining: 9.43s\n",
      "222:\tlearn: 1692.8508479\ttotal: 2.7s\tremaining: 9.41s\n",
      "223:\tlearn: 1692.6613871\ttotal: 2.71s\tremaining: 9.4s\n",
      "224:\tlearn: 1692.4004622\ttotal: 2.73s\tremaining: 9.39s\n",
      "225:\tlearn: 1692.1408401\ttotal: 2.74s\tremaining: 9.37s\n",
      "226:\tlearn: 1691.9440935\ttotal: 2.75s\tremaining: 9.36s\n",
      "227:\tlearn: 1691.7905035\ttotal: 2.76s\tremaining: 9.34s\n",
      "228:\tlearn: 1691.6342173\ttotal: 2.77s\tremaining: 9.33s\n",
      "229:\tlearn: 1691.4250826\ttotal: 2.78s\tremaining: 9.31s\n",
      "230:\tlearn: 1691.2580615\ttotal: 2.79s\tremaining: 9.29s\n",
      "231:\tlearn: 1691.1242769\ttotal: 2.8s\tremaining: 9.28s\n",
      "232:\tlearn: 1690.9876636\ttotal: 2.82s\tremaining: 9.28s\n",
      "233:\tlearn: 1690.8965049\ttotal: 2.83s\tremaining: 9.26s\n",
      "234:\tlearn: 1690.7867884\ttotal: 2.84s\tremaining: 9.24s\n",
      "235:\tlearn: 1690.5609656\ttotal: 2.85s\tremaining: 9.23s\n",
      "236:\tlearn: 1690.3855852\ttotal: 2.86s\tremaining: 9.21s\n",
      "237:\tlearn: 1690.2492972\ttotal: 2.87s\tremaining: 9.2s\n",
      "238:\tlearn: 1690.1053503\ttotal: 2.88s\tremaining: 9.18s\n",
      "239:\tlearn: 1690.0095971\ttotal: 2.89s\tremaining: 9.17s\n",
      "240:\tlearn: 1689.8758705\ttotal: 2.91s\tremaining: 9.15s\n",
      "241:\tlearn: 1689.7368966\ttotal: 2.92s\tremaining: 9.15s\n",
      "242:\tlearn: 1689.5429731\ttotal: 2.93s\tremaining: 9.13s\n",
      "243:\tlearn: 1689.3561275\ttotal: 2.94s\tremaining: 9.12s\n",
      "244:\tlearn: 1689.1760981\ttotal: 2.95s\tremaining: 9.1s\n",
      "245:\tlearn: 1689.0022592\ttotal: 2.96s\tremaining: 9.09s\n",
      "246:\tlearn: 1688.8148838\ttotal: 2.97s\tremaining: 9.07s\n",
      "247:\tlearn: 1688.6690949\ttotal: 2.98s\tremaining: 9.05s\n",
      "248:\tlearn: 1688.5176859\ttotal: 3s\tremaining: 9.04s\n",
      "249:\tlearn: 1688.3521508\ttotal: 3.01s\tremaining: 9.03s\n",
      "250:\tlearn: 1688.2000751\ttotal: 3.02s\tremaining: 9.01s\n",
      "251:\tlearn: 1688.0711641\ttotal: 3.03s\tremaining: 9s\n",
      "252:\tlearn: 1687.9347940\ttotal: 3.04s\tremaining: 8.98s\n",
      "253:\tlearn: 1687.7611986\ttotal: 3.05s\tremaining: 8.96s\n",
      "254:\tlearn: 1687.5939418\ttotal: 3.06s\tremaining: 8.95s\n",
      "255:\tlearn: 1687.4327863\ttotal: 3.07s\tremaining: 8.94s\n",
      "256:\tlearn: 1687.2775122\ttotal: 3.09s\tremaining: 8.92s\n",
      "257:\tlearn: 1687.1279033\ttotal: 3.1s\tremaining: 8.91s\n",
      "258:\tlearn: 1686.9837554\ttotal: 3.11s\tremaining: 8.9s\n",
      "259:\tlearn: 1686.8423428\ttotal: 3.12s\tremaining: 8.89s\n",
      "260:\tlearn: 1686.6327187\ttotal: 3.13s\tremaining: 8.87s\n",
      "261:\tlearn: 1686.4099116\ttotal: 3.14s\tremaining: 8.86s\n",
      "262:\tlearn: 1686.2367859\ttotal: 3.15s\tremaining: 8.84s\n",
      "263:\tlearn: 1686.0680829\ttotal: 3.17s\tremaining: 8.82s\n",
      "264:\tlearn: 1685.9353937\ttotal: 3.18s\tremaining: 8.82s\n",
      "265:\tlearn: 1685.7976385\ttotal: 3.2s\tremaining: 8.82s\n",
      "266:\tlearn: 1685.5829388\ttotal: 3.21s\tremaining: 8.82s\n",
      "267:\tlearn: 1685.4456070\ttotal: 3.23s\tremaining: 8.81s\n",
      "268:\tlearn: 1685.3174148\ttotal: 3.24s\tremaining: 8.81s\n",
      "269:\tlearn: 1685.1742553\ttotal: 3.26s\tremaining: 8.8s\n",
      "270:\tlearn: 1685.0028985\ttotal: 3.28s\tremaining: 8.81s\n",
      "271:\tlearn: 1684.8549955\ttotal: 3.29s\tremaining: 8.81s\n",
      "272:\tlearn: 1684.7071240\ttotal: 3.31s\tremaining: 8.8s\n",
      "273:\tlearn: 1684.5523644\ttotal: 3.32s\tremaining: 8.8s\n",
      "274:\tlearn: 1684.3934626\ttotal: 3.34s\tremaining: 8.8s\n",
      "275:\tlearn: 1684.2655264\ttotal: 3.35s\tremaining: 8.79s\n",
      "276:\tlearn: 1684.1426644\ttotal: 3.37s\tremaining: 8.79s\n",
      "277:\tlearn: 1684.0100019\ttotal: 3.38s\tremaining: 8.79s\n",
      "278:\tlearn: 1683.8882213\ttotal: 3.4s\tremaining: 8.78s\n",
      "279:\tlearn: 1683.7708378\ttotal: 3.41s\tremaining: 8.77s\n",
      "280:\tlearn: 1683.6088885\ttotal: 3.42s\tremaining: 8.76s\n",
      "281:\tlearn: 1683.4940689\ttotal: 3.43s\tremaining: 8.74s\n",
      "282:\tlearn: 1683.3707853\ttotal: 3.44s\tremaining: 8.72s\n",
      "283:\tlearn: 1683.2508774\ttotal: 3.45s\tremaining: 8.71s\n",
      "284:\tlearn: 1683.1148497\ttotal: 3.47s\tremaining: 8.7s\n",
      "285:\tlearn: 1683.0178416\ttotal: 3.48s\tremaining: 8.69s\n",
      "286:\tlearn: 1682.9356603\ttotal: 3.49s\tremaining: 8.67s\n",
      "287:\tlearn: 1682.8445779\ttotal: 3.5s\tremaining: 8.66s\n",
      "288:\tlearn: 1682.7322267\ttotal: 3.51s\tremaining: 8.64s\n",
      "289:\tlearn: 1682.6280050\ttotal: 3.52s\tremaining: 8.63s\n",
      "290:\tlearn: 1682.5297747\ttotal: 3.54s\tremaining: 8.62s\n",
      "291:\tlearn: 1682.4212019\ttotal: 3.55s\tremaining: 8.61s\n",
      "292:\tlearn: 1682.3262065\ttotal: 3.56s\tremaining: 8.59s\n",
      "293:\tlearn: 1682.2446696\ttotal: 3.57s\tremaining: 8.58s\n",
      "294:\tlearn: 1682.1193594\ttotal: 3.58s\tremaining: 8.56s\n",
      "295:\tlearn: 1682.0196824\ttotal: 3.59s\tremaining: 8.55s\n",
      "296:\tlearn: 1681.9233506\ttotal: 3.6s\tremaining: 8.53s\n",
      "297:\tlearn: 1681.7750646\ttotal: 3.62s\tremaining: 8.52s\n",
      "298:\tlearn: 1681.6383956\ttotal: 3.63s\tremaining: 8.5s\n",
      "299:\tlearn: 1681.5120780\ttotal: 3.64s\tremaining: 8.49s\n",
      "300:\tlearn: 1681.3999598\ttotal: 3.65s\tremaining: 8.48s\n",
      "301:\tlearn: 1681.2897455\ttotal: 3.66s\tremaining: 8.47s\n",
      "302:\tlearn: 1681.1452948\ttotal: 3.67s\tremaining: 8.45s\n",
      "303:\tlearn: 1681.0128319\ttotal: 3.69s\tremaining: 8.44s\n",
      "304:\tlearn: 1680.8913612\ttotal: 3.7s\tremaining: 8.42s\n",
      "305:\tlearn: 1680.7716205\ttotal: 3.71s\tremaining: 8.41s\n",
      "306:\tlearn: 1680.6693348\ttotal: 3.72s\tremaining: 8.4s\n",
      "307:\tlearn: 1680.5591450\ttotal: 3.74s\tremaining: 8.39s\n",
      "308:\tlearn: 1680.4472802\ttotal: 3.75s\tremaining: 8.38s\n",
      "309:\tlearn: 1680.3105896\ttotal: 3.76s\tremaining: 8.37s\n",
      "310:\tlearn: 1680.1941903\ttotal: 3.77s\tremaining: 8.35s\n",
      "311:\tlearn: 1680.0724853\ttotal: 3.78s\tremaining: 8.34s\n",
      "312:\tlearn: 1679.9552256\ttotal: 3.79s\tremaining: 8.32s\n",
      "313:\tlearn: 1679.8422467\ttotal: 3.8s\tremaining: 8.3s\n",
      "314:\tlearn: 1679.7333939\ttotal: 3.81s\tremaining: 8.29s\n",
      "315:\tlearn: 1679.6334978\ttotal: 3.83s\tremaining: 8.29s\n",
      "316:\tlearn: 1679.5395960\ttotal: 3.84s\tremaining: 8.28s\n",
      "317:\tlearn: 1679.4330418\ttotal: 3.85s\tremaining: 8.26s\n",
      "318:\tlearn: 1679.3459129\ttotal: 3.86s\tremaining: 8.25s\n",
      "319:\tlearn: 1679.2472424\ttotal: 3.87s\tremaining: 8.23s\n",
      "320:\tlearn: 1679.1352055\ttotal: 3.88s\tremaining: 8.22s\n",
      "321:\tlearn: 1679.0081668\ttotal: 3.9s\tremaining: 8.2s\n",
      "322:\tlearn: 1678.8961325\ttotal: 3.91s\tremaining: 8.19s\n",
      "323:\tlearn: 1678.7890391\ttotal: 3.92s\tremaining: 8.18s\n",
      "324:\tlearn: 1678.6924163\ttotal: 3.93s\tremaining: 8.17s\n",
      "325:\tlearn: 1678.5957404\ttotal: 3.94s\tremaining: 8.15s\n",
      "326:\tlearn: 1678.5122991\ttotal: 3.95s\tremaining: 8.14s\n",
      "327:\tlearn: 1678.4200476\ttotal: 3.96s\tremaining: 8.12s\n",
      "328:\tlearn: 1678.3327429\ttotal: 3.97s\tremaining: 8.11s\n",
      "329:\tlearn: 1678.2228751\ttotal: 3.98s\tremaining: 8.09s\n",
      "330:\tlearn: 1678.1375165\ttotal: 4s\tremaining: 8.08s\n",
      "331:\tlearn: 1678.0474108\ttotal: 4.01s\tremaining: 8.07s\n",
      "332:\tlearn: 1677.9489884\ttotal: 4.02s\tremaining: 8.05s\n",
      "333:\tlearn: 1677.8609819\ttotal: 4.03s\tremaining: 8.04s\n",
      "334:\tlearn: 1677.7845258\ttotal: 4.04s\tremaining: 8.02s\n",
      "335:\tlearn: 1677.7198338\ttotal: 4.05s\tremaining: 8.01s\n",
      "336:\tlearn: 1677.5342417\ttotal: 4.07s\tremaining: 8s\n",
      "337:\tlearn: 1677.3998503\ttotal: 4.08s\tremaining: 7.98s\n",
      "338:\tlearn: 1677.2789234\ttotal: 4.09s\tremaining: 7.97s\n",
      "339:\tlearn: 1677.1806149\ttotal: 4.1s\tremaining: 7.96s\n",
      "340:\tlearn: 1677.0769660\ttotal: 4.11s\tremaining: 7.95s\n",
      "341:\tlearn: 1676.9601365\ttotal: 4.13s\tremaining: 7.94s\n",
      "342:\tlearn: 1676.8558867\ttotal: 4.14s\tremaining: 7.92s\n",
      "343:\tlearn: 1676.7794615\ttotal: 4.15s\tremaining: 7.91s\n",
      "344:\tlearn: 1676.6772939\ttotal: 4.16s\tremaining: 7.9s\n",
      "345:\tlearn: 1676.5774518\ttotal: 4.17s\tremaining: 7.89s\n",
      "346:\tlearn: 1676.5019354\ttotal: 4.19s\tremaining: 7.88s\n",
      "347:\tlearn: 1676.4353854\ttotal: 4.2s\tremaining: 7.88s\n",
      "348:\tlearn: 1676.3293540\ttotal: 4.22s\tremaining: 7.87s\n",
      "349:\tlearn: 1676.2328227\ttotal: 4.24s\tremaining: 7.87s\n",
      "350:\tlearn: 1676.1336730\ttotal: 4.25s\tremaining: 7.86s\n",
      "351:\tlearn: 1676.0310611\ttotal: 4.27s\tremaining: 7.85s\n",
      "352:\tlearn: 1675.9186855\ttotal: 4.29s\tremaining: 7.85s\n",
      "353:\tlearn: 1675.8108193\ttotal: 4.3s\tremaining: 7.84s\n",
      "354:\tlearn: 1675.7167818\ttotal: 4.31s\tremaining: 7.83s\n",
      "355:\tlearn: 1675.6209048\ttotal: 4.32s\tremaining: 7.82s\n",
      "356:\tlearn: 1675.5557926\ttotal: 4.34s\tremaining: 7.81s\n",
      "357:\tlearn: 1675.4835158\ttotal: 4.35s\tremaining: 7.81s\n",
      "358:\tlearn: 1675.4164599\ttotal: 4.37s\tremaining: 7.81s\n",
      "359:\tlearn: 1675.3390833\ttotal: 4.39s\tremaining: 7.8s\n",
      "360:\tlearn: 1675.2754630\ttotal: 4.4s\tremaining: 7.79s\n",
      "361:\tlearn: 1675.1664162\ttotal: 4.41s\tremaining: 7.77s\n",
      "362:\tlearn: 1675.0656182\ttotal: 4.42s\tremaining: 7.76s\n",
      "363:\tlearn: 1674.9616202\ttotal: 4.43s\tremaining: 7.75s\n",
      "364:\tlearn: 1674.8342263\ttotal: 4.45s\tremaining: 7.73s\n",
      "365:\tlearn: 1674.7189052\ttotal: 4.46s\tremaining: 7.72s\n",
      "366:\tlearn: 1674.6145130\ttotal: 4.47s\tremaining: 7.71s\n",
      "367:\tlearn: 1674.4963848\ttotal: 4.48s\tremaining: 7.7s\n",
      "368:\tlearn: 1674.4135919\ttotal: 4.5s\tremaining: 7.69s\n",
      "369:\tlearn: 1674.3380219\ttotal: 4.51s\tremaining: 7.68s\n",
      "370:\tlearn: 1674.2505616\ttotal: 4.52s\tremaining: 7.66s\n",
      "371:\tlearn: 1674.1589973\ttotal: 4.53s\tremaining: 7.65s\n",
      "372:\tlearn: 1674.0796406\ttotal: 4.54s\tremaining: 7.64s\n",
      "373:\tlearn: 1673.9813293\ttotal: 4.56s\tremaining: 7.63s\n",
      "374:\tlearn: 1673.8898039\ttotal: 4.57s\tremaining: 7.62s\n",
      "375:\tlearn: 1673.8095214\ttotal: 4.59s\tremaining: 7.61s\n",
      "376:\tlearn: 1673.7356637\ttotal: 4.6s\tremaining: 7.6s\n",
      "377:\tlearn: 1673.6634903\ttotal: 4.62s\tremaining: 7.59s\n",
      "378:\tlearn: 1673.5735023\ttotal: 4.63s\tremaining: 7.58s\n",
      "379:\tlearn: 1673.4887956\ttotal: 4.64s\tremaining: 7.58s\n",
      "380:\tlearn: 1673.3900011\ttotal: 4.66s\tremaining: 7.57s\n",
      "381:\tlearn: 1673.3017285\ttotal: 4.67s\tremaining: 7.56s\n",
      "382:\tlearn: 1673.2232838\ttotal: 4.68s\tremaining: 7.54s\n",
      "383:\tlearn: 1673.1379031\ttotal: 4.7s\tremaining: 7.53s\n",
      "384:\tlearn: 1673.0665784\ttotal: 4.71s\tremaining: 7.52s\n",
      "385:\tlearn: 1673.0053518\ttotal: 4.73s\tremaining: 7.52s\n",
      "386:\tlearn: 1672.9357819\ttotal: 4.74s\tremaining: 7.51s\n",
      "387:\tlearn: 1672.8747022\ttotal: 4.76s\tremaining: 7.5s\n",
      "388:\tlearn: 1672.7915562\ttotal: 4.77s\tremaining: 7.49s\n",
      "389:\tlearn: 1672.7183564\ttotal: 4.78s\tremaining: 7.48s\n",
      "390:\tlearn: 1672.6547652\ttotal: 4.8s\tremaining: 7.47s\n",
      "391:\tlearn: 1672.5784370\ttotal: 4.81s\tremaining: 7.47s\n",
      "392:\tlearn: 1672.5251186\ttotal: 4.83s\tremaining: 7.46s\n",
      "393:\tlearn: 1672.4586457\ttotal: 4.85s\tremaining: 7.46s\n",
      "394:\tlearn: 1672.3921271\ttotal: 4.86s\tremaining: 7.45s\n",
      "395:\tlearn: 1672.3089500\ttotal: 4.88s\tremaining: 7.44s\n",
      "396:\tlearn: 1672.2283551\ttotal: 4.89s\tremaining: 7.42s\n",
      "397:\tlearn: 1672.1107047\ttotal: 4.9s\tremaining: 7.41s\n",
      "398:\tlearn: 1672.0121304\ttotal: 4.91s\tremaining: 7.39s\n",
      "399:\tlearn: 1671.9178552\ttotal: 4.92s\tremaining: 7.38s\n",
      "400:\tlearn: 1671.8270239\ttotal: 4.93s\tremaining: 7.37s\n",
      "401:\tlearn: 1671.7411418\ttotal: 4.95s\tremaining: 7.36s\n",
      "402:\tlearn: 1671.6766303\ttotal: 4.96s\tremaining: 7.35s\n",
      "403:\tlearn: 1671.6089438\ttotal: 4.97s\tremaining: 7.34s\n",
      "404:\tlearn: 1671.5358212\ttotal: 4.99s\tremaining: 7.32s\n",
      "405:\tlearn: 1671.4674711\ttotal: 5s\tremaining: 7.31s\n",
      "406:\tlearn: 1671.3995620\ttotal: 5.01s\tremaining: 7.29s\n",
      "407:\tlearn: 1671.3128008\ttotal: 5.02s\tremaining: 7.28s\n",
      "408:\tlearn: 1671.2292118\ttotal: 5.03s\tremaining: 7.27s\n",
      "409:\tlearn: 1671.1486759\ttotal: 5.04s\tremaining: 7.26s\n",
      "410:\tlearn: 1671.0677020\ttotal: 5.05s\tremaining: 7.25s\n",
      "411:\tlearn: 1671.0021684\ttotal: 5.07s\tremaining: 7.23s\n",
      "412:\tlearn: 1670.9245670\ttotal: 5.08s\tremaining: 7.22s\n",
      "413:\tlearn: 1670.8498017\ttotal: 5.09s\tremaining: 7.2s\n",
      "414:\tlearn: 1670.7777686\ttotal: 5.1s\tremaining: 7.19s\n",
      "415:\tlearn: 1670.7083670\ttotal: 5.11s\tremaining: 7.17s\n",
      "416:\tlearn: 1670.6428871\ttotal: 5.12s\tremaining: 7.16s\n",
      "417:\tlearn: 1670.5615723\ttotal: 5.13s\tremaining: 7.15s\n",
      "418:\tlearn: 1670.4880716\ttotal: 5.15s\tremaining: 7.14s\n",
      "419:\tlearn: 1670.4216339\ttotal: 5.16s\tremaining: 7.12s\n",
      "420:\tlearn: 1670.3586036\ttotal: 5.17s\tremaining: 7.11s\n",
      "421:\tlearn: 1670.2941700\ttotal: 5.18s\tremaining: 7.09s\n",
      "422:\tlearn: 1670.2320917\ttotal: 5.19s\tremaining: 7.08s\n",
      "423:\tlearn: 1670.1693355\ttotal: 5.2s\tremaining: 7.07s\n",
      "424:\tlearn: 1670.1013156\ttotal: 5.21s\tremaining: 7.05s\n",
      "425:\tlearn: 1670.0398890\ttotal: 5.23s\tremaining: 7.04s\n",
      "426:\tlearn: 1669.9417682\ttotal: 5.24s\tremaining: 7.03s\n",
      "427:\tlearn: 1669.8450867\ttotal: 5.25s\tremaining: 7.01s\n",
      "428:\tlearn: 1669.7558528\ttotal: 5.26s\tremaining: 7s\n",
      "429:\tlearn: 1669.6748311\ttotal: 5.27s\tremaining: 6.99s\n",
      "430:\tlearn: 1669.6079324\ttotal: 5.28s\tremaining: 6.97s\n",
      "431:\tlearn: 1669.5255621\ttotal: 5.29s\tremaining: 6.96s\n",
      "432:\tlearn: 1669.4495388\ttotal: 5.3s\tremaining: 6.94s\n",
      "433:\tlearn: 1669.3793710\ttotal: 5.31s\tremaining: 6.93s\n",
      "434:\tlearn: 1669.3129800\ttotal: 5.32s\tremaining: 6.92s\n",
      "435:\tlearn: 1669.2379354\ttotal: 5.33s\tremaining: 6.9s\n",
      "436:\tlearn: 1669.2017954\ttotal: 5.34s\tremaining: 6.89s\n",
      "437:\tlearn: 1669.1489604\ttotal: 5.36s\tremaining: 6.87s\n",
      "438:\tlearn: 1669.0821636\ttotal: 5.37s\tremaining: 6.86s\n",
      "439:\tlearn: 1669.0254975\ttotal: 5.38s\tremaining: 6.84s\n",
      "440:\tlearn: 1668.9343670\ttotal: 5.39s\tremaining: 6.83s\n",
      "441:\tlearn: 1668.8519439\ttotal: 5.4s\tremaining: 6.82s\n",
      "442:\tlearn: 1668.7798988\ttotal: 5.41s\tremaining: 6.81s\n",
      "443:\tlearn: 1668.7170658\ttotal: 5.42s\tremaining: 6.79s\n",
      "444:\tlearn: 1668.6643647\ttotal: 5.43s\tremaining: 6.78s\n",
      "445:\tlearn: 1668.6114881\ttotal: 5.45s\tremaining: 6.76s\n",
      "446:\tlearn: 1668.5528385\ttotal: 5.46s\tremaining: 6.75s\n",
      "447:\tlearn: 1668.4980835\ttotal: 5.47s\tremaining: 6.75s\n",
      "448:\tlearn: 1668.4497778\ttotal: 5.49s\tremaining: 6.74s\n",
      "449:\tlearn: 1668.4042942\ttotal: 5.5s\tremaining: 6.73s\n",
      "450:\tlearn: 1668.3319174\ttotal: 5.52s\tremaining: 6.72s\n",
      "451:\tlearn: 1668.2771781\ttotal: 5.53s\tremaining: 6.71s\n",
      "452:\tlearn: 1668.2259929\ttotal: 5.55s\tremaining: 6.7s\n",
      "453:\tlearn: 1668.1835259\ttotal: 5.56s\tremaining: 6.69s\n",
      "454:\tlearn: 1668.1166655\ttotal: 5.57s\tremaining: 6.68s\n",
      "455:\tlearn: 1668.0685433\ttotal: 5.58s\tremaining: 6.66s\n",
      "456:\tlearn: 1668.0104755\ttotal: 5.6s\tremaining: 6.65s\n",
      "457:\tlearn: 1667.9422910\ttotal: 5.61s\tremaining: 6.63s\n",
      "458:\tlearn: 1667.8822285\ttotal: 5.62s\tremaining: 6.62s\n",
      "459:\tlearn: 1667.8278276\ttotal: 5.63s\tremaining: 6.61s\n",
      "460:\tlearn: 1667.7598500\ttotal: 5.64s\tremaining: 6.59s\n",
      "461:\tlearn: 1667.7193319\ttotal: 5.65s\tremaining: 6.58s\n",
      "462:\tlearn: 1667.6461867\ttotal: 5.67s\tremaining: 6.57s\n",
      "463:\tlearn: 1667.5982073\ttotal: 5.68s\tremaining: 6.56s\n",
      "464:\tlearn: 1667.5290567\ttotal: 5.69s\tremaining: 6.55s\n",
      "465:\tlearn: 1667.4672979\ttotal: 5.71s\tremaining: 6.54s\n",
      "466:\tlearn: 1667.4135489\ttotal: 5.71s\tremaining: 6.52s\n",
      "467:\tlearn: 1667.3599053\ttotal: 5.73s\tremaining: 6.51s\n",
      "468:\tlearn: 1667.3187360\ttotal: 5.74s\tremaining: 6.49s\n",
      "469:\tlearn: 1667.2598056\ttotal: 5.75s\tremaining: 6.48s\n",
      "470:\tlearn: 1667.2025104\ttotal: 5.76s\tremaining: 6.47s\n",
      "471:\tlearn: 1667.1347720\ttotal: 5.77s\tremaining: 6.46s\n",
      "472:\tlearn: 1667.0738939\ttotal: 5.78s\tremaining: 6.44s\n",
      "473:\tlearn: 1667.0155213\ttotal: 5.79s\tremaining: 6.43s\n",
      "474:\tlearn: 1666.9625592\ttotal: 5.8s\tremaining: 6.41s\n",
      "475:\tlearn: 1666.9302606\ttotal: 5.81s\tremaining: 6.4s\n",
      "476:\tlearn: 1666.8804009\ttotal: 5.82s\tremaining: 6.38s\n",
      "477:\tlearn: 1666.8405275\ttotal: 5.83s\tremaining: 6.37s\n",
      "478:\tlearn: 1666.7985341\ttotal: 5.84s\tremaining: 6.36s\n",
      "479:\tlearn: 1666.7295233\ttotal: 5.86s\tremaining: 6.34s\n",
      "480:\tlearn: 1666.6659950\ttotal: 5.87s\tremaining: 6.33s\n",
      "481:\tlearn: 1666.6063689\ttotal: 5.88s\tremaining: 6.32s\n",
      "482:\tlearn: 1666.5386346\ttotal: 5.89s\tremaining: 6.3s\n",
      "483:\tlearn: 1666.4676086\ttotal: 5.9s\tremaining: 6.29s\n",
      "484:\tlearn: 1666.4132339\ttotal: 5.91s\tremaining: 6.27s\n",
      "485:\tlearn: 1666.3535786\ttotal: 5.92s\tremaining: 6.26s\n",
      "486:\tlearn: 1666.2881717\ttotal: 5.93s\tremaining: 6.25s\n",
      "487:\tlearn: 1666.2252884\ttotal: 5.94s\tremaining: 6.23s\n",
      "488:\tlearn: 1666.1672503\ttotal: 5.95s\tremaining: 6.22s\n",
      "489:\tlearn: 1666.1041639\ttotal: 5.96s\tremaining: 6.21s\n",
      "490:\tlearn: 1666.0442017\ttotal: 5.97s\tremaining: 6.19s\n",
      "491:\tlearn: 1665.9872092\ttotal: 5.99s\tremaining: 6.18s\n",
      "492:\tlearn: 1665.9382502\ttotal: 6s\tremaining: 6.17s\n",
      "493:\tlearn: 1665.8800978\ttotal: 6.01s\tremaining: 6.15s\n",
      "494:\tlearn: 1665.8266459\ttotal: 6.02s\tremaining: 6.14s\n",
      "495:\tlearn: 1665.7697558\ttotal: 6.03s\tremaining: 6.13s\n",
      "496:\tlearn: 1665.7079677\ttotal: 6.05s\tremaining: 6.12s\n",
      "497:\tlearn: 1665.6566187\ttotal: 6.06s\tremaining: 6.11s\n",
      "498:\tlearn: 1665.6132672\ttotal: 6.07s\tremaining: 6.09s\n",
      "499:\tlearn: 1665.5725544\ttotal: 6.08s\tremaining: 6.08s\n",
      "500:\tlearn: 1665.5102923\ttotal: 6.09s\tremaining: 6.06s\n",
      "501:\tlearn: 1665.4541880\ttotal: 6.1s\tremaining: 6.05s\n",
      "502:\tlearn: 1665.3923390\ttotal: 6.11s\tremaining: 6.04s\n",
      "503:\tlearn: 1665.3345204\ttotal: 6.12s\tremaining: 6.02s\n",
      "504:\tlearn: 1665.2882117\ttotal: 6.13s\tremaining: 6.01s\n",
      "505:\tlearn: 1665.2185849\ttotal: 6.14s\tremaining: 6s\n",
      "506:\tlearn: 1665.1621239\ttotal: 6.16s\tremaining: 5.99s\n",
      "507:\tlearn: 1665.1229266\ttotal: 6.17s\tremaining: 5.97s\n",
      "508:\tlearn: 1665.0680423\ttotal: 6.18s\tremaining: 5.96s\n",
      "509:\tlearn: 1665.0125665\ttotal: 6.19s\tremaining: 5.95s\n",
      "510:\tlearn: 1664.9637084\ttotal: 6.21s\tremaining: 5.94s\n",
      "511:\tlearn: 1664.9208115\ttotal: 6.22s\tremaining: 5.93s\n",
      "512:\tlearn: 1664.8712399\ttotal: 6.23s\tremaining: 5.92s\n",
      "513:\tlearn: 1664.8192166\ttotal: 6.24s\tremaining: 5.9s\n",
      "514:\tlearn: 1664.7681787\ttotal: 6.25s\tremaining: 5.89s\n",
      "515:\tlearn: 1664.7220866\ttotal: 6.26s\tremaining: 5.88s\n",
      "516:\tlearn: 1664.6636655\ttotal: 6.28s\tremaining: 5.86s\n",
      "517:\tlearn: 1664.6037540\ttotal: 6.29s\tremaining: 5.85s\n",
      "518:\tlearn: 1664.5437565\ttotal: 6.3s\tremaining: 5.84s\n",
      "519:\tlearn: 1664.4884480\ttotal: 6.31s\tremaining: 5.83s\n",
      "520:\tlearn: 1664.4321656\ttotal: 6.33s\tremaining: 5.82s\n",
      "521:\tlearn: 1664.3813405\ttotal: 6.33s\tremaining: 5.8s\n",
      "522:\tlearn: 1664.3312636\ttotal: 6.35s\tremaining: 5.79s\n",
      "523:\tlearn: 1664.2863451\ttotal: 6.36s\tremaining: 5.78s\n",
      "524:\tlearn: 1664.2455335\ttotal: 6.37s\tremaining: 5.76s\n",
      "525:\tlearn: 1664.1995804\ttotal: 6.38s\tremaining: 5.75s\n",
      "526:\tlearn: 1664.1559748\ttotal: 6.39s\tremaining: 5.73s\n",
      "527:\tlearn: 1664.1090606\ttotal: 6.4s\tremaining: 5.72s\n",
      "528:\tlearn: 1664.0603883\ttotal: 6.41s\tremaining: 5.71s\n",
      "529:\tlearn: 1664.0111424\ttotal: 6.42s\tremaining: 5.7s\n",
      "530:\tlearn: 1663.9700499\ttotal: 6.44s\tremaining: 5.68s\n",
      "531:\tlearn: 1663.9207429\ttotal: 6.45s\tremaining: 5.67s\n",
      "532:\tlearn: 1663.8757198\ttotal: 6.46s\tremaining: 5.66s\n",
      "533:\tlearn: 1663.8204575\ttotal: 6.47s\tremaining: 5.64s\n",
      "534:\tlearn: 1663.7769465\ttotal: 6.48s\tremaining: 5.63s\n",
      "535:\tlearn: 1663.7247994\ttotal: 6.49s\tremaining: 5.62s\n",
      "536:\tlearn: 1663.6470614\ttotal: 6.5s\tremaining: 5.61s\n",
      "537:\tlearn: 1663.5799677\ttotal: 6.52s\tremaining: 5.6s\n",
      "538:\tlearn: 1663.5176123\ttotal: 6.53s\tremaining: 5.58s\n",
      "539:\tlearn: 1663.4546581\ttotal: 6.54s\tremaining: 5.57s\n",
      "540:\tlearn: 1663.4028944\ttotal: 6.55s\tremaining: 5.56s\n",
      "541:\tlearn: 1663.3677730\ttotal: 6.56s\tremaining: 5.54s\n",
      "542:\tlearn: 1663.3293054\ttotal: 6.57s\tremaining: 5.53s\n",
      "543:\tlearn: 1663.2728307\ttotal: 6.59s\tremaining: 5.52s\n",
      "544:\tlearn: 1663.2246401\ttotal: 6.6s\tremaining: 5.51s\n",
      "545:\tlearn: 1663.1753964\ttotal: 6.61s\tremaining: 5.5s\n",
      "546:\tlearn: 1663.1232789\ttotal: 6.62s\tremaining: 5.48s\n",
      "547:\tlearn: 1663.0717440\ttotal: 6.63s\tremaining: 5.47s\n",
      "548:\tlearn: 1663.0267229\ttotal: 6.64s\tremaining: 5.46s\n",
      "549:\tlearn: 1662.9816146\ttotal: 6.65s\tremaining: 5.44s\n",
      "550:\tlearn: 1662.9287512\ttotal: 6.66s\tremaining: 5.43s\n",
      "551:\tlearn: 1662.8759146\ttotal: 6.68s\tremaining: 5.42s\n",
      "552:\tlearn: 1662.8315045\ttotal: 6.69s\tremaining: 5.41s\n",
      "553:\tlearn: 1662.7859001\ttotal: 6.7s\tremaining: 5.4s\n",
      "554:\tlearn: 1662.7392253\ttotal: 6.71s\tremaining: 5.38s\n",
      "555:\tlearn: 1662.6919263\ttotal: 6.72s\tremaining: 5.37s\n",
      "556:\tlearn: 1662.6456385\ttotal: 6.74s\tremaining: 5.36s\n",
      "557:\tlearn: 1662.5931707\ttotal: 6.75s\tremaining: 5.34s\n",
      "558:\tlearn: 1662.5428813\ttotal: 6.76s\tremaining: 5.33s\n",
      "559:\tlearn: 1662.4946760\ttotal: 6.78s\tremaining: 5.32s\n",
      "560:\tlearn: 1662.4484705\ttotal: 6.79s\tremaining: 5.31s\n",
      "561:\tlearn: 1662.4078655\ttotal: 6.81s\tremaining: 5.3s\n",
      "562:\tlearn: 1662.3632877\ttotal: 6.82s\tremaining: 5.29s\n",
      "563:\tlearn: 1662.3196546\ttotal: 6.84s\tremaining: 5.29s\n",
      "564:\tlearn: 1662.2794300\ttotal: 6.85s\tremaining: 5.28s\n",
      "565:\tlearn: 1662.2348156\ttotal: 6.87s\tremaining: 5.26s\n",
      "566:\tlearn: 1662.1913350\ttotal: 6.88s\tremaining: 5.25s\n",
      "567:\tlearn: 1662.1466837\ttotal: 6.9s\tremaining: 5.25s\n",
      "568:\tlearn: 1662.1081361\ttotal: 6.91s\tremaining: 5.24s\n",
      "569:\tlearn: 1662.0717575\ttotal: 6.93s\tremaining: 5.22s\n",
      "570:\tlearn: 1662.0290666\ttotal: 6.94s\tremaining: 5.21s\n",
      "571:\tlearn: 1661.9876509\ttotal: 6.95s\tremaining: 5.2s\n",
      "572:\tlearn: 1661.9503777\ttotal: 6.97s\tremaining: 5.19s\n",
      "573:\tlearn: 1661.9133267\ttotal: 6.98s\tremaining: 5.18s\n",
      "574:\tlearn: 1661.8637998\ttotal: 6.99s\tremaining: 5.17s\n",
      "575:\tlearn: 1661.8265843\ttotal: 7s\tremaining: 5.15s\n",
      "576:\tlearn: 1661.7942275\ttotal: 7.01s\tremaining: 5.14s\n",
      "577:\tlearn: 1661.7356343\ttotal: 7.02s\tremaining: 5.13s\n",
      "578:\tlearn: 1661.6850651\ttotal: 7.03s\tremaining: 5.11s\n",
      "579:\tlearn: 1661.6414181\ttotal: 7.04s\tremaining: 5.1s\n",
      "580:\tlearn: 1661.6037469\ttotal: 7.06s\tremaining: 5.09s\n",
      "581:\tlearn: 1661.5691078\ttotal: 7.07s\tremaining: 5.08s\n",
      "582:\tlearn: 1661.5305676\ttotal: 7.08s\tremaining: 5.06s\n",
      "583:\tlearn: 1661.4746688\ttotal: 7.09s\tremaining: 5.05s\n",
      "584:\tlearn: 1661.4315121\ttotal: 7.1s\tremaining: 5.04s\n",
      "585:\tlearn: 1661.3973822\ttotal: 7.11s\tremaining: 5.02s\n",
      "586:\tlearn: 1661.3632325\ttotal: 7.12s\tremaining: 5.01s\n",
      "587:\tlearn: 1661.3257840\ttotal: 7.13s\tremaining: 5s\n",
      "588:\tlearn: 1661.2875354\ttotal: 7.15s\tremaining: 4.99s\n",
      "589:\tlearn: 1661.2619760\ttotal: 7.16s\tremaining: 4.98s\n",
      "590:\tlearn: 1661.2238784\ttotal: 7.17s\tremaining: 4.96s\n",
      "591:\tlearn: 1661.1903950\ttotal: 7.18s\tremaining: 4.95s\n",
      "592:\tlearn: 1661.1597280\ttotal: 7.2s\tremaining: 4.94s\n",
      "593:\tlearn: 1661.1275097\ttotal: 7.21s\tremaining: 4.92s\n",
      "594:\tlearn: 1661.0869505\ttotal: 7.22s\tremaining: 4.91s\n",
      "595:\tlearn: 1661.0521510\ttotal: 7.23s\tremaining: 4.9s\n",
      "596:\tlearn: 1661.0211763\ttotal: 7.24s\tremaining: 4.89s\n",
      "597:\tlearn: 1660.9876529\ttotal: 7.26s\tremaining: 4.88s\n",
      "598:\tlearn: 1660.9308136\ttotal: 7.27s\tremaining: 4.87s\n",
      "599:\tlearn: 1660.8760540\ttotal: 7.28s\tremaining: 4.86s\n",
      "600:\tlearn: 1660.8232961\ttotal: 7.29s\tremaining: 4.84s\n",
      "601:\tlearn: 1660.7724661\ttotal: 7.3s\tremaining: 4.83s\n",
      "602:\tlearn: 1660.7234942\ttotal: 7.32s\tremaining: 4.82s\n",
      "603:\tlearn: 1660.6725993\ttotal: 7.33s\tremaining: 4.8s\n",
      "604:\tlearn: 1660.6207835\ttotal: 7.34s\tremaining: 4.79s\n",
      "605:\tlearn: 1660.5685928\ttotal: 7.35s\tremaining: 4.78s\n",
      "606:\tlearn: 1660.5164793\ttotal: 7.36s\tremaining: 4.77s\n",
      "607:\tlearn: 1660.4766646\ttotal: 7.37s\tremaining: 4.75s\n",
      "608:\tlearn: 1660.4254496\ttotal: 7.38s\tremaining: 4.74s\n",
      "609:\tlearn: 1660.3679587\ttotal: 7.39s\tremaining: 4.73s\n",
      "610:\tlearn: 1660.3148745\ttotal: 7.41s\tremaining: 4.72s\n",
      "611:\tlearn: 1660.2642377\ttotal: 7.42s\tremaining: 4.71s\n",
      "612:\tlearn: 1660.2173422\ttotal: 7.44s\tremaining: 4.7s\n",
      "613:\tlearn: 1660.1635643\ttotal: 7.45s\tremaining: 4.68s\n",
      "614:\tlearn: 1660.1105702\ttotal: 7.46s\tremaining: 4.67s\n",
      "615:\tlearn: 1660.0583475\ttotal: 7.47s\tremaining: 4.66s\n",
      "616:\tlearn: 1660.0068853\ttotal: 7.48s\tremaining: 4.64s\n",
      "617:\tlearn: 1659.9561723\ttotal: 7.5s\tremaining: 4.63s\n",
      "618:\tlearn: 1659.9050339\ttotal: 7.51s\tremaining: 4.62s\n",
      "619:\tlearn: 1659.8555801\ttotal: 7.52s\tremaining: 4.61s\n",
      "620:\tlearn: 1659.8035323\ttotal: 7.53s\tremaining: 4.6s\n",
      "621:\tlearn: 1659.7542825\ttotal: 7.54s\tremaining: 4.58s\n",
      "622:\tlearn: 1659.7057498\ttotal: 7.55s\tremaining: 4.57s\n",
      "623:\tlearn: 1659.6579238\ttotal: 7.56s\tremaining: 4.56s\n",
      "624:\tlearn: 1659.6107943\ttotal: 7.58s\tremaining: 4.54s\n",
      "625:\tlearn: 1659.5643510\ttotal: 7.59s\tremaining: 4.53s\n",
      "626:\tlearn: 1659.5185842\ttotal: 7.6s\tremaining: 4.52s\n",
      "627:\tlearn: 1659.4717101\ttotal: 7.61s\tremaining: 4.51s\n",
      "628:\tlearn: 1659.4250058\ttotal: 7.62s\tremaining: 4.5s\n",
      "629:\tlearn: 1659.3892871\ttotal: 7.63s\tremaining: 4.48s\n",
      "630:\tlearn: 1659.3517526\ttotal: 7.64s\tremaining: 4.47s\n",
      "631:\tlearn: 1659.3155870\ttotal: 7.66s\tremaining: 4.46s\n",
      "632:\tlearn: 1659.2643858\ttotal: 7.67s\tremaining: 4.44s\n",
      "633:\tlearn: 1659.2241445\ttotal: 7.68s\tremaining: 4.43s\n",
      "634:\tlearn: 1659.1868824\ttotal: 7.69s\tremaining: 4.42s\n",
      "635:\tlearn: 1659.1542900\ttotal: 7.7s\tremaining: 4.41s\n",
      "636:\tlearn: 1659.1051595\ttotal: 7.71s\tremaining: 4.39s\n",
      "637:\tlearn: 1659.0658116\ttotal: 7.72s\tremaining: 4.38s\n",
      "638:\tlearn: 1659.0327103\ttotal: 7.74s\tremaining: 4.37s\n",
      "639:\tlearn: 1658.9980743\ttotal: 7.75s\tremaining: 4.36s\n",
      "640:\tlearn: 1658.9546649\ttotal: 7.76s\tremaining: 4.34s\n",
      "641:\tlearn: 1658.9097814\ttotal: 7.77s\tremaining: 4.33s\n",
      "642:\tlearn: 1658.8687540\ttotal: 7.78s\tremaining: 4.32s\n",
      "643:\tlearn: 1658.8370162\ttotal: 7.79s\tremaining: 4.31s\n",
      "644:\tlearn: 1658.7996641\ttotal: 7.8s\tremaining: 4.29s\n",
      "645:\tlearn: 1658.7624070\ttotal: 7.82s\tremaining: 4.28s\n",
      "646:\tlearn: 1658.7226575\ttotal: 7.83s\tremaining: 4.27s\n",
      "647:\tlearn: 1658.6800602\ttotal: 7.84s\tremaining: 4.26s\n",
      "648:\tlearn: 1658.6395728\ttotal: 7.85s\tremaining: 4.24s\n",
      "649:\tlearn: 1658.5975259\ttotal: 7.86s\tremaining: 4.23s\n",
      "650:\tlearn: 1658.5560574\ttotal: 7.87s\tremaining: 4.22s\n",
      "651:\tlearn: 1658.5109775\ttotal: 7.88s\tremaining: 4.21s\n",
      "652:\tlearn: 1658.4665547\ttotal: 7.89s\tremaining: 4.19s\n",
      "653:\tlearn: 1658.4227788\ttotal: 7.91s\tremaining: 4.18s\n",
      "654:\tlearn: 1658.3796405\ttotal: 7.92s\tremaining: 4.17s\n",
      "655:\tlearn: 1658.3371305\ttotal: 7.93s\tremaining: 4.16s\n",
      "656:\tlearn: 1658.2952397\ttotal: 7.94s\tremaining: 4.14s\n",
      "657:\tlearn: 1658.2539591\ttotal: 7.95s\tremaining: 4.13s\n",
      "658:\tlearn: 1658.2132798\ttotal: 7.96s\tremaining: 4.12s\n",
      "659:\tlearn: 1658.1731930\ttotal: 7.97s\tremaining: 4.11s\n",
      "660:\tlearn: 1658.1360197\ttotal: 7.98s\tremaining: 4.09s\n",
      "661:\tlearn: 1658.0975260\ttotal: 8s\tremaining: 4.08s\n",
      "662:\tlearn: 1658.0585420\ttotal: 8.01s\tremaining: 4.07s\n",
      "663:\tlearn: 1658.0196128\ttotal: 8.02s\tremaining: 4.06s\n",
      "664:\tlearn: 1657.9812508\ttotal: 8.03s\tremaining: 4.04s\n",
      "665:\tlearn: 1657.9434476\ttotal: 8.04s\tremaining: 4.03s\n",
      "666:\tlearn: 1657.9061951\ttotal: 8.05s\tremaining: 4.02s\n",
      "667:\tlearn: 1657.8694854\ttotal: 8.06s\tremaining: 4.01s\n",
      "668:\tlearn: 1657.8317692\ttotal: 8.07s\tremaining: 4s\n",
      "669:\tlearn: 1657.7938988\ttotal: 8.09s\tremaining: 3.98s\n",
      "670:\tlearn: 1657.7578550\ttotal: 8.1s\tremaining: 3.97s\n",
      "671:\tlearn: 1657.7213386\ttotal: 8.11s\tremaining: 3.96s\n",
      "672:\tlearn: 1657.6829670\ttotal: 8.12s\tremaining: 3.95s\n",
      "673:\tlearn: 1657.6490255\ttotal: 8.13s\tremaining: 3.93s\n",
      "674:\tlearn: 1657.6157926\ttotal: 8.14s\tremaining: 3.92s\n",
      "675:\tlearn: 1657.5783265\ttotal: 8.16s\tremaining: 3.91s\n",
      "676:\tlearn: 1657.5411489\ttotal: 8.17s\tremaining: 3.9s\n",
      "677:\tlearn: 1657.5025614\ttotal: 8.18s\tremaining: 3.88s\n",
      "678:\tlearn: 1657.4707377\ttotal: 8.19s\tremaining: 3.87s\n",
      "679:\tlearn: 1657.4413041\ttotal: 8.2s\tremaining: 3.86s\n",
      "680:\tlearn: 1657.4072433\ttotal: 8.21s\tremaining: 3.85s\n",
      "681:\tlearn: 1657.3699141\ttotal: 8.22s\tremaining: 3.83s\n",
      "682:\tlearn: 1657.3385635\ttotal: 8.24s\tremaining: 3.82s\n",
      "683:\tlearn: 1657.2958235\ttotal: 8.25s\tremaining: 3.81s\n",
      "684:\tlearn: 1657.2479573\ttotal: 8.26s\tremaining: 3.8s\n",
      "685:\tlearn: 1657.2037207\ttotal: 8.27s\tremaining: 3.79s\n",
      "686:\tlearn: 1657.1551071\ttotal: 8.28s\tremaining: 3.77s\n",
      "687:\tlearn: 1657.1081207\ttotal: 8.29s\tremaining: 3.76s\n",
      "688:\tlearn: 1657.0739217\ttotal: 8.3s\tremaining: 3.75s\n",
      "689:\tlearn: 1657.0274015\ttotal: 8.31s\tremaining: 3.73s\n",
      "690:\tlearn: 1656.9732159\ttotal: 8.32s\tremaining: 3.72s\n",
      "691:\tlearn: 1656.9223109\ttotal: 8.33s\tremaining: 3.71s\n",
      "692:\tlearn: 1656.8744870\ttotal: 8.35s\tremaining: 3.7s\n",
      "693:\tlearn: 1656.8295582\ttotal: 8.36s\tremaining: 3.69s\n",
      "694:\tlearn: 1656.7824873\ttotal: 8.37s\tremaining: 3.67s\n",
      "695:\tlearn: 1656.7398788\ttotal: 8.38s\tremaining: 3.66s\n",
      "696:\tlearn: 1656.6976671\ttotal: 8.39s\tremaining: 3.65s\n",
      "697:\tlearn: 1656.6555280\ttotal: 8.4s\tremaining: 3.63s\n",
      "698:\tlearn: 1656.6175560\ttotal: 8.41s\tremaining: 3.62s\n",
      "699:\tlearn: 1656.5778979\ttotal: 8.43s\tremaining: 3.61s\n",
      "700:\tlearn: 1656.5393250\ttotal: 8.44s\tremaining: 3.6s\n",
      "701:\tlearn: 1656.4971922\ttotal: 8.45s\tremaining: 3.58s\n",
      "702:\tlearn: 1656.4559934\ttotal: 8.46s\tremaining: 3.57s\n",
      "703:\tlearn: 1656.4164161\ttotal: 8.47s\tremaining: 3.56s\n",
      "704:\tlearn: 1656.3826730\ttotal: 8.48s\tremaining: 3.55s\n",
      "705:\tlearn: 1656.3485251\ttotal: 8.49s\tremaining: 3.54s\n",
      "706:\tlearn: 1656.3189125\ttotal: 8.5s\tremaining: 3.52s\n",
      "707:\tlearn: 1656.2808602\ttotal: 8.52s\tremaining: 3.51s\n",
      "708:\tlearn: 1656.2457990\ttotal: 8.53s\tremaining: 3.5s\n",
      "709:\tlearn: 1656.2134508\ttotal: 8.54s\tremaining: 3.49s\n",
      "710:\tlearn: 1656.1793663\ttotal: 8.55s\tremaining: 3.48s\n",
      "711:\tlearn: 1656.1451756\ttotal: 8.56s\tremaining: 3.46s\n",
      "712:\tlearn: 1656.1165906\ttotal: 8.57s\tremaining: 3.45s\n",
      "713:\tlearn: 1656.0809477\ttotal: 8.59s\tremaining: 3.44s\n",
      "714:\tlearn: 1656.0410450\ttotal: 8.6s\tremaining: 3.43s\n",
      "715:\tlearn: 1656.0135754\ttotal: 8.61s\tremaining: 3.41s\n",
      "716:\tlearn: 1655.9843110\ttotal: 8.62s\tremaining: 3.4s\n",
      "717:\tlearn: 1655.9585758\ttotal: 8.63s\tremaining: 3.39s\n",
      "718:\tlearn: 1655.9232349\ttotal: 8.64s\tremaining: 3.38s\n",
      "719:\tlearn: 1655.8842040\ttotal: 8.65s\tremaining: 3.37s\n",
      "720:\tlearn: 1655.8501109\ttotal: 8.67s\tremaining: 3.35s\n",
      "721:\tlearn: 1655.8180286\ttotal: 8.68s\tremaining: 3.34s\n",
      "722:\tlearn: 1655.7872401\ttotal: 8.69s\tremaining: 3.33s\n",
      "723:\tlearn: 1655.7491833\ttotal: 8.7s\tremaining: 3.32s\n",
      "724:\tlearn: 1655.7134310\ttotal: 8.71s\tremaining: 3.3s\n",
      "725:\tlearn: 1655.6769607\ttotal: 8.72s\tremaining: 3.29s\n",
      "726:\tlearn: 1655.6301882\ttotal: 8.74s\tremaining: 3.28s\n",
      "727:\tlearn: 1655.5851264\ttotal: 8.76s\tremaining: 3.27s\n",
      "728:\tlearn: 1655.5417119\ttotal: 8.77s\tremaining: 3.26s\n",
      "729:\tlearn: 1655.5001136\ttotal: 8.78s\tremaining: 3.25s\n",
      "730:\tlearn: 1655.4673155\ttotal: 8.79s\tremaining: 3.23s\n",
      "731:\tlearn: 1655.4291950\ttotal: 8.8s\tremaining: 3.22s\n",
      "732:\tlearn: 1655.3887555\ttotal: 8.81s\tremaining: 3.21s\n",
      "733:\tlearn: 1655.3482889\ttotal: 8.83s\tremaining: 3.2s\n",
      "734:\tlearn: 1655.3156401\ttotal: 8.84s\tremaining: 3.19s\n",
      "735:\tlearn: 1655.2884721\ttotal: 8.85s\tremaining: 3.17s\n",
      "736:\tlearn: 1655.2583419\ttotal: 8.86s\tremaining: 3.16s\n",
      "737:\tlearn: 1655.2301899\ttotal: 8.87s\tremaining: 3.15s\n",
      "738:\tlearn: 1655.2018530\ttotal: 8.88s\tremaining: 3.14s\n",
      "739:\tlearn: 1655.1747166\ttotal: 8.89s\tremaining: 3.13s\n",
      "740:\tlearn: 1655.1431199\ttotal: 8.91s\tremaining: 3.11s\n",
      "741:\tlearn: 1655.1113698\ttotal: 8.92s\tremaining: 3.1s\n",
      "742:\tlearn: 1655.0838905\ttotal: 8.93s\tremaining: 3.09s\n",
      "743:\tlearn: 1655.0496765\ttotal: 8.94s\tremaining: 3.08s\n",
      "744:\tlearn: 1655.0203987\ttotal: 8.95s\tremaining: 3.06s\n",
      "745:\tlearn: 1654.9907263\ttotal: 8.96s\tremaining: 3.05s\n",
      "746:\tlearn: 1654.9580724\ttotal: 8.97s\tremaining: 3.04s\n",
      "747:\tlearn: 1654.9241192\ttotal: 8.98s\tremaining: 3.03s\n",
      "748:\tlearn: 1654.8963709\ttotal: 8.99s\tremaining: 3.01s\n",
      "749:\tlearn: 1654.8693111\ttotal: 9.01s\tremaining: 3s\n",
      "750:\tlearn: 1654.8506763\ttotal: 9.02s\tremaining: 2.99s\n",
      "751:\tlearn: 1654.8286191\ttotal: 9.03s\tremaining: 2.98s\n",
      "752:\tlearn: 1654.8042091\ttotal: 9.04s\tremaining: 2.96s\n",
      "753:\tlearn: 1654.7784019\ttotal: 9.05s\tremaining: 2.95s\n",
      "754:\tlearn: 1654.7541828\ttotal: 9.06s\tremaining: 2.94s\n",
      "755:\tlearn: 1654.7244960\ttotal: 9.07s\tremaining: 2.93s\n",
      "756:\tlearn: 1654.6921617\ttotal: 9.09s\tremaining: 2.92s\n",
      "757:\tlearn: 1654.6658241\ttotal: 9.11s\tremaining: 2.91s\n",
      "758:\tlearn: 1654.6360926\ttotal: 9.12s\tremaining: 2.9s\n",
      "759:\tlearn: 1654.6199677\ttotal: 9.13s\tremaining: 2.88s\n",
      "760:\tlearn: 1654.5946464\ttotal: 9.14s\tremaining: 2.87s\n",
      "761:\tlearn: 1654.5736561\ttotal: 9.16s\tremaining: 2.86s\n",
      "762:\tlearn: 1654.5475281\ttotal: 9.17s\tremaining: 2.85s\n",
      "763:\tlearn: 1654.5251069\ttotal: 9.18s\tremaining: 2.83s\n",
      "764:\tlearn: 1654.4963873\ttotal: 9.19s\tremaining: 2.82s\n",
      "765:\tlearn: 1654.4555880\ttotal: 9.2s\tremaining: 2.81s\n",
      "766:\tlearn: 1654.4158619\ttotal: 9.21s\tremaining: 2.8s\n",
      "767:\tlearn: 1654.3766136\ttotal: 9.23s\tremaining: 2.79s\n",
      "768:\tlearn: 1654.3388000\ttotal: 9.24s\tremaining: 2.77s\n",
      "769:\tlearn: 1654.3023689\ttotal: 9.25s\tremaining: 2.76s\n",
      "770:\tlearn: 1654.2682296\ttotal: 9.26s\tremaining: 2.75s\n",
      "771:\tlearn: 1654.2390677\ttotal: 9.27s\tremaining: 2.74s\n",
      "772:\tlearn: 1654.2088631\ttotal: 9.28s\tremaining: 2.73s\n",
      "773:\tlearn: 1654.1748593\ttotal: 9.3s\tremaining: 2.71s\n",
      "774:\tlearn: 1654.1425071\ttotal: 9.31s\tremaining: 2.7s\n",
      "775:\tlearn: 1654.1222792\ttotal: 9.32s\tremaining: 2.69s\n",
      "776:\tlearn: 1654.1005530\ttotal: 9.33s\tremaining: 2.68s\n",
      "777:\tlearn: 1654.0647740\ttotal: 9.34s\tremaining: 2.67s\n",
      "778:\tlearn: 1654.0194547\ttotal: 9.35s\tremaining: 2.65s\n",
      "779:\tlearn: 1653.9781479\ttotal: 9.36s\tremaining: 2.64s\n",
      "780:\tlearn: 1653.9404984\ttotal: 9.37s\tremaining: 2.63s\n",
      "781:\tlearn: 1653.9052302\ttotal: 9.39s\tremaining: 2.62s\n",
      "782:\tlearn: 1653.8709520\ttotal: 9.4s\tremaining: 2.6s\n",
      "783:\tlearn: 1653.8428787\ttotal: 9.41s\tremaining: 2.59s\n",
      "784:\tlearn: 1653.8150839\ttotal: 9.42s\tremaining: 2.58s\n",
      "785:\tlearn: 1653.7828040\ttotal: 9.43s\tremaining: 2.57s\n",
      "786:\tlearn: 1653.7517051\ttotal: 9.44s\tremaining: 2.56s\n",
      "787:\tlearn: 1653.7229064\ttotal: 9.45s\tremaining: 2.54s\n",
      "788:\tlearn: 1653.6862342\ttotal: 9.46s\tremaining: 2.53s\n",
      "789:\tlearn: 1653.6462342\ttotal: 9.48s\tremaining: 2.52s\n",
      "790:\tlearn: 1653.6105891\ttotal: 9.49s\tremaining: 2.51s\n",
      "791:\tlearn: 1653.5738028\ttotal: 9.5s\tremaining: 2.5s\n",
      "792:\tlearn: 1653.5381604\ttotal: 9.51s\tremaining: 2.48s\n",
      "793:\tlearn: 1653.4991486\ttotal: 9.52s\tremaining: 2.47s\n",
      "794:\tlearn: 1653.4614604\ttotal: 9.54s\tremaining: 2.46s\n",
      "795:\tlearn: 1653.4249731\ttotal: 9.55s\tremaining: 2.45s\n",
      "796:\tlearn: 1653.3908386\ttotal: 9.56s\tremaining: 2.43s\n",
      "797:\tlearn: 1653.3585955\ttotal: 9.57s\tremaining: 2.42s\n",
      "798:\tlearn: 1653.3260028\ttotal: 9.58s\tremaining: 2.41s\n",
      "799:\tlearn: 1653.2963528\ttotal: 9.59s\tremaining: 2.4s\n",
      "800:\tlearn: 1653.2672130\ttotal: 9.6s\tremaining: 2.39s\n",
      "801:\tlearn: 1653.2391543\ttotal: 9.62s\tremaining: 2.37s\n",
      "802:\tlearn: 1653.2132635\ttotal: 9.63s\tremaining: 2.36s\n",
      "803:\tlearn: 1653.1928558\ttotal: 9.64s\tremaining: 2.35s\n",
      "804:\tlearn: 1653.1724910\ttotal: 9.65s\tremaining: 2.34s\n",
      "805:\tlearn: 1653.1370772\ttotal: 9.66s\tremaining: 2.32s\n",
      "806:\tlearn: 1653.1046222\ttotal: 9.67s\tremaining: 2.31s\n",
      "807:\tlearn: 1653.0746254\ttotal: 9.68s\tremaining: 2.3s\n",
      "808:\tlearn: 1653.0469897\ttotal: 9.69s\tremaining: 2.29s\n",
      "809:\tlearn: 1653.0214486\ttotal: 9.7s\tremaining: 2.28s\n",
      "810:\tlearn: 1652.9956506\ttotal: 9.71s\tremaining: 2.26s\n",
      "811:\tlearn: 1652.9747832\ttotal: 9.73s\tremaining: 2.25s\n",
      "812:\tlearn: 1652.9511786\ttotal: 9.74s\tremaining: 2.24s\n",
      "813:\tlearn: 1652.9332282\ttotal: 9.75s\tremaining: 2.23s\n",
      "814:\tlearn: 1652.9149492\ttotal: 9.76s\tremaining: 2.22s\n",
      "815:\tlearn: 1652.8895857\ttotal: 9.78s\tremaining: 2.2s\n",
      "816:\tlearn: 1652.8704739\ttotal: 9.79s\tremaining: 2.19s\n",
      "817:\tlearn: 1652.8507162\ttotal: 9.8s\tremaining: 2.18s\n",
      "818:\tlearn: 1652.8275753\ttotal: 9.81s\tremaining: 2.17s\n",
      "819:\tlearn: 1652.7982857\ttotal: 9.82s\tremaining: 2.16s\n",
      "820:\tlearn: 1652.7780361\ttotal: 9.83s\tremaining: 2.14s\n",
      "821:\tlearn: 1652.7536674\ttotal: 9.85s\tremaining: 2.13s\n",
      "822:\tlearn: 1652.7295817\ttotal: 9.86s\tremaining: 2.12s\n",
      "823:\tlearn: 1652.7145427\ttotal: 9.87s\tremaining: 2.11s\n",
      "824:\tlearn: 1652.6967617\ttotal: 9.88s\tremaining: 2.1s\n",
      "825:\tlearn: 1652.6605200\ttotal: 9.89s\tremaining: 2.08s\n",
      "826:\tlearn: 1652.6382014\ttotal: 9.9s\tremaining: 2.07s\n",
      "827:\tlearn: 1652.6173127\ttotal: 9.91s\tremaining: 2.06s\n",
      "828:\tlearn: 1652.5907641\ttotal: 9.92s\tremaining: 2.05s\n",
      "829:\tlearn: 1652.5731185\ttotal: 9.94s\tremaining: 2.03s\n",
      "830:\tlearn: 1652.5409836\ttotal: 9.95s\tremaining: 2.02s\n",
      "831:\tlearn: 1652.5075659\ttotal: 9.96s\tremaining: 2.01s\n",
      "832:\tlearn: 1652.4754238\ttotal: 9.97s\tremaining: 2s\n",
      "833:\tlearn: 1652.4468020\ttotal: 9.98s\tremaining: 1.99s\n",
      "834:\tlearn: 1652.4153009\ttotal: 9.99s\tremaining: 1.97s\n",
      "835:\tlearn: 1652.3826325\ttotal: 10s\tremaining: 1.96s\n",
      "836:\tlearn: 1652.3551862\ttotal: 10s\tremaining: 1.95s\n",
      "837:\tlearn: 1652.3249899\ttotal: 10s\tremaining: 1.94s\n",
      "838:\tlearn: 1652.2944474\ttotal: 10s\tremaining: 1.93s\n",
      "839:\tlearn: 1652.2648313\ttotal: 10.1s\tremaining: 1.91s\n",
      "840:\tlearn: 1652.2373092\ttotal: 10.1s\tremaining: 1.9s\n",
      "841:\tlearn: 1652.2130816\ttotal: 10.1s\tremaining: 1.89s\n",
      "842:\tlearn: 1652.1911096\ttotal: 10.1s\tremaining: 1.88s\n",
      "843:\tlearn: 1652.1664139\ttotal: 10.1s\tremaining: 1.87s\n",
      "844:\tlearn: 1652.1390870\ttotal: 10.1s\tremaining: 1.85s\n",
      "845:\tlearn: 1652.1114192\ttotal: 10.1s\tremaining: 1.84s\n",
      "846:\tlearn: 1652.0863097\ttotal: 10.1s\tremaining: 1.83s\n",
      "847:\tlearn: 1652.0578369\ttotal: 10.2s\tremaining: 1.82s\n",
      "848:\tlearn: 1652.0241680\ttotal: 10.2s\tremaining: 1.81s\n",
      "849:\tlearn: 1651.9915729\ttotal: 10.2s\tremaining: 1.79s\n",
      "850:\tlearn: 1651.9600161\ttotal: 10.2s\tremaining: 1.78s\n",
      "851:\tlearn: 1651.9294650\ttotal: 10.2s\tremaining: 1.77s\n",
      "852:\tlearn: 1651.8998871\ttotal: 10.2s\tremaining: 1.76s\n",
      "853:\tlearn: 1651.8712519\ttotal: 10.2s\tremaining: 1.75s\n",
      "854:\tlearn: 1651.8435289\ttotal: 10.2s\tremaining: 1.74s\n",
      "855:\tlearn: 1651.8156848\ttotal: 10.2s\tremaining: 1.72s\n",
      "856:\tlearn: 1651.7883816\ttotal: 10.3s\tremaining: 1.71s\n",
      "857:\tlearn: 1651.7628164\ttotal: 10.3s\tremaining: 1.7s\n",
      "858:\tlearn: 1651.7407215\ttotal: 10.3s\tremaining: 1.69s\n",
      "859:\tlearn: 1651.7166287\ttotal: 10.3s\tremaining: 1.68s\n",
      "860:\tlearn: 1651.6925436\ttotal: 10.3s\tremaining: 1.67s\n",
      "861:\tlearn: 1651.6739593\ttotal: 10.3s\tremaining: 1.65s\n",
      "862:\tlearn: 1651.6323217\ttotal: 10.3s\tremaining: 1.64s\n",
      "863:\tlearn: 1651.5961698\ttotal: 10.4s\tremaining: 1.63s\n",
      "864:\tlearn: 1651.5649667\ttotal: 10.4s\tremaining: 1.62s\n",
      "865:\tlearn: 1651.5371460\ttotal: 10.4s\tremaining: 1.6s\n",
      "866:\tlearn: 1651.5136758\ttotal: 10.4s\tremaining: 1.59s\n",
      "867:\tlearn: 1651.4794713\ttotal: 10.4s\tremaining: 1.58s\n",
      "868:\tlearn: 1651.4519021\ttotal: 10.4s\tremaining: 1.57s\n",
      "869:\tlearn: 1651.4308720\ttotal: 10.4s\tremaining: 1.56s\n",
      "870:\tlearn: 1651.4085166\ttotal: 10.4s\tremaining: 1.54s\n",
      "871:\tlearn: 1651.3877944\ttotal: 10.4s\tremaining: 1.53s\n",
      "872:\tlearn: 1651.3687519\ttotal: 10.5s\tremaining: 1.52s\n",
      "873:\tlearn: 1651.3448808\ttotal: 10.5s\tremaining: 1.51s\n",
      "874:\tlearn: 1651.3205598\ttotal: 10.5s\tremaining: 1.5s\n",
      "875:\tlearn: 1651.2981739\ttotal: 10.5s\tremaining: 1.49s\n",
      "876:\tlearn: 1651.2790693\ttotal: 10.5s\tremaining: 1.47s\n",
      "877:\tlearn: 1651.2510451\ttotal: 10.5s\tremaining: 1.46s\n",
      "878:\tlearn: 1651.2268582\ttotal: 10.5s\tremaining: 1.45s\n",
      "879:\tlearn: 1651.1970875\ttotal: 10.6s\tremaining: 1.44s\n",
      "880:\tlearn: 1651.1747345\ttotal: 10.6s\tremaining: 1.43s\n",
      "881:\tlearn: 1651.1546330\ttotal: 10.6s\tremaining: 1.42s\n",
      "882:\tlearn: 1651.1339190\ttotal: 10.6s\tremaining: 1.4s\n",
      "883:\tlearn: 1651.1066128\ttotal: 10.6s\tremaining: 1.39s\n",
      "884:\tlearn: 1651.0873780\ttotal: 10.6s\tremaining: 1.38s\n",
      "885:\tlearn: 1651.0566612\ttotal: 10.6s\tremaining: 1.37s\n",
      "886:\tlearn: 1651.0299790\ttotal: 10.6s\tremaining: 1.35s\n",
      "887:\tlearn: 1651.0042719\ttotal: 10.7s\tremaining: 1.34s\n",
      "888:\tlearn: 1650.9795050\ttotal: 10.7s\tremaining: 1.33s\n",
      "889:\tlearn: 1650.9556436\ttotal: 10.7s\tremaining: 1.32s\n",
      "890:\tlearn: 1650.9292377\ttotal: 10.7s\tremaining: 1.31s\n",
      "891:\tlearn: 1650.8981768\ttotal: 10.7s\tremaining: 1.29s\n",
      "892:\tlearn: 1650.8719944\ttotal: 10.7s\tremaining: 1.28s\n",
      "893:\tlearn: 1650.8478054\ttotal: 10.7s\tremaining: 1.27s\n",
      "894:\tlearn: 1650.8205514\ttotal: 10.7s\tremaining: 1.26s\n",
      "895:\tlearn: 1650.7837178\ttotal: 10.7s\tremaining: 1.25s\n",
      "896:\tlearn: 1650.7522494\ttotal: 10.8s\tremaining: 1.23s\n",
      "897:\tlearn: 1650.7246071\ttotal: 10.8s\tremaining: 1.22s\n",
      "898:\tlearn: 1650.6923649\ttotal: 10.8s\tremaining: 1.21s\n",
      "899:\tlearn: 1650.6559839\ttotal: 10.8s\tremaining: 1.2s\n",
      "900:\tlearn: 1650.6201333\ttotal: 10.8s\tremaining: 1.19s\n",
      "901:\tlearn: 1650.5848051\ttotal: 10.8s\tremaining: 1.17s\n",
      "902:\tlearn: 1650.5487289\ttotal: 10.8s\tremaining: 1.16s\n",
      "903:\tlearn: 1650.5167885\ttotal: 10.8s\tremaining: 1.15s\n",
      "904:\tlearn: 1650.4859251\ttotal: 10.8s\tremaining: 1.14s\n",
      "905:\tlearn: 1650.4580465\ttotal: 10.8s\tremaining: 1.13s\n",
      "906:\tlearn: 1650.4324401\ttotal: 10.9s\tremaining: 1.11s\n",
      "907:\tlearn: 1650.4120315\ttotal: 10.9s\tremaining: 1.1s\n",
      "908:\tlearn: 1650.3895820\ttotal: 10.9s\tremaining: 1.09s\n",
      "909:\tlearn: 1650.3637097\ttotal: 10.9s\tremaining: 1.08s\n",
      "910:\tlearn: 1650.3403534\ttotal: 10.9s\tremaining: 1.06s\n",
      "911:\tlearn: 1650.3224097\ttotal: 10.9s\tremaining: 1.05s\n",
      "912:\tlearn: 1650.3029177\ttotal: 10.9s\tremaining: 1.04s\n",
      "913:\tlearn: 1650.2737601\ttotal: 10.9s\tremaining: 1.03s\n",
      "914:\tlearn: 1650.2461641\ttotal: 10.9s\tremaining: 1.02s\n",
      "915:\tlearn: 1650.2202389\ttotal: 11s\tremaining: 1s\n",
      "916:\tlearn: 1650.1962596\ttotal: 11s\tremaining: 993ms\n",
      "917:\tlearn: 1650.1749960\ttotal: 11s\tremaining: 981ms\n",
      "918:\tlearn: 1650.1542022\ttotal: 11s\tremaining: 969ms\n",
      "919:\tlearn: 1650.1198807\ttotal: 11s\tremaining: 957ms\n",
      "920:\tlearn: 1650.0860607\ttotal: 11s\tremaining: 945ms\n",
      "921:\tlearn: 1650.0527335\ttotal: 11s\tremaining: 933ms\n",
      "922:\tlearn: 1650.0198919\ttotal: 11s\tremaining: 921ms\n",
      "923:\tlearn: 1649.9875288\ttotal: 11.1s\tremaining: 910ms\n",
      "924:\tlearn: 1649.9556373\ttotal: 11.1s\tremaining: 898ms\n",
      "925:\tlearn: 1649.9242104\ttotal: 11.1s\tremaining: 886ms\n",
      "926:\tlearn: 1649.8932416\ttotal: 11.1s\tremaining: 874ms\n",
      "927:\tlearn: 1649.8627240\ttotal: 11.1s\tremaining: 863ms\n",
      "928:\tlearn: 1649.8326512\ttotal: 11.1s\tremaining: 851ms\n",
      "929:\tlearn: 1649.8009925\ttotal: 11.1s\tremaining: 839ms\n",
      "930:\tlearn: 1649.7686662\ttotal: 11.2s\tremaining: 827ms\n",
      "931:\tlearn: 1649.7380657\ttotal: 11.2s\tremaining: 815ms\n",
      "932:\tlearn: 1649.7094076\ttotal: 11.2s\tremaining: 803ms\n",
      "933:\tlearn: 1649.6798984\ttotal: 11.2s\tremaining: 791ms\n",
      "934:\tlearn: 1649.6503004\ttotal: 11.2s\tremaining: 780ms\n",
      "935:\tlearn: 1649.6234294\ttotal: 11.2s\tremaining: 768ms\n",
      "936:\tlearn: 1649.5954486\ttotal: 11.2s\tremaining: 756ms\n",
      "937:\tlearn: 1649.5658096\ttotal: 11.3s\tremaining: 744ms\n",
      "938:\tlearn: 1649.5366800\ttotal: 11.3s\tremaining: 733ms\n",
      "939:\tlearn: 1649.5101175\ttotal: 11.3s\tremaining: 721ms\n",
      "940:\tlearn: 1649.4813829\ttotal: 11.3s\tremaining: 709ms\n",
      "941:\tlearn: 1649.4526006\ttotal: 11.3s\tremaining: 697ms\n",
      "942:\tlearn: 1649.4242378\ttotal: 11.3s\tremaining: 685ms\n",
      "943:\tlearn: 1649.3962883\ttotal: 11.3s\tremaining: 673ms\n",
      "944:\tlearn: 1649.3687462\ttotal: 11.4s\tremaining: 661ms\n",
      "945:\tlearn: 1649.3416055\ttotal: 11.4s\tremaining: 649ms\n",
      "946:\tlearn: 1649.3148604\ttotal: 11.4s\tremaining: 637ms\n",
      "947:\tlearn: 1649.2885050\ttotal: 11.4s\tremaining: 625ms\n",
      "948:\tlearn: 1649.2634464\ttotal: 11.4s\tremaining: 613ms\n",
      "949:\tlearn: 1649.2404672\ttotal: 11.4s\tremaining: 601ms\n",
      "950:\tlearn: 1649.2207760\ttotal: 11.4s\tremaining: 589ms\n",
      "951:\tlearn: 1649.2019433\ttotal: 11.4s\tremaining: 577ms\n",
      "952:\tlearn: 1649.1776574\ttotal: 11.5s\tremaining: 565ms\n",
      "953:\tlearn: 1649.1569680\ttotal: 11.5s\tremaining: 553ms\n",
      "954:\tlearn: 1649.1322255\ttotal: 11.5s\tremaining: 541ms\n",
      "955:\tlearn: 1649.1055909\ttotal: 11.5s\tremaining: 529ms\n",
      "956:\tlearn: 1649.0793447\ttotal: 11.5s\tremaining: 517ms\n",
      "957:\tlearn: 1649.0578830\ttotal: 11.5s\tremaining: 505ms\n",
      "958:\tlearn: 1649.0307546\ttotal: 11.5s\tremaining: 493ms\n",
      "959:\tlearn: 1649.0043622\ttotal: 11.5s\tremaining: 481ms\n",
      "960:\tlearn: 1648.9808258\ttotal: 11.5s\tremaining: 469ms\n",
      "961:\tlearn: 1648.9582894\ttotal: 11.6s\tremaining: 457ms\n",
      "962:\tlearn: 1648.9373345\ttotal: 11.6s\tremaining: 445ms\n",
      "963:\tlearn: 1648.9134495\ttotal: 11.6s\tremaining: 433ms\n",
      "964:\tlearn: 1648.8910372\ttotal: 11.6s\tremaining: 420ms\n",
      "965:\tlearn: 1648.8657044\ttotal: 11.6s\tremaining: 408ms\n",
      "966:\tlearn: 1648.8390478\ttotal: 11.6s\tremaining: 396ms\n",
      "967:\tlearn: 1648.8118396\ttotal: 11.6s\tremaining: 384ms\n",
      "968:\tlearn: 1648.7845163\ttotal: 11.6s\tremaining: 372ms\n",
      "969:\tlearn: 1648.7642743\ttotal: 11.6s\tremaining: 360ms\n",
      "970:\tlearn: 1648.7360565\ttotal: 11.7s\tremaining: 348ms\n",
      "971:\tlearn: 1648.7130096\ttotal: 11.7s\tremaining: 336ms\n",
      "972:\tlearn: 1648.6906016\ttotal: 11.7s\tremaining: 324ms\n",
      "973:\tlearn: 1648.6712826\ttotal: 11.7s\tremaining: 312ms\n",
      "974:\tlearn: 1648.6471239\ttotal: 11.7s\tremaining: 300ms\n",
      "975:\tlearn: 1648.6247568\ttotal: 11.7s\tremaining: 288ms\n",
      "976:\tlearn: 1648.6069667\ttotal: 11.7s\tremaining: 276ms\n",
      "977:\tlearn: 1648.5781563\ttotal: 11.7s\tremaining: 264ms\n",
      "978:\tlearn: 1648.5560663\ttotal: 11.7s\tremaining: 252ms\n",
      "979:\tlearn: 1648.5304770\ttotal: 11.8s\tremaining: 240ms\n",
      "980:\tlearn: 1648.5121903\ttotal: 11.8s\tremaining: 228ms\n",
      "981:\tlearn: 1648.4889259\ttotal: 11.8s\tremaining: 216ms\n",
      "982:\tlearn: 1648.4653785\ttotal: 11.8s\tremaining: 204ms\n",
      "983:\tlearn: 1648.4359279\ttotal: 11.8s\tremaining: 192ms\n",
      "984:\tlearn: 1648.4129759\ttotal: 11.8s\tremaining: 180ms\n",
      "985:\tlearn: 1648.3914131\ttotal: 11.8s\tremaining: 168ms\n",
      "986:\tlearn: 1648.3701733\ttotal: 11.8s\tremaining: 156ms\n",
      "987:\tlearn: 1648.3479385\ttotal: 11.9s\tremaining: 144ms\n",
      "988:\tlearn: 1648.3266233\ttotal: 11.9s\tremaining: 132ms\n",
      "989:\tlearn: 1648.3079037\ttotal: 11.9s\tremaining: 120ms\n",
      "990:\tlearn: 1648.2913513\ttotal: 11.9s\tremaining: 108ms\n",
      "991:\tlearn: 1648.2729589\ttotal: 11.9s\tremaining: 95.9ms\n",
      "992:\tlearn: 1648.2525427\ttotal: 11.9s\tremaining: 83.9ms\n",
      "993:\tlearn: 1648.2340346\ttotal: 11.9s\tremaining: 71.9ms\n",
      "994:\tlearn: 1648.2131808\ttotal: 11.9s\tremaining: 59.9ms\n",
      "995:\tlearn: 1648.1910322\ttotal: 11.9s\tremaining: 48ms\n",
      "996:\tlearn: 1648.1711278\ttotal: 11.9s\tremaining: 36ms\n",
      "997:\tlearn: 1648.1519274\ttotal: 12s\tremaining: 24ms\n",
      "998:\tlearn: 1648.1321517\ttotal: 12s\tremaining: 12ms\n",
      "999:\tlearn: 1648.1131892\ttotal: 12s\tremaining: 0us\n",
      "0:\tlearn: 2912.6316747\ttotal: 10.5ms\tremaining: 10.5s\n",
      "1:\tlearn: 2643.3453242\ttotal: 21ms\tremaining: 10.5s\n",
      "2:\tlearn: 2533.0726888\ttotal: 32ms\tremaining: 10.6s\n",
      "3:\tlearn: 2389.0238960\ttotal: 42.3ms\tremaining: 10.5s\n",
      "4:\tlearn: 2340.6335679\ttotal: 53.1ms\tremaining: 10.6s\n",
      "5:\tlearn: 2295.1550374\ttotal: 68.5ms\tremaining: 11.3s\n",
      "6:\tlearn: 2228.7382119\ttotal: 80.1ms\tremaining: 11.4s\n",
      "7:\tlearn: 2172.0945919\ttotal: 92ms\tremaining: 11.4s\n",
      "8:\tlearn: 2135.0426191\ttotal: 103ms\tremaining: 11.3s\n",
      "9:\tlearn: 2113.7709941\ttotal: 114ms\tremaining: 11.3s\n",
      "10:\tlearn: 2096.1605455\ttotal: 126ms\tremaining: 11.3s\n",
      "11:\tlearn: 2078.9715573\ttotal: 137ms\tremaining: 11.3s\n",
      "12:\tlearn: 2057.5135478\ttotal: 148ms\tremaining: 11.2s\n",
      "13:\tlearn: 2039.9151008\ttotal: 160ms\tremaining: 11.3s\n",
      "14:\tlearn: 2011.5649921\ttotal: 174ms\tremaining: 11.4s\n",
      "15:\tlearn: 1994.3050935\ttotal: 185ms\tremaining: 11.4s\n",
      "16:\tlearn: 1976.1793895\ttotal: 197ms\tremaining: 11.4s\n",
      "17:\tlearn: 1966.1580977\ttotal: 208ms\tremaining: 11.3s\n",
      "18:\tlearn: 1955.2909746\ttotal: 219ms\tremaining: 11.3s\n",
      "19:\tlearn: 1944.9832235\ttotal: 232ms\tremaining: 11.4s\n",
      "20:\tlearn: 1936.9287420\ttotal: 247ms\tremaining: 11.5s\n",
      "21:\tlearn: 1929.7850389\ttotal: 259ms\tremaining: 11.5s\n",
      "22:\tlearn: 1924.5898837\ttotal: 273ms\tremaining: 11.6s\n",
      "23:\tlearn: 1919.3256315\ttotal: 285ms\tremaining: 11.6s\n",
      "24:\tlearn: 1910.6802745\ttotal: 295ms\tremaining: 11.5s\n",
      "25:\tlearn: 1900.2656116\ttotal: 306ms\tremaining: 11.5s\n",
      "26:\tlearn: 1894.1935099\ttotal: 317ms\tremaining: 11.4s\n",
      "27:\tlearn: 1889.0641887\ttotal: 328ms\tremaining: 11.4s\n",
      "28:\tlearn: 1884.2489339\ttotal: 339ms\tremaining: 11.3s\n",
      "29:\tlearn: 1879.7676235\ttotal: 352ms\tremaining: 11.4s\n",
      "30:\tlearn: 1874.9667031\ttotal: 363ms\tremaining: 11.4s\n",
      "31:\tlearn: 1870.6773637\ttotal: 374ms\tremaining: 11.3s\n",
      "32:\tlearn: 1866.4008889\ttotal: 385ms\tremaining: 11.3s\n",
      "33:\tlearn: 1859.6123547\ttotal: 396ms\tremaining: 11.3s\n",
      "34:\tlearn: 1855.8833604\ttotal: 407ms\tremaining: 11.2s\n",
      "35:\tlearn: 1852.3388108\ttotal: 418ms\tremaining: 11.2s\n",
      "36:\tlearn: 1849.0443370\ttotal: 429ms\tremaining: 11.2s\n",
      "37:\tlearn: 1845.8541508\ttotal: 443ms\tremaining: 11.2s\n",
      "38:\tlearn: 1842.9567247\ttotal: 459ms\tremaining: 11.3s\n",
      "39:\tlearn: 1836.7504107\ttotal: 474ms\tremaining: 11.4s\n",
      "40:\tlearn: 1833.0144165\ttotal: 485ms\tremaining: 11.3s\n",
      "41:\tlearn: 1830.2094305\ttotal: 496ms\tremaining: 11.3s\n",
      "42:\tlearn: 1827.0445014\ttotal: 507ms\tremaining: 11.3s\n",
      "43:\tlearn: 1823.9598791\ttotal: 518ms\tremaining: 11.3s\n",
      "44:\tlearn: 1819.9131974\ttotal: 535ms\tremaining: 11.3s\n",
      "45:\tlearn: 1817.3266372\ttotal: 546ms\tremaining: 11.3s\n",
      "46:\tlearn: 1815.4969766\ttotal: 558ms\tremaining: 11.3s\n",
      "47:\tlearn: 1813.2395251\ttotal: 568ms\tremaining: 11.3s\n",
      "48:\tlearn: 1811.1196333\ttotal: 580ms\tremaining: 11.3s\n",
      "49:\tlearn: 1809.4967234\ttotal: 591ms\tremaining: 11.2s\n",
      "50:\tlearn: 1805.1194959\ttotal: 601ms\tremaining: 11.2s\n",
      "51:\tlearn: 1802.1440499\ttotal: 613ms\tremaining: 11.2s\n",
      "52:\tlearn: 1800.0682772\ttotal: 625ms\tremaining: 11.2s\n",
      "53:\tlearn: 1798.1788387\ttotal: 636ms\tremaining: 11.1s\n",
      "54:\tlearn: 1795.6332886\ttotal: 647ms\tremaining: 11.1s\n",
      "55:\tlearn: 1793.9683620\ttotal: 657ms\tremaining: 11.1s\n",
      "56:\tlearn: 1792.6524887\ttotal: 668ms\tremaining: 11.1s\n",
      "57:\tlearn: 1791.0459490\ttotal: 679ms\tremaining: 11s\n",
      "58:\tlearn: 1789.6018875\ttotal: 690ms\tremaining: 11s\n",
      "59:\tlearn: 1788.0574101\ttotal: 701ms\tremaining: 11s\n",
      "60:\tlearn: 1786.7405067\ttotal: 715ms\tremaining: 11s\n",
      "61:\tlearn: 1785.5926118\ttotal: 727ms\tremaining: 11s\n",
      "62:\tlearn: 1783.9913720\ttotal: 738ms\tremaining: 11s\n",
      "63:\tlearn: 1782.7372240\ttotal: 749ms\tremaining: 11s\n",
      "64:\tlearn: 1781.6788089\ttotal: 760ms\tremaining: 10.9s\n",
      "65:\tlearn: 1780.2284891\ttotal: 770ms\tremaining: 10.9s\n",
      "66:\tlearn: 1778.5873022\ttotal: 781ms\tremaining: 10.9s\n",
      "67:\tlearn: 1776.9277312\ttotal: 792ms\tremaining: 10.9s\n",
      "68:\tlearn: 1775.5609034\ttotal: 806ms\tremaining: 10.9s\n",
      "69:\tlearn: 1774.4852940\ttotal: 819ms\tremaining: 10.9s\n",
      "70:\tlearn: 1773.0910942\ttotal: 830ms\tremaining: 10.9s\n",
      "71:\tlearn: 1771.9474574\ttotal: 841ms\tremaining: 10.8s\n",
      "72:\tlearn: 1770.5701387\ttotal: 852ms\tremaining: 10.8s\n",
      "73:\tlearn: 1769.4944710\ttotal: 863ms\tremaining: 10.8s\n",
      "74:\tlearn: 1768.4640054\ttotal: 874ms\tremaining: 10.8s\n",
      "75:\tlearn: 1767.3862048\ttotal: 885ms\tremaining: 10.8s\n",
      "76:\tlearn: 1766.4232119\ttotal: 896ms\tremaining: 10.7s\n",
      "77:\tlearn: 1765.3748667\ttotal: 908ms\tremaining: 10.7s\n",
      "78:\tlearn: 1764.1328255\ttotal: 924ms\tremaining: 10.8s\n",
      "79:\tlearn: 1763.1322734\ttotal: 938ms\tremaining: 10.8s\n",
      "80:\tlearn: 1762.0511601\ttotal: 949ms\tremaining: 10.8s\n",
      "81:\tlearn: 1760.8468977\ttotal: 960ms\tremaining: 10.7s\n",
      "82:\tlearn: 1759.8065340\ttotal: 971ms\tremaining: 10.7s\n",
      "83:\tlearn: 1758.9078497\ttotal: 982ms\tremaining: 10.7s\n",
      "84:\tlearn: 1758.0711403\ttotal: 994ms\tremaining: 10.7s\n",
      "85:\tlearn: 1757.2357918\ttotal: 1.01s\tremaining: 10.7s\n",
      "86:\tlearn: 1756.4702407\ttotal: 1.02s\tremaining: 10.7s\n",
      "87:\tlearn: 1754.8724057\ttotal: 1.03s\tremaining: 10.7s\n",
      "88:\tlearn: 1753.4920514\ttotal: 1.04s\tremaining: 10.6s\n",
      "89:\tlearn: 1752.5030427\ttotal: 1.05s\tremaining: 10.6s\n",
      "90:\tlearn: 1751.7789167\ttotal: 1.06s\tremaining: 10.6s\n",
      "91:\tlearn: 1750.8045864\ttotal: 1.07s\tremaining: 10.6s\n",
      "92:\tlearn: 1749.9792561\ttotal: 1.08s\tremaining: 10.5s\n",
      "93:\tlearn: 1748.9071476\ttotal: 1.09s\tremaining: 10.5s\n",
      "94:\tlearn: 1748.2690871\ttotal: 1.11s\tremaining: 10.5s\n",
      "95:\tlearn: 1747.5341899\ttotal: 1.12s\tremaining: 10.5s\n",
      "96:\tlearn: 1746.9073355\ttotal: 1.13s\tremaining: 10.5s\n",
      "97:\tlearn: 1745.9506941\ttotal: 1.14s\tremaining: 10.5s\n",
      "98:\tlearn: 1744.8086771\ttotal: 1.15s\tremaining: 10.4s\n",
      "99:\tlearn: 1743.9270620\ttotal: 1.16s\tremaining: 10.4s\n",
      "100:\tlearn: 1743.2465412\ttotal: 1.17s\tremaining: 10.4s\n",
      "101:\tlearn: 1742.6556598\ttotal: 1.18s\tremaining: 10.4s\n",
      "102:\tlearn: 1741.9934557\ttotal: 1.19s\tremaining: 10.4s\n",
      "103:\tlearn: 1741.3213554\ttotal: 1.2s\tremaining: 10.4s\n",
      "104:\tlearn: 1740.7103357\ttotal: 1.21s\tremaining: 10.3s\n",
      "105:\tlearn: 1740.1744266\ttotal: 1.22s\tremaining: 10.3s\n",
      "106:\tlearn: 1739.5107322\ttotal: 1.24s\tremaining: 10.3s\n",
      "107:\tlearn: 1738.7757856\ttotal: 1.25s\tremaining: 10.3s\n",
      "108:\tlearn: 1737.9732618\ttotal: 1.26s\tremaining: 10.3s\n",
      "109:\tlearn: 1737.5137429\ttotal: 1.27s\tremaining: 10.2s\n",
      "110:\tlearn: 1736.9174999\ttotal: 1.28s\tremaining: 10.2s\n",
      "111:\tlearn: 1736.3408393\ttotal: 1.29s\tremaining: 10.3s\n",
      "112:\tlearn: 1735.8617442\ttotal: 1.3s\tremaining: 10.2s\n",
      "113:\tlearn: 1735.3869721\ttotal: 1.31s\tremaining: 10.2s\n",
      "114:\tlearn: 1734.8926194\ttotal: 1.32s\tremaining: 10.2s\n",
      "115:\tlearn: 1734.1500255\ttotal: 1.33s\tremaining: 10.2s\n",
      "116:\tlearn: 1733.3052442\ttotal: 1.34s\tremaining: 10.2s\n",
      "117:\tlearn: 1732.8341034\ttotal: 1.36s\tremaining: 10.1s\n",
      "118:\tlearn: 1732.2775626\ttotal: 1.37s\tremaining: 10.1s\n",
      "119:\tlearn: 1731.8035295\ttotal: 1.38s\tremaining: 10.1s\n",
      "120:\tlearn: 1731.3881783\ttotal: 1.39s\tremaining: 10.1s\n",
      "121:\tlearn: 1730.8896181\ttotal: 1.4s\tremaining: 10.1s\n",
      "122:\tlearn: 1730.4357670\ttotal: 1.41s\tremaining: 10.1s\n",
      "123:\tlearn: 1729.9664225\ttotal: 1.42s\tremaining: 10.1s\n",
      "124:\tlearn: 1729.5741821\ttotal: 1.43s\tremaining: 10s\n",
      "125:\tlearn: 1729.1291498\ttotal: 1.45s\tremaining: 10s\n",
      "126:\tlearn: 1728.7102687\ttotal: 1.46s\tremaining: 10s\n",
      "127:\tlearn: 1728.0545586\ttotal: 1.47s\tremaining: 10s\n",
      "128:\tlearn: 1727.6365319\ttotal: 1.48s\tremaining: 10s\n",
      "129:\tlearn: 1727.1633315\ttotal: 1.5s\tremaining: 10s\n",
      "130:\tlearn: 1726.7767688\ttotal: 1.51s\tremaining: 10s\n",
      "131:\tlearn: 1726.1323372\ttotal: 1.52s\tremaining: 9.99s\n",
      "132:\tlearn: 1725.7733830\ttotal: 1.53s\tremaining: 9.98s\n",
      "133:\tlearn: 1725.2061315\ttotal: 1.54s\tremaining: 9.96s\n",
      "134:\tlearn: 1724.6099608\ttotal: 1.55s\tremaining: 9.95s\n",
      "135:\tlearn: 1724.1378890\ttotal: 1.56s\tremaining: 9.95s\n",
      "136:\tlearn: 1723.6595175\ttotal: 1.58s\tremaining: 9.94s\n",
      "137:\tlearn: 1723.2709017\ttotal: 1.59s\tremaining: 9.93s\n",
      "138:\tlearn: 1722.7856604\ttotal: 1.6s\tremaining: 9.93s\n",
      "139:\tlearn: 1722.3776648\ttotal: 1.61s\tremaining: 9.93s\n",
      "140:\tlearn: 1722.0082930\ttotal: 1.63s\tremaining: 9.93s\n",
      "141:\tlearn: 1721.5707195\ttotal: 1.64s\tremaining: 9.92s\n",
      "142:\tlearn: 1721.2699107\ttotal: 1.66s\tremaining: 9.94s\n",
      "143:\tlearn: 1720.8308004\ttotal: 1.67s\tremaining: 9.93s\n",
      "144:\tlearn: 1720.4516202\ttotal: 1.68s\tremaining: 9.91s\n",
      "145:\tlearn: 1720.1241813\ttotal: 1.69s\tremaining: 9.89s\n",
      "146:\tlearn: 1719.8285044\ttotal: 1.7s\tremaining: 9.89s\n",
      "147:\tlearn: 1719.4038652\ttotal: 1.72s\tremaining: 9.89s\n",
      "148:\tlearn: 1718.9440066\ttotal: 1.73s\tremaining: 9.88s\n",
      "149:\tlearn: 1718.5713323\ttotal: 1.75s\tremaining: 9.9s\n",
      "150:\tlearn: 1718.2854246\ttotal: 1.76s\tremaining: 9.89s\n",
      "151:\tlearn: 1717.9713954\ttotal: 1.77s\tremaining: 9.87s\n",
      "152:\tlearn: 1717.4880392\ttotal: 1.78s\tremaining: 9.86s\n",
      "153:\tlearn: 1717.1022145\ttotal: 1.79s\tremaining: 9.84s\n",
      "154:\tlearn: 1716.7780468\ttotal: 1.8s\tremaining: 9.82s\n",
      "155:\tlearn: 1716.4578952\ttotal: 1.81s\tremaining: 9.81s\n",
      "156:\tlearn: 1716.1568693\ttotal: 1.82s\tremaining: 9.79s\n",
      "157:\tlearn: 1715.7938132\ttotal: 1.83s\tremaining: 9.78s\n",
      "158:\tlearn: 1715.4767217\ttotal: 1.84s\tremaining: 9.76s\n",
      "159:\tlearn: 1715.0335090\ttotal: 1.86s\tremaining: 9.75s\n",
      "160:\tlearn: 1714.7267811\ttotal: 1.87s\tremaining: 9.73s\n",
      "161:\tlearn: 1714.3844721\ttotal: 1.88s\tremaining: 9.71s\n",
      "162:\tlearn: 1714.1220656\ttotal: 1.89s\tremaining: 9.69s\n",
      "163:\tlearn: 1713.8726606\ttotal: 1.9s\tremaining: 9.68s\n",
      "164:\tlearn: 1713.6336935\ttotal: 1.91s\tremaining: 9.67s\n",
      "165:\tlearn: 1713.3707066\ttotal: 1.92s\tremaining: 9.66s\n",
      "166:\tlearn: 1713.1381711\ttotal: 1.94s\tremaining: 9.65s\n",
      "167:\tlearn: 1712.8348407\ttotal: 1.95s\tremaining: 9.64s\n",
      "168:\tlearn: 1712.5948759\ttotal: 1.96s\tremaining: 9.62s\n",
      "169:\tlearn: 1712.2563108\ttotal: 1.97s\tremaining: 9.61s\n",
      "170:\tlearn: 1711.9440668\ttotal: 1.98s\tremaining: 9.6s\n",
      "171:\tlearn: 1711.6814079\ttotal: 1.99s\tremaining: 9.58s\n",
      "172:\tlearn: 1711.2670879\ttotal: 2s\tremaining: 9.57s\n",
      "173:\tlearn: 1710.9773112\ttotal: 2.01s\tremaining: 9.56s\n",
      "174:\tlearn: 1710.6872037\ttotal: 2.02s\tremaining: 9.55s\n",
      "175:\tlearn: 1710.4683031\ttotal: 2.04s\tremaining: 9.53s\n",
      "176:\tlearn: 1710.2517190\ttotal: 2.05s\tremaining: 9.52s\n",
      "177:\tlearn: 1709.8932185\ttotal: 2.06s\tremaining: 9.5s\n",
      "178:\tlearn: 1709.6283546\ttotal: 2.07s\tremaining: 9.49s\n",
      "179:\tlearn: 1709.4056422\ttotal: 2.08s\tremaining: 9.47s\n",
      "180:\tlearn: 1709.1558610\ttotal: 2.09s\tremaining: 9.46s\n",
      "181:\tlearn: 1708.9392906\ttotal: 2.1s\tremaining: 9.46s\n",
      "182:\tlearn: 1708.6775477\ttotal: 2.12s\tremaining: 9.47s\n",
      "183:\tlearn: 1708.4783295\ttotal: 2.13s\tremaining: 9.45s\n",
      "184:\tlearn: 1708.2843600\ttotal: 2.14s\tremaining: 9.44s\n",
      "185:\tlearn: 1708.0904824\ttotal: 2.15s\tremaining: 9.42s\n",
      "186:\tlearn: 1707.9017361\ttotal: 2.17s\tremaining: 9.42s\n",
      "187:\tlearn: 1707.7362828\ttotal: 2.18s\tremaining: 9.4s\n",
      "188:\tlearn: 1707.3299164\ttotal: 2.19s\tremaining: 9.41s\n",
      "189:\tlearn: 1706.9646577\ttotal: 2.21s\tremaining: 9.42s\n",
      "190:\tlearn: 1706.6257654\ttotal: 2.22s\tremaining: 9.4s\n",
      "191:\tlearn: 1706.3830813\ttotal: 2.23s\tremaining: 9.38s\n",
      "192:\tlearn: 1706.0898050\ttotal: 2.24s\tremaining: 9.37s\n",
      "193:\tlearn: 1705.8866603\ttotal: 2.25s\tremaining: 9.35s\n",
      "194:\tlearn: 1705.5429850\ttotal: 2.26s\tremaining: 9.33s\n",
      "195:\tlearn: 1705.2405614\ttotal: 2.27s\tremaining: 9.32s\n",
      "196:\tlearn: 1704.9821850\ttotal: 2.28s\tremaining: 9.31s\n",
      "197:\tlearn: 1704.7948378\ttotal: 2.3s\tremaining: 9.3s\n",
      "198:\tlearn: 1704.6086005\ttotal: 2.31s\tremaining: 9.29s\n",
      "199:\tlearn: 1704.3613726\ttotal: 2.32s\tremaining: 9.27s\n",
      "200:\tlearn: 1704.1989972\ttotal: 2.33s\tremaining: 9.26s\n",
      "201:\tlearn: 1703.9215971\ttotal: 2.34s\tremaining: 9.24s\n",
      "202:\tlearn: 1703.7218644\ttotal: 2.35s\tremaining: 9.23s\n",
      "203:\tlearn: 1703.5334241\ttotal: 2.36s\tremaining: 9.22s\n",
      "204:\tlearn: 1703.3172719\ttotal: 2.38s\tremaining: 9.23s\n",
      "205:\tlearn: 1703.1515342\ttotal: 2.39s\tremaining: 9.22s\n",
      "206:\tlearn: 1702.8940486\ttotal: 2.4s\tremaining: 9.21s\n",
      "207:\tlearn: 1702.7351608\ttotal: 2.41s\tremaining: 9.19s\n",
      "208:\tlearn: 1702.5557166\ttotal: 2.42s\tremaining: 9.18s\n",
      "209:\tlearn: 1702.4111679\ttotal: 2.44s\tremaining: 9.16s\n",
      "210:\tlearn: 1702.2671357\ttotal: 2.45s\tremaining: 9.15s\n",
      "211:\tlearn: 1702.0958863\ttotal: 2.46s\tremaining: 9.13s\n",
      "212:\tlearn: 1701.8480224\ttotal: 2.47s\tremaining: 9.14s\n",
      "213:\tlearn: 1701.5371103\ttotal: 2.48s\tremaining: 9.13s\n",
      "214:\tlearn: 1701.3040557\ttotal: 2.5s\tremaining: 9.13s\n",
      "215:\tlearn: 1701.1041193\ttotal: 2.52s\tremaining: 9.13s\n",
      "216:\tlearn: 1700.8423382\ttotal: 2.53s\tremaining: 9.12s\n",
      "217:\tlearn: 1700.6395610\ttotal: 2.54s\tremaining: 9.1s\n",
      "218:\tlearn: 1700.4620514\ttotal: 2.55s\tremaining: 9.09s\n",
      "219:\tlearn: 1700.2863704\ttotal: 2.56s\tremaining: 9.09s\n",
      "220:\tlearn: 1700.0340757\ttotal: 2.57s\tremaining: 9.07s\n",
      "221:\tlearn: 1699.8881457\ttotal: 2.59s\tremaining: 9.06s\n",
      "222:\tlearn: 1699.7169860\ttotal: 2.6s\tremaining: 9.05s\n",
      "223:\tlearn: 1699.5504968\ttotal: 2.61s\tremaining: 9.03s\n",
      "224:\tlearn: 1699.3996616\ttotal: 2.62s\tremaining: 9.02s\n",
      "225:\tlearn: 1699.2463646\ttotal: 2.63s\tremaining: 9s\n",
      "226:\tlearn: 1699.0393077\ttotal: 2.64s\tremaining: 8.98s\n",
      "227:\tlearn: 1698.8419792\ttotal: 2.65s\tremaining: 8.98s\n",
      "228:\tlearn: 1698.6722057\ttotal: 2.67s\tremaining: 8.97s\n",
      "229:\tlearn: 1698.5165136\ttotal: 2.68s\tremaining: 8.96s\n",
      "230:\tlearn: 1698.3728208\ttotal: 2.69s\tremaining: 8.95s\n",
      "231:\tlearn: 1698.2005016\ttotal: 2.7s\tremaining: 8.93s\n",
      "232:\tlearn: 1697.9916989\ttotal: 2.71s\tremaining: 8.92s\n",
      "233:\tlearn: 1697.8704408\ttotal: 2.72s\tremaining: 8.9s\n",
      "234:\tlearn: 1697.7467213\ttotal: 2.73s\tremaining: 8.89s\n",
      "235:\tlearn: 1697.5665817\ttotal: 2.75s\tremaining: 8.89s\n",
      "236:\tlearn: 1697.4122522\ttotal: 2.76s\tremaining: 8.88s\n",
      "237:\tlearn: 1697.2380309\ttotal: 2.77s\tremaining: 8.87s\n",
      "238:\tlearn: 1696.9751973\ttotal: 2.78s\tremaining: 8.85s\n",
      "239:\tlearn: 1696.7379883\ttotal: 2.79s\tremaining: 8.84s\n",
      "240:\tlearn: 1696.6008096\ttotal: 2.8s\tremaining: 8.82s\n",
      "241:\tlearn: 1696.4335598\ttotal: 2.81s\tremaining: 8.8s\n",
      "242:\tlearn: 1696.2463989\ttotal: 2.82s\tremaining: 8.79s\n",
      "243:\tlearn: 1696.1004602\ttotal: 2.83s\tremaining: 8.78s\n",
      "244:\tlearn: 1695.9574904\ttotal: 2.85s\tremaining: 8.77s\n",
      "245:\tlearn: 1695.8021255\ttotal: 2.86s\tremaining: 8.76s\n",
      "246:\tlearn: 1695.6145088\ttotal: 2.87s\tremaining: 8.74s\n",
      "247:\tlearn: 1695.3349898\ttotal: 2.88s\tremaining: 8.73s\n",
      "248:\tlearn: 1695.0837591\ttotal: 2.89s\tremaining: 8.71s\n",
      "249:\tlearn: 1694.8579531\ttotal: 2.9s\tremaining: 8.7s\n",
      "250:\tlearn: 1694.6491012\ttotal: 2.91s\tremaining: 8.68s\n",
      "251:\tlearn: 1694.4574320\ttotal: 2.92s\tremaining: 8.67s\n",
      "252:\tlearn: 1694.2613743\ttotal: 2.94s\tremaining: 8.67s\n",
      "253:\tlearn: 1694.0241746\ttotal: 2.95s\tremaining: 8.65s\n",
      "254:\tlearn: 1693.8154535\ttotal: 2.96s\tremaining: 8.64s\n",
      "255:\tlearn: 1693.6317825\ttotal: 2.97s\tremaining: 8.62s\n",
      "256:\tlearn: 1693.4701639\ttotal: 2.98s\tremaining: 8.61s\n",
      "257:\tlearn: 1693.3279460\ttotal: 2.99s\tremaining: 8.59s\n",
      "258:\tlearn: 1693.1869649\ttotal: 3s\tremaining: 8.58s\n",
      "259:\tlearn: 1693.0155900\ttotal: 3.01s\tremaining: 8.56s\n",
      "260:\tlearn: 1692.8014605\ttotal: 3.02s\tremaining: 8.56s\n",
      "261:\tlearn: 1692.6648360\ttotal: 3.04s\tremaining: 8.56s\n",
      "262:\tlearn: 1692.5113335\ttotal: 3.05s\tremaining: 8.55s\n",
      "263:\tlearn: 1692.3547313\ttotal: 3.06s\tremaining: 8.54s\n",
      "264:\tlearn: 1692.2142152\ttotal: 3.07s\tremaining: 8.53s\n",
      "265:\tlearn: 1692.0743702\ttotal: 3.08s\tremaining: 8.51s\n",
      "266:\tlearn: 1691.9292215\ttotal: 3.1s\tremaining: 8.5s\n",
      "267:\tlearn: 1691.8009052\ttotal: 3.11s\tremaining: 8.49s\n",
      "268:\tlearn: 1691.6596860\ttotal: 3.12s\tremaining: 8.48s\n",
      "269:\tlearn: 1691.5522907\ttotal: 3.13s\tremaining: 8.47s\n",
      "270:\tlearn: 1691.4412189\ttotal: 3.14s\tremaining: 8.45s\n",
      "271:\tlearn: 1691.3267902\ttotal: 3.15s\tremaining: 8.44s\n",
      "272:\tlearn: 1691.2242632\ttotal: 3.16s\tremaining: 8.42s\n",
      "273:\tlearn: 1691.1212402\ttotal: 3.17s\tremaining: 8.41s\n",
      "274:\tlearn: 1691.0177876\ttotal: 3.18s\tremaining: 8.39s\n",
      "275:\tlearn: 1690.8726295\ttotal: 3.19s\tremaining: 8.38s\n",
      "276:\tlearn: 1690.7265005\ttotal: 3.21s\tremaining: 8.37s\n",
      "277:\tlearn: 1690.5793544\ttotal: 3.22s\tremaining: 8.36s\n",
      "278:\tlearn: 1690.4687576\ttotal: 3.23s\tremaining: 8.34s\n",
      "279:\tlearn: 1690.3580480\ttotal: 3.24s\tremaining: 8.33s\n",
      "280:\tlearn: 1690.2560261\ttotal: 3.25s\tremaining: 8.32s\n",
      "281:\tlearn: 1690.0989055\ttotal: 3.26s\tremaining: 8.3s\n",
      "282:\tlearn: 1689.9624335\ttotal: 3.27s\tremaining: 8.29s\n",
      "283:\tlearn: 1689.7856958\ttotal: 3.28s\tremaining: 8.27s\n",
      "284:\tlearn: 1689.6049132\ttotal: 3.29s\tremaining: 8.26s\n",
      "285:\tlearn: 1689.4707530\ttotal: 3.31s\tremaining: 8.26s\n",
      "286:\tlearn: 1689.3235057\ttotal: 3.32s\tremaining: 8.25s\n",
      "287:\tlearn: 1689.2098328\ttotal: 3.33s\tremaining: 8.23s\n",
      "288:\tlearn: 1689.1190651\ttotal: 3.34s\tremaining: 8.22s\n",
      "289:\tlearn: 1689.0219000\ttotal: 3.35s\tremaining: 8.21s\n",
      "290:\tlearn: 1688.8973045\ttotal: 3.36s\tremaining: 8.2s\n",
      "291:\tlearn: 1688.7603742\ttotal: 3.38s\tremaining: 8.18s\n",
      "292:\tlearn: 1688.6165368\ttotal: 3.38s\tremaining: 8.17s\n",
      "293:\tlearn: 1688.5063797\ttotal: 3.4s\tremaining: 8.16s\n",
      "294:\tlearn: 1688.3768614\ttotal: 3.41s\tremaining: 8.15s\n",
      "295:\tlearn: 1688.2227405\ttotal: 3.42s\tremaining: 8.13s\n",
      "296:\tlearn: 1688.1142040\ttotal: 3.43s\tremaining: 8.12s\n",
      "297:\tlearn: 1688.0126425\ttotal: 3.44s\tremaining: 8.11s\n",
      "298:\tlearn: 1687.9153298\ttotal: 3.45s\tremaining: 8.09s\n",
      "299:\tlearn: 1687.7508485\ttotal: 3.46s\tremaining: 8.08s\n",
      "300:\tlearn: 1687.5922634\ttotal: 3.47s\tremaining: 8.07s\n",
      "301:\tlearn: 1687.4393540\ttotal: 3.48s\tremaining: 8.05s\n",
      "302:\tlearn: 1687.2919196\ttotal: 3.5s\tremaining: 8.04s\n",
      "303:\tlearn: 1687.1497628\ttotal: 3.51s\tremaining: 8.03s\n",
      "304:\tlearn: 1687.0126969\ttotal: 3.52s\tremaining: 8.02s\n",
      "305:\tlearn: 1686.8805383\ttotal: 3.53s\tremaining: 8.01s\n",
      "306:\tlearn: 1686.7531132\ttotal: 3.54s\tremaining: 7.99s\n",
      "307:\tlearn: 1686.6269914\ttotal: 3.55s\tremaining: 7.98s\n",
      "308:\tlearn: 1686.5145096\ttotal: 3.56s\tremaining: 7.96s\n",
      "309:\tlearn: 1686.4019419\ttotal: 3.57s\tremaining: 7.95s\n",
      "310:\tlearn: 1686.2925782\ttotal: 3.59s\tremaining: 7.96s\n",
      "311:\tlearn: 1686.1827300\ttotal: 3.6s\tremaining: 7.95s\n",
      "312:\tlearn: 1686.0758876\ttotal: 3.62s\tremaining: 7.94s\n",
      "313:\tlearn: 1685.9856938\ttotal: 3.63s\tremaining: 7.93s\n",
      "314:\tlearn: 1685.8905975\ttotal: 3.64s\tremaining: 7.91s\n",
      "315:\tlearn: 1685.7545116\ttotal: 3.65s\tremaining: 7.9s\n",
      "316:\tlearn: 1685.6538925\ttotal: 3.66s\tremaining: 7.88s\n",
      "317:\tlearn: 1685.5354679\ttotal: 3.67s\tremaining: 7.87s\n",
      "318:\tlearn: 1685.4102268\ttotal: 3.68s\tremaining: 7.86s\n",
      "319:\tlearn: 1685.2919157\ttotal: 3.69s\tremaining: 7.85s\n",
      "320:\tlearn: 1685.1820949\ttotal: 3.7s\tremaining: 7.83s\n",
      "321:\tlearn: 1685.0826085\ttotal: 3.71s\tremaining: 7.82s\n",
      "322:\tlearn: 1684.9771244\ttotal: 3.72s\tremaining: 7.8s\n",
      "323:\tlearn: 1684.8798747\ttotal: 3.73s\tremaining: 7.79s\n",
      "324:\tlearn: 1684.7731026\ttotal: 3.74s\tremaining: 7.77s\n",
      "325:\tlearn: 1684.6527730\ttotal: 3.75s\tremaining: 7.76s\n",
      "326:\tlearn: 1684.5494820\ttotal: 3.76s\tremaining: 7.74s\n",
      "327:\tlearn: 1684.4476907\ttotal: 3.77s\tremaining: 7.73s\n",
      "328:\tlearn: 1684.3750437\ttotal: 3.79s\tremaining: 7.72s\n",
      "329:\tlearn: 1684.2926569\ttotal: 3.8s\tremaining: 7.71s\n",
      "330:\tlearn: 1684.2086899\ttotal: 3.81s\tremaining: 7.7s\n",
      "331:\tlearn: 1684.1118417\ttotal: 3.82s\tremaining: 7.68s\n",
      "332:\tlearn: 1684.0082765\ttotal: 3.83s\tremaining: 7.67s\n",
      "333:\tlearn: 1683.8874705\ttotal: 3.84s\tremaining: 7.66s\n",
      "334:\tlearn: 1683.7656524\ttotal: 3.85s\tremaining: 7.65s\n",
      "335:\tlearn: 1683.6552480\ttotal: 3.86s\tremaining: 7.63s\n",
      "336:\tlearn: 1683.5517602\ttotal: 3.88s\tremaining: 7.63s\n",
      "337:\tlearn: 1683.4409635\ttotal: 3.89s\tremaining: 7.62s\n",
      "338:\tlearn: 1683.3146596\ttotal: 3.9s\tremaining: 7.6s\n",
      "339:\tlearn: 1683.2280758\ttotal: 3.91s\tremaining: 7.59s\n",
      "340:\tlearn: 1683.1349232\ttotal: 3.92s\tremaining: 7.58s\n",
      "341:\tlearn: 1683.0539126\ttotal: 3.93s\tremaining: 7.56s\n",
      "342:\tlearn: 1682.9586160\ttotal: 3.94s\tremaining: 7.55s\n",
      "343:\tlearn: 1682.8400901\ttotal: 3.95s\tremaining: 7.54s\n",
      "344:\tlearn: 1682.7258131\ttotal: 3.96s\tremaining: 7.53s\n",
      "345:\tlearn: 1682.6156288\ttotal: 3.98s\tremaining: 7.52s\n",
      "346:\tlearn: 1682.5093925\ttotal: 3.99s\tremaining: 7.5s\n",
      "347:\tlearn: 1682.4069614\ttotal: 4s\tremaining: 7.49s\n",
      "348:\tlearn: 1682.3082008\ttotal: 4.01s\tremaining: 7.48s\n",
      "349:\tlearn: 1682.2129782\ttotal: 4.02s\tremaining: 7.46s\n",
      "350:\tlearn: 1682.1211681\ttotal: 4.03s\tremaining: 7.45s\n",
      "351:\tlearn: 1682.0300696\ttotal: 4.04s\tremaining: 7.44s\n",
      "352:\tlearn: 1681.9510283\ttotal: 4.05s\tremaining: 7.43s\n",
      "353:\tlearn: 1681.8615996\ttotal: 4.06s\tremaining: 7.42s\n",
      "354:\tlearn: 1681.7824250\ttotal: 4.08s\tremaining: 7.4s\n",
      "355:\tlearn: 1681.7087308\ttotal: 4.08s\tremaining: 7.39s\n",
      "356:\tlearn: 1681.6431241\ttotal: 4.1s\tremaining: 7.38s\n",
      "357:\tlearn: 1681.5131604\ttotal: 4.11s\tremaining: 7.37s\n",
      "358:\tlearn: 1681.4009546\ttotal: 4.13s\tremaining: 7.37s\n",
      "359:\tlearn: 1681.2917275\ttotal: 4.14s\tremaining: 7.36s\n",
      "360:\tlearn: 1681.1881170\ttotal: 4.15s\tremaining: 7.35s\n",
      "361:\tlearn: 1681.0951359\ttotal: 4.17s\tremaining: 7.34s\n",
      "362:\tlearn: 1681.0223929\ttotal: 4.17s\tremaining: 7.33s\n",
      "363:\tlearn: 1680.9083542\ttotal: 4.19s\tremaining: 7.32s\n",
      "364:\tlearn: 1680.8262655\ttotal: 4.2s\tremaining: 7.3s\n",
      "365:\tlearn: 1680.7540925\ttotal: 4.21s\tremaining: 7.29s\n",
      "366:\tlearn: 1680.6732076\ttotal: 4.22s\tremaining: 7.28s\n",
      "367:\tlearn: 1680.5697325\ttotal: 4.23s\tremaining: 7.27s\n",
      "368:\tlearn: 1680.4973384\ttotal: 4.24s\tremaining: 7.26s\n",
      "369:\tlearn: 1680.4136255\ttotal: 4.25s\tremaining: 7.25s\n",
      "370:\tlearn: 1680.3413487\ttotal: 4.27s\tremaining: 7.23s\n",
      "371:\tlearn: 1680.2677436\ttotal: 4.28s\tremaining: 7.22s\n",
      "372:\tlearn: 1680.1887012\ttotal: 4.29s\tremaining: 7.21s\n",
      "373:\tlearn: 1680.1182910\ttotal: 4.3s\tremaining: 7.2s\n",
      "374:\tlearn: 1680.0537467\ttotal: 4.31s\tremaining: 7.18s\n",
      "375:\tlearn: 1679.9878582\ttotal: 4.32s\tremaining: 7.17s\n",
      "376:\tlearn: 1679.8696445\ttotal: 4.33s\tremaining: 7.16s\n",
      "377:\tlearn: 1679.7785591\ttotal: 4.35s\tremaining: 7.15s\n",
      "378:\tlearn: 1679.6951278\ttotal: 4.36s\tremaining: 7.14s\n",
      "379:\tlearn: 1679.6251571\ttotal: 4.37s\tremaining: 7.13s\n",
      "380:\tlearn: 1679.5556686\ttotal: 4.38s\tremaining: 7.11s\n",
      "381:\tlearn: 1679.4892416\ttotal: 4.39s\tremaining: 7.1s\n",
      "382:\tlearn: 1679.4221303\ttotal: 4.4s\tremaining: 7.09s\n",
      "383:\tlearn: 1679.3384698\ttotal: 4.41s\tremaining: 7.08s\n",
      "384:\tlearn: 1679.2445152\ttotal: 4.42s\tremaining: 7.07s\n",
      "385:\tlearn: 1679.1594172\ttotal: 4.44s\tremaining: 7.06s\n",
      "386:\tlearn: 1679.0760524\ttotal: 4.45s\tremaining: 7.05s\n",
      "387:\tlearn: 1678.9567996\ttotal: 4.46s\tremaining: 7.03s\n",
      "388:\tlearn: 1678.8528887\ttotal: 4.47s\tremaining: 7.02s\n",
      "389:\tlearn: 1678.7738659\ttotal: 4.48s\tremaining: 7.01s\n",
      "390:\tlearn: 1678.6671780\ttotal: 4.49s\tremaining: 6.99s\n",
      "391:\tlearn: 1678.5721954\ttotal: 4.5s\tremaining: 6.98s\n",
      "392:\tlearn: 1678.4631996\ttotal: 4.52s\tremaining: 6.98s\n",
      "393:\tlearn: 1678.3823591\ttotal: 4.53s\tremaining: 6.97s\n",
      "394:\tlearn: 1678.3194184\ttotal: 4.54s\tremaining: 6.96s\n",
      "395:\tlearn: 1678.2503208\ttotal: 4.55s\tremaining: 6.94s\n",
      "396:\tlearn: 1678.1728873\ttotal: 4.56s\tremaining: 6.93s\n",
      "397:\tlearn: 1678.1002844\ttotal: 4.57s\tremaining: 6.92s\n",
      "398:\tlearn: 1678.0066050\ttotal: 4.58s\tremaining: 6.91s\n",
      "399:\tlearn: 1677.9432347\ttotal: 4.6s\tremaining: 6.89s\n",
      "400:\tlearn: 1677.8866499\ttotal: 4.61s\tremaining: 6.89s\n",
      "401:\tlearn: 1677.8263475\ttotal: 4.62s\tremaining: 6.88s\n",
      "402:\tlearn: 1677.7574177\ttotal: 4.63s\tremaining: 6.87s\n",
      "403:\tlearn: 1677.6939276\ttotal: 4.64s\tremaining: 6.85s\n",
      "404:\tlearn: 1677.6377706\ttotal: 4.66s\tremaining: 6.84s\n",
      "405:\tlearn: 1677.5663015\ttotal: 4.67s\tremaining: 6.83s\n",
      "406:\tlearn: 1677.4847431\ttotal: 4.68s\tremaining: 6.81s\n",
      "407:\tlearn: 1677.4196234\ttotal: 4.69s\tremaining: 6.8s\n",
      "408:\tlearn: 1677.3580824\ttotal: 4.71s\tremaining: 6.8s\n",
      "409:\tlearn: 1677.2957940\ttotal: 4.72s\tremaining: 6.79s\n",
      "410:\tlearn: 1677.2451231\ttotal: 4.73s\tremaining: 6.78s\n",
      "411:\tlearn: 1677.1364394\ttotal: 4.74s\tremaining: 6.77s\n",
      "412:\tlearn: 1677.0516846\ttotal: 4.75s\tremaining: 6.75s\n",
      "413:\tlearn: 1676.9821131\ttotal: 4.76s\tremaining: 6.74s\n",
      "414:\tlearn: 1676.9239077\ttotal: 4.77s\tremaining: 6.73s\n",
      "415:\tlearn: 1676.8692935\ttotal: 4.78s\tremaining: 6.72s\n",
      "416:\tlearn: 1676.8138311\ttotal: 4.8s\tremaining: 6.71s\n",
      "417:\tlearn: 1676.7632647\ttotal: 4.81s\tremaining: 6.69s\n",
      "418:\tlearn: 1676.7067881\ttotal: 4.82s\tremaining: 6.68s\n",
      "419:\tlearn: 1676.6470231\ttotal: 4.83s\tremaining: 6.67s\n",
      "420:\tlearn: 1676.5719156\ttotal: 4.84s\tremaining: 6.66s\n",
      "421:\tlearn: 1676.4996259\ttotal: 4.85s\tremaining: 6.64s\n",
      "422:\tlearn: 1676.4129673\ttotal: 4.86s\tremaining: 6.63s\n",
      "423:\tlearn: 1676.3448572\ttotal: 4.87s\tremaining: 6.62s\n",
      "424:\tlearn: 1676.2769897\ttotal: 4.89s\tremaining: 6.61s\n",
      "425:\tlearn: 1676.1923793\ttotal: 4.9s\tremaining: 6.61s\n",
      "426:\tlearn: 1676.1154386\ttotal: 4.91s\tremaining: 6.59s\n",
      "427:\tlearn: 1676.0454677\ttotal: 4.92s\tremaining: 6.58s\n",
      "428:\tlearn: 1675.9818380\ttotal: 4.93s\tremaining: 6.57s\n",
      "429:\tlearn: 1675.9239728\ttotal: 4.94s\tremaining: 6.55s\n",
      "430:\tlearn: 1675.8677508\ttotal: 4.96s\tremaining: 6.54s\n",
      "431:\tlearn: 1675.7988433\ttotal: 4.96s\tremaining: 6.53s\n",
      "432:\tlearn: 1675.7301575\ttotal: 4.98s\tremaining: 6.52s\n",
      "433:\tlearn: 1675.6583148\ttotal: 5s\tremaining: 6.52s\n",
      "434:\tlearn: 1675.5908558\ttotal: 5.01s\tremaining: 6.51s\n",
      "435:\tlearn: 1675.5424635\ttotal: 5.02s\tremaining: 6.5s\n",
      "436:\tlearn: 1675.4823640\ttotal: 5.03s\tremaining: 6.49s\n",
      "437:\tlearn: 1675.4214216\ttotal: 5.04s\tremaining: 6.47s\n",
      "438:\tlearn: 1675.3598633\ttotal: 5.05s\tremaining: 6.46s\n",
      "439:\tlearn: 1675.3008363\ttotal: 5.07s\tremaining: 6.45s\n",
      "440:\tlearn: 1675.2318832\ttotal: 5.08s\tremaining: 6.45s\n",
      "441:\tlearn: 1675.1450083\ttotal: 5.09s\tremaining: 6.43s\n",
      "442:\tlearn: 1675.0612492\ttotal: 5.11s\tremaining: 6.42s\n",
      "443:\tlearn: 1674.9804914\ttotal: 5.12s\tremaining: 6.41s\n",
      "444:\tlearn: 1674.9026284\ttotal: 5.13s\tremaining: 6.39s\n",
      "445:\tlearn: 1674.8275556\ttotal: 5.14s\tremaining: 6.38s\n",
      "446:\tlearn: 1674.7551741\ttotal: 5.15s\tremaining: 6.37s\n",
      "447:\tlearn: 1674.6853866\ttotal: 5.16s\tremaining: 6.36s\n",
      "448:\tlearn: 1674.6181012\ttotal: 5.17s\tremaining: 6.35s\n",
      "449:\tlearn: 1674.5532273\ttotal: 5.19s\tremaining: 6.34s\n",
      "450:\tlearn: 1674.4906794\ttotal: 5.2s\tremaining: 6.33s\n",
      "451:\tlearn: 1674.4303686\ttotal: 5.21s\tremaining: 6.32s\n",
      "452:\tlearn: 1674.3625441\ttotal: 5.23s\tremaining: 6.32s\n",
      "453:\tlearn: 1674.3082500\ttotal: 5.25s\tremaining: 6.31s\n",
      "454:\tlearn: 1674.2460521\ttotal: 5.26s\tremaining: 6.3s\n",
      "455:\tlearn: 1674.1920938\ttotal: 5.28s\tremaining: 6.29s\n",
      "456:\tlearn: 1674.1461847\ttotal: 5.29s\tremaining: 6.29s\n",
      "457:\tlearn: 1674.0941412\ttotal: 5.3s\tremaining: 6.28s\n",
      "458:\tlearn: 1674.0370905\ttotal: 5.32s\tremaining: 6.27s\n",
      "459:\tlearn: 1673.9752041\ttotal: 5.33s\tremaining: 6.26s\n",
      "460:\tlearn: 1673.9186046\ttotal: 5.34s\tremaining: 6.25s\n",
      "461:\tlearn: 1673.8585986\ttotal: 5.36s\tremaining: 6.24s\n",
      "462:\tlearn: 1673.8007447\ttotal: 5.37s\tremaining: 6.23s\n",
      "463:\tlearn: 1673.7449647\ttotal: 5.38s\tremaining: 6.22s\n",
      "464:\tlearn: 1673.6911849\ttotal: 5.4s\tremaining: 6.21s\n",
      "465:\tlearn: 1673.6393331\ttotal: 5.41s\tremaining: 6.2s\n",
      "466:\tlearn: 1673.5893407\ttotal: 5.43s\tremaining: 6.2s\n",
      "467:\tlearn: 1673.5422504\ttotal: 5.44s\tremaining: 6.18s\n",
      "468:\tlearn: 1673.4909553\ttotal: 5.45s\tremaining: 6.17s\n",
      "469:\tlearn: 1673.4178039\ttotal: 5.46s\tremaining: 6.16s\n",
      "470:\tlearn: 1673.3598195\ttotal: 5.47s\tremaining: 6.15s\n",
      "471:\tlearn: 1673.3113690\ttotal: 5.48s\tremaining: 6.13s\n",
      "472:\tlearn: 1673.2665635\ttotal: 5.49s\tremaining: 6.12s\n",
      "473:\tlearn: 1673.1721029\ttotal: 5.5s\tremaining: 6.11s\n",
      "474:\tlearn: 1673.0886023\ttotal: 5.52s\tremaining: 6.1s\n",
      "475:\tlearn: 1673.0050114\ttotal: 5.53s\tremaining: 6.09s\n",
      "476:\tlearn: 1672.9172922\ttotal: 5.54s\tremaining: 6.07s\n",
      "477:\tlearn: 1672.8450861\ttotal: 5.55s\tremaining: 6.06s\n",
      "478:\tlearn: 1672.7616718\ttotal: 5.56s\tremaining: 6.05s\n",
      "479:\tlearn: 1672.6831355\ttotal: 5.57s\tremaining: 6.04s\n",
      "480:\tlearn: 1672.6166888\ttotal: 5.58s\tremaining: 6.02s\n",
      "481:\tlearn: 1672.5426489\ttotal: 5.59s\tremaining: 6.01s\n",
      "482:\tlearn: 1672.4705437\ttotal: 5.6s\tremaining: 6s\n",
      "483:\tlearn: 1672.4036225\ttotal: 5.62s\tremaining: 5.99s\n",
      "484:\tlearn: 1672.3437227\ttotal: 5.63s\tremaining: 5.98s\n",
      "485:\tlearn: 1672.2809555\ttotal: 5.64s\tremaining: 5.96s\n",
      "486:\tlearn: 1672.2150636\ttotal: 5.65s\tremaining: 5.96s\n",
      "487:\tlearn: 1672.1533503\ttotal: 5.67s\tremaining: 5.95s\n",
      "488:\tlearn: 1672.0848224\ttotal: 5.68s\tremaining: 5.94s\n",
      "489:\tlearn: 1672.0196600\ttotal: 5.69s\tremaining: 5.92s\n",
      "490:\tlearn: 1671.9530030\ttotal: 5.7s\tremaining: 5.91s\n",
      "491:\tlearn: 1671.8907420\ttotal: 5.72s\tremaining: 5.9s\n",
      "492:\tlearn: 1671.8283891\ttotal: 5.73s\tremaining: 5.89s\n",
      "493:\tlearn: 1671.7699034\ttotal: 5.74s\tremaining: 5.88s\n",
      "494:\tlearn: 1671.7162479\ttotal: 5.75s\tremaining: 5.87s\n",
      "495:\tlearn: 1671.6558482\ttotal: 5.76s\tremaining: 5.85s\n",
      "496:\tlearn: 1671.5998326\ttotal: 5.77s\tremaining: 5.84s\n",
      "497:\tlearn: 1671.5465383\ttotal: 5.78s\tremaining: 5.83s\n",
      "498:\tlearn: 1671.4888501\ttotal: 5.79s\tremaining: 5.82s\n",
      "499:\tlearn: 1671.4353104\ttotal: 5.8s\tremaining: 5.8s\n",
      "500:\tlearn: 1671.3733779\ttotal: 5.82s\tremaining: 5.79s\n",
      "501:\tlearn: 1671.3067814\ttotal: 5.83s\tremaining: 5.78s\n",
      "502:\tlearn: 1671.2307724\ttotal: 5.84s\tremaining: 5.77s\n",
      "503:\tlearn: 1671.1641651\ttotal: 5.85s\tremaining: 5.75s\n",
      "504:\tlearn: 1671.1084937\ttotal: 5.86s\tremaining: 5.74s\n",
      "505:\tlearn: 1671.0654241\ttotal: 5.87s\tremaining: 5.73s\n",
      "506:\tlearn: 1670.9993705\ttotal: 5.88s\tremaining: 5.72s\n",
      "507:\tlearn: 1670.9368053\ttotal: 5.89s\tremaining: 5.71s\n",
      "508:\tlearn: 1670.8924282\ttotal: 5.9s\tremaining: 5.7s\n",
      "509:\tlearn: 1670.8375573\ttotal: 5.91s\tremaining: 5.68s\n",
      "510:\tlearn: 1670.7937264\ttotal: 5.92s\tremaining: 5.67s\n",
      "511:\tlearn: 1670.7595386\ttotal: 5.94s\tremaining: 5.66s\n",
      "512:\tlearn: 1670.7131024\ttotal: 5.95s\tremaining: 5.64s\n",
      "513:\tlearn: 1670.6368076\ttotal: 5.96s\tremaining: 5.63s\n",
      "514:\tlearn: 1670.5571619\ttotal: 5.97s\tremaining: 5.62s\n",
      "515:\tlearn: 1670.4917683\ttotal: 5.98s\tremaining: 5.61s\n",
      "516:\tlearn: 1670.4331059\ttotal: 5.99s\tremaining: 5.6s\n",
      "517:\tlearn: 1670.3743330\ttotal: 6.01s\tremaining: 5.59s\n",
      "518:\tlearn: 1670.3187040\ttotal: 6.02s\tremaining: 5.58s\n",
      "519:\tlearn: 1670.2640923\ttotal: 6.04s\tremaining: 5.58s\n",
      "520:\tlearn: 1670.2057657\ttotal: 6.05s\tremaining: 5.57s\n",
      "521:\tlearn: 1670.1535695\ttotal: 6.07s\tremaining: 5.56s\n",
      "522:\tlearn: 1670.1043277\ttotal: 6.09s\tremaining: 5.55s\n",
      "523:\tlearn: 1670.0531253\ttotal: 6.1s\tremaining: 5.54s\n",
      "524:\tlearn: 1670.0013186\ttotal: 6.11s\tremaining: 5.53s\n",
      "525:\tlearn: 1669.9493735\ttotal: 6.13s\tremaining: 5.52s\n",
      "526:\tlearn: 1669.9029672\ttotal: 6.14s\tremaining: 5.51s\n",
      "527:\tlearn: 1669.8496992\ttotal: 6.15s\tremaining: 5.5s\n",
      "528:\tlearn: 1669.8080125\ttotal: 6.16s\tremaining: 5.48s\n",
      "529:\tlearn: 1669.7568684\ttotal: 6.17s\tremaining: 5.47s\n",
      "530:\tlearn: 1669.7169438\ttotal: 6.19s\tremaining: 5.46s\n",
      "531:\tlearn: 1669.6754608\ttotal: 6.2s\tremaining: 5.45s\n",
      "532:\tlearn: 1669.6310070\ttotal: 6.21s\tremaining: 5.44s\n",
      "533:\tlearn: 1669.5820969\ttotal: 6.22s\tremaining: 5.43s\n",
      "534:\tlearn: 1669.5314989\ttotal: 6.23s\tremaining: 5.41s\n",
      "535:\tlearn: 1669.4767861\ttotal: 6.24s\tremaining: 5.4s\n",
      "536:\tlearn: 1669.4285687\ttotal: 6.25s\tremaining: 5.39s\n",
      "537:\tlearn: 1669.3937345\ttotal: 6.26s\tremaining: 5.38s\n",
      "538:\tlearn: 1669.3370534\ttotal: 6.27s\tremaining: 5.36s\n",
      "539:\tlearn: 1669.2894606\ttotal: 6.28s\tremaining: 5.35s\n",
      "540:\tlearn: 1669.2380003\ttotal: 6.29s\tremaining: 5.34s\n",
      "541:\tlearn: 1669.1958132\ttotal: 6.3s\tremaining: 5.33s\n",
      "542:\tlearn: 1669.1426085\ttotal: 6.31s\tremaining: 5.31s\n",
      "543:\tlearn: 1669.0937860\ttotal: 6.32s\tremaining: 5.3s\n",
      "544:\tlearn: 1669.0451815\ttotal: 6.33s\tremaining: 5.29s\n",
      "545:\tlearn: 1668.9854358\ttotal: 6.35s\tremaining: 5.28s\n",
      "546:\tlearn: 1668.9293365\ttotal: 6.36s\tremaining: 5.27s\n",
      "547:\tlearn: 1668.8766600\ttotal: 6.38s\tremaining: 5.26s\n",
      "548:\tlearn: 1668.8329667\ttotal: 6.39s\tremaining: 5.25s\n",
      "549:\tlearn: 1668.7844143\ttotal: 6.4s\tremaining: 5.24s\n",
      "550:\tlearn: 1668.7344681\ttotal: 6.41s\tremaining: 5.22s\n",
      "551:\tlearn: 1668.6843310\ttotal: 6.42s\tremaining: 5.21s\n",
      "552:\tlearn: 1668.6391087\ttotal: 6.44s\tremaining: 5.2s\n",
      "553:\tlearn: 1668.5840943\ttotal: 6.45s\tremaining: 5.19s\n",
      "554:\tlearn: 1668.5402461\ttotal: 6.46s\tremaining: 5.18s\n",
      "555:\tlearn: 1668.4873730\ttotal: 6.47s\tremaining: 5.17s\n",
      "556:\tlearn: 1668.4415738\ttotal: 6.48s\tremaining: 5.15s\n",
      "557:\tlearn: 1668.3903998\ttotal: 6.49s\tremaining: 5.14s\n",
      "558:\tlearn: 1668.3440257\ttotal: 6.51s\tremaining: 5.13s\n",
      "559:\tlearn: 1668.2940370\ttotal: 6.52s\tremaining: 5.12s\n",
      "560:\tlearn: 1668.2403230\ttotal: 6.53s\tremaining: 5.11s\n",
      "561:\tlearn: 1668.1939991\ttotal: 6.54s\tremaining: 5.1s\n",
      "562:\tlearn: 1668.1404641\ttotal: 6.55s\tremaining: 5.09s\n",
      "563:\tlearn: 1668.0953365\ttotal: 6.57s\tremaining: 5.08s\n",
      "564:\tlearn: 1668.0489309\ttotal: 6.58s\tremaining: 5.06s\n",
      "565:\tlearn: 1667.9994399\ttotal: 6.59s\tremaining: 5.05s\n",
      "566:\tlearn: 1667.9540846\ttotal: 6.6s\tremaining: 5.04s\n",
      "567:\tlearn: 1667.9149441\ttotal: 6.61s\tremaining: 5.03s\n",
      "568:\tlearn: 1667.8709613\ttotal: 6.62s\tremaining: 5.02s\n",
      "569:\tlearn: 1667.8283775\ttotal: 6.63s\tremaining: 5s\n",
      "570:\tlearn: 1667.7921899\ttotal: 6.64s\tremaining: 4.99s\n",
      "571:\tlearn: 1667.7531757\ttotal: 6.65s\tremaining: 4.98s\n",
      "572:\tlearn: 1667.7157175\ttotal: 6.67s\tremaining: 4.97s\n",
      "573:\tlearn: 1667.6629627\ttotal: 6.68s\tremaining: 4.96s\n",
      "574:\tlearn: 1667.6222598\ttotal: 6.69s\tremaining: 4.94s\n",
      "575:\tlearn: 1667.5879267\ttotal: 6.7s\tremaining: 4.93s\n",
      "576:\tlearn: 1667.5412889\ttotal: 6.71s\tremaining: 4.92s\n",
      "577:\tlearn: 1667.4948285\ttotal: 6.73s\tremaining: 4.91s\n",
      "578:\tlearn: 1667.4504248\ttotal: 6.74s\tremaining: 4.9s\n",
      "579:\tlearn: 1667.4078760\ttotal: 6.75s\tremaining: 4.89s\n",
      "580:\tlearn: 1667.3692733\ttotal: 6.76s\tremaining: 4.87s\n",
      "581:\tlearn: 1667.3301079\ttotal: 6.77s\tremaining: 4.86s\n",
      "582:\tlearn: 1667.2954975\ttotal: 6.78s\tremaining: 4.85s\n",
      "583:\tlearn: 1667.2616673\ttotal: 6.79s\tremaining: 4.84s\n",
      "584:\tlearn: 1667.2341917\ttotal: 6.81s\tremaining: 4.83s\n",
      "585:\tlearn: 1667.1998611\ttotal: 6.82s\tremaining: 4.82s\n",
      "586:\tlearn: 1667.1523687\ttotal: 6.83s\tremaining: 4.81s\n",
      "587:\tlearn: 1667.1033819\ttotal: 6.85s\tremaining: 4.8s\n",
      "588:\tlearn: 1667.0573050\ttotal: 6.86s\tremaining: 4.79s\n",
      "589:\tlearn: 1667.0133711\ttotal: 6.88s\tremaining: 4.78s\n",
      "590:\tlearn: 1666.9616082\ttotal: 6.89s\tremaining: 4.77s\n",
      "591:\tlearn: 1666.9102233\ttotal: 6.91s\tremaining: 4.76s\n",
      "592:\tlearn: 1666.8597638\ttotal: 6.92s\tremaining: 4.75s\n",
      "593:\tlearn: 1666.8121596\ttotal: 6.94s\tremaining: 4.74s\n",
      "594:\tlearn: 1666.7668937\ttotal: 6.95s\tremaining: 4.73s\n",
      "595:\tlearn: 1666.7237731\ttotal: 6.96s\tremaining: 4.72s\n",
      "596:\tlearn: 1666.6786868\ttotal: 6.97s\tremaining: 4.71s\n",
      "597:\tlearn: 1666.6368430\ttotal: 6.99s\tremaining: 4.7s\n",
      "598:\tlearn: 1666.5961035\ttotal: 7s\tremaining: 4.68s\n",
      "599:\tlearn: 1666.5571741\ttotal: 7.01s\tremaining: 4.67s\n",
      "600:\tlearn: 1666.5181528\ttotal: 7.02s\tremaining: 4.66s\n",
      "601:\tlearn: 1666.4780193\ttotal: 7.03s\tremaining: 4.65s\n",
      "602:\tlearn: 1666.4400310\ttotal: 7.04s\tremaining: 4.64s\n",
      "603:\tlearn: 1666.4030480\ttotal: 7.06s\tremaining: 4.63s\n",
      "604:\tlearn: 1666.3682355\ttotal: 7.07s\tremaining: 4.61s\n",
      "605:\tlearn: 1666.3227470\ttotal: 7.08s\tremaining: 4.6s\n",
      "606:\tlearn: 1666.2822322\ttotal: 7.09s\tremaining: 4.59s\n",
      "607:\tlearn: 1666.2460679\ttotal: 7.1s\tremaining: 4.58s\n",
      "608:\tlearn: 1666.2079083\ttotal: 7.11s\tremaining: 4.57s\n",
      "609:\tlearn: 1666.1668151\ttotal: 7.12s\tremaining: 4.55s\n",
      "610:\tlearn: 1666.1328713\ttotal: 7.13s\tremaining: 4.54s\n",
      "611:\tlearn: 1666.0956305\ttotal: 7.14s\tremaining: 4.53s\n",
      "612:\tlearn: 1666.0574212\ttotal: 7.15s\tremaining: 4.52s\n",
      "613:\tlearn: 1666.0198167\ttotal: 7.17s\tremaining: 4.5s\n",
      "614:\tlearn: 1665.9837259\ttotal: 7.18s\tremaining: 4.49s\n",
      "615:\tlearn: 1665.9463056\ttotal: 7.19s\tremaining: 4.48s\n",
      "616:\tlearn: 1665.8956537\ttotal: 7.2s\tremaining: 4.47s\n",
      "617:\tlearn: 1665.8431391\ttotal: 7.21s\tremaining: 4.46s\n",
      "618:\tlearn: 1665.7939498\ttotal: 7.22s\tremaining: 4.44s\n",
      "619:\tlearn: 1665.7465727\ttotal: 7.23s\tremaining: 4.43s\n",
      "620:\tlearn: 1665.7019785\ttotal: 7.24s\tremaining: 4.42s\n",
      "621:\tlearn: 1665.6624200\ttotal: 7.26s\tremaining: 4.41s\n",
      "622:\tlearn: 1665.6247546\ttotal: 7.27s\tremaining: 4.4s\n",
      "623:\tlearn: 1665.5923839\ttotal: 7.29s\tremaining: 4.39s\n",
      "624:\tlearn: 1665.5557994\ttotal: 7.3s\tremaining: 4.38s\n",
      "625:\tlearn: 1665.5180690\ttotal: 7.31s\tremaining: 4.37s\n",
      "626:\tlearn: 1665.4724097\ttotal: 7.32s\tremaining: 4.36s\n",
      "627:\tlearn: 1665.4262483\ttotal: 7.34s\tremaining: 4.35s\n",
      "628:\tlearn: 1665.3830079\ttotal: 7.36s\tremaining: 4.34s\n",
      "629:\tlearn: 1665.3416010\ttotal: 7.38s\tremaining: 4.33s\n",
      "630:\tlearn: 1665.3028324\ttotal: 7.39s\tremaining: 4.32s\n",
      "631:\tlearn: 1665.2622898\ttotal: 7.4s\tremaining: 4.31s\n",
      "632:\tlearn: 1665.2243152\ttotal: 7.41s\tremaining: 4.3s\n",
      "633:\tlearn: 1665.1880307\ttotal: 7.43s\tremaining: 4.29s\n",
      "634:\tlearn: 1665.1545114\ttotal: 7.45s\tremaining: 4.28s\n",
      "635:\tlearn: 1665.1231078\ttotal: 7.46s\tremaining: 4.27s\n",
      "636:\tlearn: 1665.0916569\ttotal: 7.48s\tremaining: 4.26s\n",
      "637:\tlearn: 1665.0527738\ttotal: 7.49s\tremaining: 4.25s\n",
      "638:\tlearn: 1665.0171759\ttotal: 7.51s\tremaining: 4.24s\n",
      "639:\tlearn: 1664.9855766\ttotal: 7.52s\tremaining: 4.23s\n",
      "640:\tlearn: 1664.9384636\ttotal: 7.54s\tremaining: 4.22s\n",
      "641:\tlearn: 1664.8942269\ttotal: 7.55s\tremaining: 4.21s\n",
      "642:\tlearn: 1664.8526893\ttotal: 7.56s\tremaining: 4.2s\n",
      "643:\tlearn: 1664.8147644\ttotal: 7.58s\tremaining: 4.19s\n",
      "644:\tlearn: 1664.7672604\ttotal: 7.59s\tremaining: 4.18s\n",
      "645:\tlearn: 1664.7258394\ttotal: 7.61s\tremaining: 4.17s\n",
      "646:\tlearn: 1664.6774162\ttotal: 7.62s\tremaining: 4.16s\n",
      "647:\tlearn: 1664.6275674\ttotal: 7.63s\tremaining: 4.14s\n",
      "648:\tlearn: 1664.5936129\ttotal: 7.64s\tremaining: 4.13s\n",
      "649:\tlearn: 1664.5586536\ttotal: 7.65s\tremaining: 4.12s\n",
      "650:\tlearn: 1664.5211728\ttotal: 7.66s\tremaining: 4.11s\n",
      "651:\tlearn: 1664.4863065\ttotal: 7.67s\tremaining: 4.09s\n",
      "652:\tlearn: 1664.4443216\ttotal: 7.68s\tremaining: 4.08s\n",
      "653:\tlearn: 1664.4058628\ttotal: 7.7s\tremaining: 4.07s\n",
      "654:\tlearn: 1664.3672696\ttotal: 7.71s\tremaining: 4.06s\n",
      "655:\tlearn: 1664.3323151\ttotal: 7.72s\tremaining: 4.05s\n",
      "656:\tlearn: 1664.2962013\ttotal: 7.73s\tremaining: 4.04s\n",
      "657:\tlearn: 1664.2604323\ttotal: 7.74s\tremaining: 4.02s\n",
      "658:\tlearn: 1664.2266576\ttotal: 7.75s\tremaining: 4.01s\n",
      "659:\tlearn: 1664.1812616\ttotal: 7.76s\tremaining: 4s\n",
      "660:\tlearn: 1664.1395680\ttotal: 7.77s\tremaining: 3.99s\n",
      "661:\tlearn: 1664.1064107\ttotal: 7.78s\tremaining: 3.97s\n",
      "662:\tlearn: 1664.0731325\ttotal: 7.8s\tremaining: 3.96s\n",
      "663:\tlearn: 1664.0271698\ttotal: 7.81s\tremaining: 3.95s\n",
      "664:\tlearn: 1663.9819084\ttotal: 7.82s\tremaining: 3.94s\n",
      "665:\tlearn: 1663.9322011\ttotal: 7.83s\tremaining: 3.93s\n",
      "666:\tlearn: 1663.8804632\ttotal: 7.84s\tremaining: 3.91s\n",
      "667:\tlearn: 1663.8372133\ttotal: 7.85s\tremaining: 3.9s\n",
      "668:\tlearn: 1663.8105110\ttotal: 7.86s\tremaining: 3.89s\n",
      "669:\tlearn: 1663.7641746\ttotal: 7.87s\tremaining: 3.88s\n",
      "670:\tlearn: 1663.7288254\ttotal: 7.89s\tremaining: 3.87s\n",
      "671:\tlearn: 1663.6906788\ttotal: 7.9s\tremaining: 3.85s\n",
      "672:\tlearn: 1663.6608553\ttotal: 7.91s\tremaining: 3.84s\n",
      "673:\tlearn: 1663.6095619\ttotal: 7.92s\tremaining: 3.83s\n",
      "674:\tlearn: 1663.5696800\ttotal: 7.93s\tremaining: 3.82s\n",
      "675:\tlearn: 1663.5231922\ttotal: 7.94s\tremaining: 3.81s\n",
      "676:\tlearn: 1663.4824872\ttotal: 7.95s\tremaining: 3.79s\n",
      "677:\tlearn: 1663.4421912\ttotal: 7.96s\tremaining: 3.78s\n",
      "678:\tlearn: 1663.4170006\ttotal: 7.97s\tremaining: 3.77s\n",
      "679:\tlearn: 1663.3860703\ttotal: 7.99s\tremaining: 3.76s\n",
      "680:\tlearn: 1663.3513737\ttotal: 8s\tremaining: 3.75s\n",
      "681:\tlearn: 1663.3214179\ttotal: 8.01s\tremaining: 3.73s\n",
      "682:\tlearn: 1663.2949341\ttotal: 8.02s\tremaining: 3.72s\n",
      "683:\tlearn: 1663.2596647\ttotal: 8.03s\tremaining: 3.71s\n",
      "684:\tlearn: 1663.2364482\ttotal: 8.04s\tremaining: 3.7s\n",
      "685:\tlearn: 1663.1952612\ttotal: 8.05s\tremaining: 3.69s\n",
      "686:\tlearn: 1663.1583169\ttotal: 8.06s\tremaining: 3.67s\n",
      "687:\tlearn: 1663.1289056\ttotal: 8.07s\tremaining: 3.66s\n",
      "688:\tlearn: 1663.0942053\ttotal: 8.09s\tremaining: 3.65s\n",
      "689:\tlearn: 1663.0669499\ttotal: 8.1s\tremaining: 3.64s\n",
      "690:\tlearn: 1663.0226381\ttotal: 8.11s\tremaining: 3.63s\n",
      "691:\tlearn: 1662.9904062\ttotal: 8.12s\tremaining: 3.61s\n",
      "692:\tlearn: 1662.9501562\ttotal: 8.13s\tremaining: 3.6s\n",
      "693:\tlearn: 1662.9060647\ttotal: 8.14s\tremaining: 3.59s\n",
      "694:\tlearn: 1662.8635551\ttotal: 8.15s\tremaining: 3.58s\n",
      "695:\tlearn: 1662.8219413\ttotal: 8.16s\tremaining: 3.56s\n",
      "696:\tlearn: 1662.7798763\ttotal: 8.18s\tremaining: 3.55s\n",
      "697:\tlearn: 1662.7457136\ttotal: 8.19s\tremaining: 3.54s\n",
      "698:\tlearn: 1662.7144950\ttotal: 8.2s\tremaining: 3.53s\n",
      "699:\tlearn: 1662.6735048\ttotal: 8.21s\tremaining: 3.52s\n",
      "700:\tlearn: 1662.6356773\ttotal: 8.22s\tremaining: 3.51s\n",
      "701:\tlearn: 1662.6026336\ttotal: 8.23s\tremaining: 3.5s\n",
      "702:\tlearn: 1662.5688398\ttotal: 8.24s\tremaining: 3.48s\n",
      "703:\tlearn: 1662.5307359\ttotal: 8.26s\tremaining: 3.47s\n",
      "704:\tlearn: 1662.4939994\ttotal: 8.27s\tremaining: 3.46s\n",
      "705:\tlearn: 1662.4585801\ttotal: 8.29s\tremaining: 3.45s\n",
      "706:\tlearn: 1662.4211082\ttotal: 8.3s\tremaining: 3.44s\n",
      "707:\tlearn: 1662.3857458\ttotal: 8.31s\tremaining: 3.43s\n",
      "708:\tlearn: 1662.3607256\ttotal: 8.32s\tremaining: 3.42s\n",
      "709:\tlearn: 1662.3416243\ttotal: 8.33s\tremaining: 3.4s\n",
      "710:\tlearn: 1662.3127897\ttotal: 8.34s\tremaining: 3.39s\n",
      "711:\tlearn: 1662.2853388\ttotal: 8.36s\tremaining: 3.38s\n",
      "712:\tlearn: 1662.2531713\ttotal: 8.37s\tremaining: 3.37s\n",
      "713:\tlearn: 1662.2256678\ttotal: 8.39s\tremaining: 3.36s\n",
      "714:\tlearn: 1662.1927533\ttotal: 8.4s\tremaining: 3.35s\n",
      "715:\tlearn: 1662.1584186\ttotal: 8.41s\tremaining: 3.33s\n",
      "716:\tlearn: 1662.1260653\ttotal: 8.42s\tremaining: 3.32s\n",
      "717:\tlearn: 1662.0949187\ttotal: 8.43s\tremaining: 3.31s\n",
      "718:\tlearn: 1662.0574353\ttotal: 8.44s\tremaining: 3.3s\n",
      "719:\tlearn: 1662.0220859\ttotal: 8.46s\tremaining: 3.29s\n",
      "720:\tlearn: 1661.9914481\ttotal: 8.47s\tremaining: 3.28s\n",
      "721:\tlearn: 1661.9614129\ttotal: 8.48s\tremaining: 3.27s\n",
      "722:\tlearn: 1661.9260532\ttotal: 8.49s\tremaining: 3.25s\n",
      "723:\tlearn: 1661.8919812\ttotal: 8.51s\tremaining: 3.24s\n",
      "724:\tlearn: 1661.8603594\ttotal: 8.52s\tremaining: 3.23s\n",
      "725:\tlearn: 1661.8282568\ttotal: 8.53s\tremaining: 3.22s\n",
      "726:\tlearn: 1661.8015281\ttotal: 8.54s\tremaining: 3.21s\n",
      "727:\tlearn: 1661.7722218\ttotal: 8.55s\tremaining: 3.19s\n",
      "728:\tlearn: 1661.7394749\ttotal: 8.56s\tremaining: 3.18s\n",
      "729:\tlearn: 1661.7090079\ttotal: 8.57s\tremaining: 3.17s\n",
      "730:\tlearn: 1661.6811503\ttotal: 8.58s\tremaining: 3.16s\n",
      "731:\tlearn: 1661.6519665\ttotal: 8.59s\tremaining: 3.15s\n",
      "732:\tlearn: 1661.6198785\ttotal: 8.6s\tremaining: 3.13s\n",
      "733:\tlearn: 1661.5766552\ttotal: 8.62s\tremaining: 3.12s\n",
      "734:\tlearn: 1661.5449924\ttotal: 8.63s\tremaining: 3.11s\n",
      "735:\tlearn: 1661.5125879\ttotal: 8.65s\tremaining: 3.1s\n",
      "736:\tlearn: 1661.4795062\ttotal: 8.66s\tremaining: 3.09s\n",
      "737:\tlearn: 1661.4507788\ttotal: 8.67s\tremaining: 3.08s\n",
      "738:\tlearn: 1661.4103880\ttotal: 8.68s\tremaining: 3.06s\n",
      "739:\tlearn: 1661.3766337\ttotal: 8.69s\tremaining: 3.05s\n",
      "740:\tlearn: 1661.3408710\ttotal: 8.71s\tremaining: 3.04s\n",
      "741:\tlearn: 1661.3017120\ttotal: 8.72s\tremaining: 3.03s\n",
      "742:\tlearn: 1661.2654568\ttotal: 8.73s\tremaining: 3.02s\n",
      "743:\tlearn: 1661.2304094\ttotal: 8.74s\tremaining: 3.01s\n",
      "744:\tlearn: 1661.1965901\ttotal: 8.75s\tremaining: 3s\n",
      "745:\tlearn: 1661.1657657\ttotal: 8.76s\tremaining: 2.98s\n",
      "746:\tlearn: 1661.1332495\ttotal: 8.78s\tremaining: 2.97s\n",
      "747:\tlearn: 1661.0975484\ttotal: 8.79s\tremaining: 2.96s\n",
      "748:\tlearn: 1661.0720062\ttotal: 8.8s\tremaining: 2.95s\n",
      "749:\tlearn: 1661.0440734\ttotal: 8.81s\tremaining: 2.94s\n",
      "750:\tlearn: 1661.0140132\ttotal: 8.82s\tremaining: 2.92s\n",
      "751:\tlearn: 1660.9813385\ttotal: 8.84s\tremaining: 2.91s\n",
      "752:\tlearn: 1660.9516741\ttotal: 8.85s\tremaining: 2.9s\n",
      "753:\tlearn: 1660.9206901\ttotal: 8.86s\tremaining: 2.89s\n",
      "754:\tlearn: 1660.8871882\ttotal: 8.87s\tremaining: 2.88s\n",
      "755:\tlearn: 1660.8502519\ttotal: 8.88s\tremaining: 2.87s\n",
      "756:\tlearn: 1660.8122731\ttotal: 8.89s\tremaining: 2.85s\n",
      "757:\tlearn: 1660.7826152\ttotal: 8.9s\tremaining: 2.84s\n",
      "758:\tlearn: 1660.7509417\ttotal: 8.91s\tremaining: 2.83s\n",
      "759:\tlearn: 1660.7212929\ttotal: 8.93s\tremaining: 2.82s\n",
      "760:\tlearn: 1660.6882117\ttotal: 8.94s\tremaining: 2.81s\n",
      "761:\tlearn: 1660.6530152\ttotal: 8.95s\tremaining: 2.8s\n",
      "762:\tlearn: 1660.6220340\ttotal: 8.96s\tremaining: 2.78s\n",
      "763:\tlearn: 1660.5890084\ttotal: 8.97s\tremaining: 2.77s\n",
      "764:\tlearn: 1660.5676550\ttotal: 8.98s\tremaining: 2.76s\n",
      "765:\tlearn: 1660.5406876\ttotal: 9s\tremaining: 2.75s\n",
      "766:\tlearn: 1660.5030041\ttotal: 9.01s\tremaining: 2.74s\n",
      "767:\tlearn: 1660.4703271\ttotal: 9.02s\tremaining: 2.72s\n",
      "768:\tlearn: 1660.4388220\ttotal: 9.03s\tremaining: 2.71s\n",
      "769:\tlearn: 1660.4099458\ttotal: 9.04s\tremaining: 2.7s\n",
      "770:\tlearn: 1660.3822055\ttotal: 9.05s\tremaining: 2.69s\n",
      "771:\tlearn: 1660.3555884\ttotal: 9.06s\tremaining: 2.68s\n",
      "772:\tlearn: 1660.3263815\ttotal: 9.07s\tremaining: 2.67s\n",
      "773:\tlearn: 1660.2963438\ttotal: 9.09s\tremaining: 2.65s\n",
      "774:\tlearn: 1660.2691561\ttotal: 9.1s\tremaining: 2.64s\n",
      "775:\tlearn: 1660.2407273\ttotal: 9.11s\tremaining: 2.63s\n",
      "776:\tlearn: 1660.2125928\ttotal: 9.12s\tremaining: 2.62s\n",
      "777:\tlearn: 1660.1790741\ttotal: 9.13s\tremaining: 2.61s\n",
      "778:\tlearn: 1660.1463340\ttotal: 9.14s\tremaining: 2.59s\n",
      "779:\tlearn: 1660.1108966\ttotal: 9.15s\tremaining: 2.58s\n",
      "780:\tlearn: 1660.0791312\ttotal: 9.16s\tremaining: 2.57s\n",
      "781:\tlearn: 1660.0447068\ttotal: 9.18s\tremaining: 2.56s\n",
      "782:\tlearn: 1660.0168599\ttotal: 9.19s\tremaining: 2.55s\n",
      "783:\tlearn: 1659.9967283\ttotal: 9.2s\tremaining: 2.54s\n",
      "784:\tlearn: 1659.9585416\ttotal: 9.21s\tremaining: 2.52s\n",
      "785:\tlearn: 1659.9301870\ttotal: 9.22s\tremaining: 2.51s\n",
      "786:\tlearn: 1659.8967205\ttotal: 9.24s\tremaining: 2.5s\n",
      "787:\tlearn: 1659.8706172\ttotal: 9.25s\tremaining: 2.49s\n",
      "788:\tlearn: 1659.8478507\ttotal: 9.26s\tremaining: 2.48s\n",
      "789:\tlearn: 1659.8202865\ttotal: 9.27s\tremaining: 2.46s\n",
      "790:\tlearn: 1659.7914048\ttotal: 9.28s\tremaining: 2.45s\n",
      "791:\tlearn: 1659.7627052\ttotal: 9.29s\tremaining: 2.44s\n",
      "792:\tlearn: 1659.7329534\ttotal: 9.31s\tremaining: 2.43s\n",
      "793:\tlearn: 1659.7055233\ttotal: 9.32s\tremaining: 2.42s\n",
      "794:\tlearn: 1659.6768488\ttotal: 9.33s\tremaining: 2.41s\n",
      "795:\tlearn: 1659.6499244\ttotal: 9.34s\tremaining: 2.39s\n",
      "796:\tlearn: 1659.6251699\ttotal: 9.35s\tremaining: 2.38s\n",
      "797:\tlearn: 1659.6036458\ttotal: 9.36s\tremaining: 2.37s\n",
      "798:\tlearn: 1659.5752998\ttotal: 9.38s\tremaining: 2.36s\n",
      "799:\tlearn: 1659.5460074\ttotal: 9.39s\tremaining: 2.35s\n",
      "800:\tlearn: 1659.5147569\ttotal: 9.4s\tremaining: 2.33s\n",
      "801:\tlearn: 1659.4834002\ttotal: 9.41s\tremaining: 2.32s\n",
      "802:\tlearn: 1659.4537370\ttotal: 9.42s\tremaining: 2.31s\n",
      "803:\tlearn: 1659.4296619\ttotal: 9.44s\tremaining: 2.3s\n",
      "804:\tlearn: 1659.4029725\ttotal: 9.45s\tremaining: 2.29s\n",
      "805:\tlearn: 1659.3756146\ttotal: 9.46s\tremaining: 2.28s\n",
      "806:\tlearn: 1659.3468211\ttotal: 9.47s\tremaining: 2.26s\n",
      "807:\tlearn: 1659.3205520\ttotal: 9.48s\tremaining: 2.25s\n",
      "808:\tlearn: 1659.2929923\ttotal: 9.49s\tremaining: 2.24s\n",
      "809:\tlearn: 1659.2650891\ttotal: 9.5s\tremaining: 2.23s\n",
      "810:\tlearn: 1659.2427828\ttotal: 9.52s\tremaining: 2.22s\n",
      "811:\tlearn: 1659.2210954\ttotal: 9.53s\tremaining: 2.21s\n",
      "812:\tlearn: 1659.1956410\ttotal: 9.54s\tremaining: 2.19s\n",
      "813:\tlearn: 1659.1720242\ttotal: 9.55s\tremaining: 2.18s\n",
      "814:\tlearn: 1659.1428839\ttotal: 9.56s\tremaining: 2.17s\n",
      "815:\tlearn: 1659.1132378\ttotal: 9.57s\tremaining: 2.16s\n",
      "816:\tlearn: 1659.0869312\ttotal: 9.58s\tremaining: 2.15s\n",
      "817:\tlearn: 1659.0594665\ttotal: 9.59s\tremaining: 2.13s\n",
      "818:\tlearn: 1659.0334732\ttotal: 9.6s\tremaining: 2.12s\n",
      "819:\tlearn: 1659.0093155\ttotal: 9.61s\tremaining: 2.11s\n",
      "820:\tlearn: 1658.9850250\ttotal: 9.62s\tremaining: 2.1s\n",
      "821:\tlearn: 1658.9585035\ttotal: 9.63s\tremaining: 2.09s\n",
      "822:\tlearn: 1658.9334037\ttotal: 9.64s\tremaining: 2.07s\n",
      "823:\tlearn: 1658.9105693\ttotal: 9.65s\tremaining: 2.06s\n",
      "824:\tlearn: 1658.8866224\ttotal: 9.67s\tremaining: 2.05s\n",
      "825:\tlearn: 1658.8580700\ttotal: 9.68s\tremaining: 2.04s\n",
      "826:\tlearn: 1658.8356724\ttotal: 9.69s\tremaining: 2.03s\n",
      "827:\tlearn: 1658.8117137\ttotal: 9.7s\tremaining: 2.02s\n",
      "828:\tlearn: 1658.7892016\ttotal: 9.71s\tremaining: 2s\n",
      "829:\tlearn: 1658.7641299\ttotal: 9.72s\tremaining: 1.99s\n",
      "830:\tlearn: 1658.7373288\ttotal: 9.74s\tremaining: 1.98s\n",
      "831:\tlearn: 1658.7114895\ttotal: 9.75s\tremaining: 1.97s\n",
      "832:\tlearn: 1658.6865769\ttotal: 9.77s\tremaining: 1.96s\n",
      "833:\tlearn: 1658.6645693\ttotal: 9.78s\tremaining: 1.95s\n",
      "834:\tlearn: 1658.6349767\ttotal: 9.79s\tremaining: 1.93s\n",
      "835:\tlearn: 1658.6062867\ttotal: 9.8s\tremaining: 1.92s\n",
      "836:\tlearn: 1658.5794901\ttotal: 9.81s\tremaining: 1.91s\n",
      "837:\tlearn: 1658.5501813\ttotal: 9.82s\tremaining: 1.9s\n",
      "838:\tlearn: 1658.5224983\ttotal: 9.83s\tremaining: 1.89s\n",
      "839:\tlearn: 1658.4957126\ttotal: 9.84s\tremaining: 1.87s\n",
      "840:\tlearn: 1658.4681372\ttotal: 9.86s\tremaining: 1.86s\n",
      "841:\tlearn: 1658.4385451\ttotal: 9.87s\tremaining: 1.85s\n",
      "842:\tlearn: 1658.4105298\ttotal: 9.88s\tremaining: 1.84s\n",
      "843:\tlearn: 1658.3797504\ttotal: 9.89s\tremaining: 1.83s\n",
      "844:\tlearn: 1658.3502433\ttotal: 9.9s\tremaining: 1.82s\n",
      "845:\tlearn: 1658.3219561\ttotal: 9.91s\tremaining: 1.8s\n",
      "846:\tlearn: 1658.2948687\ttotal: 9.92s\tremaining: 1.79s\n",
      "847:\tlearn: 1658.2707035\ttotal: 9.94s\tremaining: 1.78s\n",
      "848:\tlearn: 1658.2457020\ttotal: 9.95s\tremaining: 1.77s\n",
      "849:\tlearn: 1658.2198317\ttotal: 9.96s\tremaining: 1.76s\n",
      "850:\tlearn: 1658.1938729\ttotal: 9.97s\tremaining: 1.75s\n",
      "851:\tlearn: 1658.1671422\ttotal: 9.98s\tremaining: 1.73s\n",
      "852:\tlearn: 1658.1449679\ttotal: 9.99s\tremaining: 1.72s\n",
      "853:\tlearn: 1658.1206002\ttotal: 10s\tremaining: 1.71s\n",
      "854:\tlearn: 1658.0989734\ttotal: 10s\tremaining: 1.7s\n",
      "855:\tlearn: 1658.0709685\ttotal: 10s\tremaining: 1.69s\n",
      "856:\tlearn: 1658.0415248\ttotal: 10s\tremaining: 1.68s\n",
      "857:\tlearn: 1658.0123952\ttotal: 10.1s\tremaining: 1.66s\n",
      "858:\tlearn: 1657.9857239\ttotal: 10.1s\tremaining: 1.65s\n",
      "859:\tlearn: 1657.9612043\ttotal: 10.1s\tremaining: 1.64s\n",
      "860:\tlearn: 1657.9387385\ttotal: 10.1s\tremaining: 1.63s\n",
      "861:\tlearn: 1657.9177100\ttotal: 10.1s\tremaining: 1.62s\n",
      "862:\tlearn: 1657.8945283\ttotal: 10.1s\tremaining: 1.6s\n",
      "863:\tlearn: 1657.8719168\ttotal: 10.1s\tremaining: 1.59s\n",
      "864:\tlearn: 1657.8518876\ttotal: 10.1s\tremaining: 1.58s\n",
      "865:\tlearn: 1657.8299938\ttotal: 10.1s\tremaining: 1.57s\n",
      "866:\tlearn: 1657.8071659\ttotal: 10.2s\tremaining: 1.56s\n",
      "867:\tlearn: 1657.7816851\ttotal: 10.2s\tremaining: 1.54s\n",
      "868:\tlearn: 1657.7569503\ttotal: 10.2s\tremaining: 1.53s\n",
      "869:\tlearn: 1657.7381647\ttotal: 10.2s\tremaining: 1.52s\n",
      "870:\tlearn: 1657.7166050\ttotal: 10.2s\tremaining: 1.51s\n",
      "871:\tlearn: 1657.6891815\ttotal: 10.2s\tremaining: 1.5s\n",
      "872:\tlearn: 1657.6602257\ttotal: 10.2s\tremaining: 1.49s\n",
      "873:\tlearn: 1657.6397862\ttotal: 10.2s\tremaining: 1.48s\n",
      "874:\tlearn: 1657.6139944\ttotal: 10.2s\tremaining: 1.46s\n",
      "875:\tlearn: 1657.5903302\ttotal: 10.3s\tremaining: 1.45s\n",
      "876:\tlearn: 1657.5678398\ttotal: 10.3s\tremaining: 1.44s\n",
      "877:\tlearn: 1657.5438638\ttotal: 10.3s\tremaining: 1.43s\n",
      "878:\tlearn: 1657.5193234\ttotal: 10.3s\tremaining: 1.42s\n",
      "879:\tlearn: 1657.4971814\ttotal: 10.3s\tremaining: 1.41s\n",
      "880:\tlearn: 1657.4773280\ttotal: 10.3s\tremaining: 1.39s\n",
      "881:\tlearn: 1657.4547918\ttotal: 10.3s\tremaining: 1.38s\n",
      "882:\tlearn: 1657.4268179\ttotal: 10.3s\tremaining: 1.37s\n",
      "883:\tlearn: 1657.4026664\ttotal: 10.3s\tremaining: 1.36s\n",
      "884:\tlearn: 1657.3801159\ttotal: 10.4s\tremaining: 1.35s\n",
      "885:\tlearn: 1657.3615682\ttotal: 10.4s\tremaining: 1.33s\n",
      "886:\tlearn: 1657.3426296\ttotal: 10.4s\tremaining: 1.32s\n",
      "887:\tlearn: 1657.3179429\ttotal: 10.4s\tremaining: 1.31s\n",
      "888:\tlearn: 1657.2970178\ttotal: 10.4s\tremaining: 1.3s\n",
      "889:\tlearn: 1657.2765657\ttotal: 10.4s\tremaining: 1.29s\n",
      "890:\tlearn: 1657.2535202\ttotal: 10.4s\tremaining: 1.28s\n",
      "891:\tlearn: 1657.2378079\ttotal: 10.4s\tremaining: 1.26s\n",
      "892:\tlearn: 1657.2097593\ttotal: 10.5s\tremaining: 1.25s\n",
      "893:\tlearn: 1657.1883477\ttotal: 10.5s\tremaining: 1.24s\n",
      "894:\tlearn: 1657.1690080\ttotal: 10.5s\tremaining: 1.23s\n",
      "895:\tlearn: 1657.1416199\ttotal: 10.5s\tremaining: 1.22s\n",
      "896:\tlearn: 1657.1154844\ttotal: 10.5s\tremaining: 1.21s\n",
      "897:\tlearn: 1657.0956727\ttotal: 10.5s\tremaining: 1.19s\n",
      "898:\tlearn: 1657.0776239\ttotal: 10.5s\tremaining: 1.18s\n",
      "899:\tlearn: 1657.0541181\ttotal: 10.5s\tremaining: 1.17s\n",
      "900:\tlearn: 1657.0252674\ttotal: 10.6s\tremaining: 1.16s\n",
      "901:\tlearn: 1657.0078046\ttotal: 10.6s\tremaining: 1.15s\n",
      "902:\tlearn: 1656.9910305\ttotal: 10.6s\tremaining: 1.14s\n",
      "903:\tlearn: 1656.9591562\ttotal: 10.6s\tremaining: 1.12s\n",
      "904:\tlearn: 1656.9406198\ttotal: 10.6s\tremaining: 1.11s\n",
      "905:\tlearn: 1656.9175262\ttotal: 10.6s\tremaining: 1.1s\n",
      "906:\tlearn: 1656.9002690\ttotal: 10.6s\tremaining: 1.09s\n",
      "907:\tlearn: 1656.8735816\ttotal: 10.6s\tremaining: 1.08s\n",
      "908:\tlearn: 1656.8463702\ttotal: 10.6s\tremaining: 1.06s\n",
      "909:\tlearn: 1656.8208961\ttotal: 10.7s\tremaining: 1.05s\n",
      "910:\tlearn: 1656.7954107\ttotal: 10.7s\tremaining: 1.04s\n",
      "911:\tlearn: 1656.7715255\ttotal: 10.7s\tremaining: 1.03s\n",
      "912:\tlearn: 1656.7498184\ttotal: 10.7s\tremaining: 1.02s\n",
      "913:\tlearn: 1656.7316694\ttotal: 10.7s\tremaining: 1.01s\n",
      "914:\tlearn: 1656.7168808\ttotal: 10.7s\tremaining: 996ms\n",
      "915:\tlearn: 1656.7016902\ttotal: 10.7s\tremaining: 984ms\n",
      "916:\tlearn: 1656.6839038\ttotal: 10.7s\tremaining: 973ms\n",
      "917:\tlearn: 1656.6675182\ttotal: 10.8s\tremaining: 961ms\n",
      "918:\tlearn: 1656.6530352\ttotal: 10.8s\tremaining: 950ms\n",
      "919:\tlearn: 1656.6368946\ttotal: 10.8s\tremaining: 938ms\n",
      "920:\tlearn: 1656.6172267\ttotal: 10.8s\tremaining: 927ms\n",
      "921:\tlearn: 1656.6012148\ttotal: 10.8s\tremaining: 915ms\n",
      "922:\tlearn: 1656.5830439\ttotal: 10.8s\tremaining: 903ms\n",
      "923:\tlearn: 1656.5615581\ttotal: 10.8s\tremaining: 892ms\n",
      "924:\tlearn: 1656.5394176\ttotal: 10.9s\tremaining: 880ms\n",
      "925:\tlearn: 1656.5211571\ttotal: 10.9s\tremaining: 869ms\n",
      "926:\tlearn: 1656.4998362\ttotal: 10.9s\tremaining: 857ms\n",
      "927:\tlearn: 1656.4804595\ttotal: 10.9s\tremaining: 845ms\n",
      "928:\tlearn: 1656.4616911\ttotal: 10.9s\tremaining: 834ms\n",
      "929:\tlearn: 1656.4430503\ttotal: 10.9s\tremaining: 822ms\n",
      "930:\tlearn: 1656.4249802\ttotal: 10.9s\tremaining: 810ms\n",
      "931:\tlearn: 1656.4088520\ttotal: 10.9s\tremaining: 798ms\n",
      "932:\tlearn: 1656.3926400\ttotal: 11s\tremaining: 787ms\n",
      "933:\tlearn: 1656.3718899\ttotal: 11s\tremaining: 775ms\n",
      "934:\tlearn: 1656.3539753\ttotal: 11s\tremaining: 764ms\n",
      "935:\tlearn: 1656.3324817\ttotal: 11s\tremaining: 752ms\n",
      "936:\tlearn: 1656.3175964\ttotal: 11s\tremaining: 740ms\n",
      "937:\tlearn: 1656.2989012\ttotal: 11s\tremaining: 729ms\n",
      "938:\tlearn: 1656.2835709\ttotal: 11s\tremaining: 717ms\n",
      "939:\tlearn: 1656.2657925\ttotal: 11.1s\tremaining: 705ms\n",
      "940:\tlearn: 1656.2523634\ttotal: 11.1s\tremaining: 694ms\n",
      "941:\tlearn: 1656.2309684\ttotal: 11.1s\tremaining: 682ms\n",
      "942:\tlearn: 1656.2103048\ttotal: 11.1s\tremaining: 670ms\n",
      "943:\tlearn: 1656.1985165\ttotal: 11.1s\tremaining: 659ms\n",
      "944:\tlearn: 1656.1826440\ttotal: 11.1s\tremaining: 647ms\n",
      "945:\tlearn: 1656.1689405\ttotal: 11.1s\tremaining: 635ms\n",
      "946:\tlearn: 1656.1532610\ttotal: 11.1s\tremaining: 623ms\n",
      "947:\tlearn: 1656.1375511\ttotal: 11.1s\tremaining: 611ms\n",
      "948:\tlearn: 1656.1238185\ttotal: 11.2s\tremaining: 600ms\n",
      "949:\tlearn: 1656.0922689\ttotal: 11.2s\tremaining: 588ms\n",
      "950:\tlearn: 1656.0669558\ttotal: 11.2s\tremaining: 576ms\n",
      "951:\tlearn: 1656.0394143\ttotal: 11.2s\tremaining: 564ms\n",
      "952:\tlearn: 1656.0132160\ttotal: 11.2s\tremaining: 553ms\n",
      "953:\tlearn: 1655.9849763\ttotal: 11.2s\tremaining: 541ms\n",
      "954:\tlearn: 1655.9505438\ttotal: 11.2s\tremaining: 529ms\n",
      "955:\tlearn: 1655.9238107\ttotal: 11.2s\tremaining: 517ms\n",
      "956:\tlearn: 1655.8970069\ttotal: 11.2s\tremaining: 505ms\n",
      "957:\tlearn: 1655.8742368\ttotal: 11.3s\tremaining: 494ms\n",
      "958:\tlearn: 1655.8492364\ttotal: 11.3s\tremaining: 482ms\n",
      "959:\tlearn: 1655.8321665\ttotal: 11.3s\tremaining: 470ms\n",
      "960:\tlearn: 1655.8095771\ttotal: 11.3s\tremaining: 458ms\n",
      "961:\tlearn: 1655.7862193\ttotal: 11.3s\tremaining: 447ms\n",
      "962:\tlearn: 1655.7594770\ttotal: 11.3s\tremaining: 435ms\n",
      "963:\tlearn: 1655.7327376\ttotal: 11.3s\tremaining: 423ms\n",
      "964:\tlearn: 1655.7118291\ttotal: 11.3s\tremaining: 411ms\n",
      "965:\tlearn: 1655.6866064\ttotal: 11.4s\tremaining: 400ms\n",
      "966:\tlearn: 1655.6659148\ttotal: 11.4s\tremaining: 388ms\n",
      "967:\tlearn: 1655.6429694\ttotal: 11.4s\tremaining: 376ms\n",
      "968:\tlearn: 1655.6212196\ttotal: 11.4s\tremaining: 364ms\n",
      "969:\tlearn: 1655.6008694\ttotal: 11.4s\tremaining: 353ms\n",
      "970:\tlearn: 1655.5791040\ttotal: 11.4s\tremaining: 341ms\n",
      "971:\tlearn: 1655.5587283\ttotal: 11.4s\tremaining: 329ms\n",
      "972:\tlearn: 1655.5365913\ttotal: 11.4s\tremaining: 317ms\n",
      "973:\tlearn: 1655.5126421\ttotal: 11.4s\tremaining: 306ms\n",
      "974:\tlearn: 1655.4938025\ttotal: 11.5s\tremaining: 294ms\n",
      "975:\tlearn: 1655.4747421\ttotal: 11.5s\tremaining: 282ms\n",
      "976:\tlearn: 1655.4545117\ttotal: 11.5s\tremaining: 270ms\n",
      "977:\tlearn: 1655.4335422\ttotal: 11.5s\tremaining: 259ms\n",
      "978:\tlearn: 1655.4130787\ttotal: 11.5s\tremaining: 247ms\n",
      "979:\tlearn: 1655.3909610\ttotal: 11.5s\tremaining: 235ms\n",
      "980:\tlearn: 1655.3704720\ttotal: 11.5s\tremaining: 223ms\n",
      "981:\tlearn: 1655.3502004\ttotal: 11.5s\tremaining: 211ms\n",
      "982:\tlearn: 1655.3321815\ttotal: 11.5s\tremaining: 200ms\n",
      "983:\tlearn: 1655.3139800\ttotal: 11.6s\tremaining: 188ms\n",
      "984:\tlearn: 1655.2936232\ttotal: 11.6s\tremaining: 176ms\n",
      "985:\tlearn: 1655.2764798\ttotal: 11.6s\tremaining: 164ms\n",
      "986:\tlearn: 1655.2520033\ttotal: 11.6s\tremaining: 153ms\n",
      "987:\tlearn: 1655.2283216\ttotal: 11.6s\tremaining: 141ms\n",
      "988:\tlearn: 1655.2055413\ttotal: 11.6s\tremaining: 129ms\n",
      "989:\tlearn: 1655.1779765\ttotal: 11.6s\tremaining: 117ms\n",
      "990:\tlearn: 1655.1558557\ttotal: 11.6s\tremaining: 106ms\n",
      "991:\tlearn: 1655.1312255\ttotal: 11.7s\tremaining: 94ms\n",
      "992:\tlearn: 1655.1079336\ttotal: 11.7s\tremaining: 82.2ms\n",
      "993:\tlearn: 1655.0832913\ttotal: 11.7s\tremaining: 70.5ms\n",
      "994:\tlearn: 1655.0587246\ttotal: 11.7s\tremaining: 58.7ms\n",
      "995:\tlearn: 1655.0365519\ttotal: 11.7s\tremaining: 47ms\n",
      "996:\tlearn: 1655.0151467\ttotal: 11.7s\tremaining: 35.2ms\n",
      "997:\tlearn: 1654.9944917\ttotal: 11.7s\tremaining: 23.5ms\n",
      "998:\tlearn: 1654.9737023\ttotal: 11.7s\tremaining: 11.7ms\n",
      "999:\tlearn: 1654.9516185\ttotal: 11.7s\tremaining: 0us\n",
      "0:\tlearn: 1906.2183204\ttotal: 55.8ms\tremaining: 55.7s\n",
      "1:\tlearn: 1726.4012266\ttotal: 105ms\tremaining: 52.3s\n",
      "2:\tlearn: 1621.6330998\ttotal: 156ms\tremaining: 51.7s\n",
      "3:\tlearn: 1566.5913688\ttotal: 200ms\tremaining: 49.9s\n",
      "4:\tlearn: 1523.3558490\ttotal: 269ms\tremaining: 53.5s\n",
      "5:\tlearn: 1485.0899950\ttotal: 339ms\tremaining: 56.1s\n",
      "6:\tlearn: 1466.1317199\ttotal: 385ms\tremaining: 54.6s\n",
      "7:\tlearn: 1445.7299242\ttotal: 448ms\tremaining: 55.5s\n",
      "8:\tlearn: 1433.4899801\ttotal: 497ms\tremaining: 54.8s\n",
      "9:\tlearn: 1420.7746072\ttotal: 538ms\tremaining: 53.2s\n",
      "10:\tlearn: 1409.5436838\ttotal: 586ms\tremaining: 52.7s\n",
      "11:\tlearn: 1399.1359353\ttotal: 628ms\tremaining: 51.7s\n",
      "12:\tlearn: 1387.9040763\ttotal: 671ms\tremaining: 50.9s\n",
      "13:\tlearn: 1381.2482389\ttotal: 727ms\tremaining: 51.2s\n",
      "14:\tlearn: 1376.7808765\ttotal: 795ms\tremaining: 52.2s\n",
      "15:\tlearn: 1365.9322097\ttotal: 848ms\tremaining: 52.1s\n",
      "16:\tlearn: 1358.7183028\ttotal: 890ms\tremaining: 51.5s\n",
      "17:\tlearn: 1349.2186090\ttotal: 937ms\tremaining: 51.1s\n",
      "18:\tlearn: 1344.2752347\ttotal: 981ms\tremaining: 50.7s\n",
      "19:\tlearn: 1338.2312968\ttotal: 1.02s\tremaining: 50s\n",
      "20:\tlearn: 1333.3330434\ttotal: 1.07s\tremaining: 49.7s\n",
      "21:\tlearn: 1328.2516032\ttotal: 1.11s\tremaining: 49.2s\n",
      "22:\tlearn: 1322.8856474\ttotal: 1.16s\tremaining: 49.1s\n",
      "23:\tlearn: 1316.2050385\ttotal: 1.2s\tremaining: 48.7s\n",
      "24:\tlearn: 1311.5692042\ttotal: 1.25s\tremaining: 48.6s\n",
      "25:\tlearn: 1308.6934261\ttotal: 1.29s\tremaining: 48.4s\n",
      "26:\tlearn: 1304.9105351\ttotal: 1.34s\tremaining: 48.2s\n",
      "27:\tlearn: 1298.3747291\ttotal: 1.38s\tremaining: 47.9s\n",
      "28:\tlearn: 1291.5957653\ttotal: 1.42s\tremaining: 47.7s\n",
      "29:\tlearn: 1286.0105260\ttotal: 1.47s\tremaining: 47.5s\n",
      "30:\tlearn: 1281.5143551\ttotal: 1.51s\tremaining: 47.2s\n",
      "31:\tlearn: 1277.6443249\ttotal: 1.55s\tremaining: 47s\n",
      "32:\tlearn: 1271.8410701\ttotal: 1.6s\tremaining: 46.9s\n",
      "33:\tlearn: 1268.7253612\ttotal: 1.65s\tremaining: 46.8s\n",
      "34:\tlearn: 1265.0262794\ttotal: 1.69s\tremaining: 46.6s\n",
      "35:\tlearn: 1260.6451549\ttotal: 1.74s\tremaining: 46.5s\n",
      "36:\tlearn: 1258.7087083\ttotal: 1.78s\tremaining: 46.3s\n",
      "37:\tlearn: 1256.4385786\ttotal: 1.83s\tremaining: 46.2s\n",
      "38:\tlearn: 1252.3939126\ttotal: 1.88s\tremaining: 46.3s\n",
      "39:\tlearn: 1247.9570317\ttotal: 1.93s\tremaining: 46.3s\n",
      "40:\tlearn: 1244.7395183\ttotal: 1.97s\tremaining: 46s\n",
      "41:\tlearn: 1242.1927558\ttotal: 2.01s\tremaining: 45.9s\n",
      "42:\tlearn: 1240.4234739\ttotal: 2.06s\tremaining: 45.7s\n",
      "43:\tlearn: 1238.4960727\ttotal: 2.1s\tremaining: 45.5s\n",
      "44:\tlearn: 1236.1569580\ttotal: 2.14s\tremaining: 45.5s\n",
      "45:\tlearn: 1232.4824836\ttotal: 2.18s\tremaining: 45.3s\n",
      "46:\tlearn: 1229.8422515\ttotal: 2.23s\tremaining: 45.3s\n",
      "47:\tlearn: 1226.1007004\ttotal: 2.29s\tremaining: 45.5s\n",
      "48:\tlearn: 1223.8799321\ttotal: 2.34s\tremaining: 45.5s\n",
      "49:\tlearn: 1219.6389305\ttotal: 2.38s\tremaining: 45.3s\n",
      "50:\tlearn: 1216.5418323\ttotal: 2.43s\tremaining: 45.3s\n",
      "51:\tlearn: 1214.6075096\ttotal: 2.47s\tremaining: 45.1s\n",
      "52:\tlearn: 1212.8611904\ttotal: 2.52s\tremaining: 45s\n",
      "53:\tlearn: 1209.8687656\ttotal: 2.57s\tremaining: 45s\n",
      "54:\tlearn: 1208.1420267\ttotal: 2.62s\tremaining: 45s\n",
      "55:\tlearn: 1206.0476875\ttotal: 2.69s\tremaining: 45.3s\n",
      "56:\tlearn: 1203.4726096\ttotal: 2.74s\tremaining: 45.3s\n",
      "57:\tlearn: 1200.8265605\ttotal: 2.78s\tremaining: 45.1s\n",
      "58:\tlearn: 1197.8576835\ttotal: 2.83s\tremaining: 45.1s\n",
      "59:\tlearn: 1195.7851824\ttotal: 2.87s\tremaining: 45s\n",
      "60:\tlearn: 1193.6438814\ttotal: 2.92s\tremaining: 44.9s\n",
      "61:\tlearn: 1191.1328729\ttotal: 2.96s\tremaining: 44.8s\n",
      "62:\tlearn: 1188.7927791\ttotal: 3.01s\tremaining: 44.8s\n",
      "63:\tlearn: 1186.4331338\ttotal: 3.06s\tremaining: 44.8s\n",
      "64:\tlearn: 1183.7095727\ttotal: 3.12s\tremaining: 44.9s\n",
      "65:\tlearn: 1181.6734660\ttotal: 3.17s\tremaining: 44.8s\n",
      "66:\tlearn: 1179.9564156\ttotal: 3.22s\tremaining: 44.8s\n",
      "67:\tlearn: 1177.7356076\ttotal: 3.26s\tremaining: 44.7s\n",
      "68:\tlearn: 1175.9410480\ttotal: 3.31s\tremaining: 44.7s\n",
      "69:\tlearn: 1174.4483963\ttotal: 3.36s\tremaining: 44.6s\n",
      "70:\tlearn: 1172.8190320\ttotal: 3.41s\tremaining: 44.6s\n",
      "71:\tlearn: 1170.2425019\ttotal: 3.45s\tremaining: 44.4s\n",
      "72:\tlearn: 1168.4687834\ttotal: 3.49s\tremaining: 44.4s\n",
      "73:\tlearn: 1166.5291038\ttotal: 3.54s\tremaining: 44.3s\n",
      "74:\tlearn: 1163.9463050\ttotal: 3.58s\tremaining: 44.2s\n",
      "75:\tlearn: 1162.8084704\ttotal: 3.64s\tremaining: 44.2s\n",
      "76:\tlearn: 1161.9762926\ttotal: 3.7s\tremaining: 44.3s\n",
      "77:\tlearn: 1160.9514193\ttotal: 3.75s\tremaining: 44.3s\n",
      "78:\tlearn: 1158.9018906\ttotal: 3.8s\tremaining: 44.3s\n",
      "79:\tlearn: 1157.1812761\ttotal: 3.85s\tremaining: 44.3s\n",
      "80:\tlearn: 1153.6661023\ttotal: 3.93s\tremaining: 44.6s\n",
      "81:\tlearn: 1152.1736693\ttotal: 4s\tremaining: 44.8s\n",
      "82:\tlearn: 1149.6813642\ttotal: 4.07s\tremaining: 44.9s\n",
      "83:\tlearn: 1148.0063502\ttotal: 4.14s\tremaining: 45.1s\n",
      "84:\tlearn: 1145.8767338\ttotal: 4.21s\tremaining: 45.3s\n",
      "85:\tlearn: 1143.5253694\ttotal: 4.26s\tremaining: 45.3s\n",
      "86:\tlearn: 1141.8402510\ttotal: 4.31s\tremaining: 45.2s\n",
      "87:\tlearn: 1139.6156650\ttotal: 4.35s\tremaining: 45.1s\n",
      "88:\tlearn: 1137.5242923\ttotal: 4.4s\tremaining: 45.1s\n",
      "89:\tlearn: 1135.9385518\ttotal: 4.44s\tremaining: 44.9s\n",
      "90:\tlearn: 1133.4185905\ttotal: 4.49s\tremaining: 44.9s\n",
      "91:\tlearn: 1132.9134185\ttotal: 4.54s\tremaining: 44.8s\n",
      "92:\tlearn: 1131.3679568\ttotal: 4.58s\tremaining: 44.7s\n",
      "93:\tlearn: 1130.4837937\ttotal: 4.63s\tremaining: 44.6s\n",
      "94:\tlearn: 1128.7226522\ttotal: 4.67s\tremaining: 44.5s\n",
      "95:\tlearn: 1127.4071483\ttotal: 4.72s\tremaining: 44.5s\n",
      "96:\tlearn: 1125.9186921\ttotal: 4.77s\tremaining: 44.4s\n",
      "97:\tlearn: 1124.5337053\ttotal: 4.82s\tremaining: 44.4s\n",
      "98:\tlearn: 1123.8048338\ttotal: 4.87s\tremaining: 44.3s\n",
      "99:\tlearn: 1122.4914486\ttotal: 4.92s\tremaining: 44.3s\n",
      "100:\tlearn: 1121.6160555\ttotal: 4.97s\tremaining: 44.2s\n",
      "101:\tlearn: 1120.4622401\ttotal: 5.01s\tremaining: 44.1s\n",
      "102:\tlearn: 1118.8505640\ttotal: 5.06s\tremaining: 44.1s\n",
      "103:\tlearn: 1117.8221139\ttotal: 5.11s\tremaining: 44s\n",
      "104:\tlearn: 1116.5430389\ttotal: 5.15s\tremaining: 43.9s\n",
      "105:\tlearn: 1115.6448414\ttotal: 5.21s\tremaining: 43.9s\n",
      "106:\tlearn: 1114.0176635\ttotal: 5.25s\tremaining: 43.8s\n",
      "107:\tlearn: 1113.3516558\ttotal: 5.29s\tremaining: 43.7s\n",
      "108:\tlearn: 1112.5939405\ttotal: 5.33s\tremaining: 43.6s\n",
      "109:\tlearn: 1111.4667409\ttotal: 5.38s\tremaining: 43.5s\n",
      "110:\tlearn: 1110.6933043\ttotal: 5.42s\tremaining: 43.4s\n",
      "111:\tlearn: 1109.5669089\ttotal: 5.47s\tremaining: 43.3s\n",
      "112:\tlearn: 1108.5668785\ttotal: 5.51s\tremaining: 43.2s\n",
      "113:\tlearn: 1107.3220307\ttotal: 5.56s\tremaining: 43.2s\n",
      "114:\tlearn: 1106.3916193\ttotal: 5.61s\tremaining: 43.2s\n",
      "115:\tlearn: 1105.3571267\ttotal: 5.65s\tremaining: 43.1s\n",
      "116:\tlearn: 1103.4529593\ttotal: 5.7s\tremaining: 43s\n",
      "117:\tlearn: 1102.3389311\ttotal: 5.77s\tremaining: 43.1s\n",
      "118:\tlearn: 1101.2163776\ttotal: 5.84s\tremaining: 43.2s\n",
      "119:\tlearn: 1099.1651342\ttotal: 5.9s\tremaining: 43.3s\n",
      "120:\tlearn: 1097.1904995\ttotal: 5.97s\tremaining: 43.4s\n",
      "121:\tlearn: 1096.1159545\ttotal: 6.01s\tremaining: 43.3s\n",
      "122:\tlearn: 1095.7512000\ttotal: 6.06s\tremaining: 43.2s\n",
      "123:\tlearn: 1094.7459623\ttotal: 6.1s\tremaining: 43.1s\n",
      "124:\tlearn: 1093.8085800\ttotal: 6.14s\tremaining: 43s\n",
      "125:\tlearn: 1092.9811727\ttotal: 6.18s\tremaining: 42.9s\n",
      "126:\tlearn: 1090.7791679\ttotal: 6.22s\tremaining: 42.8s\n",
      "127:\tlearn: 1090.0317675\ttotal: 6.27s\tremaining: 42.7s\n",
      "128:\tlearn: 1089.0338673\ttotal: 6.31s\tremaining: 42.6s\n",
      "129:\tlearn: 1087.8454570\ttotal: 6.36s\tremaining: 42.6s\n",
      "130:\tlearn: 1086.1075507\ttotal: 6.4s\tremaining: 42.5s\n",
      "131:\tlearn: 1085.3791244\ttotal: 6.45s\tremaining: 42.4s\n",
      "132:\tlearn: 1083.8245712\ttotal: 6.49s\tremaining: 42.3s\n",
      "133:\tlearn: 1083.3016389\ttotal: 6.54s\tremaining: 42.2s\n",
      "134:\tlearn: 1082.0806899\ttotal: 6.58s\tremaining: 42.1s\n",
      "135:\tlearn: 1081.4427378\ttotal: 6.62s\tremaining: 42s\n",
      "136:\tlearn: 1080.0110339\ttotal: 6.66s\tremaining: 42s\n",
      "137:\tlearn: 1079.2243179\ttotal: 6.71s\tremaining: 41.9s\n",
      "138:\tlearn: 1078.1432118\ttotal: 6.76s\tremaining: 41.9s\n",
      "139:\tlearn: 1077.5083827\ttotal: 6.8s\tremaining: 41.8s\n",
      "140:\tlearn: 1076.4808225\ttotal: 6.85s\tremaining: 41.7s\n",
      "141:\tlearn: 1075.5198438\ttotal: 6.89s\tremaining: 41.6s\n",
      "142:\tlearn: 1074.0973399\ttotal: 6.93s\tremaining: 41.6s\n",
      "143:\tlearn: 1073.0221347\ttotal: 6.98s\tremaining: 41.5s\n",
      "144:\tlearn: 1072.3558283\ttotal: 7.02s\tremaining: 41.4s\n",
      "145:\tlearn: 1071.7409388\ttotal: 7.07s\tremaining: 41.3s\n",
      "146:\tlearn: 1071.1806664\ttotal: 7.11s\tremaining: 41.2s\n",
      "147:\tlearn: 1070.6258674\ttotal: 7.16s\tremaining: 41.2s\n",
      "148:\tlearn: 1069.8067306\ttotal: 7.2s\tremaining: 41.1s\n",
      "149:\tlearn: 1068.9799289\ttotal: 7.25s\tremaining: 41.1s\n",
      "150:\tlearn: 1068.0522492\ttotal: 7.3s\tremaining: 41s\n",
      "151:\tlearn: 1067.4647092\ttotal: 7.35s\tremaining: 41s\n",
      "152:\tlearn: 1066.2171030\ttotal: 7.39s\tremaining: 40.9s\n",
      "153:\tlearn: 1065.6127670\ttotal: 7.44s\tremaining: 40.9s\n",
      "154:\tlearn: 1064.7191050\ttotal: 7.49s\tremaining: 40.8s\n",
      "155:\tlearn: 1063.6353679\ttotal: 7.54s\tremaining: 40.8s\n",
      "156:\tlearn: 1062.6023095\ttotal: 7.58s\tremaining: 40.7s\n",
      "157:\tlearn: 1060.8888396\ttotal: 7.63s\tremaining: 40.6s\n",
      "158:\tlearn: 1060.2877249\ttotal: 7.67s\tremaining: 40.6s\n",
      "159:\tlearn: 1059.6259390\ttotal: 7.74s\tremaining: 40.6s\n",
      "160:\tlearn: 1058.0288743\ttotal: 7.8s\tremaining: 40.6s\n",
      "161:\tlearn: 1057.1269205\ttotal: 7.85s\tremaining: 40.6s\n",
      "162:\tlearn: 1056.3964345\ttotal: 7.9s\tremaining: 40.6s\n",
      "163:\tlearn: 1055.7961380\ttotal: 7.95s\tremaining: 40.5s\n",
      "164:\tlearn: 1054.9341608\ttotal: 8s\tremaining: 40.5s\n",
      "165:\tlearn: 1054.3038035\ttotal: 8.05s\tremaining: 40.4s\n",
      "166:\tlearn: 1053.2067986\ttotal: 8.1s\tremaining: 40.4s\n",
      "167:\tlearn: 1052.0190780\ttotal: 8.15s\tremaining: 40.4s\n",
      "168:\tlearn: 1050.7906397\ttotal: 8.2s\tremaining: 40.3s\n",
      "169:\tlearn: 1049.8873353\ttotal: 8.24s\tremaining: 40.3s\n",
      "170:\tlearn: 1049.3325779\ttotal: 8.29s\tremaining: 40.2s\n",
      "171:\tlearn: 1048.5378780\ttotal: 8.34s\tremaining: 40.1s\n",
      "172:\tlearn: 1047.9527227\ttotal: 8.38s\tremaining: 40.1s\n",
      "173:\tlearn: 1047.1602049\ttotal: 8.43s\tremaining: 40s\n",
      "174:\tlearn: 1046.6122430\ttotal: 8.47s\tremaining: 39.9s\n",
      "175:\tlearn: 1046.0634857\ttotal: 8.52s\tremaining: 39.9s\n",
      "176:\tlearn: 1045.2660264\ttotal: 8.56s\tremaining: 39.8s\n",
      "177:\tlearn: 1044.4858274\ttotal: 8.61s\tremaining: 39.8s\n",
      "178:\tlearn: 1043.4286291\ttotal: 8.65s\tremaining: 39.7s\n",
      "179:\tlearn: 1042.5121702\ttotal: 8.71s\tremaining: 39.7s\n",
      "180:\tlearn: 1041.8063460\ttotal: 8.76s\tremaining: 39.6s\n",
      "181:\tlearn: 1041.1113231\ttotal: 8.81s\tremaining: 39.6s\n",
      "182:\tlearn: 1040.0394851\ttotal: 8.85s\tremaining: 39.5s\n",
      "183:\tlearn: 1039.3086123\ttotal: 8.9s\tremaining: 39.5s\n",
      "184:\tlearn: 1038.4437247\ttotal: 8.95s\tremaining: 39.4s\n",
      "185:\tlearn: 1037.9805914\ttotal: 9s\tremaining: 39.4s\n",
      "186:\tlearn: 1036.4925379\ttotal: 9.04s\tremaining: 39.3s\n",
      "187:\tlearn: 1035.7140332\ttotal: 9.09s\tremaining: 39.3s\n",
      "188:\tlearn: 1035.0311536\ttotal: 9.14s\tremaining: 39.2s\n",
      "189:\tlearn: 1033.9091948\ttotal: 9.19s\tremaining: 39.2s\n",
      "190:\tlearn: 1033.3258887\ttotal: 9.23s\tremaining: 39.1s\n",
      "191:\tlearn: 1032.1014435\ttotal: 9.29s\tremaining: 39.1s\n",
      "192:\tlearn: 1031.4604490\ttotal: 9.33s\tremaining: 39s\n",
      "193:\tlearn: 1030.6954015\ttotal: 9.38s\tremaining: 39s\n",
      "194:\tlearn: 1030.1710630\ttotal: 9.42s\tremaining: 38.9s\n",
      "195:\tlearn: 1029.2660724\ttotal: 9.48s\tremaining: 38.9s\n",
      "196:\tlearn: 1028.3671634\ttotal: 9.52s\tremaining: 38.8s\n",
      "197:\tlearn: 1027.4777661\ttotal: 9.57s\tremaining: 38.8s\n",
      "198:\tlearn: 1026.9483921\ttotal: 9.61s\tremaining: 38.7s\n",
      "199:\tlearn: 1026.3422471\ttotal: 9.66s\tremaining: 38.6s\n",
      "200:\tlearn: 1024.9710522\ttotal: 9.71s\tremaining: 38.6s\n",
      "201:\tlearn: 1024.4006211\ttotal: 9.75s\tremaining: 38.5s\n",
      "202:\tlearn: 1023.3388778\ttotal: 9.81s\tremaining: 38.5s\n",
      "203:\tlearn: 1022.6079751\ttotal: 9.85s\tremaining: 38.5s\n",
      "204:\tlearn: 1021.7737039\ttotal: 9.89s\tremaining: 38.4s\n",
      "205:\tlearn: 1021.3792078\ttotal: 9.94s\tremaining: 38.3s\n",
      "206:\tlearn: 1020.7894554\ttotal: 9.98s\tremaining: 38.2s\n",
      "207:\tlearn: 1020.0598515\ttotal: 10s\tremaining: 38.2s\n",
      "208:\tlearn: 1019.4232348\ttotal: 10.1s\tremaining: 38.1s\n",
      "209:\tlearn: 1018.5017390\ttotal: 10.1s\tremaining: 38s\n",
      "210:\tlearn: 1018.1664604\ttotal: 10.2s\tremaining: 38s\n",
      "211:\tlearn: 1017.7276811\ttotal: 10.2s\tremaining: 37.9s\n",
      "212:\tlearn: 1017.1922242\ttotal: 10.2s\tremaining: 37.8s\n",
      "213:\tlearn: 1016.3706489\ttotal: 10.3s\tremaining: 37.8s\n",
      "214:\tlearn: 1016.0172721\ttotal: 10.3s\tremaining: 37.7s\n",
      "215:\tlearn: 1015.3866008\ttotal: 10.4s\tremaining: 37.7s\n",
      "216:\tlearn: 1014.8232306\ttotal: 10.4s\tremaining: 37.6s\n",
      "217:\tlearn: 1014.4907544\ttotal: 10.5s\tremaining: 37.5s\n",
      "218:\tlearn: 1013.3378756\ttotal: 10.5s\tremaining: 37.5s\n",
      "219:\tlearn: 1012.6919540\ttotal: 10.6s\tremaining: 37.4s\n",
      "220:\tlearn: 1012.2397665\ttotal: 10.6s\tremaining: 37.3s\n",
      "221:\tlearn: 1011.5846122\ttotal: 10.6s\tremaining: 37.3s\n",
      "222:\tlearn: 1010.8795077\ttotal: 10.7s\tremaining: 37.2s\n",
      "223:\tlearn: 1009.9015220\ttotal: 10.7s\tremaining: 37.1s\n",
      "224:\tlearn: 1009.2423791\ttotal: 10.8s\tremaining: 37.1s\n",
      "225:\tlearn: 1008.6043795\ttotal: 10.8s\tremaining: 37s\n",
      "226:\tlearn: 1007.9779430\ttotal: 10.9s\tremaining: 37s\n",
      "227:\tlearn: 1006.9079590\ttotal: 10.9s\tremaining: 36.9s\n",
      "228:\tlearn: 1006.6587152\ttotal: 10.9s\tremaining: 36.8s\n",
      "229:\tlearn: 1006.2286539\ttotal: 11s\tremaining: 36.8s\n",
      "230:\tlearn: 1005.9639342\ttotal: 11s\tremaining: 36.7s\n",
      "231:\tlearn: 1005.5013287\ttotal: 11.1s\tremaining: 36.7s\n",
      "232:\tlearn: 1004.7976349\ttotal: 11.1s\tremaining: 36.6s\n",
      "233:\tlearn: 1004.3228991\ttotal: 11.2s\tremaining: 36.6s\n",
      "234:\tlearn: 1003.6070690\ttotal: 11.2s\tremaining: 36.5s\n",
      "235:\tlearn: 1003.1702713\ttotal: 11.3s\tremaining: 36.5s\n",
      "236:\tlearn: 1002.6838025\ttotal: 11.3s\tremaining: 36.4s\n",
      "237:\tlearn: 1002.0661822\ttotal: 11.3s\tremaining: 36.3s\n",
      "238:\tlearn: 1001.3239917\ttotal: 11.4s\tremaining: 36.3s\n",
      "239:\tlearn: 1000.6813352\ttotal: 11.4s\tremaining: 36.2s\n",
      "240:\tlearn: 1000.1479316\ttotal: 11.5s\tremaining: 36.1s\n",
      "241:\tlearn: 999.4440130\ttotal: 11.5s\tremaining: 36.1s\n",
      "242:\tlearn: 998.7990289\ttotal: 11.6s\tremaining: 36s\n",
      "243:\tlearn: 998.5468971\ttotal: 11.6s\tremaining: 36s\n",
      "244:\tlearn: 998.2609615\ttotal: 11.7s\tremaining: 35.9s\n",
      "245:\tlearn: 997.4349164\ttotal: 11.7s\tremaining: 35.8s\n",
      "246:\tlearn: 997.0321466\ttotal: 11.7s\tremaining: 35.8s\n",
      "247:\tlearn: 996.5391403\ttotal: 11.8s\tremaining: 35.7s\n",
      "248:\tlearn: 996.0595945\ttotal: 11.8s\tremaining: 35.7s\n",
      "249:\tlearn: 995.6191003\ttotal: 11.9s\tremaining: 35.7s\n",
      "250:\tlearn: 994.7360547\ttotal: 11.9s\tremaining: 35.6s\n",
      "251:\tlearn: 994.3374690\ttotal: 12s\tremaining: 35.6s\n",
      "252:\tlearn: 993.8778366\ttotal: 12s\tremaining: 35.6s\n",
      "253:\tlearn: 993.1840627\ttotal: 12.1s\tremaining: 35.5s\n",
      "254:\tlearn: 992.3736844\ttotal: 12.1s\tremaining: 35.5s\n",
      "255:\tlearn: 991.7336772\ttotal: 12.2s\tremaining: 35.4s\n",
      "256:\tlearn: 991.4465624\ttotal: 12.2s\tremaining: 35.4s\n",
      "257:\tlearn: 991.0800075\ttotal: 12.3s\tremaining: 35.3s\n",
      "258:\tlearn: 990.6686869\ttotal: 12.3s\tremaining: 35.3s\n",
      "259:\tlearn: 990.5230221\ttotal: 12.4s\tremaining: 35.2s\n",
      "260:\tlearn: 989.7404635\ttotal: 12.4s\tremaining: 35.2s\n",
      "261:\tlearn: 989.5348535\ttotal: 12.5s\tremaining: 35.1s\n",
      "262:\tlearn: 988.9289326\ttotal: 12.5s\tremaining: 35.1s\n",
      "263:\tlearn: 988.7535769\ttotal: 12.6s\tremaining: 35.1s\n",
      "264:\tlearn: 988.1919484\ttotal: 12.6s\tremaining: 35s\n",
      "265:\tlearn: 987.8231377\ttotal: 12.7s\tremaining: 35s\n",
      "266:\tlearn: 987.2928562\ttotal: 12.7s\tremaining: 34.9s\n",
      "267:\tlearn: 986.9537879\ttotal: 12.8s\tremaining: 34.9s\n",
      "268:\tlearn: 986.6522461\ttotal: 12.8s\tremaining: 34.9s\n",
      "269:\tlearn: 986.1077371\ttotal: 12.9s\tremaining: 34.8s\n",
      "270:\tlearn: 985.7634951\ttotal: 12.9s\tremaining: 34.8s\n",
      "271:\tlearn: 985.2422469\ttotal: 13s\tremaining: 34.8s\n",
      "272:\tlearn: 984.7728960\ttotal: 13s\tremaining: 34.7s\n",
      "273:\tlearn: 984.3626382\ttotal: 13.1s\tremaining: 34.7s\n",
      "274:\tlearn: 983.9464244\ttotal: 13.1s\tremaining: 34.6s\n",
      "275:\tlearn: 983.6213756\ttotal: 13.2s\tremaining: 34.6s\n",
      "276:\tlearn: 983.1041477\ttotal: 13.2s\tremaining: 34.5s\n",
      "277:\tlearn: 982.8285904\ttotal: 13.3s\tremaining: 34.5s\n",
      "278:\tlearn: 981.8999950\ttotal: 13.3s\tremaining: 34.4s\n",
      "279:\tlearn: 981.3930008\ttotal: 13.4s\tremaining: 34.4s\n",
      "280:\tlearn: 980.9143651\ttotal: 13.4s\tremaining: 34.3s\n",
      "281:\tlearn: 980.4589987\ttotal: 13.5s\tremaining: 34.3s\n",
      "282:\tlearn: 980.0361783\ttotal: 13.5s\tremaining: 34.2s\n",
      "283:\tlearn: 979.8177904\ttotal: 13.6s\tremaining: 34.2s\n",
      "284:\tlearn: 979.2917398\ttotal: 13.6s\tremaining: 34.2s\n",
      "285:\tlearn: 978.3741426\ttotal: 13.7s\tremaining: 34.2s\n",
      "286:\tlearn: 977.8912210\ttotal: 13.8s\tremaining: 34.2s\n",
      "287:\tlearn: 977.1413172\ttotal: 13.8s\tremaining: 34.2s\n",
      "288:\tlearn: 976.6552842\ttotal: 13.9s\tremaining: 34.1s\n",
      "289:\tlearn: 976.2227032\ttotal: 13.9s\tremaining: 34.1s\n",
      "290:\tlearn: 975.7711112\ttotal: 14s\tremaining: 34.1s\n",
      "291:\tlearn: 975.4029064\ttotal: 14.1s\tremaining: 34.1s\n",
      "292:\tlearn: 974.7218164\ttotal: 14.1s\tremaining: 34s\n",
      "293:\tlearn: 974.3144062\ttotal: 14.1s\tremaining: 34s\n",
      "294:\tlearn: 973.9634740\ttotal: 14.2s\tremaining: 33.9s\n",
      "295:\tlearn: 973.6047017\ttotal: 14.2s\tremaining: 33.9s\n",
      "296:\tlearn: 972.8747934\ttotal: 14.3s\tremaining: 33.8s\n",
      "297:\tlearn: 972.1503942\ttotal: 14.3s\tremaining: 33.8s\n",
      "298:\tlearn: 971.4386091\ttotal: 14.4s\tremaining: 33.7s\n",
      "299:\tlearn: 971.0304002\ttotal: 14.4s\tremaining: 33.7s\n",
      "300:\tlearn: 970.8160770\ttotal: 14.5s\tremaining: 33.6s\n",
      "301:\tlearn: 970.4740412\ttotal: 14.5s\tremaining: 33.6s\n",
      "302:\tlearn: 970.1482708\ttotal: 14.6s\tremaining: 33.5s\n",
      "303:\tlearn: 969.6425992\ttotal: 14.6s\tremaining: 33.5s\n",
      "304:\tlearn: 969.0774949\ttotal: 14.7s\tremaining: 33.5s\n",
      "305:\tlearn: 968.2935382\ttotal: 14.8s\tremaining: 33.5s\n",
      "306:\tlearn: 967.7530959\ttotal: 14.8s\tremaining: 33.4s\n",
      "307:\tlearn: 966.9782836\ttotal: 14.9s\tremaining: 33.4s\n",
      "308:\tlearn: 966.4885991\ttotal: 14.9s\tremaining: 33.3s\n",
      "309:\tlearn: 966.1501235\ttotal: 15s\tremaining: 33.3s\n",
      "310:\tlearn: 965.5335775\ttotal: 15s\tremaining: 33.2s\n",
      "311:\tlearn: 965.0307355\ttotal: 15.1s\tremaining: 33.2s\n",
      "312:\tlearn: 964.7086755\ttotal: 15.1s\tremaining: 33.1s\n",
      "313:\tlearn: 964.5507673\ttotal: 15.1s\tremaining: 33.1s\n",
      "314:\tlearn: 964.3380593\ttotal: 15.2s\tremaining: 33s\n",
      "315:\tlearn: 963.9459244\ttotal: 15.2s\tremaining: 32.9s\n",
      "316:\tlearn: 963.4647798\ttotal: 15.3s\tremaining: 32.9s\n",
      "317:\tlearn: 963.1006528\ttotal: 15.3s\tremaining: 32.8s\n",
      "318:\tlearn: 962.6531922\ttotal: 15.4s\tremaining: 32.8s\n",
      "319:\tlearn: 962.5071148\ttotal: 15.4s\tremaining: 32.7s\n",
      "320:\tlearn: 962.1404702\ttotal: 15.4s\tremaining: 32.7s\n",
      "321:\tlearn: 961.7963290\ttotal: 15.5s\tremaining: 32.6s\n",
      "322:\tlearn: 961.3931280\ttotal: 15.5s\tremaining: 32.6s\n",
      "323:\tlearn: 960.6677991\ttotal: 15.6s\tremaining: 32.5s\n",
      "324:\tlearn: 960.4488999\ttotal: 15.6s\tremaining: 32.5s\n",
      "325:\tlearn: 960.1629918\ttotal: 15.7s\tremaining: 32.4s\n",
      "326:\tlearn: 959.6981023\ttotal: 15.7s\tremaining: 32.3s\n",
      "327:\tlearn: 958.9413047\ttotal: 15.8s\tremaining: 32.3s\n",
      "328:\tlearn: 958.4333875\ttotal: 15.8s\tremaining: 32.2s\n",
      "329:\tlearn: 958.1821411\ttotal: 15.9s\tremaining: 32.2s\n",
      "330:\tlearn: 957.8308420\ttotal: 15.9s\tremaining: 32.2s\n",
      "331:\tlearn: 957.3623730\ttotal: 16s\tremaining: 32.2s\n",
      "332:\tlearn: 956.9540601\ttotal: 16s\tremaining: 32.1s\n",
      "333:\tlearn: 956.4987350\ttotal: 16.1s\tremaining: 32.1s\n",
      "334:\tlearn: 956.2777638\ttotal: 16.1s\tremaining: 32s\n",
      "335:\tlearn: 956.0469324\ttotal: 16.2s\tremaining: 32s\n",
      "336:\tlearn: 955.5942458\ttotal: 16.2s\tremaining: 31.9s\n",
      "337:\tlearn: 955.1679274\ttotal: 16.3s\tremaining: 31.9s\n",
      "338:\tlearn: 954.8654489\ttotal: 16.3s\tremaining: 31.8s\n",
      "339:\tlearn: 954.6230151\ttotal: 16.4s\tremaining: 31.8s\n",
      "340:\tlearn: 954.1190449\ttotal: 16.4s\tremaining: 31.7s\n",
      "341:\tlearn: 953.8545115\ttotal: 16.5s\tremaining: 31.7s\n",
      "342:\tlearn: 952.9573830\ttotal: 16.5s\tremaining: 31.6s\n",
      "343:\tlearn: 952.4289430\ttotal: 16.6s\tremaining: 31.6s\n",
      "344:\tlearn: 951.8025184\ttotal: 16.6s\tremaining: 31.6s\n",
      "345:\tlearn: 951.5938174\ttotal: 16.7s\tremaining: 31.5s\n",
      "346:\tlearn: 951.2860625\ttotal: 16.7s\tremaining: 31.4s\n",
      "347:\tlearn: 950.9494803\ttotal: 16.8s\tremaining: 31.4s\n",
      "348:\tlearn: 950.7105246\ttotal: 16.8s\tremaining: 31.3s\n",
      "349:\tlearn: 950.3399447\ttotal: 16.9s\tremaining: 31.3s\n",
      "350:\tlearn: 950.1556568\ttotal: 16.9s\tremaining: 31.2s\n",
      "351:\tlearn: 949.5417904\ttotal: 16.9s\tremaining: 31.2s\n",
      "352:\tlearn: 949.3483993\ttotal: 17s\tremaining: 31.2s\n",
      "353:\tlearn: 948.9934969\ttotal: 17.1s\tremaining: 31.2s\n",
      "354:\tlearn: 948.2372431\ttotal: 17.2s\tremaining: 31.2s\n",
      "355:\tlearn: 947.5880142\ttotal: 17.2s\tremaining: 31.1s\n",
      "356:\tlearn: 947.2419266\ttotal: 17.3s\tremaining: 31.1s\n",
      "357:\tlearn: 946.5844514\ttotal: 17.3s\tremaining: 31.1s\n",
      "358:\tlearn: 946.2705686\ttotal: 17.4s\tremaining: 31s\n",
      "359:\tlearn: 945.9581531\ttotal: 17.4s\tremaining: 30.9s\n",
      "360:\tlearn: 945.8034077\ttotal: 17.5s\tremaining: 30.9s\n",
      "361:\tlearn: 945.4976200\ttotal: 17.5s\tremaining: 30.8s\n",
      "362:\tlearn: 945.3186687\ttotal: 17.5s\tremaining: 30.8s\n",
      "363:\tlearn: 945.1268001\ttotal: 17.6s\tremaining: 30.7s\n",
      "364:\tlearn: 944.9165951\ttotal: 17.6s\tremaining: 30.7s\n",
      "365:\tlearn: 944.6222758\ttotal: 17.7s\tremaining: 30.6s\n",
      "366:\tlearn: 944.2045879\ttotal: 17.7s\tremaining: 30.6s\n",
      "367:\tlearn: 943.9482127\ttotal: 17.8s\tremaining: 30.5s\n",
      "368:\tlearn: 943.6340130\ttotal: 17.8s\tremaining: 30.5s\n",
      "369:\tlearn: 943.4387869\ttotal: 17.9s\tremaining: 30.4s\n",
      "370:\tlearn: 942.9658653\ttotal: 17.9s\tremaining: 30.4s\n",
      "371:\tlearn: 942.6544901\ttotal: 18s\tremaining: 30.3s\n",
      "372:\tlearn: 942.4703554\ttotal: 18s\tremaining: 30.3s\n",
      "373:\tlearn: 942.1147067\ttotal: 18.1s\tremaining: 30.3s\n",
      "374:\tlearn: 941.7422110\ttotal: 18.1s\tremaining: 30.2s\n",
      "375:\tlearn: 941.2985514\ttotal: 18.2s\tremaining: 30.2s\n",
      "376:\tlearn: 940.8592196\ttotal: 18.2s\tremaining: 30.1s\n",
      "377:\tlearn: 940.6690450\ttotal: 18.3s\tremaining: 30.1s\n",
      "378:\tlearn: 940.2865852\ttotal: 18.3s\tremaining: 30s\n",
      "379:\tlearn: 939.8577365\ttotal: 18.4s\tremaining: 30s\n",
      "380:\tlearn: 939.5245993\ttotal: 18.4s\tremaining: 29.9s\n",
      "381:\tlearn: 939.2724094\ttotal: 18.5s\tremaining: 29.9s\n",
      "382:\tlearn: 938.7228154\ttotal: 18.5s\tremaining: 29.8s\n",
      "383:\tlearn: 938.5064038\ttotal: 18.6s\tremaining: 29.8s\n",
      "384:\tlearn: 937.9527479\ttotal: 18.6s\tremaining: 29.7s\n",
      "385:\tlearn: 937.5726786\ttotal: 18.6s\tremaining: 29.7s\n",
      "386:\tlearn: 937.3414374\ttotal: 18.7s\tremaining: 29.6s\n",
      "387:\tlearn: 937.0384202\ttotal: 18.7s\tremaining: 29.5s\n",
      "388:\tlearn: 936.6754186\ttotal: 18.8s\tremaining: 29.5s\n",
      "389:\tlearn: 936.4776839\ttotal: 18.8s\tremaining: 29.4s\n",
      "390:\tlearn: 936.1996825\ttotal: 18.9s\tremaining: 29.4s\n",
      "391:\tlearn: 935.8796189\ttotal: 18.9s\tremaining: 29.3s\n",
      "392:\tlearn: 935.4799193\ttotal: 19s\tremaining: 29.3s\n",
      "393:\tlearn: 935.1622583\ttotal: 19.1s\tremaining: 29.3s\n",
      "394:\tlearn: 934.7710691\ttotal: 19.1s\tremaining: 29.3s\n",
      "395:\tlearn: 934.3569271\ttotal: 19.1s\tremaining: 29.2s\n",
      "396:\tlearn: 933.9710178\ttotal: 19.2s\tremaining: 29.1s\n",
      "397:\tlearn: 933.5469856\ttotal: 19.3s\tremaining: 29.1s\n",
      "398:\tlearn: 933.1424765\ttotal: 19.3s\tremaining: 29.1s\n",
      "399:\tlearn: 932.8424707\ttotal: 19.4s\tremaining: 29s\n",
      "400:\tlearn: 932.5199476\ttotal: 19.4s\tremaining: 29s\n",
      "401:\tlearn: 932.1526144\ttotal: 19.4s\tremaining: 28.9s\n",
      "402:\tlearn: 932.0437232\ttotal: 19.5s\tremaining: 28.9s\n",
      "403:\tlearn: 931.6717832\ttotal: 19.6s\tremaining: 28.8s\n",
      "404:\tlearn: 931.4212249\ttotal: 19.6s\tremaining: 28.8s\n",
      "405:\tlearn: 931.1827658\ttotal: 19.6s\tremaining: 28.7s\n",
      "406:\tlearn: 930.8123499\ttotal: 19.7s\tremaining: 28.7s\n",
      "407:\tlearn: 930.6381597\ttotal: 19.7s\tremaining: 28.6s\n",
      "408:\tlearn: 930.3350419\ttotal: 19.8s\tremaining: 28.6s\n",
      "409:\tlearn: 929.7281293\ttotal: 19.8s\tremaining: 28.5s\n",
      "410:\tlearn: 929.4380710\ttotal: 19.9s\tremaining: 28.5s\n",
      "411:\tlearn: 929.2769653\ttotal: 19.9s\tremaining: 28.4s\n",
      "412:\tlearn: 928.9331940\ttotal: 20s\tremaining: 28.4s\n",
      "413:\tlearn: 928.6365316\ttotal: 20s\tremaining: 28.3s\n",
      "414:\tlearn: 928.3906277\ttotal: 20.1s\tremaining: 28.3s\n",
      "415:\tlearn: 928.2905205\ttotal: 20.1s\tremaining: 28.2s\n",
      "416:\tlearn: 927.9591250\ttotal: 20.1s\tremaining: 28.2s\n",
      "417:\tlearn: 927.8131912\ttotal: 20.2s\tremaining: 28.1s\n",
      "418:\tlearn: 927.6139514\ttotal: 20.2s\tremaining: 28.1s\n",
      "419:\tlearn: 927.4398134\ttotal: 20.3s\tremaining: 28s\n",
      "420:\tlearn: 927.2132862\ttotal: 20.3s\tremaining: 28s\n",
      "421:\tlearn: 927.0400612\ttotal: 20.4s\tremaining: 27.9s\n",
      "422:\tlearn: 926.5851081\ttotal: 20.4s\tremaining: 27.9s\n",
      "423:\tlearn: 926.3900413\ttotal: 20.5s\tremaining: 27.8s\n",
      "424:\tlearn: 926.2111117\ttotal: 20.5s\tremaining: 27.7s\n",
      "425:\tlearn: 925.9426211\ttotal: 20.5s\tremaining: 27.7s\n",
      "426:\tlearn: 925.7224986\ttotal: 20.6s\tremaining: 27.6s\n",
      "427:\tlearn: 925.3081233\ttotal: 20.6s\tremaining: 27.6s\n",
      "428:\tlearn: 925.0430515\ttotal: 20.7s\tremaining: 27.6s\n",
      "429:\tlearn: 924.8012278\ttotal: 20.8s\tremaining: 27.5s\n",
      "430:\tlearn: 924.2010064\ttotal: 20.8s\tremaining: 27.5s\n",
      "431:\tlearn: 923.9920423\ttotal: 20.9s\tremaining: 27.5s\n",
      "432:\tlearn: 923.7016356\ttotal: 20.9s\tremaining: 27.4s\n",
      "433:\tlearn: 923.3061139\ttotal: 21s\tremaining: 27.4s\n",
      "434:\tlearn: 922.7846989\ttotal: 21.1s\tremaining: 27.4s\n",
      "435:\tlearn: 922.6629844\ttotal: 21.1s\tremaining: 27.3s\n",
      "436:\tlearn: 922.4313061\ttotal: 21.2s\tremaining: 27.3s\n",
      "437:\tlearn: 922.1304671\ttotal: 21.2s\tremaining: 27.2s\n",
      "438:\tlearn: 921.9332337\ttotal: 21.3s\tremaining: 27.2s\n",
      "439:\tlearn: 921.7002926\ttotal: 21.3s\tremaining: 27.1s\n",
      "440:\tlearn: 921.5217236\ttotal: 21.4s\tremaining: 27.1s\n",
      "441:\tlearn: 921.3204900\ttotal: 21.4s\tremaining: 27s\n",
      "442:\tlearn: 920.9266163\ttotal: 21.4s\tremaining: 27s\n",
      "443:\tlearn: 920.5615507\ttotal: 21.5s\tremaining: 26.9s\n",
      "444:\tlearn: 920.0595341\ttotal: 21.5s\tremaining: 26.9s\n",
      "445:\tlearn: 919.6997450\ttotal: 21.6s\tremaining: 26.8s\n",
      "446:\tlearn: 919.1964435\ttotal: 21.6s\tremaining: 26.8s\n",
      "447:\tlearn: 918.7588646\ttotal: 21.7s\tremaining: 26.7s\n",
      "448:\tlearn: 918.4375325\ttotal: 21.7s\tremaining: 26.7s\n",
      "449:\tlearn: 918.1847654\ttotal: 21.8s\tremaining: 26.6s\n",
      "450:\tlearn: 917.9843709\ttotal: 21.8s\tremaining: 26.6s\n",
      "451:\tlearn: 917.6837138\ttotal: 21.9s\tremaining: 26.5s\n",
      "452:\tlearn: 917.4575868\ttotal: 21.9s\tremaining: 26.5s\n",
      "453:\tlearn: 917.3424431\ttotal: 22s\tremaining: 26.4s\n",
      "454:\tlearn: 917.0293294\ttotal: 22s\tremaining: 26.4s\n",
      "455:\tlearn: 916.6395332\ttotal: 22.1s\tremaining: 26.3s\n",
      "456:\tlearn: 916.3427583\ttotal: 22.1s\tremaining: 26.3s\n",
      "457:\tlearn: 916.1150440\ttotal: 22.2s\tremaining: 26.2s\n",
      "458:\tlearn: 915.9452399\ttotal: 22.2s\tremaining: 26.2s\n",
      "459:\tlearn: 915.7014317\ttotal: 22.2s\tremaining: 26.1s\n",
      "460:\tlearn: 915.4655081\ttotal: 22.3s\tremaining: 26.1s\n",
      "461:\tlearn: 915.3056192\ttotal: 22.3s\tremaining: 26s\n",
      "462:\tlearn: 915.0791644\ttotal: 22.4s\tremaining: 25.9s\n",
      "463:\tlearn: 914.9023899\ttotal: 22.4s\tremaining: 25.9s\n",
      "464:\tlearn: 914.7743778\ttotal: 22.5s\tremaining: 25.9s\n",
      "465:\tlearn: 914.3945812\ttotal: 22.6s\tremaining: 25.9s\n",
      "466:\tlearn: 914.2228240\ttotal: 22.6s\tremaining: 25.8s\n",
      "467:\tlearn: 913.9281642\ttotal: 22.7s\tremaining: 25.8s\n",
      "468:\tlearn: 913.7414274\ttotal: 22.7s\tremaining: 25.7s\n",
      "469:\tlearn: 913.5782971\ttotal: 22.8s\tremaining: 25.7s\n",
      "470:\tlearn: 913.4103194\ttotal: 22.8s\tremaining: 25.6s\n",
      "471:\tlearn: 913.1398923\ttotal: 22.9s\tremaining: 25.6s\n",
      "472:\tlearn: 912.9138353\ttotal: 22.9s\tremaining: 25.5s\n",
      "473:\tlearn: 912.7669523\ttotal: 23s\tremaining: 25.5s\n",
      "474:\tlearn: 912.5900831\ttotal: 23s\tremaining: 25.4s\n",
      "475:\tlearn: 912.2849373\ttotal: 23s\tremaining: 25.4s\n",
      "476:\tlearn: 911.8464460\ttotal: 23.1s\tremaining: 25.3s\n",
      "477:\tlearn: 911.5231262\ttotal: 23.1s\tremaining: 25.3s\n",
      "478:\tlearn: 911.1558022\ttotal: 23.2s\tremaining: 25.2s\n",
      "479:\tlearn: 910.9646523\ttotal: 23.2s\tremaining: 25.1s\n",
      "480:\tlearn: 910.7814022\ttotal: 23.3s\tremaining: 25.1s\n",
      "481:\tlearn: 910.3397716\ttotal: 23.3s\tremaining: 25.1s\n",
      "482:\tlearn: 909.9017051\ttotal: 23.4s\tremaining: 25s\n",
      "483:\tlearn: 909.3713207\ttotal: 23.4s\tremaining: 25s\n",
      "484:\tlearn: 908.9585855\ttotal: 23.5s\tremaining: 24.9s\n",
      "485:\tlearn: 908.7659384\ttotal: 23.5s\tremaining: 24.9s\n",
      "486:\tlearn: 908.3442225\ttotal: 23.6s\tremaining: 24.8s\n",
      "487:\tlearn: 908.0000955\ttotal: 23.6s\tremaining: 24.8s\n",
      "488:\tlearn: 907.8908582\ttotal: 23.7s\tremaining: 24.7s\n",
      "489:\tlearn: 907.7476883\ttotal: 23.7s\tremaining: 24.7s\n",
      "490:\tlearn: 907.3003201\ttotal: 23.8s\tremaining: 24.7s\n",
      "491:\tlearn: 907.1477886\ttotal: 23.8s\tremaining: 24.6s\n",
      "492:\tlearn: 906.8871928\ttotal: 23.9s\tremaining: 24.6s\n",
      "493:\tlearn: 906.6604728\ttotal: 23.9s\tremaining: 24.5s\n",
      "494:\tlearn: 906.4419062\ttotal: 24s\tremaining: 24.4s\n",
      "495:\tlearn: 906.1155474\ttotal: 24s\tremaining: 24.4s\n",
      "496:\tlearn: 905.7741423\ttotal: 24.1s\tremaining: 24.4s\n",
      "497:\tlearn: 905.6832883\ttotal: 24.1s\tremaining: 24.3s\n",
      "498:\tlearn: 905.5124429\ttotal: 24.2s\tremaining: 24.3s\n",
      "499:\tlearn: 905.1679816\ttotal: 24.2s\tremaining: 24.2s\n",
      "500:\tlearn: 904.9628649\ttotal: 24.2s\tremaining: 24.1s\n",
      "501:\tlearn: 904.5382544\ttotal: 24.3s\tremaining: 24.1s\n",
      "502:\tlearn: 904.4103252\ttotal: 24.3s\tremaining: 24s\n",
      "503:\tlearn: 904.0750246\ttotal: 24.4s\tremaining: 24s\n",
      "504:\tlearn: 903.8127706\ttotal: 24.4s\tremaining: 23.9s\n",
      "505:\tlearn: 903.5514192\ttotal: 24.5s\tremaining: 23.9s\n",
      "506:\tlearn: 903.3067525\ttotal: 24.5s\tremaining: 23.8s\n",
      "507:\tlearn: 903.0192901\ttotal: 24.5s\tremaining: 23.8s\n",
      "508:\tlearn: 902.6067319\ttotal: 24.6s\tremaining: 23.7s\n",
      "509:\tlearn: 902.2110797\ttotal: 24.6s\tremaining: 23.7s\n",
      "510:\tlearn: 901.8581697\ttotal: 24.7s\tremaining: 23.6s\n",
      "511:\tlearn: 901.6989093\ttotal: 24.7s\tremaining: 23.6s\n",
      "512:\tlearn: 901.4606787\ttotal: 24.8s\tremaining: 23.5s\n",
      "513:\tlearn: 901.2154752\ttotal: 24.8s\tremaining: 23.5s\n",
      "514:\tlearn: 901.1136321\ttotal: 24.9s\tremaining: 23.4s\n",
      "515:\tlearn: 900.9220512\ttotal: 24.9s\tremaining: 23.4s\n",
      "516:\tlearn: 900.7191200\ttotal: 24.9s\tremaining: 23.3s\n",
      "517:\tlearn: 900.4087016\ttotal: 25s\tremaining: 23.3s\n",
      "518:\tlearn: 900.1667352\ttotal: 25s\tremaining: 23.2s\n",
      "519:\tlearn: 900.0571920\ttotal: 25.1s\tremaining: 23.1s\n",
      "520:\tlearn: 899.7305292\ttotal: 25.1s\tremaining: 23.1s\n",
      "521:\tlearn: 899.4108021\ttotal: 25.2s\tremaining: 23.1s\n",
      "522:\tlearn: 899.2821617\ttotal: 25.2s\tremaining: 23s\n",
      "523:\tlearn: 899.1624343\ttotal: 25.3s\tremaining: 22.9s\n",
      "524:\tlearn: 898.9590665\ttotal: 25.3s\tremaining: 22.9s\n",
      "525:\tlearn: 898.8175233\ttotal: 25.4s\tremaining: 22.9s\n",
      "526:\tlearn: 898.5772214\ttotal: 25.4s\tremaining: 22.8s\n",
      "527:\tlearn: 898.3137903\ttotal: 25.5s\tremaining: 22.8s\n",
      "528:\tlearn: 898.1843512\ttotal: 25.5s\tremaining: 22.7s\n",
      "529:\tlearn: 897.9560872\ttotal: 25.6s\tremaining: 22.7s\n",
      "530:\tlearn: 897.7675654\ttotal: 25.6s\tremaining: 22.6s\n",
      "531:\tlearn: 897.4266365\ttotal: 25.6s\tremaining: 22.6s\n",
      "532:\tlearn: 897.1441748\ttotal: 25.7s\tremaining: 22.5s\n",
      "533:\tlearn: 896.9165315\ttotal: 25.7s\tremaining: 22.5s\n",
      "534:\tlearn: 896.7960300\ttotal: 25.8s\tremaining: 22.4s\n",
      "535:\tlearn: 896.6925305\ttotal: 25.8s\tremaining: 22.4s\n",
      "536:\tlearn: 896.5584641\ttotal: 25.9s\tremaining: 22.3s\n",
      "537:\tlearn: 896.3883779\ttotal: 25.9s\tremaining: 22.3s\n",
      "538:\tlearn: 896.1999869\ttotal: 26s\tremaining: 22.2s\n",
      "539:\tlearn: 895.9760857\ttotal: 26s\tremaining: 22.2s\n",
      "540:\tlearn: 895.7175486\ttotal: 26.1s\tremaining: 22.1s\n",
      "541:\tlearn: 895.5893122\ttotal: 26.1s\tremaining: 22.1s\n",
      "542:\tlearn: 895.3338683\ttotal: 26.1s\tremaining: 22s\n",
      "543:\tlearn: 895.0934450\ttotal: 26.2s\tremaining: 22s\n",
      "544:\tlearn: 894.9550869\ttotal: 26.2s\tremaining: 21.9s\n",
      "545:\tlearn: 894.7950684\ttotal: 26.3s\tremaining: 21.9s\n",
      "546:\tlearn: 894.6205648\ttotal: 26.3s\tremaining: 21.8s\n",
      "547:\tlearn: 894.4399492\ttotal: 26.4s\tremaining: 21.8s\n",
      "548:\tlearn: 894.2170543\ttotal: 26.4s\tremaining: 21.7s\n",
      "549:\tlearn: 894.0408442\ttotal: 26.5s\tremaining: 21.7s\n",
      "550:\tlearn: 893.8862830\ttotal: 26.5s\tremaining: 21.6s\n",
      "551:\tlearn: 893.7034354\ttotal: 26.6s\tremaining: 21.6s\n",
      "552:\tlearn: 893.6063314\ttotal: 26.6s\tremaining: 21.5s\n",
      "553:\tlearn: 893.4137272\ttotal: 26.7s\tremaining: 21.5s\n",
      "554:\tlearn: 893.2250280\ttotal: 26.7s\tremaining: 21.4s\n",
      "555:\tlearn: 893.0887325\ttotal: 26.7s\tremaining: 21.4s\n",
      "556:\tlearn: 892.8439029\ttotal: 26.8s\tremaining: 21.3s\n",
      "557:\tlearn: 892.5892969\ttotal: 26.8s\tremaining: 21.3s\n",
      "558:\tlearn: 892.4308769\ttotal: 26.9s\tremaining: 21.2s\n",
      "559:\tlearn: 892.3056088\ttotal: 26.9s\tremaining: 21.1s\n",
      "560:\tlearn: 892.0816511\ttotal: 27s\tremaining: 21.1s\n",
      "561:\tlearn: 891.9578115\ttotal: 27s\tremaining: 21.1s\n",
      "562:\tlearn: 891.7144475\ttotal: 27.1s\tremaining: 21s\n",
      "563:\tlearn: 891.5403838\ttotal: 27.1s\tremaining: 21s\n",
      "564:\tlearn: 891.3134418\ttotal: 27.2s\tremaining: 20.9s\n",
      "565:\tlearn: 890.7489221\ttotal: 27.2s\tremaining: 20.9s\n",
      "566:\tlearn: 890.3186650\ttotal: 27.3s\tremaining: 20.8s\n",
      "567:\tlearn: 890.0592149\ttotal: 27.3s\tremaining: 20.8s\n",
      "568:\tlearn: 889.7719749\ttotal: 27.4s\tremaining: 20.7s\n",
      "569:\tlearn: 889.5841572\ttotal: 27.4s\tremaining: 20.7s\n",
      "570:\tlearn: 889.4913997\ttotal: 27.4s\tremaining: 20.6s\n",
      "571:\tlearn: 889.3051804\ttotal: 27.5s\tremaining: 20.6s\n",
      "572:\tlearn: 889.1579194\ttotal: 27.5s\tremaining: 20.5s\n",
      "573:\tlearn: 888.9874366\ttotal: 27.6s\tremaining: 20.5s\n",
      "574:\tlearn: 888.8431861\ttotal: 27.6s\tremaining: 20.4s\n",
      "575:\tlearn: 888.7646790\ttotal: 27.7s\tremaining: 20.4s\n",
      "576:\tlearn: 888.4735116\ttotal: 27.7s\tremaining: 20.3s\n",
      "577:\tlearn: 888.3606200\ttotal: 27.8s\tremaining: 20.3s\n",
      "578:\tlearn: 888.2268494\ttotal: 27.8s\tremaining: 20.2s\n",
      "579:\tlearn: 888.0416271\ttotal: 27.8s\tremaining: 20.2s\n",
      "580:\tlearn: 887.8976481\ttotal: 27.9s\tremaining: 20.1s\n",
      "581:\tlearn: 887.6267430\ttotal: 27.9s\tremaining: 20.1s\n",
      "582:\tlearn: 887.5496280\ttotal: 28s\tremaining: 20s\n",
      "583:\tlearn: 887.2855895\ttotal: 28s\tremaining: 20s\n",
      "584:\tlearn: 886.8887298\ttotal: 28.1s\tremaining: 19.9s\n",
      "585:\tlearn: 886.4836571\ttotal: 28.1s\tremaining: 19.9s\n",
      "586:\tlearn: 886.2761862\ttotal: 28.2s\tremaining: 19.8s\n",
      "587:\tlearn: 885.8674159\ttotal: 28.2s\tremaining: 19.8s\n",
      "588:\tlearn: 885.5940401\ttotal: 28.3s\tremaining: 19.7s\n",
      "589:\tlearn: 885.4364405\ttotal: 28.3s\tremaining: 19.7s\n",
      "590:\tlearn: 885.3717886\ttotal: 28.4s\tremaining: 19.6s\n",
      "591:\tlearn: 885.2263513\ttotal: 28.4s\tremaining: 19.6s\n",
      "592:\tlearn: 885.0733150\ttotal: 28.5s\tremaining: 19.5s\n",
      "593:\tlearn: 884.8245755\ttotal: 28.5s\tremaining: 19.5s\n",
      "594:\tlearn: 884.4450464\ttotal: 28.6s\tremaining: 19.5s\n",
      "595:\tlearn: 884.3125419\ttotal: 28.6s\tremaining: 19.4s\n",
      "596:\tlearn: 884.0979120\ttotal: 28.7s\tremaining: 19.4s\n",
      "597:\tlearn: 884.0244738\ttotal: 28.7s\tremaining: 19.3s\n",
      "598:\tlearn: 883.9124260\ttotal: 28.8s\tremaining: 19.3s\n",
      "599:\tlearn: 883.7560025\ttotal: 28.8s\tremaining: 19.2s\n",
      "600:\tlearn: 883.5739880\ttotal: 28.9s\tremaining: 19.2s\n",
      "601:\tlearn: 883.3719491\ttotal: 28.9s\tremaining: 19.1s\n",
      "602:\tlearn: 883.2847599\ttotal: 29s\tremaining: 19.1s\n",
      "603:\tlearn: 882.9396050\ttotal: 29s\tremaining: 19s\n",
      "604:\tlearn: 882.8385503\ttotal: 29s\tremaining: 19s\n",
      "605:\tlearn: 882.5619795\ttotal: 29.1s\tremaining: 18.9s\n",
      "606:\tlearn: 882.4089453\ttotal: 29.1s\tremaining: 18.9s\n",
      "607:\tlearn: 882.2700131\ttotal: 29.2s\tremaining: 18.8s\n",
      "608:\tlearn: 882.1648279\ttotal: 29.2s\tremaining: 18.8s\n",
      "609:\tlearn: 881.9967974\ttotal: 29.3s\tremaining: 18.7s\n",
      "610:\tlearn: 881.8304005\ttotal: 29.3s\tremaining: 18.7s\n",
      "611:\tlearn: 881.4912486\ttotal: 29.4s\tremaining: 18.6s\n",
      "612:\tlearn: 881.3736975\ttotal: 29.4s\tremaining: 18.6s\n",
      "613:\tlearn: 881.2144606\ttotal: 29.5s\tremaining: 18.5s\n",
      "614:\tlearn: 881.0624432\ttotal: 29.5s\tremaining: 18.5s\n",
      "615:\tlearn: 880.9280781\ttotal: 29.6s\tremaining: 18.4s\n",
      "616:\tlearn: 880.6323399\ttotal: 29.6s\tremaining: 18.4s\n",
      "617:\tlearn: 880.5613329\ttotal: 29.7s\tremaining: 18.3s\n",
      "618:\tlearn: 880.3722825\ttotal: 29.7s\tremaining: 18.3s\n",
      "619:\tlearn: 880.1430531\ttotal: 29.8s\tremaining: 18.2s\n",
      "620:\tlearn: 879.8247724\ttotal: 29.8s\tremaining: 18.2s\n",
      "621:\tlearn: 879.4863693\ttotal: 29.8s\tremaining: 18.1s\n",
      "622:\tlearn: 879.3499922\ttotal: 29.9s\tremaining: 18.1s\n",
      "623:\tlearn: 879.1267521\ttotal: 29.9s\tremaining: 18s\n",
      "624:\tlearn: 878.9510340\ttotal: 30s\tremaining: 18s\n",
      "625:\tlearn: 878.7737488\ttotal: 30s\tremaining: 17.9s\n",
      "626:\tlearn: 878.5951494\ttotal: 30.1s\tremaining: 17.9s\n",
      "627:\tlearn: 878.5468547\ttotal: 30.1s\tremaining: 17.8s\n",
      "628:\tlearn: 878.3756260\ttotal: 30.2s\tremaining: 17.8s\n",
      "629:\tlearn: 878.2650834\ttotal: 30.2s\tremaining: 17.7s\n",
      "630:\tlearn: 877.8869415\ttotal: 30.3s\tremaining: 17.7s\n",
      "631:\tlearn: 877.6072763\ttotal: 30.3s\tremaining: 17.7s\n",
      "632:\tlearn: 877.4856456\ttotal: 30.4s\tremaining: 17.6s\n",
      "633:\tlearn: 877.3726868\ttotal: 30.4s\tremaining: 17.6s\n",
      "634:\tlearn: 877.2610594\ttotal: 30.5s\tremaining: 17.5s\n",
      "635:\tlearn: 877.1053238\ttotal: 30.5s\tremaining: 17.5s\n",
      "636:\tlearn: 876.9620814\ttotal: 30.5s\tremaining: 17.4s\n",
      "637:\tlearn: 876.5847868\ttotal: 30.6s\tremaining: 17.4s\n",
      "638:\tlearn: 876.3790330\ttotal: 30.6s\tremaining: 17.3s\n",
      "639:\tlearn: 876.1932386\ttotal: 30.7s\tremaining: 17.3s\n",
      "640:\tlearn: 876.1219296\ttotal: 30.7s\tremaining: 17.2s\n",
      "641:\tlearn: 875.9672770\ttotal: 30.8s\tremaining: 17.2s\n",
      "642:\tlearn: 875.7633008\ttotal: 30.8s\tremaining: 17.1s\n",
      "643:\tlearn: 875.4692825\ttotal: 30.9s\tremaining: 17.1s\n",
      "644:\tlearn: 875.3119438\ttotal: 30.9s\tremaining: 17s\n",
      "645:\tlearn: 875.1008325\ttotal: 31s\tremaining: 17s\n",
      "646:\tlearn: 874.9288415\ttotal: 31s\tremaining: 16.9s\n",
      "647:\tlearn: 874.6683959\ttotal: 31.1s\tremaining: 16.9s\n",
      "648:\tlearn: 874.5300108\ttotal: 31.1s\tremaining: 16.8s\n",
      "649:\tlearn: 874.3342832\ttotal: 31.1s\tremaining: 16.8s\n",
      "650:\tlearn: 874.1861205\ttotal: 31.2s\tremaining: 16.7s\n",
      "651:\tlearn: 874.0805569\ttotal: 31.2s\tremaining: 16.7s\n",
      "652:\tlearn: 873.9759047\ttotal: 31.3s\tremaining: 16.6s\n",
      "653:\tlearn: 873.7759914\ttotal: 31.3s\tremaining: 16.6s\n",
      "654:\tlearn: 873.5289607\ttotal: 31.4s\tremaining: 16.5s\n",
      "655:\tlearn: 873.3932815\ttotal: 31.4s\tremaining: 16.5s\n",
      "656:\tlearn: 873.1098518\ttotal: 31.4s\tremaining: 16.4s\n",
      "657:\tlearn: 872.8722071\ttotal: 31.5s\tremaining: 16.4s\n",
      "658:\tlearn: 872.6632788\ttotal: 31.5s\tremaining: 16.3s\n",
      "659:\tlearn: 872.4954741\ttotal: 31.6s\tremaining: 16.3s\n",
      "660:\tlearn: 872.2718566\ttotal: 31.6s\tremaining: 16.2s\n",
      "661:\tlearn: 872.1287159\ttotal: 31.7s\tremaining: 16.2s\n",
      "662:\tlearn: 872.0651692\ttotal: 31.7s\tremaining: 16.1s\n",
      "663:\tlearn: 871.8972060\ttotal: 31.7s\tremaining: 16.1s\n",
      "664:\tlearn: 871.6434441\ttotal: 31.8s\tremaining: 16s\n",
      "665:\tlearn: 871.4544533\ttotal: 31.8s\tremaining: 16s\n",
      "666:\tlearn: 871.3627055\ttotal: 31.9s\tremaining: 15.9s\n",
      "667:\tlearn: 871.1910340\ttotal: 31.9s\tremaining: 15.9s\n",
      "668:\tlearn: 871.0950137\ttotal: 32s\tremaining: 15.8s\n",
      "669:\tlearn: 870.7229200\ttotal: 32s\tremaining: 15.8s\n",
      "670:\tlearn: 870.5806721\ttotal: 32.1s\tremaining: 15.7s\n",
      "671:\tlearn: 870.4315615\ttotal: 32.1s\tremaining: 15.7s\n",
      "672:\tlearn: 870.3220002\ttotal: 32.2s\tremaining: 15.6s\n",
      "673:\tlearn: 870.1947015\ttotal: 32.2s\tremaining: 15.6s\n",
      "674:\tlearn: 869.9419289\ttotal: 32.3s\tremaining: 15.5s\n",
      "675:\tlearn: 869.7711806\ttotal: 32.3s\tremaining: 15.5s\n",
      "676:\tlearn: 869.6092455\ttotal: 32.4s\tremaining: 15.4s\n",
      "677:\tlearn: 869.4447867\ttotal: 32.4s\tremaining: 15.4s\n",
      "678:\tlearn: 869.2383956\ttotal: 32.5s\tremaining: 15.3s\n",
      "679:\tlearn: 869.0758502\ttotal: 32.5s\tremaining: 15.3s\n",
      "680:\tlearn: 868.9466685\ttotal: 32.6s\tremaining: 15.3s\n",
      "681:\tlearn: 868.8876999\ttotal: 32.6s\tremaining: 15.2s\n",
      "682:\tlearn: 868.6020709\ttotal: 32.7s\tremaining: 15.2s\n",
      "683:\tlearn: 868.3449469\ttotal: 32.7s\tremaining: 15.1s\n",
      "684:\tlearn: 868.2042878\ttotal: 32.7s\tremaining: 15.1s\n",
      "685:\tlearn: 868.1318183\ttotal: 32.8s\tremaining: 15s\n",
      "686:\tlearn: 867.8951497\ttotal: 32.8s\tremaining: 15s\n",
      "687:\tlearn: 867.8042404\ttotal: 32.9s\tremaining: 14.9s\n",
      "688:\tlearn: 867.7234789\ttotal: 32.9s\tremaining: 14.9s\n",
      "689:\tlearn: 867.5259609\ttotal: 33s\tremaining: 14.8s\n",
      "690:\tlearn: 867.2953650\ttotal: 33s\tremaining: 14.8s\n",
      "691:\tlearn: 867.1486980\ttotal: 33.1s\tremaining: 14.7s\n",
      "692:\tlearn: 866.9882843\ttotal: 33.2s\tremaining: 14.7s\n",
      "693:\tlearn: 866.8605707\ttotal: 33.2s\tremaining: 14.7s\n",
      "694:\tlearn: 866.7605308\ttotal: 33.3s\tremaining: 14.6s\n",
      "695:\tlearn: 866.6357131\ttotal: 33.4s\tremaining: 14.6s\n",
      "696:\tlearn: 866.5008555\ttotal: 33.4s\tremaining: 14.5s\n",
      "697:\tlearn: 866.4213269\ttotal: 33.4s\tremaining: 14.5s\n",
      "698:\tlearn: 866.3464879\ttotal: 33.5s\tremaining: 14.4s\n",
      "699:\tlearn: 866.2442726\ttotal: 33.5s\tremaining: 14.4s\n",
      "700:\tlearn: 866.0590253\ttotal: 33.6s\tremaining: 14.3s\n",
      "701:\tlearn: 865.9173863\ttotal: 33.6s\tremaining: 14.3s\n",
      "702:\tlearn: 865.8621307\ttotal: 33.7s\tremaining: 14.2s\n",
      "703:\tlearn: 865.7465388\ttotal: 33.7s\tremaining: 14.2s\n",
      "704:\tlearn: 865.5994773\ttotal: 33.7s\tremaining: 14.1s\n",
      "705:\tlearn: 865.3556291\ttotal: 33.8s\tremaining: 14.1s\n",
      "706:\tlearn: 865.2143088\ttotal: 33.8s\tremaining: 14s\n",
      "707:\tlearn: 865.1356414\ttotal: 33.9s\tremaining: 14s\n",
      "708:\tlearn: 864.9924556\ttotal: 34s\tremaining: 13.9s\n",
      "709:\tlearn: 864.8034660\ttotal: 34s\tremaining: 13.9s\n",
      "710:\tlearn: 864.6461324\ttotal: 34.1s\tremaining: 13.8s\n",
      "711:\tlearn: 864.3457216\ttotal: 34.1s\tremaining: 13.8s\n",
      "712:\tlearn: 864.0141223\ttotal: 34.1s\tremaining: 13.7s\n",
      "713:\tlearn: 863.9335687\ttotal: 34.2s\tremaining: 13.7s\n",
      "714:\tlearn: 863.6760275\ttotal: 34.2s\tremaining: 13.7s\n",
      "715:\tlearn: 863.5537866\ttotal: 34.3s\tremaining: 13.6s\n",
      "716:\tlearn: 863.4643095\ttotal: 34.3s\tremaining: 13.6s\n",
      "717:\tlearn: 863.3632115\ttotal: 34.4s\tremaining: 13.5s\n",
      "718:\tlearn: 863.1940399\ttotal: 34.4s\tremaining: 13.5s\n",
      "719:\tlearn: 863.0662658\ttotal: 34.5s\tremaining: 13.4s\n",
      "720:\tlearn: 862.7979162\ttotal: 34.5s\tremaining: 13.4s\n",
      "721:\tlearn: 862.5897420\ttotal: 34.6s\tremaining: 13.3s\n",
      "722:\tlearn: 862.4002598\ttotal: 34.6s\tremaining: 13.3s\n",
      "723:\tlearn: 862.3182314\ttotal: 34.7s\tremaining: 13.2s\n",
      "724:\tlearn: 862.1277915\ttotal: 34.7s\tremaining: 13.2s\n",
      "725:\tlearn: 862.0562059\ttotal: 34.7s\tremaining: 13.1s\n",
      "726:\tlearn: 861.9443933\ttotal: 34.8s\tremaining: 13.1s\n",
      "727:\tlearn: 861.6969763\ttotal: 34.8s\tremaining: 13s\n",
      "728:\tlearn: 861.4569504\ttotal: 34.9s\tremaining: 13s\n",
      "729:\tlearn: 861.3221380\ttotal: 34.9s\tremaining: 12.9s\n",
      "730:\tlearn: 861.1181993\ttotal: 35s\tremaining: 12.9s\n",
      "731:\tlearn: 860.9131364\ttotal: 35s\tremaining: 12.8s\n",
      "732:\tlearn: 860.7455635\ttotal: 35.1s\tremaining: 12.8s\n",
      "733:\tlearn: 860.5772689\ttotal: 35.1s\tremaining: 12.7s\n",
      "734:\tlearn: 860.4506486\ttotal: 35.2s\tremaining: 12.7s\n",
      "735:\tlearn: 860.3622786\ttotal: 35.2s\tremaining: 12.6s\n",
      "736:\tlearn: 860.1404247\ttotal: 35.3s\tremaining: 12.6s\n",
      "737:\tlearn: 859.9520274\ttotal: 35.4s\tremaining: 12.6s\n",
      "738:\tlearn: 859.7934426\ttotal: 35.4s\tremaining: 12.5s\n",
      "739:\tlearn: 859.6611498\ttotal: 35.4s\tremaining: 12.5s\n",
      "740:\tlearn: 859.4342143\ttotal: 35.5s\tremaining: 12.4s\n",
      "741:\tlearn: 859.3155880\ttotal: 35.5s\tremaining: 12.4s\n",
      "742:\tlearn: 859.0617077\ttotal: 35.6s\tremaining: 12.3s\n",
      "743:\tlearn: 858.9773831\ttotal: 35.6s\tremaining: 12.3s\n",
      "744:\tlearn: 858.7841322\ttotal: 35.7s\tremaining: 12.2s\n",
      "745:\tlearn: 858.6221448\ttotal: 35.7s\tremaining: 12.2s\n",
      "746:\tlearn: 858.4633651\ttotal: 35.8s\tremaining: 12.1s\n",
      "747:\tlearn: 858.3942595\ttotal: 35.8s\tremaining: 12.1s\n",
      "748:\tlearn: 858.2397175\ttotal: 35.8s\tremaining: 12s\n",
      "749:\tlearn: 858.0487328\ttotal: 35.9s\tremaining: 12s\n",
      "750:\tlearn: 857.9010490\ttotal: 35.9s\tremaining: 11.9s\n",
      "751:\tlearn: 857.8174056\ttotal: 36s\tremaining: 11.9s\n",
      "752:\tlearn: 857.7816695\ttotal: 36s\tremaining: 11.8s\n",
      "753:\tlearn: 857.6903987\ttotal: 36.1s\tremaining: 11.8s\n",
      "754:\tlearn: 857.2502667\ttotal: 36.1s\tremaining: 11.7s\n",
      "755:\tlearn: 857.2004971\ttotal: 36.1s\tremaining: 11.7s\n",
      "756:\tlearn: 857.0716956\ttotal: 36.2s\tremaining: 11.6s\n",
      "757:\tlearn: 856.9485751\ttotal: 36.2s\tremaining: 11.6s\n",
      "758:\tlearn: 856.8405695\ttotal: 36.3s\tremaining: 11.5s\n",
      "759:\tlearn: 856.7724691\ttotal: 36.3s\tremaining: 11.5s\n",
      "760:\tlearn: 856.6893446\ttotal: 36.4s\tremaining: 11.4s\n",
      "761:\tlearn: 856.5873982\ttotal: 36.4s\tremaining: 11.4s\n",
      "762:\tlearn: 856.3180816\ttotal: 36.5s\tremaining: 11.3s\n",
      "763:\tlearn: 856.1569660\ttotal: 36.5s\tremaining: 11.3s\n",
      "764:\tlearn: 856.0863877\ttotal: 36.5s\tremaining: 11.2s\n",
      "765:\tlearn: 855.9241713\ttotal: 36.6s\tremaining: 11.2s\n",
      "766:\tlearn: 855.8496586\ttotal: 36.6s\tremaining: 11.1s\n",
      "767:\tlearn: 855.7560982\ttotal: 36.7s\tremaining: 11.1s\n",
      "768:\tlearn: 855.6319238\ttotal: 36.7s\tremaining: 11s\n",
      "769:\tlearn: 855.5163573\ttotal: 36.8s\tremaining: 11s\n",
      "770:\tlearn: 855.4457133\ttotal: 36.8s\tremaining: 10.9s\n",
      "771:\tlearn: 855.2590633\ttotal: 36.9s\tremaining: 10.9s\n",
      "772:\tlearn: 855.0033838\ttotal: 36.9s\tremaining: 10.8s\n",
      "773:\tlearn: 854.7753175\ttotal: 36.9s\tremaining: 10.8s\n",
      "774:\tlearn: 854.6337142\ttotal: 37s\tremaining: 10.7s\n",
      "775:\tlearn: 854.5342133\ttotal: 37s\tremaining: 10.7s\n",
      "776:\tlearn: 854.3497507\ttotal: 37.1s\tremaining: 10.6s\n",
      "777:\tlearn: 854.1791985\ttotal: 37.1s\tremaining: 10.6s\n",
      "778:\tlearn: 854.0068716\ttotal: 37.2s\tremaining: 10.5s\n",
      "779:\tlearn: 853.8873970\ttotal: 37.2s\tremaining: 10.5s\n",
      "780:\tlearn: 853.5867036\ttotal: 37.2s\tremaining: 10.4s\n",
      "781:\tlearn: 853.5078944\ttotal: 37.3s\tremaining: 10.4s\n",
      "782:\tlearn: 853.2309089\ttotal: 37.3s\tremaining: 10.3s\n",
      "783:\tlearn: 853.1818565\ttotal: 37.4s\tremaining: 10.3s\n",
      "784:\tlearn: 853.0221347\ttotal: 37.4s\tremaining: 10.2s\n",
      "785:\tlearn: 852.9147539\ttotal: 37.5s\tremaining: 10.2s\n",
      "786:\tlearn: 852.7127769\ttotal: 37.5s\tremaining: 10.2s\n",
      "787:\tlearn: 852.6213599\ttotal: 37.6s\tremaining: 10.1s\n",
      "788:\tlearn: 852.5533754\ttotal: 37.6s\tremaining: 10.1s\n",
      "789:\tlearn: 852.4645422\ttotal: 37.6s\tremaining: 10s\n",
      "790:\tlearn: 852.4095131\ttotal: 37.7s\tremaining: 9.96s\n",
      "791:\tlearn: 852.1962388\ttotal: 37.7s\tremaining: 9.91s\n",
      "792:\tlearn: 852.0975244\ttotal: 37.8s\tremaining: 9.86s\n",
      "793:\tlearn: 851.8999844\ttotal: 37.8s\tremaining: 9.81s\n",
      "794:\tlearn: 851.7685539\ttotal: 37.9s\tremaining: 9.76s\n",
      "795:\tlearn: 851.7055090\ttotal: 37.9s\tremaining: 9.71s\n",
      "796:\tlearn: 851.5873973\ttotal: 38s\tremaining: 9.67s\n",
      "797:\tlearn: 851.5327300\ttotal: 38s\tremaining: 9.62s\n",
      "798:\tlearn: 851.3656661\ttotal: 38s\tremaining: 9.57s\n",
      "799:\tlearn: 851.2575558\ttotal: 38.1s\tremaining: 9.52s\n",
      "800:\tlearn: 851.1528091\ttotal: 38.1s\tremaining: 9.47s\n",
      "801:\tlearn: 851.0671669\ttotal: 38.2s\tremaining: 9.42s\n",
      "802:\tlearn: 850.9446643\ttotal: 38.2s\tremaining: 9.37s\n",
      "803:\tlearn: 850.8823821\ttotal: 38.3s\tremaining: 9.32s\n",
      "804:\tlearn: 850.8020920\ttotal: 38.3s\tremaining: 9.28s\n",
      "805:\tlearn: 850.7523679\ttotal: 38.3s\tremaining: 9.23s\n",
      "806:\tlearn: 850.6685223\ttotal: 38.4s\tremaining: 9.18s\n",
      "807:\tlearn: 850.5510257\ttotal: 38.4s\tremaining: 9.13s\n",
      "808:\tlearn: 850.4653577\ttotal: 38.5s\tremaining: 9.09s\n",
      "809:\tlearn: 850.4160752\ttotal: 38.5s\tremaining: 9.04s\n",
      "810:\tlearn: 850.3238256\ttotal: 38.6s\tremaining: 8.99s\n",
      "811:\tlearn: 850.1728325\ttotal: 38.6s\tremaining: 8.94s\n",
      "812:\tlearn: 849.9560313\ttotal: 38.7s\tremaining: 8.9s\n",
      "813:\tlearn: 849.8822768\ttotal: 38.8s\tremaining: 8.86s\n",
      "814:\tlearn: 849.8172374\ttotal: 38.8s\tremaining: 8.81s\n",
      "815:\tlearn: 849.7511594\ttotal: 38.9s\tremaining: 8.77s\n",
      "816:\tlearn: 849.5361326\ttotal: 38.9s\tremaining: 8.72s\n",
      "817:\tlearn: 849.3585684\ttotal: 39s\tremaining: 8.67s\n",
      "818:\tlearn: 849.3069198\ttotal: 39s\tremaining: 8.62s\n",
      "819:\tlearn: 849.0988651\ttotal: 39.1s\tremaining: 8.57s\n",
      "820:\tlearn: 849.0094560\ttotal: 39.1s\tremaining: 8.53s\n",
      "821:\tlearn: 848.9157882\ttotal: 39.1s\tremaining: 8.48s\n",
      "822:\tlearn: 848.7390959\ttotal: 39.2s\tremaining: 8.43s\n",
      "823:\tlearn: 848.6330611\ttotal: 39.2s\tremaining: 8.38s\n",
      "824:\tlearn: 848.3746701\ttotal: 39.3s\tremaining: 8.33s\n",
      "825:\tlearn: 848.1874457\ttotal: 39.3s\tremaining: 8.28s\n",
      "826:\tlearn: 848.1219840\ttotal: 39.4s\tremaining: 8.23s\n",
      "827:\tlearn: 848.0034152\ttotal: 39.4s\tremaining: 8.19s\n",
      "828:\tlearn: 847.9029575\ttotal: 39.5s\tremaining: 8.14s\n",
      "829:\tlearn: 847.7756891\ttotal: 39.5s\tremaining: 8.09s\n",
      "830:\tlearn: 847.7007438\ttotal: 39.6s\tremaining: 8.04s\n",
      "831:\tlearn: 847.5843330\ttotal: 39.6s\tremaining: 8s\n",
      "832:\tlearn: 847.4767071\ttotal: 39.6s\tremaining: 7.95s\n",
      "833:\tlearn: 847.3570984\ttotal: 39.7s\tremaining: 7.9s\n",
      "834:\tlearn: 847.2922104\ttotal: 39.7s\tremaining: 7.85s\n",
      "835:\tlearn: 847.0384642\ttotal: 39.8s\tremaining: 7.8s\n",
      "836:\tlearn: 846.9541917\ttotal: 39.8s\tremaining: 7.75s\n",
      "837:\tlearn: 846.7546193\ttotal: 39.9s\tremaining: 7.71s\n",
      "838:\tlearn: 846.6577464\ttotal: 39.9s\tremaining: 7.66s\n",
      "839:\tlearn: 846.4813540\ttotal: 40s\tremaining: 7.61s\n",
      "840:\tlearn: 846.4188077\ttotal: 40s\tremaining: 7.56s\n",
      "841:\tlearn: 846.2768967\ttotal: 40s\tremaining: 7.51s\n",
      "842:\tlearn: 846.1781077\ttotal: 40.1s\tremaining: 7.46s\n",
      "843:\tlearn: 846.0581534\ttotal: 40.1s\tremaining: 7.42s\n",
      "844:\tlearn: 845.9993003\ttotal: 40.2s\tremaining: 7.37s\n",
      "845:\tlearn: 845.9607342\ttotal: 40.2s\tremaining: 7.32s\n",
      "846:\tlearn: 845.8946456\ttotal: 40.3s\tremaining: 7.27s\n",
      "847:\tlearn: 845.8226071\ttotal: 40.3s\tremaining: 7.22s\n",
      "848:\tlearn: 845.6218972\ttotal: 40.4s\tremaining: 7.18s\n",
      "849:\tlearn: 845.5115632\ttotal: 40.4s\tremaining: 7.13s\n",
      "850:\tlearn: 845.3859523\ttotal: 40.5s\tremaining: 7.08s\n",
      "851:\tlearn: 845.2656603\ttotal: 40.5s\tremaining: 7.04s\n",
      "852:\tlearn: 845.0706054\ttotal: 40.6s\tremaining: 7s\n",
      "853:\tlearn: 844.9308207\ttotal: 40.6s\tremaining: 6.95s\n",
      "854:\tlearn: 844.8567874\ttotal: 40.7s\tremaining: 6.9s\n",
      "855:\tlearn: 844.7846185\ttotal: 40.7s\tremaining: 6.85s\n",
      "856:\tlearn: 844.7204204\ttotal: 40.8s\tremaining: 6.8s\n",
      "857:\tlearn: 844.6547183\ttotal: 40.8s\tremaining: 6.75s\n",
      "858:\tlearn: 844.4609094\ttotal: 40.9s\tremaining: 6.71s\n",
      "859:\tlearn: 844.3999198\ttotal: 40.9s\tremaining: 6.66s\n",
      "860:\tlearn: 844.3324223\ttotal: 40.9s\tremaining: 6.61s\n",
      "861:\tlearn: 844.1198374\ttotal: 41s\tremaining: 6.56s\n",
      "862:\tlearn: 844.0665097\ttotal: 41s\tremaining: 6.51s\n",
      "863:\tlearn: 844.0157925\ttotal: 41.1s\tremaining: 6.47s\n",
      "864:\tlearn: 843.9064579\ttotal: 41.1s\tremaining: 6.42s\n",
      "865:\tlearn: 843.8383271\ttotal: 41.2s\tremaining: 6.37s\n",
      "866:\tlearn: 843.6675916\ttotal: 41.2s\tremaining: 6.32s\n",
      "867:\tlearn: 843.5200789\ttotal: 41.3s\tremaining: 6.27s\n",
      "868:\tlearn: 843.2875070\ttotal: 41.3s\tremaining: 6.22s\n",
      "869:\tlearn: 843.0605463\ttotal: 41.3s\tremaining: 6.18s\n",
      "870:\tlearn: 842.9513035\ttotal: 41.4s\tremaining: 6.13s\n",
      "871:\tlearn: 842.8300592\ttotal: 41.4s\tremaining: 6.08s\n",
      "872:\tlearn: 842.6893682\ttotal: 41.5s\tremaining: 6.03s\n",
      "873:\tlearn: 842.5245502\ttotal: 41.5s\tremaining: 5.99s\n",
      "874:\tlearn: 842.2412812\ttotal: 41.6s\tremaining: 5.94s\n",
      "875:\tlearn: 842.1134353\ttotal: 41.6s\tremaining: 5.89s\n",
      "876:\tlearn: 841.9878138\ttotal: 41.7s\tremaining: 5.84s\n",
      "877:\tlearn: 841.8898309\ttotal: 41.7s\tremaining: 5.79s\n",
      "878:\tlearn: 841.8366573\ttotal: 41.8s\tremaining: 5.75s\n",
      "879:\tlearn: 841.7245478\ttotal: 41.8s\tremaining: 5.7s\n",
      "880:\tlearn: 841.6719292\ttotal: 41.8s\tremaining: 5.65s\n",
      "881:\tlearn: 841.5683101\ttotal: 41.9s\tremaining: 5.6s\n",
      "882:\tlearn: 841.5075947\ttotal: 41.9s\tremaining: 5.56s\n",
      "883:\tlearn: 841.4270948\ttotal: 42s\tremaining: 5.51s\n",
      "884:\tlearn: 841.3244028\ttotal: 42s\tremaining: 5.46s\n",
      "885:\tlearn: 841.1352478\ttotal: 42.1s\tremaining: 5.41s\n",
      "886:\tlearn: 841.0701975\ttotal: 42.1s\tremaining: 5.37s\n",
      "887:\tlearn: 840.9967001\ttotal: 42.2s\tremaining: 5.32s\n",
      "888:\tlearn: 840.7853749\ttotal: 42.2s\tremaining: 5.27s\n",
      "889:\tlearn: 840.6579183\ttotal: 42.3s\tremaining: 5.22s\n",
      "890:\tlearn: 840.6027829\ttotal: 42.3s\tremaining: 5.17s\n",
      "891:\tlearn: 840.5284466\ttotal: 42.3s\tremaining: 5.13s\n",
      "892:\tlearn: 840.4553998\ttotal: 42.4s\tremaining: 5.08s\n",
      "893:\tlearn: 840.3989842\ttotal: 42.4s\tremaining: 5.03s\n",
      "894:\tlearn: 840.3241648\ttotal: 42.5s\tremaining: 4.98s\n",
      "895:\tlearn: 840.2091670\ttotal: 42.5s\tremaining: 4.94s\n",
      "896:\tlearn: 840.0060010\ttotal: 42.6s\tremaining: 4.89s\n",
      "897:\tlearn: 839.9489358\ttotal: 42.6s\tremaining: 4.84s\n",
      "898:\tlearn: 839.7729892\ttotal: 42.7s\tremaining: 4.79s\n",
      "899:\tlearn: 839.5437353\ttotal: 42.7s\tremaining: 4.74s\n",
      "900:\tlearn: 839.4423675\ttotal: 42.7s\tremaining: 4.7s\n",
      "901:\tlearn: 839.2141076\ttotal: 42.8s\tremaining: 4.65s\n",
      "902:\tlearn: 839.1175045\ttotal: 42.9s\tremaining: 4.6s\n",
      "903:\tlearn: 839.0752338\ttotal: 42.9s\tremaining: 4.56s\n",
      "904:\tlearn: 839.0017618\ttotal: 43s\tremaining: 4.51s\n",
      "905:\tlearn: 838.8992462\ttotal: 43s\tremaining: 4.46s\n",
      "906:\tlearn: 838.8259214\ttotal: 43.1s\tremaining: 4.42s\n",
      "907:\tlearn: 838.7209792\ttotal: 43.1s\tremaining: 4.37s\n",
      "908:\tlearn: 838.6072094\ttotal: 43.2s\tremaining: 4.32s\n",
      "909:\tlearn: 838.4651276\ttotal: 43.2s\tremaining: 4.27s\n",
      "910:\tlearn: 838.4154159\ttotal: 43.3s\tremaining: 4.23s\n",
      "911:\tlearn: 838.2517727\ttotal: 43.3s\tremaining: 4.18s\n",
      "912:\tlearn: 838.1443795\ttotal: 43.3s\tremaining: 4.13s\n",
      "913:\tlearn: 838.0604413\ttotal: 43.4s\tremaining: 4.08s\n",
      "914:\tlearn: 837.9187889\ttotal: 43.4s\tremaining: 4.03s\n",
      "915:\tlearn: 837.8362400\ttotal: 43.5s\tremaining: 3.99s\n",
      "916:\tlearn: 837.7886651\ttotal: 43.5s\tremaining: 3.94s\n",
      "917:\tlearn: 837.7426717\ttotal: 43.6s\tremaining: 3.89s\n",
      "918:\tlearn: 837.6619647\ttotal: 43.6s\tremaining: 3.84s\n",
      "919:\tlearn: 837.5811845\ttotal: 43.7s\tremaining: 3.79s\n",
      "920:\tlearn: 837.4078660\ttotal: 43.7s\tremaining: 3.75s\n",
      "921:\tlearn: 837.3374198\ttotal: 43.7s\tremaining: 3.7s\n",
      "922:\tlearn: 837.3047083\ttotal: 43.8s\tremaining: 3.65s\n",
      "923:\tlearn: 837.1615513\ttotal: 43.8s\tremaining: 3.6s\n",
      "924:\tlearn: 837.0563500\ttotal: 43.9s\tremaining: 3.56s\n",
      "925:\tlearn: 836.9767287\ttotal: 43.9s\tremaining: 3.51s\n",
      "926:\tlearn: 836.8477318\ttotal: 44s\tremaining: 3.46s\n",
      "927:\tlearn: 836.7092154\ttotal: 44s\tremaining: 3.42s\n",
      "928:\tlearn: 836.6040788\ttotal: 44.1s\tremaining: 3.37s\n",
      "929:\tlearn: 836.4792538\ttotal: 44.1s\tremaining: 3.32s\n",
      "930:\tlearn: 836.3932769\ttotal: 44.1s\tremaining: 3.27s\n",
      "931:\tlearn: 836.3663980\ttotal: 44.2s\tremaining: 3.22s\n",
      "932:\tlearn: 836.2293148\ttotal: 44.2s\tremaining: 3.18s\n",
      "933:\tlearn: 836.1260535\ttotal: 44.3s\tremaining: 3.13s\n",
      "934:\tlearn: 836.0608139\ttotal: 44.3s\tremaining: 3.08s\n",
      "935:\tlearn: 835.9453354\ttotal: 44.4s\tremaining: 3.03s\n",
      "936:\tlearn: 835.8543304\ttotal: 44.4s\tremaining: 2.99s\n",
      "937:\tlearn: 835.8193264\ttotal: 44.5s\tremaining: 2.94s\n",
      "938:\tlearn: 835.7224611\ttotal: 44.5s\tremaining: 2.89s\n",
      "939:\tlearn: 835.6429197\ttotal: 44.5s\tremaining: 2.84s\n",
      "940:\tlearn: 835.5446240\ttotal: 44.6s\tremaining: 2.79s\n",
      "941:\tlearn: 835.4139525\ttotal: 44.6s\tremaining: 2.75s\n",
      "942:\tlearn: 835.2345944\ttotal: 44.7s\tremaining: 2.7s\n",
      "943:\tlearn: 835.0817484\ttotal: 44.7s\tremaining: 2.65s\n",
      "944:\tlearn: 834.9056925\ttotal: 44.8s\tremaining: 2.6s\n",
      "945:\tlearn: 834.7826484\ttotal: 44.8s\tremaining: 2.56s\n",
      "946:\tlearn: 834.6983467\ttotal: 44.9s\tremaining: 2.51s\n",
      "947:\tlearn: 834.6566467\ttotal: 44.9s\tremaining: 2.46s\n",
      "948:\tlearn: 834.4432927\ttotal: 45s\tremaining: 2.42s\n",
      "949:\tlearn: 834.3706706\ttotal: 45s\tremaining: 2.37s\n",
      "950:\tlearn: 834.2612418\ttotal: 45s\tremaining: 2.32s\n",
      "951:\tlearn: 834.1439368\ttotal: 45.1s\tremaining: 2.27s\n",
      "952:\tlearn: 833.9640378\ttotal: 45.1s\tremaining: 2.23s\n",
      "953:\tlearn: 833.8407638\ttotal: 45.2s\tremaining: 2.18s\n",
      "954:\tlearn: 833.8063114\ttotal: 45.2s\tremaining: 2.13s\n",
      "955:\tlearn: 833.7446182\ttotal: 45.3s\tremaining: 2.08s\n",
      "956:\tlearn: 833.6491102\ttotal: 45.3s\tremaining: 2.04s\n",
      "957:\tlearn: 833.5886786\ttotal: 45.4s\tremaining: 1.99s\n",
      "958:\tlearn: 833.5569225\ttotal: 45.4s\tremaining: 1.94s\n",
      "959:\tlearn: 833.4861670\ttotal: 45.4s\tremaining: 1.89s\n",
      "960:\tlearn: 833.3690007\ttotal: 45.5s\tremaining: 1.84s\n",
      "961:\tlearn: 833.2690957\ttotal: 45.5s\tremaining: 1.8s\n",
      "962:\tlearn: 833.2110628\ttotal: 45.6s\tremaining: 1.75s\n",
      "963:\tlearn: 833.1472076\ttotal: 45.6s\tremaining: 1.7s\n",
      "964:\tlearn: 833.0669125\ttotal: 45.7s\tremaining: 1.66s\n",
      "965:\tlearn: 832.9912871\ttotal: 45.7s\tremaining: 1.61s\n",
      "966:\tlearn: 832.8789820\ttotal: 45.8s\tremaining: 1.56s\n",
      "967:\tlearn: 832.7692959\ttotal: 45.8s\tremaining: 1.51s\n",
      "968:\tlearn: 832.6208204\ttotal: 45.9s\tremaining: 1.47s\n",
      "969:\tlearn: 832.4545736\ttotal: 45.9s\tremaining: 1.42s\n",
      "970:\tlearn: 832.3367176\ttotal: 45.9s\tremaining: 1.37s\n",
      "971:\tlearn: 832.2620645\ttotal: 46s\tremaining: 1.32s\n",
      "972:\tlearn: 832.2346108\ttotal: 46s\tremaining: 1.28s\n",
      "973:\tlearn: 832.1542571\ttotal: 46.1s\tremaining: 1.23s\n",
      "974:\tlearn: 832.0922464\ttotal: 46.1s\tremaining: 1.18s\n",
      "975:\tlearn: 832.0060826\ttotal: 46.2s\tremaining: 1.14s\n",
      "976:\tlearn: 831.9127940\ttotal: 46.2s\tremaining: 1.09s\n",
      "977:\tlearn: 831.8100316\ttotal: 46.3s\tremaining: 1.04s\n",
      "978:\tlearn: 831.6662450\ttotal: 46.3s\tremaining: 993ms\n",
      "979:\tlearn: 831.6089834\ttotal: 46.3s\tremaining: 946ms\n",
      "980:\tlearn: 831.5268219\ttotal: 46.4s\tremaining: 898ms\n",
      "981:\tlearn: 831.3530274\ttotal: 46.4s\tremaining: 851ms\n",
      "982:\tlearn: 831.2891644\ttotal: 46.5s\tremaining: 804ms\n",
      "983:\tlearn: 831.1901834\ttotal: 46.5s\tremaining: 756ms\n",
      "984:\tlearn: 831.1121731\ttotal: 46.6s\tremaining: 709ms\n",
      "985:\tlearn: 830.9814143\ttotal: 46.6s\tremaining: 662ms\n",
      "986:\tlearn: 830.8238362\ttotal: 46.7s\tremaining: 615ms\n",
      "987:\tlearn: 830.7092214\ttotal: 46.7s\tremaining: 567ms\n",
      "988:\tlearn: 830.6484746\ttotal: 46.7s\tremaining: 520ms\n",
      "989:\tlearn: 830.5869956\ttotal: 46.8s\tremaining: 473ms\n",
      "990:\tlearn: 830.5186130\ttotal: 46.8s\tremaining: 425ms\n",
      "991:\tlearn: 830.4600185\ttotal: 46.9s\tremaining: 378ms\n",
      "992:\tlearn: 830.4155802\ttotal: 46.9s\tremaining: 331ms\n",
      "993:\tlearn: 830.2773242\ttotal: 47s\tremaining: 283ms\n",
      "994:\tlearn: 830.1969186\ttotal: 47s\tremaining: 236ms\n",
      "995:\tlearn: 830.0857212\ttotal: 47s\tremaining: 189ms\n",
      "996:\tlearn: 830.0473634\ttotal: 47.1s\tremaining: 142ms\n",
      "997:\tlearn: 829.9091197\ttotal: 47.1s\tremaining: 94.5ms\n",
      "998:\tlearn: 829.5582691\ttotal: 47.2s\tremaining: 47.2ms\n",
      "999:\tlearn: 829.3712259\ttotal: 47.2s\tremaining: 0us\n",
      "0:\tlearn: 1884.7850691\ttotal: 41.1ms\tremaining: 41s\n",
      "1:\tlearn: 1700.6070125\ttotal: 87.7ms\tremaining: 43.8s\n",
      "2:\tlearn: 1614.6938460\ttotal: 128ms\tremaining: 42.7s\n",
      "3:\tlearn: 1550.8054463\ttotal: 172ms\tremaining: 42.8s\n",
      "4:\tlearn: 1515.1705259\ttotal: 213ms\tremaining: 42.4s\n",
      "5:\tlearn: 1478.9642258\ttotal: 258ms\tremaining: 42.8s\n",
      "6:\tlearn: 1463.7582385\ttotal: 309ms\tremaining: 43.9s\n",
      "7:\tlearn: 1442.2765448\ttotal: 352ms\tremaining: 43.6s\n",
      "8:\tlearn: 1427.8667740\ttotal: 404ms\tremaining: 44.4s\n",
      "9:\tlearn: 1413.8751840\ttotal: 448ms\tremaining: 44.3s\n",
      "10:\tlearn: 1406.0058487\ttotal: 499ms\tremaining: 44.9s\n",
      "11:\tlearn: 1393.6901072\ttotal: 544ms\tremaining: 44.8s\n",
      "12:\tlearn: 1382.9796151\ttotal: 595ms\tremaining: 45.2s\n",
      "13:\tlearn: 1374.3841978\ttotal: 638ms\tremaining: 44.9s\n",
      "14:\tlearn: 1365.6351848\ttotal: 686ms\tremaining: 45.1s\n",
      "15:\tlearn: 1357.3884962\ttotal: 732ms\tremaining: 45s\n",
      "16:\tlearn: 1348.7089762\ttotal: 781ms\tremaining: 45.2s\n",
      "17:\tlearn: 1341.7480161\ttotal: 823ms\tremaining: 44.9s\n",
      "18:\tlearn: 1335.7242209\ttotal: 868ms\tremaining: 44.8s\n",
      "19:\tlearn: 1329.0094363\ttotal: 910ms\tremaining: 44.6s\n",
      "20:\tlearn: 1323.2678504\ttotal: 954ms\tremaining: 44.5s\n",
      "21:\tlearn: 1317.3754921\ttotal: 998ms\tremaining: 44.4s\n",
      "22:\tlearn: 1309.4475142\ttotal: 1.04s\tremaining: 44.1s\n",
      "23:\tlearn: 1304.8658008\ttotal: 1.09s\tremaining: 44.2s\n",
      "24:\tlearn: 1298.1635141\ttotal: 1.13s\tremaining: 44s\n",
      "25:\tlearn: 1295.3749012\ttotal: 1.18s\tremaining: 44.1s\n",
      "26:\tlearn: 1289.0576859\ttotal: 1.22s\tremaining: 43.9s\n",
      "27:\tlearn: 1284.6580361\ttotal: 1.27s\tremaining: 44s\n",
      "28:\tlearn: 1280.9231114\ttotal: 1.33s\tremaining: 44.7s\n",
      "29:\tlearn: 1277.7578293\ttotal: 1.38s\tremaining: 44.7s\n",
      "30:\tlearn: 1272.4132482\ttotal: 1.42s\tremaining: 44.4s\n",
      "31:\tlearn: 1267.8132063\ttotal: 1.47s\tremaining: 44.4s\n",
      "32:\tlearn: 1263.5980289\ttotal: 1.51s\tremaining: 44.2s\n",
      "33:\tlearn: 1261.1497422\ttotal: 1.58s\tremaining: 44.8s\n",
      "34:\tlearn: 1257.7041273\ttotal: 1.61s\tremaining: 44.5s\n",
      "35:\tlearn: 1256.1433803\ttotal: 1.66s\tremaining: 44.5s\n",
      "36:\tlearn: 1251.5091069\ttotal: 1.72s\tremaining: 44.7s\n",
      "37:\tlearn: 1248.3860991\ttotal: 1.77s\tremaining: 44.8s\n",
      "38:\tlearn: 1245.2890213\ttotal: 1.84s\tremaining: 45.3s\n",
      "39:\tlearn: 1241.7594689\ttotal: 1.91s\tremaining: 45.9s\n",
      "40:\tlearn: 1236.8749911\ttotal: 1.97s\tremaining: 46.1s\n",
      "41:\tlearn: 1232.7044099\ttotal: 2.01s\tremaining: 45.8s\n",
      "42:\tlearn: 1228.5128673\ttotal: 2.06s\tremaining: 45.8s\n",
      "43:\tlearn: 1225.8263123\ttotal: 2.1s\tremaining: 45.6s\n",
      "44:\tlearn: 1223.1005164\ttotal: 2.14s\tremaining: 45.5s\n",
      "45:\tlearn: 1220.2459046\ttotal: 2.19s\tremaining: 45.4s\n",
      "46:\tlearn: 1216.6222691\ttotal: 2.23s\tremaining: 45.2s\n",
      "47:\tlearn: 1213.3813245\ttotal: 2.28s\tremaining: 45.2s\n",
      "48:\tlearn: 1210.0889968\ttotal: 2.33s\tremaining: 45.2s\n",
      "49:\tlearn: 1208.0317191\ttotal: 2.38s\tremaining: 45.2s\n",
      "50:\tlearn: 1205.4444706\ttotal: 2.42s\tremaining: 45s\n",
      "51:\tlearn: 1201.5141015\ttotal: 2.46s\tremaining: 45s\n",
      "52:\tlearn: 1199.3940221\ttotal: 2.51s\tremaining: 44.8s\n",
      "53:\tlearn: 1197.7193660\ttotal: 2.55s\tremaining: 44.7s\n",
      "54:\tlearn: 1194.8834414\ttotal: 2.59s\tremaining: 44.5s\n",
      "55:\tlearn: 1191.3356647\ttotal: 2.63s\tremaining: 44.3s\n",
      "56:\tlearn: 1189.1187711\ttotal: 2.67s\tremaining: 44.2s\n",
      "57:\tlearn: 1186.6026739\ttotal: 2.71s\tremaining: 44.1s\n",
      "58:\tlearn: 1184.3901686\ttotal: 2.76s\tremaining: 44s\n",
      "59:\tlearn: 1182.6699173\ttotal: 2.8s\tremaining: 43.9s\n",
      "60:\tlearn: 1179.6128498\ttotal: 2.85s\tremaining: 43.8s\n",
      "61:\tlearn: 1176.7581574\ttotal: 2.88s\tremaining: 43.7s\n",
      "62:\tlearn: 1174.6274933\ttotal: 2.93s\tremaining: 43.6s\n",
      "63:\tlearn: 1172.9697215\ttotal: 2.97s\tremaining: 43.5s\n",
      "64:\tlearn: 1171.8946682\ttotal: 3.02s\tremaining: 43.4s\n",
      "65:\tlearn: 1169.9473647\ttotal: 3.06s\tremaining: 43.3s\n",
      "66:\tlearn: 1167.7698231\ttotal: 3.1s\tremaining: 43.2s\n",
      "67:\tlearn: 1165.1995225\ttotal: 3.15s\tremaining: 43.2s\n",
      "68:\tlearn: 1163.1208302\ttotal: 3.19s\tremaining: 43.1s\n",
      "69:\tlearn: 1160.6969479\ttotal: 3.24s\tremaining: 43.1s\n",
      "70:\tlearn: 1158.6309332\ttotal: 3.28s\tremaining: 42.9s\n",
      "71:\tlearn: 1156.4943712\ttotal: 3.33s\tremaining: 42.9s\n",
      "72:\tlearn: 1153.3253922\ttotal: 3.38s\tremaining: 42.9s\n",
      "73:\tlearn: 1151.6574141\ttotal: 3.42s\tremaining: 42.9s\n",
      "74:\tlearn: 1149.5195378\ttotal: 3.46s\tremaining: 42.7s\n",
      "75:\tlearn: 1147.9647460\ttotal: 3.53s\tremaining: 42.9s\n",
      "76:\tlearn: 1145.7996204\ttotal: 3.59s\tremaining: 43s\n",
      "77:\tlearn: 1144.1718208\ttotal: 3.64s\tremaining: 43s\n",
      "78:\tlearn: 1142.7104399\ttotal: 3.68s\tremaining: 42.9s\n",
      "79:\tlearn: 1140.8163852\ttotal: 3.73s\tremaining: 42.9s\n",
      "80:\tlearn: 1139.7216368\ttotal: 3.78s\tremaining: 42.9s\n",
      "81:\tlearn: 1137.6706683\ttotal: 3.83s\tremaining: 42.8s\n",
      "82:\tlearn: 1136.8160725\ttotal: 3.87s\tremaining: 42.7s\n",
      "83:\tlearn: 1135.3494664\ttotal: 3.91s\tremaining: 42.6s\n",
      "84:\tlearn: 1134.0653471\ttotal: 3.95s\tremaining: 42.6s\n",
      "85:\tlearn: 1132.4793189\ttotal: 3.99s\tremaining: 42.5s\n",
      "86:\tlearn: 1130.4926093\ttotal: 4.04s\tremaining: 42.4s\n",
      "87:\tlearn: 1128.5591197\ttotal: 4.08s\tremaining: 42.3s\n",
      "88:\tlearn: 1126.7794826\ttotal: 4.13s\tremaining: 42.2s\n",
      "89:\tlearn: 1125.7948760\ttotal: 4.18s\tremaining: 42.3s\n",
      "90:\tlearn: 1124.4058362\ttotal: 4.24s\tremaining: 42.3s\n",
      "91:\tlearn: 1123.5077049\ttotal: 4.29s\tremaining: 42.4s\n",
      "92:\tlearn: 1121.8948741\ttotal: 4.34s\tremaining: 42.4s\n",
      "93:\tlearn: 1120.5062234\ttotal: 4.4s\tremaining: 42.4s\n",
      "94:\tlearn: 1118.9557857\ttotal: 4.47s\tremaining: 42.6s\n",
      "95:\tlearn: 1117.3862262\ttotal: 4.52s\tremaining: 42.6s\n",
      "96:\tlearn: 1116.1840711\ttotal: 4.56s\tremaining: 42.4s\n",
      "97:\tlearn: 1115.1505537\ttotal: 4.6s\tremaining: 42.4s\n",
      "98:\tlearn: 1113.8213233\ttotal: 4.64s\tremaining: 42.3s\n",
      "99:\tlearn: 1112.1678316\ttotal: 4.69s\tremaining: 42.2s\n",
      "100:\tlearn: 1110.9921277\ttotal: 4.73s\tremaining: 42.1s\n",
      "101:\tlearn: 1109.3153867\ttotal: 4.77s\tremaining: 42s\n",
      "102:\tlearn: 1107.7497853\ttotal: 4.82s\tremaining: 42s\n",
      "103:\tlearn: 1106.9742314\ttotal: 4.86s\tremaining: 41.9s\n",
      "104:\tlearn: 1106.0662107\ttotal: 4.91s\tremaining: 41.8s\n",
      "105:\tlearn: 1104.7247444\ttotal: 4.95s\tremaining: 41.7s\n",
      "106:\tlearn: 1103.6113829\ttotal: 4.99s\tremaining: 41.7s\n",
      "107:\tlearn: 1101.5264311\ttotal: 5.04s\tremaining: 41.6s\n",
      "108:\tlearn: 1100.3647336\ttotal: 5.08s\tremaining: 41.5s\n",
      "109:\tlearn: 1099.4398239\ttotal: 5.12s\tremaining: 41.4s\n",
      "110:\tlearn: 1097.5589810\ttotal: 5.16s\tremaining: 41.3s\n",
      "111:\tlearn: 1096.8246221\ttotal: 5.21s\tremaining: 41.3s\n",
      "112:\tlearn: 1095.3982521\ttotal: 5.25s\tremaining: 41.2s\n",
      "113:\tlearn: 1094.0653188\ttotal: 5.29s\tremaining: 41.2s\n",
      "114:\tlearn: 1093.3383147\ttotal: 5.33s\tremaining: 41.1s\n",
      "115:\tlearn: 1092.5559996\ttotal: 5.38s\tremaining: 41s\n",
      "116:\tlearn: 1091.6374994\ttotal: 5.43s\tremaining: 41s\n",
      "117:\tlearn: 1091.1272622\ttotal: 5.48s\tremaining: 40.9s\n",
      "118:\tlearn: 1089.3383159\ttotal: 5.51s\tremaining: 40.8s\n",
      "119:\tlearn: 1088.4057204\ttotal: 5.55s\tremaining: 40.7s\n",
      "120:\tlearn: 1087.4368546\ttotal: 5.59s\tremaining: 40.6s\n",
      "121:\tlearn: 1086.3773219\ttotal: 5.63s\tremaining: 40.6s\n",
      "122:\tlearn: 1085.7771270\ttotal: 5.68s\tremaining: 40.5s\n",
      "123:\tlearn: 1084.7183153\ttotal: 5.72s\tremaining: 40.4s\n",
      "124:\tlearn: 1083.4499130\ttotal: 5.77s\tremaining: 40.4s\n",
      "125:\tlearn: 1082.2687919\ttotal: 5.81s\tremaining: 40.3s\n",
      "126:\tlearn: 1081.7854053\ttotal: 5.85s\tremaining: 40.2s\n",
      "127:\tlearn: 1080.9035604\ttotal: 5.89s\tremaining: 40.1s\n",
      "128:\tlearn: 1080.2662883\ttotal: 5.93s\tremaining: 40s\n",
      "129:\tlearn: 1078.9376551\ttotal: 5.97s\tremaining: 40s\n",
      "130:\tlearn: 1077.6787028\ttotal: 6.01s\tremaining: 39.9s\n",
      "131:\tlearn: 1076.2662004\ttotal: 6.06s\tremaining: 39.9s\n",
      "132:\tlearn: 1075.1462326\ttotal: 6.11s\tremaining: 39.8s\n",
      "133:\tlearn: 1073.1714705\ttotal: 6.15s\tremaining: 39.8s\n",
      "134:\tlearn: 1070.7226914\ttotal: 6.19s\tremaining: 39.7s\n",
      "135:\tlearn: 1070.0340276\ttotal: 6.24s\tremaining: 39.6s\n",
      "136:\tlearn: 1069.3262553\ttotal: 6.28s\tremaining: 39.6s\n",
      "137:\tlearn: 1068.2775181\ttotal: 6.33s\tremaining: 39.6s\n",
      "138:\tlearn: 1067.2698164\ttotal: 6.38s\tremaining: 39.5s\n",
      "139:\tlearn: 1066.2242515\ttotal: 6.42s\tremaining: 39.4s\n",
      "140:\tlearn: 1064.9457844\ttotal: 6.46s\tremaining: 39.4s\n",
      "141:\tlearn: 1063.9974835\ttotal: 6.5s\tremaining: 39.3s\n",
      "142:\tlearn: 1062.7183961\ttotal: 6.55s\tremaining: 39.3s\n",
      "143:\tlearn: 1062.0011043\ttotal: 6.59s\tremaining: 39.2s\n",
      "144:\tlearn: 1060.9542412\ttotal: 6.64s\tremaining: 39.1s\n",
      "145:\tlearn: 1059.9637173\ttotal: 6.68s\tremaining: 39.1s\n",
      "146:\tlearn: 1059.1900984\ttotal: 6.72s\tremaining: 39s\n",
      "147:\tlearn: 1056.9936973\ttotal: 6.77s\tremaining: 39s\n",
      "148:\tlearn: 1055.9432594\ttotal: 6.81s\tremaining: 38.9s\n",
      "149:\tlearn: 1055.2556517\ttotal: 6.85s\tremaining: 38.8s\n",
      "150:\tlearn: 1054.3277299\ttotal: 6.9s\tremaining: 38.8s\n",
      "151:\tlearn: 1053.6685578\ttotal: 6.95s\tremaining: 38.7s\n",
      "152:\tlearn: 1053.2300760\ttotal: 6.99s\tremaining: 38.7s\n",
      "153:\tlearn: 1052.6276689\ttotal: 7.03s\tremaining: 38.6s\n",
      "154:\tlearn: 1051.6770562\ttotal: 7.07s\tremaining: 38.6s\n",
      "155:\tlearn: 1051.3030838\ttotal: 7.12s\tremaining: 38.5s\n",
      "156:\tlearn: 1050.5357068\ttotal: 7.16s\tremaining: 38.5s\n",
      "157:\tlearn: 1049.3797593\ttotal: 7.2s\tremaining: 38.4s\n",
      "158:\tlearn: 1048.0207135\ttotal: 7.25s\tremaining: 38.3s\n",
      "159:\tlearn: 1047.4850461\ttotal: 7.29s\tremaining: 38.3s\n",
      "160:\tlearn: 1046.9183409\ttotal: 7.34s\tremaining: 38.2s\n",
      "161:\tlearn: 1045.3913689\ttotal: 7.38s\tremaining: 38.2s\n",
      "162:\tlearn: 1044.8331555\ttotal: 7.43s\tremaining: 38.1s\n",
      "163:\tlearn: 1044.2259893\ttotal: 7.47s\tremaining: 38.1s\n",
      "164:\tlearn: 1043.0496830\ttotal: 7.51s\tremaining: 38s\n",
      "165:\tlearn: 1042.3591688\ttotal: 7.55s\tremaining: 38s\n",
      "166:\tlearn: 1041.2949154\ttotal: 7.59s\tremaining: 37.9s\n",
      "167:\tlearn: 1040.5295053\ttotal: 7.64s\tremaining: 37.8s\n",
      "168:\tlearn: 1039.7656878\ttotal: 7.68s\tremaining: 37.8s\n",
      "169:\tlearn: 1038.9190379\ttotal: 7.73s\tremaining: 37.7s\n",
      "170:\tlearn: 1037.6630689\ttotal: 7.77s\tremaining: 37.7s\n",
      "171:\tlearn: 1036.7513707\ttotal: 7.82s\tremaining: 37.6s\n",
      "172:\tlearn: 1036.2584406\ttotal: 7.86s\tremaining: 37.6s\n",
      "173:\tlearn: 1035.8365698\ttotal: 7.9s\tremaining: 37.5s\n",
      "174:\tlearn: 1034.3349742\ttotal: 7.94s\tremaining: 37.4s\n",
      "175:\tlearn: 1033.6150598\ttotal: 7.99s\tremaining: 37.4s\n",
      "176:\tlearn: 1032.8606238\ttotal: 8.04s\tremaining: 37.4s\n",
      "177:\tlearn: 1031.4394642\ttotal: 8.08s\tremaining: 37.3s\n",
      "178:\tlearn: 1030.9109503\ttotal: 8.12s\tremaining: 37.3s\n",
      "179:\tlearn: 1030.2892512\ttotal: 8.16s\tremaining: 37.2s\n",
      "180:\tlearn: 1029.4229500\ttotal: 8.21s\tremaining: 37.2s\n",
      "181:\tlearn: 1028.1573831\ttotal: 8.26s\tremaining: 37.1s\n",
      "182:\tlearn: 1027.7111758\ttotal: 8.3s\tremaining: 37.1s\n",
      "183:\tlearn: 1026.9108592\ttotal: 8.34s\tremaining: 37s\n",
      "184:\tlearn: 1026.3366659\ttotal: 8.38s\tremaining: 36.9s\n",
      "185:\tlearn: 1025.5481765\ttotal: 8.43s\tremaining: 36.9s\n",
      "186:\tlearn: 1024.8799899\ttotal: 8.48s\tremaining: 36.9s\n",
      "187:\tlearn: 1024.3736521\ttotal: 8.52s\tremaining: 36.8s\n",
      "188:\tlearn: 1023.7172423\ttotal: 8.56s\tremaining: 36.7s\n",
      "189:\tlearn: 1022.8912303\ttotal: 8.61s\tremaining: 36.7s\n",
      "190:\tlearn: 1022.2283678\ttotal: 8.65s\tremaining: 36.6s\n",
      "191:\tlearn: 1021.7936485\ttotal: 8.69s\tremaining: 36.6s\n",
      "192:\tlearn: 1020.6481545\ttotal: 8.73s\tremaining: 36.5s\n",
      "193:\tlearn: 1019.7990879\ttotal: 8.77s\tremaining: 36.4s\n",
      "194:\tlearn: 1018.9762870\ttotal: 8.81s\tremaining: 36.4s\n",
      "195:\tlearn: 1018.4049689\ttotal: 8.85s\tremaining: 36.3s\n",
      "196:\tlearn: 1017.8146097\ttotal: 8.9s\tremaining: 36.3s\n",
      "197:\tlearn: 1017.3553381\ttotal: 8.94s\tremaining: 36.2s\n",
      "198:\tlearn: 1017.0291614\ttotal: 8.98s\tremaining: 36.1s\n",
      "199:\tlearn: 1016.1292507\ttotal: 9.02s\tremaining: 36.1s\n",
      "200:\tlearn: 1015.2169203\ttotal: 9.06s\tremaining: 36s\n",
      "201:\tlearn: 1014.7640869\ttotal: 9.11s\tremaining: 36s\n",
      "202:\tlearn: 1014.1937847\ttotal: 9.15s\tremaining: 35.9s\n",
      "203:\tlearn: 1013.2786091\ttotal: 9.2s\tremaining: 35.9s\n",
      "204:\tlearn: 1012.4978537\ttotal: 9.23s\tremaining: 35.8s\n",
      "205:\tlearn: 1011.7706525\ttotal: 9.28s\tremaining: 35.8s\n",
      "206:\tlearn: 1011.2293781\ttotal: 9.32s\tremaining: 35.7s\n",
      "207:\tlearn: 1010.5435865\ttotal: 9.36s\tremaining: 35.6s\n",
      "208:\tlearn: 1010.1503290\ttotal: 9.4s\tremaining: 35.6s\n",
      "209:\tlearn: 1009.7290379\ttotal: 9.44s\tremaining: 35.5s\n",
      "210:\tlearn: 1009.0748740\ttotal: 9.49s\tremaining: 35.5s\n",
      "211:\tlearn: 1008.7109300\ttotal: 9.53s\tremaining: 35.4s\n",
      "212:\tlearn: 1007.8971991\ttotal: 9.58s\tremaining: 35.4s\n",
      "213:\tlearn: 1007.4591654\ttotal: 9.63s\tremaining: 35.4s\n",
      "214:\tlearn: 1007.0394169\ttotal: 9.68s\tremaining: 35.4s\n",
      "215:\tlearn: 1006.4206287\ttotal: 9.73s\tremaining: 35.3s\n",
      "216:\tlearn: 1005.7986764\ttotal: 9.78s\tremaining: 35.3s\n",
      "217:\tlearn: 1005.3047313\ttotal: 9.82s\tremaining: 35.2s\n",
      "218:\tlearn: 1004.7514726\ttotal: 9.86s\tremaining: 35.2s\n",
      "219:\tlearn: 1003.8624977\ttotal: 9.9s\tremaining: 35.1s\n",
      "220:\tlearn: 1003.4744213\ttotal: 9.94s\tremaining: 35s\n",
      "221:\tlearn: 1003.1379684\ttotal: 9.99s\tremaining: 35s\n",
      "222:\tlearn: 1002.7534583\ttotal: 10s\tremaining: 35s\n",
      "223:\tlearn: 1002.3094321\ttotal: 10.1s\tremaining: 34.9s\n",
      "224:\tlearn: 1001.6908139\ttotal: 10.1s\tremaining: 34.9s\n",
      "225:\tlearn: 1000.6703544\ttotal: 10.2s\tremaining: 34.8s\n",
      "226:\tlearn: 1000.0720778\ttotal: 10.2s\tremaining: 34.8s\n",
      "227:\tlearn: 999.3822805\ttotal: 10.3s\tremaining: 34.7s\n",
      "228:\tlearn: 999.0622193\ttotal: 10.3s\tremaining: 34.7s\n",
      "229:\tlearn: 998.5370770\ttotal: 10.3s\tremaining: 34.6s\n",
      "230:\tlearn: 998.0611581\ttotal: 10.4s\tremaining: 34.6s\n",
      "231:\tlearn: 997.6045923\ttotal: 10.4s\tremaining: 34.5s\n",
      "232:\tlearn: 996.6002647\ttotal: 10.5s\tremaining: 34.5s\n",
      "233:\tlearn: 995.9670840\ttotal: 10.5s\tremaining: 34.4s\n",
      "234:\tlearn: 995.3242908\ttotal: 10.6s\tremaining: 34.4s\n",
      "235:\tlearn: 994.9400693\ttotal: 10.6s\tremaining: 34.4s\n",
      "236:\tlearn: 994.4522233\ttotal: 10.7s\tremaining: 34.3s\n",
      "237:\tlearn: 993.8845186\ttotal: 10.7s\tremaining: 34.3s\n",
      "238:\tlearn: 993.5747372\ttotal: 10.8s\tremaining: 34.2s\n",
      "239:\tlearn: 993.2049455\ttotal: 10.8s\tremaining: 34.2s\n",
      "240:\tlearn: 992.8899378\ttotal: 10.9s\tremaining: 34.2s\n",
      "241:\tlearn: 991.8066666\ttotal: 10.9s\tremaining: 34.1s\n",
      "242:\tlearn: 991.2649147\ttotal: 10.9s\tremaining: 34.1s\n",
      "243:\tlearn: 990.4772782\ttotal: 11s\tremaining: 34s\n",
      "244:\tlearn: 989.9925700\ttotal: 11s\tremaining: 34s\n",
      "245:\tlearn: 989.4143666\ttotal: 11.1s\tremaining: 33.9s\n",
      "246:\tlearn: 987.9420823\ttotal: 11.1s\tremaining: 33.9s\n",
      "247:\tlearn: 987.4916675\ttotal: 11.2s\tremaining: 33.8s\n",
      "248:\tlearn: 987.1085111\ttotal: 11.2s\tremaining: 33.8s\n",
      "249:\tlearn: 986.4143563\ttotal: 11.2s\tremaining: 33.7s\n",
      "250:\tlearn: 986.0662413\ttotal: 11.3s\tremaining: 33.7s\n",
      "251:\tlearn: 985.6775214\ttotal: 11.3s\tremaining: 33.6s\n",
      "252:\tlearn: 984.9859552\ttotal: 11.4s\tremaining: 33.6s\n",
      "253:\tlearn: 984.3530083\ttotal: 11.4s\tremaining: 33.5s\n",
      "254:\tlearn: 983.8730813\ttotal: 11.5s\tremaining: 33.5s\n",
      "255:\tlearn: 983.3676214\ttotal: 11.5s\tremaining: 33.4s\n",
      "256:\tlearn: 982.7984173\ttotal: 11.6s\tremaining: 33.4s\n",
      "257:\tlearn: 982.4352727\ttotal: 11.6s\tremaining: 33.4s\n",
      "258:\tlearn: 981.9073603\ttotal: 11.6s\tremaining: 33.3s\n",
      "259:\tlearn: 981.2537923\ttotal: 11.7s\tremaining: 33.3s\n",
      "260:\tlearn: 980.4931879\ttotal: 11.8s\tremaining: 33.3s\n",
      "261:\tlearn: 980.1657904\ttotal: 11.9s\tremaining: 33.4s\n",
      "262:\tlearn: 979.7001732\ttotal: 11.9s\tremaining: 33.5s\n",
      "263:\tlearn: 978.9808613\ttotal: 12s\tremaining: 33.4s\n",
      "264:\tlearn: 978.5536802\ttotal: 12s\tremaining: 33.4s\n",
      "265:\tlearn: 978.1877872\ttotal: 12.1s\tremaining: 33.3s\n",
      "266:\tlearn: 977.7440439\ttotal: 12.1s\tremaining: 33.3s\n",
      "267:\tlearn: 977.3473858\ttotal: 12.2s\tremaining: 33.2s\n",
      "268:\tlearn: 976.7743042\ttotal: 12.2s\tremaining: 33.1s\n",
      "269:\tlearn: 976.1272781\ttotal: 12.2s\tremaining: 33.1s\n",
      "270:\tlearn: 975.5251872\ttotal: 12.3s\tremaining: 33s\n",
      "271:\tlearn: 975.2029222\ttotal: 12.3s\tremaining: 33s\n",
      "272:\tlearn: 974.8981584\ttotal: 12.4s\tremaining: 32.9s\n",
      "273:\tlearn: 974.2335837\ttotal: 12.4s\tremaining: 33s\n",
      "274:\tlearn: 973.8705755\ttotal: 12.5s\tremaining: 33.1s\n",
      "275:\tlearn: 973.3109039\ttotal: 12.6s\tremaining: 33.1s\n",
      "276:\tlearn: 972.9934725\ttotal: 12.7s\tremaining: 33s\n",
      "277:\tlearn: 972.2730935\ttotal: 12.7s\tremaining: 33.1s\n",
      "278:\tlearn: 972.0909634\ttotal: 12.8s\tremaining: 33s\n",
      "279:\tlearn: 971.6065342\ttotal: 12.8s\tremaining: 33s\n",
      "280:\tlearn: 971.2090598\ttotal: 12.9s\tremaining: 32.9s\n",
      "281:\tlearn: 970.5574542\ttotal: 12.9s\tremaining: 32.9s\n",
      "282:\tlearn: 969.8614279\ttotal: 12.9s\tremaining: 32.8s\n",
      "283:\tlearn: 969.4805885\ttotal: 13s\tremaining: 32.7s\n",
      "284:\tlearn: 968.6672480\ttotal: 13s\tremaining: 32.7s\n",
      "285:\tlearn: 968.3322006\ttotal: 13.1s\tremaining: 32.6s\n",
      "286:\tlearn: 967.9347502\ttotal: 13.1s\tremaining: 32.6s\n",
      "287:\tlearn: 967.0483931\ttotal: 13.2s\tremaining: 32.6s\n",
      "288:\tlearn: 966.5026499\ttotal: 13.2s\tremaining: 32.5s\n",
      "289:\tlearn: 965.8393534\ttotal: 13.3s\tremaining: 32.5s\n",
      "290:\tlearn: 965.6098605\ttotal: 13.3s\tremaining: 32.4s\n",
      "291:\tlearn: 964.6885161\ttotal: 13.3s\tremaining: 32.4s\n",
      "292:\tlearn: 964.2178159\ttotal: 13.4s\tremaining: 32.3s\n",
      "293:\tlearn: 963.8028597\ttotal: 13.4s\tremaining: 32.3s\n",
      "294:\tlearn: 963.3889413\ttotal: 13.5s\tremaining: 32.2s\n",
      "295:\tlearn: 963.3067411\ttotal: 13.5s\tremaining: 32.2s\n",
      "296:\tlearn: 963.0475376\ttotal: 13.6s\tremaining: 32.2s\n",
      "297:\tlearn: 962.7658207\ttotal: 13.6s\tremaining: 32.1s\n",
      "298:\tlearn: 962.1654623\ttotal: 13.7s\tremaining: 32.1s\n",
      "299:\tlearn: 961.8013851\ttotal: 13.7s\tremaining: 32s\n",
      "300:\tlearn: 961.5054662\ttotal: 13.8s\tremaining: 32s\n",
      "301:\tlearn: 961.2186709\ttotal: 13.8s\tremaining: 31.9s\n",
      "302:\tlearn: 960.6783549\ttotal: 13.8s\tremaining: 31.9s\n",
      "303:\tlearn: 960.0543019\ttotal: 13.9s\tremaining: 31.8s\n",
      "304:\tlearn: 959.6165173\ttotal: 13.9s\tremaining: 31.8s\n",
      "305:\tlearn: 959.1798448\ttotal: 14s\tremaining: 31.7s\n",
      "306:\tlearn: 958.6604053\ttotal: 14s\tremaining: 31.7s\n",
      "307:\tlearn: 958.2990035\ttotal: 14.1s\tremaining: 31.6s\n",
      "308:\tlearn: 957.7562479\ttotal: 14.1s\tremaining: 31.6s\n",
      "309:\tlearn: 957.2516177\ttotal: 14.2s\tremaining: 31.6s\n",
      "310:\tlearn: 956.9749630\ttotal: 14.2s\tremaining: 31.5s\n",
      "311:\tlearn: 956.6115152\ttotal: 14.3s\tremaining: 31.5s\n",
      "312:\tlearn: 956.3502339\ttotal: 14.3s\tremaining: 31.4s\n",
      "313:\tlearn: 955.9294736\ttotal: 14.4s\tremaining: 31.4s\n",
      "314:\tlearn: 955.4679192\ttotal: 14.4s\tremaining: 31.3s\n",
      "315:\tlearn: 955.1976785\ttotal: 14.4s\tremaining: 31.3s\n",
      "316:\tlearn: 954.6958312\ttotal: 14.5s\tremaining: 31.2s\n",
      "317:\tlearn: 954.4339836\ttotal: 14.5s\tremaining: 31.2s\n",
      "318:\tlearn: 954.1577893\ttotal: 14.6s\tremaining: 31.1s\n",
      "319:\tlearn: 953.8207726\ttotal: 14.6s\tremaining: 31.1s\n",
      "320:\tlearn: 953.3112241\ttotal: 14.7s\tremaining: 31s\n",
      "321:\tlearn: 953.0792007\ttotal: 14.7s\tremaining: 31s\n",
      "322:\tlearn: 952.7227462\ttotal: 14.7s\tremaining: 30.9s\n",
      "323:\tlearn: 952.5433295\ttotal: 14.8s\tremaining: 30.9s\n",
      "324:\tlearn: 951.7903678\ttotal: 14.8s\tremaining: 30.8s\n",
      "325:\tlearn: 951.3069244\ttotal: 14.9s\tremaining: 30.8s\n",
      "326:\tlearn: 950.6575143\ttotal: 14.9s\tremaining: 30.7s\n",
      "327:\tlearn: 950.4526161\ttotal: 15s\tremaining: 30.6s\n",
      "328:\tlearn: 950.1208505\ttotal: 15s\tremaining: 30.6s\n",
      "329:\tlearn: 949.5186806\ttotal: 15s\tremaining: 30.5s\n",
      "330:\tlearn: 949.2710823\ttotal: 15.1s\tremaining: 30.5s\n",
      "331:\tlearn: 948.9324720\ttotal: 15.1s\tremaining: 30.4s\n",
      "332:\tlearn: 948.5028031\ttotal: 15.2s\tremaining: 30.4s\n",
      "333:\tlearn: 947.7352124\ttotal: 15.2s\tremaining: 30.3s\n",
      "334:\tlearn: 947.3694072\ttotal: 15.3s\tremaining: 30.3s\n",
      "335:\tlearn: 947.1753965\ttotal: 15.3s\tremaining: 30.2s\n",
      "336:\tlearn: 946.8832978\ttotal: 15.3s\tremaining: 30.2s\n",
      "337:\tlearn: 946.4201452\ttotal: 15.4s\tremaining: 30.1s\n",
      "338:\tlearn: 946.1018173\ttotal: 15.4s\tremaining: 30.1s\n",
      "339:\tlearn: 945.7863064\ttotal: 15.5s\tremaining: 30s\n",
      "340:\tlearn: 945.2894386\ttotal: 15.5s\tremaining: 30s\n",
      "341:\tlearn: 944.9005596\ttotal: 15.6s\tremaining: 29.9s\n",
      "342:\tlearn: 944.2811440\ttotal: 15.6s\tremaining: 29.9s\n",
      "343:\tlearn: 943.9801430\ttotal: 15.7s\tremaining: 29.9s\n",
      "344:\tlearn: 943.6725384\ttotal: 15.7s\tremaining: 29.8s\n",
      "345:\tlearn: 943.4456531\ttotal: 15.7s\tremaining: 29.8s\n",
      "346:\tlearn: 943.2863187\ttotal: 15.8s\tremaining: 29.7s\n",
      "347:\tlearn: 942.6936103\ttotal: 15.8s\tremaining: 29.6s\n",
      "348:\tlearn: 942.3475214\ttotal: 15.9s\tremaining: 29.6s\n",
      "349:\tlearn: 942.0589975\ttotal: 15.9s\tremaining: 29.5s\n",
      "350:\tlearn: 941.7379983\ttotal: 16s\tremaining: 29.5s\n",
      "351:\tlearn: 941.2669459\ttotal: 16s\tremaining: 29.5s\n",
      "352:\tlearn: 941.0835408\ttotal: 16s\tremaining: 29.4s\n",
      "353:\tlearn: 940.7177316\ttotal: 16.1s\tremaining: 29.4s\n",
      "354:\tlearn: 940.2193571\ttotal: 16.1s\tremaining: 29.3s\n",
      "355:\tlearn: 940.0746695\ttotal: 16.2s\tremaining: 29.3s\n",
      "356:\tlearn: 939.8696714\ttotal: 16.2s\tremaining: 29.2s\n",
      "357:\tlearn: 939.6416945\ttotal: 16.3s\tremaining: 29.2s\n",
      "358:\tlearn: 939.1845212\ttotal: 16.3s\tremaining: 29.1s\n",
      "359:\tlearn: 938.7565132\ttotal: 16.4s\tremaining: 29.1s\n",
      "360:\tlearn: 938.4560346\ttotal: 16.4s\tremaining: 29s\n",
      "361:\tlearn: 938.1999228\ttotal: 16.4s\tremaining: 29s\n",
      "362:\tlearn: 938.0075533\ttotal: 16.5s\tremaining: 28.9s\n",
      "363:\tlearn: 937.6285272\ttotal: 16.5s\tremaining: 28.9s\n",
      "364:\tlearn: 936.7852314\ttotal: 16.6s\tremaining: 28.8s\n",
      "365:\tlearn: 936.4251438\ttotal: 16.6s\tremaining: 28.8s\n",
      "366:\tlearn: 936.3194581\ttotal: 16.7s\tremaining: 28.8s\n",
      "367:\tlearn: 935.7301955\ttotal: 16.7s\tremaining: 28.7s\n",
      "368:\tlearn: 935.4727356\ttotal: 16.8s\tremaining: 28.7s\n",
      "369:\tlearn: 935.2530007\ttotal: 16.8s\tremaining: 28.6s\n",
      "370:\tlearn: 934.4499683\ttotal: 16.8s\tremaining: 28.6s\n",
      "371:\tlearn: 934.2140080\ttotal: 16.9s\tremaining: 28.5s\n",
      "372:\tlearn: 933.7482878\ttotal: 16.9s\tremaining: 28.5s\n",
      "373:\tlearn: 933.5760556\ttotal: 17s\tremaining: 28.4s\n",
      "374:\tlearn: 933.2993790\ttotal: 17s\tremaining: 28.4s\n",
      "375:\tlearn: 932.8600394\ttotal: 17.1s\tremaining: 28.3s\n",
      "376:\tlearn: 932.6623828\ttotal: 17.1s\tremaining: 28.3s\n",
      "377:\tlearn: 932.3693622\ttotal: 17.1s\tremaining: 28.2s\n",
      "378:\tlearn: 932.0339943\ttotal: 17.2s\tremaining: 28.2s\n",
      "379:\tlearn: 931.8270819\ttotal: 17.2s\tremaining: 28.1s\n",
      "380:\tlearn: 931.1479483\ttotal: 17.3s\tremaining: 28.1s\n",
      "381:\tlearn: 930.9777454\ttotal: 17.3s\tremaining: 28s\n",
      "382:\tlearn: 930.5261022\ttotal: 17.4s\tremaining: 28s\n",
      "383:\tlearn: 930.1246697\ttotal: 17.4s\tremaining: 27.9s\n",
      "384:\tlearn: 929.8331948\ttotal: 17.5s\tremaining: 27.9s\n",
      "385:\tlearn: 929.4200800\ttotal: 17.5s\tremaining: 27.8s\n",
      "386:\tlearn: 929.0568231\ttotal: 17.5s\tremaining: 27.8s\n",
      "387:\tlearn: 928.6486508\ttotal: 17.6s\tremaining: 27.7s\n",
      "388:\tlearn: 928.3467480\ttotal: 17.6s\tremaining: 27.7s\n",
      "389:\tlearn: 928.1131797\ttotal: 17.7s\tremaining: 27.6s\n",
      "390:\tlearn: 927.5977165\ttotal: 17.7s\tremaining: 27.6s\n",
      "391:\tlearn: 927.3209937\ttotal: 17.8s\tremaining: 27.6s\n",
      "392:\tlearn: 926.9124372\ttotal: 17.8s\tremaining: 27.5s\n",
      "393:\tlearn: 926.8036233\ttotal: 17.9s\tremaining: 27.5s\n",
      "394:\tlearn: 926.4080115\ttotal: 17.9s\tremaining: 27.4s\n",
      "395:\tlearn: 926.1430363\ttotal: 17.9s\tremaining: 27.4s\n",
      "396:\tlearn: 925.6198011\ttotal: 18s\tremaining: 27.3s\n",
      "397:\tlearn: 925.2998185\ttotal: 18s\tremaining: 27.3s\n",
      "398:\tlearn: 925.2075087\ttotal: 18.1s\tremaining: 27.2s\n",
      "399:\tlearn: 924.6481585\ttotal: 18.1s\tremaining: 27.2s\n",
      "400:\tlearn: 924.4422949\ttotal: 18.2s\tremaining: 27.1s\n",
      "401:\tlearn: 924.2262412\ttotal: 18.2s\tremaining: 27.1s\n",
      "402:\tlearn: 923.7484116\ttotal: 18.3s\tremaining: 27s\n",
      "403:\tlearn: 923.5045458\ttotal: 18.3s\tremaining: 27s\n",
      "404:\tlearn: 923.2643610\ttotal: 18.3s\tremaining: 26.9s\n",
      "405:\tlearn: 922.4368345\ttotal: 18.4s\tremaining: 26.9s\n",
      "406:\tlearn: 922.2201352\ttotal: 18.4s\tremaining: 26.9s\n",
      "407:\tlearn: 921.8636874\ttotal: 18.5s\tremaining: 26.8s\n",
      "408:\tlearn: 921.6595020\ttotal: 18.5s\tremaining: 26.8s\n",
      "409:\tlearn: 921.3706104\ttotal: 18.6s\tremaining: 26.7s\n",
      "410:\tlearn: 921.1988714\ttotal: 18.6s\tremaining: 26.7s\n",
      "411:\tlearn: 920.8168754\ttotal: 18.7s\tremaining: 26.6s\n",
      "412:\tlearn: 920.4652942\ttotal: 18.7s\tremaining: 26.6s\n",
      "413:\tlearn: 920.1448670\ttotal: 18.8s\tremaining: 26.6s\n",
      "414:\tlearn: 919.7924155\ttotal: 18.8s\tremaining: 26.5s\n",
      "415:\tlearn: 919.3318217\ttotal: 18.9s\tremaining: 26.5s\n",
      "416:\tlearn: 919.0498151\ttotal: 18.9s\tremaining: 26.4s\n",
      "417:\tlearn: 918.7731614\ttotal: 18.9s\tremaining: 26.4s\n",
      "418:\tlearn: 918.5676591\ttotal: 19s\tremaining: 26.3s\n",
      "419:\tlearn: 918.3531584\ttotal: 19s\tremaining: 26.3s\n",
      "420:\tlearn: 917.8131316\ttotal: 19.1s\tremaining: 26.2s\n",
      "421:\tlearn: 917.2992636\ttotal: 19.1s\tremaining: 26.2s\n",
      "422:\tlearn: 917.0391517\ttotal: 19.2s\tremaining: 26.2s\n",
      "423:\tlearn: 916.6813390\ttotal: 19.2s\tremaining: 26.1s\n",
      "424:\tlearn: 916.4891060\ttotal: 19.3s\tremaining: 26.1s\n",
      "425:\tlearn: 916.0547504\ttotal: 19.3s\tremaining: 26s\n",
      "426:\tlearn: 915.8857598\ttotal: 19.4s\tremaining: 26s\n",
      "427:\tlearn: 915.7140034\ttotal: 19.4s\tremaining: 25.9s\n",
      "428:\tlearn: 915.3679360\ttotal: 19.5s\tremaining: 25.9s\n",
      "429:\tlearn: 915.1977665\ttotal: 19.5s\tremaining: 25.9s\n",
      "430:\tlearn: 914.8604178\ttotal: 19.6s\tremaining: 25.8s\n",
      "431:\tlearn: 914.3810533\ttotal: 19.6s\tremaining: 25.8s\n",
      "432:\tlearn: 914.0038416\ttotal: 19.7s\tremaining: 25.7s\n",
      "433:\tlearn: 913.8704402\ttotal: 19.7s\tremaining: 25.7s\n",
      "434:\tlearn: 913.5977094\ttotal: 19.7s\tremaining: 25.7s\n",
      "435:\tlearn: 913.0174510\ttotal: 19.8s\tremaining: 25.6s\n",
      "436:\tlearn: 912.5003385\ttotal: 19.8s\tremaining: 25.6s\n",
      "437:\tlearn: 912.2594692\ttotal: 19.9s\tremaining: 25.5s\n",
      "438:\tlearn: 911.9962392\ttotal: 19.9s\tremaining: 25.5s\n",
      "439:\tlearn: 911.5461363\ttotal: 20s\tremaining: 25.4s\n",
      "440:\tlearn: 911.2955534\ttotal: 20s\tremaining: 25.4s\n",
      "441:\tlearn: 911.1326726\ttotal: 20.1s\tremaining: 25.3s\n",
      "442:\tlearn: 910.7614979\ttotal: 20.1s\tremaining: 25.3s\n",
      "443:\tlearn: 910.3525124\ttotal: 20.2s\tremaining: 25.2s\n",
      "444:\tlearn: 910.1728414\ttotal: 20.2s\tremaining: 25.2s\n",
      "445:\tlearn: 909.8274754\ttotal: 20.2s\tremaining: 25.1s\n",
      "446:\tlearn: 909.4725923\ttotal: 20.3s\tremaining: 25.1s\n",
      "447:\tlearn: 909.0495518\ttotal: 20.3s\tremaining: 25s\n",
      "448:\tlearn: 908.6686564\ttotal: 20.4s\tremaining: 25s\n",
      "449:\tlearn: 908.5080576\ttotal: 20.4s\tremaining: 24.9s\n",
      "450:\tlearn: 907.9482692\ttotal: 20.5s\tremaining: 24.9s\n",
      "451:\tlearn: 907.6844675\ttotal: 20.5s\tremaining: 24.9s\n",
      "452:\tlearn: 907.3860714\ttotal: 20.5s\tremaining: 24.8s\n",
      "453:\tlearn: 907.1565508\ttotal: 20.6s\tremaining: 24.8s\n",
      "454:\tlearn: 906.9535877\ttotal: 20.6s\tremaining: 24.7s\n",
      "455:\tlearn: 906.8399928\ttotal: 20.7s\tremaining: 24.7s\n",
      "456:\tlearn: 906.7342934\ttotal: 20.7s\tremaining: 24.6s\n",
      "457:\tlearn: 906.5246961\ttotal: 20.8s\tremaining: 24.6s\n",
      "458:\tlearn: 906.3689817\ttotal: 20.8s\tremaining: 24.5s\n",
      "459:\tlearn: 906.1305535\ttotal: 20.9s\tremaining: 24.5s\n",
      "460:\tlearn: 905.7343750\ttotal: 20.9s\tremaining: 24.5s\n",
      "461:\tlearn: 905.5836863\ttotal: 21s\tremaining: 24.4s\n",
      "462:\tlearn: 905.2917561\ttotal: 21s\tremaining: 24.4s\n",
      "463:\tlearn: 905.1113791\ttotal: 21.1s\tremaining: 24.3s\n",
      "464:\tlearn: 904.8264514\ttotal: 21.1s\tremaining: 24.3s\n",
      "465:\tlearn: 904.4150320\ttotal: 21.2s\tremaining: 24.2s\n",
      "466:\tlearn: 904.0552337\ttotal: 21.2s\tremaining: 24.2s\n",
      "467:\tlearn: 903.8167544\ttotal: 21.2s\tremaining: 24.1s\n",
      "468:\tlearn: 903.4955967\ttotal: 21.3s\tremaining: 24.1s\n",
      "469:\tlearn: 903.3075141\ttotal: 21.3s\tremaining: 24.1s\n",
      "470:\tlearn: 903.1232364\ttotal: 21.4s\tremaining: 24s\n",
      "471:\tlearn: 902.9536406\ttotal: 21.4s\tremaining: 24s\n",
      "472:\tlearn: 902.7084529\ttotal: 21.5s\tremaining: 23.9s\n",
      "473:\tlearn: 902.2398562\ttotal: 21.5s\tremaining: 23.9s\n",
      "474:\tlearn: 902.0642838\ttotal: 21.6s\tremaining: 23.8s\n",
      "475:\tlearn: 901.9410644\ttotal: 21.6s\tremaining: 23.8s\n",
      "476:\tlearn: 901.7048833\ttotal: 21.6s\tremaining: 23.7s\n",
      "477:\tlearn: 901.6418742\ttotal: 21.7s\tremaining: 23.7s\n",
      "478:\tlearn: 900.9217716\ttotal: 21.7s\tremaining: 23.6s\n",
      "479:\tlearn: 900.7654194\ttotal: 21.8s\tremaining: 23.6s\n",
      "480:\tlearn: 900.4799846\ttotal: 21.8s\tremaining: 23.6s\n",
      "481:\tlearn: 900.2489541\ttotal: 21.9s\tremaining: 23.5s\n",
      "482:\tlearn: 899.9833250\ttotal: 21.9s\tremaining: 23.5s\n",
      "483:\tlearn: 899.8672143\ttotal: 22s\tremaining: 23.4s\n",
      "484:\tlearn: 899.6436980\ttotal: 22s\tremaining: 23.4s\n",
      "485:\tlearn: 899.2783706\ttotal: 22.1s\tremaining: 23.3s\n",
      "486:\tlearn: 899.0895902\ttotal: 22.1s\tremaining: 23.3s\n",
      "487:\tlearn: 898.9021621\ttotal: 22.2s\tremaining: 23.3s\n",
      "488:\tlearn: 898.7148198\ttotal: 22.2s\tremaining: 23.2s\n",
      "489:\tlearn: 898.3761139\ttotal: 22.3s\tremaining: 23.2s\n",
      "490:\tlearn: 898.0280152\ttotal: 22.3s\tremaining: 23.1s\n",
      "491:\tlearn: 897.5947735\ttotal: 22.4s\tremaining: 23.1s\n",
      "492:\tlearn: 896.9539521\ttotal: 22.4s\tremaining: 23s\n",
      "493:\tlearn: 896.7444797\ttotal: 22.5s\tremaining: 23s\n",
      "494:\tlearn: 896.4337205\ttotal: 22.5s\tremaining: 23s\n",
      "495:\tlearn: 896.0846264\ttotal: 22.6s\tremaining: 22.9s\n",
      "496:\tlearn: 895.8826359\ttotal: 22.6s\tremaining: 22.9s\n",
      "497:\tlearn: 895.7015941\ttotal: 22.6s\tremaining: 22.8s\n",
      "498:\tlearn: 895.3879975\ttotal: 22.7s\tremaining: 22.8s\n",
      "499:\tlearn: 895.2479755\ttotal: 22.7s\tremaining: 22.7s\n",
      "500:\tlearn: 894.7871544\ttotal: 22.8s\tremaining: 22.7s\n",
      "501:\tlearn: 894.6993004\ttotal: 22.8s\tremaining: 22.7s\n",
      "502:\tlearn: 894.5143321\ttotal: 22.9s\tremaining: 22.6s\n",
      "503:\tlearn: 894.3456140\ttotal: 22.9s\tremaining: 22.6s\n",
      "504:\tlearn: 894.0222550\ttotal: 23s\tremaining: 22.5s\n",
      "505:\tlearn: 893.8577358\ttotal: 23.1s\tremaining: 22.5s\n",
      "506:\tlearn: 893.5859600\ttotal: 23.1s\tremaining: 22.5s\n",
      "507:\tlearn: 893.4518168\ttotal: 23.1s\tremaining: 22.4s\n",
      "508:\tlearn: 893.0000839\ttotal: 23.2s\tremaining: 22.4s\n",
      "509:\tlearn: 892.7851843\ttotal: 23.2s\tremaining: 22.3s\n",
      "510:\tlearn: 892.6178905\ttotal: 23.3s\tremaining: 22.3s\n",
      "511:\tlearn: 892.4096529\ttotal: 23.3s\tremaining: 22.2s\n",
      "512:\tlearn: 891.9974924\ttotal: 23.4s\tremaining: 22.2s\n",
      "513:\tlearn: 891.8019928\ttotal: 23.4s\tremaining: 22.1s\n",
      "514:\tlearn: 891.5504274\ttotal: 23.5s\tremaining: 22.1s\n",
      "515:\tlearn: 891.3670878\ttotal: 23.5s\tremaining: 22.1s\n",
      "516:\tlearn: 891.1547775\ttotal: 23.6s\tremaining: 22s\n",
      "517:\tlearn: 891.0374327\ttotal: 23.6s\tremaining: 22s\n",
      "518:\tlearn: 890.9029786\ttotal: 23.7s\tremaining: 21.9s\n",
      "519:\tlearn: 890.7379642\ttotal: 23.7s\tremaining: 21.9s\n",
      "520:\tlearn: 890.4209093\ttotal: 23.7s\tremaining: 21.8s\n",
      "521:\tlearn: 890.0069021\ttotal: 23.8s\tremaining: 21.8s\n",
      "522:\tlearn: 889.8207298\ttotal: 23.9s\tremaining: 21.8s\n",
      "523:\tlearn: 889.6532645\ttotal: 23.9s\tremaining: 21.7s\n",
      "524:\tlearn: 889.5125201\ttotal: 24s\tremaining: 21.7s\n",
      "525:\tlearn: 889.3112996\ttotal: 24s\tremaining: 21.7s\n",
      "526:\tlearn: 889.0973030\ttotal: 24.1s\tremaining: 21.6s\n",
      "527:\tlearn: 888.9494780\ttotal: 24.1s\tremaining: 21.6s\n",
      "528:\tlearn: 888.7767708\ttotal: 24.2s\tremaining: 21.5s\n",
      "529:\tlearn: 888.5568085\ttotal: 24.2s\tremaining: 21.5s\n",
      "530:\tlearn: 888.3611684\ttotal: 24.3s\tremaining: 21.5s\n",
      "531:\tlearn: 888.1158565\ttotal: 24.3s\tremaining: 21.4s\n",
      "532:\tlearn: 887.8193137\ttotal: 24.4s\tremaining: 21.4s\n",
      "533:\tlearn: 887.6241524\ttotal: 24.4s\tremaining: 21.3s\n",
      "534:\tlearn: 887.4765012\ttotal: 24.5s\tremaining: 21.3s\n",
      "535:\tlearn: 887.2319719\ttotal: 24.5s\tremaining: 21.2s\n",
      "536:\tlearn: 886.8700481\ttotal: 24.6s\tremaining: 21.2s\n",
      "537:\tlearn: 886.6276516\ttotal: 24.6s\tremaining: 21.1s\n",
      "538:\tlearn: 886.5041653\ttotal: 24.7s\tremaining: 21.1s\n",
      "539:\tlearn: 886.0827633\ttotal: 24.7s\tremaining: 21s\n",
      "540:\tlearn: 885.8360118\ttotal: 24.7s\tremaining: 21s\n",
      "541:\tlearn: 885.6282877\ttotal: 24.8s\tremaining: 20.9s\n",
      "542:\tlearn: 885.5041195\ttotal: 24.8s\tremaining: 20.9s\n",
      "543:\tlearn: 885.2250130\ttotal: 24.9s\tremaining: 20.9s\n",
      "544:\tlearn: 885.0071793\ttotal: 24.9s\tremaining: 20.8s\n",
      "545:\tlearn: 884.8279992\ttotal: 25s\tremaining: 20.8s\n",
      "546:\tlearn: 884.5494122\ttotal: 25s\tremaining: 20.7s\n",
      "547:\tlearn: 884.1552119\ttotal: 25.1s\tremaining: 20.7s\n",
      "548:\tlearn: 883.9175543\ttotal: 25.1s\tremaining: 20.6s\n",
      "549:\tlearn: 883.5890658\ttotal: 25.2s\tremaining: 20.6s\n",
      "550:\tlearn: 883.2984008\ttotal: 25.2s\tremaining: 20.6s\n",
      "551:\tlearn: 883.0981733\ttotal: 25.3s\tremaining: 20.5s\n",
      "552:\tlearn: 882.8463276\ttotal: 25.3s\tremaining: 20.5s\n",
      "553:\tlearn: 882.7118442\ttotal: 25.4s\tremaining: 20.4s\n",
      "554:\tlearn: 882.4641100\ttotal: 25.4s\tremaining: 20.4s\n",
      "555:\tlearn: 882.2400161\ttotal: 25.5s\tremaining: 20.3s\n",
      "556:\tlearn: 882.0582867\ttotal: 25.5s\tremaining: 20.3s\n",
      "557:\tlearn: 881.8991211\ttotal: 25.5s\tremaining: 20.2s\n",
      "558:\tlearn: 881.7243704\ttotal: 25.6s\tremaining: 20.2s\n",
      "559:\tlearn: 881.6263129\ttotal: 25.6s\tremaining: 20.1s\n",
      "560:\tlearn: 881.4620859\ttotal: 25.7s\tremaining: 20.1s\n",
      "561:\tlearn: 881.3916346\ttotal: 25.7s\tremaining: 20s\n",
      "562:\tlearn: 881.0961112\ttotal: 25.8s\tremaining: 20s\n",
      "563:\tlearn: 880.7539012\ttotal: 25.8s\tremaining: 19.9s\n",
      "564:\tlearn: 880.4890978\ttotal: 25.9s\tremaining: 19.9s\n",
      "565:\tlearn: 880.3391574\ttotal: 25.9s\tremaining: 19.9s\n",
      "566:\tlearn: 880.0905993\ttotal: 26s\tremaining: 19.8s\n",
      "567:\tlearn: 880.0063188\ttotal: 26s\tremaining: 19.8s\n",
      "568:\tlearn: 879.8812216\ttotal: 26s\tremaining: 19.7s\n",
      "569:\tlearn: 879.7087719\ttotal: 26.1s\tremaining: 19.7s\n",
      "570:\tlearn: 879.5003489\ttotal: 26.1s\tremaining: 19.6s\n",
      "571:\tlearn: 879.3926846\ttotal: 26.2s\tremaining: 19.6s\n",
      "572:\tlearn: 879.1825256\ttotal: 26.2s\tremaining: 19.5s\n",
      "573:\tlearn: 879.0536699\ttotal: 26.3s\tremaining: 19.5s\n",
      "574:\tlearn: 878.7149363\ttotal: 26.3s\tremaining: 19.4s\n",
      "575:\tlearn: 878.4754056\ttotal: 26.3s\tremaining: 19.4s\n",
      "576:\tlearn: 878.1932392\ttotal: 26.4s\tremaining: 19.3s\n",
      "577:\tlearn: 878.0222504\ttotal: 26.4s\tremaining: 19.3s\n",
      "578:\tlearn: 877.7997054\ttotal: 26.5s\tremaining: 19.2s\n",
      "579:\tlearn: 877.7484473\ttotal: 26.5s\tremaining: 19.2s\n",
      "580:\tlearn: 877.4282188\ttotal: 26.6s\tremaining: 19.2s\n",
      "581:\tlearn: 877.3113959\ttotal: 26.6s\tremaining: 19.1s\n",
      "582:\tlearn: 877.1000988\ttotal: 26.6s\tremaining: 19.1s\n",
      "583:\tlearn: 876.7595397\ttotal: 26.7s\tremaining: 19s\n",
      "584:\tlearn: 876.5821203\ttotal: 26.7s\tremaining: 19s\n",
      "585:\tlearn: 876.3490361\ttotal: 26.8s\tremaining: 18.9s\n",
      "586:\tlearn: 876.2197055\ttotal: 26.8s\tremaining: 18.9s\n",
      "587:\tlearn: 876.1001920\ttotal: 26.9s\tremaining: 18.8s\n",
      "588:\tlearn: 875.9928640\ttotal: 26.9s\tremaining: 18.8s\n",
      "589:\tlearn: 875.9244921\ttotal: 27s\tremaining: 18.7s\n",
      "590:\tlearn: 875.5895005\ttotal: 27s\tremaining: 18.7s\n",
      "591:\tlearn: 875.4157447\ttotal: 27.1s\tremaining: 18.6s\n",
      "592:\tlearn: 875.0362267\ttotal: 27.1s\tremaining: 18.6s\n",
      "593:\tlearn: 874.8774321\ttotal: 27.1s\tremaining: 18.5s\n",
      "594:\tlearn: 874.7781720\ttotal: 27.2s\tremaining: 18.5s\n",
      "595:\tlearn: 874.5809302\ttotal: 27.2s\tremaining: 18.5s\n",
      "596:\tlearn: 874.3379923\ttotal: 27.3s\tremaining: 18.4s\n",
      "597:\tlearn: 874.2564269\ttotal: 27.3s\tremaining: 18.4s\n",
      "598:\tlearn: 874.0588154\ttotal: 27.4s\tremaining: 18.3s\n",
      "599:\tlearn: 873.8033031\ttotal: 27.4s\tremaining: 18.3s\n",
      "600:\tlearn: 873.6816162\ttotal: 27.4s\tremaining: 18.2s\n",
      "601:\tlearn: 873.5571336\ttotal: 27.5s\tremaining: 18.2s\n",
      "602:\tlearn: 873.4188771\ttotal: 27.5s\tremaining: 18.1s\n",
      "603:\tlearn: 873.3123602\ttotal: 27.6s\tremaining: 18.1s\n",
      "604:\tlearn: 873.1173647\ttotal: 27.6s\tremaining: 18s\n",
      "605:\tlearn: 872.9351784\ttotal: 27.7s\tremaining: 18s\n",
      "606:\tlearn: 872.8356807\ttotal: 27.7s\tremaining: 17.9s\n",
      "607:\tlearn: 872.6653880\ttotal: 27.8s\tremaining: 17.9s\n",
      "608:\tlearn: 872.5416094\ttotal: 27.8s\tremaining: 17.8s\n",
      "609:\tlearn: 872.3919134\ttotal: 27.8s\tremaining: 17.8s\n",
      "610:\tlearn: 872.0311523\ttotal: 27.9s\tremaining: 17.8s\n",
      "611:\tlearn: 871.8229660\ttotal: 27.9s\tremaining: 17.7s\n",
      "612:\tlearn: 871.6987056\ttotal: 28s\tremaining: 17.7s\n",
      "613:\tlearn: 871.5573071\ttotal: 28s\tremaining: 17.6s\n",
      "614:\tlearn: 871.3680351\ttotal: 28.1s\tremaining: 17.6s\n",
      "615:\tlearn: 871.1575675\ttotal: 28.1s\tremaining: 17.5s\n",
      "616:\tlearn: 870.7756927\ttotal: 28.2s\tremaining: 17.5s\n",
      "617:\tlearn: 870.5285325\ttotal: 28.2s\tremaining: 17.4s\n",
      "618:\tlearn: 870.3747729\ttotal: 28.3s\tremaining: 17.4s\n",
      "619:\tlearn: 870.2343545\ttotal: 28.3s\tremaining: 17.3s\n",
      "620:\tlearn: 870.0201315\ttotal: 28.3s\tremaining: 17.3s\n",
      "621:\tlearn: 869.9380516\ttotal: 28.4s\tremaining: 17.2s\n",
      "622:\tlearn: 869.5510719\ttotal: 28.4s\tremaining: 17.2s\n",
      "623:\tlearn: 869.3938707\ttotal: 28.5s\tremaining: 17.2s\n",
      "624:\tlearn: 869.1998255\ttotal: 28.5s\tremaining: 17.1s\n",
      "625:\tlearn: 868.9488837\ttotal: 28.6s\tremaining: 17.1s\n",
      "626:\tlearn: 868.7192771\ttotal: 28.6s\tremaining: 17s\n",
      "627:\tlearn: 868.5814769\ttotal: 28.6s\tremaining: 17s\n",
      "628:\tlearn: 868.4741772\ttotal: 28.7s\tremaining: 16.9s\n",
      "629:\tlearn: 868.1637323\ttotal: 28.7s\tremaining: 16.9s\n",
      "630:\tlearn: 868.0272145\ttotal: 28.8s\tremaining: 16.8s\n",
      "631:\tlearn: 867.9153675\ttotal: 28.8s\tremaining: 16.8s\n",
      "632:\tlearn: 867.8094020\ttotal: 28.9s\tremaining: 16.7s\n",
      "633:\tlearn: 867.5250420\ttotal: 28.9s\tremaining: 16.7s\n",
      "634:\tlearn: 867.3027121\ttotal: 29s\tremaining: 16.6s\n",
      "635:\tlearn: 867.1518171\ttotal: 29s\tremaining: 16.6s\n",
      "636:\tlearn: 866.9931861\ttotal: 29s\tremaining: 16.5s\n",
      "637:\tlearn: 866.8222926\ttotal: 29.1s\tremaining: 16.5s\n",
      "638:\tlearn: 866.6842804\ttotal: 29.1s\tremaining: 16.5s\n",
      "639:\tlearn: 866.4586055\ttotal: 29.2s\tremaining: 16.4s\n",
      "640:\tlearn: 866.3317700\ttotal: 29.2s\tremaining: 16.4s\n",
      "641:\tlearn: 866.1129806\ttotal: 29.3s\tremaining: 16.3s\n",
      "642:\tlearn: 866.0478431\ttotal: 29.3s\tremaining: 16.3s\n",
      "643:\tlearn: 865.9521430\ttotal: 29.3s\tremaining: 16.2s\n",
      "644:\tlearn: 865.7789653\ttotal: 29.4s\tremaining: 16.2s\n",
      "645:\tlearn: 865.5781439\ttotal: 29.4s\tremaining: 16.1s\n",
      "646:\tlearn: 865.4584516\ttotal: 29.5s\tremaining: 16.1s\n",
      "647:\tlearn: 865.3905453\ttotal: 29.5s\tremaining: 16s\n",
      "648:\tlearn: 865.2198928\ttotal: 29.6s\tremaining: 16s\n",
      "649:\tlearn: 865.1153215\ttotal: 29.6s\tremaining: 15.9s\n",
      "650:\tlearn: 864.9653402\ttotal: 29.6s\tremaining: 15.9s\n",
      "651:\tlearn: 864.8412304\ttotal: 29.7s\tremaining: 15.8s\n",
      "652:\tlearn: 864.7042730\ttotal: 29.7s\tremaining: 15.8s\n",
      "653:\tlearn: 864.5786928\ttotal: 29.8s\tremaining: 15.8s\n",
      "654:\tlearn: 864.4660348\ttotal: 29.8s\tremaining: 15.7s\n",
      "655:\tlearn: 864.2058683\ttotal: 29.9s\tremaining: 15.7s\n",
      "656:\tlearn: 864.0204603\ttotal: 29.9s\tremaining: 15.6s\n",
      "657:\tlearn: 863.8567112\ttotal: 30s\tremaining: 15.6s\n",
      "658:\tlearn: 863.7216095\ttotal: 30s\tremaining: 15.5s\n",
      "659:\tlearn: 863.5293253\ttotal: 30s\tremaining: 15.5s\n",
      "660:\tlearn: 863.3930813\ttotal: 30.1s\tremaining: 15.4s\n",
      "661:\tlearn: 863.2538837\ttotal: 30.1s\tremaining: 15.4s\n",
      "662:\tlearn: 863.0065454\ttotal: 30.2s\tremaining: 15.3s\n",
      "663:\tlearn: 862.9678001\ttotal: 30.2s\tremaining: 15.3s\n",
      "664:\tlearn: 862.8531551\ttotal: 30.2s\tremaining: 15.2s\n",
      "665:\tlearn: 862.6541816\ttotal: 30.3s\tremaining: 15.2s\n",
      "666:\tlearn: 862.5309830\ttotal: 30.3s\tremaining: 15.1s\n",
      "667:\tlearn: 862.1821463\ttotal: 30.4s\tremaining: 15.1s\n",
      "668:\tlearn: 862.1212221\ttotal: 30.4s\tremaining: 15s\n",
      "669:\tlearn: 861.9945573\ttotal: 30.5s\tremaining: 15s\n",
      "670:\tlearn: 861.9033488\ttotal: 30.5s\tremaining: 14.9s\n",
      "671:\tlearn: 861.7167737\ttotal: 30.5s\tremaining: 14.9s\n",
      "672:\tlearn: 861.3681058\ttotal: 30.6s\tremaining: 14.9s\n",
      "673:\tlearn: 861.1238567\ttotal: 30.6s\tremaining: 14.8s\n",
      "674:\tlearn: 861.0134357\ttotal: 30.7s\tremaining: 14.8s\n",
      "675:\tlearn: 860.8595446\ttotal: 30.7s\tremaining: 14.7s\n",
      "676:\tlearn: 860.6844282\ttotal: 30.8s\tremaining: 14.7s\n",
      "677:\tlearn: 860.3060528\ttotal: 30.8s\tremaining: 14.6s\n",
      "678:\tlearn: 860.1802239\ttotal: 30.8s\tremaining: 14.6s\n",
      "679:\tlearn: 860.0707095\ttotal: 30.9s\tremaining: 14.5s\n",
      "680:\tlearn: 859.9177094\ttotal: 30.9s\tremaining: 14.5s\n",
      "681:\tlearn: 859.8509268\ttotal: 31s\tremaining: 14.4s\n",
      "682:\tlearn: 859.3255698\ttotal: 31s\tremaining: 14.4s\n",
      "683:\tlearn: 859.0710342\ttotal: 31.1s\tremaining: 14.3s\n",
      "684:\tlearn: 858.8642155\ttotal: 31.1s\tremaining: 14.3s\n",
      "685:\tlearn: 858.8088799\ttotal: 31.2s\tremaining: 14.3s\n",
      "686:\tlearn: 858.5347872\ttotal: 31.3s\tremaining: 14.2s\n",
      "687:\tlearn: 858.3792036\ttotal: 31.3s\tremaining: 14.2s\n",
      "688:\tlearn: 858.2622885\ttotal: 31.4s\tremaining: 14.2s\n",
      "689:\tlearn: 858.0499160\ttotal: 31.4s\tremaining: 14.1s\n",
      "690:\tlearn: 857.9458476\ttotal: 31.4s\tremaining: 14.1s\n",
      "691:\tlearn: 857.7947722\ttotal: 31.5s\tremaining: 14s\n",
      "692:\tlearn: 857.6757059\ttotal: 31.5s\tremaining: 14s\n",
      "693:\tlearn: 857.4033148\ttotal: 31.6s\tremaining: 13.9s\n",
      "694:\tlearn: 857.1953649\ttotal: 31.6s\tremaining: 13.9s\n",
      "695:\tlearn: 857.0713897\ttotal: 31.7s\tremaining: 13.8s\n",
      "696:\tlearn: 857.0044395\ttotal: 31.7s\tremaining: 13.8s\n",
      "697:\tlearn: 856.7897954\ttotal: 31.7s\tremaining: 13.7s\n",
      "698:\tlearn: 856.6390860\ttotal: 31.8s\tremaining: 13.7s\n",
      "699:\tlearn: 856.4776573\ttotal: 31.8s\tremaining: 13.6s\n",
      "700:\tlearn: 856.2313348\ttotal: 31.9s\tremaining: 13.6s\n",
      "701:\tlearn: 856.0733896\ttotal: 31.9s\tremaining: 13.5s\n",
      "702:\tlearn: 855.9836937\ttotal: 32s\tremaining: 13.5s\n",
      "703:\tlearn: 855.9053782\ttotal: 32s\tremaining: 13.5s\n",
      "704:\tlearn: 855.7469714\ttotal: 32s\tremaining: 13.4s\n",
      "705:\tlearn: 855.6690802\ttotal: 32.1s\tremaining: 13.4s\n",
      "706:\tlearn: 855.5942318\ttotal: 32.1s\tremaining: 13.3s\n",
      "707:\tlearn: 855.4163009\ttotal: 32.2s\tremaining: 13.3s\n",
      "708:\tlearn: 855.3827775\ttotal: 32.2s\tremaining: 13.2s\n",
      "709:\tlearn: 855.2773618\ttotal: 32.3s\tremaining: 13.2s\n",
      "710:\tlearn: 855.1649941\ttotal: 32.3s\tremaining: 13.1s\n",
      "711:\tlearn: 855.0545065\ttotal: 32.3s\tremaining: 13.1s\n",
      "712:\tlearn: 854.8979527\ttotal: 32.4s\tremaining: 13s\n",
      "713:\tlearn: 854.8375159\ttotal: 32.4s\tremaining: 13s\n",
      "714:\tlearn: 854.7832663\ttotal: 32.5s\tremaining: 12.9s\n",
      "715:\tlearn: 854.5947500\ttotal: 32.5s\tremaining: 12.9s\n",
      "716:\tlearn: 854.3730619\ttotal: 32.6s\tremaining: 12.9s\n",
      "717:\tlearn: 854.2332125\ttotal: 32.6s\tremaining: 12.8s\n",
      "718:\tlearn: 854.1986058\ttotal: 32.6s\tremaining: 12.8s\n",
      "719:\tlearn: 854.1018088\ttotal: 32.7s\tremaining: 12.7s\n",
      "720:\tlearn: 853.9750461\ttotal: 32.7s\tremaining: 12.7s\n",
      "721:\tlearn: 853.7950826\ttotal: 32.8s\tremaining: 12.6s\n",
      "722:\tlearn: 853.7161667\ttotal: 32.8s\tremaining: 12.6s\n",
      "723:\tlearn: 853.6183061\ttotal: 32.9s\tremaining: 12.5s\n",
      "724:\tlearn: 853.4710424\ttotal: 32.9s\tremaining: 12.5s\n",
      "725:\tlearn: 853.3692055\ttotal: 33s\tremaining: 12.4s\n",
      "726:\tlearn: 853.2139882\ttotal: 33s\tremaining: 12.4s\n",
      "727:\tlearn: 852.9735665\ttotal: 33.1s\tremaining: 12.4s\n",
      "728:\tlearn: 852.8474698\ttotal: 33.1s\tremaining: 12.3s\n",
      "729:\tlearn: 852.7029097\ttotal: 33.2s\tremaining: 12.3s\n",
      "730:\tlearn: 852.5614073\ttotal: 33.2s\tremaining: 12.2s\n",
      "731:\tlearn: 852.4650469\ttotal: 33.3s\tremaining: 12.2s\n",
      "732:\tlearn: 852.3084869\ttotal: 33.3s\tremaining: 12.1s\n",
      "733:\tlearn: 852.1476884\ttotal: 33.3s\tremaining: 12.1s\n",
      "734:\tlearn: 851.9781404\ttotal: 33.4s\tremaining: 12s\n",
      "735:\tlearn: 851.8016366\ttotal: 33.4s\tremaining: 12s\n",
      "736:\tlearn: 851.6088660\ttotal: 33.5s\tremaining: 12s\n",
      "737:\tlearn: 851.5505788\ttotal: 33.5s\tremaining: 11.9s\n",
      "738:\tlearn: 851.4353089\ttotal: 33.6s\tremaining: 11.9s\n",
      "739:\tlearn: 851.2750091\ttotal: 33.7s\tremaining: 11.8s\n",
      "740:\tlearn: 851.0700765\ttotal: 33.7s\tremaining: 11.8s\n",
      "741:\tlearn: 850.9863137\ttotal: 33.8s\tremaining: 11.7s\n",
      "742:\tlearn: 850.8765283\ttotal: 33.8s\tremaining: 11.7s\n",
      "743:\tlearn: 850.8045738\ttotal: 33.9s\tremaining: 11.7s\n",
      "744:\tlearn: 850.7482509\ttotal: 33.9s\tremaining: 11.6s\n",
      "745:\tlearn: 850.5794005\ttotal: 34s\tremaining: 11.6s\n",
      "746:\tlearn: 850.4165876\ttotal: 34s\tremaining: 11.5s\n",
      "747:\tlearn: 850.3063997\ttotal: 34.1s\tremaining: 11.5s\n",
      "748:\tlearn: 850.1609402\ttotal: 34.1s\tremaining: 11.4s\n",
      "749:\tlearn: 849.9312119\ttotal: 34.2s\tremaining: 11.4s\n",
      "750:\tlearn: 849.8402773\ttotal: 34.2s\tremaining: 11.3s\n",
      "751:\tlearn: 849.6574471\ttotal: 34.3s\tremaining: 11.3s\n",
      "752:\tlearn: 849.3715628\ttotal: 34.3s\tremaining: 11.3s\n",
      "753:\tlearn: 849.0760519\ttotal: 34.4s\tremaining: 11.2s\n",
      "754:\tlearn: 848.9375231\ttotal: 34.4s\tremaining: 11.2s\n",
      "755:\tlearn: 848.8816967\ttotal: 34.4s\tremaining: 11.1s\n",
      "756:\tlearn: 848.7803165\ttotal: 34.5s\tremaining: 11.1s\n",
      "757:\tlearn: 848.6084815\ttotal: 34.5s\tremaining: 11s\n",
      "758:\tlearn: 848.4971587\ttotal: 34.6s\tremaining: 11s\n",
      "759:\tlearn: 848.3938866\ttotal: 34.6s\tremaining: 10.9s\n",
      "760:\tlearn: 848.3040974\ttotal: 34.7s\tremaining: 10.9s\n",
      "761:\tlearn: 848.1442184\ttotal: 34.7s\tremaining: 10.8s\n",
      "762:\tlearn: 847.9945689\ttotal: 34.7s\tremaining: 10.8s\n",
      "763:\tlearn: 847.8035132\ttotal: 34.8s\tremaining: 10.7s\n",
      "764:\tlearn: 847.5822833\ttotal: 34.8s\tremaining: 10.7s\n",
      "765:\tlearn: 847.4519745\ttotal: 34.9s\tremaining: 10.7s\n",
      "766:\tlearn: 847.3243773\ttotal: 34.9s\tremaining: 10.6s\n",
      "767:\tlearn: 847.1833980\ttotal: 35s\tremaining: 10.6s\n",
      "768:\tlearn: 846.9550942\ttotal: 35s\tremaining: 10.5s\n",
      "769:\tlearn: 846.8473916\ttotal: 35.1s\tremaining: 10.5s\n",
      "770:\tlearn: 846.7007527\ttotal: 35.1s\tremaining: 10.4s\n",
      "771:\tlearn: 846.5952331\ttotal: 35.1s\tremaining: 10.4s\n",
      "772:\tlearn: 846.5355065\ttotal: 35.2s\tremaining: 10.3s\n",
      "773:\tlearn: 846.3716307\ttotal: 35.2s\tremaining: 10.3s\n",
      "774:\tlearn: 846.2117581\ttotal: 35.3s\tremaining: 10.2s\n",
      "775:\tlearn: 845.9617192\ttotal: 35.3s\tremaining: 10.2s\n",
      "776:\tlearn: 845.8912047\ttotal: 35.4s\tremaining: 10.2s\n",
      "777:\tlearn: 845.7906544\ttotal: 35.4s\tremaining: 10.1s\n",
      "778:\tlearn: 845.5670970\ttotal: 35.5s\tremaining: 10.1s\n",
      "779:\tlearn: 845.4073339\ttotal: 35.5s\tremaining: 10s\n",
      "780:\tlearn: 845.2688274\ttotal: 35.5s\tremaining: 9.97s\n",
      "781:\tlearn: 845.1046989\ttotal: 35.6s\tremaining: 9.92s\n",
      "782:\tlearn: 845.0028923\ttotal: 35.7s\tremaining: 9.88s\n",
      "783:\tlearn: 844.8857458\ttotal: 35.7s\tremaining: 9.84s\n",
      "784:\tlearn: 844.6131975\ttotal: 35.7s\tremaining: 9.79s\n",
      "785:\tlearn: 844.4360851\ttotal: 35.8s\tremaining: 9.75s\n",
      "786:\tlearn: 844.2021202\ttotal: 35.8s\tremaining: 9.7s\n",
      "787:\tlearn: 844.0941428\ttotal: 35.9s\tremaining: 9.65s\n",
      "788:\tlearn: 843.9593813\ttotal: 35.9s\tremaining: 9.61s\n",
      "789:\tlearn: 843.7517402\ttotal: 36s\tremaining: 9.56s\n",
      "790:\tlearn: 843.6154201\ttotal: 36s\tremaining: 9.51s\n",
      "791:\tlearn: 843.4731105\ttotal: 36s\tremaining: 9.47s\n",
      "792:\tlearn: 843.3866363\ttotal: 36.1s\tremaining: 9.42s\n",
      "793:\tlearn: 843.2936246\ttotal: 36.1s\tremaining: 9.38s\n",
      "794:\tlearn: 843.0582769\ttotal: 36.2s\tremaining: 9.33s\n",
      "795:\tlearn: 842.7656662\ttotal: 36.2s\tremaining: 9.28s\n",
      "796:\tlearn: 842.6747521\ttotal: 36.3s\tremaining: 9.24s\n",
      "797:\tlearn: 842.4527832\ttotal: 36.3s\tremaining: 9.19s\n",
      "798:\tlearn: 842.1999800\ttotal: 36.3s\tremaining: 9.14s\n",
      "799:\tlearn: 842.0974214\ttotal: 36.4s\tremaining: 9.1s\n",
      "800:\tlearn: 841.8763804\ttotal: 36.4s\tremaining: 9.05s\n",
      "801:\tlearn: 841.7643946\ttotal: 36.5s\tremaining: 9.01s\n",
      "802:\tlearn: 841.6485808\ttotal: 36.5s\tremaining: 8.96s\n",
      "803:\tlearn: 841.5460037\ttotal: 36.6s\tremaining: 8.91s\n",
      "804:\tlearn: 841.4349989\ttotal: 36.6s\tremaining: 8.87s\n",
      "805:\tlearn: 841.3591831\ttotal: 36.6s\tremaining: 8.82s\n",
      "806:\tlearn: 841.3221450\ttotal: 36.7s\tremaining: 8.78s\n",
      "807:\tlearn: 841.1991757\ttotal: 36.7s\tremaining: 8.73s\n",
      "808:\tlearn: 841.0305508\ttotal: 36.8s\tremaining: 8.68s\n",
      "809:\tlearn: 840.9498262\ttotal: 36.8s\tremaining: 8.64s\n",
      "810:\tlearn: 840.8205775\ttotal: 36.9s\tremaining: 8.59s\n",
      "811:\tlearn: 840.6406890\ttotal: 36.9s\tremaining: 8.54s\n",
      "812:\tlearn: 840.4334514\ttotal: 37s\tremaining: 8.5s\n",
      "813:\tlearn: 840.3687269\ttotal: 37s\tremaining: 8.45s\n",
      "814:\tlearn: 840.3171408\ttotal: 37s\tremaining: 8.41s\n",
      "815:\tlearn: 840.2054636\ttotal: 37.1s\tremaining: 8.36s\n",
      "816:\tlearn: 840.0840643\ttotal: 37.1s\tremaining: 8.32s\n",
      "817:\tlearn: 839.9556481\ttotal: 37.2s\tremaining: 8.27s\n",
      "818:\tlearn: 839.8179165\ttotal: 37.2s\tremaining: 8.23s\n",
      "819:\tlearn: 839.7407442\ttotal: 37.3s\tremaining: 8.18s\n",
      "820:\tlearn: 839.5164296\ttotal: 37.3s\tremaining: 8.13s\n",
      "821:\tlearn: 839.3504589\ttotal: 37.4s\tremaining: 8.09s\n",
      "822:\tlearn: 839.2049759\ttotal: 37.4s\tremaining: 8.04s\n",
      "823:\tlearn: 839.0616162\ttotal: 37.5s\tremaining: 8s\n",
      "824:\tlearn: 838.9713812\ttotal: 37.5s\tremaining: 7.96s\n",
      "825:\tlearn: 838.8489266\ttotal: 37.5s\tremaining: 7.91s\n",
      "826:\tlearn: 838.7341330\ttotal: 37.6s\tremaining: 7.86s\n",
      "827:\tlearn: 838.6076190\ttotal: 37.6s\tremaining: 7.82s\n",
      "828:\tlearn: 838.5807887\ttotal: 37.7s\tremaining: 7.77s\n",
      "829:\tlearn: 838.4832306\ttotal: 37.7s\tremaining: 7.73s\n",
      "830:\tlearn: 838.3731520\ttotal: 37.8s\tremaining: 7.68s\n",
      "831:\tlearn: 838.2220335\ttotal: 37.8s\tremaining: 7.63s\n",
      "832:\tlearn: 838.1598111\ttotal: 37.9s\tremaining: 7.59s\n",
      "833:\tlearn: 838.1125086\ttotal: 37.9s\tremaining: 7.54s\n",
      "834:\tlearn: 838.0376652\ttotal: 37.9s\tremaining: 7.5s\n",
      "835:\tlearn: 837.9554601\ttotal: 38s\tremaining: 7.45s\n",
      "836:\tlearn: 837.7915018\ttotal: 38s\tremaining: 7.41s\n",
      "837:\tlearn: 837.6195349\ttotal: 38.1s\tremaining: 7.36s\n",
      "838:\tlearn: 837.5740085\ttotal: 38.1s\tremaining: 7.32s\n",
      "839:\tlearn: 837.4927231\ttotal: 38.2s\tremaining: 7.27s\n",
      "840:\tlearn: 837.3473128\ttotal: 38.2s\tremaining: 7.22s\n",
      "841:\tlearn: 837.1969539\ttotal: 38.3s\tremaining: 7.18s\n",
      "842:\tlearn: 837.1058201\ttotal: 38.3s\tremaining: 7.13s\n",
      "843:\tlearn: 837.0327076\ttotal: 38.3s\tremaining: 7.09s\n",
      "844:\tlearn: 836.9093184\ttotal: 38.4s\tremaining: 7.04s\n",
      "845:\tlearn: 836.8348024\ttotal: 38.4s\tremaining: 6.99s\n",
      "846:\tlearn: 836.7520031\ttotal: 38.5s\tremaining: 6.95s\n",
      "847:\tlearn: 836.6705341\ttotal: 38.5s\tremaining: 6.9s\n",
      "848:\tlearn: 836.5963248\ttotal: 38.6s\tremaining: 6.86s\n",
      "849:\tlearn: 836.5325584\ttotal: 38.6s\tremaining: 6.81s\n",
      "850:\tlearn: 836.4589144\ttotal: 38.6s\tremaining: 6.77s\n",
      "851:\tlearn: 836.3855585\ttotal: 38.7s\tremaining: 6.72s\n",
      "852:\tlearn: 836.3287930\ttotal: 38.7s\tremaining: 6.67s\n",
      "853:\tlearn: 836.2361727\ttotal: 38.8s\tremaining: 6.63s\n",
      "854:\tlearn: 835.9891299\ttotal: 38.8s\tremaining: 6.58s\n",
      "855:\tlearn: 835.8433930\ttotal: 38.9s\tremaining: 6.54s\n",
      "856:\tlearn: 835.7546232\ttotal: 38.9s\tremaining: 6.49s\n",
      "857:\tlearn: 835.6314994\ttotal: 39s\tremaining: 6.45s\n",
      "858:\tlearn: 835.5656710\ttotal: 39s\tremaining: 6.4s\n",
      "859:\tlearn: 835.5174728\ttotal: 39s\tremaining: 6.36s\n",
      "860:\tlearn: 835.4301494\ttotal: 39.1s\tremaining: 6.31s\n",
      "861:\tlearn: 835.0597268\ttotal: 39.1s\tremaining: 6.27s\n",
      "862:\tlearn: 834.9412904\ttotal: 39.2s\tremaining: 6.22s\n",
      "863:\tlearn: 834.7748413\ttotal: 39.2s\tremaining: 6.18s\n",
      "864:\tlearn: 834.6202745\ttotal: 39.3s\tremaining: 6.13s\n",
      "865:\tlearn: 834.4821750\ttotal: 39.3s\tremaining: 6.08s\n",
      "866:\tlearn: 834.3379243\ttotal: 39.4s\tremaining: 6.04s\n",
      "867:\tlearn: 834.2802820\ttotal: 39.4s\tremaining: 5.99s\n",
      "868:\tlearn: 834.1784561\ttotal: 39.5s\tremaining: 5.95s\n",
      "869:\tlearn: 834.0817493\ttotal: 39.5s\tremaining: 5.9s\n",
      "870:\tlearn: 833.8817031\ttotal: 39.5s\tremaining: 5.86s\n",
      "871:\tlearn: 833.7897295\ttotal: 39.6s\tremaining: 5.81s\n",
      "872:\tlearn: 833.6273163\ttotal: 39.7s\tremaining: 5.77s\n",
      "873:\tlearn: 833.5139870\ttotal: 39.7s\tremaining: 5.72s\n",
      "874:\tlearn: 833.4863687\ttotal: 39.7s\tremaining: 5.68s\n",
      "875:\tlearn: 833.3382050\ttotal: 39.8s\tremaining: 5.63s\n",
      "876:\tlearn: 833.1397289\ttotal: 39.8s\tremaining: 5.59s\n",
      "877:\tlearn: 832.9773599\ttotal: 39.9s\tremaining: 5.54s\n",
      "878:\tlearn: 832.8490708\ttotal: 39.9s\tremaining: 5.5s\n",
      "879:\tlearn: 832.7987203\ttotal: 40s\tremaining: 5.45s\n",
      "880:\tlearn: 832.7378375\ttotal: 40s\tremaining: 5.41s\n",
      "881:\tlearn: 832.6153514\ttotal: 40.1s\tremaining: 5.36s\n",
      "882:\tlearn: 832.5210951\ttotal: 40.1s\tremaining: 5.31s\n",
      "883:\tlearn: 832.3199598\ttotal: 40.2s\tremaining: 5.27s\n",
      "884:\tlearn: 832.1071411\ttotal: 40.2s\tremaining: 5.22s\n",
      "885:\tlearn: 831.9945180\ttotal: 40.2s\tremaining: 5.18s\n",
      "886:\tlearn: 831.8712938\ttotal: 40.3s\tremaining: 5.13s\n",
      "887:\tlearn: 831.7332147\ttotal: 40.3s\tremaining: 5.08s\n",
      "888:\tlearn: 831.6601964\ttotal: 40.4s\tremaining: 5.04s\n",
      "889:\tlearn: 831.5298149\ttotal: 40.4s\tremaining: 4.99s\n",
      "890:\tlearn: 831.4517576\ttotal: 40.5s\tremaining: 4.95s\n",
      "891:\tlearn: 831.3081419\ttotal: 40.5s\tremaining: 4.9s\n",
      "892:\tlearn: 831.2068577\ttotal: 40.5s\tremaining: 4.86s\n",
      "893:\tlearn: 831.0472920\ttotal: 40.6s\tremaining: 4.81s\n",
      "894:\tlearn: 830.9788996\ttotal: 40.6s\tremaining: 4.76s\n",
      "895:\tlearn: 830.8837430\ttotal: 40.7s\tremaining: 4.72s\n",
      "896:\tlearn: 830.8199420\ttotal: 40.7s\tremaining: 4.67s\n",
      "897:\tlearn: 830.6963879\ttotal: 40.8s\tremaining: 4.63s\n",
      "898:\tlearn: 830.5884874\ttotal: 40.8s\tremaining: 4.58s\n",
      "899:\tlearn: 830.5145378\ttotal: 40.8s\tremaining: 4.54s\n",
      "900:\tlearn: 830.3467412\ttotal: 40.9s\tremaining: 4.49s\n",
      "901:\tlearn: 830.2893088\ttotal: 40.9s\tremaining: 4.45s\n",
      "902:\tlearn: 830.1405704\ttotal: 41s\tremaining: 4.4s\n",
      "903:\tlearn: 830.0640299\ttotal: 41s\tremaining: 4.36s\n",
      "904:\tlearn: 830.0207433\ttotal: 41.1s\tremaining: 4.31s\n",
      "905:\tlearn: 829.9212306\ttotal: 41.1s\tremaining: 4.27s\n",
      "906:\tlearn: 829.8298057\ttotal: 41.2s\tremaining: 4.22s\n",
      "907:\tlearn: 829.7577379\ttotal: 41.2s\tremaining: 4.17s\n",
      "908:\tlearn: 829.6555715\ttotal: 41.3s\tremaining: 4.13s\n",
      "909:\tlearn: 829.5892745\ttotal: 41.3s\tremaining: 4.09s\n",
      "910:\tlearn: 829.5380354\ttotal: 41.4s\tremaining: 4.04s\n",
      "911:\tlearn: 829.3854316\ttotal: 41.4s\tremaining: 4s\n",
      "912:\tlearn: 829.2017440\ttotal: 41.5s\tremaining: 3.95s\n",
      "913:\tlearn: 829.0743257\ttotal: 41.5s\tremaining: 3.9s\n",
      "914:\tlearn: 829.0530546\ttotal: 41.6s\tremaining: 3.86s\n",
      "915:\tlearn: 828.8883260\ttotal: 41.6s\tremaining: 3.81s\n",
      "916:\tlearn: 828.8138149\ttotal: 41.6s\tremaining: 3.77s\n",
      "917:\tlearn: 828.7120651\ttotal: 41.7s\tremaining: 3.72s\n",
      "918:\tlearn: 828.5332612\ttotal: 41.7s\tremaining: 3.68s\n",
      "919:\tlearn: 828.5003672\ttotal: 41.8s\tremaining: 3.63s\n",
      "920:\tlearn: 828.3898990\ttotal: 41.8s\tremaining: 3.59s\n",
      "921:\tlearn: 828.2865145\ttotal: 41.9s\tremaining: 3.54s\n",
      "922:\tlearn: 828.0854884\ttotal: 41.9s\tremaining: 3.49s\n",
      "923:\tlearn: 827.9747079\ttotal: 41.9s\tremaining: 3.45s\n",
      "924:\tlearn: 827.8656232\ttotal: 42s\tremaining: 3.4s\n",
      "925:\tlearn: 827.8253388\ttotal: 42s\tremaining: 3.36s\n",
      "926:\tlearn: 827.6792982\ttotal: 42.1s\tremaining: 3.31s\n",
      "927:\tlearn: 827.5522228\ttotal: 42.1s\tremaining: 3.27s\n",
      "928:\tlearn: 827.4262939\ttotal: 42.2s\tremaining: 3.22s\n",
      "929:\tlearn: 827.3465577\ttotal: 42.2s\tremaining: 3.18s\n",
      "930:\tlearn: 827.2469754\ttotal: 42.2s\tremaining: 3.13s\n",
      "931:\tlearn: 827.1400303\ttotal: 42.3s\tremaining: 3.08s\n",
      "932:\tlearn: 826.9776550\ttotal: 42.3s\tremaining: 3.04s\n",
      "933:\tlearn: 826.8603577\ttotal: 42.4s\tremaining: 2.99s\n",
      "934:\tlearn: 826.8051466\ttotal: 42.4s\tremaining: 2.95s\n",
      "935:\tlearn: 826.6353948\ttotal: 42.4s\tremaining: 2.9s\n",
      "936:\tlearn: 826.4672958\ttotal: 42.5s\tremaining: 2.86s\n",
      "937:\tlearn: 826.2227657\ttotal: 42.5s\tremaining: 2.81s\n",
      "938:\tlearn: 826.1440427\ttotal: 42.6s\tremaining: 2.77s\n",
      "939:\tlearn: 826.0655694\ttotal: 42.6s\tremaining: 2.72s\n",
      "940:\tlearn: 826.0154347\ttotal: 42.7s\tremaining: 2.67s\n",
      "941:\tlearn: 825.8858701\ttotal: 42.7s\tremaining: 2.63s\n",
      "942:\tlearn: 825.7948267\ttotal: 42.8s\tremaining: 2.58s\n",
      "943:\tlearn: 825.6609176\ttotal: 42.8s\tremaining: 2.54s\n",
      "944:\tlearn: 825.5092763\ttotal: 42.9s\tremaining: 2.49s\n",
      "945:\tlearn: 825.4283700\ttotal: 42.9s\tremaining: 2.45s\n",
      "946:\tlearn: 825.3343748\ttotal: 42.9s\tremaining: 2.4s\n",
      "947:\tlearn: 825.2949763\ttotal: 43s\tremaining: 2.36s\n",
      "948:\tlearn: 825.2405335\ttotal: 43s\tremaining: 2.31s\n",
      "949:\tlearn: 825.1557613\ttotal: 43.1s\tremaining: 2.27s\n",
      "950:\tlearn: 825.0597764\ttotal: 43.1s\tremaining: 2.22s\n",
      "951:\tlearn: 824.9330503\ttotal: 43.2s\tremaining: 2.18s\n",
      "952:\tlearn: 824.7542083\ttotal: 43.2s\tremaining: 2.13s\n",
      "953:\tlearn: 824.5319198\ttotal: 43.3s\tremaining: 2.09s\n",
      "954:\tlearn: 824.3521140\ttotal: 43.3s\tremaining: 2.04s\n",
      "955:\tlearn: 824.3094006\ttotal: 43.4s\tremaining: 2s\n",
      "956:\tlearn: 824.2938666\ttotal: 43.4s\tremaining: 1.95s\n",
      "957:\tlearn: 824.2215915\ttotal: 43.5s\tremaining: 1.91s\n",
      "958:\tlearn: 824.1487464\ttotal: 43.5s\tremaining: 1.86s\n",
      "959:\tlearn: 823.9868987\ttotal: 43.6s\tremaining: 1.81s\n",
      "960:\tlearn: 823.8652192\ttotal: 43.6s\tremaining: 1.77s\n",
      "961:\tlearn: 823.8114868\ttotal: 43.7s\tremaining: 1.72s\n",
      "962:\tlearn: 823.7377436\ttotal: 43.7s\tremaining: 1.68s\n",
      "963:\tlearn: 823.6551386\ttotal: 43.7s\tremaining: 1.63s\n",
      "964:\tlearn: 823.5236020\ttotal: 43.8s\tremaining: 1.59s\n",
      "965:\tlearn: 823.4354565\ttotal: 43.8s\tremaining: 1.54s\n",
      "966:\tlearn: 823.3153365\ttotal: 43.9s\tremaining: 1.5s\n",
      "967:\tlearn: 823.2093778\ttotal: 43.9s\tremaining: 1.45s\n",
      "968:\tlearn: 823.1525768\ttotal: 43.9s\tremaining: 1.41s\n",
      "969:\tlearn: 823.1120628\ttotal: 44s\tremaining: 1.36s\n",
      "970:\tlearn: 823.0795981\ttotal: 44s\tremaining: 1.31s\n",
      "971:\tlearn: 823.0355564\ttotal: 44.1s\tremaining: 1.27s\n",
      "972:\tlearn: 822.9821325\ttotal: 44.1s\tremaining: 1.22s\n",
      "973:\tlearn: 822.9283782\ttotal: 44.2s\tremaining: 1.18s\n",
      "974:\tlearn: 822.8559184\ttotal: 44.2s\tremaining: 1.13s\n",
      "975:\tlearn: 822.7375518\ttotal: 44.3s\tremaining: 1.09s\n",
      "976:\tlearn: 822.6465894\ttotal: 44.3s\tremaining: 1.04s\n",
      "977:\tlearn: 822.4635899\ttotal: 44.4s\tremaining: 998ms\n",
      "978:\tlearn: 822.3614880\ttotal: 44.4s\tremaining: 952ms\n",
      "979:\tlearn: 822.2918643\ttotal: 44.4s\tremaining: 907ms\n",
      "980:\tlearn: 822.2274452\ttotal: 44.5s\tremaining: 862ms\n",
      "981:\tlearn: 822.0828627\ttotal: 44.5s\tremaining: 816ms\n",
      "982:\tlearn: 821.9588812\ttotal: 44.6s\tremaining: 771ms\n",
      "983:\tlearn: 821.8944715\ttotal: 44.6s\tremaining: 726ms\n",
      "984:\tlearn: 821.8138177\ttotal: 44.7s\tremaining: 680ms\n",
      "985:\tlearn: 821.7447242\ttotal: 44.7s\tremaining: 635ms\n",
      "986:\tlearn: 821.6776216\ttotal: 44.8s\tremaining: 589ms\n",
      "987:\tlearn: 821.5666585\ttotal: 44.8s\tremaining: 544ms\n",
      "988:\tlearn: 821.4973535\ttotal: 44.8s\tremaining: 499ms\n",
      "989:\tlearn: 821.4346702\ttotal: 44.9s\tremaining: 453ms\n",
      "990:\tlearn: 821.3859059\ttotal: 44.9s\tremaining: 408ms\n",
      "991:\tlearn: 821.3195959\ttotal: 45s\tremaining: 363ms\n",
      "992:\tlearn: 821.2093704\ttotal: 45s\tremaining: 317ms\n",
      "993:\tlearn: 821.0705732\ttotal: 45s\tremaining: 272ms\n",
      "994:\tlearn: 820.9923827\ttotal: 45.1s\tremaining: 227ms\n",
      "995:\tlearn: 820.9153055\ttotal: 45.1s\tremaining: 181ms\n",
      "996:\tlearn: 820.7650096\ttotal: 45.2s\tremaining: 136ms\n",
      "997:\tlearn: 820.5729614\ttotal: 45.2s\tremaining: 90.6ms\n",
      "998:\tlearn: 820.5128941\ttotal: 45.3s\tremaining: 45.3ms\n",
      "999:\tlearn: 820.4079737\ttotal: 45.3s\tremaining: 0us\n",
      "0:\tlearn: 1905.9546994\ttotal: 39.6ms\tremaining: 39.5s\n",
      "1:\tlearn: 1712.8788104\ttotal: 84.8ms\tremaining: 42.3s\n",
      "2:\tlearn: 1607.7028788\ttotal: 124ms\tremaining: 41.2s\n",
      "3:\tlearn: 1542.5214761\ttotal: 164ms\tremaining: 40.8s\n",
      "4:\tlearn: 1507.2742262\ttotal: 207ms\tremaining: 41.2s\n",
      "5:\tlearn: 1482.1587513\ttotal: 247ms\tremaining: 40.9s\n",
      "6:\tlearn: 1460.5948282\ttotal: 299ms\tremaining: 42.4s\n",
      "7:\tlearn: 1446.6560982\ttotal: 339ms\tremaining: 42.1s\n",
      "8:\tlearn: 1436.4323976\ttotal: 385ms\tremaining: 42.4s\n",
      "9:\tlearn: 1425.2974043\ttotal: 428ms\tremaining: 42.3s\n",
      "10:\tlearn: 1410.7254406\ttotal: 472ms\tremaining: 42.5s\n",
      "11:\tlearn: 1399.8150067\ttotal: 513ms\tremaining: 42.3s\n",
      "12:\tlearn: 1391.8755295\ttotal: 554ms\tremaining: 42.1s\n",
      "13:\tlearn: 1382.7248591\ttotal: 600ms\tremaining: 42.2s\n",
      "14:\tlearn: 1375.7805082\ttotal: 641ms\tremaining: 42.1s\n",
      "15:\tlearn: 1367.7401016\ttotal: 688ms\tremaining: 42.3s\n",
      "16:\tlearn: 1361.8966468\ttotal: 729ms\tremaining: 42.2s\n",
      "17:\tlearn: 1355.1232903\ttotal: 778ms\tremaining: 42.4s\n",
      "18:\tlearn: 1348.8830230\ttotal: 818ms\tremaining: 42.2s\n",
      "19:\tlearn: 1337.6253159\ttotal: 861ms\tremaining: 42.2s\n",
      "20:\tlearn: 1331.1099945\ttotal: 902ms\tremaining: 42s\n",
      "21:\tlearn: 1326.1847965\ttotal: 942ms\tremaining: 41.9s\n",
      "22:\tlearn: 1321.0932246\ttotal: 989ms\tremaining: 42s\n",
      "23:\tlearn: 1314.8218969\ttotal: 1.03s\tremaining: 41.9s\n",
      "24:\tlearn: 1309.4666298\ttotal: 1.08s\tremaining: 42s\n",
      "25:\tlearn: 1301.9674526\ttotal: 1.12s\tremaining: 41.9s\n",
      "26:\tlearn: 1294.6047222\ttotal: 1.16s\tremaining: 42s\n",
      "27:\tlearn: 1290.9777990\ttotal: 1.21s\tremaining: 41.8s\n",
      "28:\tlearn: 1286.4719493\ttotal: 1.25s\tremaining: 41.7s\n",
      "29:\tlearn: 1284.0847543\ttotal: 1.29s\tremaining: 41.6s\n",
      "30:\tlearn: 1280.3315267\ttotal: 1.33s\tremaining: 41.5s\n",
      "31:\tlearn: 1276.2219906\ttotal: 1.37s\tremaining: 41.6s\n",
      "32:\tlearn: 1272.2265283\ttotal: 1.41s\tremaining: 41.4s\n",
      "33:\tlearn: 1267.3450595\ttotal: 1.46s\tremaining: 41.5s\n",
      "34:\tlearn: 1263.9739152\ttotal: 1.5s\tremaining: 41.4s\n",
      "35:\tlearn: 1258.9810456\ttotal: 1.54s\tremaining: 41.4s\n",
      "36:\tlearn: 1253.7734475\ttotal: 1.6s\tremaining: 41.6s\n",
      "37:\tlearn: 1250.5528500\ttotal: 1.64s\tremaining: 41.5s\n",
      "38:\tlearn: 1248.0899181\ttotal: 1.68s\tremaining: 41.4s\n",
      "39:\tlearn: 1245.8128562\ttotal: 1.72s\tremaining: 41.3s\n",
      "40:\tlearn: 1241.7905694\ttotal: 1.77s\tremaining: 41.4s\n",
      "41:\tlearn: 1239.3052291\ttotal: 1.81s\tremaining: 41.3s\n",
      "42:\tlearn: 1237.1577852\ttotal: 1.86s\tremaining: 41.3s\n",
      "43:\tlearn: 1234.2828565\ttotal: 1.9s\tremaining: 41.2s\n",
      "44:\tlearn: 1231.6206691\ttotal: 1.94s\tremaining: 41.2s\n",
      "45:\tlearn: 1227.9290182\ttotal: 1.98s\tremaining: 41.1s\n",
      "46:\tlearn: 1225.4299596\ttotal: 2.02s\tremaining: 40.9s\n",
      "47:\tlearn: 1221.7397128\ttotal: 2.06s\tremaining: 40.9s\n",
      "48:\tlearn: 1218.3434097\ttotal: 2.1s\tremaining: 40.8s\n",
      "49:\tlearn: 1215.1276026\ttotal: 2.15s\tremaining: 40.8s\n",
      "50:\tlearn: 1212.7625085\ttotal: 2.19s\tremaining: 40.7s\n",
      "51:\tlearn: 1208.6371857\ttotal: 2.24s\tremaining: 40.8s\n",
      "52:\tlearn: 1205.6329374\ttotal: 2.28s\tremaining: 40.8s\n",
      "53:\tlearn: 1202.2600696\ttotal: 2.33s\tremaining: 40.9s\n",
      "54:\tlearn: 1199.9119803\ttotal: 2.38s\tremaining: 40.9s\n",
      "55:\tlearn: 1197.6810578\ttotal: 2.43s\tremaining: 41s\n",
      "56:\tlearn: 1195.3734602\ttotal: 2.48s\tremaining: 41s\n",
      "57:\tlearn: 1192.7057438\ttotal: 2.52s\tremaining: 40.9s\n",
      "58:\tlearn: 1191.3543204\ttotal: 2.57s\tremaining: 40.9s\n",
      "59:\tlearn: 1188.8163918\ttotal: 2.62s\tremaining: 41s\n",
      "60:\tlearn: 1187.6770513\ttotal: 2.67s\tremaining: 41s\n",
      "61:\tlearn: 1185.2476095\ttotal: 2.72s\tremaining: 41.1s\n",
      "62:\tlearn: 1182.6283997\ttotal: 2.77s\tremaining: 41.2s\n",
      "63:\tlearn: 1178.3768075\ttotal: 2.82s\tremaining: 41.2s\n",
      "64:\tlearn: 1176.2382039\ttotal: 2.87s\tremaining: 41.3s\n",
      "65:\tlearn: 1174.7930071\ttotal: 2.92s\tremaining: 41.3s\n",
      "66:\tlearn: 1171.2987236\ttotal: 2.96s\tremaining: 41.2s\n",
      "67:\tlearn: 1169.0996506\ttotal: 3.02s\tremaining: 41.4s\n",
      "68:\tlearn: 1167.4087670\ttotal: 3.06s\tremaining: 41.3s\n",
      "69:\tlearn: 1165.0733882\ttotal: 3.11s\tremaining: 41.3s\n",
      "70:\tlearn: 1163.4231681\ttotal: 3.15s\tremaining: 41.3s\n",
      "71:\tlearn: 1162.2844925\ttotal: 3.2s\tremaining: 41.3s\n",
      "72:\tlearn: 1160.7777812\ttotal: 3.25s\tremaining: 41.3s\n",
      "73:\tlearn: 1158.7908312\ttotal: 3.3s\tremaining: 41.3s\n",
      "74:\tlearn: 1156.8151201\ttotal: 3.35s\tremaining: 41.3s\n",
      "75:\tlearn: 1153.9780064\ttotal: 3.39s\tremaining: 41.2s\n",
      "76:\tlearn: 1151.0022937\ttotal: 3.44s\tremaining: 41.2s\n",
      "77:\tlearn: 1149.6914347\ttotal: 3.48s\tremaining: 41.2s\n",
      "78:\tlearn: 1148.0281559\ttotal: 3.53s\tremaining: 41.2s\n",
      "79:\tlearn: 1146.3593310\ttotal: 3.58s\tremaining: 41.1s\n",
      "80:\tlearn: 1145.0287295\ttotal: 3.63s\tremaining: 41.2s\n",
      "81:\tlearn: 1143.6912808\ttotal: 3.68s\tremaining: 41.2s\n",
      "82:\tlearn: 1141.9883053\ttotal: 3.73s\tremaining: 41.2s\n",
      "83:\tlearn: 1140.0487592\ttotal: 3.78s\tremaining: 41.2s\n",
      "84:\tlearn: 1137.7570582\ttotal: 3.84s\tremaining: 41.3s\n",
      "85:\tlearn: 1136.5171292\ttotal: 3.89s\tremaining: 41.3s\n",
      "86:\tlearn: 1134.2702422\ttotal: 3.94s\tremaining: 41.4s\n",
      "87:\tlearn: 1131.3702971\ttotal: 3.99s\tremaining: 41.4s\n",
      "88:\tlearn: 1130.3581895\ttotal: 4.04s\tremaining: 41.3s\n",
      "89:\tlearn: 1128.8607361\ttotal: 4.08s\tremaining: 41.2s\n",
      "90:\tlearn: 1128.0345661\ttotal: 4.12s\tremaining: 41.2s\n",
      "91:\tlearn: 1126.0616376\ttotal: 4.16s\tremaining: 41.1s\n",
      "92:\tlearn: 1124.4934111\ttotal: 4.22s\tremaining: 41.1s\n",
      "93:\tlearn: 1122.6979610\ttotal: 4.26s\tremaining: 41.1s\n",
      "94:\tlearn: 1121.0489453\ttotal: 4.3s\tremaining: 41s\n",
      "95:\tlearn: 1119.3651718\ttotal: 4.34s\tremaining: 40.9s\n",
      "96:\tlearn: 1118.2156545\ttotal: 4.39s\tremaining: 40.9s\n",
      "97:\tlearn: 1117.2173580\ttotal: 4.43s\tremaining: 40.8s\n",
      "98:\tlearn: 1115.5566036\ttotal: 4.47s\tremaining: 40.7s\n",
      "99:\tlearn: 1114.5493255\ttotal: 4.52s\tremaining: 40.7s\n",
      "100:\tlearn: 1112.8351469\ttotal: 4.56s\tremaining: 40.6s\n",
      "101:\tlearn: 1111.7997469\ttotal: 4.61s\tremaining: 40.5s\n",
      "102:\tlearn: 1110.3846996\ttotal: 4.64s\tremaining: 40.5s\n",
      "103:\tlearn: 1107.9840418\ttotal: 4.69s\tremaining: 40.4s\n",
      "104:\tlearn: 1106.7378199\ttotal: 4.73s\tremaining: 40.3s\n",
      "105:\tlearn: 1104.8687390\ttotal: 4.78s\tremaining: 40.3s\n",
      "106:\tlearn: 1103.7077143\ttotal: 4.84s\tremaining: 40.4s\n",
      "107:\tlearn: 1102.3418940\ttotal: 4.89s\tremaining: 40.4s\n",
      "108:\tlearn: 1101.3206420\ttotal: 4.93s\tremaining: 40.3s\n",
      "109:\tlearn: 1099.9500380\ttotal: 4.99s\tremaining: 40.4s\n",
      "110:\tlearn: 1098.5701163\ttotal: 5.04s\tremaining: 40.4s\n",
      "111:\tlearn: 1097.4272833\ttotal: 5.11s\tremaining: 40.5s\n",
      "112:\tlearn: 1096.3036125\ttotal: 5.15s\tremaining: 40.5s\n",
      "113:\tlearn: 1094.2299305\ttotal: 5.21s\tremaining: 40.5s\n",
      "114:\tlearn: 1093.3958003\ttotal: 5.26s\tremaining: 40.5s\n",
      "115:\tlearn: 1092.3994364\ttotal: 5.31s\tremaining: 40.5s\n",
      "116:\tlearn: 1091.5475966\ttotal: 5.35s\tremaining: 40.4s\n",
      "117:\tlearn: 1090.1018934\ttotal: 5.4s\tremaining: 40.3s\n",
      "118:\tlearn: 1088.9611164\ttotal: 5.44s\tremaining: 40.3s\n",
      "119:\tlearn: 1087.7333825\ttotal: 5.49s\tremaining: 40.2s\n",
      "120:\tlearn: 1086.8515804\ttotal: 5.53s\tremaining: 40.1s\n",
      "121:\tlearn: 1085.5057184\ttotal: 5.58s\tremaining: 40.1s\n",
      "122:\tlearn: 1084.0945448\ttotal: 5.62s\tremaining: 40.1s\n",
      "123:\tlearn: 1083.4511648\ttotal: 5.67s\tremaining: 40s\n",
      "124:\tlearn: 1081.9346570\ttotal: 5.71s\tremaining: 40s\n",
      "125:\tlearn: 1081.1639882\ttotal: 5.76s\tremaining: 39.9s\n",
      "126:\tlearn: 1080.1064716\ttotal: 5.81s\tremaining: 39.9s\n",
      "127:\tlearn: 1079.1559868\ttotal: 5.86s\tremaining: 39.9s\n",
      "128:\tlearn: 1078.0060630\ttotal: 5.9s\tremaining: 39.8s\n",
      "129:\tlearn: 1077.1885944\ttotal: 5.95s\tremaining: 39.8s\n",
      "130:\tlearn: 1076.7461165\ttotal: 6s\tremaining: 39.8s\n",
      "131:\tlearn: 1075.3800649\ttotal: 6.08s\tremaining: 40s\n",
      "132:\tlearn: 1074.1316646\ttotal: 6.15s\tremaining: 40.1s\n",
      "133:\tlearn: 1073.6118654\ttotal: 6.22s\tremaining: 40.2s\n",
      "134:\tlearn: 1072.5291769\ttotal: 6.29s\tremaining: 40.3s\n",
      "135:\tlearn: 1070.9554093\ttotal: 6.36s\tremaining: 40.4s\n",
      "136:\tlearn: 1069.2022722\ttotal: 6.41s\tremaining: 40.4s\n",
      "137:\tlearn: 1068.4316188\ttotal: 6.48s\tremaining: 40.5s\n",
      "138:\tlearn: 1067.3744223\ttotal: 6.54s\tremaining: 40.5s\n",
      "139:\tlearn: 1066.7109434\ttotal: 6.58s\tremaining: 40.4s\n",
      "140:\tlearn: 1066.0132155\ttotal: 6.64s\tremaining: 40.5s\n",
      "141:\tlearn: 1065.1719264\ttotal: 6.7s\tremaining: 40.5s\n",
      "142:\tlearn: 1063.8851960\ttotal: 6.76s\tremaining: 40.5s\n",
      "143:\tlearn: 1063.2517820\ttotal: 6.81s\tremaining: 40.5s\n",
      "144:\tlearn: 1062.3015157\ttotal: 6.86s\tremaining: 40.5s\n",
      "145:\tlearn: 1061.4653551\ttotal: 6.91s\tremaining: 40.4s\n",
      "146:\tlearn: 1060.0492814\ttotal: 6.96s\tremaining: 40.4s\n",
      "147:\tlearn: 1058.9475038\ttotal: 7.01s\tremaining: 40.4s\n",
      "148:\tlearn: 1057.4593290\ttotal: 7.08s\tremaining: 40.4s\n",
      "149:\tlearn: 1056.9505909\ttotal: 7.13s\tremaining: 40.4s\n",
      "150:\tlearn: 1055.8922119\ttotal: 7.17s\tremaining: 40.3s\n",
      "151:\tlearn: 1055.1099112\ttotal: 7.21s\tremaining: 40.3s\n",
      "152:\tlearn: 1053.8970708\ttotal: 7.25s\tremaining: 40.2s\n",
      "153:\tlearn: 1052.8933938\ttotal: 7.3s\tremaining: 40.1s\n",
      "154:\tlearn: 1052.2405856\ttotal: 7.34s\tremaining: 40s\n",
      "155:\tlearn: 1051.4032030\ttotal: 7.38s\tremaining: 39.9s\n",
      "156:\tlearn: 1050.4948545\ttotal: 7.43s\tremaining: 39.9s\n",
      "157:\tlearn: 1049.3087746\ttotal: 7.47s\tremaining: 39.8s\n",
      "158:\tlearn: 1048.8728309\ttotal: 7.52s\tremaining: 39.8s\n",
      "159:\tlearn: 1048.1270963\ttotal: 7.57s\tremaining: 39.7s\n",
      "160:\tlearn: 1047.3166863\ttotal: 7.61s\tremaining: 39.7s\n",
      "161:\tlearn: 1046.8583115\ttotal: 7.65s\tremaining: 39.6s\n",
      "162:\tlearn: 1046.3011461\ttotal: 7.7s\tremaining: 39.5s\n",
      "163:\tlearn: 1045.0342635\ttotal: 7.74s\tremaining: 39.5s\n",
      "164:\tlearn: 1044.2569699\ttotal: 7.78s\tremaining: 39.4s\n",
      "165:\tlearn: 1043.6620046\ttotal: 7.82s\tremaining: 39.3s\n",
      "166:\tlearn: 1042.6860160\ttotal: 7.86s\tremaining: 39.2s\n",
      "167:\tlearn: 1042.1715742\ttotal: 7.91s\tremaining: 39.2s\n",
      "168:\tlearn: 1041.6430199\ttotal: 7.95s\tremaining: 39.1s\n",
      "169:\tlearn: 1040.9828560\ttotal: 7.99s\tremaining: 39s\n",
      "170:\tlearn: 1040.2978320\ttotal: 8.04s\tremaining: 39s\n",
      "171:\tlearn: 1039.3111891\ttotal: 8.08s\tremaining: 38.9s\n",
      "172:\tlearn: 1038.3530121\ttotal: 8.13s\tremaining: 38.8s\n",
      "173:\tlearn: 1037.3873443\ttotal: 8.16s\tremaining: 38.8s\n",
      "174:\tlearn: 1036.7290172\ttotal: 8.21s\tremaining: 38.7s\n",
      "175:\tlearn: 1036.1593343\ttotal: 8.25s\tremaining: 38.6s\n",
      "176:\tlearn: 1035.1699669\ttotal: 8.3s\tremaining: 38.6s\n",
      "177:\tlearn: 1034.5396512\ttotal: 8.34s\tremaining: 38.5s\n",
      "178:\tlearn: 1033.8463665\ttotal: 8.38s\tremaining: 38.4s\n",
      "179:\tlearn: 1032.9838338\ttotal: 8.42s\tremaining: 38.4s\n",
      "180:\tlearn: 1031.8041805\ttotal: 8.46s\tremaining: 38.3s\n",
      "181:\tlearn: 1030.9426578\ttotal: 8.52s\tremaining: 38.3s\n",
      "182:\tlearn: 1030.0511600\ttotal: 8.56s\tremaining: 38.2s\n",
      "183:\tlearn: 1029.1508122\ttotal: 8.61s\tremaining: 38.2s\n",
      "184:\tlearn: 1028.6215286\ttotal: 8.65s\tremaining: 38.1s\n",
      "185:\tlearn: 1028.1177009\ttotal: 8.7s\tremaining: 38.1s\n",
      "186:\tlearn: 1027.6336154\ttotal: 8.75s\tremaining: 38s\n",
      "187:\tlearn: 1026.6485533\ttotal: 8.8s\tremaining: 38s\n",
      "188:\tlearn: 1025.4913878\ttotal: 8.84s\tremaining: 37.9s\n",
      "189:\tlearn: 1024.5709400\ttotal: 8.88s\tremaining: 37.9s\n",
      "190:\tlearn: 1023.8681419\ttotal: 8.92s\tremaining: 37.8s\n",
      "191:\tlearn: 1023.0499837\ttotal: 8.96s\tremaining: 37.7s\n",
      "192:\tlearn: 1022.3006515\ttotal: 9.01s\tremaining: 37.7s\n",
      "193:\tlearn: 1021.5114257\ttotal: 9.05s\tremaining: 37.6s\n",
      "194:\tlearn: 1020.8999944\ttotal: 9.1s\tremaining: 37.6s\n",
      "195:\tlearn: 1020.2910484\ttotal: 9.14s\tremaining: 37.5s\n",
      "196:\tlearn: 1019.8294715\ttotal: 9.19s\tremaining: 37.5s\n",
      "197:\tlearn: 1019.6822651\ttotal: 9.23s\tremaining: 37.4s\n",
      "198:\tlearn: 1019.0222202\ttotal: 9.28s\tremaining: 37.3s\n",
      "199:\tlearn: 1017.9871066\ttotal: 9.32s\tremaining: 37.3s\n",
      "200:\tlearn: 1017.4320153\ttotal: 9.36s\tremaining: 37.2s\n",
      "201:\tlearn: 1017.0343909\ttotal: 9.4s\tremaining: 37.1s\n",
      "202:\tlearn: 1016.2217418\ttotal: 9.44s\tremaining: 37.1s\n",
      "203:\tlearn: 1015.7379934\ttotal: 9.49s\tremaining: 37s\n",
      "204:\tlearn: 1014.9745053\ttotal: 9.53s\tremaining: 36.9s\n",
      "205:\tlearn: 1014.4311537\ttotal: 9.57s\tremaining: 36.9s\n",
      "206:\tlearn: 1014.2076657\ttotal: 9.61s\tremaining: 36.8s\n",
      "207:\tlearn: 1013.6397882\ttotal: 9.66s\tremaining: 36.8s\n",
      "208:\tlearn: 1013.1781806\ttotal: 9.7s\tremaining: 36.7s\n",
      "209:\tlearn: 1012.6427662\ttotal: 9.74s\tremaining: 36.6s\n",
      "210:\tlearn: 1012.0167760\ttotal: 9.79s\tremaining: 36.6s\n",
      "211:\tlearn: 1011.0300140\ttotal: 9.83s\tremaining: 36.5s\n",
      "212:\tlearn: 1010.0237289\ttotal: 9.88s\tremaining: 36.5s\n",
      "213:\tlearn: 1009.3366512\ttotal: 9.92s\tremaining: 36.4s\n",
      "214:\tlearn: 1008.9675205\ttotal: 9.96s\tremaining: 36.4s\n",
      "215:\tlearn: 1008.4546816\ttotal: 10s\tremaining: 36.3s\n",
      "216:\tlearn: 1007.8337377\ttotal: 10.1s\tremaining: 36.3s\n",
      "217:\tlearn: 1007.3503094\ttotal: 10.1s\tremaining: 36.2s\n",
      "218:\tlearn: 1007.0274694\ttotal: 10.2s\tremaining: 36.2s\n",
      "219:\tlearn: 1006.8200590\ttotal: 10.2s\tremaining: 36.2s\n",
      "220:\tlearn: 1006.3986444\ttotal: 10.2s\tremaining: 36.1s\n",
      "221:\tlearn: 1005.9628659\ttotal: 10.3s\tremaining: 36s\n",
      "222:\tlearn: 1005.6092829\ttotal: 10.3s\tremaining: 36s\n",
      "223:\tlearn: 1004.8187769\ttotal: 10.4s\tremaining: 35.9s\n",
      "224:\tlearn: 1004.3285780\ttotal: 10.4s\tremaining: 35.8s\n",
      "225:\tlearn: 1003.7642019\ttotal: 10.5s\tremaining: 35.8s\n",
      "226:\tlearn: 1003.1913754\ttotal: 10.5s\tremaining: 35.7s\n",
      "227:\tlearn: 1002.6451770\ttotal: 10.5s\tremaining: 35.7s\n",
      "228:\tlearn: 1001.9102515\ttotal: 10.6s\tremaining: 35.6s\n",
      "229:\tlearn: 1001.6556767\ttotal: 10.6s\tremaining: 35.6s\n",
      "230:\tlearn: 1001.2312796\ttotal: 10.7s\tremaining: 35.5s\n",
      "231:\tlearn: 1000.5206680\ttotal: 10.7s\tremaining: 35.5s\n",
      "232:\tlearn: 1000.3081133\ttotal: 10.8s\tremaining: 35.4s\n",
      "233:\tlearn: 999.9045130\ttotal: 10.8s\tremaining: 35.4s\n",
      "234:\tlearn: 999.4464711\ttotal: 10.8s\tremaining: 35.3s\n",
      "235:\tlearn: 998.5977635\ttotal: 10.9s\tremaining: 35.2s\n",
      "236:\tlearn: 998.0830965\ttotal: 10.9s\tremaining: 35.2s\n",
      "237:\tlearn: 997.6373191\ttotal: 11s\tremaining: 35.1s\n",
      "238:\tlearn: 997.2764501\ttotal: 11s\tremaining: 35.1s\n",
      "239:\tlearn: 996.4383038\ttotal: 11.1s\tremaining: 35s\n",
      "240:\tlearn: 995.9672499\ttotal: 11.1s\tremaining: 35s\n",
      "241:\tlearn: 995.5131914\ttotal: 11.2s\tremaining: 35s\n",
      "242:\tlearn: 994.5343675\ttotal: 11.2s\tremaining: 34.9s\n",
      "243:\tlearn: 993.8163796\ttotal: 11.3s\tremaining: 34.9s\n",
      "244:\tlearn: 993.2125314\ttotal: 11.3s\tremaining: 34.8s\n",
      "245:\tlearn: 992.7871947\ttotal: 11.3s\tremaining: 34.7s\n",
      "246:\tlearn: 992.0172576\ttotal: 11.4s\tremaining: 34.7s\n",
      "247:\tlearn: 990.9500111\ttotal: 11.4s\tremaining: 34.6s\n",
      "248:\tlearn: 990.6062412\ttotal: 11.5s\tremaining: 34.6s\n",
      "249:\tlearn: 990.0660154\ttotal: 11.5s\tremaining: 34.5s\n",
      "250:\tlearn: 989.2862538\ttotal: 11.5s\tremaining: 34.5s\n",
      "251:\tlearn: 988.7116113\ttotal: 11.6s\tremaining: 34.4s\n",
      "252:\tlearn: 988.3641585\ttotal: 11.6s\tremaining: 34.4s\n",
      "253:\tlearn: 988.0416173\ttotal: 11.7s\tremaining: 34.3s\n",
      "254:\tlearn: 987.6349772\ttotal: 11.7s\tremaining: 34.3s\n",
      "255:\tlearn: 987.0997806\ttotal: 11.8s\tremaining: 34.2s\n",
      "256:\tlearn: 986.7508261\ttotal: 11.8s\tremaining: 34.2s\n",
      "257:\tlearn: 985.7476867\ttotal: 11.9s\tremaining: 34.1s\n",
      "258:\tlearn: 985.5378131\ttotal: 11.9s\tremaining: 34.1s\n",
      "259:\tlearn: 984.8995232\ttotal: 11.9s\tremaining: 34s\n",
      "260:\tlearn: 984.4993506\ttotal: 12s\tremaining: 33.9s\n",
      "261:\tlearn: 984.1574223\ttotal: 12s\tremaining: 33.9s\n",
      "262:\tlearn: 983.7695413\ttotal: 12.1s\tremaining: 33.8s\n",
      "263:\tlearn: 983.5568884\ttotal: 12.1s\tremaining: 33.8s\n",
      "264:\tlearn: 983.0137776\ttotal: 12.2s\tremaining: 33.7s\n",
      "265:\tlearn: 982.7429087\ttotal: 12.2s\tremaining: 33.7s\n",
      "266:\tlearn: 982.3707178\ttotal: 12.3s\tremaining: 33.6s\n",
      "267:\tlearn: 982.0230966\ttotal: 12.3s\tremaining: 33.6s\n",
      "268:\tlearn: 981.4581420\ttotal: 12.3s\tremaining: 33.5s\n",
      "269:\tlearn: 980.6981423\ttotal: 12.4s\tremaining: 33.5s\n",
      "270:\tlearn: 980.4555322\ttotal: 12.4s\tremaining: 33.4s\n",
      "271:\tlearn: 980.0829054\ttotal: 12.5s\tremaining: 33.4s\n",
      "272:\tlearn: 979.7801859\ttotal: 12.5s\tremaining: 33.3s\n",
      "273:\tlearn: 979.5415396\ttotal: 12.6s\tremaining: 33.3s\n",
      "274:\tlearn: 978.9046809\ttotal: 12.6s\tremaining: 33.2s\n",
      "275:\tlearn: 978.4952599\ttotal: 12.6s\tremaining: 33.2s\n",
      "276:\tlearn: 977.8254386\ttotal: 12.7s\tremaining: 33.1s\n",
      "277:\tlearn: 977.4566380\ttotal: 12.7s\tremaining: 33.1s\n",
      "278:\tlearn: 976.8979594\ttotal: 12.8s\tremaining: 33s\n",
      "279:\tlearn: 976.4210597\ttotal: 12.8s\tremaining: 33s\n",
      "280:\tlearn: 975.9950024\ttotal: 12.9s\tremaining: 32.9s\n",
      "281:\tlearn: 974.8989177\ttotal: 12.9s\tremaining: 32.9s\n",
      "282:\tlearn: 974.4437093\ttotal: 12.9s\tremaining: 32.8s\n",
      "283:\tlearn: 974.0394660\ttotal: 13s\tremaining: 32.7s\n",
      "284:\tlearn: 973.7301167\ttotal: 13s\tremaining: 32.7s\n",
      "285:\tlearn: 972.9234713\ttotal: 13.1s\tremaining: 32.6s\n",
      "286:\tlearn: 972.5904337\ttotal: 13.1s\tremaining: 32.6s\n",
      "287:\tlearn: 972.0032242\ttotal: 13.2s\tremaining: 32.5s\n",
      "288:\tlearn: 971.5947086\ttotal: 13.2s\tremaining: 32.5s\n",
      "289:\tlearn: 971.2802994\ttotal: 13.2s\tremaining: 32.4s\n",
      "290:\tlearn: 970.7747633\ttotal: 13.3s\tremaining: 32.3s\n",
      "291:\tlearn: 970.0711535\ttotal: 13.3s\tremaining: 32.3s\n",
      "292:\tlearn: 969.6199643\ttotal: 13.4s\tremaining: 32.2s\n",
      "293:\tlearn: 969.2669292\ttotal: 13.4s\tremaining: 32.2s\n",
      "294:\tlearn: 968.9160682\ttotal: 13.4s\tremaining: 32.1s\n",
      "295:\tlearn: 968.5847196\ttotal: 13.5s\tremaining: 32.1s\n",
      "296:\tlearn: 968.3487493\ttotal: 13.5s\tremaining: 32s\n",
      "297:\tlearn: 967.9555081\ttotal: 13.6s\tremaining: 32s\n",
      "298:\tlearn: 967.5774987\ttotal: 13.6s\tremaining: 31.9s\n",
      "299:\tlearn: 967.2670284\ttotal: 13.7s\tremaining: 31.9s\n",
      "300:\tlearn: 966.6548786\ttotal: 13.7s\tremaining: 31.8s\n",
      "301:\tlearn: 966.3842850\ttotal: 13.8s\tremaining: 31.8s\n",
      "302:\tlearn: 965.6804096\ttotal: 13.8s\tremaining: 31.7s\n",
      "303:\tlearn: 964.9663625\ttotal: 13.8s\tremaining: 31.7s\n",
      "304:\tlearn: 964.7175400\ttotal: 13.9s\tremaining: 31.6s\n",
      "305:\tlearn: 964.0145666\ttotal: 13.9s\tremaining: 31.6s\n",
      "306:\tlearn: 963.2476213\ttotal: 14s\tremaining: 31.5s\n",
      "307:\tlearn: 962.7420337\ttotal: 14s\tremaining: 31.5s\n",
      "308:\tlearn: 962.1934637\ttotal: 14.1s\tremaining: 31.5s\n",
      "309:\tlearn: 961.8442406\ttotal: 14.1s\tremaining: 31.5s\n",
      "310:\tlearn: 961.1506738\ttotal: 14.2s\tremaining: 31.4s\n",
      "311:\tlearn: 960.5815952\ttotal: 14.2s\tremaining: 31.4s\n",
      "312:\tlearn: 960.3007949\ttotal: 14.3s\tremaining: 31.3s\n",
      "313:\tlearn: 959.7448723\ttotal: 14.3s\tremaining: 31.3s\n",
      "314:\tlearn: 958.6941134\ttotal: 14.4s\tremaining: 31.2s\n",
      "315:\tlearn: 958.4065564\ttotal: 14.4s\tremaining: 31.2s\n",
      "316:\tlearn: 958.2409721\ttotal: 14.5s\tremaining: 31.1s\n",
      "317:\tlearn: 957.7485120\ttotal: 14.5s\tremaining: 31.1s\n",
      "318:\tlearn: 957.2508111\ttotal: 14.5s\tremaining: 31s\n",
      "319:\tlearn: 957.0110692\ttotal: 14.6s\tremaining: 31s\n",
      "320:\tlearn: 956.7923986\ttotal: 14.6s\tremaining: 30.9s\n",
      "321:\tlearn: 956.3641575\ttotal: 14.7s\tremaining: 30.9s\n",
      "322:\tlearn: 956.1017062\ttotal: 14.7s\tremaining: 30.8s\n",
      "323:\tlearn: 955.6838561\ttotal: 14.8s\tremaining: 30.8s\n",
      "324:\tlearn: 955.1684426\ttotal: 14.8s\tremaining: 30.7s\n",
      "325:\tlearn: 954.5600622\ttotal: 14.8s\tremaining: 30.7s\n",
      "326:\tlearn: 954.1864954\ttotal: 14.9s\tremaining: 30.7s\n",
      "327:\tlearn: 953.8005779\ttotal: 14.9s\tremaining: 30.6s\n",
      "328:\tlearn: 953.5033024\ttotal: 15s\tremaining: 30.6s\n",
      "329:\tlearn: 953.0917843\ttotal: 15s\tremaining: 30.5s\n",
      "330:\tlearn: 952.2502548\ttotal: 15.1s\tremaining: 30.5s\n",
      "331:\tlearn: 951.9964522\ttotal: 15.1s\tremaining: 30.5s\n",
      "332:\tlearn: 951.4822215\ttotal: 15.2s\tremaining: 30.4s\n",
      "333:\tlearn: 951.1296717\ttotal: 15.2s\tremaining: 30.4s\n",
      "334:\tlearn: 950.5776709\ttotal: 15.3s\tremaining: 30.4s\n",
      "335:\tlearn: 950.3507541\ttotal: 15.3s\tremaining: 30.3s\n",
      "336:\tlearn: 949.9440829\ttotal: 15.4s\tremaining: 30.3s\n",
      "337:\tlearn: 949.6469097\ttotal: 15.4s\tremaining: 30.2s\n",
      "338:\tlearn: 949.4850852\ttotal: 15.5s\tremaining: 30.2s\n",
      "339:\tlearn: 949.1203907\ttotal: 15.5s\tremaining: 30.1s\n",
      "340:\tlearn: 948.6686727\ttotal: 15.6s\tremaining: 30.1s\n",
      "341:\tlearn: 948.3533627\ttotal: 15.6s\tremaining: 30s\n",
      "342:\tlearn: 948.1466024\ttotal: 15.6s\tremaining: 30s\n",
      "343:\tlearn: 947.6234933\ttotal: 15.7s\tremaining: 29.9s\n",
      "344:\tlearn: 947.1924406\ttotal: 15.7s\tremaining: 29.9s\n",
      "345:\tlearn: 946.5227988\ttotal: 15.8s\tremaining: 29.8s\n",
      "346:\tlearn: 946.1808657\ttotal: 15.8s\tremaining: 29.8s\n",
      "347:\tlearn: 945.8708989\ttotal: 15.9s\tremaining: 29.8s\n",
      "348:\tlearn: 945.5481971\ttotal: 15.9s\tremaining: 29.7s\n",
      "349:\tlearn: 945.3612971\ttotal: 16s\tremaining: 29.7s\n",
      "350:\tlearn: 944.9891475\ttotal: 16s\tremaining: 29.6s\n",
      "351:\tlearn: 944.7335196\ttotal: 16.1s\tremaining: 29.6s\n",
      "352:\tlearn: 944.5304949\ttotal: 16.1s\tremaining: 29.5s\n",
      "353:\tlearn: 944.0805592\ttotal: 16.2s\tremaining: 29.5s\n",
      "354:\tlearn: 943.6982818\ttotal: 16.2s\tremaining: 29.4s\n",
      "355:\tlearn: 943.2829260\ttotal: 16.2s\tremaining: 29.4s\n",
      "356:\tlearn: 942.7445682\ttotal: 16.3s\tremaining: 29.3s\n",
      "357:\tlearn: 942.4625429\ttotal: 16.3s\tremaining: 29.3s\n",
      "358:\tlearn: 942.1265852\ttotal: 16.4s\tremaining: 29.3s\n",
      "359:\tlearn: 941.5281011\ttotal: 16.4s\tremaining: 29.2s\n",
      "360:\tlearn: 941.2333807\ttotal: 16.5s\tremaining: 29.2s\n",
      "361:\tlearn: 941.0517133\ttotal: 16.5s\tremaining: 29.1s\n",
      "362:\tlearn: 940.5968313\ttotal: 16.6s\tremaining: 29.1s\n",
      "363:\tlearn: 940.2158085\ttotal: 16.6s\tremaining: 29.1s\n",
      "364:\tlearn: 939.9076025\ttotal: 16.7s\tremaining: 29s\n",
      "365:\tlearn: 939.5063201\ttotal: 16.7s\tremaining: 29s\n",
      "366:\tlearn: 938.7397079\ttotal: 16.8s\tremaining: 28.9s\n",
      "367:\tlearn: 938.4132278\ttotal: 16.8s\tremaining: 28.9s\n",
      "368:\tlearn: 938.0363912\ttotal: 16.9s\tremaining: 28.8s\n",
      "369:\tlearn: 937.7044327\ttotal: 16.9s\tremaining: 28.8s\n",
      "370:\tlearn: 937.2661103\ttotal: 16.9s\tremaining: 28.7s\n",
      "371:\tlearn: 936.5855222\ttotal: 17s\tremaining: 28.7s\n",
      "372:\tlearn: 936.3487073\ttotal: 17s\tremaining: 28.6s\n",
      "373:\tlearn: 935.9987690\ttotal: 17.1s\tremaining: 28.6s\n",
      "374:\tlearn: 935.6535231\ttotal: 17.1s\tremaining: 28.5s\n",
      "375:\tlearn: 935.3272973\ttotal: 17.1s\tremaining: 28.5s\n",
      "376:\tlearn: 934.5573203\ttotal: 17.2s\tremaining: 28.4s\n",
      "377:\tlearn: 934.3125005\ttotal: 17.2s\tremaining: 28.4s\n",
      "378:\tlearn: 933.9122740\ttotal: 17.3s\tremaining: 28.3s\n",
      "379:\tlearn: 933.5890657\ttotal: 17.3s\tremaining: 28.3s\n",
      "380:\tlearn: 933.3570062\ttotal: 17.4s\tremaining: 28.2s\n",
      "381:\tlearn: 933.0352261\ttotal: 17.4s\tremaining: 28.2s\n",
      "382:\tlearn: 932.3215827\ttotal: 17.5s\tremaining: 28.1s\n",
      "383:\tlearn: 931.9169375\ttotal: 17.5s\tremaining: 28.1s\n",
      "384:\tlearn: 931.7179781\ttotal: 17.5s\tremaining: 28s\n",
      "385:\tlearn: 931.3662299\ttotal: 17.6s\tremaining: 28s\n",
      "386:\tlearn: 931.0132967\ttotal: 17.6s\tremaining: 27.9s\n",
      "387:\tlearn: 930.4617115\ttotal: 17.7s\tremaining: 27.9s\n",
      "388:\tlearn: 930.2147158\ttotal: 17.7s\tremaining: 27.8s\n",
      "389:\tlearn: 929.8880214\ttotal: 17.8s\tremaining: 27.8s\n",
      "390:\tlearn: 929.6495329\ttotal: 17.8s\tremaining: 27.7s\n",
      "391:\tlearn: 929.4353133\ttotal: 17.8s\tremaining: 27.7s\n",
      "392:\tlearn: 929.1038780\ttotal: 17.9s\tremaining: 27.6s\n",
      "393:\tlearn: 928.8240322\ttotal: 17.9s\tremaining: 27.6s\n",
      "394:\tlearn: 928.5228900\ttotal: 18s\tremaining: 27.5s\n",
      "395:\tlearn: 928.2235993\ttotal: 18s\tremaining: 27.5s\n",
      "396:\tlearn: 927.8315931\ttotal: 18.1s\tremaining: 27.5s\n",
      "397:\tlearn: 927.5131935\ttotal: 18.1s\tremaining: 27.4s\n",
      "398:\tlearn: 927.2978290\ttotal: 18.2s\tremaining: 27.4s\n",
      "399:\tlearn: 927.1118237\ttotal: 18.2s\tremaining: 27.3s\n",
      "400:\tlearn: 926.6764580\ttotal: 18.3s\tremaining: 27.3s\n",
      "401:\tlearn: 926.1755295\ttotal: 18.3s\tremaining: 27.2s\n",
      "402:\tlearn: 925.9988943\ttotal: 18.4s\tremaining: 27.2s\n",
      "403:\tlearn: 925.8264742\ttotal: 18.4s\tremaining: 27.1s\n",
      "404:\tlearn: 925.4037688\ttotal: 18.4s\tremaining: 27.1s\n",
      "405:\tlearn: 925.0851717\ttotal: 18.5s\tremaining: 27s\n",
      "406:\tlearn: 924.7026595\ttotal: 18.5s\tremaining: 27s\n",
      "407:\tlearn: 924.5318903\ttotal: 18.6s\tremaining: 27s\n",
      "408:\tlearn: 924.2425382\ttotal: 18.6s\tremaining: 26.9s\n",
      "409:\tlearn: 923.9918518\ttotal: 18.7s\tremaining: 26.9s\n",
      "410:\tlearn: 923.6490571\ttotal: 18.7s\tremaining: 26.8s\n",
      "411:\tlearn: 923.3398044\ttotal: 18.8s\tremaining: 26.8s\n",
      "412:\tlearn: 922.9767195\ttotal: 18.8s\tremaining: 26.7s\n",
      "413:\tlearn: 922.7341328\ttotal: 18.9s\tremaining: 26.7s\n",
      "414:\tlearn: 922.4539594\ttotal: 18.9s\tremaining: 26.6s\n",
      "415:\tlearn: 922.1019669\ttotal: 18.9s\tremaining: 26.6s\n",
      "416:\tlearn: 921.8739711\ttotal: 19s\tremaining: 26.5s\n",
      "417:\tlearn: 921.6957380\ttotal: 19s\tremaining: 26.5s\n",
      "418:\tlearn: 921.3910051\ttotal: 19.1s\tremaining: 26.5s\n",
      "419:\tlearn: 920.9239703\ttotal: 19.1s\tremaining: 26.4s\n",
      "420:\tlearn: 920.4798904\ttotal: 19.2s\tremaining: 26.4s\n",
      "421:\tlearn: 920.1993289\ttotal: 19.2s\tremaining: 26.3s\n",
      "422:\tlearn: 919.8962006\ttotal: 19.3s\tremaining: 26.3s\n",
      "423:\tlearn: 919.4023324\ttotal: 19.3s\tremaining: 26.3s\n",
      "424:\tlearn: 919.1442832\ttotal: 19.4s\tremaining: 26.2s\n",
      "425:\tlearn: 918.8332954\ttotal: 19.4s\tremaining: 26.2s\n",
      "426:\tlearn: 918.6102351\ttotal: 19.5s\tremaining: 26.1s\n",
      "427:\tlearn: 918.4171225\ttotal: 19.5s\tremaining: 26.1s\n",
      "428:\tlearn: 918.2527722\ttotal: 19.5s\tremaining: 26s\n",
      "429:\tlearn: 918.0980459\ttotal: 19.6s\tremaining: 26s\n",
      "430:\tlearn: 917.7094809\ttotal: 19.6s\tremaining: 25.9s\n",
      "431:\tlearn: 917.2895604\ttotal: 19.7s\tremaining: 25.9s\n",
      "432:\tlearn: 916.9917464\ttotal: 19.7s\tremaining: 25.8s\n",
      "433:\tlearn: 916.6516766\ttotal: 19.8s\tremaining: 25.8s\n",
      "434:\tlearn: 916.3998540\ttotal: 19.8s\tremaining: 25.7s\n",
      "435:\tlearn: 916.1379935\ttotal: 19.9s\tremaining: 25.7s\n",
      "436:\tlearn: 916.0289241\ttotal: 19.9s\tremaining: 25.6s\n",
      "437:\tlearn: 915.5383094\ttotal: 20s\tremaining: 25.6s\n",
      "438:\tlearn: 915.2240913\ttotal: 20s\tremaining: 25.6s\n",
      "439:\tlearn: 914.9642659\ttotal: 20s\tremaining: 25.5s\n",
      "440:\tlearn: 914.4308814\ttotal: 20.1s\tremaining: 25.5s\n",
      "441:\tlearn: 914.2325919\ttotal: 20.1s\tremaining: 25.4s\n",
      "442:\tlearn: 913.9605688\ttotal: 20.2s\tremaining: 25.4s\n",
      "443:\tlearn: 913.5418117\ttotal: 20.2s\tremaining: 25.4s\n",
      "444:\tlearn: 913.4054137\ttotal: 20.3s\tremaining: 25.3s\n",
      "445:\tlearn: 913.1144606\ttotal: 20.3s\tremaining: 25.3s\n",
      "446:\tlearn: 912.8618913\ttotal: 20.4s\tremaining: 25.2s\n",
      "447:\tlearn: 912.7080967\ttotal: 20.4s\tremaining: 25.2s\n",
      "448:\tlearn: 912.4103611\ttotal: 20.5s\tremaining: 25.2s\n",
      "449:\tlearn: 912.1197058\ttotal: 20.5s\tremaining: 25.1s\n",
      "450:\tlearn: 911.8515176\ttotal: 20.6s\tremaining: 25.1s\n",
      "451:\tlearn: 911.6434200\ttotal: 20.6s\tremaining: 25s\n",
      "452:\tlearn: 911.3252164\ttotal: 20.7s\tremaining: 25s\n",
      "453:\tlearn: 911.2171819\ttotal: 20.7s\tremaining: 24.9s\n",
      "454:\tlearn: 911.0456667\ttotal: 20.8s\tremaining: 24.9s\n",
      "455:\tlearn: 910.7537072\ttotal: 20.8s\tremaining: 24.8s\n",
      "456:\tlearn: 910.3921675\ttotal: 20.8s\tremaining: 24.8s\n",
      "457:\tlearn: 910.1059598\ttotal: 20.9s\tremaining: 24.7s\n",
      "458:\tlearn: 909.8930842\ttotal: 20.9s\tremaining: 24.7s\n",
      "459:\tlearn: 909.5475147\ttotal: 21s\tremaining: 24.6s\n",
      "460:\tlearn: 909.3113371\ttotal: 21s\tremaining: 24.6s\n",
      "461:\tlearn: 908.9749810\ttotal: 21.1s\tremaining: 24.5s\n",
      "462:\tlearn: 908.7483019\ttotal: 21.1s\tremaining: 24.5s\n",
      "463:\tlearn: 908.6068439\ttotal: 21.1s\tremaining: 24.4s\n",
      "464:\tlearn: 908.4201976\ttotal: 21.2s\tremaining: 24.4s\n",
      "465:\tlearn: 908.0262406\ttotal: 21.2s\tremaining: 24.3s\n",
      "466:\tlearn: 907.6681739\ttotal: 21.3s\tremaining: 24.3s\n",
      "467:\tlearn: 907.4664803\ttotal: 21.3s\tremaining: 24.2s\n",
      "468:\tlearn: 907.1912037\ttotal: 21.4s\tremaining: 24.2s\n",
      "469:\tlearn: 906.9520616\ttotal: 21.4s\tremaining: 24.1s\n",
      "470:\tlearn: 906.7700804\ttotal: 21.4s\tremaining: 24.1s\n",
      "471:\tlearn: 906.5855533\ttotal: 21.5s\tremaining: 24s\n",
      "472:\tlearn: 906.1997302\ttotal: 21.5s\tremaining: 24s\n",
      "473:\tlearn: 905.9690133\ttotal: 21.6s\tremaining: 23.9s\n",
      "474:\tlearn: 905.6070444\ttotal: 21.6s\tremaining: 23.9s\n",
      "475:\tlearn: 905.4132922\ttotal: 21.7s\tremaining: 23.9s\n",
      "476:\tlearn: 905.2448845\ttotal: 21.7s\tremaining: 23.8s\n",
      "477:\tlearn: 904.9376710\ttotal: 21.8s\tremaining: 23.8s\n",
      "478:\tlearn: 904.5825722\ttotal: 21.8s\tremaining: 23.7s\n",
      "479:\tlearn: 904.4871383\ttotal: 21.9s\tremaining: 23.7s\n",
      "480:\tlearn: 904.1528126\ttotal: 21.9s\tremaining: 23.6s\n",
      "481:\tlearn: 903.9788254\ttotal: 22s\tremaining: 23.6s\n",
      "482:\tlearn: 903.8270808\ttotal: 22s\tremaining: 23.6s\n",
      "483:\tlearn: 903.3466647\ttotal: 22s\tremaining: 23.5s\n",
      "484:\tlearn: 902.9945255\ttotal: 22.1s\tremaining: 23.5s\n",
      "485:\tlearn: 902.8050891\ttotal: 22.1s\tremaining: 23.4s\n",
      "486:\tlearn: 902.3800934\ttotal: 22.2s\tremaining: 23.4s\n",
      "487:\tlearn: 902.2211939\ttotal: 22.2s\tremaining: 23.3s\n",
      "488:\tlearn: 901.9911090\ttotal: 22.3s\tremaining: 23.3s\n",
      "489:\tlearn: 901.8099203\ttotal: 22.3s\tremaining: 23.2s\n",
      "490:\tlearn: 901.5056134\ttotal: 22.4s\tremaining: 23.2s\n",
      "491:\tlearn: 901.2473250\ttotal: 22.4s\tremaining: 23.1s\n",
      "492:\tlearn: 900.9458432\ttotal: 22.5s\tremaining: 23.1s\n",
      "493:\tlearn: 900.8038308\ttotal: 22.5s\tremaining: 23.1s\n",
      "494:\tlearn: 900.6803220\ttotal: 22.6s\tremaining: 23s\n",
      "495:\tlearn: 900.4889914\ttotal: 22.6s\tremaining: 23s\n",
      "496:\tlearn: 900.2767041\ttotal: 22.7s\tremaining: 22.9s\n",
      "497:\tlearn: 900.1098047\ttotal: 22.7s\tremaining: 22.9s\n",
      "498:\tlearn: 899.8599608\ttotal: 22.8s\tremaining: 22.8s\n",
      "499:\tlearn: 899.7004101\ttotal: 22.8s\tremaining: 22.8s\n",
      "500:\tlearn: 899.3189317\ttotal: 22.9s\tremaining: 22.8s\n",
      "501:\tlearn: 899.2175776\ttotal: 22.9s\tremaining: 22.7s\n",
      "502:\tlearn: 899.1126438\ttotal: 22.9s\tremaining: 22.7s\n",
      "503:\tlearn: 898.7591436\ttotal: 23s\tremaining: 22.6s\n",
      "504:\tlearn: 898.5585771\ttotal: 23s\tremaining: 22.6s\n",
      "505:\tlearn: 898.3161220\ttotal: 23.1s\tremaining: 22.5s\n",
      "506:\tlearn: 898.1786983\ttotal: 23.1s\tremaining: 22.5s\n",
      "507:\tlearn: 897.9952784\ttotal: 23.2s\tremaining: 22.5s\n",
      "508:\tlearn: 897.4336430\ttotal: 23.2s\tremaining: 22.4s\n",
      "509:\tlearn: 897.1898436\ttotal: 23.3s\tremaining: 22.4s\n",
      "510:\tlearn: 897.0069304\ttotal: 23.3s\tremaining: 22.3s\n",
      "511:\tlearn: 896.8031805\ttotal: 23.4s\tremaining: 22.3s\n",
      "512:\tlearn: 896.5538444\ttotal: 23.4s\tremaining: 22.2s\n",
      "513:\tlearn: 896.3110276\ttotal: 23.5s\tremaining: 22.2s\n",
      "514:\tlearn: 895.8965124\ttotal: 23.5s\tremaining: 22.1s\n",
      "515:\tlearn: 895.5876813\ttotal: 23.6s\tremaining: 22.1s\n",
      "516:\tlearn: 895.3646374\ttotal: 23.6s\tremaining: 22.1s\n",
      "517:\tlearn: 895.1503809\ttotal: 23.6s\tremaining: 22s\n",
      "518:\tlearn: 895.0325689\ttotal: 23.7s\tremaining: 22s\n",
      "519:\tlearn: 894.7063407\ttotal: 23.7s\tremaining: 21.9s\n",
      "520:\tlearn: 894.5838166\ttotal: 23.8s\tremaining: 21.9s\n",
      "521:\tlearn: 894.4246430\ttotal: 23.8s\tremaining: 21.8s\n",
      "522:\tlearn: 894.2112040\ttotal: 23.9s\tremaining: 21.8s\n",
      "523:\tlearn: 894.0038814\ttotal: 23.9s\tremaining: 21.7s\n",
      "524:\tlearn: 893.8367297\ttotal: 24s\tremaining: 21.7s\n",
      "525:\tlearn: 893.6654313\ttotal: 24s\tremaining: 21.6s\n",
      "526:\tlearn: 893.5116075\ttotal: 24s\tremaining: 21.6s\n",
      "527:\tlearn: 893.3222700\ttotal: 24.1s\tremaining: 21.5s\n",
      "528:\tlearn: 893.2359888\ttotal: 24.1s\tremaining: 21.5s\n",
      "529:\tlearn: 892.9068397\ttotal: 24.2s\tremaining: 21.4s\n",
      "530:\tlearn: 892.6022345\ttotal: 24.2s\tremaining: 21.4s\n",
      "531:\tlearn: 892.4229215\ttotal: 24.3s\tremaining: 21.3s\n",
      "532:\tlearn: 892.3574977\ttotal: 24.3s\tremaining: 21.3s\n",
      "533:\tlearn: 892.1842470\ttotal: 24.3s\tremaining: 21.2s\n",
      "534:\tlearn: 891.9484534\ttotal: 24.4s\tremaining: 21.2s\n",
      "535:\tlearn: 891.5870766\ttotal: 24.4s\tremaining: 21.1s\n",
      "536:\tlearn: 891.5067666\ttotal: 24.5s\tremaining: 21.1s\n",
      "537:\tlearn: 891.3189503\ttotal: 24.5s\tremaining: 21.1s\n",
      "538:\tlearn: 891.2041203\ttotal: 24.6s\tremaining: 21s\n",
      "539:\tlearn: 890.9719180\ttotal: 24.6s\tremaining: 21s\n",
      "540:\tlearn: 890.7065866\ttotal: 24.6s\tremaining: 20.9s\n",
      "541:\tlearn: 890.4850859\ttotal: 24.7s\tremaining: 20.9s\n",
      "542:\tlearn: 890.3292786\ttotal: 24.7s\tremaining: 20.8s\n",
      "543:\tlearn: 890.0605196\ttotal: 24.8s\tremaining: 20.8s\n",
      "544:\tlearn: 889.9652311\ttotal: 24.8s\tremaining: 20.7s\n",
      "545:\tlearn: 889.7613342\ttotal: 24.9s\tremaining: 20.7s\n",
      "546:\tlearn: 889.2624065\ttotal: 24.9s\tremaining: 20.6s\n",
      "547:\tlearn: 889.1011324\ttotal: 25s\tremaining: 20.6s\n",
      "548:\tlearn: 888.7784082\ttotal: 25s\tremaining: 20.5s\n",
      "549:\tlearn: 888.6139839\ttotal: 25s\tremaining: 20.5s\n",
      "550:\tlearn: 888.3716394\ttotal: 25.1s\tremaining: 20.5s\n",
      "551:\tlearn: 888.1993683\ttotal: 25.2s\tremaining: 20.4s\n",
      "552:\tlearn: 887.9153084\ttotal: 25.2s\tremaining: 20.4s\n",
      "553:\tlearn: 887.7953458\ttotal: 25.2s\tremaining: 20.3s\n",
      "554:\tlearn: 887.5105171\ttotal: 25.3s\tremaining: 20.3s\n",
      "555:\tlearn: 887.4107945\ttotal: 25.4s\tremaining: 20.3s\n",
      "556:\tlearn: 887.0051732\ttotal: 25.4s\tremaining: 20.2s\n",
      "557:\tlearn: 886.4611555\ttotal: 25.4s\tremaining: 20.2s\n",
      "558:\tlearn: 886.2190529\ttotal: 25.5s\tremaining: 20.1s\n",
      "559:\tlearn: 885.9253362\ttotal: 25.5s\tremaining: 20.1s\n",
      "560:\tlearn: 885.7276539\ttotal: 25.6s\tremaining: 20s\n",
      "561:\tlearn: 885.6273007\ttotal: 25.6s\tremaining: 20s\n",
      "562:\tlearn: 885.3960951\ttotal: 25.7s\tremaining: 19.9s\n",
      "563:\tlearn: 885.1105492\ttotal: 25.7s\tremaining: 19.9s\n",
      "564:\tlearn: 884.9366817\ttotal: 25.8s\tremaining: 19.8s\n",
      "565:\tlearn: 884.8276286\ttotal: 25.8s\tremaining: 19.8s\n",
      "566:\tlearn: 884.7236656\ttotal: 25.9s\tremaining: 19.7s\n",
      "567:\tlearn: 884.4640095\ttotal: 25.9s\tremaining: 19.7s\n",
      "568:\tlearn: 884.2678373\ttotal: 26s\tremaining: 19.7s\n",
      "569:\tlearn: 884.0295799\ttotal: 26s\tremaining: 19.6s\n",
      "570:\tlearn: 883.8502730\ttotal: 26.1s\tremaining: 19.6s\n",
      "571:\tlearn: 883.4497235\ttotal: 26.1s\tremaining: 19.5s\n",
      "572:\tlearn: 883.2024213\ttotal: 26.2s\tremaining: 19.5s\n",
      "573:\tlearn: 882.8907859\ttotal: 26.2s\tremaining: 19.5s\n",
      "574:\tlearn: 882.8381437\ttotal: 26.3s\tremaining: 19.4s\n",
      "575:\tlearn: 882.7011070\ttotal: 26.3s\tremaining: 19.4s\n",
      "576:\tlearn: 882.4934494\ttotal: 26.4s\tremaining: 19.3s\n",
      "577:\tlearn: 882.1860485\ttotal: 26.4s\tremaining: 19.3s\n",
      "578:\tlearn: 882.0809712\ttotal: 26.5s\tremaining: 19.2s\n",
      "579:\tlearn: 881.9355523\ttotal: 26.5s\tremaining: 19.2s\n",
      "580:\tlearn: 881.6700714\ttotal: 26.5s\tremaining: 19.1s\n",
      "581:\tlearn: 881.4361322\ttotal: 26.6s\tremaining: 19.1s\n",
      "582:\tlearn: 881.2544506\ttotal: 26.6s\tremaining: 19.1s\n",
      "583:\tlearn: 881.1276522\ttotal: 26.7s\tremaining: 19s\n",
      "584:\tlearn: 881.0149297\ttotal: 26.7s\tremaining: 19s\n",
      "585:\tlearn: 880.9208610\ttotal: 26.8s\tremaining: 18.9s\n",
      "586:\tlearn: 880.7460797\ttotal: 26.8s\tremaining: 18.9s\n",
      "587:\tlearn: 880.5853843\ttotal: 26.9s\tremaining: 18.8s\n",
      "588:\tlearn: 880.5032427\ttotal: 26.9s\tremaining: 18.8s\n",
      "589:\tlearn: 880.3534362\ttotal: 27s\tremaining: 18.7s\n",
      "590:\tlearn: 880.1944990\ttotal: 27s\tremaining: 18.7s\n",
      "591:\tlearn: 879.9841414\ttotal: 27.1s\tremaining: 18.7s\n",
      "592:\tlearn: 879.8757293\ttotal: 27.1s\tremaining: 18.6s\n",
      "593:\tlearn: 879.7279197\ttotal: 27.2s\tremaining: 18.6s\n",
      "594:\tlearn: 879.5318760\ttotal: 27.2s\tremaining: 18.5s\n",
      "595:\tlearn: 879.3236059\ttotal: 27.3s\tremaining: 18.5s\n",
      "596:\tlearn: 879.1454782\ttotal: 27.3s\tremaining: 18.4s\n",
      "597:\tlearn: 878.8191922\ttotal: 27.4s\tremaining: 18.4s\n",
      "598:\tlearn: 878.6106989\ttotal: 27.4s\tremaining: 18.3s\n",
      "599:\tlearn: 878.3568944\ttotal: 27.5s\tremaining: 18.3s\n",
      "600:\tlearn: 878.1322461\ttotal: 27.5s\tremaining: 18.3s\n",
      "601:\tlearn: 877.8491945\ttotal: 27.6s\tremaining: 18.2s\n",
      "602:\tlearn: 877.6690153\ttotal: 27.6s\tremaining: 18.2s\n",
      "603:\tlearn: 877.5492212\ttotal: 27.6s\tremaining: 18.1s\n",
      "604:\tlearn: 877.2861444\ttotal: 27.7s\tremaining: 18.1s\n",
      "605:\tlearn: 877.1913426\ttotal: 27.8s\tremaining: 18s\n",
      "606:\tlearn: 877.0745893\ttotal: 27.8s\tremaining: 18s\n",
      "607:\tlearn: 876.9148544\ttotal: 27.8s\tremaining: 18s\n",
      "608:\tlearn: 876.6331913\ttotal: 27.9s\tremaining: 17.9s\n",
      "609:\tlearn: 876.4608428\ttotal: 27.9s\tremaining: 17.9s\n",
      "610:\tlearn: 876.3074299\ttotal: 28s\tremaining: 17.8s\n",
      "611:\tlearn: 876.1039021\ttotal: 28s\tremaining: 17.8s\n",
      "612:\tlearn: 875.8374873\ttotal: 28.1s\tremaining: 17.7s\n",
      "613:\tlearn: 875.5731367\ttotal: 28.1s\tremaining: 17.7s\n",
      "614:\tlearn: 875.4177213\ttotal: 28.2s\tremaining: 17.6s\n",
      "615:\tlearn: 875.2990089\ttotal: 28.2s\tremaining: 17.6s\n",
      "616:\tlearn: 874.9576759\ttotal: 28.3s\tremaining: 17.6s\n",
      "617:\tlearn: 874.8689927\ttotal: 28.3s\tremaining: 17.5s\n",
      "618:\tlearn: 874.6747357\ttotal: 28.4s\tremaining: 17.5s\n",
      "619:\tlearn: 874.5220501\ttotal: 28.4s\tremaining: 17.4s\n",
      "620:\tlearn: 874.3701829\ttotal: 28.5s\tremaining: 17.4s\n",
      "621:\tlearn: 874.2698983\ttotal: 28.5s\tremaining: 17.3s\n",
      "622:\tlearn: 874.0411431\ttotal: 28.6s\tremaining: 17.3s\n",
      "623:\tlearn: 873.7353262\ttotal: 28.6s\tremaining: 17.2s\n",
      "624:\tlearn: 873.6403208\ttotal: 28.6s\tremaining: 17.2s\n",
      "625:\tlearn: 873.4619340\ttotal: 28.7s\tremaining: 17.1s\n",
      "626:\tlearn: 873.3600552\ttotal: 28.7s\tremaining: 17.1s\n",
      "627:\tlearn: 873.2165187\ttotal: 28.8s\tremaining: 17.1s\n",
      "628:\tlearn: 872.8960375\ttotal: 28.8s\tremaining: 17s\n",
      "629:\tlearn: 872.6759811\ttotal: 28.9s\tremaining: 17s\n",
      "630:\tlearn: 872.4381673\ttotal: 28.9s\tremaining: 16.9s\n",
      "631:\tlearn: 872.3411706\ttotal: 29s\tremaining: 16.9s\n",
      "632:\tlearn: 872.1406860\ttotal: 29s\tremaining: 16.8s\n",
      "633:\tlearn: 871.7892308\ttotal: 29.1s\tremaining: 16.8s\n",
      "634:\tlearn: 871.7033672\ttotal: 29.1s\tremaining: 16.7s\n",
      "635:\tlearn: 871.5787864\ttotal: 29.2s\tremaining: 16.7s\n",
      "636:\tlearn: 871.4305455\ttotal: 29.2s\tremaining: 16.6s\n",
      "637:\tlearn: 871.2823378\ttotal: 29.3s\tremaining: 16.6s\n",
      "638:\tlearn: 871.1878376\ttotal: 29.3s\tremaining: 16.6s\n",
      "639:\tlearn: 870.9769333\ttotal: 29.4s\tremaining: 16.5s\n",
      "640:\tlearn: 870.7308553\ttotal: 29.4s\tremaining: 16.5s\n",
      "641:\tlearn: 870.3266370\ttotal: 29.5s\tremaining: 16.4s\n",
      "642:\tlearn: 870.1542353\ttotal: 29.5s\tremaining: 16.4s\n",
      "643:\tlearn: 869.9518284\ttotal: 29.6s\tremaining: 16.3s\n",
      "644:\tlearn: 869.8504325\ttotal: 29.6s\tremaining: 16.3s\n",
      "645:\tlearn: 869.7314371\ttotal: 29.7s\tremaining: 16.3s\n",
      "646:\tlearn: 869.6430730\ttotal: 29.7s\tremaining: 16.2s\n",
      "647:\tlearn: 869.5596197\ttotal: 29.8s\tremaining: 16.2s\n",
      "648:\tlearn: 869.4519929\ttotal: 29.8s\tremaining: 16.1s\n",
      "649:\tlearn: 869.2692912\ttotal: 29.9s\tremaining: 16.1s\n",
      "650:\tlearn: 868.9365854\ttotal: 29.9s\tremaining: 16s\n",
      "651:\tlearn: 868.6901382\ttotal: 29.9s\tremaining: 16s\n",
      "652:\tlearn: 868.4345023\ttotal: 30s\tremaining: 15.9s\n",
      "653:\tlearn: 868.1917055\ttotal: 30s\tremaining: 15.9s\n",
      "654:\tlearn: 867.8409691\ttotal: 30.1s\tremaining: 15.9s\n",
      "655:\tlearn: 867.7735725\ttotal: 30.1s\tremaining: 15.8s\n",
      "656:\tlearn: 867.6174303\ttotal: 30.2s\tremaining: 15.8s\n",
      "657:\tlearn: 867.2174639\ttotal: 30.2s\tremaining: 15.7s\n",
      "658:\tlearn: 867.0414570\ttotal: 30.3s\tremaining: 15.7s\n",
      "659:\tlearn: 866.9187452\ttotal: 30.3s\tremaining: 15.6s\n",
      "660:\tlearn: 866.7993846\ttotal: 30.4s\tremaining: 15.6s\n",
      "661:\tlearn: 866.6530512\ttotal: 30.4s\tremaining: 15.5s\n",
      "662:\tlearn: 866.4187382\ttotal: 30.4s\tremaining: 15.5s\n",
      "663:\tlearn: 866.2820019\ttotal: 30.5s\tremaining: 15.4s\n",
      "664:\tlearn: 866.2019639\ttotal: 30.5s\tremaining: 15.4s\n",
      "665:\tlearn: 866.0830859\ttotal: 30.6s\tremaining: 15.3s\n",
      "666:\tlearn: 865.8812154\ttotal: 30.6s\tremaining: 15.3s\n",
      "667:\tlearn: 865.7416383\ttotal: 30.7s\tremaining: 15.2s\n",
      "668:\tlearn: 865.3960781\ttotal: 30.7s\tremaining: 15.2s\n",
      "669:\tlearn: 865.1608124\ttotal: 30.7s\tremaining: 15.1s\n",
      "670:\tlearn: 864.9843279\ttotal: 30.8s\tremaining: 15.1s\n",
      "671:\tlearn: 864.7773488\ttotal: 30.8s\tremaining: 15.1s\n",
      "672:\tlearn: 864.6701808\ttotal: 30.9s\tremaining: 15s\n",
      "673:\tlearn: 864.5599116\ttotal: 30.9s\tremaining: 15s\n",
      "674:\tlearn: 864.3853914\ttotal: 31s\tremaining: 14.9s\n",
      "675:\tlearn: 864.3081227\ttotal: 31s\tremaining: 14.9s\n",
      "676:\tlearn: 864.1531162\ttotal: 31s\tremaining: 14.8s\n",
      "677:\tlearn: 863.9219743\ttotal: 31.1s\tremaining: 14.8s\n",
      "678:\tlearn: 863.7803499\ttotal: 31.1s\tremaining: 14.7s\n",
      "679:\tlearn: 863.6494712\ttotal: 31.2s\tremaining: 14.7s\n",
      "680:\tlearn: 863.5097291\ttotal: 31.2s\tremaining: 14.6s\n",
      "681:\tlearn: 863.4387331\ttotal: 31.3s\tremaining: 14.6s\n",
      "682:\tlearn: 863.3351767\ttotal: 31.3s\tremaining: 14.5s\n",
      "683:\tlearn: 863.2110793\ttotal: 31.4s\tremaining: 14.5s\n",
      "684:\tlearn: 862.9661440\ttotal: 31.4s\tremaining: 14.4s\n",
      "685:\tlearn: 862.7792437\ttotal: 31.4s\tremaining: 14.4s\n",
      "686:\tlearn: 862.5483189\ttotal: 31.5s\tremaining: 14.3s\n",
      "687:\tlearn: 862.3843358\ttotal: 31.5s\tremaining: 14.3s\n",
      "688:\tlearn: 862.2768562\ttotal: 31.6s\tremaining: 14.2s\n",
      "689:\tlearn: 862.1750511\ttotal: 31.6s\tremaining: 14.2s\n",
      "690:\tlearn: 862.0214149\ttotal: 31.7s\tremaining: 14.2s\n",
      "691:\tlearn: 861.7942905\ttotal: 31.7s\tremaining: 14.1s\n",
      "692:\tlearn: 861.6776690\ttotal: 31.7s\tremaining: 14.1s\n",
      "693:\tlearn: 861.2362759\ttotal: 31.8s\tremaining: 14s\n",
      "694:\tlearn: 861.0807683\ttotal: 31.9s\tremaining: 14s\n",
      "695:\tlearn: 860.8617993\ttotal: 31.9s\tremaining: 13.9s\n",
      "696:\tlearn: 860.7064351\ttotal: 32s\tremaining: 13.9s\n",
      "697:\tlearn: 860.5624239\ttotal: 32s\tremaining: 13.8s\n",
      "698:\tlearn: 860.4734156\ttotal: 32s\tremaining: 13.8s\n",
      "699:\tlearn: 860.2964233\ttotal: 32.1s\tremaining: 13.7s\n",
      "700:\tlearn: 860.1729976\ttotal: 32.1s\tremaining: 13.7s\n",
      "701:\tlearn: 859.9618267\ttotal: 32.2s\tremaining: 13.7s\n",
      "702:\tlearn: 859.8441816\ttotal: 32.2s\tremaining: 13.6s\n",
      "703:\tlearn: 859.7490317\ttotal: 32.3s\tremaining: 13.6s\n",
      "704:\tlearn: 859.6772582\ttotal: 32.3s\tremaining: 13.5s\n",
      "705:\tlearn: 859.4959215\ttotal: 32.3s\tremaining: 13.5s\n",
      "706:\tlearn: 859.2423163\ttotal: 32.4s\tremaining: 13.4s\n",
      "707:\tlearn: 859.1442798\ttotal: 32.4s\tremaining: 13.4s\n",
      "708:\tlearn: 859.0263844\ttotal: 32.5s\tremaining: 13.3s\n",
      "709:\tlearn: 858.8222090\ttotal: 32.5s\tremaining: 13.3s\n",
      "710:\tlearn: 858.7080648\ttotal: 32.6s\tremaining: 13.2s\n",
      "711:\tlearn: 858.5315973\ttotal: 32.6s\tremaining: 13.2s\n",
      "712:\tlearn: 858.3772965\ttotal: 32.6s\tremaining: 13.1s\n",
      "713:\tlearn: 858.3037052\ttotal: 32.7s\tremaining: 13.1s\n",
      "714:\tlearn: 858.2124920\ttotal: 32.7s\tremaining: 13s\n",
      "715:\tlearn: 858.0751639\ttotal: 32.8s\tremaining: 13s\n",
      "716:\tlearn: 857.9505641\ttotal: 32.8s\tremaining: 13s\n",
      "717:\tlearn: 857.6987128\ttotal: 32.9s\tremaining: 12.9s\n",
      "718:\tlearn: 857.6143240\ttotal: 32.9s\tremaining: 12.9s\n",
      "719:\tlearn: 857.4991421\ttotal: 33s\tremaining: 12.8s\n",
      "720:\tlearn: 857.4040352\ttotal: 33s\tremaining: 12.8s\n",
      "721:\tlearn: 857.2945150\ttotal: 33s\tremaining: 12.7s\n",
      "722:\tlearn: 857.1149912\ttotal: 33.1s\tremaining: 12.7s\n",
      "723:\tlearn: 856.9831219\ttotal: 33.1s\tremaining: 12.6s\n",
      "724:\tlearn: 856.7120274\ttotal: 33.2s\tremaining: 12.6s\n",
      "725:\tlearn: 856.5481544\ttotal: 33.2s\tremaining: 12.5s\n",
      "726:\tlearn: 856.3544025\ttotal: 33.3s\tremaining: 12.5s\n",
      "727:\tlearn: 856.2163465\ttotal: 33.3s\tremaining: 12.4s\n",
      "728:\tlearn: 856.1329459\ttotal: 33.4s\tremaining: 12.4s\n",
      "729:\tlearn: 856.0009801\ttotal: 33.4s\tremaining: 12.4s\n",
      "730:\tlearn: 855.8978151\ttotal: 33.4s\tremaining: 12.3s\n",
      "731:\tlearn: 855.7874479\ttotal: 33.5s\tremaining: 12.3s\n",
      "732:\tlearn: 855.6333834\ttotal: 33.5s\tremaining: 12.2s\n",
      "733:\tlearn: 855.3671968\ttotal: 33.6s\tremaining: 12.2s\n",
      "734:\tlearn: 855.1406263\ttotal: 33.6s\tremaining: 12.1s\n",
      "735:\tlearn: 855.0850699\ttotal: 33.7s\tremaining: 12.1s\n",
      "736:\tlearn: 854.9653470\ttotal: 33.7s\tremaining: 12s\n",
      "737:\tlearn: 854.8699170\ttotal: 33.7s\tremaining: 12s\n",
      "738:\tlearn: 854.7103671\ttotal: 33.8s\tremaining: 11.9s\n",
      "739:\tlearn: 854.6608944\ttotal: 33.8s\tremaining: 11.9s\n",
      "740:\tlearn: 854.5357069\ttotal: 33.9s\tremaining: 11.8s\n",
      "741:\tlearn: 854.4200878\ttotal: 33.9s\tremaining: 11.8s\n",
      "742:\tlearn: 854.3161945\ttotal: 34s\tremaining: 11.7s\n",
      "743:\tlearn: 854.2070831\ttotal: 34s\tremaining: 11.7s\n",
      "744:\tlearn: 854.0055246\ttotal: 34.1s\tremaining: 11.7s\n",
      "745:\tlearn: 853.8454405\ttotal: 34.1s\tremaining: 11.6s\n",
      "746:\tlearn: 853.7756749\ttotal: 34.1s\tremaining: 11.6s\n",
      "747:\tlearn: 853.6926707\ttotal: 34.2s\tremaining: 11.5s\n",
      "748:\tlearn: 853.6053335\ttotal: 34.2s\tremaining: 11.5s\n",
      "749:\tlearn: 853.4865061\ttotal: 34.3s\tremaining: 11.4s\n",
      "750:\tlearn: 853.4055129\ttotal: 34.3s\tremaining: 11.4s\n",
      "751:\tlearn: 853.1355230\ttotal: 34.4s\tremaining: 11.3s\n",
      "752:\tlearn: 852.9250229\ttotal: 34.4s\tremaining: 11.3s\n",
      "753:\tlearn: 852.8320672\ttotal: 34.4s\tremaining: 11.2s\n",
      "754:\tlearn: 852.7465351\ttotal: 34.5s\tremaining: 11.2s\n",
      "755:\tlearn: 852.6303500\ttotal: 34.5s\tremaining: 11.1s\n",
      "756:\tlearn: 852.3161225\ttotal: 34.6s\tremaining: 11.1s\n",
      "757:\tlearn: 852.0733048\ttotal: 34.6s\tremaining: 11.1s\n",
      "758:\tlearn: 851.9158123\ttotal: 34.7s\tremaining: 11s\n",
      "759:\tlearn: 851.7581542\ttotal: 34.7s\tremaining: 11s\n",
      "760:\tlearn: 851.5250765\ttotal: 34.7s\tremaining: 10.9s\n",
      "761:\tlearn: 851.4509143\ttotal: 34.8s\tremaining: 10.9s\n",
      "762:\tlearn: 851.3383813\ttotal: 34.8s\tremaining: 10.8s\n",
      "763:\tlearn: 851.0901967\ttotal: 34.9s\tremaining: 10.8s\n",
      "764:\tlearn: 850.9938378\ttotal: 34.9s\tremaining: 10.7s\n",
      "765:\tlearn: 850.9011293\ttotal: 35s\tremaining: 10.7s\n",
      "766:\tlearn: 850.5687421\ttotal: 35s\tremaining: 10.6s\n",
      "767:\tlearn: 850.4450990\ttotal: 35.1s\tremaining: 10.6s\n",
      "768:\tlearn: 850.2254121\ttotal: 35.1s\tremaining: 10.5s\n",
      "769:\tlearn: 850.1714122\ttotal: 35.2s\tremaining: 10.5s\n",
      "770:\tlearn: 850.0422662\ttotal: 35.2s\tremaining: 10.5s\n",
      "771:\tlearn: 849.8839922\ttotal: 35.2s\tremaining: 10.4s\n",
      "772:\tlearn: 849.6766508\ttotal: 35.3s\tremaining: 10.4s\n",
      "773:\tlearn: 849.5504546\ttotal: 35.3s\tremaining: 10.3s\n",
      "774:\tlearn: 849.4373383\ttotal: 35.4s\tremaining: 10.3s\n",
      "775:\tlearn: 849.2954995\ttotal: 35.4s\tremaining: 10.2s\n",
      "776:\tlearn: 849.2310458\ttotal: 35.5s\tremaining: 10.2s\n",
      "777:\tlearn: 849.1581040\ttotal: 35.5s\tremaining: 10.1s\n",
      "778:\tlearn: 849.0504005\ttotal: 35.6s\tremaining: 10.1s\n",
      "779:\tlearn: 848.9260747\ttotal: 35.6s\tremaining: 10.1s\n",
      "780:\tlearn: 848.7881722\ttotal: 35.7s\tremaining: 10s\n",
      "781:\tlearn: 848.5886379\ttotal: 35.7s\tremaining: 9.96s\n",
      "782:\tlearn: 848.3712358\ttotal: 35.8s\tremaining: 9.92s\n",
      "783:\tlearn: 848.3234579\ttotal: 35.9s\tremaining: 9.88s\n",
      "784:\tlearn: 848.1538564\ttotal: 35.9s\tremaining: 9.84s\n",
      "785:\tlearn: 848.0452428\ttotal: 36s\tremaining: 9.79s\n",
      "786:\tlearn: 847.8801405\ttotal: 36s\tremaining: 9.75s\n",
      "787:\tlearn: 847.4975539\ttotal: 36.1s\tremaining: 9.71s\n",
      "788:\tlearn: 847.4036268\ttotal: 36.1s\tremaining: 9.66s\n",
      "789:\tlearn: 847.3268205\ttotal: 36.2s\tremaining: 9.62s\n",
      "790:\tlearn: 847.1153605\ttotal: 36.2s\tremaining: 9.57s\n",
      "791:\tlearn: 847.0136632\ttotal: 36.3s\tremaining: 9.52s\n",
      "792:\tlearn: 846.9280437\ttotal: 36.3s\tremaining: 9.47s\n",
      "793:\tlearn: 846.7235574\ttotal: 36.4s\tremaining: 9.43s\n",
      "794:\tlearn: 846.6375618\ttotal: 36.4s\tremaining: 9.38s\n",
      "795:\tlearn: 846.3927312\ttotal: 36.4s\tremaining: 9.34s\n",
      "796:\tlearn: 846.3179125\ttotal: 36.5s\tremaining: 9.29s\n",
      "797:\tlearn: 846.1830736\ttotal: 36.5s\tremaining: 9.24s\n",
      "798:\tlearn: 845.9899511\ttotal: 36.6s\tremaining: 9.2s\n",
      "799:\tlearn: 845.8555969\ttotal: 36.6s\tremaining: 9.15s\n",
      "800:\tlearn: 845.7735904\ttotal: 36.7s\tremaining: 9.11s\n",
      "801:\tlearn: 845.5498464\ttotal: 36.7s\tremaining: 9.06s\n",
      "802:\tlearn: 845.4178097\ttotal: 36.7s\tremaining: 9.01s\n",
      "803:\tlearn: 845.3024564\ttotal: 36.8s\tremaining: 8.96s\n",
      "804:\tlearn: 845.1746803\ttotal: 36.8s\tremaining: 8.92s\n",
      "805:\tlearn: 845.1151015\ttotal: 36.9s\tremaining: 8.87s\n",
      "806:\tlearn: 844.9141151\ttotal: 36.9s\tremaining: 8.82s\n",
      "807:\tlearn: 844.8187341\ttotal: 36.9s\tremaining: 8.78s\n",
      "808:\tlearn: 844.7031749\ttotal: 37s\tremaining: 8.73s\n",
      "809:\tlearn: 844.5139903\ttotal: 37s\tremaining: 8.69s\n",
      "810:\tlearn: 844.2769997\ttotal: 37.1s\tremaining: 8.64s\n",
      "811:\tlearn: 844.1453735\ttotal: 37.1s\tremaining: 8.59s\n",
      "812:\tlearn: 844.0160202\ttotal: 37.2s\tremaining: 8.55s\n",
      "813:\tlearn: 843.9179994\ttotal: 37.2s\tremaining: 8.5s\n",
      "814:\tlearn: 843.7798894\ttotal: 37.3s\tremaining: 8.46s\n",
      "815:\tlearn: 843.5528382\ttotal: 37.3s\tremaining: 8.41s\n",
      "816:\tlearn: 843.4556793\ttotal: 37.3s\tremaining: 8.36s\n",
      "817:\tlearn: 843.3007738\ttotal: 37.4s\tremaining: 8.32s\n",
      "818:\tlearn: 843.2345280\ttotal: 37.4s\tremaining: 8.27s\n",
      "819:\tlearn: 843.1944557\ttotal: 37.5s\tremaining: 8.22s\n",
      "820:\tlearn: 843.0734581\ttotal: 37.5s\tremaining: 8.18s\n",
      "821:\tlearn: 842.9281383\ttotal: 37.6s\tremaining: 8.13s\n",
      "822:\tlearn: 842.8174673\ttotal: 37.6s\tremaining: 8.09s\n",
      "823:\tlearn: 842.7316027\ttotal: 37.6s\tremaining: 8.04s\n",
      "824:\tlearn: 842.6173164\ttotal: 37.7s\tremaining: 7.99s\n",
      "825:\tlearn: 842.4804799\ttotal: 37.7s\tremaining: 7.95s\n",
      "826:\tlearn: 842.3805692\ttotal: 37.8s\tremaining: 7.9s\n",
      "827:\tlearn: 842.2583124\ttotal: 37.8s\tremaining: 7.86s\n",
      "828:\tlearn: 842.1487973\ttotal: 37.9s\tremaining: 7.81s\n",
      "829:\tlearn: 841.9902657\ttotal: 37.9s\tremaining: 7.77s\n",
      "830:\tlearn: 841.8140673\ttotal: 38s\tremaining: 7.72s\n",
      "831:\tlearn: 841.7528685\ttotal: 38s\tremaining: 7.68s\n",
      "832:\tlearn: 841.6283285\ttotal: 38.1s\tremaining: 7.63s\n",
      "833:\tlearn: 841.5502704\ttotal: 38.1s\tremaining: 7.59s\n",
      "834:\tlearn: 841.4258515\ttotal: 38.2s\tremaining: 7.54s\n",
      "835:\tlearn: 841.2567365\ttotal: 38.2s\tremaining: 7.49s\n",
      "836:\tlearn: 841.1727244\ttotal: 38.2s\tremaining: 7.45s\n",
      "837:\tlearn: 841.0759981\ttotal: 38.3s\tremaining: 7.4s\n",
      "838:\tlearn: 840.9682472\ttotal: 38.3s\tremaining: 7.36s\n",
      "839:\tlearn: 840.8289815\ttotal: 38.4s\tremaining: 7.31s\n",
      "840:\tlearn: 840.7577094\ttotal: 38.4s\tremaining: 7.26s\n",
      "841:\tlearn: 840.6055850\ttotal: 38.5s\tremaining: 7.22s\n",
      "842:\tlearn: 840.4049523\ttotal: 38.5s\tremaining: 7.17s\n",
      "843:\tlearn: 840.2978604\ttotal: 38.6s\tremaining: 7.13s\n",
      "844:\tlearn: 840.1719049\ttotal: 38.6s\tremaining: 7.08s\n",
      "845:\tlearn: 840.1128136\ttotal: 38.7s\tremaining: 7.04s\n",
      "846:\tlearn: 840.0178002\ttotal: 38.7s\tremaining: 6.99s\n",
      "847:\tlearn: 839.8992710\ttotal: 38.7s\tremaining: 6.95s\n",
      "848:\tlearn: 839.6984327\ttotal: 38.8s\tremaining: 6.9s\n",
      "849:\tlearn: 839.5948830\ttotal: 38.8s\tremaining: 6.85s\n",
      "850:\tlearn: 839.4836760\ttotal: 38.9s\tremaining: 6.81s\n",
      "851:\tlearn: 839.3378112\ttotal: 38.9s\tremaining: 6.76s\n",
      "852:\tlearn: 839.2435990\ttotal: 39s\tremaining: 6.71s\n",
      "853:\tlearn: 839.1040962\ttotal: 39s\tremaining: 6.67s\n",
      "854:\tlearn: 838.9770993\ttotal: 39.1s\tremaining: 6.62s\n",
      "855:\tlearn: 838.8215384\ttotal: 39.1s\tremaining: 6.58s\n",
      "856:\tlearn: 838.7451732\ttotal: 39.2s\tremaining: 6.53s\n",
      "857:\tlearn: 838.7173100\ttotal: 39.2s\tremaining: 6.49s\n",
      "858:\tlearn: 838.6343096\ttotal: 39.3s\tremaining: 6.44s\n",
      "859:\tlearn: 838.5599569\ttotal: 39.3s\tremaining: 6.4s\n",
      "860:\tlearn: 838.2417951\ttotal: 39.3s\tremaining: 6.35s\n",
      "861:\tlearn: 838.1979781\ttotal: 39.4s\tremaining: 6.3s\n",
      "862:\tlearn: 838.1267868\ttotal: 39.4s\tremaining: 6.26s\n",
      "863:\tlearn: 838.0074892\ttotal: 39.5s\tremaining: 6.21s\n",
      "864:\tlearn: 837.7179987\ttotal: 39.5s\tremaining: 6.17s\n",
      "865:\tlearn: 837.4913925\ttotal: 39.6s\tremaining: 6.12s\n",
      "866:\tlearn: 837.1724695\ttotal: 39.6s\tremaining: 6.08s\n",
      "867:\tlearn: 837.0265792\ttotal: 39.6s\tremaining: 6.03s\n",
      "868:\tlearn: 836.9380531\ttotal: 39.7s\tremaining: 5.98s\n",
      "869:\tlearn: 836.8557632\ttotal: 39.7s\tremaining: 5.94s\n",
      "870:\tlearn: 836.7387542\ttotal: 39.8s\tremaining: 5.89s\n",
      "871:\tlearn: 836.5986400\ttotal: 39.8s\tremaining: 5.84s\n",
      "872:\tlearn: 836.5288169\ttotal: 39.9s\tremaining: 5.8s\n",
      "873:\tlearn: 836.4777313\ttotal: 39.9s\tremaining: 5.75s\n",
      "874:\tlearn: 836.3192278\ttotal: 39.9s\tremaining: 5.71s\n",
      "875:\tlearn: 836.1886657\ttotal: 40s\tremaining: 5.66s\n",
      "876:\tlearn: 836.1072667\ttotal: 40s\tremaining: 5.61s\n",
      "877:\tlearn: 836.0024991\ttotal: 40.1s\tremaining: 5.57s\n",
      "878:\tlearn: 835.8453440\ttotal: 40.1s\tremaining: 5.52s\n",
      "879:\tlearn: 835.7344767\ttotal: 40.2s\tremaining: 5.48s\n",
      "880:\tlearn: 835.6253944\ttotal: 40.2s\tremaining: 5.43s\n",
      "881:\tlearn: 835.5830450\ttotal: 40.2s\tremaining: 5.38s\n",
      "882:\tlearn: 835.4465303\ttotal: 40.3s\tremaining: 5.34s\n",
      "883:\tlearn: 835.3422174\ttotal: 40.3s\tremaining: 5.29s\n",
      "884:\tlearn: 835.2707337\ttotal: 40.4s\tremaining: 5.25s\n",
      "885:\tlearn: 835.1540542\ttotal: 40.4s\tremaining: 5.2s\n",
      "886:\tlearn: 835.0791028\ttotal: 40.5s\tremaining: 5.15s\n",
      "887:\tlearn: 835.0076552\ttotal: 40.5s\tremaining: 5.11s\n",
      "888:\tlearn: 834.9383318\ttotal: 40.5s\tremaining: 5.06s\n",
      "889:\tlearn: 834.8371606\ttotal: 40.6s\tremaining: 5.02s\n",
      "890:\tlearn: 834.7297852\ttotal: 40.6s\tremaining: 4.97s\n",
      "891:\tlearn: 834.5952790\ttotal: 40.7s\tremaining: 4.92s\n",
      "892:\tlearn: 834.5183527\ttotal: 40.7s\tremaining: 4.88s\n",
      "893:\tlearn: 834.3547043\ttotal: 40.8s\tremaining: 4.83s\n",
      "894:\tlearn: 834.2856779\ttotal: 40.8s\tremaining: 4.79s\n",
      "895:\tlearn: 834.2221271\ttotal: 40.8s\tremaining: 4.74s\n",
      "896:\tlearn: 834.0922415\ttotal: 40.9s\tremaining: 4.7s\n",
      "897:\tlearn: 833.9319853\ttotal: 40.9s\tremaining: 4.65s\n",
      "898:\tlearn: 833.8594873\ttotal: 41s\tremaining: 4.6s\n",
      "899:\tlearn: 833.7599500\ttotal: 41s\tremaining: 4.56s\n",
      "900:\tlearn: 833.6310376\ttotal: 41.1s\tremaining: 4.51s\n",
      "901:\tlearn: 833.5787858\ttotal: 41.1s\tremaining: 4.47s\n",
      "902:\tlearn: 833.4697336\ttotal: 41.2s\tremaining: 4.42s\n",
      "903:\tlearn: 833.3643337\ttotal: 41.2s\tremaining: 4.38s\n",
      "904:\tlearn: 833.2802012\ttotal: 41.3s\tremaining: 4.33s\n",
      "905:\tlearn: 833.1660842\ttotal: 41.3s\tremaining: 4.29s\n",
      "906:\tlearn: 833.0585887\ttotal: 41.3s\tremaining: 4.24s\n",
      "907:\tlearn: 832.8640678\ttotal: 41.4s\tremaining: 4.19s\n",
      "908:\tlearn: 832.7534738\ttotal: 41.4s\tremaining: 4.15s\n",
      "909:\tlearn: 832.6308341\ttotal: 41.5s\tremaining: 4.1s\n",
      "910:\tlearn: 832.5332832\ttotal: 41.5s\tremaining: 4.06s\n",
      "911:\tlearn: 832.4391752\ttotal: 41.6s\tremaining: 4.01s\n",
      "912:\tlearn: 832.3975854\ttotal: 41.6s\tremaining: 3.96s\n",
      "913:\tlearn: 832.2507194\ttotal: 41.6s\tremaining: 3.92s\n",
      "914:\tlearn: 832.0737095\ttotal: 41.7s\tremaining: 3.87s\n",
      "915:\tlearn: 831.8771944\ttotal: 41.7s\tremaining: 3.83s\n",
      "916:\tlearn: 831.7543997\ttotal: 41.8s\tremaining: 3.78s\n",
      "917:\tlearn: 831.6879843\ttotal: 41.8s\tremaining: 3.73s\n",
      "918:\tlearn: 831.5186262\ttotal: 41.9s\tremaining: 3.69s\n",
      "919:\tlearn: 831.4157537\ttotal: 41.9s\tremaining: 3.64s\n",
      "920:\tlearn: 831.3204489\ttotal: 41.9s\tremaining: 3.6s\n",
      "921:\tlearn: 831.1673039\ttotal: 42s\tremaining: 3.55s\n",
      "922:\tlearn: 831.0735390\ttotal: 42s\tremaining: 3.51s\n",
      "923:\tlearn: 830.9362690\ttotal: 42.1s\tremaining: 3.46s\n",
      "924:\tlearn: 830.8700546\ttotal: 42.1s\tremaining: 3.42s\n",
      "925:\tlearn: 830.7791060\ttotal: 42.2s\tremaining: 3.37s\n",
      "926:\tlearn: 830.7255087\ttotal: 42.2s\tremaining: 3.32s\n",
      "927:\tlearn: 830.6590334\ttotal: 42.3s\tremaining: 3.28s\n",
      "928:\tlearn: 830.5752982\ttotal: 42.3s\tremaining: 3.23s\n",
      "929:\tlearn: 830.4925897\ttotal: 42.3s\tremaining: 3.19s\n",
      "930:\tlearn: 830.3894437\ttotal: 42.4s\tremaining: 3.14s\n",
      "931:\tlearn: 830.2097839\ttotal: 42.4s\tremaining: 3.1s\n",
      "932:\tlearn: 830.0397207\ttotal: 42.5s\tremaining: 3.05s\n",
      "933:\tlearn: 830.0105093\ttotal: 42.5s\tremaining: 3s\n",
      "934:\tlearn: 829.9126873\ttotal: 42.6s\tremaining: 2.96s\n",
      "935:\tlearn: 829.8198295\ttotal: 42.6s\tremaining: 2.91s\n",
      "936:\tlearn: 829.7591226\ttotal: 42.6s\tremaining: 2.87s\n",
      "937:\tlearn: 829.6813912\ttotal: 42.7s\tremaining: 2.82s\n",
      "938:\tlearn: 829.5161636\ttotal: 42.7s\tremaining: 2.77s\n",
      "939:\tlearn: 829.4033761\ttotal: 42.8s\tremaining: 2.73s\n",
      "940:\tlearn: 829.2369614\ttotal: 42.8s\tremaining: 2.68s\n",
      "941:\tlearn: 829.2118844\ttotal: 42.9s\tremaining: 2.64s\n",
      "942:\tlearn: 829.0908370\ttotal: 42.9s\tremaining: 2.59s\n",
      "943:\tlearn: 828.9692348\ttotal: 42.9s\tremaining: 2.55s\n",
      "944:\tlearn: 828.8287644\ttotal: 43s\tremaining: 2.5s\n",
      "945:\tlearn: 828.6653596\ttotal: 43s\tremaining: 2.46s\n",
      "946:\tlearn: 828.5513256\ttotal: 43.1s\tremaining: 2.41s\n",
      "947:\tlearn: 828.4636814\ttotal: 43.1s\tremaining: 2.37s\n",
      "948:\tlearn: 828.4349884\ttotal: 43.2s\tremaining: 2.32s\n",
      "949:\tlearn: 828.3606118\ttotal: 43.2s\tremaining: 2.27s\n",
      "950:\tlearn: 828.2668098\ttotal: 43.3s\tremaining: 2.23s\n",
      "951:\tlearn: 828.1969133\ttotal: 43.3s\tremaining: 2.18s\n",
      "952:\tlearn: 828.1093507\ttotal: 43.4s\tremaining: 2.14s\n",
      "953:\tlearn: 827.8775798\ttotal: 43.4s\tremaining: 2.09s\n",
      "954:\tlearn: 827.7697392\ttotal: 43.4s\tremaining: 2.05s\n",
      "955:\tlearn: 827.6959553\ttotal: 43.5s\tremaining: 2s\n",
      "956:\tlearn: 827.6129191\ttotal: 43.5s\tremaining: 1.96s\n",
      "957:\tlearn: 827.5359340\ttotal: 43.6s\tremaining: 1.91s\n",
      "958:\tlearn: 827.4650817\ttotal: 43.6s\tremaining: 1.86s\n",
      "959:\tlearn: 827.3051106\ttotal: 43.7s\tremaining: 1.82s\n",
      "960:\tlearn: 827.2622767\ttotal: 43.7s\tremaining: 1.77s\n",
      "961:\tlearn: 827.1353550\ttotal: 43.7s\tremaining: 1.73s\n",
      "962:\tlearn: 826.9523726\ttotal: 43.8s\tremaining: 1.68s\n",
      "963:\tlearn: 826.8846174\ttotal: 43.8s\tremaining: 1.64s\n",
      "964:\tlearn: 826.8084650\ttotal: 43.9s\tremaining: 1.59s\n",
      "965:\tlearn: 826.7221903\ttotal: 43.9s\tremaining: 1.54s\n",
      "966:\tlearn: 826.6463129\ttotal: 44s\tremaining: 1.5s\n",
      "967:\tlearn: 826.3826009\ttotal: 44s\tremaining: 1.45s\n",
      "968:\tlearn: 826.3304338\ttotal: 44s\tremaining: 1.41s\n",
      "969:\tlearn: 826.2476275\ttotal: 44.1s\tremaining: 1.36s\n",
      "970:\tlearn: 826.0892362\ttotal: 44.1s\tremaining: 1.32s\n",
      "971:\tlearn: 826.0416936\ttotal: 44.2s\tremaining: 1.27s\n",
      "972:\tlearn: 825.9223827\ttotal: 44.2s\tremaining: 1.23s\n",
      "973:\tlearn: 825.7961864\ttotal: 44.3s\tremaining: 1.18s\n",
      "974:\tlearn: 825.7413573\ttotal: 44.3s\tremaining: 1.14s\n",
      "975:\tlearn: 825.6465186\ttotal: 44.3s\tremaining: 1.09s\n",
      "976:\tlearn: 825.4982233\ttotal: 44.4s\tremaining: 1.04s\n",
      "977:\tlearn: 825.3558511\ttotal: 44.4s\tremaining: 999ms\n",
      "978:\tlearn: 825.1877454\ttotal: 44.5s\tremaining: 954ms\n",
      "979:\tlearn: 825.0809034\ttotal: 44.5s\tremaining: 908ms\n",
      "980:\tlearn: 825.0095379\ttotal: 44.5s\tremaining: 863ms\n",
      "981:\tlearn: 824.8921555\ttotal: 44.6s\tremaining: 817ms\n",
      "982:\tlearn: 824.8177410\ttotal: 44.6s\tremaining: 772ms\n",
      "983:\tlearn: 824.6777516\ttotal: 44.7s\tremaining: 727ms\n",
      "984:\tlearn: 824.6010817\ttotal: 44.7s\tremaining: 681ms\n",
      "985:\tlearn: 824.4790593\ttotal: 44.8s\tremaining: 636ms\n",
      "986:\tlearn: 824.2834510\ttotal: 44.8s\tremaining: 590ms\n",
      "987:\tlearn: 824.2031252\ttotal: 44.9s\tremaining: 545ms\n",
      "988:\tlearn: 824.1530325\ttotal: 44.9s\tremaining: 499ms\n",
      "989:\tlearn: 824.1136652\ttotal: 45s\tremaining: 454ms\n",
      "990:\tlearn: 824.0730132\ttotal: 45s\tremaining: 409ms\n",
      "991:\tlearn: 823.9697822\ttotal: 45s\tremaining: 363ms\n",
      "992:\tlearn: 823.9446560\ttotal: 45.1s\tremaining: 318ms\n",
      "993:\tlearn: 823.8287242\ttotal: 45.1s\tremaining: 273ms\n",
      "994:\tlearn: 823.7443897\ttotal: 45.2s\tremaining: 227ms\n",
      "995:\tlearn: 823.6435613\ttotal: 45.2s\tremaining: 182ms\n",
      "996:\tlearn: 823.5122985\ttotal: 45.3s\tremaining: 136ms\n",
      "997:\tlearn: 823.4279731\ttotal: 45.3s\tremaining: 90.8ms\n",
      "998:\tlearn: 823.3309778\ttotal: 45.4s\tremaining: 45.4ms\n",
      "999:\tlearn: 823.2590574\ttotal: 45.4s\tremaining: 0us\n",
      "0:\tlearn: 1910.7419182\ttotal: 56.1ms\tremaining: 56.1s\n",
      "1:\tlearn: 1715.4485358\ttotal: 115ms\tremaining: 57.2s\n",
      "2:\tlearn: 1627.3504451\ttotal: 168ms\tremaining: 55.7s\n",
      "3:\tlearn: 1567.4220263\ttotal: 226ms\tremaining: 56.3s\n",
      "4:\tlearn: 1521.4331295\ttotal: 280ms\tremaining: 55.8s\n",
      "5:\tlearn: 1490.4828271\ttotal: 342ms\tremaining: 56.6s\n",
      "6:\tlearn: 1469.3239154\ttotal: 401ms\tremaining: 56.8s\n",
      "7:\tlearn: 1449.7672209\ttotal: 466ms\tremaining: 57.8s\n",
      "8:\tlearn: 1436.3274867\ttotal: 529ms\tremaining: 58.2s\n",
      "9:\tlearn: 1422.8812018\ttotal: 588ms\tremaining: 58.2s\n",
      "10:\tlearn: 1411.9461055\ttotal: 644ms\tremaining: 57.9s\n",
      "11:\tlearn: 1403.7453875\ttotal: 707ms\tremaining: 58.2s\n",
      "12:\tlearn: 1395.8001866\ttotal: 763ms\tremaining: 58s\n",
      "13:\tlearn: 1383.1028271\ttotal: 823ms\tremaining: 57.9s\n",
      "14:\tlearn: 1372.5616009\ttotal: 879ms\tremaining: 57.7s\n",
      "15:\tlearn: 1367.1610128\ttotal: 935ms\tremaining: 57.5s\n",
      "16:\tlearn: 1359.1301542\ttotal: 1s\tremaining: 57.8s\n",
      "17:\tlearn: 1350.3125093\ttotal: 1.07s\tremaining: 58.4s\n",
      "18:\tlearn: 1344.4365822\ttotal: 1.13s\tremaining: 58.2s\n",
      "19:\tlearn: 1340.4536798\ttotal: 1.19s\tremaining: 58.1s\n",
      "20:\tlearn: 1335.5765639\ttotal: 1.24s\tremaining: 57.9s\n",
      "21:\tlearn: 1331.1515074\ttotal: 1.3s\tremaining: 57.9s\n",
      "22:\tlearn: 1327.2742042\ttotal: 1.36s\tremaining: 57.7s\n",
      "23:\tlearn: 1323.6104553\ttotal: 1.42s\tremaining: 57.6s\n",
      "24:\tlearn: 1319.2911353\ttotal: 1.48s\tremaining: 57.8s\n",
      "25:\tlearn: 1315.0902748\ttotal: 1.53s\tremaining: 57.5s\n",
      "26:\tlearn: 1311.6526107\ttotal: 1.59s\tremaining: 57.5s\n",
      "27:\tlearn: 1308.8834556\ttotal: 1.65s\tremaining: 57.4s\n",
      "28:\tlearn: 1304.6441529\ttotal: 1.71s\tremaining: 57.3s\n",
      "29:\tlearn: 1300.8129976\ttotal: 1.77s\tremaining: 57.2s\n",
      "30:\tlearn: 1296.8541779\ttotal: 1.82s\tremaining: 57s\n",
      "31:\tlearn: 1292.2439067\ttotal: 1.88s\tremaining: 57s\n",
      "32:\tlearn: 1288.3848031\ttotal: 1.94s\tremaining: 56.8s\n",
      "33:\tlearn: 1284.3093708\ttotal: 2s\tremaining: 56.8s\n",
      "34:\tlearn: 1279.9750384\ttotal: 2.06s\tremaining: 56.7s\n",
      "35:\tlearn: 1276.4293664\ttotal: 2.12s\tremaining: 56.6s\n",
      "36:\tlearn: 1272.1271939\ttotal: 2.18s\tremaining: 56.7s\n",
      "37:\tlearn: 1269.2383014\ttotal: 2.23s\tremaining: 56.5s\n",
      "38:\tlearn: 1266.5543183\ttotal: 2.29s\tremaining: 56.5s\n",
      "39:\tlearn: 1263.1242712\ttotal: 2.35s\tremaining: 56.5s\n",
      "40:\tlearn: 1261.4046758\ttotal: 2.41s\tremaining: 56.4s\n",
      "41:\tlearn: 1258.9495441\ttotal: 2.47s\tremaining: 56.4s\n",
      "42:\tlearn: 1254.8254396\ttotal: 2.53s\tremaining: 56.2s\n",
      "43:\tlearn: 1252.3002400\ttotal: 2.59s\tremaining: 56.3s\n",
      "44:\tlearn: 1249.4672113\ttotal: 2.64s\tremaining: 56.1s\n",
      "45:\tlearn: 1247.8368433\ttotal: 2.7s\tremaining: 56s\n",
      "46:\tlearn: 1245.5915183\ttotal: 2.76s\tremaining: 55.9s\n",
      "47:\tlearn: 1243.1688612\ttotal: 2.81s\tremaining: 55.8s\n",
      "48:\tlearn: 1240.5632810\ttotal: 2.88s\tremaining: 55.8s\n",
      "49:\tlearn: 1237.7923193\ttotal: 2.93s\tremaining: 55.7s\n",
      "50:\tlearn: 1235.8421805\ttotal: 2.99s\tremaining: 55.6s\n",
      "51:\tlearn: 1232.8546761\ttotal: 3.05s\tremaining: 55.5s\n",
      "52:\tlearn: 1230.7142824\ttotal: 3.1s\tremaining: 55.4s\n",
      "53:\tlearn: 1229.3698548\ttotal: 3.16s\tremaining: 55.4s\n",
      "54:\tlearn: 1227.3306723\ttotal: 3.21s\tremaining: 55.2s\n",
      "55:\tlearn: 1225.4471200\ttotal: 3.27s\tremaining: 55.2s\n",
      "56:\tlearn: 1223.4630745\ttotal: 3.33s\tremaining: 55.2s\n",
      "57:\tlearn: 1221.0590015\ttotal: 3.4s\tremaining: 55.2s\n",
      "58:\tlearn: 1219.4729841\ttotal: 3.46s\tremaining: 55.2s\n",
      "59:\tlearn: 1217.0922793\ttotal: 3.52s\tremaining: 55.1s\n",
      "60:\tlearn: 1214.7671348\ttotal: 3.58s\tremaining: 55s\n",
      "61:\tlearn: 1212.5693732\ttotal: 3.64s\tremaining: 55s\n",
      "62:\tlearn: 1209.4548155\ttotal: 3.69s\tremaining: 54.9s\n",
      "63:\tlearn: 1208.7329939\ttotal: 3.75s\tremaining: 54.9s\n",
      "64:\tlearn: 1207.1073044\ttotal: 3.81s\tremaining: 54.8s\n",
      "65:\tlearn: 1205.7135820\ttotal: 3.86s\tremaining: 54.7s\n",
      "66:\tlearn: 1203.2882585\ttotal: 3.92s\tremaining: 54.7s\n",
      "67:\tlearn: 1200.8744048\ttotal: 3.98s\tremaining: 54.6s\n",
      "68:\tlearn: 1198.2234447\ttotal: 4.04s\tremaining: 54.5s\n",
      "69:\tlearn: 1195.6681181\ttotal: 4.1s\tremaining: 54.4s\n",
      "70:\tlearn: 1194.5536540\ttotal: 4.15s\tremaining: 54.4s\n",
      "71:\tlearn: 1192.4121840\ttotal: 4.21s\tremaining: 54.3s\n",
      "72:\tlearn: 1190.3069025\ttotal: 4.27s\tremaining: 54.2s\n",
      "73:\tlearn: 1188.7457468\ttotal: 4.33s\tremaining: 54.2s\n",
      "74:\tlearn: 1187.0805536\ttotal: 4.39s\tremaining: 54.2s\n",
      "75:\tlearn: 1185.0187797\ttotal: 4.45s\tremaining: 54.1s\n",
      "76:\tlearn: 1182.6510786\ttotal: 4.51s\tremaining: 54.1s\n",
      "77:\tlearn: 1180.8657885\ttotal: 4.58s\tremaining: 54.1s\n",
      "78:\tlearn: 1179.3483844\ttotal: 4.64s\tremaining: 54.1s\n",
      "79:\tlearn: 1178.2361117\ttotal: 4.7s\tremaining: 54s\n",
      "80:\tlearn: 1176.2878985\ttotal: 4.75s\tremaining: 53.9s\n",
      "81:\tlearn: 1174.7174552\ttotal: 4.81s\tremaining: 53.9s\n",
      "82:\tlearn: 1173.3200491\ttotal: 4.87s\tremaining: 53.8s\n",
      "83:\tlearn: 1171.6549363\ttotal: 4.93s\tremaining: 53.8s\n",
      "84:\tlearn: 1170.3590232\ttotal: 5s\tremaining: 53.8s\n",
      "85:\tlearn: 1168.8903779\ttotal: 5.05s\tremaining: 53.7s\n",
      "86:\tlearn: 1168.0370858\ttotal: 5.11s\tremaining: 53.6s\n",
      "87:\tlearn: 1166.0435729\ttotal: 5.16s\tremaining: 53.5s\n",
      "88:\tlearn: 1165.2749462\ttotal: 5.22s\tremaining: 53.4s\n",
      "89:\tlearn: 1164.2494944\ttotal: 5.28s\tremaining: 53.4s\n",
      "90:\tlearn: 1163.3911852\ttotal: 5.34s\tremaining: 53.4s\n",
      "91:\tlearn: 1161.4023809\ttotal: 5.41s\tremaining: 53.4s\n",
      "92:\tlearn: 1159.9816919\ttotal: 5.47s\tremaining: 53.4s\n",
      "93:\tlearn: 1158.3288693\ttotal: 5.54s\tremaining: 53.4s\n",
      "94:\tlearn: 1157.4214853\ttotal: 5.6s\tremaining: 53.3s\n",
      "95:\tlearn: 1156.5700684\ttotal: 5.65s\tremaining: 53.2s\n",
      "96:\tlearn: 1154.9406112\ttotal: 5.71s\tremaining: 53.2s\n",
      "97:\tlearn: 1153.9831119\ttotal: 5.77s\tremaining: 53.1s\n",
      "98:\tlearn: 1152.7452027\ttotal: 5.83s\tremaining: 53s\n",
      "99:\tlearn: 1151.1130759\ttotal: 5.89s\tremaining: 53s\n",
      "100:\tlearn: 1149.5940624\ttotal: 5.95s\tremaining: 53s\n",
      "101:\tlearn: 1147.7159302\ttotal: 6.01s\tremaining: 52.9s\n",
      "102:\tlearn: 1147.0729393\ttotal: 6.07s\tremaining: 52.9s\n",
      "103:\tlearn: 1146.1739315\ttotal: 6.13s\tremaining: 52.8s\n",
      "104:\tlearn: 1145.2763198\ttotal: 6.19s\tremaining: 52.8s\n",
      "105:\tlearn: 1144.1130257\ttotal: 6.25s\tremaining: 52.7s\n",
      "106:\tlearn: 1142.9300756\ttotal: 6.31s\tremaining: 52.7s\n",
      "107:\tlearn: 1141.6083432\ttotal: 6.38s\tremaining: 52.7s\n",
      "108:\tlearn: 1140.9057601\ttotal: 6.43s\tremaining: 52.6s\n",
      "109:\tlearn: 1140.0207585\ttotal: 6.5s\tremaining: 52.6s\n",
      "110:\tlearn: 1138.8883385\ttotal: 6.55s\tremaining: 52.5s\n",
      "111:\tlearn: 1138.3413832\ttotal: 6.61s\tremaining: 52.4s\n",
      "112:\tlearn: 1136.7932945\ttotal: 6.67s\tremaining: 52.4s\n",
      "113:\tlearn: 1136.1889957\ttotal: 6.74s\tremaining: 52.4s\n",
      "114:\tlearn: 1135.6203724\ttotal: 6.8s\tremaining: 52.3s\n",
      "115:\tlearn: 1134.4846769\ttotal: 6.86s\tremaining: 52.3s\n",
      "116:\tlearn: 1133.7588224\ttotal: 6.92s\tremaining: 52.2s\n",
      "117:\tlearn: 1132.7851766\ttotal: 6.98s\tremaining: 52.2s\n",
      "118:\tlearn: 1132.1266957\ttotal: 7.03s\tremaining: 52.1s\n",
      "119:\tlearn: 1130.9398474\ttotal: 7.09s\tremaining: 52s\n",
      "120:\tlearn: 1130.0194624\ttotal: 7.15s\tremaining: 52s\n",
      "121:\tlearn: 1129.2317839\ttotal: 7.21s\tremaining: 51.9s\n",
      "122:\tlearn: 1127.5160705\ttotal: 7.27s\tremaining: 51.8s\n",
      "123:\tlearn: 1126.6147666\ttotal: 7.33s\tremaining: 51.8s\n",
      "124:\tlearn: 1125.8249528\ttotal: 7.39s\tremaining: 51.7s\n",
      "125:\tlearn: 1124.7321507\ttotal: 7.45s\tremaining: 51.6s\n",
      "126:\tlearn: 1124.2931286\ttotal: 7.5s\tremaining: 51.6s\n",
      "127:\tlearn: 1123.3417831\ttotal: 7.56s\tremaining: 51.5s\n",
      "128:\tlearn: 1122.4682404\ttotal: 7.63s\tremaining: 51.5s\n",
      "129:\tlearn: 1121.0657323\ttotal: 7.69s\tremaining: 51.5s\n",
      "130:\tlearn: 1119.9467198\ttotal: 7.75s\tremaining: 51.4s\n",
      "131:\tlearn: 1119.1217657\ttotal: 7.8s\tremaining: 51.3s\n",
      "132:\tlearn: 1118.5983168\ttotal: 7.87s\tremaining: 51.3s\n",
      "133:\tlearn: 1117.6465752\ttotal: 7.92s\tremaining: 51.2s\n",
      "134:\tlearn: 1116.7629423\ttotal: 7.98s\tremaining: 51.1s\n",
      "135:\tlearn: 1115.7551718\ttotal: 8.04s\tremaining: 51.1s\n",
      "136:\tlearn: 1115.3811137\ttotal: 8.1s\tremaining: 51s\n",
      "137:\tlearn: 1113.9348288\ttotal: 8.17s\tremaining: 51s\n",
      "138:\tlearn: 1113.0835513\ttotal: 8.22s\tremaining: 50.9s\n",
      "139:\tlearn: 1112.6443328\ttotal: 8.29s\tremaining: 50.9s\n",
      "140:\tlearn: 1112.0452504\ttotal: 8.35s\tremaining: 50.9s\n",
      "141:\tlearn: 1111.4472533\ttotal: 8.41s\tremaining: 50.8s\n",
      "142:\tlearn: 1110.5870478\ttotal: 8.47s\tremaining: 50.8s\n",
      "143:\tlearn: 1109.8618000\ttotal: 8.53s\tremaining: 50.7s\n",
      "144:\tlearn: 1109.1722776\ttotal: 8.58s\tremaining: 50.6s\n",
      "145:\tlearn: 1108.9126294\ttotal: 8.67s\tremaining: 50.7s\n",
      "146:\tlearn: 1107.7857169\ttotal: 8.76s\tremaining: 50.9s\n",
      "147:\tlearn: 1107.0398179\ttotal: 8.85s\tremaining: 50.9s\n",
      "148:\tlearn: 1106.2372656\ttotal: 8.91s\tremaining: 50.9s\n",
      "149:\tlearn: 1105.5746263\ttotal: 8.99s\tremaining: 51s\n",
      "150:\tlearn: 1104.6552231\ttotal: 9.06s\tremaining: 50.9s\n",
      "151:\tlearn: 1103.1603838\ttotal: 9.12s\tremaining: 50.9s\n",
      "152:\tlearn: 1102.3666575\ttotal: 9.17s\tremaining: 50.8s\n",
      "153:\tlearn: 1101.2787696\ttotal: 9.24s\tremaining: 50.8s\n",
      "154:\tlearn: 1100.3363273\ttotal: 9.3s\tremaining: 50.7s\n",
      "155:\tlearn: 1099.3348958\ttotal: 9.37s\tremaining: 50.7s\n",
      "156:\tlearn: 1098.5818945\ttotal: 9.43s\tremaining: 50.6s\n",
      "157:\tlearn: 1097.3206104\ttotal: 9.49s\tremaining: 50.6s\n",
      "158:\tlearn: 1096.6553673\ttotal: 9.56s\tremaining: 50.6s\n",
      "159:\tlearn: 1095.9940355\ttotal: 9.62s\tremaining: 50.5s\n",
      "160:\tlearn: 1094.8725041\ttotal: 9.68s\tremaining: 50.5s\n",
      "161:\tlearn: 1093.9649425\ttotal: 9.75s\tremaining: 50.4s\n",
      "162:\tlearn: 1093.5855847\ttotal: 9.81s\tremaining: 50.4s\n",
      "163:\tlearn: 1092.0721445\ttotal: 9.86s\tremaining: 50.3s\n",
      "164:\tlearn: 1091.4555046\ttotal: 9.92s\tremaining: 50.2s\n",
      "165:\tlearn: 1090.5887410\ttotal: 9.98s\tremaining: 50.1s\n",
      "166:\tlearn: 1089.8288569\ttotal: 10s\tremaining: 50.1s\n",
      "167:\tlearn: 1089.1265117\ttotal: 10.1s\tremaining: 50s\n",
      "168:\tlearn: 1088.3581544\ttotal: 10.2s\tremaining: 50s\n",
      "169:\tlearn: 1087.3422589\ttotal: 10.2s\tremaining: 50s\n",
      "170:\tlearn: 1086.6301978\ttotal: 10.3s\tremaining: 50s\n",
      "171:\tlearn: 1086.1704435\ttotal: 10.4s\tremaining: 49.9s\n",
      "172:\tlearn: 1085.3652936\ttotal: 10.4s\tremaining: 49.8s\n",
      "173:\tlearn: 1084.8552337\ttotal: 10.5s\tremaining: 49.8s\n",
      "174:\tlearn: 1084.3812176\ttotal: 10.5s\tremaining: 49.7s\n",
      "175:\tlearn: 1083.2274581\ttotal: 10.6s\tremaining: 49.6s\n",
      "176:\tlearn: 1082.4747598\ttotal: 10.7s\tremaining: 49.5s\n",
      "177:\tlearn: 1082.1092705\ttotal: 10.7s\tremaining: 49.5s\n",
      "178:\tlearn: 1080.8791250\ttotal: 10.8s\tremaining: 49.5s\n",
      "179:\tlearn: 1080.2904388\ttotal: 10.9s\tremaining: 49.5s\n",
      "180:\tlearn: 1079.3864669\ttotal: 10.9s\tremaining: 49.5s\n",
      "181:\tlearn: 1079.0175533\ttotal: 11s\tremaining: 49.4s\n",
      "182:\tlearn: 1077.8171424\ttotal: 11.1s\tremaining: 49.4s\n",
      "183:\tlearn: 1076.7127158\ttotal: 11.1s\tremaining: 49.3s\n",
      "184:\tlearn: 1076.1617463\ttotal: 11.2s\tremaining: 49.2s\n",
      "185:\tlearn: 1075.5119162\ttotal: 11.2s\tremaining: 49.1s\n",
      "186:\tlearn: 1074.9140541\ttotal: 11.3s\tremaining: 49.1s\n",
      "187:\tlearn: 1074.5001995\ttotal: 11.3s\tremaining: 49s\n",
      "188:\tlearn: 1073.6796682\ttotal: 11.4s\tremaining: 48.9s\n",
      "189:\tlearn: 1073.1321194\ttotal: 11.5s\tremaining: 48.9s\n",
      "190:\tlearn: 1072.6501992\ttotal: 11.5s\tremaining: 48.8s\n",
      "191:\tlearn: 1071.5096389\ttotal: 11.6s\tremaining: 48.7s\n",
      "192:\tlearn: 1070.5157960\ttotal: 11.6s\tremaining: 48.7s\n",
      "193:\tlearn: 1070.0560117\ttotal: 11.7s\tremaining: 48.6s\n",
      "194:\tlearn: 1069.4602844\ttotal: 11.8s\tremaining: 48.6s\n",
      "195:\tlearn: 1069.0499233\ttotal: 11.8s\tremaining: 48.5s\n",
      "196:\tlearn: 1068.3880313\ttotal: 11.9s\tremaining: 48.4s\n",
      "197:\tlearn: 1067.7289755\ttotal: 11.9s\tremaining: 48.4s\n",
      "198:\tlearn: 1067.1633757\ttotal: 12s\tremaining: 48.4s\n",
      "199:\tlearn: 1066.6776650\ttotal: 12.1s\tremaining: 48.3s\n",
      "200:\tlearn: 1065.9429040\ttotal: 12.1s\tremaining: 48.2s\n",
      "201:\tlearn: 1064.9876725\ttotal: 12.2s\tremaining: 48.2s\n",
      "202:\tlearn: 1064.6847952\ttotal: 12.3s\tremaining: 48.1s\n",
      "203:\tlearn: 1063.7614396\ttotal: 12.3s\tremaining: 48.1s\n",
      "204:\tlearn: 1062.5659021\ttotal: 12.4s\tremaining: 48s\n",
      "205:\tlearn: 1062.1367953\ttotal: 12.4s\tremaining: 47.9s\n",
      "206:\tlearn: 1061.5074281\ttotal: 12.5s\tremaining: 47.8s\n",
      "207:\tlearn: 1060.3154477\ttotal: 12.5s\tremaining: 47.8s\n",
      "208:\tlearn: 1059.9981994\ttotal: 12.6s\tremaining: 47.7s\n",
      "209:\tlearn: 1059.4848127\ttotal: 12.7s\tremaining: 47.6s\n",
      "210:\tlearn: 1059.0979582\ttotal: 12.7s\tremaining: 47.6s\n",
      "211:\tlearn: 1058.5281145\ttotal: 12.8s\tremaining: 47.5s\n",
      "212:\tlearn: 1057.9006120\ttotal: 12.8s\tremaining: 47.4s\n",
      "213:\tlearn: 1056.7452111\ttotal: 12.9s\tremaining: 47.4s\n",
      "214:\tlearn: 1056.0942529\ttotal: 13s\tremaining: 47.3s\n",
      "215:\tlearn: 1055.6048286\ttotal: 13s\tremaining: 47.2s\n",
      "216:\tlearn: 1055.1683458\ttotal: 13.1s\tremaining: 47.2s\n",
      "217:\tlearn: 1054.5230735\ttotal: 13.1s\tremaining: 47.1s\n",
      "218:\tlearn: 1054.2063916\ttotal: 13.2s\tremaining: 47s\n",
      "219:\tlearn: 1053.8505987\ttotal: 13.2s\tremaining: 47s\n",
      "220:\tlearn: 1053.3503152\ttotal: 13.3s\tremaining: 46.9s\n",
      "221:\tlearn: 1052.7503537\ttotal: 13.4s\tremaining: 46.8s\n",
      "222:\tlearn: 1052.4186226\ttotal: 13.4s\tremaining: 46.8s\n",
      "223:\tlearn: 1051.9621117\ttotal: 13.5s\tremaining: 46.7s\n",
      "224:\tlearn: 1051.3513741\ttotal: 13.5s\tremaining: 46.6s\n",
      "225:\tlearn: 1050.6559383\ttotal: 13.6s\tremaining: 46.6s\n",
      "226:\tlearn: 1049.9070631\ttotal: 13.7s\tremaining: 46.5s\n",
      "227:\tlearn: 1049.5066959\ttotal: 13.7s\tremaining: 46.4s\n",
      "228:\tlearn: 1049.0495699\ttotal: 13.8s\tremaining: 46.3s\n",
      "229:\tlearn: 1048.1980779\ttotal: 13.8s\tremaining: 46.3s\n",
      "230:\tlearn: 1047.6845236\ttotal: 13.9s\tremaining: 46.2s\n",
      "231:\tlearn: 1047.2640040\ttotal: 13.9s\tremaining: 46.2s\n",
      "232:\tlearn: 1046.4740632\ttotal: 14s\tremaining: 46.1s\n",
      "233:\tlearn: 1045.9137302\ttotal: 14.1s\tremaining: 46s\n",
      "234:\tlearn: 1045.2880895\ttotal: 14.1s\tremaining: 46s\n",
      "235:\tlearn: 1044.8317409\ttotal: 14.2s\tremaining: 45.9s\n",
      "236:\tlearn: 1044.3022272\ttotal: 14.3s\tremaining: 46s\n",
      "237:\tlearn: 1043.4663312\ttotal: 14.4s\tremaining: 46s\n",
      "238:\tlearn: 1042.5978363\ttotal: 14.4s\tremaining: 45.9s\n",
      "239:\tlearn: 1042.2029957\ttotal: 14.5s\tremaining: 45.8s\n",
      "240:\tlearn: 1041.8256948\ttotal: 14.5s\tremaining: 45.8s\n",
      "241:\tlearn: 1041.3971275\ttotal: 14.6s\tremaining: 45.7s\n",
      "242:\tlearn: 1040.9592026\ttotal: 14.7s\tremaining: 45.7s\n",
      "243:\tlearn: 1040.6803644\ttotal: 14.7s\tremaining: 45.6s\n",
      "244:\tlearn: 1039.9754476\ttotal: 14.8s\tremaining: 45.5s\n",
      "245:\tlearn: 1039.1736821\ttotal: 14.8s\tremaining: 45.5s\n",
      "246:\tlearn: 1038.3180558\ttotal: 14.9s\tremaining: 45.5s\n",
      "247:\tlearn: 1037.9961430\ttotal: 15s\tremaining: 45.4s\n",
      "248:\tlearn: 1037.4193641\ttotal: 15s\tremaining: 45.4s\n",
      "249:\tlearn: 1036.8401362\ttotal: 15.1s\tremaining: 45.3s\n",
      "250:\tlearn: 1036.0815862\ttotal: 15.2s\tremaining: 45.3s\n",
      "251:\tlearn: 1035.1930561\ttotal: 15.2s\tremaining: 45.2s\n",
      "252:\tlearn: 1034.8811821\ttotal: 15.3s\tremaining: 45.2s\n",
      "253:\tlearn: 1033.9807625\ttotal: 15.4s\tremaining: 45.1s\n",
      "254:\tlearn: 1033.4952349\ttotal: 15.5s\tremaining: 45.2s\n",
      "255:\tlearn: 1032.9738789\ttotal: 15.6s\tremaining: 45.2s\n",
      "256:\tlearn: 1032.3052976\ttotal: 15.6s\tremaining: 45.1s\n",
      "257:\tlearn: 1031.8006685\ttotal: 15.7s\tremaining: 45.1s\n",
      "258:\tlearn: 1031.2311666\ttotal: 15.7s\tremaining: 45s\n",
      "259:\tlearn: 1030.9007433\ttotal: 15.8s\tremaining: 45s\n",
      "260:\tlearn: 1030.4637168\ttotal: 15.9s\tremaining: 44.9s\n",
      "261:\tlearn: 1029.9124814\ttotal: 15.9s\tremaining: 44.8s\n",
      "262:\tlearn: 1029.2550150\ttotal: 16s\tremaining: 44.7s\n",
      "263:\tlearn: 1028.9091311\ttotal: 16s\tremaining: 44.7s\n",
      "264:\tlearn: 1028.4117899\ttotal: 16.1s\tremaining: 44.6s\n",
      "265:\tlearn: 1027.8918339\ttotal: 16.1s\tremaining: 44.5s\n",
      "266:\tlearn: 1027.4447713\ttotal: 16.2s\tremaining: 44.5s\n",
      "267:\tlearn: 1027.2275126\ttotal: 16.3s\tremaining: 44.4s\n",
      "268:\tlearn: 1026.9062338\ttotal: 16.3s\tremaining: 44.4s\n",
      "269:\tlearn: 1026.3148880\ttotal: 16.4s\tremaining: 44.4s\n",
      "270:\tlearn: 1025.7563783\ttotal: 16.5s\tremaining: 44.4s\n",
      "271:\tlearn: 1025.2207139\ttotal: 16.6s\tremaining: 44.3s\n",
      "272:\tlearn: 1024.8523447\ttotal: 16.6s\tremaining: 44.3s\n",
      "273:\tlearn: 1024.2971242\ttotal: 16.7s\tremaining: 44.2s\n",
      "274:\tlearn: 1023.8050929\ttotal: 16.7s\tremaining: 44.2s\n",
      "275:\tlearn: 1023.0253449\ttotal: 16.8s\tremaining: 44.1s\n",
      "276:\tlearn: 1022.4414762\ttotal: 16.9s\tremaining: 44s\n",
      "277:\tlearn: 1022.0055230\ttotal: 16.9s\tremaining: 44s\n",
      "278:\tlearn: 1021.4495154\ttotal: 17s\tremaining: 43.9s\n",
      "279:\tlearn: 1021.0498388\ttotal: 17s\tremaining: 43.8s\n",
      "280:\tlearn: 1020.7728806\ttotal: 17.1s\tremaining: 43.8s\n",
      "281:\tlearn: 1020.5176929\ttotal: 17.2s\tremaining: 43.7s\n",
      "282:\tlearn: 1020.1490846\ttotal: 17.2s\tremaining: 43.7s\n",
      "283:\tlearn: 1019.4484753\ttotal: 17.3s\tremaining: 43.6s\n",
      "284:\tlearn: 1019.1553449\ttotal: 17.4s\tremaining: 43.5s\n",
      "285:\tlearn: 1018.7784303\ttotal: 17.4s\tremaining: 43.5s\n",
      "286:\tlearn: 1018.4336384\ttotal: 17.5s\tremaining: 43.5s\n",
      "287:\tlearn: 1017.9509832\ttotal: 17.6s\tremaining: 43.4s\n",
      "288:\tlearn: 1017.3939877\ttotal: 17.6s\tremaining: 43.4s\n",
      "289:\tlearn: 1017.0580536\ttotal: 17.7s\tremaining: 43.3s\n",
      "290:\tlearn: 1016.6451218\ttotal: 17.7s\tremaining: 43.2s\n",
      "291:\tlearn: 1016.2937959\ttotal: 17.8s\tremaining: 43.2s\n",
      "292:\tlearn: 1015.9188932\ttotal: 17.9s\tremaining: 43.1s\n",
      "293:\tlearn: 1015.7729270\ttotal: 17.9s\tremaining: 43s\n",
      "294:\tlearn: 1015.4937083\ttotal: 18s\tremaining: 43s\n",
      "295:\tlearn: 1015.2124166\ttotal: 18s\tremaining: 42.9s\n",
      "296:\tlearn: 1014.6259645\ttotal: 18.1s\tremaining: 42.9s\n",
      "297:\tlearn: 1014.1390890\ttotal: 18.2s\tremaining: 42.8s\n",
      "298:\tlearn: 1013.8624320\ttotal: 18.3s\tremaining: 42.8s\n",
      "299:\tlearn: 1013.3811774\ttotal: 18.3s\tremaining: 42.8s\n",
      "300:\tlearn: 1012.9703074\ttotal: 18.4s\tremaining: 42.7s\n",
      "301:\tlearn: 1012.5264503\ttotal: 18.4s\tremaining: 42.6s\n",
      "302:\tlearn: 1011.6179484\ttotal: 18.5s\tremaining: 42.6s\n",
      "303:\tlearn: 1011.1704371\ttotal: 18.6s\tremaining: 42.5s\n",
      "304:\tlearn: 1010.6325445\ttotal: 18.6s\tremaining: 42.4s\n",
      "305:\tlearn: 1010.1016775\ttotal: 18.7s\tremaining: 42.4s\n",
      "306:\tlearn: 1009.7049057\ttotal: 18.7s\tremaining: 42.3s\n",
      "307:\tlearn: 1009.2125859\ttotal: 18.8s\tremaining: 42.3s\n",
      "308:\tlearn: 1008.9628942\ttotal: 18.9s\tremaining: 42.2s\n",
      "309:\tlearn: 1008.7071989\ttotal: 19s\tremaining: 42.2s\n",
      "310:\tlearn: 1008.5141341\ttotal: 19s\tremaining: 42.2s\n",
      "311:\tlearn: 1008.1636848\ttotal: 19.1s\tremaining: 42.2s\n",
      "312:\tlearn: 1007.6592837\ttotal: 19.2s\tremaining: 42.1s\n",
      "313:\tlearn: 1007.3732899\ttotal: 19.2s\tremaining: 42s\n",
      "314:\tlearn: 1007.1635835\ttotal: 19.3s\tremaining: 42s\n",
      "315:\tlearn: 1006.6460788\ttotal: 19.4s\tremaining: 41.9s\n",
      "316:\tlearn: 1006.3676312\ttotal: 19.4s\tremaining: 41.8s\n",
      "317:\tlearn: 1006.0575186\ttotal: 19.5s\tremaining: 41.8s\n",
      "318:\tlearn: 1005.5914395\ttotal: 19.6s\tremaining: 41.7s\n",
      "319:\tlearn: 1005.1933556\ttotal: 19.6s\tremaining: 41.7s\n",
      "320:\tlearn: 1004.7323104\ttotal: 19.7s\tremaining: 41.6s\n",
      "321:\tlearn: 1004.0193070\ttotal: 19.7s\tremaining: 41.6s\n",
      "322:\tlearn: 1003.6258693\ttotal: 19.8s\tremaining: 41.5s\n",
      "323:\tlearn: 1003.1866302\ttotal: 19.9s\tremaining: 41.4s\n",
      "324:\tlearn: 1002.7613852\ttotal: 19.9s\tremaining: 41.4s\n",
      "325:\tlearn: 1002.5157070\ttotal: 20s\tremaining: 41.3s\n",
      "326:\tlearn: 1002.1093227\ttotal: 20s\tremaining: 41.2s\n",
      "327:\tlearn: 1001.6675998\ttotal: 20.1s\tremaining: 41.2s\n",
      "328:\tlearn: 1001.2771532\ttotal: 20.1s\tremaining: 41.1s\n",
      "329:\tlearn: 1000.6306726\ttotal: 20.2s\tremaining: 41s\n",
      "330:\tlearn: 1000.3325232\ttotal: 20.3s\tremaining: 41s\n",
      "331:\tlearn: 1000.1638510\ttotal: 20.3s\tremaining: 40.9s\n",
      "332:\tlearn: 999.7177470\ttotal: 20.4s\tremaining: 40.8s\n",
      "333:\tlearn: 999.5090612\ttotal: 20.4s\tremaining: 40.8s\n",
      "334:\tlearn: 999.2225091\ttotal: 20.5s\tremaining: 40.7s\n",
      "335:\tlearn: 998.9011385\ttotal: 20.6s\tremaining: 40.6s\n",
      "336:\tlearn: 998.6640288\ttotal: 20.6s\tremaining: 40.6s\n",
      "337:\tlearn: 998.2125909\ttotal: 20.7s\tremaining: 40.5s\n",
      "338:\tlearn: 997.8480655\ttotal: 20.8s\tremaining: 40.5s\n",
      "339:\tlearn: 997.5921450\ttotal: 20.8s\tremaining: 40.4s\n",
      "340:\tlearn: 997.3550086\ttotal: 20.9s\tremaining: 40.3s\n",
      "341:\tlearn: 996.9612703\ttotal: 20.9s\tremaining: 40.3s\n",
      "342:\tlearn: 996.5887754\ttotal: 21s\tremaining: 40.2s\n",
      "343:\tlearn: 996.4039327\ttotal: 21s\tremaining: 40.1s\n",
      "344:\tlearn: 996.0815916\ttotal: 21.1s\tremaining: 40.1s\n",
      "345:\tlearn: 995.7210156\ttotal: 21.2s\tremaining: 40s\n",
      "346:\tlearn: 995.3107775\ttotal: 21.2s\tremaining: 39.9s\n",
      "347:\tlearn: 994.8974875\ttotal: 21.3s\tremaining: 39.9s\n",
      "348:\tlearn: 994.7033523\ttotal: 21.3s\tremaining: 39.8s\n",
      "349:\tlearn: 994.3023041\ttotal: 21.4s\tremaining: 39.7s\n",
      "350:\tlearn: 993.8381145\ttotal: 21.5s\tremaining: 39.7s\n",
      "351:\tlearn: 993.3971127\ttotal: 21.5s\tremaining: 39.6s\n",
      "352:\tlearn: 993.2202312\ttotal: 21.6s\tremaining: 39.6s\n",
      "353:\tlearn: 993.0588886\ttotal: 21.6s\tremaining: 39.5s\n",
      "354:\tlearn: 992.6937848\ttotal: 21.7s\tremaining: 39.4s\n",
      "355:\tlearn: 992.1818864\ttotal: 21.8s\tremaining: 39.4s\n",
      "356:\tlearn: 991.9826588\ttotal: 21.8s\tremaining: 39.3s\n",
      "357:\tlearn: 991.7659470\ttotal: 21.9s\tremaining: 39.2s\n",
      "358:\tlearn: 991.5423324\ttotal: 21.9s\tremaining: 39.2s\n",
      "359:\tlearn: 991.0475550\ttotal: 22s\tremaining: 39.1s\n",
      "360:\tlearn: 990.8410826\ttotal: 22.1s\tremaining: 39s\n",
      "361:\tlearn: 990.5176054\ttotal: 22.1s\tremaining: 39s\n",
      "362:\tlearn: 990.2562167\ttotal: 22.2s\tremaining: 38.9s\n",
      "363:\tlearn: 990.0706645\ttotal: 22.2s\tremaining: 38.9s\n",
      "364:\tlearn: 989.8059070\ttotal: 22.3s\tremaining: 38.8s\n",
      "365:\tlearn: 989.5572836\ttotal: 22.4s\tremaining: 38.7s\n",
      "366:\tlearn: 989.2584541\ttotal: 22.4s\tremaining: 38.7s\n",
      "367:\tlearn: 988.9624458\ttotal: 22.5s\tremaining: 38.6s\n",
      "368:\tlearn: 988.3412174\ttotal: 22.5s\tremaining: 38.5s\n",
      "369:\tlearn: 987.8914013\ttotal: 22.6s\tremaining: 38.5s\n",
      "370:\tlearn: 987.4715459\ttotal: 22.7s\tremaining: 38.4s\n",
      "371:\tlearn: 987.1455254\ttotal: 22.7s\tremaining: 38.3s\n",
      "372:\tlearn: 986.8962155\ttotal: 22.8s\tremaining: 38.3s\n",
      "373:\tlearn: 986.7254775\ttotal: 22.8s\tremaining: 38.2s\n",
      "374:\tlearn: 986.5066079\ttotal: 22.9s\tremaining: 38.1s\n",
      "375:\tlearn: 986.0229304\ttotal: 22.9s\tremaining: 38.1s\n",
      "376:\tlearn: 985.4297369\ttotal: 23s\tremaining: 38s\n",
      "377:\tlearn: 985.2442171\ttotal: 23.1s\tremaining: 37.9s\n",
      "378:\tlearn: 984.7239683\ttotal: 23.1s\tremaining: 37.9s\n",
      "379:\tlearn: 984.4423253\ttotal: 23.2s\tremaining: 37.8s\n",
      "380:\tlearn: 984.2115742\ttotal: 23.2s\tremaining: 37.8s\n",
      "381:\tlearn: 983.9907387\ttotal: 23.3s\tremaining: 37.7s\n",
      "382:\tlearn: 983.8208241\ttotal: 23.4s\tremaining: 37.6s\n",
      "383:\tlearn: 983.5598778\ttotal: 23.4s\tremaining: 37.6s\n",
      "384:\tlearn: 983.0983831\ttotal: 23.5s\tremaining: 37.5s\n",
      "385:\tlearn: 982.7889631\ttotal: 23.6s\tremaining: 37.5s\n",
      "386:\tlearn: 982.5998180\ttotal: 23.6s\tremaining: 37.4s\n",
      "387:\tlearn: 982.4770283\ttotal: 23.7s\tremaining: 37.3s\n",
      "388:\tlearn: 982.2485261\ttotal: 23.7s\tremaining: 37.3s\n",
      "389:\tlearn: 981.7191991\ttotal: 23.8s\tremaining: 37.2s\n",
      "390:\tlearn: 981.4529013\ttotal: 23.9s\tremaining: 37.2s\n",
      "391:\tlearn: 981.1286304\ttotal: 23.9s\tremaining: 37.1s\n",
      "392:\tlearn: 980.9313364\ttotal: 24s\tremaining: 37s\n",
      "393:\tlearn: 980.4315113\ttotal: 24s\tremaining: 37s\n",
      "394:\tlearn: 980.0957038\ttotal: 24.1s\tremaining: 36.9s\n",
      "395:\tlearn: 979.8170116\ttotal: 24.1s\tremaining: 36.8s\n",
      "396:\tlearn: 979.5766224\ttotal: 24.2s\tremaining: 36.8s\n",
      "397:\tlearn: 979.2744600\ttotal: 24.3s\tremaining: 36.7s\n",
      "398:\tlearn: 978.9112744\ttotal: 24.3s\tremaining: 36.6s\n",
      "399:\tlearn: 978.6290727\ttotal: 24.4s\tremaining: 36.6s\n",
      "400:\tlearn: 978.2350683\ttotal: 24.4s\tremaining: 36.5s\n",
      "401:\tlearn: 977.9743302\ttotal: 24.5s\tremaining: 36.5s\n",
      "402:\tlearn: 977.7103726\ttotal: 24.6s\tremaining: 36.4s\n",
      "403:\tlearn: 977.2842751\ttotal: 24.6s\tremaining: 36.3s\n",
      "404:\tlearn: 976.7885554\ttotal: 24.7s\tremaining: 36.3s\n",
      "405:\tlearn: 976.7083991\ttotal: 24.7s\tremaining: 36.2s\n",
      "406:\tlearn: 976.4759086\ttotal: 24.8s\tremaining: 36.1s\n",
      "407:\tlearn: 976.1018823\ttotal: 24.9s\tremaining: 36.1s\n",
      "408:\tlearn: 975.9336294\ttotal: 24.9s\tremaining: 36s\n",
      "409:\tlearn: 975.7227948\ttotal: 25s\tremaining: 35.9s\n",
      "410:\tlearn: 975.5829779\ttotal: 25s\tremaining: 35.9s\n",
      "411:\tlearn: 975.3547854\ttotal: 25.1s\tremaining: 35.8s\n",
      "412:\tlearn: 975.1748468\ttotal: 25.1s\tremaining: 35.7s\n",
      "413:\tlearn: 974.8475429\ttotal: 25.2s\tremaining: 35.7s\n",
      "414:\tlearn: 974.6144600\ttotal: 25.3s\tremaining: 35.6s\n",
      "415:\tlearn: 974.2988559\ttotal: 25.3s\tremaining: 35.6s\n",
      "416:\tlearn: 974.0187916\ttotal: 25.4s\tremaining: 35.5s\n",
      "417:\tlearn: 973.7449484\ttotal: 25.4s\tremaining: 35.4s\n",
      "418:\tlearn: 973.4976655\ttotal: 25.5s\tremaining: 35.4s\n",
      "419:\tlearn: 973.1940807\ttotal: 25.6s\tremaining: 35.3s\n",
      "420:\tlearn: 972.9990755\ttotal: 25.7s\tremaining: 35.3s\n",
      "421:\tlearn: 972.7429134\ttotal: 25.7s\tremaining: 35.2s\n",
      "422:\tlearn: 972.6229642\ttotal: 25.8s\tremaining: 35.2s\n",
      "423:\tlearn: 972.2966072\ttotal: 25.8s\tremaining: 35.1s\n",
      "424:\tlearn: 971.9913172\ttotal: 25.9s\tremaining: 35s\n",
      "425:\tlearn: 971.7789082\ttotal: 26s\tremaining: 35s\n",
      "426:\tlearn: 971.6530792\ttotal: 26s\tremaining: 34.9s\n",
      "427:\tlearn: 971.1896803\ttotal: 26.1s\tremaining: 34.9s\n",
      "428:\tlearn: 970.7710731\ttotal: 26.1s\tremaining: 34.8s\n",
      "429:\tlearn: 970.4573753\ttotal: 26.2s\tremaining: 34.7s\n",
      "430:\tlearn: 970.1438988\ttotal: 26.3s\tremaining: 34.7s\n",
      "431:\tlearn: 969.9785361\ttotal: 26.3s\tremaining: 34.6s\n",
      "432:\tlearn: 969.8098901\ttotal: 26.4s\tremaining: 34.5s\n",
      "433:\tlearn: 969.5901755\ttotal: 26.4s\tremaining: 34.5s\n",
      "434:\tlearn: 969.2045235\ttotal: 26.5s\tremaining: 34.4s\n",
      "435:\tlearn: 968.9954404\ttotal: 26.5s\tremaining: 34.3s\n",
      "436:\tlearn: 968.7703282\ttotal: 26.6s\tremaining: 34.3s\n",
      "437:\tlearn: 968.4305083\ttotal: 26.7s\tremaining: 34.2s\n",
      "438:\tlearn: 968.1176165\ttotal: 26.7s\tremaining: 34.1s\n",
      "439:\tlearn: 967.8347140\ttotal: 26.8s\tremaining: 34.1s\n",
      "440:\tlearn: 967.5873885\ttotal: 26.8s\tremaining: 34s\n",
      "441:\tlearn: 967.3972441\ttotal: 26.9s\tremaining: 34s\n",
      "442:\tlearn: 967.2730653\ttotal: 27s\tremaining: 33.9s\n",
      "443:\tlearn: 966.9976557\ttotal: 27s\tremaining: 33.8s\n",
      "444:\tlearn: 966.8307332\ttotal: 27.1s\tremaining: 33.8s\n",
      "445:\tlearn: 966.6565689\ttotal: 27.1s\tremaining: 33.7s\n",
      "446:\tlearn: 966.2756833\ttotal: 27.2s\tremaining: 33.6s\n",
      "447:\tlearn: 966.0194736\ttotal: 27.2s\tremaining: 33.6s\n",
      "448:\tlearn: 965.7794872\ttotal: 27.3s\tremaining: 33.5s\n",
      "449:\tlearn: 965.6018334\ttotal: 27.4s\tremaining: 33.4s\n",
      "450:\tlearn: 965.2371946\ttotal: 27.4s\tremaining: 33.4s\n",
      "451:\tlearn: 964.8973960\ttotal: 27.5s\tremaining: 33.3s\n",
      "452:\tlearn: 964.6824493\ttotal: 27.5s\tremaining: 33.2s\n",
      "453:\tlearn: 964.2706908\ttotal: 27.6s\tremaining: 33.2s\n",
      "454:\tlearn: 963.9358676\ttotal: 27.7s\tremaining: 33.1s\n",
      "455:\tlearn: 963.5107992\ttotal: 27.7s\tremaining: 33.1s\n",
      "456:\tlearn: 963.2779420\ttotal: 27.8s\tremaining: 33s\n",
      "457:\tlearn: 963.0062401\ttotal: 27.8s\tremaining: 32.9s\n",
      "458:\tlearn: 962.7508300\ttotal: 27.9s\tremaining: 32.9s\n",
      "459:\tlearn: 962.5787767\ttotal: 28s\tremaining: 32.8s\n",
      "460:\tlearn: 962.4169293\ttotal: 28s\tremaining: 32.8s\n",
      "461:\tlearn: 962.2210938\ttotal: 28.1s\tremaining: 32.7s\n",
      "462:\tlearn: 961.9596590\ttotal: 28.1s\tremaining: 32.6s\n",
      "463:\tlearn: 961.5472999\ttotal: 28.2s\tremaining: 32.6s\n",
      "464:\tlearn: 961.2822366\ttotal: 28.3s\tremaining: 32.5s\n",
      "465:\tlearn: 960.9694504\ttotal: 28.3s\tremaining: 32.5s\n",
      "466:\tlearn: 960.5481430\ttotal: 28.4s\tremaining: 32.4s\n",
      "467:\tlearn: 960.1104767\ttotal: 28.5s\tremaining: 32.4s\n",
      "468:\tlearn: 959.9221048\ttotal: 28.6s\tremaining: 32.3s\n",
      "469:\tlearn: 959.6222304\ttotal: 28.6s\tremaining: 32.3s\n",
      "470:\tlearn: 959.4112173\ttotal: 28.7s\tremaining: 32.2s\n",
      "471:\tlearn: 959.2352409\ttotal: 28.8s\tremaining: 32.2s\n",
      "472:\tlearn: 958.9842484\ttotal: 28.8s\tremaining: 32.1s\n",
      "473:\tlearn: 958.5685515\ttotal: 28.9s\tremaining: 32.1s\n",
      "474:\tlearn: 958.2120356\ttotal: 29s\tremaining: 32s\n",
      "475:\tlearn: 958.0026172\ttotal: 29s\tremaining: 31.9s\n",
      "476:\tlearn: 957.7581438\ttotal: 29.1s\tremaining: 31.9s\n",
      "477:\tlearn: 957.5222920\ttotal: 29.1s\tremaining: 31.8s\n",
      "478:\tlearn: 957.3304465\ttotal: 29.2s\tremaining: 31.7s\n",
      "479:\tlearn: 957.1609877\ttotal: 29.2s\tremaining: 31.7s\n",
      "480:\tlearn: 956.6887319\ttotal: 29.3s\tremaining: 31.6s\n",
      "481:\tlearn: 956.1381090\ttotal: 29.4s\tremaining: 31.6s\n",
      "482:\tlearn: 955.9362767\ttotal: 29.4s\tremaining: 31.5s\n",
      "483:\tlearn: 955.7341280\ttotal: 29.5s\tremaining: 31.4s\n",
      "484:\tlearn: 955.5035304\ttotal: 29.5s\tremaining: 31.4s\n",
      "485:\tlearn: 955.1378066\ttotal: 29.6s\tremaining: 31.3s\n",
      "486:\tlearn: 954.8325623\ttotal: 29.7s\tremaining: 31.2s\n",
      "487:\tlearn: 954.6739530\ttotal: 29.7s\tremaining: 31.2s\n",
      "488:\tlearn: 954.5535221\ttotal: 29.8s\tremaining: 31.1s\n",
      "489:\tlearn: 953.9440682\ttotal: 29.8s\tremaining: 31.1s\n",
      "490:\tlearn: 953.8250368\ttotal: 29.9s\tremaining: 31s\n",
      "491:\tlearn: 953.6365796\ttotal: 30s\tremaining: 30.9s\n",
      "492:\tlearn: 953.3244639\ttotal: 30s\tremaining: 30.9s\n",
      "493:\tlearn: 953.1320287\ttotal: 30.1s\tremaining: 30.8s\n",
      "494:\tlearn: 952.7061785\ttotal: 30.1s\tremaining: 30.7s\n",
      "495:\tlearn: 952.5023844\ttotal: 30.2s\tremaining: 30.7s\n",
      "496:\tlearn: 952.2486755\ttotal: 30.3s\tremaining: 30.6s\n",
      "497:\tlearn: 952.0713260\ttotal: 30.3s\tremaining: 30.6s\n",
      "498:\tlearn: 951.8416824\ttotal: 30.4s\tremaining: 30.5s\n",
      "499:\tlearn: 951.6616997\ttotal: 30.4s\tremaining: 30.4s\n",
      "500:\tlearn: 951.4228788\ttotal: 30.5s\tremaining: 30.4s\n",
      "501:\tlearn: 951.2331190\ttotal: 30.5s\tremaining: 30.3s\n",
      "502:\tlearn: 951.0337482\ttotal: 30.6s\tremaining: 30.2s\n",
      "503:\tlearn: 950.7543805\ttotal: 30.7s\tremaining: 30.2s\n",
      "504:\tlearn: 950.6279688\ttotal: 30.7s\tremaining: 30.1s\n",
      "505:\tlearn: 950.5201710\ttotal: 30.8s\tremaining: 30.1s\n",
      "506:\tlearn: 950.1856988\ttotal: 30.9s\tremaining: 30s\n",
      "507:\tlearn: 949.7972871\ttotal: 30.9s\tremaining: 29.9s\n",
      "508:\tlearn: 949.4605929\ttotal: 31s\tremaining: 29.9s\n",
      "509:\tlearn: 949.2872633\ttotal: 31s\tremaining: 29.8s\n",
      "510:\tlearn: 949.1577304\ttotal: 31.1s\tremaining: 29.7s\n",
      "511:\tlearn: 949.0052761\ttotal: 31.1s\tremaining: 29.7s\n",
      "512:\tlearn: 948.7211873\ttotal: 31.2s\tremaining: 29.6s\n",
      "513:\tlearn: 948.5026184\ttotal: 31.3s\tremaining: 29.6s\n",
      "514:\tlearn: 948.2059604\ttotal: 31.3s\tremaining: 29.5s\n",
      "515:\tlearn: 948.0688460\ttotal: 31.4s\tremaining: 29.4s\n",
      "516:\tlearn: 947.9444544\ttotal: 31.4s\tremaining: 29.4s\n",
      "517:\tlearn: 947.7677216\ttotal: 31.5s\tremaining: 29.3s\n",
      "518:\tlearn: 947.5184901\ttotal: 31.5s\tremaining: 29.2s\n",
      "519:\tlearn: 947.2742097\ttotal: 31.6s\tremaining: 29.2s\n",
      "520:\tlearn: 947.0578754\ttotal: 31.7s\tremaining: 29.1s\n",
      "521:\tlearn: 946.8690519\ttotal: 31.7s\tremaining: 29s\n",
      "522:\tlearn: 946.3747966\ttotal: 31.8s\tremaining: 29s\n",
      "523:\tlearn: 946.0699736\ttotal: 31.8s\tremaining: 28.9s\n",
      "524:\tlearn: 945.8407354\ttotal: 31.9s\tremaining: 28.9s\n",
      "525:\tlearn: 945.6869381\ttotal: 32s\tremaining: 28.8s\n",
      "526:\tlearn: 945.5478570\ttotal: 32s\tremaining: 28.7s\n",
      "527:\tlearn: 945.2249674\ttotal: 32.1s\tremaining: 28.7s\n",
      "528:\tlearn: 945.1359875\ttotal: 32.1s\tremaining: 28.6s\n",
      "529:\tlearn: 944.8874295\ttotal: 32.2s\tremaining: 28.6s\n",
      "530:\tlearn: 944.6894004\ttotal: 32.3s\tremaining: 28.5s\n",
      "531:\tlearn: 944.4019966\ttotal: 32.3s\tremaining: 28.4s\n",
      "532:\tlearn: 944.1143584\ttotal: 32.4s\tremaining: 28.4s\n",
      "533:\tlearn: 943.9244143\ttotal: 32.4s\tremaining: 28.3s\n",
      "534:\tlearn: 943.8084682\ttotal: 32.5s\tremaining: 28.2s\n",
      "535:\tlearn: 943.4901060\ttotal: 32.5s\tremaining: 28.2s\n",
      "536:\tlearn: 943.2972493\ttotal: 32.6s\tremaining: 28.1s\n",
      "537:\tlearn: 943.2103419\ttotal: 32.7s\tremaining: 28.1s\n",
      "538:\tlearn: 943.0443427\ttotal: 32.7s\tremaining: 28s\n",
      "539:\tlearn: 942.9185560\ttotal: 32.8s\tremaining: 27.9s\n",
      "540:\tlearn: 942.4751110\ttotal: 32.9s\tremaining: 27.9s\n",
      "541:\tlearn: 942.1009567\ttotal: 32.9s\tremaining: 27.8s\n",
      "542:\tlearn: 941.9495890\ttotal: 33s\tremaining: 27.8s\n",
      "543:\tlearn: 941.7417633\ttotal: 33s\tremaining: 27.7s\n",
      "544:\tlearn: 941.5319352\ttotal: 33.1s\tremaining: 27.6s\n",
      "545:\tlearn: 941.4528756\ttotal: 33.1s\tremaining: 27.6s\n",
      "546:\tlearn: 941.3466502\ttotal: 33.2s\tremaining: 27.5s\n",
      "547:\tlearn: 941.1323516\ttotal: 33.3s\tremaining: 27.4s\n",
      "548:\tlearn: 941.0289492\ttotal: 33.3s\tremaining: 27.4s\n",
      "549:\tlearn: 940.8812652\ttotal: 33.4s\tremaining: 27.3s\n",
      "550:\tlearn: 940.7200831\ttotal: 33.4s\tremaining: 27.3s\n",
      "551:\tlearn: 940.4599185\ttotal: 33.5s\tremaining: 27.2s\n",
      "552:\tlearn: 940.1908172\ttotal: 33.6s\tremaining: 27.1s\n",
      "553:\tlearn: 939.9816463\ttotal: 33.6s\tremaining: 27.1s\n",
      "554:\tlearn: 939.6659007\ttotal: 33.7s\tremaining: 27s\n",
      "555:\tlearn: 939.5617983\ttotal: 33.7s\tremaining: 26.9s\n",
      "556:\tlearn: 939.3661228\ttotal: 33.8s\tremaining: 26.9s\n",
      "557:\tlearn: 939.2008551\ttotal: 33.9s\tremaining: 26.8s\n",
      "558:\tlearn: 939.0739863\ttotal: 33.9s\tremaining: 26.8s\n",
      "559:\tlearn: 938.7432517\ttotal: 34s\tremaining: 26.7s\n",
      "560:\tlearn: 938.5691848\ttotal: 34s\tremaining: 26.6s\n",
      "561:\tlearn: 938.3592330\ttotal: 34.1s\tremaining: 26.6s\n",
      "562:\tlearn: 938.1618603\ttotal: 34.2s\tremaining: 26.5s\n",
      "563:\tlearn: 937.7812273\ttotal: 34.2s\tremaining: 26.4s\n",
      "564:\tlearn: 937.5868575\ttotal: 34.3s\tremaining: 26.4s\n",
      "565:\tlearn: 937.3260414\ttotal: 34.3s\tremaining: 26.3s\n",
      "566:\tlearn: 937.2311270\ttotal: 34.4s\tremaining: 26.3s\n",
      "567:\tlearn: 937.0975059\ttotal: 34.5s\tremaining: 26.2s\n",
      "568:\tlearn: 936.9287344\ttotal: 34.5s\tremaining: 26.1s\n",
      "569:\tlearn: 936.7712576\ttotal: 34.6s\tremaining: 26.1s\n",
      "570:\tlearn: 936.6644254\ttotal: 34.6s\tremaining: 26s\n",
      "571:\tlearn: 936.5199113\ttotal: 34.7s\tremaining: 26s\n",
      "572:\tlearn: 936.3552607\ttotal: 34.8s\tremaining: 25.9s\n",
      "573:\tlearn: 936.1582093\ttotal: 34.8s\tremaining: 25.9s\n",
      "574:\tlearn: 935.6935139\ttotal: 34.9s\tremaining: 25.8s\n",
      "575:\tlearn: 935.5550797\ttotal: 34.9s\tremaining: 25.7s\n",
      "576:\tlearn: 935.3877141\ttotal: 35s\tremaining: 25.7s\n",
      "577:\tlearn: 934.9450930\ttotal: 35.1s\tremaining: 25.6s\n",
      "578:\tlearn: 934.7108341\ttotal: 35.1s\tremaining: 25.5s\n",
      "579:\tlearn: 934.6013836\ttotal: 35.2s\tremaining: 25.5s\n",
      "580:\tlearn: 934.3849516\ttotal: 35.2s\tremaining: 25.4s\n",
      "581:\tlearn: 934.1235087\ttotal: 35.3s\tremaining: 25.3s\n",
      "582:\tlearn: 933.9115889\ttotal: 35.4s\tremaining: 25.3s\n",
      "583:\tlearn: 933.6735648\ttotal: 35.4s\tremaining: 25.2s\n",
      "584:\tlearn: 933.4327710\ttotal: 35.5s\tremaining: 25.2s\n",
      "585:\tlearn: 933.2137433\ttotal: 35.5s\tremaining: 25.1s\n",
      "586:\tlearn: 933.1111176\ttotal: 35.6s\tremaining: 25s\n",
      "587:\tlearn: 932.8813774\ttotal: 35.6s\tremaining: 25s\n",
      "588:\tlearn: 932.7511169\ttotal: 35.7s\tremaining: 24.9s\n",
      "589:\tlearn: 932.5380066\ttotal: 35.8s\tremaining: 24.9s\n",
      "590:\tlearn: 932.2924843\ttotal: 35.9s\tremaining: 24.8s\n",
      "591:\tlearn: 932.0113938\ttotal: 35.9s\tremaining: 24.8s\n",
      "592:\tlearn: 931.7126516\ttotal: 36s\tremaining: 24.7s\n",
      "593:\tlearn: 931.5327249\ttotal: 36.1s\tremaining: 24.6s\n",
      "594:\tlearn: 931.2305644\ttotal: 36.1s\tremaining: 24.6s\n",
      "595:\tlearn: 931.0867513\ttotal: 36.2s\tremaining: 24.5s\n",
      "596:\tlearn: 930.8233467\ttotal: 36.2s\tremaining: 24.5s\n",
      "597:\tlearn: 930.6900046\ttotal: 36.3s\tremaining: 24.4s\n",
      "598:\tlearn: 930.5871169\ttotal: 36.4s\tremaining: 24.4s\n",
      "599:\tlearn: 930.3468323\ttotal: 36.5s\tremaining: 24.4s\n",
      "600:\tlearn: 930.0827213\ttotal: 36.6s\tremaining: 24.3s\n",
      "601:\tlearn: 929.9582336\ttotal: 36.7s\tremaining: 24.3s\n",
      "602:\tlearn: 929.7251354\ttotal: 36.7s\tremaining: 24.2s\n",
      "603:\tlearn: 929.5810505\ttotal: 36.8s\tremaining: 24.1s\n",
      "604:\tlearn: 929.4991919\ttotal: 36.9s\tremaining: 24.1s\n",
      "605:\tlearn: 929.4108953\ttotal: 36.9s\tremaining: 24s\n",
      "606:\tlearn: 929.2208109\ttotal: 37s\tremaining: 23.9s\n",
      "607:\tlearn: 929.0400081\ttotal: 37s\tremaining: 23.9s\n",
      "608:\tlearn: 928.8048509\ttotal: 37.1s\tremaining: 23.8s\n",
      "609:\tlearn: 928.6713915\ttotal: 37.2s\tremaining: 23.8s\n",
      "610:\tlearn: 928.4731946\ttotal: 37.2s\tremaining: 23.7s\n",
      "611:\tlearn: 928.2753777\ttotal: 37.3s\tremaining: 23.6s\n",
      "612:\tlearn: 928.1152022\ttotal: 37.3s\tremaining: 23.6s\n",
      "613:\tlearn: 927.8046030\ttotal: 37.4s\tremaining: 23.5s\n",
      "614:\tlearn: 927.6654226\ttotal: 37.4s\tremaining: 23.4s\n",
      "615:\tlearn: 927.5638440\ttotal: 37.5s\tremaining: 23.4s\n",
      "616:\tlearn: 927.4566474\ttotal: 37.6s\tremaining: 23.3s\n",
      "617:\tlearn: 927.3375623\ttotal: 37.6s\tremaining: 23.3s\n",
      "618:\tlearn: 927.1849233\ttotal: 37.7s\tremaining: 23.2s\n",
      "619:\tlearn: 927.0720404\ttotal: 37.7s\tremaining: 23.1s\n",
      "620:\tlearn: 926.9567918\ttotal: 37.8s\tremaining: 23.1s\n",
      "621:\tlearn: 926.8108186\ttotal: 37.9s\tremaining: 23s\n",
      "622:\tlearn: 926.7039976\ttotal: 37.9s\tremaining: 23s\n",
      "623:\tlearn: 926.4761851\ttotal: 38s\tremaining: 22.9s\n",
      "624:\tlearn: 926.2727401\ttotal: 38.1s\tremaining: 22.8s\n",
      "625:\tlearn: 926.0856541\ttotal: 38.1s\tremaining: 22.8s\n",
      "626:\tlearn: 925.8506882\ttotal: 38.2s\tremaining: 22.7s\n",
      "627:\tlearn: 925.6205916\ttotal: 38.2s\tremaining: 22.7s\n",
      "628:\tlearn: 925.4160849\ttotal: 38.3s\tremaining: 22.6s\n",
      "629:\tlearn: 925.2593574\ttotal: 38.4s\tremaining: 22.5s\n",
      "630:\tlearn: 925.0895291\ttotal: 38.5s\tremaining: 22.5s\n",
      "631:\tlearn: 925.0120396\ttotal: 38.5s\tremaining: 22.4s\n",
      "632:\tlearn: 924.7492984\ttotal: 38.6s\tremaining: 22.4s\n",
      "633:\tlearn: 924.5063947\ttotal: 38.7s\tremaining: 22.3s\n",
      "634:\tlearn: 924.3620744\ttotal: 38.7s\tremaining: 22.3s\n",
      "635:\tlearn: 924.2328196\ttotal: 38.8s\tremaining: 22.2s\n",
      "636:\tlearn: 924.1771228\ttotal: 38.8s\tremaining: 22.1s\n",
      "637:\tlearn: 924.1217949\ttotal: 38.9s\tremaining: 22.1s\n",
      "638:\tlearn: 924.0054789\ttotal: 39s\tremaining: 22s\n",
      "639:\tlearn: 923.6400962\ttotal: 39s\tremaining: 21.9s\n",
      "640:\tlearn: 923.4729293\ttotal: 39.1s\tremaining: 21.9s\n",
      "641:\tlearn: 923.2298027\ttotal: 39.1s\tremaining: 21.8s\n",
      "642:\tlearn: 923.0323939\ttotal: 39.2s\tremaining: 21.8s\n",
      "643:\tlearn: 922.8652146\ttotal: 39.2s\tremaining: 21.7s\n",
      "644:\tlearn: 922.6534279\ttotal: 39.3s\tremaining: 21.6s\n",
      "645:\tlearn: 922.5528844\ttotal: 39.4s\tremaining: 21.6s\n",
      "646:\tlearn: 922.4508361\ttotal: 39.4s\tremaining: 21.5s\n",
      "647:\tlearn: 922.2855868\ttotal: 39.5s\tremaining: 21.4s\n",
      "648:\tlearn: 922.0374408\ttotal: 39.5s\tremaining: 21.4s\n",
      "649:\tlearn: 921.8387310\ttotal: 39.6s\tremaining: 21.3s\n",
      "650:\tlearn: 921.7333145\ttotal: 39.6s\tremaining: 21.3s\n",
      "651:\tlearn: 921.6420475\ttotal: 39.7s\tremaining: 21.2s\n",
      "652:\tlearn: 921.5187582\ttotal: 39.8s\tremaining: 21.1s\n",
      "653:\tlearn: 921.3501159\ttotal: 39.8s\tremaining: 21.1s\n",
      "654:\tlearn: 920.9996525\ttotal: 39.9s\tremaining: 21s\n",
      "655:\tlearn: 920.9181165\ttotal: 40s\tremaining: 21s\n",
      "656:\tlearn: 920.8391692\ttotal: 40s\tremaining: 20.9s\n",
      "657:\tlearn: 920.7470459\ttotal: 40.1s\tremaining: 20.8s\n",
      "658:\tlearn: 920.5641081\ttotal: 40.2s\tremaining: 20.8s\n",
      "659:\tlearn: 920.4143419\ttotal: 40.2s\tremaining: 20.7s\n",
      "660:\tlearn: 920.3426104\ttotal: 40.3s\tremaining: 20.7s\n",
      "661:\tlearn: 920.2865331\ttotal: 40.3s\tremaining: 20.6s\n",
      "662:\tlearn: 920.1606952\ttotal: 40.4s\tremaining: 20.5s\n",
      "663:\tlearn: 920.1036492\ttotal: 40.5s\tremaining: 20.5s\n",
      "664:\tlearn: 920.0097759\ttotal: 40.5s\tremaining: 20.4s\n",
      "665:\tlearn: 919.7766446\ttotal: 40.6s\tremaining: 20.4s\n",
      "666:\tlearn: 919.6416296\ttotal: 40.6s\tremaining: 20.3s\n",
      "667:\tlearn: 919.4614560\ttotal: 40.7s\tremaining: 20.2s\n",
      "668:\tlearn: 919.2230236\ttotal: 40.8s\tremaining: 20.2s\n",
      "669:\tlearn: 918.9148387\ttotal: 40.8s\tremaining: 20.1s\n",
      "670:\tlearn: 918.8310423\ttotal: 40.9s\tremaining: 20s\n",
      "671:\tlearn: 918.6637396\ttotal: 40.9s\tremaining: 20s\n",
      "672:\tlearn: 918.5024654\ttotal: 41s\tremaining: 19.9s\n",
      "673:\tlearn: 918.3291748\ttotal: 41s\tremaining: 19.9s\n",
      "674:\tlearn: 918.2232156\ttotal: 41.1s\tremaining: 19.8s\n",
      "675:\tlearn: 918.0402704\ttotal: 41.2s\tremaining: 19.7s\n",
      "676:\tlearn: 917.9392750\ttotal: 41.2s\tremaining: 19.7s\n",
      "677:\tlearn: 917.8069011\ttotal: 41.3s\tremaining: 19.6s\n",
      "678:\tlearn: 917.6267266\ttotal: 41.3s\tremaining: 19.5s\n",
      "679:\tlearn: 917.4884493\ttotal: 41.4s\tremaining: 19.5s\n",
      "680:\tlearn: 917.3507498\ttotal: 41.5s\tremaining: 19.4s\n",
      "681:\tlearn: 917.0149514\ttotal: 41.5s\tremaining: 19.4s\n",
      "682:\tlearn: 916.9225518\ttotal: 41.6s\tremaining: 19.3s\n",
      "683:\tlearn: 916.8452437\ttotal: 41.6s\tremaining: 19.2s\n",
      "684:\tlearn: 916.4254136\ttotal: 41.7s\tremaining: 19.2s\n",
      "685:\tlearn: 916.2199191\ttotal: 41.7s\tremaining: 19.1s\n",
      "686:\tlearn: 916.0170586\ttotal: 41.8s\tremaining: 19s\n",
      "687:\tlearn: 915.8271484\ttotal: 41.9s\tremaining: 19s\n",
      "688:\tlearn: 915.7097708\ttotal: 41.9s\tremaining: 18.9s\n",
      "689:\tlearn: 915.5289582\ttotal: 42s\tremaining: 18.9s\n",
      "690:\tlearn: 915.4467319\ttotal: 42s\tremaining: 18.8s\n",
      "691:\tlearn: 915.3013420\ttotal: 42.1s\tremaining: 18.7s\n",
      "692:\tlearn: 915.2049340\ttotal: 42.2s\tremaining: 18.7s\n",
      "693:\tlearn: 915.0537434\ttotal: 42.2s\tremaining: 18.6s\n",
      "694:\tlearn: 914.9446228\ttotal: 42.3s\tremaining: 18.5s\n",
      "695:\tlearn: 914.7566081\ttotal: 42.3s\tremaining: 18.5s\n",
      "696:\tlearn: 914.4824936\ttotal: 42.4s\tremaining: 18.4s\n",
      "697:\tlearn: 914.3852077\ttotal: 42.4s\tremaining: 18.4s\n",
      "698:\tlearn: 914.1669814\ttotal: 42.5s\tremaining: 18.3s\n",
      "699:\tlearn: 914.0802946\ttotal: 42.6s\tremaining: 18.2s\n",
      "700:\tlearn: 913.9199664\ttotal: 42.6s\tremaining: 18.2s\n",
      "701:\tlearn: 913.7407686\ttotal: 42.7s\tremaining: 18.1s\n",
      "702:\tlearn: 913.6705837\ttotal: 42.7s\tremaining: 18.1s\n",
      "703:\tlearn: 913.5140743\ttotal: 42.8s\tremaining: 18s\n",
      "704:\tlearn: 913.3121874\ttotal: 42.9s\tremaining: 17.9s\n",
      "705:\tlearn: 913.2154554\ttotal: 42.9s\tremaining: 17.9s\n",
      "706:\tlearn: 913.0937068\ttotal: 43s\tremaining: 17.8s\n",
      "707:\tlearn: 913.0385999\ttotal: 43.1s\tremaining: 17.8s\n",
      "708:\tlearn: 912.8516906\ttotal: 43.1s\tremaining: 17.7s\n",
      "709:\tlearn: 912.7399122\ttotal: 43.2s\tremaining: 17.6s\n",
      "710:\tlearn: 912.6944469\ttotal: 43.2s\tremaining: 17.6s\n",
      "711:\tlearn: 912.4684052\ttotal: 43.3s\tremaining: 17.5s\n",
      "712:\tlearn: 912.3763082\ttotal: 43.4s\tremaining: 17.5s\n",
      "713:\tlearn: 912.2341490\ttotal: 43.4s\tremaining: 17.4s\n",
      "714:\tlearn: 912.1396647\ttotal: 43.5s\tremaining: 17.3s\n",
      "715:\tlearn: 912.0681655\ttotal: 43.5s\tremaining: 17.3s\n",
      "716:\tlearn: 911.8990269\ttotal: 43.6s\tremaining: 17.2s\n",
      "717:\tlearn: 911.7228994\ttotal: 43.7s\tremaining: 17.1s\n",
      "718:\tlearn: 911.4750077\ttotal: 43.7s\tremaining: 17.1s\n",
      "719:\tlearn: 911.2806681\ttotal: 43.8s\tremaining: 17s\n",
      "720:\tlearn: 911.1092112\ttotal: 43.9s\tremaining: 17s\n",
      "721:\tlearn: 910.9523205\ttotal: 43.9s\tremaining: 16.9s\n",
      "722:\tlearn: 910.6460702\ttotal: 44s\tremaining: 16.8s\n",
      "723:\tlearn: 910.3902956\ttotal: 44s\tremaining: 16.8s\n",
      "724:\tlearn: 910.2983514\ttotal: 44.1s\tremaining: 16.7s\n",
      "725:\tlearn: 910.1734693\ttotal: 44.2s\tremaining: 16.7s\n",
      "726:\tlearn: 910.1072181\ttotal: 44.2s\tremaining: 16.6s\n",
      "727:\tlearn: 910.0254886\ttotal: 44.3s\tremaining: 16.6s\n",
      "728:\tlearn: 909.9663181\ttotal: 44.4s\tremaining: 16.5s\n",
      "729:\tlearn: 909.7941776\ttotal: 44.4s\tremaining: 16.4s\n",
      "730:\tlearn: 909.7113340\ttotal: 44.5s\tremaining: 16.4s\n",
      "731:\tlearn: 909.4210426\ttotal: 44.5s\tremaining: 16.3s\n",
      "732:\tlearn: 909.2269487\ttotal: 44.6s\tremaining: 16.2s\n",
      "733:\tlearn: 909.1091555\ttotal: 44.7s\tremaining: 16.2s\n",
      "734:\tlearn: 908.9281341\ttotal: 44.7s\tremaining: 16.1s\n",
      "735:\tlearn: 908.7506412\ttotal: 44.8s\tremaining: 16.1s\n",
      "736:\tlearn: 908.6791072\ttotal: 44.8s\tremaining: 16s\n",
      "737:\tlearn: 908.5631025\ttotal: 44.9s\tremaining: 15.9s\n",
      "738:\tlearn: 908.4094467\ttotal: 45s\tremaining: 15.9s\n",
      "739:\tlearn: 908.3337609\ttotal: 45s\tremaining: 15.8s\n",
      "740:\tlearn: 908.2182428\ttotal: 45.1s\tremaining: 15.8s\n",
      "741:\tlearn: 908.0963506\ttotal: 45.2s\tremaining: 15.7s\n",
      "742:\tlearn: 908.0194982\ttotal: 45.3s\tremaining: 15.7s\n",
      "743:\tlearn: 907.8370876\ttotal: 45.4s\tremaining: 15.6s\n",
      "744:\tlearn: 907.7485621\ttotal: 45.5s\tremaining: 15.6s\n",
      "745:\tlearn: 907.6481440\ttotal: 45.5s\tremaining: 15.5s\n",
      "746:\tlearn: 907.5685872\ttotal: 45.6s\tremaining: 15.4s\n",
      "747:\tlearn: 907.4176675\ttotal: 45.7s\tremaining: 15.4s\n",
      "748:\tlearn: 907.3291559\ttotal: 45.7s\tremaining: 15.3s\n",
      "749:\tlearn: 907.1923608\ttotal: 45.8s\tremaining: 15.3s\n",
      "750:\tlearn: 907.0099311\ttotal: 45.9s\tremaining: 15.2s\n",
      "751:\tlearn: 906.9352345\ttotal: 45.9s\tremaining: 15.1s\n",
      "752:\tlearn: 906.8647071\ttotal: 46s\tremaining: 15.1s\n",
      "753:\tlearn: 906.7544773\ttotal: 46.1s\tremaining: 15s\n",
      "754:\tlearn: 906.5701494\ttotal: 46.1s\tremaining: 15s\n",
      "755:\tlearn: 906.3979377\ttotal: 46.2s\tremaining: 14.9s\n",
      "756:\tlearn: 906.2876105\ttotal: 46.3s\tremaining: 14.9s\n",
      "757:\tlearn: 906.2296593\ttotal: 46.3s\tremaining: 14.8s\n",
      "758:\tlearn: 906.0509183\ttotal: 46.4s\tremaining: 14.7s\n",
      "759:\tlearn: 906.0065108\ttotal: 46.5s\tremaining: 14.7s\n",
      "760:\tlearn: 905.8480100\ttotal: 46.5s\tremaining: 14.6s\n",
      "761:\tlearn: 905.7804770\ttotal: 46.6s\tremaining: 14.5s\n",
      "762:\tlearn: 905.6858372\ttotal: 46.6s\tremaining: 14.5s\n",
      "763:\tlearn: 905.5719708\ttotal: 46.7s\tremaining: 14.4s\n",
      "764:\tlearn: 905.4486689\ttotal: 46.8s\tremaining: 14.4s\n",
      "765:\tlearn: 905.3437676\ttotal: 46.8s\tremaining: 14.3s\n",
      "766:\tlearn: 905.1532777\ttotal: 46.9s\tremaining: 14.2s\n",
      "767:\tlearn: 904.9879176\ttotal: 47s\tremaining: 14.2s\n",
      "768:\tlearn: 904.8870467\ttotal: 47s\tremaining: 14.1s\n",
      "769:\tlearn: 904.8126559\ttotal: 47.1s\tremaining: 14.1s\n",
      "770:\tlearn: 904.6426023\ttotal: 47.1s\tremaining: 14s\n",
      "771:\tlearn: 904.4642519\ttotal: 47.2s\tremaining: 13.9s\n",
      "772:\tlearn: 904.4094057\ttotal: 47.3s\tremaining: 13.9s\n",
      "773:\tlearn: 904.3369825\ttotal: 47.3s\tremaining: 13.8s\n",
      "774:\tlearn: 904.2475225\ttotal: 47.4s\tremaining: 13.8s\n",
      "775:\tlearn: 904.1009094\ttotal: 47.5s\tremaining: 13.7s\n",
      "776:\tlearn: 903.9822418\ttotal: 47.5s\tremaining: 13.6s\n",
      "777:\tlearn: 903.8798642\ttotal: 47.6s\tremaining: 13.6s\n",
      "778:\tlearn: 903.8108084\ttotal: 47.7s\tremaining: 13.5s\n",
      "779:\tlearn: 903.6942289\ttotal: 47.8s\tremaining: 13.5s\n",
      "780:\tlearn: 903.5025718\ttotal: 47.8s\tremaining: 13.4s\n",
      "781:\tlearn: 903.3237182\ttotal: 47.9s\tremaining: 13.3s\n",
      "782:\tlearn: 903.1837555\ttotal: 48s\tremaining: 13.3s\n",
      "783:\tlearn: 903.0744104\ttotal: 48s\tremaining: 13.2s\n",
      "784:\tlearn: 903.0164712\ttotal: 48.1s\tremaining: 13.2s\n",
      "785:\tlearn: 902.8522701\ttotal: 48.1s\tremaining: 13.1s\n",
      "786:\tlearn: 902.6743634\ttotal: 48.2s\tremaining: 13.1s\n",
      "787:\tlearn: 902.5621089\ttotal: 48.3s\tremaining: 13s\n",
      "788:\tlearn: 902.4648996\ttotal: 48.4s\tremaining: 12.9s\n",
      "789:\tlearn: 902.3763712\ttotal: 48.4s\tremaining: 12.9s\n",
      "790:\tlearn: 902.3023896\ttotal: 48.5s\tremaining: 12.8s\n",
      "791:\tlearn: 902.1951804\ttotal: 48.6s\tremaining: 12.8s\n",
      "792:\tlearn: 902.1391238\ttotal: 48.6s\tremaining: 12.7s\n",
      "793:\tlearn: 901.9571347\ttotal: 48.7s\tremaining: 12.6s\n",
      "794:\tlearn: 901.8766625\ttotal: 48.8s\tremaining: 12.6s\n",
      "795:\tlearn: 901.8059025\ttotal: 48.8s\tremaining: 12.5s\n",
      "796:\tlearn: 901.6078451\ttotal: 48.9s\tremaining: 12.5s\n",
      "797:\tlearn: 901.4482126\ttotal: 49s\tremaining: 12.4s\n",
      "798:\tlearn: 901.2908404\ttotal: 49s\tremaining: 12.3s\n",
      "799:\tlearn: 901.0891987\ttotal: 49.1s\tremaining: 12.3s\n",
      "800:\tlearn: 900.9488889\ttotal: 49.2s\tremaining: 12.2s\n",
      "801:\tlearn: 900.8538168\ttotal: 49.2s\tremaining: 12.2s\n",
      "802:\tlearn: 900.7603417\ttotal: 49.3s\tremaining: 12.1s\n",
      "803:\tlearn: 900.6871912\ttotal: 49.3s\tremaining: 12s\n",
      "804:\tlearn: 900.6082597\ttotal: 49.4s\tremaining: 12s\n",
      "805:\tlearn: 900.4228583\ttotal: 49.5s\tremaining: 11.9s\n",
      "806:\tlearn: 900.2846736\ttotal: 49.5s\tremaining: 11.8s\n",
      "807:\tlearn: 900.1373758\ttotal: 49.6s\tremaining: 11.8s\n",
      "808:\tlearn: 900.0610415\ttotal: 49.7s\tremaining: 11.7s\n",
      "809:\tlearn: 899.9100727\ttotal: 49.7s\tremaining: 11.7s\n",
      "810:\tlearn: 899.8469525\ttotal: 49.8s\tremaining: 11.6s\n",
      "811:\tlearn: 899.7956503\ttotal: 49.9s\tremaining: 11.5s\n",
      "812:\tlearn: 899.5761054\ttotal: 49.9s\tremaining: 11.5s\n",
      "813:\tlearn: 899.3339529\ttotal: 50s\tremaining: 11.4s\n",
      "814:\tlearn: 899.2045301\ttotal: 50s\tremaining: 11.4s\n",
      "815:\tlearn: 899.0658394\ttotal: 50.1s\tremaining: 11.3s\n",
      "816:\tlearn: 898.7102388\ttotal: 50.2s\tremaining: 11.2s\n",
      "817:\tlearn: 898.6116520\ttotal: 50.2s\tremaining: 11.2s\n",
      "818:\tlearn: 898.4381574\ttotal: 50.3s\tremaining: 11.1s\n",
      "819:\tlearn: 898.3614510\ttotal: 50.4s\tremaining: 11.1s\n",
      "820:\tlearn: 898.2858805\ttotal: 50.4s\tremaining: 11s\n",
      "821:\tlearn: 898.1508377\ttotal: 50.5s\tremaining: 10.9s\n",
      "822:\tlearn: 898.0000648\ttotal: 50.5s\tremaining: 10.9s\n",
      "823:\tlearn: 897.8961673\ttotal: 50.6s\tremaining: 10.8s\n",
      "824:\tlearn: 897.7958304\ttotal: 50.7s\tremaining: 10.7s\n",
      "825:\tlearn: 897.5433106\ttotal: 50.7s\tremaining: 10.7s\n",
      "826:\tlearn: 897.4712977\ttotal: 50.8s\tremaining: 10.6s\n",
      "827:\tlearn: 897.2790396\ttotal: 50.8s\tremaining: 10.6s\n",
      "828:\tlearn: 897.0361636\ttotal: 50.9s\tremaining: 10.5s\n",
      "829:\tlearn: 896.8426623\ttotal: 50.9s\tremaining: 10.4s\n",
      "830:\tlearn: 896.6449016\ttotal: 51s\tremaining: 10.4s\n",
      "831:\tlearn: 896.5427455\ttotal: 51.1s\tremaining: 10.3s\n",
      "832:\tlearn: 896.3112453\ttotal: 51.2s\tremaining: 10.3s\n",
      "833:\tlearn: 896.2302178\ttotal: 51.2s\tremaining: 10.2s\n",
      "834:\tlearn: 895.9899785\ttotal: 51.3s\tremaining: 10.1s\n",
      "835:\tlearn: 895.8580645\ttotal: 51.4s\tremaining: 10.1s\n",
      "836:\tlearn: 895.7756421\ttotal: 51.4s\tremaining: 10s\n",
      "837:\tlearn: 895.6901462\ttotal: 51.5s\tremaining: 9.95s\n",
      "838:\tlearn: 895.6245754\ttotal: 51.5s\tremaining: 9.89s\n",
      "839:\tlearn: 895.3178429\ttotal: 51.6s\tremaining: 9.83s\n",
      "840:\tlearn: 895.1018008\ttotal: 51.7s\tremaining: 9.77s\n",
      "841:\tlearn: 895.0047114\ttotal: 51.7s\tremaining: 9.71s\n",
      "842:\tlearn: 894.8589500\ttotal: 51.8s\tremaining: 9.64s\n",
      "843:\tlearn: 894.7091170\ttotal: 51.8s\tremaining: 9.58s\n",
      "844:\tlearn: 894.5661636\ttotal: 51.9s\tremaining: 9.52s\n",
      "845:\tlearn: 894.3552407\ttotal: 51.9s\tremaining: 9.46s\n",
      "846:\tlearn: 894.2444752\ttotal: 52s\tremaining: 9.39s\n",
      "847:\tlearn: 894.1646108\ttotal: 52.1s\tremaining: 9.33s\n",
      "848:\tlearn: 894.0546014\ttotal: 52.1s\tremaining: 9.27s\n",
      "849:\tlearn: 894.0118709\ttotal: 52.2s\tremaining: 9.21s\n",
      "850:\tlearn: 893.8703804\ttotal: 52.2s\tremaining: 9.14s\n",
      "851:\tlearn: 893.8430209\ttotal: 52.3s\tremaining: 9.08s\n",
      "852:\tlearn: 893.6843048\ttotal: 52.4s\tremaining: 9.02s\n",
      "853:\tlearn: 893.5906500\ttotal: 52.4s\tremaining: 8.96s\n",
      "854:\tlearn: 893.4443244\ttotal: 52.5s\tremaining: 8.9s\n",
      "855:\tlearn: 893.1901464\ttotal: 52.5s\tremaining: 8.84s\n",
      "856:\tlearn: 892.9443568\ttotal: 52.6s\tremaining: 8.77s\n",
      "857:\tlearn: 892.8540357\ttotal: 52.6s\tremaining: 8.71s\n",
      "858:\tlearn: 892.7550088\ttotal: 52.7s\tremaining: 8.65s\n",
      "859:\tlearn: 892.6119467\ttotal: 52.8s\tremaining: 8.59s\n",
      "860:\tlearn: 892.5370204\ttotal: 52.8s\tremaining: 8.53s\n",
      "861:\tlearn: 892.4358614\ttotal: 52.9s\tremaining: 8.46s\n",
      "862:\tlearn: 892.3697729\ttotal: 52.9s\tremaining: 8.4s\n",
      "863:\tlearn: 892.2612550\ttotal: 53s\tremaining: 8.34s\n",
      "864:\tlearn: 892.1559035\ttotal: 53s\tremaining: 8.28s\n",
      "865:\tlearn: 892.0184182\ttotal: 53.1s\tremaining: 8.22s\n",
      "866:\tlearn: 891.8673309\ttotal: 53.2s\tremaining: 8.15s\n",
      "867:\tlearn: 891.7514661\ttotal: 53.2s\tremaining: 8.09s\n",
      "868:\tlearn: 891.6386968\ttotal: 53.3s\tremaining: 8.03s\n",
      "869:\tlearn: 891.5183162\ttotal: 53.3s\tremaining: 7.97s\n",
      "870:\tlearn: 891.4354473\ttotal: 53.4s\tremaining: 7.91s\n",
      "871:\tlearn: 891.3564686\ttotal: 53.4s\tremaining: 7.84s\n",
      "872:\tlearn: 891.2889700\ttotal: 53.5s\tremaining: 7.79s\n",
      "873:\tlearn: 891.1478397\ttotal: 53.6s\tremaining: 7.72s\n",
      "874:\tlearn: 891.0498470\ttotal: 53.6s\tremaining: 7.66s\n",
      "875:\tlearn: 890.9522296\ttotal: 53.7s\tremaining: 7.6s\n",
      "876:\tlearn: 890.8422584\ttotal: 53.8s\tremaining: 7.54s\n",
      "877:\tlearn: 890.7959130\ttotal: 53.8s\tremaining: 7.48s\n",
      "878:\tlearn: 890.7093550\ttotal: 53.9s\tremaining: 7.42s\n",
      "879:\tlearn: 890.5888752\ttotal: 53.9s\tremaining: 7.36s\n",
      "880:\tlearn: 890.5776940\ttotal: 54s\tremaining: 7.29s\n",
      "881:\tlearn: 890.4449569\ttotal: 54.1s\tremaining: 7.23s\n",
      "882:\tlearn: 890.3153022\ttotal: 54.1s\tremaining: 7.17s\n",
      "883:\tlearn: 890.1324096\ttotal: 54.2s\tremaining: 7.11s\n",
      "884:\tlearn: 890.0420813\ttotal: 54.3s\tremaining: 7.05s\n",
      "885:\tlearn: 889.9642786\ttotal: 54.3s\tremaining: 6.99s\n",
      "886:\tlearn: 889.8298756\ttotal: 54.4s\tremaining: 6.93s\n",
      "887:\tlearn: 889.7137956\ttotal: 54.4s\tremaining: 6.87s\n",
      "888:\tlearn: 889.5813225\ttotal: 54.5s\tremaining: 6.8s\n",
      "889:\tlearn: 889.4560989\ttotal: 54.5s\tremaining: 6.74s\n",
      "890:\tlearn: 889.3483815\ttotal: 54.6s\tremaining: 6.68s\n",
      "891:\tlearn: 889.2377135\ttotal: 54.7s\tremaining: 6.62s\n",
      "892:\tlearn: 889.0977968\ttotal: 54.7s\tremaining: 6.56s\n",
      "893:\tlearn: 888.9358127\ttotal: 54.8s\tremaining: 6.49s\n",
      "894:\tlearn: 888.8334826\ttotal: 54.8s\tremaining: 6.43s\n",
      "895:\tlearn: 888.7693672\ttotal: 54.9s\tremaining: 6.37s\n",
      "896:\tlearn: 888.6876119\ttotal: 55s\tremaining: 6.31s\n",
      "897:\tlearn: 888.6225363\ttotal: 55s\tremaining: 6.25s\n",
      "898:\tlearn: 888.5665962\ttotal: 55.1s\tremaining: 6.19s\n",
      "899:\tlearn: 888.5006974\ttotal: 55.1s\tremaining: 6.13s\n",
      "900:\tlearn: 888.3637803\ttotal: 55.2s\tremaining: 6.06s\n",
      "901:\tlearn: 888.2882176\ttotal: 55.2s\tremaining: 6s\n",
      "902:\tlearn: 888.1911367\ttotal: 55.3s\tremaining: 5.94s\n",
      "903:\tlearn: 888.0311869\ttotal: 55.4s\tremaining: 5.88s\n",
      "904:\tlearn: 887.8185137\ttotal: 55.4s\tremaining: 5.82s\n",
      "905:\tlearn: 887.7526673\ttotal: 55.5s\tremaining: 5.75s\n",
      "906:\tlearn: 887.6526029\ttotal: 55.5s\tremaining: 5.7s\n",
      "907:\tlearn: 887.4940279\ttotal: 55.6s\tremaining: 5.63s\n",
      "908:\tlearn: 887.3958176\ttotal: 55.7s\tremaining: 5.57s\n",
      "909:\tlearn: 887.3316944\ttotal: 55.7s\tremaining: 5.51s\n",
      "910:\tlearn: 887.2614546\ttotal: 55.8s\tremaining: 5.45s\n",
      "911:\tlearn: 887.1927723\ttotal: 55.8s\tremaining: 5.39s\n",
      "912:\tlearn: 887.0434357\ttotal: 55.9s\tremaining: 5.33s\n",
      "913:\tlearn: 886.9632620\ttotal: 56s\tremaining: 5.26s\n",
      "914:\tlearn: 886.9193735\ttotal: 56s\tremaining: 5.2s\n",
      "915:\tlearn: 886.8478073\ttotal: 56.1s\tremaining: 5.14s\n",
      "916:\tlearn: 886.7949926\ttotal: 56.1s\tremaining: 5.08s\n",
      "917:\tlearn: 886.7286134\ttotal: 56.2s\tremaining: 5.02s\n",
      "918:\tlearn: 886.6035570\ttotal: 56.3s\tremaining: 4.96s\n",
      "919:\tlearn: 886.4774769\ttotal: 56.3s\tremaining: 4.9s\n",
      "920:\tlearn: 886.4282355\ttotal: 56.4s\tremaining: 4.83s\n",
      "921:\tlearn: 886.1876227\ttotal: 56.4s\tremaining: 4.77s\n",
      "922:\tlearn: 886.0147703\ttotal: 56.5s\tremaining: 4.71s\n",
      "923:\tlearn: 885.8986920\ttotal: 56.6s\tremaining: 4.65s\n",
      "924:\tlearn: 885.7931043\ttotal: 56.6s\tremaining: 4.59s\n",
      "925:\tlearn: 885.7475422\ttotal: 56.7s\tremaining: 4.53s\n",
      "926:\tlearn: 885.6262778\ttotal: 56.7s\tremaining: 4.47s\n",
      "927:\tlearn: 885.4622198\ttotal: 56.8s\tremaining: 4.41s\n",
      "928:\tlearn: 885.3456940\ttotal: 56.8s\tremaining: 4.34s\n",
      "929:\tlearn: 885.3181981\ttotal: 56.9s\tremaining: 4.28s\n",
      "930:\tlearn: 885.2619878\ttotal: 57s\tremaining: 4.22s\n",
      "931:\tlearn: 885.1435528\ttotal: 57s\tremaining: 4.16s\n",
      "932:\tlearn: 885.0744827\ttotal: 57.1s\tremaining: 4.1s\n",
      "933:\tlearn: 884.9802753\ttotal: 57.1s\tremaining: 4.04s\n",
      "934:\tlearn: 884.8776213\ttotal: 57.2s\tremaining: 3.98s\n",
      "935:\tlearn: 884.8041815\ttotal: 57.2s\tremaining: 3.91s\n",
      "936:\tlearn: 884.7810137\ttotal: 57.3s\tremaining: 3.85s\n",
      "937:\tlearn: 884.7058430\ttotal: 57.4s\tremaining: 3.79s\n",
      "938:\tlearn: 884.6118660\ttotal: 57.4s\tremaining: 3.73s\n",
      "939:\tlearn: 884.4012162\ttotal: 57.5s\tremaining: 3.67s\n",
      "940:\tlearn: 884.2521189\ttotal: 57.6s\tremaining: 3.61s\n",
      "941:\tlearn: 884.1781299\ttotal: 57.6s\tremaining: 3.55s\n",
      "942:\tlearn: 884.0559144\ttotal: 57.7s\tremaining: 3.49s\n",
      "943:\tlearn: 883.9454683\ttotal: 57.7s\tremaining: 3.42s\n",
      "944:\tlearn: 883.8344915\ttotal: 57.8s\tremaining: 3.36s\n",
      "945:\tlearn: 883.5237209\ttotal: 57.9s\tremaining: 3.3s\n",
      "946:\tlearn: 883.4017399\ttotal: 57.9s\tremaining: 3.24s\n",
      "947:\tlearn: 883.2459344\ttotal: 58s\tremaining: 3.18s\n",
      "948:\tlearn: 883.1472907\ttotal: 58.1s\tremaining: 3.12s\n",
      "949:\tlearn: 883.0793607\ttotal: 58.1s\tremaining: 3.06s\n",
      "950:\tlearn: 882.9746458\ttotal: 58.2s\tremaining: 3s\n",
      "951:\tlearn: 882.8825711\ttotal: 58.3s\tremaining: 2.94s\n",
      "952:\tlearn: 882.7836561\ttotal: 58.3s\tremaining: 2.88s\n",
      "953:\tlearn: 882.7319929\ttotal: 58.4s\tremaining: 2.81s\n",
      "954:\tlearn: 882.6728197\ttotal: 58.4s\tremaining: 2.75s\n",
      "955:\tlearn: 882.6037388\ttotal: 58.5s\tremaining: 2.69s\n",
      "956:\tlearn: 882.5258097\ttotal: 58.6s\tremaining: 2.63s\n",
      "957:\tlearn: 882.4401691\ttotal: 58.6s\tremaining: 2.57s\n",
      "958:\tlearn: 882.3377064\ttotal: 58.7s\tremaining: 2.51s\n",
      "959:\tlearn: 882.2555321\ttotal: 58.7s\tremaining: 2.45s\n",
      "960:\tlearn: 882.1374029\ttotal: 58.8s\tremaining: 2.38s\n",
      "961:\tlearn: 882.0898266\ttotal: 58.8s\tremaining: 2.32s\n",
      "962:\tlearn: 881.9478858\ttotal: 58.9s\tremaining: 2.26s\n",
      "963:\tlearn: 881.8767122\ttotal: 59s\tremaining: 2.2s\n",
      "964:\tlearn: 881.7996799\ttotal: 59s\tremaining: 2.14s\n",
      "965:\tlearn: 881.7299926\ttotal: 59.1s\tremaining: 2.08s\n",
      "966:\tlearn: 881.6644763\ttotal: 59.1s\tremaining: 2.02s\n",
      "967:\tlearn: 881.3847884\ttotal: 59.2s\tremaining: 1.96s\n",
      "968:\tlearn: 881.3198483\ttotal: 59.2s\tremaining: 1.9s\n",
      "969:\tlearn: 881.1904650\ttotal: 59.3s\tremaining: 1.83s\n",
      "970:\tlearn: 881.1382964\ttotal: 59.4s\tremaining: 1.77s\n",
      "971:\tlearn: 880.9201717\ttotal: 59.4s\tremaining: 1.71s\n",
      "972:\tlearn: 880.8651918\ttotal: 59.5s\tremaining: 1.65s\n",
      "973:\tlearn: 880.7993770\ttotal: 59.5s\tremaining: 1.59s\n",
      "974:\tlearn: 880.7309254\ttotal: 59.6s\tremaining: 1.53s\n",
      "975:\tlearn: 880.5365441\ttotal: 59.7s\tremaining: 1.47s\n",
      "976:\tlearn: 880.4441126\ttotal: 59.7s\tremaining: 1.41s\n",
      "977:\tlearn: 880.3731396\ttotal: 59.8s\tremaining: 1.34s\n",
      "978:\tlearn: 880.1472922\ttotal: 59.8s\tremaining: 1.28s\n",
      "979:\tlearn: 880.0819234\ttotal: 59.9s\tremaining: 1.22s\n",
      "980:\tlearn: 879.9963374\ttotal: 59.9s\tremaining: 1.16s\n",
      "981:\tlearn: 879.9019980\ttotal: 1m\tremaining: 1.1s\n",
      "982:\tlearn: 879.8020088\ttotal: 1m\tremaining: 1.04s\n",
      "983:\tlearn: 879.6795299\ttotal: 1m\tremaining: 978ms\n",
      "984:\tlearn: 879.6241168\ttotal: 1m\tremaining: 917ms\n",
      "985:\tlearn: 879.5767365\ttotal: 1m\tremaining: 855ms\n",
      "986:\tlearn: 879.5107547\ttotal: 1m\tremaining: 794ms\n",
      "987:\tlearn: 879.4463064\ttotal: 1m\tremaining: 733ms\n",
      "988:\tlearn: 879.3731850\ttotal: 1m\tremaining: 672ms\n",
      "989:\tlearn: 879.2254913\ttotal: 1m\tremaining: 611ms\n",
      "990:\tlearn: 879.1299489\ttotal: 1m\tremaining: 550ms\n",
      "991:\tlearn: 878.9714445\ttotal: 1m\tremaining: 489ms\n",
      "992:\tlearn: 878.8949141\ttotal: 1m\tremaining: 428ms\n",
      "993:\tlearn: 878.6956981\ttotal: 1m\tremaining: 367ms\n",
      "994:\tlearn: 878.5559682\ttotal: 1m\tremaining: 306ms\n",
      "995:\tlearn: 878.4976859\ttotal: 1m\tremaining: 244ms\n",
      "996:\tlearn: 878.4428035\ttotal: 1m\tremaining: 183ms\n",
      "997:\tlearn: 878.4027946\ttotal: 1m\tremaining: 122ms\n",
      "998:\tlearn: 878.3378396\ttotal: 1m 1s\tremaining: 61.1ms\n",
      "999:\tlearn: 878.2674293\ttotal: 1m 1s\tremaining: 0us\n",
      "CPU times: user 3min 56s, sys: 1.42 s, total: 3min 57s\n",
      "Wall time: 4min 11s\n"
     ]
    },
    {
     "data": {
      "text/plain": [
       "GridSearchCV(cv=3,\n",
       "             estimator=<catboost.core.CatBoostRegressor object at 0x7f453470a760>,\n",
       "             param_grid={'learning_rate': range(1, 2),\n",
       "                         'max_depth': range(1, 21, 10)},\n",
       "             scoring='neg_root_mean_squared_error', verbose=1)"
      ]
     },
     "execution_count": 52,
     "metadata": {},
     "output_type": "execute_result"
    }
   ],
   "source": [
    "%%time\n",
    "\n",
    "grid_search_cbr.fit(features_train, target_train)"
   ]
  },
  {
   "cell_type": "code",
   "execution_count": 53,
   "metadata": {},
   "outputs": [
    {
     "data": {
      "text/plain": [
       "{'learning_rate': 1, 'max_depth': 11}"
      ]
     },
     "execution_count": 53,
     "metadata": {},
     "output_type": "execute_result"
    }
   ],
   "source": [
    "# выводим модель CatBoostRegressor с лучшими гиперпараметрами\n",
    "grid_search_cbr.best_params_"
   ]
  },
  {
   "cell_type": "code",
   "execution_count": 54,
   "metadata": {},
   "outputs": [
    {
     "name": "stdout",
     "output_type": "stream",
     "text": [
      "1397.0\n"
     ]
    }
   ],
   "source": [
    "# RMSE для лучшей модели\n",
    "grid_search_cbr_score = (grid_search_cbr.best_score_*-1).round()\n",
    "print(grid_search_cbr_score)"
   ]
  },
  {
   "cell_type": "code",
   "execution_count": 55,
   "metadata": {},
   "outputs": [
    {
     "name": "stdout",
     "output_type": "stream",
     "text": [
      "CPU times: user 981 ms, sys: 3.99 ms, total: 985 ms\n",
      "Wall time: 991 ms\n"
     ]
    }
   ],
   "source": [
    "%%time\n",
    "\n",
    "# измеряем время предсказания для модели CatBoostRegressor\n",
    "predictions = grid_search_cbr.predict(features_train)"
   ]
  },
  {
   "cell_type": "markdown",
   "metadata": {},
   "source": [
    "-----"
   ]
  },
  {
   "cell_type": "markdown",
   "metadata": {},
   "source": [
    "Модель LightGBMRegressor"
   ]
  },
  {
   "cell_type": "markdown",
   "metadata": {},
   "source": [
    "Выберем параметры попроще, чтобы не тратить много времени на поиск оптимальных параметров"
   ]
  },
  {
   "cell_type": "code",
   "execution_count": 56,
   "metadata": {},
   "outputs": [],
   "source": [
    "# подбираем гиперпарамаметры для модели LightGBMRegressor\n",
    "param = {'num_leaves': range(1,3,1),\n",
    "         'max_depth': range (1,3,1)}\n",
    "grid_search_lgr = GridSearchCV(\n",
    "     LGBMRegressor(\n",
    "         random_state=RANDOM_STATE), param, verbose=1, cv=3, scoring = 'neg_root_mean_squared_error')\n",
    "\n"
   ]
  },
  {
   "cell_type": "code",
   "execution_count": 57,
   "metadata": {},
   "outputs": [
    {
     "name": "stdout",
     "output_type": "stream",
     "text": [
      "Fitting 3 folds for each of 4 candidates, totalling 12 fits\n"
     ]
    },
    {
     "name": "stderr",
     "output_type": "stream",
     "text": [
      "[LightGBM] [Fatal] Check failed: (num_leaves) > (1) at /__w/1/s/python-package/compile/src/io/config_auto.cpp, line 334 .\n",
      "\n",
      "[LightGBM] [Fatal] Check failed: (num_leaves) > (1) at /__w/1/s/python-package/compile/src/io/config_auto.cpp, line 334 .\n",
      "\n",
      "[LightGBM] [Fatal] Check failed: (num_leaves) > (1) at /__w/1/s/python-package/compile/src/io/config_auto.cpp, line 334 .\n",
      "\n",
      "[LightGBM] [Fatal] Check failed: (num_leaves) > (1) at /__w/1/s/python-package/compile/src/io/config_auto.cpp, line 334 .\n",
      "\n",
      "[LightGBM] [Fatal] Check failed: (num_leaves) > (1) at /__w/1/s/python-package/compile/src/io/config_auto.cpp, line 334 .\n",
      "\n",
      "[LightGBM] [Fatal] Check failed: (num_leaves) > (1) at /__w/1/s/python-package/compile/src/io/config_auto.cpp, line 334 .\n",
      "\n"
     ]
    },
    {
     "name": "stdout",
     "output_type": "stream",
     "text": [
      "CPU times: user 8min, sys: 952 ms, total: 8min 1s\n",
      "Wall time: 8min 2s\n"
     ]
    },
    {
     "data": {
      "text/plain": [
       "GridSearchCV(cv=3, estimator=LGBMRegressor(random_state=12345),\n",
       "             param_grid={'max_depth': range(1, 3), 'num_leaves': range(1, 3)},\n",
       "             scoring='neg_root_mean_squared_error', verbose=1)"
      ]
     },
     "execution_count": 57,
     "metadata": {},
     "output_type": "execute_result"
    }
   ],
   "source": [
    "%%time\n",
    "\n",
    "grid_search_lgr.fit(features_train, target_train)"
   ]
  },
  {
   "cell_type": "code",
   "execution_count": 58,
   "metadata": {},
   "outputs": [
    {
     "data": {
      "text/plain": [
       "{'max_depth': 1, 'num_leaves': 2}"
      ]
     },
     "execution_count": 58,
     "metadata": {},
     "output_type": "execute_result"
    }
   ],
   "source": [
    "# выводим модель LightGBMRegressor с лучшими гиперпараметрами\n",
    "grid_search_lgr.best_params_"
   ]
  },
  {
   "cell_type": "code",
   "execution_count": 59,
   "metadata": {},
   "outputs": [
    {
     "name": "stdout",
     "output_type": "stream",
     "text": [
      "1982.0\n"
     ]
    }
   ],
   "source": [
    "# RMSE для лучшей модели\n",
    "grid_search_lgr_score = (grid_search_lgr.best_score_*-1).round()\n",
    "print(grid_search_lgr_score)"
   ]
  },
  {
   "cell_type": "code",
   "execution_count": 60,
   "metadata": {},
   "outputs": [
    {
     "name": "stdout",
     "output_type": "stream",
     "text": [
      "CPU times: user 595 ms, sys: 0 ns, total: 595 ms\n",
      "Wall time: 538 ms\n"
     ]
    }
   ],
   "source": [
    "%%time\n",
    "\n",
    "# измеряем время предсказания для модели LightGBMRegressor\n",
    "predictions = grid_search_lgr.predict(features_train)"
   ]
  },
  {
   "cell_type": "markdown",
   "metadata": {},
   "source": [
    "### Вывод"
   ]
  },
  {
   "cell_type": "markdown",
   "metadata": {},
   "source": [
    "Обучили 3 модели - RandomForestRegressor, CatBoostRegressor и LGBMRegressor со сменой гиперпараметров. Анализ и выбор лучшей модели будет приведен в сводной таблице в следующей главе."
   ]
  },
  {
   "cell_type": "markdown",
   "metadata": {},
   "source": [
    "## Анализ моделей"
   ]
  },
  {
   "cell_type": "code",
   "execution_count": 66,
   "metadata": {},
   "outputs": [
    {
     "data": {
      "text/html": [
       "<div>\n",
       "<style scoped>\n",
       "    .dataframe tbody tr th:only-of-type {\n",
       "        vertical-align: middle;\n",
       "    }\n",
       "\n",
       "    .dataframe tbody tr th {\n",
       "        vertical-align: top;\n",
       "    }\n",
       "\n",
       "    .dataframe thead th {\n",
       "        text-align: right;\n",
       "    }\n",
       "</style>\n",
       "<table border=\"1\" class=\"dataframe\">\n",
       "  <thead>\n",
       "    <tr style=\"text-align: right;\">\n",
       "      <th></th>\n",
       "      <th>RMSE</th>\n",
       "      <th>Время обучения модели</th>\n",
       "      <th>Время предсказания модели</th>\n",
       "    </tr>\n",
       "  </thead>\n",
       "  <tbody>\n",
       "    <tr>\n",
       "      <th>RandomForestRegressor</th>\n",
       "      <td>1371.0</td>\n",
       "      <td>8.42</td>\n",
       "      <td>0.01</td>\n",
       "    </tr>\n",
       "    <tr>\n",
       "      <th>CatBoostRegressor</th>\n",
       "      <td>1397.0</td>\n",
       "      <td>4.11</td>\n",
       "      <td>0.01</td>\n",
       "    </tr>\n",
       "    <tr>\n",
       "      <th>LGBMRegressor</th>\n",
       "      <td>1982.0</td>\n",
       "      <td>8.02</td>\n",
       "      <td>0.01</td>\n",
       "    </tr>\n",
       "  </tbody>\n",
       "</table>\n",
       "</div>"
      ],
      "text/plain": [
       "                         RMSE  Время обучения модели  \\\n",
       "RandomForestRegressor  1371.0                   8.42   \n",
       "CatBoostRegressor      1397.0                   4.11   \n",
       "LGBMRegressor          1982.0                   8.02   \n",
       "\n",
       "                       Время предсказания модели  \n",
       "RandomForestRegressor                       0.01  \n",
       "CatBoostRegressor                           0.01  \n",
       "LGBMRegressor                               0.01  "
      ]
     },
     "execution_count": 66,
     "metadata": {},
     "output_type": "execute_result"
    }
   ],
   "source": [
    "# сводная таблица по показателям RMSE, время обучения модели и время предсказания модели:\n",
    "index = ['RandomForestRegressor',\n",
    "         'CatBoostRegressor',\n",
    "         'LGBMRegressor']\n",
    "\n",
    "data = {'RMSE':[grid_search_rfr_score,\n",
    "                grid_search_cbr_score,\n",
    "                grid_search_lgr_score],\n",
    "        \n",
    "        'Время обучения модели':[8.42, \n",
    "                                 4.11,\n",
    "                                 8.02],\n",
    "        \n",
    "        'Время предсказания модели':[0.01, \n",
    "                                 0.01,\n",
    "                                 0.01],   \n",
    "       }\n",
    "\n",
    "data = pd.DataFrame(data=data, index=index)\n",
    "\n",
    "\n",
    "data.sort_values(by = 'RMSE', ascending=True)"
   ]
  },
  {
   "cell_type": "markdown",
   "metadata": {},
   "source": [
    "Лучшей моделью по всем параметрам является CatBoostRegressor, время предсказания не будет сильно отличаться между представленными моделями."
   ]
  },
  {
   "cell_type": "code",
   "execution_count": 62,
   "metadata": {},
   "outputs": [
    {
     "name": "stdout",
     "output_type": "stream",
     "text": [
      "0:\tlearn: 2072.6311559\ttotal: 41.9ms\tremaining: 41.9s\n",
      "1:\tlearn: 1879.5539330\ttotal: 70.5ms\tremaining: 35.2s\n",
      "2:\tlearn: 1789.3180609\ttotal: 101ms\tremaining: 33.7s\n",
      "3:\tlearn: 1728.7717242\ttotal: 144ms\tremaining: 36s\n",
      "4:\tlearn: 1673.3154457\ttotal: 172ms\tremaining: 34.3s\n",
      "5:\tlearn: 1627.1630182\ttotal: 203ms\tremaining: 33.7s\n",
      "6:\tlearn: 1588.4471852\ttotal: 247ms\tremaining: 35s\n",
      "7:\tlearn: 1568.2178391\ttotal: 274ms\tremaining: 33.9s\n",
      "8:\tlearn: 1555.0325460\ttotal: 302ms\tremaining: 33.2s\n",
      "9:\tlearn: 1534.6190508\ttotal: 346ms\tremaining: 34.2s\n",
      "10:\tlearn: 1520.7506209\ttotal: 374ms\tremaining: 33.6s\n",
      "11:\tlearn: 1508.8879352\ttotal: 402ms\tremaining: 33.1s\n",
      "12:\tlearn: 1499.5036222\ttotal: 449ms\tremaining: 34.1s\n",
      "13:\tlearn: 1488.3031882\ttotal: 478ms\tremaining: 33.7s\n",
      "14:\tlearn: 1479.1005903\ttotal: 517ms\tremaining: 34s\n",
      "15:\tlearn: 1470.8426604\ttotal: 551ms\tremaining: 33.9s\n",
      "16:\tlearn: 1466.4401829\ttotal: 577ms\tremaining: 33.4s\n",
      "17:\tlearn: 1461.2273514\ttotal: 611ms\tremaining: 33.3s\n",
      "18:\tlearn: 1456.7575077\ttotal: 650ms\tremaining: 33.6s\n",
      "19:\tlearn: 1452.2970972\ttotal: 678ms\tremaining: 33.2s\n",
      "20:\tlearn: 1444.8758322\ttotal: 720ms\tremaining: 33.5s\n",
      "21:\tlearn: 1440.0044673\ttotal: 750ms\tremaining: 33.4s\n",
      "22:\tlearn: 1437.0196972\ttotal: 778ms\tremaining: 33.1s\n",
      "23:\tlearn: 1432.4906451\ttotal: 820ms\tremaining: 33.3s\n",
      "24:\tlearn: 1429.9809243\ttotal: 847ms\tremaining: 33s\n",
      "25:\tlearn: 1426.7054265\ttotal: 875ms\tremaining: 32.8s\n",
      "26:\tlearn: 1421.8378984\ttotal: 925ms\tremaining: 33.3s\n",
      "27:\tlearn: 1416.9237415\ttotal: 954ms\tremaining: 33.1s\n",
      "28:\tlearn: 1413.3877610\ttotal: 982ms\tremaining: 32.9s\n",
      "29:\tlearn: 1409.9894819\ttotal: 1.03s\tremaining: 33.2s\n",
      "30:\tlearn: 1407.4433994\ttotal: 1.05s\tremaining: 32.9s\n",
      "31:\tlearn: 1403.9069331\ttotal: 1.08s\tremaining: 32.8s\n",
      "32:\tlearn: 1400.6668762\ttotal: 1.13s\tremaining: 33s\n",
      "33:\tlearn: 1397.3161599\ttotal: 1.17s\tremaining: 33.1s\n",
      "34:\tlearn: 1394.2627341\ttotal: 1.21s\tremaining: 33.2s\n",
      "35:\tlearn: 1391.5275787\ttotal: 1.24s\tremaining: 33.3s\n",
      "36:\tlearn: 1388.6703236\ttotal: 1.29s\tremaining: 33.5s\n",
      "37:\tlearn: 1386.7438549\ttotal: 1.32s\tremaining: 33.5s\n",
      "38:\tlearn: 1383.0608827\ttotal: 1.35s\tremaining: 33.3s\n",
      "39:\tlearn: 1380.2098549\ttotal: 1.4s\tremaining: 33.5s\n",
      "40:\tlearn: 1376.4145877\ttotal: 1.43s\tremaining: 33.5s\n",
      "41:\tlearn: 1373.1272032\ttotal: 1.47s\tremaining: 33.4s\n",
      "42:\tlearn: 1370.9340445\ttotal: 1.51s\tremaining: 33.7s\n",
      "43:\tlearn: 1367.3884318\ttotal: 1.55s\tremaining: 33.7s\n",
      "44:\tlearn: 1365.5099252\ttotal: 1.58s\tremaining: 33.6s\n",
      "45:\tlearn: 1362.7805398\ttotal: 1.62s\tremaining: 33.6s\n",
      "46:\tlearn: 1361.1048564\ttotal: 1.65s\tremaining: 33.4s\n",
      "47:\tlearn: 1358.9496390\ttotal: 1.69s\tremaining: 33.6s\n",
      "48:\tlearn: 1356.7283429\ttotal: 1.72s\tremaining: 33.4s\n",
      "49:\tlearn: 1353.9340533\ttotal: 1.75s\tremaining: 33.2s\n",
      "50:\tlearn: 1352.3526802\ttotal: 1.78s\tremaining: 33.2s\n",
      "51:\tlearn: 1350.3999194\ttotal: 1.81s\tremaining: 33.1s\n",
      "52:\tlearn: 1349.2431951\ttotal: 1.84s\tremaining: 32.9s\n",
      "53:\tlearn: 1347.5284462\ttotal: 1.87s\tremaining: 32.8s\n",
      "54:\tlearn: 1346.2940583\ttotal: 1.91s\tremaining: 32.8s\n",
      "55:\tlearn: 1344.9030912\ttotal: 1.93s\tremaining: 32.6s\n",
      "56:\tlearn: 1343.6560012\ttotal: 1.96s\tremaining: 32.4s\n",
      "57:\tlearn: 1342.1958581\ttotal: 2s\tremaining: 32.5s\n",
      "58:\tlearn: 1341.0597885\ttotal: 2.03s\tremaining: 32.4s\n",
      "59:\tlearn: 1339.1449204\ttotal: 2.06s\tremaining: 32.2s\n",
      "60:\tlearn: 1337.6589355\ttotal: 2.1s\tremaining: 32.3s\n",
      "61:\tlearn: 1335.8405460\ttotal: 2.12s\tremaining: 32.1s\n",
      "62:\tlearn: 1334.7048871\ttotal: 2.15s\tremaining: 32s\n",
      "63:\tlearn: 1333.5926869\ttotal: 2.19s\tremaining: 32s\n",
      "64:\tlearn: 1332.2273603\ttotal: 2.22s\tremaining: 31.9s\n",
      "65:\tlearn: 1330.8200853\ttotal: 2.25s\tremaining: 31.8s\n",
      "66:\tlearn: 1328.8917555\ttotal: 2.28s\tremaining: 31.8s\n",
      "67:\tlearn: 1328.2545709\ttotal: 2.31s\tremaining: 31.7s\n",
      "68:\tlearn: 1326.8275583\ttotal: 2.34s\tremaining: 31.6s\n",
      "69:\tlearn: 1326.0441727\ttotal: 2.38s\tremaining: 31.6s\n",
      "70:\tlearn: 1324.6126561\ttotal: 2.4s\tremaining: 31.5s\n",
      "71:\tlearn: 1323.4669398\ttotal: 2.43s\tremaining: 31.4s\n",
      "72:\tlearn: 1321.2435017\ttotal: 2.47s\tremaining: 31.4s\n",
      "73:\tlearn: 1320.1127797\ttotal: 2.5s\tremaining: 31.3s\n",
      "74:\tlearn: 1318.6419110\ttotal: 2.53s\tremaining: 31.3s\n",
      "75:\tlearn: 1316.9181068\ttotal: 2.57s\tremaining: 31.2s\n",
      "76:\tlearn: 1316.2287504\ttotal: 2.6s\tremaining: 31.1s\n",
      "77:\tlearn: 1314.9475492\ttotal: 2.63s\tremaining: 31s\n",
      "78:\tlearn: 1313.7479960\ttotal: 2.67s\tremaining: 31.1s\n",
      "79:\tlearn: 1312.6061819\ttotal: 2.7s\tremaining: 31s\n",
      "80:\tlearn: 1310.7787792\ttotal: 2.73s\tremaining: 30.9s\n",
      "81:\tlearn: 1309.1826801\ttotal: 2.76s\tremaining: 30.9s\n",
      "82:\tlearn: 1307.9913816\ttotal: 2.79s\tremaining: 30.9s\n",
      "83:\tlearn: 1307.1939930\ttotal: 2.82s\tremaining: 30.7s\n",
      "84:\tlearn: 1306.1873962\ttotal: 2.86s\tremaining: 30.8s\n",
      "85:\tlearn: 1305.2703087\ttotal: 2.89s\tremaining: 30.7s\n",
      "86:\tlearn: 1304.1800636\ttotal: 2.91s\tremaining: 30.6s\n",
      "87:\tlearn: 1303.2545655\ttotal: 2.95s\tremaining: 30.5s\n",
      "88:\tlearn: 1301.7166157\ttotal: 2.98s\tremaining: 30.5s\n",
      "89:\tlearn: 1299.9234633\ttotal: 3.01s\tremaining: 30.4s\n",
      "90:\tlearn: 1298.3628611\ttotal: 3.04s\tremaining: 30.4s\n",
      "91:\tlearn: 1296.8301386\ttotal: 3.08s\tremaining: 30.4s\n",
      "92:\tlearn: 1295.0550725\ttotal: 3.1s\tremaining: 30.3s\n",
      "93:\tlearn: 1294.4272282\ttotal: 3.13s\tremaining: 30.2s\n",
      "94:\tlearn: 1293.4466237\ttotal: 3.17s\tremaining: 30.2s\n",
      "95:\tlearn: 1291.9177727\ttotal: 3.21s\tremaining: 30.2s\n",
      "96:\tlearn: 1291.0532341\ttotal: 3.24s\tremaining: 30.2s\n",
      "97:\tlearn: 1289.9666006\ttotal: 3.27s\tremaining: 30.2s\n",
      "98:\tlearn: 1289.2682527\ttotal: 3.3s\tremaining: 30.1s\n",
      "99:\tlearn: 1288.3624721\ttotal: 3.33s\tremaining: 30s\n",
      "100:\tlearn: 1287.6159350\ttotal: 3.37s\tremaining: 30s\n",
      "101:\tlearn: 1286.7444341\ttotal: 3.39s\tremaining: 29.9s\n",
      "102:\tlearn: 1286.0427408\ttotal: 3.42s\tremaining: 29.8s\n",
      "103:\tlearn: 1285.2967887\ttotal: 3.46s\tremaining: 29.8s\n",
      "104:\tlearn: 1284.3621953\ttotal: 3.48s\tremaining: 29.7s\n",
      "105:\tlearn: 1283.7642774\ttotal: 3.51s\tremaining: 29.6s\n",
      "106:\tlearn: 1282.8116405\ttotal: 3.55s\tremaining: 29.6s\n",
      "107:\tlearn: 1281.9404665\ttotal: 3.58s\tremaining: 29.5s\n",
      "108:\tlearn: 1281.0294692\ttotal: 3.61s\tremaining: 29.5s\n",
      "109:\tlearn: 1280.3383489\ttotal: 3.64s\tremaining: 29.5s\n",
      "110:\tlearn: 1279.2071180\ttotal: 3.67s\tremaining: 29.4s\n",
      "111:\tlearn: 1278.2145027\ttotal: 3.7s\tremaining: 29.3s\n",
      "112:\tlearn: 1277.4146852\ttotal: 3.74s\tremaining: 29.4s\n",
      "113:\tlearn: 1276.7332982\ttotal: 3.77s\tremaining: 29.3s\n",
      "114:\tlearn: 1275.6820408\ttotal: 3.8s\tremaining: 29.2s\n",
      "115:\tlearn: 1274.9424996\ttotal: 3.83s\tremaining: 29.2s\n",
      "116:\tlearn: 1274.1905479\ttotal: 3.87s\tremaining: 29.2s\n",
      "117:\tlearn: 1273.4226646\ttotal: 3.9s\tremaining: 29.1s\n",
      "118:\tlearn: 1272.5985138\ttotal: 3.94s\tremaining: 29.2s\n",
      "119:\tlearn: 1271.5684720\ttotal: 3.97s\tremaining: 29.1s\n",
      "120:\tlearn: 1270.9012910\ttotal: 4s\tremaining: 29.1s\n",
      "121:\tlearn: 1269.7876197\ttotal: 4.05s\tremaining: 29.1s\n",
      "122:\tlearn: 1268.8355339\ttotal: 4.07s\tremaining: 29s\n",
      "123:\tlearn: 1268.2054094\ttotal: 4.1s\tremaining: 29s\n",
      "124:\tlearn: 1267.3190060\ttotal: 4.14s\tremaining: 29s\n",
      "125:\tlearn: 1266.8569475\ttotal: 4.17s\tremaining: 28.9s\n",
      "126:\tlearn: 1266.2043423\ttotal: 4.2s\tremaining: 28.9s\n",
      "127:\tlearn: 1265.4798014\ttotal: 4.24s\tremaining: 28.9s\n",
      "128:\tlearn: 1264.3367511\ttotal: 4.27s\tremaining: 28.8s\n",
      "129:\tlearn: 1263.6459410\ttotal: 4.3s\tremaining: 28.8s\n",
      "130:\tlearn: 1262.9079321\ttotal: 4.34s\tremaining: 28.8s\n",
      "131:\tlearn: 1262.2939425\ttotal: 4.36s\tremaining: 28.7s\n",
      "132:\tlearn: 1261.5403246\ttotal: 4.39s\tremaining: 28.6s\n",
      "133:\tlearn: 1261.2099782\ttotal: 4.43s\tremaining: 28.6s\n",
      "134:\tlearn: 1260.6132804\ttotal: 4.46s\tremaining: 28.6s\n",
      "135:\tlearn: 1260.1377838\ttotal: 4.49s\tremaining: 28.5s\n",
      "136:\tlearn: 1259.7119658\ttotal: 4.52s\tremaining: 28.5s\n",
      "137:\tlearn: 1259.3322242\ttotal: 4.56s\tremaining: 28.5s\n",
      "138:\tlearn: 1258.7173765\ttotal: 4.6s\tremaining: 28.5s\n",
      "139:\tlearn: 1258.2014444\ttotal: 4.63s\tremaining: 28.5s\n",
      "140:\tlearn: 1257.2758376\ttotal: 4.67s\tremaining: 28.4s\n",
      "141:\tlearn: 1256.7493969\ttotal: 4.7s\tremaining: 28.4s\n",
      "142:\tlearn: 1256.0553916\ttotal: 4.74s\tremaining: 28.4s\n",
      "143:\tlearn: 1255.3298053\ttotal: 4.77s\tremaining: 28.4s\n",
      "144:\tlearn: 1254.6946612\ttotal: 4.8s\tremaining: 28.3s\n",
      "145:\tlearn: 1254.2836393\ttotal: 4.84s\tremaining: 28.3s\n",
      "146:\tlearn: 1253.6791473\ttotal: 4.87s\tremaining: 28.2s\n",
      "147:\tlearn: 1253.1563912\ttotal: 4.91s\tremaining: 28.2s\n",
      "148:\tlearn: 1252.3621699\ttotal: 4.94s\tremaining: 28.2s\n",
      "149:\tlearn: 1251.7249531\ttotal: 4.97s\tremaining: 28.1s\n",
      "150:\tlearn: 1251.0136945\ttotal: 5.01s\tremaining: 28.2s\n",
      "151:\tlearn: 1250.4687863\ttotal: 5.04s\tremaining: 28.1s\n",
      "152:\tlearn: 1249.9284948\ttotal: 5.07s\tremaining: 28.1s\n",
      "153:\tlearn: 1249.1262142\ttotal: 5.11s\tremaining: 28.1s\n",
      "154:\tlearn: 1248.3523913\ttotal: 5.14s\tremaining: 28s\n",
      "155:\tlearn: 1247.8384621\ttotal: 5.17s\tremaining: 28s\n",
      "156:\tlearn: 1247.0917770\ttotal: 5.21s\tremaining: 28s\n",
      "157:\tlearn: 1246.4313154\ttotal: 5.24s\tremaining: 27.9s\n",
      "158:\tlearn: 1246.1486490\ttotal: 5.27s\tremaining: 27.9s\n",
      "159:\tlearn: 1245.4047200\ttotal: 5.31s\tremaining: 27.9s\n",
      "160:\tlearn: 1244.9666967\ttotal: 5.34s\tremaining: 27.8s\n",
      "161:\tlearn: 1244.5147999\ttotal: 5.36s\tremaining: 27.8s\n",
      "162:\tlearn: 1243.9239696\ttotal: 5.4s\tremaining: 27.7s\n",
      "163:\tlearn: 1243.6330135\ttotal: 5.43s\tremaining: 27.7s\n",
      "164:\tlearn: 1243.2844917\ttotal: 5.45s\tremaining: 27.6s\n",
      "165:\tlearn: 1242.7648012\ttotal: 5.49s\tremaining: 27.6s\n",
      "166:\tlearn: 1242.3542447\ttotal: 5.52s\tremaining: 27.5s\n",
      "167:\tlearn: 1241.9528468\ttotal: 5.55s\tremaining: 27.5s\n",
      "168:\tlearn: 1240.9681082\ttotal: 5.58s\tremaining: 27.4s\n",
      "169:\tlearn: 1240.1193914\ttotal: 5.61s\tremaining: 27.4s\n",
      "170:\tlearn: 1239.7217030\ttotal: 5.64s\tremaining: 27.3s\n",
      "171:\tlearn: 1239.4822937\ttotal: 5.67s\tremaining: 27.3s\n",
      "172:\tlearn: 1238.9358491\ttotal: 5.7s\tremaining: 27.2s\n",
      "173:\tlearn: 1238.0013041\ttotal: 5.73s\tremaining: 27.2s\n",
      "174:\tlearn: 1237.5882934\ttotal: 5.75s\tremaining: 27.1s\n",
      "175:\tlearn: 1237.2666117\ttotal: 5.79s\tremaining: 27.1s\n",
      "176:\tlearn: 1236.9087599\ttotal: 5.82s\tremaining: 27s\n",
      "177:\tlearn: 1236.4298333\ttotal: 5.84s\tremaining: 27s\n",
      "178:\tlearn: 1235.9103728\ttotal: 5.88s\tremaining: 27s\n",
      "179:\tlearn: 1235.5006193\ttotal: 5.91s\tremaining: 26.9s\n",
      "180:\tlearn: 1234.9610227\ttotal: 5.94s\tremaining: 26.9s\n",
      "181:\tlearn: 1234.5646377\ttotal: 5.98s\tremaining: 26.9s\n",
      "182:\tlearn: 1234.0370855\ttotal: 6.01s\tremaining: 26.8s\n",
      "183:\tlearn: 1233.5626747\ttotal: 6.04s\tremaining: 26.8s\n",
      "184:\tlearn: 1233.0862412\ttotal: 6.07s\tremaining: 26.7s\n",
      "185:\tlearn: 1232.6097855\ttotal: 6.1s\tremaining: 26.7s\n",
      "186:\tlearn: 1232.2918392\ttotal: 6.13s\tremaining: 26.7s\n",
      "187:\tlearn: 1231.8196179\ttotal: 6.17s\tremaining: 26.6s\n",
      "188:\tlearn: 1231.4502880\ttotal: 6.2s\tremaining: 26.6s\n",
      "189:\tlearn: 1230.8739451\ttotal: 6.23s\tremaining: 26.6s\n",
      "190:\tlearn: 1230.4458831\ttotal: 6.26s\tremaining: 26.5s\n",
      "191:\tlearn: 1230.1094311\ttotal: 6.29s\tremaining: 26.5s\n",
      "192:\tlearn: 1229.5760921\ttotal: 6.32s\tremaining: 26.4s\n",
      "193:\tlearn: 1228.8116509\ttotal: 6.35s\tremaining: 26.4s\n",
      "194:\tlearn: 1228.4269705\ttotal: 6.39s\tremaining: 26.4s\n",
      "195:\tlearn: 1227.7165896\ttotal: 6.42s\tremaining: 26.3s\n",
      "196:\tlearn: 1227.2781965\ttotal: 6.46s\tremaining: 26.3s\n",
      "197:\tlearn: 1226.9313742\ttotal: 6.49s\tremaining: 26.3s\n",
      "198:\tlearn: 1226.4321049\ttotal: 6.52s\tremaining: 26.2s\n",
      "199:\tlearn: 1225.7410446\ttotal: 6.56s\tremaining: 26.2s\n",
      "200:\tlearn: 1225.1017807\ttotal: 6.59s\tremaining: 26.2s\n",
      "201:\tlearn: 1224.6116479\ttotal: 6.62s\tremaining: 26.1s\n",
      "202:\tlearn: 1224.2146529\ttotal: 6.65s\tremaining: 26.1s\n",
      "203:\tlearn: 1223.8532475\ttotal: 6.68s\tremaining: 26.1s\n",
      "204:\tlearn: 1223.4296172\ttotal: 6.71s\tremaining: 26s\n",
      "205:\tlearn: 1222.4797590\ttotal: 6.74s\tremaining: 26s\n",
      "206:\tlearn: 1222.1164354\ttotal: 6.77s\tremaining: 25.9s\n",
      "207:\tlearn: 1221.4715002\ttotal: 6.8s\tremaining: 25.9s\n",
      "208:\tlearn: 1220.8137319\ttotal: 6.83s\tremaining: 25.8s\n",
      "209:\tlearn: 1220.1445488\ttotal: 6.87s\tremaining: 25.9s\n",
      "210:\tlearn: 1219.6562085\ttotal: 6.9s\tremaining: 25.8s\n",
      "211:\tlearn: 1219.2379319\ttotal: 6.93s\tremaining: 25.7s\n",
      "212:\tlearn: 1218.7683787\ttotal: 6.96s\tremaining: 25.7s\n",
      "213:\tlearn: 1218.3540262\ttotal: 6.99s\tremaining: 25.7s\n",
      "214:\tlearn: 1217.7682962\ttotal: 7.02s\tremaining: 25.6s\n",
      "215:\tlearn: 1217.3979370\ttotal: 7.06s\tremaining: 25.6s\n",
      "216:\tlearn: 1217.0886066\ttotal: 7.09s\tremaining: 25.6s\n",
      "217:\tlearn: 1216.6333167\ttotal: 7.12s\tremaining: 25.5s\n",
      "218:\tlearn: 1216.2742582\ttotal: 7.15s\tremaining: 25.5s\n",
      "219:\tlearn: 1215.7872529\ttotal: 7.19s\tremaining: 25.5s\n",
      "220:\tlearn: 1215.3704207\ttotal: 7.22s\tremaining: 25.4s\n",
      "221:\tlearn: 1215.0716310\ttotal: 7.26s\tremaining: 25.4s\n",
      "222:\tlearn: 1214.5463462\ttotal: 7.29s\tremaining: 25.4s\n",
      "223:\tlearn: 1214.0767371\ttotal: 7.32s\tremaining: 25.4s\n",
      "224:\tlearn: 1213.3906246\ttotal: 7.36s\tremaining: 25.3s\n",
      "225:\tlearn: 1213.1797336\ttotal: 7.38s\tremaining: 25.3s\n",
      "226:\tlearn: 1212.8842820\ttotal: 7.41s\tremaining: 25.2s\n",
      "227:\tlearn: 1212.5449143\ttotal: 7.45s\tremaining: 25.2s\n",
      "228:\tlearn: 1212.0185117\ttotal: 7.49s\tremaining: 25.2s\n",
      "229:\tlearn: 1211.7803242\ttotal: 7.52s\tremaining: 25.2s\n",
      "230:\tlearn: 1211.2497254\ttotal: 7.56s\tremaining: 25.2s\n",
      "231:\tlearn: 1210.7120764\ttotal: 7.58s\tremaining: 25.1s\n",
      "232:\tlearn: 1210.3413460\ttotal: 7.61s\tremaining: 25.1s\n",
      "233:\tlearn: 1209.8818312\ttotal: 7.65s\tremaining: 25s\n",
      "234:\tlearn: 1209.2127279\ttotal: 7.68s\tremaining: 25s\n",
      "235:\tlearn: 1208.8900846\ttotal: 7.71s\tremaining: 24.9s\n",
      "236:\tlearn: 1208.5190615\ttotal: 7.74s\tremaining: 24.9s\n",
      "237:\tlearn: 1207.8844606\ttotal: 7.77s\tremaining: 24.9s\n",
      "238:\tlearn: 1207.0766228\ttotal: 7.8s\tremaining: 24.8s\n",
      "239:\tlearn: 1206.6621111\ttotal: 7.84s\tremaining: 24.8s\n",
      "240:\tlearn: 1206.3904406\ttotal: 7.87s\tremaining: 24.8s\n",
      "241:\tlearn: 1206.1606295\ttotal: 7.89s\tremaining: 24.7s\n",
      "242:\tlearn: 1205.8451191\ttotal: 7.93s\tremaining: 24.7s\n",
      "243:\tlearn: 1205.4196246\ttotal: 7.96s\tremaining: 24.7s\n",
      "244:\tlearn: 1205.2270770\ttotal: 7.98s\tremaining: 24.6s\n",
      "245:\tlearn: 1204.7468172\ttotal: 8.02s\tremaining: 24.6s\n",
      "246:\tlearn: 1204.4277404\ttotal: 8.05s\tremaining: 24.5s\n",
      "247:\tlearn: 1204.0295608\ttotal: 8.08s\tremaining: 24.5s\n",
      "248:\tlearn: 1203.8009614\ttotal: 8.11s\tremaining: 24.5s\n",
      "249:\tlearn: 1203.2342892\ttotal: 8.15s\tremaining: 24.4s\n",
      "250:\tlearn: 1203.0064404\ttotal: 8.18s\tremaining: 24.4s\n",
      "251:\tlearn: 1202.5801176\ttotal: 8.23s\tremaining: 24.4s\n",
      "252:\tlearn: 1202.1427677\ttotal: 8.27s\tremaining: 24.4s\n",
      "253:\tlearn: 1201.7549423\ttotal: 8.3s\tremaining: 24.4s\n",
      "254:\tlearn: 1201.4062365\ttotal: 8.33s\tremaining: 24.3s\n",
      "255:\tlearn: 1200.9609249\ttotal: 8.36s\tremaining: 24.3s\n",
      "256:\tlearn: 1200.4802436\ttotal: 8.39s\tremaining: 24.3s\n",
      "257:\tlearn: 1200.0509324\ttotal: 8.43s\tremaining: 24.3s\n",
      "258:\tlearn: 1199.7094142\ttotal: 8.47s\tremaining: 24.2s\n",
      "259:\tlearn: 1199.5127105\ttotal: 8.51s\tremaining: 24.2s\n",
      "260:\tlearn: 1198.9889902\ttotal: 8.54s\tremaining: 24.2s\n",
      "261:\tlearn: 1198.4536648\ttotal: 8.56s\tremaining: 24.1s\n",
      "262:\tlearn: 1198.1578242\ttotal: 8.6s\tremaining: 24.1s\n",
      "263:\tlearn: 1197.8503471\ttotal: 8.63s\tremaining: 24.1s\n",
      "264:\tlearn: 1197.4953416\ttotal: 8.66s\tremaining: 24s\n",
      "265:\tlearn: 1196.9934093\ttotal: 8.7s\tremaining: 24s\n",
      "266:\tlearn: 1196.6992453\ttotal: 8.73s\tremaining: 24s\n",
      "267:\tlearn: 1196.3015779\ttotal: 8.75s\tremaining: 23.9s\n",
      "268:\tlearn: 1195.6909576\ttotal: 8.79s\tremaining: 23.9s\n",
      "269:\tlearn: 1195.3278361\ttotal: 8.82s\tremaining: 23.8s\n",
      "270:\tlearn: 1195.0838205\ttotal: 8.85s\tremaining: 23.8s\n",
      "271:\tlearn: 1194.6744218\ttotal: 8.88s\tremaining: 23.8s\n",
      "272:\tlearn: 1194.3578725\ttotal: 8.91s\tremaining: 23.7s\n",
      "273:\tlearn: 1193.7770380\ttotal: 8.94s\tremaining: 23.7s\n",
      "274:\tlearn: 1193.4893103\ttotal: 8.96s\tremaining: 23.6s\n",
      "275:\tlearn: 1193.1254961\ttotal: 9s\tremaining: 23.6s\n",
      "276:\tlearn: 1192.9683238\ttotal: 9.03s\tremaining: 23.6s\n",
      "277:\tlearn: 1192.6427465\ttotal: 9.05s\tremaining: 23.5s\n",
      "278:\tlearn: 1192.3639497\ttotal: 9.09s\tremaining: 23.5s\n",
      "279:\tlearn: 1192.0728655\ttotal: 9.13s\tremaining: 23.5s\n",
      "280:\tlearn: 1191.8307495\ttotal: 9.16s\tremaining: 23.4s\n",
      "281:\tlearn: 1191.5254820\ttotal: 9.19s\tremaining: 23.4s\n",
      "282:\tlearn: 1191.1570754\ttotal: 9.22s\tremaining: 23.4s\n",
      "283:\tlearn: 1190.8539600\ttotal: 9.25s\tremaining: 23.3s\n",
      "284:\tlearn: 1190.5422486\ttotal: 9.3s\tremaining: 23.3s\n",
      "285:\tlearn: 1190.2825757\ttotal: 9.33s\tremaining: 23.3s\n",
      "286:\tlearn: 1190.0290152\ttotal: 9.36s\tremaining: 23.3s\n",
      "287:\tlearn: 1189.7756108\ttotal: 9.4s\tremaining: 23.2s\n",
      "288:\tlearn: 1189.2079286\ttotal: 9.43s\tremaining: 23.2s\n",
      "289:\tlearn: 1188.8176100\ttotal: 9.47s\tremaining: 23.2s\n",
      "290:\tlearn: 1188.4865764\ttotal: 9.5s\tremaining: 23.1s\n",
      "291:\tlearn: 1188.2839614\ttotal: 9.53s\tremaining: 23.1s\n",
      "292:\tlearn: 1187.8804836\ttotal: 9.56s\tremaining: 23.1s\n",
      "293:\tlearn: 1187.6202471\ttotal: 9.59s\tremaining: 23s\n",
      "294:\tlearn: 1187.1588771\ttotal: 9.62s\tremaining: 23s\n",
      "295:\tlearn: 1186.6087085\ttotal: 9.65s\tremaining: 22.9s\n",
      "296:\tlearn: 1186.3091796\ttotal: 9.69s\tremaining: 22.9s\n",
      "297:\tlearn: 1185.8777114\ttotal: 9.71s\tremaining: 22.9s\n",
      "298:\tlearn: 1185.6426473\ttotal: 9.74s\tremaining: 22.8s\n",
      "299:\tlearn: 1185.3682792\ttotal: 9.78s\tremaining: 22.8s\n",
      "300:\tlearn: 1184.9747236\ttotal: 9.81s\tremaining: 22.8s\n",
      "301:\tlearn: 1184.6807340\ttotal: 9.84s\tremaining: 22.7s\n",
      "302:\tlearn: 1184.3753778\ttotal: 9.88s\tremaining: 22.7s\n",
      "303:\tlearn: 1184.2402605\ttotal: 9.91s\tremaining: 22.7s\n",
      "304:\tlearn: 1183.7648742\ttotal: 9.93s\tremaining: 22.6s\n",
      "305:\tlearn: 1183.5512850\ttotal: 9.97s\tremaining: 22.6s\n",
      "306:\tlearn: 1183.2276688\ttotal: 10s\tremaining: 22.6s\n",
      "307:\tlearn: 1182.8213008\ttotal: 10s\tremaining: 22.5s\n",
      "308:\tlearn: 1182.2894742\ttotal: 10.1s\tremaining: 22.5s\n",
      "309:\tlearn: 1182.0535045\ttotal: 10.1s\tremaining: 22.5s\n",
      "310:\tlearn: 1181.6976993\ttotal: 10.1s\tremaining: 22.4s\n",
      "311:\tlearn: 1181.4612355\ttotal: 10.2s\tremaining: 22.4s\n",
      "312:\tlearn: 1181.2703000\ttotal: 10.2s\tremaining: 22.4s\n",
      "313:\tlearn: 1180.7900401\ttotal: 10.2s\tremaining: 22.4s\n",
      "314:\tlearn: 1180.3861183\ttotal: 10.3s\tremaining: 22.3s\n",
      "315:\tlearn: 1179.9534228\ttotal: 10.3s\tremaining: 22.3s\n",
      "316:\tlearn: 1179.3399990\ttotal: 10.3s\tremaining: 22.3s\n",
      "317:\tlearn: 1179.1765430\ttotal: 10.4s\tremaining: 22.3s\n",
      "318:\tlearn: 1178.8042425\ttotal: 10.4s\tremaining: 22.2s\n",
      "319:\tlearn: 1178.3163362\ttotal: 10.4s\tremaining: 22.2s\n",
      "320:\tlearn: 1178.1120162\ttotal: 10.5s\tremaining: 22.2s\n",
      "321:\tlearn: 1177.6510718\ttotal: 10.5s\tremaining: 22.1s\n",
      "322:\tlearn: 1177.3547772\ttotal: 10.5s\tremaining: 22.1s\n",
      "323:\tlearn: 1177.0519884\ttotal: 10.6s\tremaining: 22.1s\n",
      "324:\tlearn: 1176.6075757\ttotal: 10.6s\tremaining: 22s\n",
      "325:\tlearn: 1176.3688765\ttotal: 10.6s\tremaining: 22s\n",
      "326:\tlearn: 1175.9261647\ttotal: 10.7s\tremaining: 21.9s\n",
      "327:\tlearn: 1175.6488142\ttotal: 10.7s\tremaining: 21.9s\n",
      "328:\tlearn: 1175.4606913\ttotal: 10.7s\tremaining: 21.9s\n",
      "329:\tlearn: 1175.2957394\ttotal: 10.8s\tremaining: 21.8s\n",
      "330:\tlearn: 1175.0494807\ttotal: 10.8s\tremaining: 21.8s\n",
      "331:\tlearn: 1174.6483968\ttotal: 10.8s\tremaining: 21.8s\n",
      "332:\tlearn: 1174.4413630\ttotal: 10.9s\tremaining: 21.7s\n",
      "333:\tlearn: 1174.2401520\ttotal: 10.9s\tremaining: 21.7s\n",
      "334:\tlearn: 1173.7128072\ttotal: 10.9s\tremaining: 21.7s\n",
      "335:\tlearn: 1173.4253749\ttotal: 11s\tremaining: 21.7s\n",
      "336:\tlearn: 1173.2416686\ttotal: 11s\tremaining: 21.7s\n",
      "337:\tlearn: 1172.9923667\ttotal: 11.1s\tremaining: 21.7s\n",
      "338:\tlearn: 1172.6855733\ttotal: 11.1s\tremaining: 21.6s\n",
      "339:\tlearn: 1172.3922693\ttotal: 11.1s\tremaining: 21.6s\n",
      "340:\tlearn: 1172.2150275\ttotal: 11.2s\tremaining: 21.6s\n",
      "341:\tlearn: 1171.9275331\ttotal: 11.2s\tremaining: 21.5s\n",
      "342:\tlearn: 1171.6192938\ttotal: 11.2s\tremaining: 21.5s\n",
      "343:\tlearn: 1171.4505305\ttotal: 11.3s\tremaining: 21.5s\n",
      "344:\tlearn: 1171.0324120\ttotal: 11.3s\tremaining: 21.4s\n",
      "345:\tlearn: 1170.6596363\ttotal: 11.3s\tremaining: 21.4s\n",
      "346:\tlearn: 1170.4654082\ttotal: 11.4s\tremaining: 21.4s\n",
      "347:\tlearn: 1170.2667597\ttotal: 11.4s\tremaining: 21.3s\n",
      "348:\tlearn: 1169.8284186\ttotal: 11.4s\tremaining: 21.3s\n",
      "349:\tlearn: 1169.5932950\ttotal: 11.5s\tremaining: 21.3s\n",
      "350:\tlearn: 1169.2442126\ttotal: 11.5s\tremaining: 21.2s\n",
      "351:\tlearn: 1168.8836988\ttotal: 11.5s\tremaining: 21.2s\n",
      "352:\tlearn: 1168.6500746\ttotal: 11.5s\tremaining: 21.2s\n",
      "353:\tlearn: 1168.4423574\ttotal: 11.6s\tremaining: 21.1s\n",
      "354:\tlearn: 1168.2188981\ttotal: 11.6s\tremaining: 21.1s\n",
      "355:\tlearn: 1168.1111902\ttotal: 11.6s\tremaining: 21.1s\n",
      "356:\tlearn: 1167.9966769\ttotal: 11.7s\tremaining: 21s\n",
      "357:\tlearn: 1167.7893402\ttotal: 11.7s\tremaining: 21s\n",
      "358:\tlearn: 1167.4384241\ttotal: 11.7s\tremaining: 20.9s\n",
      "359:\tlearn: 1166.9775609\ttotal: 11.8s\tremaining: 20.9s\n",
      "360:\tlearn: 1166.7210082\ttotal: 11.8s\tremaining: 20.9s\n",
      "361:\tlearn: 1166.3892541\ttotal: 11.8s\tremaining: 20.8s\n",
      "362:\tlearn: 1166.2547538\ttotal: 11.9s\tremaining: 20.8s\n",
      "363:\tlearn: 1166.0270353\ttotal: 11.9s\tremaining: 20.8s\n",
      "364:\tlearn: 1165.6973393\ttotal: 11.9s\tremaining: 20.7s\n",
      "365:\tlearn: 1165.4573804\ttotal: 11.9s\tremaining: 20.7s\n",
      "366:\tlearn: 1165.2611907\ttotal: 12s\tremaining: 20.6s\n",
      "367:\tlearn: 1165.0129653\ttotal: 12s\tremaining: 20.6s\n",
      "368:\tlearn: 1164.8817577\ttotal: 12s\tremaining: 20.6s\n",
      "369:\tlearn: 1164.6321697\ttotal: 12.1s\tremaining: 20.5s\n",
      "370:\tlearn: 1164.4594801\ttotal: 12.1s\tremaining: 20.5s\n",
      "371:\tlearn: 1164.1155298\ttotal: 12.1s\tremaining: 20.5s\n",
      "372:\tlearn: 1164.0078181\ttotal: 12.2s\tremaining: 20.4s\n",
      "373:\tlearn: 1163.6680520\ttotal: 12.2s\tremaining: 20.4s\n",
      "374:\tlearn: 1163.4007438\ttotal: 12.2s\tremaining: 20.4s\n",
      "375:\tlearn: 1163.2179037\ttotal: 12.2s\tremaining: 20.3s\n",
      "376:\tlearn: 1162.9735827\ttotal: 12.3s\tremaining: 20.3s\n",
      "377:\tlearn: 1162.6731321\ttotal: 12.3s\tremaining: 20.3s\n",
      "378:\tlearn: 1162.2984078\ttotal: 12.3s\tremaining: 20.2s\n",
      "379:\tlearn: 1162.0508786\ttotal: 12.4s\tremaining: 20.2s\n",
      "380:\tlearn: 1161.8182690\ttotal: 12.4s\tremaining: 20.2s\n",
      "381:\tlearn: 1161.6709153\ttotal: 12.4s\tremaining: 20.1s\n",
      "382:\tlearn: 1161.4743501\ttotal: 12.5s\tremaining: 20.1s\n",
      "383:\tlearn: 1161.2965288\ttotal: 12.5s\tremaining: 20.1s\n",
      "384:\tlearn: 1161.0642069\ttotal: 12.5s\tremaining: 20s\n",
      "385:\tlearn: 1160.5650903\ttotal: 12.6s\tremaining: 20s\n",
      "386:\tlearn: 1160.2981773\ttotal: 12.6s\tremaining: 20s\n",
      "387:\tlearn: 1160.0731446\ttotal: 12.6s\tremaining: 19.9s\n",
      "388:\tlearn: 1159.8140190\ttotal: 12.7s\tremaining: 19.9s\n",
      "389:\tlearn: 1159.7010981\ttotal: 12.7s\tremaining: 19.8s\n",
      "390:\tlearn: 1159.5125531\ttotal: 12.7s\tremaining: 19.8s\n",
      "391:\tlearn: 1159.4049430\ttotal: 12.7s\tremaining: 19.8s\n",
      "392:\tlearn: 1159.2152976\ttotal: 12.8s\tremaining: 19.7s\n",
      "393:\tlearn: 1158.8786062\ttotal: 12.8s\tremaining: 19.7s\n",
      "394:\tlearn: 1158.7335188\ttotal: 12.8s\tremaining: 19.7s\n",
      "395:\tlearn: 1158.5326062\ttotal: 12.9s\tremaining: 19.6s\n",
      "396:\tlearn: 1158.2933211\ttotal: 12.9s\tremaining: 19.6s\n",
      "397:\tlearn: 1158.1649464\ttotal: 12.9s\tremaining: 19.6s\n",
      "398:\tlearn: 1157.9632534\ttotal: 13s\tremaining: 19.5s\n",
      "399:\tlearn: 1157.7310344\ttotal: 13s\tremaining: 19.5s\n",
      "400:\tlearn: 1157.1398498\ttotal: 13s\tremaining: 19.5s\n",
      "401:\tlearn: 1156.8822365\ttotal: 13.1s\tremaining: 19.4s\n",
      "402:\tlearn: 1156.2852160\ttotal: 13.1s\tremaining: 19.4s\n",
      "403:\tlearn: 1156.1391725\ttotal: 13.1s\tremaining: 19.3s\n",
      "404:\tlearn: 1155.8747981\ttotal: 13.1s\tremaining: 19.3s\n",
      "405:\tlearn: 1155.5729119\ttotal: 13.2s\tremaining: 19.3s\n",
      "406:\tlearn: 1155.1861793\ttotal: 13.2s\tremaining: 19.2s\n",
      "407:\tlearn: 1154.8314726\ttotal: 13.2s\tremaining: 19.2s\n",
      "408:\tlearn: 1154.5241432\ttotal: 13.3s\tremaining: 19.2s\n",
      "409:\tlearn: 1154.2467387\ttotal: 13.3s\tremaining: 19.1s\n",
      "410:\tlearn: 1153.9828874\ttotal: 13.3s\tremaining: 19.1s\n",
      "411:\tlearn: 1153.7309178\ttotal: 13.4s\tremaining: 19.1s\n",
      "412:\tlearn: 1153.4726681\ttotal: 13.4s\tremaining: 19s\n",
      "413:\tlearn: 1153.3170914\ttotal: 13.4s\tremaining: 19s\n",
      "414:\tlearn: 1153.0743971\ttotal: 13.5s\tremaining: 19s\n",
      "415:\tlearn: 1152.7709328\ttotal: 13.5s\tremaining: 18.9s\n",
      "416:\tlearn: 1152.5002626\ttotal: 13.5s\tremaining: 18.9s\n",
      "417:\tlearn: 1152.3303597\ttotal: 13.6s\tremaining: 18.9s\n",
      "418:\tlearn: 1152.1660411\ttotal: 13.6s\tremaining: 18.8s\n",
      "419:\tlearn: 1151.8092893\ttotal: 13.6s\tremaining: 18.8s\n",
      "420:\tlearn: 1151.3762852\ttotal: 13.7s\tremaining: 18.8s\n",
      "421:\tlearn: 1151.0755786\ttotal: 13.7s\tremaining: 18.7s\n",
      "422:\tlearn: 1150.8877034\ttotal: 13.7s\tremaining: 18.7s\n",
      "423:\tlearn: 1150.5749564\ttotal: 13.7s\tremaining: 18.7s\n",
      "424:\tlearn: 1150.4033260\ttotal: 13.8s\tremaining: 18.6s\n",
      "425:\tlearn: 1150.1210730\ttotal: 13.8s\tremaining: 18.6s\n",
      "426:\tlearn: 1149.9514087\ttotal: 13.8s\tremaining: 18.6s\n",
      "427:\tlearn: 1149.7579218\ttotal: 13.9s\tremaining: 18.5s\n",
      "428:\tlearn: 1149.6154765\ttotal: 13.9s\tremaining: 18.5s\n",
      "429:\tlearn: 1149.4651549\ttotal: 13.9s\tremaining: 18.5s\n",
      "430:\tlearn: 1149.2434154\ttotal: 14s\tremaining: 18.4s\n",
      "431:\tlearn: 1148.8761239\ttotal: 14s\tremaining: 18.4s\n",
      "432:\tlearn: 1148.5942453\ttotal: 14s\tremaining: 18.4s\n",
      "433:\tlearn: 1148.1910466\ttotal: 14.1s\tremaining: 18.3s\n",
      "434:\tlearn: 1147.8898711\ttotal: 14.1s\tremaining: 18.3s\n",
      "435:\tlearn: 1147.6063349\ttotal: 14.1s\tremaining: 18.3s\n",
      "436:\tlearn: 1147.3986004\ttotal: 14.1s\tremaining: 18.2s\n",
      "437:\tlearn: 1147.2148563\ttotal: 14.2s\tremaining: 18.2s\n",
      "438:\tlearn: 1146.9903924\ttotal: 14.2s\tremaining: 18.2s\n",
      "439:\tlearn: 1146.9090275\ttotal: 14.2s\tremaining: 18.1s\n",
      "440:\tlearn: 1146.7546265\ttotal: 14.3s\tremaining: 18.1s\n",
      "441:\tlearn: 1146.3849466\ttotal: 14.3s\tremaining: 18s\n",
      "442:\tlearn: 1146.1961253\ttotal: 14.3s\tremaining: 18s\n",
      "443:\tlearn: 1145.9440180\ttotal: 14.4s\tremaining: 18s\n",
      "444:\tlearn: 1145.7333002\ttotal: 14.4s\tremaining: 17.9s\n",
      "445:\tlearn: 1145.5061879\ttotal: 14.4s\tremaining: 17.9s\n",
      "446:\tlearn: 1145.3944420\ttotal: 14.5s\tremaining: 17.9s\n",
      "447:\tlearn: 1145.1822428\ttotal: 14.5s\tremaining: 17.8s\n",
      "448:\tlearn: 1145.0672051\ttotal: 14.5s\tremaining: 17.8s\n",
      "449:\tlearn: 1144.9356028\ttotal: 14.5s\tremaining: 17.8s\n",
      "450:\tlearn: 1144.7881694\ttotal: 14.6s\tremaining: 17.7s\n",
      "451:\tlearn: 1144.6592148\ttotal: 14.6s\tremaining: 17.7s\n",
      "452:\tlearn: 1144.4885607\ttotal: 14.6s\tremaining: 17.7s\n",
      "453:\tlearn: 1144.2791625\ttotal: 14.7s\tremaining: 17.6s\n",
      "454:\tlearn: 1144.0097575\ttotal: 14.7s\tremaining: 17.6s\n",
      "455:\tlearn: 1143.7959817\ttotal: 14.7s\tremaining: 17.6s\n",
      "456:\tlearn: 1143.4186981\ttotal: 14.8s\tremaining: 17.5s\n",
      "457:\tlearn: 1143.2549503\ttotal: 14.8s\tremaining: 17.5s\n",
      "458:\tlearn: 1143.0647679\ttotal: 14.8s\tremaining: 17.5s\n",
      "459:\tlearn: 1142.7943414\ttotal: 14.9s\tremaining: 17.4s\n",
      "460:\tlearn: 1142.6265091\ttotal: 14.9s\tremaining: 17.4s\n",
      "461:\tlearn: 1142.4069148\ttotal: 14.9s\tremaining: 17.4s\n",
      "462:\tlearn: 1142.2239962\ttotal: 15s\tremaining: 17.3s\n",
      "463:\tlearn: 1142.1194000\ttotal: 15s\tremaining: 17.3s\n",
      "464:\tlearn: 1141.9007988\ttotal: 15s\tremaining: 17.3s\n",
      "465:\tlearn: 1141.7375056\ttotal: 15s\tremaining: 17.2s\n",
      "466:\tlearn: 1141.6270620\ttotal: 15.1s\tremaining: 17.2s\n",
      "467:\tlearn: 1141.2738261\ttotal: 15.1s\tremaining: 17.2s\n",
      "468:\tlearn: 1141.0101285\ttotal: 15.1s\tremaining: 17.1s\n",
      "469:\tlearn: 1140.7678832\ttotal: 15.2s\tremaining: 17.1s\n",
      "470:\tlearn: 1140.6187213\ttotal: 15.2s\tremaining: 17.1s\n",
      "471:\tlearn: 1140.4683825\ttotal: 15.2s\tremaining: 17s\n",
      "472:\tlearn: 1140.3450111\ttotal: 15.3s\tremaining: 17s\n",
      "473:\tlearn: 1140.0956965\ttotal: 15.3s\tremaining: 17s\n",
      "474:\tlearn: 1139.8200604\ttotal: 15.3s\tremaining: 16.9s\n",
      "475:\tlearn: 1139.5675996\ttotal: 15.4s\tremaining: 16.9s\n",
      "476:\tlearn: 1139.3584483\ttotal: 15.4s\tremaining: 16.9s\n",
      "477:\tlearn: 1139.2459017\ttotal: 15.4s\tremaining: 16.9s\n",
      "478:\tlearn: 1139.1736828\ttotal: 15.5s\tremaining: 16.8s\n",
      "479:\tlearn: 1138.8772946\ttotal: 15.5s\tremaining: 16.8s\n",
      "480:\tlearn: 1138.6913199\ttotal: 15.5s\tremaining: 16.7s\n",
      "481:\tlearn: 1138.4678800\ttotal: 15.6s\tremaining: 16.7s\n",
      "482:\tlearn: 1138.3074725\ttotal: 15.6s\tremaining: 16.7s\n",
      "483:\tlearn: 1138.1549210\ttotal: 15.6s\tremaining: 16.6s\n",
      "484:\tlearn: 1137.9997779\ttotal: 15.6s\tremaining: 16.6s\n",
      "485:\tlearn: 1137.7369578\ttotal: 15.7s\tremaining: 16.6s\n",
      "486:\tlearn: 1137.3802303\ttotal: 15.7s\tremaining: 16.5s\n",
      "487:\tlearn: 1137.1619876\ttotal: 15.7s\tremaining: 16.5s\n",
      "488:\tlearn: 1137.0095024\ttotal: 15.8s\tremaining: 16.5s\n",
      "489:\tlearn: 1136.8653355\ttotal: 15.8s\tremaining: 16.4s\n",
      "490:\tlearn: 1136.5706857\ttotal: 15.8s\tremaining: 16.4s\n",
      "491:\tlearn: 1136.3760483\ttotal: 15.9s\tremaining: 16.4s\n",
      "492:\tlearn: 1136.1869516\ttotal: 15.9s\tremaining: 16.3s\n",
      "493:\tlearn: 1135.9749868\ttotal: 15.9s\tremaining: 16.3s\n",
      "494:\tlearn: 1135.6996419\ttotal: 16s\tremaining: 16.3s\n",
      "495:\tlearn: 1135.4820289\ttotal: 16s\tremaining: 16.3s\n",
      "496:\tlearn: 1135.3663776\ttotal: 16s\tremaining: 16.2s\n",
      "497:\tlearn: 1135.1059400\ttotal: 16.1s\tremaining: 16.2s\n",
      "498:\tlearn: 1134.8783942\ttotal: 16.1s\tremaining: 16.2s\n",
      "499:\tlearn: 1134.5971086\ttotal: 16.1s\tremaining: 16.1s\n",
      "500:\tlearn: 1134.4380420\ttotal: 16.2s\tremaining: 16.1s\n",
      "501:\tlearn: 1134.3190847\ttotal: 16.2s\tremaining: 16.1s\n",
      "502:\tlearn: 1134.0648672\ttotal: 16.2s\tremaining: 16s\n",
      "503:\tlearn: 1133.9319591\ttotal: 16.3s\tremaining: 16s\n",
      "504:\tlearn: 1133.7733249\ttotal: 16.3s\tremaining: 16s\n",
      "505:\tlearn: 1133.5131452\ttotal: 16.3s\tremaining: 15.9s\n",
      "506:\tlearn: 1133.3689593\ttotal: 16.4s\tremaining: 15.9s\n",
      "507:\tlearn: 1133.2600505\ttotal: 16.4s\tremaining: 15.9s\n",
      "508:\tlearn: 1133.0392231\ttotal: 16.4s\tremaining: 15.8s\n",
      "509:\tlearn: 1132.8593319\ttotal: 16.4s\tremaining: 15.8s\n",
      "510:\tlearn: 1132.5742233\ttotal: 16.5s\tremaining: 15.8s\n",
      "511:\tlearn: 1132.3885300\ttotal: 16.5s\tremaining: 15.7s\n",
      "512:\tlearn: 1132.2096995\ttotal: 16.5s\tremaining: 15.7s\n",
      "513:\tlearn: 1132.0760362\ttotal: 16.6s\tremaining: 15.7s\n",
      "514:\tlearn: 1131.8170290\ttotal: 16.6s\tremaining: 15.6s\n",
      "515:\tlearn: 1131.5884146\ttotal: 16.6s\tremaining: 15.6s\n",
      "516:\tlearn: 1131.3459215\ttotal: 16.7s\tremaining: 15.6s\n",
      "517:\tlearn: 1131.1181766\ttotal: 16.7s\tremaining: 15.5s\n",
      "518:\tlearn: 1130.9390775\ttotal: 16.7s\tremaining: 15.5s\n",
      "519:\tlearn: 1130.8282565\ttotal: 16.8s\tremaining: 15.5s\n",
      "520:\tlearn: 1130.6773102\ttotal: 16.8s\tremaining: 15.4s\n",
      "521:\tlearn: 1130.3870447\ttotal: 16.8s\tremaining: 15.4s\n",
      "522:\tlearn: 1130.1664593\ttotal: 16.8s\tremaining: 15.4s\n",
      "523:\tlearn: 1130.0470785\ttotal: 16.9s\tremaining: 15.3s\n",
      "524:\tlearn: 1129.8365048\ttotal: 16.9s\tremaining: 15.3s\n",
      "525:\tlearn: 1129.6383787\ttotal: 16.9s\tremaining: 15.3s\n",
      "526:\tlearn: 1129.4708335\ttotal: 17s\tremaining: 15.2s\n",
      "527:\tlearn: 1129.3397376\ttotal: 17s\tremaining: 15.2s\n",
      "528:\tlearn: 1129.0147131\ttotal: 17s\tremaining: 15.2s\n",
      "529:\tlearn: 1128.8911217\ttotal: 17.1s\tremaining: 15.1s\n",
      "530:\tlearn: 1128.5813568\ttotal: 17.1s\tremaining: 15.1s\n",
      "531:\tlearn: 1128.3807747\ttotal: 17.1s\tremaining: 15.1s\n",
      "532:\tlearn: 1128.2404758\ttotal: 17.2s\tremaining: 15s\n",
      "533:\tlearn: 1128.1606803\ttotal: 17.2s\tremaining: 15s\n",
      "534:\tlearn: 1128.0693110\ttotal: 17.2s\tremaining: 15s\n",
      "535:\tlearn: 1127.7275593\ttotal: 17.3s\tremaining: 14.9s\n",
      "536:\tlearn: 1127.5347950\ttotal: 17.3s\tremaining: 14.9s\n",
      "537:\tlearn: 1127.4604464\ttotal: 17.3s\tremaining: 14.9s\n",
      "538:\tlearn: 1127.3404155\ttotal: 17.4s\tremaining: 14.8s\n",
      "539:\tlearn: 1127.2793013\ttotal: 17.4s\tremaining: 14.8s\n",
      "540:\tlearn: 1127.1986637\ttotal: 17.4s\tremaining: 14.8s\n",
      "541:\tlearn: 1127.0266460\ttotal: 17.5s\tremaining: 14.8s\n",
      "542:\tlearn: 1126.8320811\ttotal: 17.5s\tremaining: 14.7s\n",
      "543:\tlearn: 1126.6075935\ttotal: 17.5s\tremaining: 14.7s\n",
      "544:\tlearn: 1126.4733158\ttotal: 17.6s\tremaining: 14.7s\n",
      "545:\tlearn: 1126.2465096\ttotal: 17.6s\tremaining: 14.6s\n",
      "546:\tlearn: 1126.0632630\ttotal: 17.6s\tremaining: 14.6s\n",
      "547:\tlearn: 1125.6416485\ttotal: 17.7s\tremaining: 14.6s\n",
      "548:\tlearn: 1125.4889962\ttotal: 17.7s\tremaining: 14.5s\n",
      "549:\tlearn: 1125.3445760\ttotal: 17.7s\tremaining: 14.5s\n",
      "550:\tlearn: 1125.1024438\ttotal: 17.7s\tremaining: 14.5s\n",
      "551:\tlearn: 1124.9246510\ttotal: 17.8s\tremaining: 14.4s\n",
      "552:\tlearn: 1124.7035253\ttotal: 17.8s\tremaining: 14.4s\n",
      "553:\tlearn: 1124.5508823\ttotal: 17.9s\tremaining: 14.4s\n",
      "554:\tlearn: 1124.4311628\ttotal: 17.9s\tremaining: 14.4s\n",
      "555:\tlearn: 1124.2177298\ttotal: 17.9s\tremaining: 14.3s\n",
      "556:\tlearn: 1123.9442152\ttotal: 18s\tremaining: 14.3s\n",
      "557:\tlearn: 1123.7581309\ttotal: 18s\tremaining: 14.3s\n",
      "558:\tlearn: 1123.5812787\ttotal: 18s\tremaining: 14.2s\n",
      "559:\tlearn: 1123.3807094\ttotal: 18.1s\tremaining: 14.2s\n",
      "560:\tlearn: 1123.2562563\ttotal: 18.1s\tremaining: 14.2s\n",
      "561:\tlearn: 1123.0210060\ttotal: 18.1s\tremaining: 14.1s\n",
      "562:\tlearn: 1122.9629324\ttotal: 18.2s\tremaining: 14.1s\n",
      "563:\tlearn: 1122.7945934\ttotal: 18.2s\tremaining: 14.1s\n",
      "564:\tlearn: 1122.5503637\ttotal: 18.3s\tremaining: 14.1s\n",
      "565:\tlearn: 1122.3363593\ttotal: 18.3s\tremaining: 14s\n",
      "566:\tlearn: 1122.2265304\ttotal: 18.3s\tremaining: 14s\n",
      "567:\tlearn: 1121.8932531\ttotal: 18.4s\tremaining: 14s\n",
      "568:\tlearn: 1121.6127461\ttotal: 18.4s\tremaining: 13.9s\n",
      "569:\tlearn: 1121.4711438\ttotal: 18.4s\tremaining: 13.9s\n",
      "570:\tlearn: 1121.3574795\ttotal: 18.5s\tremaining: 13.9s\n",
      "571:\tlearn: 1121.2536804\ttotal: 18.5s\tremaining: 13.8s\n",
      "572:\tlearn: 1121.0596306\ttotal: 18.5s\tremaining: 13.8s\n",
      "573:\tlearn: 1120.8899123\ttotal: 18.6s\tremaining: 13.8s\n",
      "574:\tlearn: 1120.6954708\ttotal: 18.6s\tremaining: 13.7s\n",
      "575:\tlearn: 1120.5956579\ttotal: 18.6s\tremaining: 13.7s\n",
      "576:\tlearn: 1120.5060733\ttotal: 18.7s\tremaining: 13.7s\n",
      "577:\tlearn: 1120.2199590\ttotal: 18.7s\tremaining: 13.7s\n",
      "578:\tlearn: 1120.0060683\ttotal: 18.7s\tremaining: 13.6s\n",
      "579:\tlearn: 1119.8097588\ttotal: 18.8s\tremaining: 13.6s\n",
      "580:\tlearn: 1119.7561687\ttotal: 18.8s\tremaining: 13.6s\n",
      "581:\tlearn: 1119.6757178\ttotal: 18.8s\tremaining: 13.5s\n",
      "582:\tlearn: 1119.5439292\ttotal: 18.9s\tremaining: 13.5s\n",
      "583:\tlearn: 1119.3598942\ttotal: 18.9s\tremaining: 13.5s\n",
      "584:\tlearn: 1119.1865816\ttotal: 18.9s\tremaining: 13.4s\n",
      "585:\tlearn: 1119.0506566\ttotal: 19s\tremaining: 13.4s\n",
      "586:\tlearn: 1118.9299618\ttotal: 19s\tremaining: 13.4s\n",
      "587:\tlearn: 1118.7485729\ttotal: 19s\tremaining: 13.3s\n",
      "588:\tlearn: 1118.5678370\ttotal: 19.1s\tremaining: 13.3s\n",
      "589:\tlearn: 1118.3951867\ttotal: 19.1s\tremaining: 13.3s\n",
      "590:\tlearn: 1118.3156437\ttotal: 19.1s\tremaining: 13.2s\n",
      "591:\tlearn: 1118.1670510\ttotal: 19.2s\tremaining: 13.2s\n",
      "592:\tlearn: 1118.0469324\ttotal: 19.2s\tremaining: 13.2s\n",
      "593:\tlearn: 1117.9387426\ttotal: 19.2s\tremaining: 13.1s\n",
      "594:\tlearn: 1117.7741169\ttotal: 19.3s\tremaining: 13.1s\n",
      "595:\tlearn: 1117.3460726\ttotal: 19.3s\tremaining: 13.1s\n",
      "596:\tlearn: 1117.2494599\ttotal: 19.3s\tremaining: 13.1s\n",
      "597:\tlearn: 1117.1478051\ttotal: 19.4s\tremaining: 13s\n",
      "598:\tlearn: 1116.9922912\ttotal: 19.4s\tremaining: 13s\n",
      "599:\tlearn: 1116.8594558\ttotal: 19.4s\tremaining: 13s\n",
      "600:\tlearn: 1116.5927932\ttotal: 19.5s\tremaining: 12.9s\n",
      "601:\tlearn: 1116.3430219\ttotal: 19.5s\tremaining: 12.9s\n",
      "602:\tlearn: 1116.1397866\ttotal: 19.5s\tremaining: 12.9s\n",
      "603:\tlearn: 1115.7227746\ttotal: 19.6s\tremaining: 12.8s\n",
      "604:\tlearn: 1115.4994071\ttotal: 19.6s\tremaining: 12.8s\n",
      "605:\tlearn: 1115.3425024\ttotal: 19.6s\tremaining: 12.8s\n",
      "606:\tlearn: 1115.1466642\ttotal: 19.7s\tremaining: 12.7s\n",
      "607:\tlearn: 1114.9912481\ttotal: 19.7s\tremaining: 12.7s\n",
      "608:\tlearn: 1114.9037798\ttotal: 19.7s\tremaining: 12.7s\n",
      "609:\tlearn: 1114.7307399\ttotal: 19.8s\tremaining: 12.6s\n",
      "610:\tlearn: 1114.6129315\ttotal: 19.8s\tremaining: 12.6s\n",
      "611:\tlearn: 1114.4405118\ttotal: 19.8s\tremaining: 12.6s\n",
      "612:\tlearn: 1114.2401067\ttotal: 19.9s\tremaining: 12.6s\n",
      "613:\tlearn: 1114.0008652\ttotal: 19.9s\tremaining: 12.5s\n",
      "614:\tlearn: 1113.8371034\ttotal: 20s\tremaining: 12.5s\n",
      "615:\tlearn: 1113.5436764\ttotal: 20s\tremaining: 12.5s\n",
      "616:\tlearn: 1113.2723643\ttotal: 20s\tremaining: 12.4s\n",
      "617:\tlearn: 1113.0407695\ttotal: 20.1s\tremaining: 12.4s\n",
      "618:\tlearn: 1112.9595822\ttotal: 20.1s\tremaining: 12.4s\n",
      "619:\tlearn: 1112.8267911\ttotal: 20.1s\tremaining: 12.3s\n",
      "620:\tlearn: 1112.6534090\ttotal: 20.2s\tremaining: 12.3s\n",
      "621:\tlearn: 1112.5454132\ttotal: 20.2s\tremaining: 12.3s\n",
      "622:\tlearn: 1112.3396304\ttotal: 20.2s\tremaining: 12.2s\n",
      "623:\tlearn: 1112.1462159\ttotal: 20.3s\tremaining: 12.2s\n",
      "624:\tlearn: 1112.0720643\ttotal: 20.3s\tremaining: 12.2s\n",
      "625:\tlearn: 1111.9759982\ttotal: 20.3s\tremaining: 12.2s\n",
      "626:\tlearn: 1111.7958803\ttotal: 20.4s\tremaining: 12.1s\n",
      "627:\tlearn: 1111.7258495\ttotal: 20.4s\tremaining: 12.1s\n",
      "628:\tlearn: 1111.5991734\ttotal: 20.5s\tremaining: 12.1s\n",
      "629:\tlearn: 1111.3878005\ttotal: 20.5s\tremaining: 12s\n",
      "630:\tlearn: 1111.1964364\ttotal: 20.5s\tremaining: 12s\n",
      "631:\tlearn: 1111.1008312\ttotal: 20.6s\tremaining: 12s\n",
      "632:\tlearn: 1110.8363252\ttotal: 20.6s\tremaining: 11.9s\n",
      "633:\tlearn: 1110.5320096\ttotal: 20.7s\tremaining: 11.9s\n",
      "634:\tlearn: 1110.3858815\ttotal: 20.7s\tremaining: 11.9s\n",
      "635:\tlearn: 1110.3116460\ttotal: 20.7s\tremaining: 11.9s\n",
      "636:\tlearn: 1110.2564063\ttotal: 20.7s\tremaining: 11.8s\n",
      "637:\tlearn: 1110.2062791\ttotal: 20.8s\tremaining: 11.8s\n",
      "638:\tlearn: 1109.9050445\ttotal: 20.8s\tremaining: 11.8s\n",
      "639:\tlearn: 1109.5986654\ttotal: 20.8s\tremaining: 11.7s\n",
      "640:\tlearn: 1109.4701347\ttotal: 20.9s\tremaining: 11.7s\n",
      "641:\tlearn: 1109.3153406\ttotal: 20.9s\tremaining: 11.7s\n",
      "642:\tlearn: 1109.0272925\ttotal: 20.9s\tremaining: 11.6s\n",
      "643:\tlearn: 1108.8250749\ttotal: 21s\tremaining: 11.6s\n",
      "644:\tlearn: 1108.6963560\ttotal: 21s\tremaining: 11.6s\n",
      "645:\tlearn: 1108.4447208\ttotal: 21.1s\tremaining: 11.5s\n",
      "646:\tlearn: 1108.3842473\ttotal: 21.1s\tremaining: 11.5s\n",
      "647:\tlearn: 1108.3092438\ttotal: 21.1s\tremaining: 11.5s\n",
      "648:\tlearn: 1108.0817400\ttotal: 21.1s\tremaining: 11.4s\n",
      "649:\tlearn: 1107.7652930\ttotal: 21.2s\tremaining: 11.4s\n",
      "650:\tlearn: 1107.6010859\ttotal: 21.2s\tremaining: 11.4s\n",
      "651:\tlearn: 1107.3690668\ttotal: 21.2s\tremaining: 11.3s\n",
      "652:\tlearn: 1107.2104371\ttotal: 21.3s\tremaining: 11.3s\n",
      "653:\tlearn: 1107.0802897\ttotal: 21.3s\tremaining: 11.3s\n",
      "654:\tlearn: 1106.9494239\ttotal: 21.3s\tremaining: 11.2s\n",
      "655:\tlearn: 1106.8478817\ttotal: 21.4s\tremaining: 11.2s\n",
      "656:\tlearn: 1106.7030503\ttotal: 21.4s\tremaining: 11.2s\n",
      "657:\tlearn: 1106.5653958\ttotal: 21.4s\tremaining: 11.1s\n",
      "658:\tlearn: 1106.3287781\ttotal: 21.5s\tremaining: 11.1s\n",
      "659:\tlearn: 1106.0022122\ttotal: 21.5s\tremaining: 11.1s\n",
      "660:\tlearn: 1105.7510030\ttotal: 21.5s\tremaining: 11s\n",
      "661:\tlearn: 1105.5831480\ttotal: 21.6s\tremaining: 11s\n",
      "662:\tlearn: 1105.4435916\ttotal: 21.6s\tremaining: 11s\n",
      "663:\tlearn: 1105.3149983\ttotal: 21.6s\tremaining: 10.9s\n",
      "664:\tlearn: 1105.0965366\ttotal: 21.7s\tremaining: 10.9s\n",
      "665:\tlearn: 1104.9991222\ttotal: 21.7s\tremaining: 10.9s\n",
      "666:\tlearn: 1104.8476357\ttotal: 21.7s\tremaining: 10.8s\n",
      "667:\tlearn: 1104.7441302\ttotal: 21.8s\tremaining: 10.8s\n",
      "668:\tlearn: 1104.6328147\ttotal: 21.8s\tremaining: 10.8s\n",
      "669:\tlearn: 1104.4741017\ttotal: 21.8s\tremaining: 10.8s\n",
      "670:\tlearn: 1104.3488875\ttotal: 21.9s\tremaining: 10.7s\n",
      "671:\tlearn: 1104.2796179\ttotal: 21.9s\tremaining: 10.7s\n",
      "672:\tlearn: 1104.0346967\ttotal: 21.9s\tremaining: 10.7s\n",
      "673:\tlearn: 1103.7624930\ttotal: 22s\tremaining: 10.6s\n",
      "674:\tlearn: 1103.6216004\ttotal: 22s\tremaining: 10.6s\n",
      "675:\tlearn: 1103.5510574\ttotal: 22s\tremaining: 10.6s\n",
      "676:\tlearn: 1103.3769248\ttotal: 22.1s\tremaining: 10.5s\n",
      "677:\tlearn: 1103.1379990\ttotal: 22.1s\tremaining: 10.5s\n",
      "678:\tlearn: 1102.9660847\ttotal: 22.1s\tremaining: 10.5s\n",
      "679:\tlearn: 1102.7503850\ttotal: 22.2s\tremaining: 10.4s\n",
      "680:\tlearn: 1102.6771787\ttotal: 22.2s\tremaining: 10.4s\n",
      "681:\tlearn: 1102.5260295\ttotal: 22.2s\tremaining: 10.4s\n",
      "682:\tlearn: 1102.4266197\ttotal: 22.3s\tremaining: 10.3s\n",
      "683:\tlearn: 1102.3162927\ttotal: 22.3s\tremaining: 10.3s\n",
      "684:\tlearn: 1101.9967840\ttotal: 22.3s\tremaining: 10.3s\n",
      "685:\tlearn: 1101.8680343\ttotal: 22.4s\tremaining: 10.2s\n",
      "686:\tlearn: 1101.6987682\ttotal: 22.4s\tremaining: 10.2s\n",
      "687:\tlearn: 1101.5634590\ttotal: 22.4s\tremaining: 10.2s\n",
      "688:\tlearn: 1101.4838459\ttotal: 22.4s\tremaining: 10.1s\n",
      "689:\tlearn: 1101.3973842\ttotal: 22.5s\tremaining: 10.1s\n",
      "690:\tlearn: 1101.2404118\ttotal: 22.5s\tremaining: 10.1s\n",
      "691:\tlearn: 1100.9143745\ttotal: 22.5s\tremaining: 10s\n",
      "692:\tlearn: 1100.7746208\ttotal: 22.6s\tremaining: 10s\n",
      "693:\tlearn: 1100.6802586\ttotal: 22.6s\tremaining: 9.97s\n",
      "694:\tlearn: 1100.5208889\ttotal: 22.6s\tremaining: 9.93s\n",
      "695:\tlearn: 1100.3999852\ttotal: 22.7s\tremaining: 9.9s\n",
      "696:\tlearn: 1100.3075230\ttotal: 22.7s\tremaining: 9.87s\n",
      "697:\tlearn: 1099.9938837\ttotal: 22.7s\tremaining: 9.83s\n",
      "698:\tlearn: 1099.8075041\ttotal: 22.8s\tremaining: 9.8s\n",
      "699:\tlearn: 1099.7189692\ttotal: 22.8s\tremaining: 9.77s\n",
      "700:\tlearn: 1099.6558234\ttotal: 22.8s\tremaining: 9.73s\n",
      "701:\tlearn: 1099.5726425\ttotal: 22.8s\tremaining: 9.7s\n",
      "702:\tlearn: 1099.5048510\ttotal: 22.9s\tremaining: 9.67s\n",
      "703:\tlearn: 1099.4354635\ttotal: 22.9s\tremaining: 9.63s\n",
      "704:\tlearn: 1099.2675301\ttotal: 22.9s\tremaining: 9.6s\n",
      "705:\tlearn: 1099.1483026\ttotal: 23s\tremaining: 9.57s\n",
      "706:\tlearn: 1098.8659987\ttotal: 23s\tremaining: 9.53s\n",
      "707:\tlearn: 1098.7881546\ttotal: 23s\tremaining: 9.5s\n",
      "708:\tlearn: 1098.7061483\ttotal: 23.1s\tremaining: 9.47s\n",
      "709:\tlearn: 1098.6520245\ttotal: 23.1s\tremaining: 9.44s\n",
      "710:\tlearn: 1098.5638007\ttotal: 23.1s\tremaining: 9.4s\n",
      "711:\tlearn: 1098.4687353\ttotal: 23.2s\tremaining: 9.37s\n",
      "712:\tlearn: 1098.3586978\ttotal: 23.2s\tremaining: 9.34s\n",
      "713:\tlearn: 1098.2066122\ttotal: 23.2s\tremaining: 9.3s\n",
      "714:\tlearn: 1098.0635580\ttotal: 23.3s\tremaining: 9.27s\n",
      "715:\tlearn: 1097.8421759\ttotal: 23.3s\tremaining: 9.24s\n",
      "716:\tlearn: 1097.6993423\ttotal: 23.3s\tremaining: 9.2s\n",
      "717:\tlearn: 1097.5935654\ttotal: 23.4s\tremaining: 9.18s\n",
      "718:\tlearn: 1097.4412737\ttotal: 23.4s\tremaining: 9.14s\n",
      "719:\tlearn: 1097.2460460\ttotal: 23.4s\tremaining: 9.11s\n",
      "720:\tlearn: 1097.0849711\ttotal: 23.5s\tremaining: 9.08s\n",
      "721:\tlearn: 1096.9547622\ttotal: 23.5s\tremaining: 9.04s\n",
      "722:\tlearn: 1096.8216467\ttotal: 23.5s\tremaining: 9.01s\n",
      "723:\tlearn: 1096.7113931\ttotal: 23.6s\tremaining: 8.98s\n",
      "724:\tlearn: 1096.5968199\ttotal: 23.6s\tremaining: 8.94s\n",
      "725:\tlearn: 1096.4926453\ttotal: 23.6s\tremaining: 8.91s\n",
      "726:\tlearn: 1096.4231263\ttotal: 23.6s\tremaining: 8.88s\n",
      "727:\tlearn: 1096.2393112\ttotal: 23.7s\tremaining: 8.85s\n",
      "728:\tlearn: 1096.1243771\ttotal: 23.7s\tremaining: 8.81s\n",
      "729:\tlearn: 1095.9614946\ttotal: 23.7s\tremaining: 8.78s\n",
      "730:\tlearn: 1095.8871393\ttotal: 23.8s\tremaining: 8.75s\n",
      "731:\tlearn: 1095.7951026\ttotal: 23.8s\tremaining: 8.71s\n",
      "732:\tlearn: 1095.6370975\ttotal: 23.8s\tremaining: 8.68s\n",
      "733:\tlearn: 1095.5714786\ttotal: 23.9s\tremaining: 8.65s\n",
      "734:\tlearn: 1095.4101719\ttotal: 23.9s\tremaining: 8.62s\n",
      "735:\tlearn: 1095.2510878\ttotal: 23.9s\tremaining: 8.59s\n",
      "736:\tlearn: 1095.1593357\ttotal: 24s\tremaining: 8.55s\n",
      "737:\tlearn: 1094.9480574\ttotal: 24s\tremaining: 8.52s\n",
      "738:\tlearn: 1094.8230700\ttotal: 24s\tremaining: 8.49s\n",
      "739:\tlearn: 1094.6993997\ttotal: 24.1s\tremaining: 8.46s\n",
      "740:\tlearn: 1094.5471450\ttotal: 24.1s\tremaining: 8.42s\n",
      "741:\tlearn: 1094.3800615\ttotal: 24.1s\tremaining: 8.39s\n",
      "742:\tlearn: 1094.2303593\ttotal: 24.2s\tremaining: 8.36s\n",
      "743:\tlearn: 1094.1172865\ttotal: 24.2s\tremaining: 8.32s\n",
      "744:\tlearn: 1093.9725610\ttotal: 24.2s\tremaining: 8.3s\n",
      "745:\tlearn: 1093.8184556\ttotal: 24.3s\tremaining: 8.26s\n",
      "746:\tlearn: 1093.7102734\ttotal: 24.3s\tremaining: 8.23s\n",
      "747:\tlearn: 1093.6227056\ttotal: 24.3s\tremaining: 8.2s\n",
      "748:\tlearn: 1093.4848564\ttotal: 24.4s\tremaining: 8.16s\n",
      "749:\tlearn: 1093.3714743\ttotal: 24.4s\tremaining: 8.13s\n",
      "750:\tlearn: 1093.2273336\ttotal: 24.4s\tremaining: 8.1s\n",
      "751:\tlearn: 1093.0030384\ttotal: 24.5s\tremaining: 8.07s\n",
      "752:\tlearn: 1092.8152093\ttotal: 24.5s\tremaining: 8.04s\n",
      "753:\tlearn: 1092.7028034\ttotal: 24.5s\tremaining: 8.01s\n",
      "754:\tlearn: 1092.6176122\ttotal: 24.6s\tremaining: 7.97s\n",
      "755:\tlearn: 1092.4681027\ttotal: 24.6s\tremaining: 7.94s\n",
      "756:\tlearn: 1092.4109861\ttotal: 24.6s\tremaining: 7.91s\n",
      "757:\tlearn: 1092.3120436\ttotal: 24.7s\tremaining: 7.87s\n",
      "758:\tlearn: 1092.1783369\ttotal: 24.7s\tremaining: 7.84s\n",
      "759:\tlearn: 1092.0607685\ttotal: 24.7s\tremaining: 7.81s\n",
      "760:\tlearn: 1091.8262095\ttotal: 24.8s\tremaining: 7.78s\n",
      "761:\tlearn: 1091.7591387\ttotal: 24.8s\tremaining: 7.75s\n",
      "762:\tlearn: 1091.6275366\ttotal: 24.8s\tremaining: 7.71s\n",
      "763:\tlearn: 1091.4745616\ttotal: 24.9s\tremaining: 7.68s\n",
      "764:\tlearn: 1091.3595935\ttotal: 24.9s\tremaining: 7.65s\n",
      "765:\tlearn: 1091.2605951\ttotal: 24.9s\tremaining: 7.61s\n",
      "766:\tlearn: 1091.1770916\ttotal: 25s\tremaining: 7.58s\n",
      "767:\tlearn: 1091.0747874\ttotal: 25s\tremaining: 7.54s\n",
      "768:\tlearn: 1090.9734944\ttotal: 25s\tremaining: 7.52s\n",
      "769:\tlearn: 1090.8472051\ttotal: 25s\tremaining: 7.48s\n",
      "770:\tlearn: 1090.5739232\ttotal: 25.1s\tremaining: 7.45s\n",
      "771:\tlearn: 1090.4842525\ttotal: 25.1s\tremaining: 7.42s\n",
      "772:\tlearn: 1090.3368817\ttotal: 25.1s\tremaining: 7.38s\n",
      "773:\tlearn: 1090.1780852\ttotal: 25.2s\tremaining: 7.35s\n",
      "774:\tlearn: 1089.9845844\ttotal: 25.2s\tremaining: 7.32s\n",
      "775:\tlearn: 1089.7741853\ttotal: 25.2s\tremaining: 7.29s\n",
      "776:\tlearn: 1089.6126929\ttotal: 25.3s\tremaining: 7.25s\n",
      "777:\tlearn: 1089.5628956\ttotal: 25.3s\tremaining: 7.22s\n",
      "778:\tlearn: 1089.4050611\ttotal: 25.3s\tremaining: 7.19s\n",
      "779:\tlearn: 1089.3405640\ttotal: 25.4s\tremaining: 7.16s\n",
      "780:\tlearn: 1089.2226165\ttotal: 25.4s\tremaining: 7.12s\n",
      "781:\tlearn: 1089.0666672\ttotal: 25.4s\tremaining: 7.09s\n",
      "782:\tlearn: 1088.9628707\ttotal: 25.5s\tremaining: 7.06s\n",
      "783:\tlearn: 1088.8110349\ttotal: 25.5s\tremaining: 7.03s\n",
      "784:\tlearn: 1088.6171709\ttotal: 25.5s\tremaining: 6.99s\n",
      "785:\tlearn: 1088.4102346\ttotal: 25.6s\tremaining: 6.96s\n",
      "786:\tlearn: 1088.1574088\ttotal: 25.6s\tremaining: 6.93s\n",
      "787:\tlearn: 1088.0292915\ttotal: 25.6s\tremaining: 6.89s\n",
      "788:\tlearn: 1087.9191570\ttotal: 25.7s\tremaining: 6.86s\n",
      "789:\tlearn: 1087.8494290\ttotal: 25.7s\tremaining: 6.83s\n",
      "790:\tlearn: 1087.7856680\ttotal: 25.7s\tremaining: 6.79s\n",
      "791:\tlearn: 1087.7142735\ttotal: 25.7s\tremaining: 6.76s\n",
      "792:\tlearn: 1087.4581540\ttotal: 25.8s\tremaining: 6.73s\n",
      "793:\tlearn: 1087.2810084\ttotal: 25.8s\tremaining: 6.7s\n",
      "794:\tlearn: 1087.2093065\ttotal: 25.8s\tremaining: 6.66s\n",
      "795:\tlearn: 1086.9366703\ttotal: 25.9s\tremaining: 6.63s\n",
      "796:\tlearn: 1086.7468970\ttotal: 25.9s\tremaining: 6.6s\n",
      "797:\tlearn: 1086.5542705\ttotal: 25.9s\tremaining: 6.56s\n",
      "798:\tlearn: 1086.4477176\ttotal: 26s\tremaining: 6.53s\n",
      "799:\tlearn: 1086.3879385\ttotal: 26s\tremaining: 6.5s\n",
      "800:\tlearn: 1086.3565707\ttotal: 26s\tremaining: 6.46s\n",
      "801:\tlearn: 1086.2700674\ttotal: 26s\tremaining: 6.43s\n",
      "802:\tlearn: 1086.1220490\ttotal: 26.1s\tremaining: 6.4s\n",
      "803:\tlearn: 1086.0565245\ttotal: 26.1s\tremaining: 6.37s\n",
      "804:\tlearn: 1085.9971177\ttotal: 26.1s\tremaining: 6.33s\n",
      "805:\tlearn: 1085.9000262\ttotal: 26.2s\tremaining: 6.3s\n",
      "806:\tlearn: 1085.7681501\ttotal: 26.2s\tremaining: 6.27s\n",
      "807:\tlearn: 1085.6489624\ttotal: 26.2s\tremaining: 6.23s\n",
      "808:\tlearn: 1085.5243960\ttotal: 26.3s\tremaining: 6.2s\n",
      "809:\tlearn: 1085.4069432\ttotal: 26.3s\tremaining: 6.17s\n",
      "810:\tlearn: 1085.2972614\ttotal: 26.3s\tremaining: 6.14s\n",
      "811:\tlearn: 1085.1660115\ttotal: 26.4s\tremaining: 6.11s\n",
      "812:\tlearn: 1085.0245896\ttotal: 26.4s\tremaining: 6.07s\n",
      "813:\tlearn: 1084.9044910\ttotal: 26.4s\tremaining: 6.04s\n",
      "814:\tlearn: 1084.6640399\ttotal: 26.5s\tremaining: 6.01s\n",
      "815:\tlearn: 1084.5447504\ttotal: 26.5s\tremaining: 5.98s\n",
      "816:\tlearn: 1084.4408282\ttotal: 26.6s\tremaining: 5.95s\n",
      "817:\tlearn: 1084.2976095\ttotal: 26.6s\tremaining: 5.91s\n",
      "818:\tlearn: 1084.1389051\ttotal: 26.6s\tremaining: 5.88s\n",
      "819:\tlearn: 1084.0528617\ttotal: 26.6s\tremaining: 5.85s\n",
      "820:\tlearn: 1083.9642168\ttotal: 26.7s\tremaining: 5.82s\n",
      "821:\tlearn: 1083.8632623\ttotal: 26.7s\tremaining: 5.78s\n",
      "822:\tlearn: 1083.7431525\ttotal: 26.7s\tremaining: 5.75s\n",
      "823:\tlearn: 1083.5735998\ttotal: 26.8s\tremaining: 5.72s\n",
      "824:\tlearn: 1083.4560535\ttotal: 26.8s\tremaining: 5.68s\n",
      "825:\tlearn: 1083.3499043\ttotal: 26.8s\tremaining: 5.65s\n",
      "826:\tlearn: 1083.2132806\ttotal: 26.9s\tremaining: 5.62s\n",
      "827:\tlearn: 1083.1618551\ttotal: 26.9s\tremaining: 5.59s\n",
      "828:\tlearn: 1083.0113771\ttotal: 26.9s\tremaining: 5.55s\n",
      "829:\tlearn: 1082.8481030\ttotal: 27s\tremaining: 5.52s\n",
      "830:\tlearn: 1082.7449233\ttotal: 27s\tremaining: 5.49s\n",
      "831:\tlearn: 1082.6365056\ttotal: 27s\tremaining: 5.46s\n",
      "832:\tlearn: 1082.5471404\ttotal: 27.1s\tremaining: 5.42s\n",
      "833:\tlearn: 1082.3669258\ttotal: 27.1s\tremaining: 5.39s\n",
      "834:\tlearn: 1082.3203917\ttotal: 27.1s\tremaining: 5.36s\n",
      "835:\tlearn: 1082.2421263\ttotal: 27.1s\tremaining: 5.33s\n",
      "836:\tlearn: 1082.1648987\ttotal: 27.2s\tremaining: 5.29s\n",
      "837:\tlearn: 1081.9748243\ttotal: 27.2s\tremaining: 5.26s\n",
      "838:\tlearn: 1081.8624504\ttotal: 27.2s\tremaining: 5.23s\n",
      "839:\tlearn: 1081.6852325\ttotal: 27.3s\tremaining: 5.19s\n",
      "840:\tlearn: 1081.5969027\ttotal: 27.3s\tremaining: 5.16s\n",
      "841:\tlearn: 1081.4122461\ttotal: 27.3s\tremaining: 5.13s\n",
      "842:\tlearn: 1081.3345923\ttotal: 27.4s\tremaining: 5.1s\n",
      "843:\tlearn: 1081.1001094\ttotal: 27.4s\tremaining: 5.06s\n",
      "844:\tlearn: 1080.9849614\ttotal: 27.4s\tremaining: 5.03s\n",
      "845:\tlearn: 1080.9457591\ttotal: 27.5s\tremaining: 5s\n",
      "846:\tlearn: 1080.8267133\ttotal: 27.5s\tremaining: 4.96s\n",
      "847:\tlearn: 1080.7771347\ttotal: 27.5s\tremaining: 4.93s\n",
      "848:\tlearn: 1080.6883906\ttotal: 27.6s\tremaining: 4.9s\n",
      "849:\tlearn: 1080.6289749\ttotal: 27.6s\tremaining: 4.87s\n",
      "850:\tlearn: 1080.4750018\ttotal: 27.6s\tremaining: 4.84s\n",
      "851:\tlearn: 1080.3157019\ttotal: 27.7s\tremaining: 4.8s\n",
      "852:\tlearn: 1080.1815054\ttotal: 27.7s\tremaining: 4.77s\n",
      "853:\tlearn: 1080.0596888\ttotal: 27.7s\tremaining: 4.74s\n",
      "854:\tlearn: 1079.9484832\ttotal: 27.8s\tremaining: 4.71s\n",
      "855:\tlearn: 1079.7105309\ttotal: 27.8s\tremaining: 4.67s\n",
      "856:\tlearn: 1079.5838121\ttotal: 27.8s\tremaining: 4.64s\n",
      "857:\tlearn: 1079.2771004\ttotal: 27.8s\tremaining: 4.61s\n",
      "858:\tlearn: 1079.1622541\ttotal: 27.9s\tremaining: 4.58s\n",
      "859:\tlearn: 1079.0704617\ttotal: 27.9s\tremaining: 4.54s\n",
      "860:\tlearn: 1078.9835969\ttotal: 27.9s\tremaining: 4.51s\n",
      "861:\tlearn: 1078.9262843\ttotal: 28s\tremaining: 4.48s\n",
      "862:\tlearn: 1078.8615009\ttotal: 28s\tremaining: 4.45s\n",
      "863:\tlearn: 1078.7949786\ttotal: 28s\tremaining: 4.41s\n",
      "864:\tlearn: 1078.6010351\ttotal: 28.1s\tremaining: 4.38s\n",
      "865:\tlearn: 1078.4796391\ttotal: 28.1s\tremaining: 4.35s\n",
      "866:\tlearn: 1078.3943574\ttotal: 28.1s\tremaining: 4.31s\n",
      "867:\tlearn: 1078.3286546\ttotal: 28.2s\tremaining: 4.28s\n",
      "868:\tlearn: 1078.2409779\ttotal: 28.2s\tremaining: 4.25s\n",
      "869:\tlearn: 1078.1284532\ttotal: 28.2s\tremaining: 4.22s\n",
      "870:\tlearn: 1078.0133649\ttotal: 28.2s\tremaining: 4.18s\n",
      "871:\tlearn: 1077.9370979\ttotal: 28.3s\tremaining: 4.15s\n",
      "872:\tlearn: 1077.8535539\ttotal: 28.3s\tremaining: 4.12s\n",
      "873:\tlearn: 1077.7823780\ttotal: 28.3s\tremaining: 4.08s\n",
      "874:\tlearn: 1077.7410119\ttotal: 28.4s\tremaining: 4.05s\n",
      "875:\tlearn: 1077.5933687\ttotal: 28.4s\tremaining: 4.02s\n",
      "876:\tlearn: 1077.3031337\ttotal: 28.4s\tremaining: 3.99s\n",
      "877:\tlearn: 1077.1924319\ttotal: 28.5s\tremaining: 3.95s\n",
      "878:\tlearn: 1077.0653274\ttotal: 28.5s\tremaining: 3.92s\n",
      "879:\tlearn: 1076.9501127\ttotal: 28.5s\tremaining: 3.89s\n",
      "880:\tlearn: 1076.8009384\ttotal: 28.6s\tremaining: 3.86s\n",
      "881:\tlearn: 1076.7435964\ttotal: 28.6s\tremaining: 3.82s\n",
      "882:\tlearn: 1076.6665690\ttotal: 28.6s\tremaining: 3.79s\n",
      "883:\tlearn: 1076.3622778\ttotal: 28.6s\tremaining: 3.76s\n",
      "884:\tlearn: 1076.2248667\ttotal: 28.7s\tremaining: 3.73s\n",
      "885:\tlearn: 1076.1559156\ttotal: 28.7s\tremaining: 3.69s\n",
      "886:\tlearn: 1076.0583604\ttotal: 28.7s\tremaining: 3.66s\n",
      "887:\tlearn: 1075.9738264\ttotal: 28.8s\tremaining: 3.63s\n",
      "888:\tlearn: 1075.8425055\ttotal: 28.8s\tremaining: 3.6s\n",
      "889:\tlearn: 1075.7084278\ttotal: 28.8s\tremaining: 3.56s\n",
      "890:\tlearn: 1075.6040645\ttotal: 28.9s\tremaining: 3.53s\n",
      "891:\tlearn: 1075.5383752\ttotal: 28.9s\tremaining: 3.5s\n",
      "892:\tlearn: 1075.4872606\ttotal: 28.9s\tremaining: 3.47s\n",
      "893:\tlearn: 1075.4483730\ttotal: 29s\tremaining: 3.43s\n",
      "894:\tlearn: 1075.3062998\ttotal: 29s\tremaining: 3.4s\n",
      "895:\tlearn: 1075.2471241\ttotal: 29s\tremaining: 3.37s\n",
      "896:\tlearn: 1075.1120673\ttotal: 29.1s\tremaining: 3.34s\n",
      "897:\tlearn: 1074.9480350\ttotal: 29.1s\tremaining: 3.3s\n",
      "898:\tlearn: 1074.7353328\ttotal: 29.1s\tremaining: 3.27s\n",
      "899:\tlearn: 1074.6836254\ttotal: 29.2s\tremaining: 3.24s\n",
      "900:\tlearn: 1074.5481541\ttotal: 29.2s\tremaining: 3.21s\n",
      "901:\tlearn: 1074.4734289\ttotal: 29.2s\tremaining: 3.17s\n",
      "902:\tlearn: 1074.3083913\ttotal: 29.3s\tremaining: 3.14s\n",
      "903:\tlearn: 1074.1391461\ttotal: 29.3s\tremaining: 3.11s\n",
      "904:\tlearn: 1074.0441564\ttotal: 29.3s\tremaining: 3.08s\n",
      "905:\tlearn: 1073.9363563\ttotal: 29.4s\tremaining: 3.04s\n",
      "906:\tlearn: 1073.7255426\ttotal: 29.4s\tremaining: 3.01s\n",
      "907:\tlearn: 1073.6154902\ttotal: 29.4s\tremaining: 2.98s\n",
      "908:\tlearn: 1073.4137052\ttotal: 29.5s\tremaining: 2.95s\n",
      "909:\tlearn: 1073.3287685\ttotal: 29.5s\tremaining: 2.92s\n",
      "910:\tlearn: 1073.1902463\ttotal: 29.5s\tremaining: 2.88s\n",
      "911:\tlearn: 1073.0577766\ttotal: 29.6s\tremaining: 2.85s\n",
      "912:\tlearn: 1072.9386952\ttotal: 29.6s\tremaining: 2.82s\n",
      "913:\tlearn: 1072.6430249\ttotal: 29.6s\tremaining: 2.79s\n",
      "914:\tlearn: 1072.5870285\ttotal: 29.6s\tremaining: 2.75s\n",
      "915:\tlearn: 1072.4757509\ttotal: 29.7s\tremaining: 2.72s\n",
      "916:\tlearn: 1072.3320888\ttotal: 29.7s\tremaining: 2.69s\n",
      "917:\tlearn: 1072.1719016\ttotal: 29.7s\tremaining: 2.66s\n",
      "918:\tlearn: 1072.0703263\ttotal: 29.8s\tremaining: 2.62s\n",
      "919:\tlearn: 1072.0155375\ttotal: 29.8s\tremaining: 2.59s\n",
      "920:\tlearn: 1071.9497126\ttotal: 29.9s\tremaining: 2.56s\n",
      "921:\tlearn: 1071.7848054\ttotal: 29.9s\tremaining: 2.53s\n",
      "922:\tlearn: 1071.7022649\ttotal: 29.9s\tremaining: 2.5s\n",
      "923:\tlearn: 1071.5778052\ttotal: 30s\tremaining: 2.46s\n",
      "924:\tlearn: 1071.4750447\ttotal: 30s\tremaining: 2.43s\n",
      "925:\tlearn: 1071.3063326\ttotal: 30.1s\tremaining: 2.4s\n",
      "926:\tlearn: 1071.2101033\ttotal: 30.1s\tremaining: 2.37s\n",
      "927:\tlearn: 1071.1696914\ttotal: 30.1s\tremaining: 2.34s\n",
      "928:\tlearn: 1071.0622718\ttotal: 30.2s\tremaining: 2.3s\n",
      "929:\tlearn: 1071.0301846\ttotal: 30.2s\tremaining: 2.27s\n",
      "930:\tlearn: 1070.7385433\ttotal: 30.2s\tremaining: 2.24s\n",
      "931:\tlearn: 1070.6371086\ttotal: 30.2s\tremaining: 2.21s\n",
      "932:\tlearn: 1070.4887744\ttotal: 30.3s\tremaining: 2.17s\n",
      "933:\tlearn: 1070.2745680\ttotal: 30.3s\tremaining: 2.14s\n",
      "934:\tlearn: 1070.1684551\ttotal: 30.3s\tremaining: 2.11s\n",
      "935:\tlearn: 1070.0402502\ttotal: 30.4s\tremaining: 2.08s\n",
      "936:\tlearn: 1069.9437892\ttotal: 30.4s\tremaining: 2.04s\n",
      "937:\tlearn: 1069.8510632\ttotal: 30.4s\tremaining: 2.01s\n",
      "938:\tlearn: 1069.7807508\ttotal: 30.5s\tremaining: 1.98s\n",
      "939:\tlearn: 1069.6782042\ttotal: 30.5s\tremaining: 1.95s\n",
      "940:\tlearn: 1069.6152046\ttotal: 30.5s\tremaining: 1.91s\n",
      "941:\tlearn: 1069.5005266\ttotal: 30.5s\tremaining: 1.88s\n",
      "942:\tlearn: 1069.3932907\ttotal: 30.6s\tremaining: 1.85s\n",
      "943:\tlearn: 1069.2448525\ttotal: 30.6s\tremaining: 1.81s\n",
      "944:\tlearn: 1069.1276003\ttotal: 30.6s\tremaining: 1.78s\n",
      "945:\tlearn: 1069.0601435\ttotal: 30.7s\tremaining: 1.75s\n",
      "946:\tlearn: 1068.9311680\ttotal: 30.7s\tremaining: 1.72s\n",
      "947:\tlearn: 1068.8338018\ttotal: 30.7s\tremaining: 1.69s\n",
      "948:\tlearn: 1068.7563855\ttotal: 30.8s\tremaining: 1.65s\n",
      "949:\tlearn: 1068.6751412\ttotal: 30.8s\tremaining: 1.62s\n",
      "950:\tlearn: 1068.6357281\ttotal: 30.8s\tremaining: 1.59s\n",
      "951:\tlearn: 1068.5432493\ttotal: 30.8s\tremaining: 1.55s\n",
      "952:\tlearn: 1068.4934261\ttotal: 30.9s\tremaining: 1.52s\n",
      "953:\tlearn: 1068.4409747\ttotal: 30.9s\tremaining: 1.49s\n",
      "954:\tlearn: 1068.3487111\ttotal: 30.9s\tremaining: 1.46s\n",
      "955:\tlearn: 1068.2955662\ttotal: 31s\tremaining: 1.43s\n",
      "956:\tlearn: 1068.2241356\ttotal: 31s\tremaining: 1.39s\n",
      "957:\tlearn: 1068.0896399\ttotal: 31s\tremaining: 1.36s\n",
      "958:\tlearn: 1067.9763094\ttotal: 31.1s\tremaining: 1.33s\n",
      "959:\tlearn: 1067.9184385\ttotal: 31.1s\tremaining: 1.29s\n",
      "960:\tlearn: 1067.8642189\ttotal: 31.1s\tremaining: 1.26s\n",
      "961:\tlearn: 1067.7314299\ttotal: 31.2s\tremaining: 1.23s\n",
      "962:\tlearn: 1067.5937697\ttotal: 31.2s\tremaining: 1.2s\n",
      "963:\tlearn: 1067.5171500\ttotal: 31.2s\tremaining: 1.17s\n",
      "964:\tlearn: 1067.4020240\ttotal: 31.3s\tremaining: 1.13s\n",
      "965:\tlearn: 1067.3131689\ttotal: 31.3s\tremaining: 1.1s\n",
      "966:\tlearn: 1067.1388249\ttotal: 31.3s\tremaining: 1.07s\n",
      "967:\tlearn: 1067.0939629\ttotal: 31.4s\tremaining: 1.04s\n",
      "968:\tlearn: 1066.9357013\ttotal: 31.4s\tremaining: 1s\n",
      "969:\tlearn: 1066.8354886\ttotal: 31.4s\tremaining: 971ms\n",
      "970:\tlearn: 1066.6297066\ttotal: 31.4s\tremaining: 939ms\n",
      "971:\tlearn: 1066.5262142\ttotal: 31.5s\tremaining: 907ms\n",
      "972:\tlearn: 1066.0524718\ttotal: 31.5s\tremaining: 874ms\n",
      "973:\tlearn: 1065.9400365\ttotal: 31.5s\tremaining: 842ms\n",
      "974:\tlearn: 1065.8777159\ttotal: 31.6s\tremaining: 809ms\n",
      "975:\tlearn: 1065.7988171\ttotal: 31.6s\tremaining: 777ms\n",
      "976:\tlearn: 1065.6859144\ttotal: 31.6s\tremaining: 744ms\n",
      "977:\tlearn: 1065.5254172\ttotal: 31.7s\tremaining: 712ms\n",
      "978:\tlearn: 1065.4624119\ttotal: 31.7s\tremaining: 680ms\n",
      "979:\tlearn: 1065.3195822\ttotal: 31.7s\tremaining: 647ms\n",
      "980:\tlearn: 1065.1877683\ttotal: 31.7s\tremaining: 615ms\n",
      "981:\tlearn: 1065.0069086\ttotal: 31.8s\tremaining: 582ms\n",
      "982:\tlearn: 1064.7781495\ttotal: 31.8s\tremaining: 550ms\n",
      "983:\tlearn: 1064.6876368\ttotal: 31.8s\tremaining: 518ms\n",
      "984:\tlearn: 1064.5990655\ttotal: 31.9s\tremaining: 485ms\n",
      "985:\tlearn: 1064.4836737\ttotal: 31.9s\tremaining: 453ms\n",
      "986:\tlearn: 1064.4234544\ttotal: 31.9s\tremaining: 421ms\n",
      "987:\tlearn: 1064.3358738\ttotal: 32s\tremaining: 388ms\n",
      "988:\tlearn: 1064.2684094\ttotal: 32s\tremaining: 356ms\n",
      "989:\tlearn: 1064.0054077\ttotal: 32s\tremaining: 324ms\n",
      "990:\tlearn: 1063.8481269\ttotal: 32.1s\tremaining: 291ms\n",
      "991:\tlearn: 1063.7482232\ttotal: 32.1s\tremaining: 259ms\n",
      "992:\tlearn: 1063.6983799\ttotal: 32.1s\tremaining: 226ms\n",
      "993:\tlearn: 1063.6015998\ttotal: 32.2s\tremaining: 194ms\n",
      "994:\tlearn: 1063.4443128\ttotal: 32.2s\tremaining: 162ms\n",
      "995:\tlearn: 1063.4006978\ttotal: 32.2s\tremaining: 129ms\n",
      "996:\tlearn: 1063.3575757\ttotal: 32.3s\tremaining: 97ms\n",
      "997:\tlearn: 1063.1866229\ttotal: 32.3s\tremaining: 64.7ms\n",
      "998:\tlearn: 1063.1122755\ttotal: 32.3s\tremaining: 32.3ms\n",
      "999:\tlearn: 1063.0567066\ttotal: 32.3s\tremaining: 0us\n"
     ]
    },
    {
     "data": {
      "text/plain": [
       "<catboost.core.CatBoostRegressor at 0x7f4533636fa0>"
      ]
     },
     "execution_count": 62,
     "metadata": {},
     "output_type": "execute_result"
    }
   ],
   "source": [
    "# тестирование лучшей модели на тестовой выборке \n",
    "model_cbr = CatBoostRegressor(learning_rate=1, max_depth=7, random_state=RANDOM_STATE)\n",
    "model_cbr.fit(features_train, target_train)"
   ]
  },
  {
   "cell_type": "code",
   "execution_count": 63,
   "metadata": {},
   "outputs": [],
   "source": [
    "predictions = model_cbr.predict(features_test)"
   ]
  },
  {
   "cell_type": "code",
   "execution_count": 64,
   "metadata": {},
   "outputs": [],
   "source": [
    "rmse = ((mean_squared_error(target_test, predictions)) ** 0.5).round()"
   ]
  },
  {
   "cell_type": "code",
   "execution_count": 65,
   "metadata": {},
   "outputs": [
    {
     "name": "stdout",
     "output_type": "stream",
     "text": [
      "RMSE для CatBoostRegressor на тестовой выборке 1328.0\n"
     ]
    }
   ],
   "source": [
    "print(\"RMSE для CatBoostRegressor на тестовой выборке\", rmse)"
   ]
  },
  {
   "cell_type": "markdown",
   "metadata": {},
   "source": [
    "#### Вывод"
   ]
  },
  {
   "cell_type": "markdown",
   "metadata": {},
   "source": [
    "\n",
    "В ходе работы было выполнено:\n",
    "\n",
    " 1. Загружены данные и проведена предобработка.\n",
    " 2. Выполнено сравнение 3-х моделей RandomForestRegressor, CatBoostRegressor и LGBMRegressor с использованием различных наборов гиперпараметров.\n",
    " 3. Выбрана лучшая модель по результатам метрики RMSE и времени обучения.\n",
    " \n",
    "Лучшей моделью по трем параметрам качество, скорость обучения и скорость предсказания можно считать CatBoostRegressor. Сочетания скорости и точности на подготовленных данных выводит его в лидеры. Все остальные показали себя в целом хуже. RMSE для модели CatBoostRegressor на тестовой выборке 1328. Для заказчика однозначно рекомендую использовать эту модель для определения цены автомобиля на вторичном рынке.\n",
    "\n",
    "\n",
    "\n"
   ]
  },
  {
   "cell_type": "code",
   "execution_count": null,
   "metadata": {},
   "outputs": [],
   "source": []
  }
 ],
 "metadata": {
  "ExecuteTimeLog": [
   {
    "duration": 1630,
    "start_time": "2023-06-13T17:17:24.093Z"
   },
   {
    "duration": 2882,
    "start_time": "2023-06-13T17:37:49.983Z"
   },
   {
    "duration": 929,
    "start_time": "2023-06-13T17:42:20.002Z"
   },
   {
    "duration": 261,
    "start_time": "2023-06-13T17:46:41.902Z"
   },
   {
    "duration": 818,
    "start_time": "2023-06-13T17:46:56.203Z"
   },
   {
    "duration": 8,
    "start_time": "2023-06-13T17:51:45.075Z"
   },
   {
    "duration": 27,
    "start_time": "2023-06-13T17:52:03.780Z"
   },
   {
    "duration": 819,
    "start_time": "2023-06-13T17:52:03.984Z"
   },
   {
    "duration": 809,
    "start_time": "2023-06-13T17:52:04.805Z"
   },
   {
    "duration": 6,
    "start_time": "2023-06-13T17:52:05.616Z"
   },
   {
    "duration": 5,
    "start_time": "2023-06-13T17:52:55.299Z"
   },
   {
    "duration": 4,
    "start_time": "2023-06-13T17:53:14.129Z"
   },
   {
    "duration": 829,
    "start_time": "2023-06-13T17:53:14.348Z"
   },
   {
    "duration": 822,
    "start_time": "2023-06-13T17:53:15.180Z"
   },
   {
    "duration": 6,
    "start_time": "2023-06-13T17:53:16.004Z"
   },
   {
    "duration": 6,
    "start_time": "2023-06-13T17:54:35.401Z"
   },
   {
    "duration": 4,
    "start_time": "2023-06-13T17:54:48.829Z"
   },
   {
    "duration": 814,
    "start_time": "2023-06-13T17:54:49.011Z"
   },
   {
    "duration": 765,
    "start_time": "2023-06-13T17:54:49.827Z"
   },
   {
    "duration": 7,
    "start_time": "2023-06-13T17:54:50.594Z"
   },
   {
    "duration": 14,
    "start_time": "2023-06-13T17:55:29.332Z"
   },
   {
    "duration": 6,
    "start_time": "2023-06-13T17:56:04.154Z"
   },
   {
    "duration": 13,
    "start_time": "2023-06-13T17:56:05.951Z"
   },
   {
    "duration": 1521,
    "start_time": "2023-06-13T17:56:16.978Z"
   },
   {
    "duration": 918,
    "start_time": "2023-06-13T17:56:18.501Z"
   },
   {
    "duration": 927,
    "start_time": "2023-06-13T17:56:19.421Z"
   },
   {
    "duration": 8,
    "start_time": "2023-06-13T17:56:20.350Z"
   },
   {
    "duration": 34,
    "start_time": "2023-06-13T17:56:20.360Z"
   },
   {
    "duration": 612,
    "start_time": "2023-06-13T18:07:08.944Z"
   },
   {
    "duration": 48,
    "start_time": "2023-06-13T18:08:07.857Z"
   },
   {
    "duration": 13,
    "start_time": "2023-06-13T18:08:32.497Z"
   },
   {
    "duration": 187,
    "start_time": "2023-06-13T18:08:54.524Z"
   },
   {
    "duration": 1915,
    "start_time": "2023-06-13T18:09:03.807Z"
   },
   {
    "duration": 1181,
    "start_time": "2023-06-13T18:09:05.725Z"
   },
   {
    "duration": 1372,
    "start_time": "2023-06-13T18:09:06.908Z"
   },
   {
    "duration": 10,
    "start_time": "2023-06-13T18:09:08.283Z"
   },
   {
    "duration": 839,
    "start_time": "2023-06-13T18:09:08.295Z"
   },
   {
    "duration": 75,
    "start_time": "2023-06-13T18:09:09.137Z"
   },
   {
    "duration": 1043,
    "start_time": "2023-06-13T18:13:14.400Z"
   },
   {
    "duration": 6,
    "start_time": "2023-06-13T18:13:40.987Z"
   },
   {
    "duration": 986,
    "start_time": "2023-06-13T18:13:41.719Z"
   },
   {
    "duration": 9,
    "start_time": "2023-06-13T18:13:44.890Z"
   },
   {
    "duration": 122,
    "start_time": "2023-06-13T18:14:21.651Z"
   },
   {
    "duration": 9,
    "start_time": "2023-06-13T18:15:40.017Z"
   },
   {
    "duration": 112,
    "start_time": "2023-06-13T18:15:40.905Z"
   },
   {
    "duration": 5,
    "start_time": "2023-06-13T18:17:00.781Z"
   },
   {
    "duration": 998,
    "start_time": "2023-06-13T18:17:01.351Z"
   },
   {
    "duration": 156,
    "start_time": "2023-06-13T18:17:05.415Z"
   },
   {
    "duration": 5,
    "start_time": "2023-06-13T18:17:29.774Z"
   },
   {
    "duration": 801,
    "start_time": "2023-06-13T18:17:32.420Z"
   },
   {
    "duration": 15,
    "start_time": "2023-06-13T18:17:33.453Z"
   },
   {
    "duration": 1667,
    "start_time": "2023-06-13T18:17:56.248Z"
   },
   {
    "duration": 1204,
    "start_time": "2023-06-13T18:17:57.920Z"
   },
   {
    "duration": 185,
    "start_time": "2023-06-13T18:17:59.127Z"
   },
   {
    "duration": 0,
    "start_time": "2023-06-13T18:17:59.314Z"
   },
   {
    "duration": 0,
    "start_time": "2023-06-13T18:17:59.316Z"
   },
   {
    "duration": 0,
    "start_time": "2023-06-13T18:17:59.317Z"
   },
   {
    "duration": 0,
    "start_time": "2023-06-13T18:17:59.319Z"
   },
   {
    "duration": 0,
    "start_time": "2023-06-13T18:17:59.320Z"
   },
   {
    "duration": 0,
    "start_time": "2023-06-13T18:17:59.322Z"
   },
   {
    "duration": 22,
    "start_time": "2023-06-13T18:18:35.217Z"
   },
   {
    "duration": 57,
    "start_time": "2023-06-13T18:20:17.492Z"
   },
   {
    "duration": 17,
    "start_time": "2023-06-13T18:20:57.615Z"
   },
   {
    "duration": 1507,
    "start_time": "2023-06-13T18:21:14.198Z"
   },
   {
    "duration": 842,
    "start_time": "2023-06-13T18:21:15.707Z"
   },
   {
    "duration": 55,
    "start_time": "2023-06-13T18:21:16.551Z"
   },
   {
    "duration": 16,
    "start_time": "2023-06-13T18:21:16.608Z"
   },
   {
    "duration": 97,
    "start_time": "2023-06-13T18:21:16.626Z"
   },
   {
    "duration": 429,
    "start_time": "2023-06-13T18:21:16.725Z"
   },
   {
    "duration": 220,
    "start_time": "2023-06-13T18:21:17.157Z"
   },
   {
    "duration": 129,
    "start_time": "2023-06-13T18:21:17.379Z"
   },
   {
    "duration": 11,
    "start_time": "2023-06-13T18:22:05.257Z"
   },
   {
    "duration": 64,
    "start_time": "2023-06-13T18:22:48.131Z"
   },
   {
    "duration": 68,
    "start_time": "2023-06-13T18:23:00.042Z"
   },
   {
    "duration": 1499,
    "start_time": "2023-06-13T18:23:12.666Z"
   },
   {
    "duration": 861,
    "start_time": "2023-06-13T18:23:14.167Z"
   },
   {
    "duration": 67,
    "start_time": "2023-06-13T18:23:15.030Z"
   },
   {
    "duration": 11,
    "start_time": "2023-06-13T18:23:15.098Z"
   },
   {
    "duration": 102,
    "start_time": "2023-06-13T18:23:15.112Z"
   },
   {
    "duration": 429,
    "start_time": "2023-06-13T18:23:15.217Z"
   },
   {
    "duration": 207,
    "start_time": "2023-06-13T18:23:15.655Z"
   },
   {
    "duration": 167,
    "start_time": "2023-06-13T18:24:38.707Z"
   },
   {
    "duration": 134,
    "start_time": "2023-06-13T18:25:56.096Z"
   },
   {
    "duration": 1548,
    "start_time": "2023-06-13T18:28:07.213Z"
   },
   {
    "duration": 952,
    "start_time": "2023-06-13T18:28:08.763Z"
   },
   {
    "duration": 58,
    "start_time": "2023-06-13T18:28:09.717Z"
   },
   {
    "duration": 15,
    "start_time": "2023-06-13T18:28:09.777Z"
   },
   {
    "duration": 96,
    "start_time": "2023-06-13T18:28:09.794Z"
   },
   {
    "duration": 184,
    "start_time": "2023-06-13T18:28:09.892Z"
   },
   {
    "duration": 191,
    "start_time": "2023-06-13T18:28:10.078Z"
   },
   {
    "duration": 88,
    "start_time": "2023-06-13T18:28:10.270Z"
   },
   {
    "duration": 62,
    "start_time": "2023-06-13T18:28:10.360Z"
   },
   {
    "duration": 81,
    "start_time": "2023-06-13T18:28:10.424Z"
   },
   {
    "duration": 1547,
    "start_time": "2023-06-13T18:29:59.283Z"
   },
   {
    "duration": 959,
    "start_time": "2023-06-13T18:30:00.833Z"
   },
   {
    "duration": 81,
    "start_time": "2023-06-13T18:30:01.796Z"
   },
   {
    "duration": 63,
    "start_time": "2023-06-13T18:30:01.880Z"
   },
   {
    "duration": 113,
    "start_time": "2023-06-13T18:30:01.945Z"
   },
   {
    "duration": 210,
    "start_time": "2023-06-13T18:30:02.060Z"
   },
   {
    "duration": 235,
    "start_time": "2023-06-13T18:30:02.272Z"
   },
   {
    "duration": 81,
    "start_time": "2023-06-13T18:30:02.509Z"
   },
   {
    "duration": 76,
    "start_time": "2023-06-13T18:30:02.593Z"
   },
   {
    "duration": 57,
    "start_time": "2023-06-13T18:30:02.671Z"
   },
   {
    "duration": 1560,
    "start_time": "2023-06-13T18:36:27.540Z"
   },
   {
    "duration": 869,
    "start_time": "2023-06-13T18:36:29.102Z"
   },
   {
    "duration": 58,
    "start_time": "2023-06-13T18:36:29.973Z"
   },
   {
    "duration": 71,
    "start_time": "2023-06-13T18:36:30.033Z"
   },
   {
    "duration": 123,
    "start_time": "2023-06-13T18:36:30.105Z"
   },
   {
    "duration": 200,
    "start_time": "2023-06-13T18:36:30.229Z"
   },
   {
    "duration": 220,
    "start_time": "2023-06-13T18:36:30.431Z"
   },
   {
    "duration": 75,
    "start_time": "2023-06-13T18:36:30.655Z"
   },
   {
    "duration": 93,
    "start_time": "2023-06-13T18:36:30.731Z"
   },
   {
    "duration": 111,
    "start_time": "2023-06-13T18:36:30.826Z"
   },
   {
    "duration": 197,
    "start_time": "2023-06-13T18:37:04.398Z"
   },
   {
    "duration": 74,
    "start_time": "2023-06-13T18:37:07.178Z"
   },
   {
    "duration": 1509,
    "start_time": "2023-06-13T18:42:05.291Z"
   },
   {
    "duration": 906,
    "start_time": "2023-06-13T18:42:06.802Z"
   },
   {
    "duration": 138,
    "start_time": "2023-06-13T18:42:07.710Z"
   },
   {
    "duration": 535,
    "start_time": "2023-06-13T18:42:07.857Z"
   },
   {
    "duration": 716,
    "start_time": "2023-06-13T18:42:08.395Z"
   },
   {
    "duration": 71,
    "start_time": "2023-06-13T18:42:09.115Z"
   },
   {
    "duration": 11,
    "start_time": "2023-06-13T18:42:09.188Z"
   },
   {
    "duration": 102,
    "start_time": "2023-06-13T18:42:09.201Z"
   },
   {
    "duration": 94,
    "start_time": "2023-06-13T18:42:09.305Z"
   },
   {
    "duration": 100,
    "start_time": "2023-06-13T18:42:09.401Z"
   },
   {
    "duration": 112,
    "start_time": "2023-06-13T20:37:12.818Z"
   },
   {
    "duration": 444,
    "start_time": "2023-06-13T20:37:23.965Z"
   },
   {
    "duration": 627,
    "start_time": "2023-06-13T20:37:32.966Z"
   },
   {
    "duration": 13,
    "start_time": "2023-06-13T20:38:54.786Z"
   },
   {
    "duration": 37,
    "start_time": "2023-06-13T20:39:21.527Z"
   },
   {
    "duration": 27,
    "start_time": "2023-06-13T20:39:42.158Z"
   },
   {
    "duration": 60,
    "start_time": "2023-06-13T20:41:43.896Z"
   },
   {
    "duration": 8,
    "start_time": "2023-06-13T20:44:49.787Z"
   },
   {
    "duration": 12,
    "start_time": "2023-06-13T20:45:45.813Z"
   },
   {
    "duration": 1774,
    "start_time": "2023-06-13T20:45:55.456Z"
   },
   {
    "duration": 2067,
    "start_time": "2023-06-13T20:46:07.312Z"
   },
   {
    "duration": 1768,
    "start_time": "2023-06-13T20:48:04.807Z"
   },
   {
    "duration": 1903,
    "start_time": "2023-06-13T20:48:17.756Z"
   },
   {
    "duration": 1880,
    "start_time": "2023-06-13T20:48:23.395Z"
   },
   {
    "duration": 1899,
    "start_time": "2023-06-13T20:48:58.144Z"
   },
   {
    "duration": 13,
    "start_time": "2023-06-13T20:49:48.647Z"
   },
   {
    "duration": 27,
    "start_time": "2023-06-13T20:50:49.630Z"
   },
   {
    "duration": 52,
    "start_time": "2023-06-13T20:51:32.595Z"
   },
   {
    "duration": 28,
    "start_time": "2023-06-13T20:52:56.912Z"
   },
   {
    "duration": 40,
    "start_time": "2023-06-13T20:52:58.832Z"
   },
   {
    "duration": 1454,
    "start_time": "2023-06-13T20:53:04.788Z"
   },
   {
    "duration": 854,
    "start_time": "2023-06-13T20:53:06.244Z"
   },
   {
    "duration": 134,
    "start_time": "2023-06-13T20:53:07.100Z"
   },
   {
    "duration": 529,
    "start_time": "2023-06-13T20:53:07.237Z"
   },
   {
    "duration": 659,
    "start_time": "2023-06-13T20:53:07.768Z"
   },
   {
    "duration": 64,
    "start_time": "2023-06-13T20:53:08.429Z"
   },
   {
    "duration": 18,
    "start_time": "2023-06-13T20:53:08.495Z"
   },
   {
    "duration": 94,
    "start_time": "2023-06-13T20:53:08.515Z"
   },
   {
    "duration": 82,
    "start_time": "2023-06-13T20:53:08.610Z"
   },
   {
    "duration": 615,
    "start_time": "2023-06-13T20:53:08.694Z"
   },
   {
    "duration": 13,
    "start_time": "2023-06-13T20:53:09.311Z"
   },
   {
    "duration": 150,
    "start_time": "2023-06-13T20:53:09.325Z"
   },
   {
    "duration": 57,
    "start_time": "2023-06-13T20:53:09.477Z"
   },
   {
    "duration": 21,
    "start_time": "2023-06-13T20:53:09.537Z"
   },
   {
    "duration": 1791,
    "start_time": "2023-06-13T20:53:09.559Z"
   },
   {
    "duration": 13,
    "start_time": "2023-06-13T20:53:11.356Z"
   },
   {
    "duration": 28,
    "start_time": "2023-06-13T20:53:11.370Z"
   },
   {
    "duration": 75,
    "start_time": "2023-06-13T20:53:11.400Z"
   },
   {
    "duration": 1526,
    "start_time": "2023-06-13T20:54:20.636Z"
   },
   {
    "duration": 814,
    "start_time": "2023-06-13T20:54:22.164Z"
   },
   {
    "duration": 123,
    "start_time": "2023-06-13T20:54:22.979Z"
   },
   {
    "duration": 516,
    "start_time": "2023-06-13T20:54:23.104Z"
   },
   {
    "duration": 625,
    "start_time": "2023-06-13T20:54:23.622Z"
   },
   {
    "duration": 61,
    "start_time": "2023-06-13T20:54:24.249Z"
   },
   {
    "duration": 16,
    "start_time": "2023-06-13T20:54:24.312Z"
   },
   {
    "duration": 89,
    "start_time": "2023-06-13T20:54:24.330Z"
   },
   {
    "duration": 67,
    "start_time": "2023-06-13T20:54:24.421Z"
   },
   {
    "duration": 521,
    "start_time": "2023-06-13T20:54:24.490Z"
   },
   {
    "duration": 13,
    "start_time": "2023-06-13T20:54:25.012Z"
   },
   {
    "duration": 149,
    "start_time": "2023-06-13T20:54:25.027Z"
   },
   {
    "duration": 57,
    "start_time": "2023-06-13T20:54:25.177Z"
   },
   {
    "duration": 24,
    "start_time": "2023-06-13T20:54:25.237Z"
   },
   {
    "duration": 1759,
    "start_time": "2023-06-13T20:54:25.263Z"
   },
   {
    "duration": 11,
    "start_time": "2023-06-13T20:54:27.024Z"
   },
   {
    "duration": 46,
    "start_time": "2023-06-13T20:54:27.037Z"
   },
   {
    "duration": 77,
    "start_time": "2023-06-13T20:54:27.084Z"
   },
   {
    "duration": 13,
    "start_time": "2023-06-13T20:54:41.854Z"
   },
   {
    "duration": 1533,
    "start_time": "2023-06-13T20:54:59.837Z"
   },
   {
    "duration": 935,
    "start_time": "2023-06-13T20:55:01.372Z"
   },
   {
    "duration": 129,
    "start_time": "2023-06-13T20:55:02.311Z"
   },
   {
    "duration": 542,
    "start_time": "2023-06-13T20:55:02.443Z"
   },
   {
    "duration": 651,
    "start_time": "2023-06-13T20:55:02.987Z"
   },
   {
    "duration": 67,
    "start_time": "2023-06-13T20:55:03.640Z"
   },
   {
    "duration": 12,
    "start_time": "2023-06-13T20:55:03.709Z"
   },
   {
    "duration": 92,
    "start_time": "2023-06-13T20:55:03.723Z"
   },
   {
    "duration": 83,
    "start_time": "2023-06-13T20:55:03.817Z"
   },
   {
    "duration": 573,
    "start_time": "2023-06-13T20:55:03.902Z"
   },
   {
    "duration": 13,
    "start_time": "2023-06-13T20:55:04.476Z"
   },
   {
    "duration": 158,
    "start_time": "2023-06-13T20:55:04.491Z"
   },
   {
    "duration": 59,
    "start_time": "2023-06-13T20:55:04.652Z"
   },
   {
    "duration": 8,
    "start_time": "2023-06-13T20:55:04.713Z"
   },
   {
    "duration": 1827,
    "start_time": "2023-06-13T20:55:04.723Z"
   },
   {
    "duration": 12,
    "start_time": "2023-06-13T20:55:06.556Z"
   },
   {
    "duration": 120,
    "start_time": "2023-06-13T20:55:06.569Z"
   },
   {
    "duration": 0,
    "start_time": "2023-06-13T20:55:06.691Z"
   },
   {
    "duration": 0,
    "start_time": "2023-06-13T20:55:06.692Z"
   },
   {
    "duration": 487,
    "start_time": "2023-06-13T20:56:10.812Z"
   },
   {
    "duration": 16,
    "start_time": "2023-06-13T20:56:29.205Z"
   },
   {
    "duration": 27,
    "start_time": "2023-06-13T20:57:24.992Z"
   },
   {
    "duration": 38,
    "start_time": "2023-06-13T20:57:26.612Z"
   },
   {
    "duration": 568,
    "start_time": "2023-06-13T21:05:54.641Z"
   },
   {
    "duration": 34,
    "start_time": "2023-06-13T21:06:58.585Z"
   },
   {
    "duration": 46,
    "start_time": "2023-06-13T21:07:14.686Z"
   },
   {
    "duration": 64,
    "start_time": "2023-06-13T21:07:26.102Z"
   },
   {
    "duration": 60,
    "start_time": "2023-06-13T21:07:39.447Z"
   },
   {
    "duration": 59,
    "start_time": "2023-06-13T21:08:46.080Z"
   },
   {
    "duration": 63,
    "start_time": "2023-06-13T21:08:55.183Z"
   },
   {
    "duration": 85,
    "start_time": "2023-06-13T21:09:22.248Z"
   },
   {
    "duration": 70,
    "start_time": "2023-06-13T21:09:32.251Z"
   },
   {
    "duration": 77,
    "start_time": "2023-06-13T21:10:04.997Z"
   },
   {
    "duration": 60,
    "start_time": "2023-06-13T21:10:11.488Z"
   },
   {
    "duration": 62,
    "start_time": "2023-06-13T21:10:17.943Z"
   },
   {
    "duration": 65,
    "start_time": "2023-06-13T21:10:24.516Z"
   },
   {
    "duration": 62,
    "start_time": "2023-06-13T21:10:30.444Z"
   },
   {
    "duration": 63,
    "start_time": "2023-06-13T21:10:35.578Z"
   },
   {
    "duration": 52,
    "start_time": "2023-06-13T21:12:17.681Z"
   },
   {
    "duration": 37,
    "start_time": "2023-06-13T21:12:21.514Z"
   },
   {
    "duration": 48,
    "start_time": "2023-06-13T21:12:24.585Z"
   },
   {
    "duration": 68,
    "start_time": "2023-06-13T21:13:24.199Z"
   },
   {
    "duration": 65,
    "start_time": "2023-06-13T21:13:29.656Z"
   },
   {
    "duration": 64,
    "start_time": "2023-06-13T21:13:36.834Z"
   },
   {
    "duration": 68,
    "start_time": "2023-06-13T21:13:44.203Z"
   },
   {
    "duration": 78,
    "start_time": "2023-06-13T21:13:51.982Z"
   },
   {
    "duration": 706,
    "start_time": "2023-06-13T21:15:23.580Z"
   },
   {
    "duration": 48,
    "start_time": "2023-06-13T21:16:21.380Z"
   },
   {
    "duration": 53,
    "start_time": "2023-06-13T21:17:55.586Z"
   },
   {
    "duration": 41,
    "start_time": "2023-06-13T21:17:56.518Z"
   },
   {
    "duration": 47,
    "start_time": "2023-06-13T21:17:58.678Z"
   },
   {
    "duration": 642,
    "start_time": "2023-06-13T21:18:01.119Z"
   },
   {
    "duration": 40,
    "start_time": "2023-06-13T21:18:31.000Z"
   },
   {
    "duration": 27,
    "start_time": "2023-06-13T21:18:49.177Z"
   },
   {
    "duration": 27,
    "start_time": "2023-06-13T21:18:54.591Z"
   },
   {
    "duration": 26,
    "start_time": "2023-06-13T21:19:00.407Z"
   },
   {
    "duration": 25,
    "start_time": "2023-06-13T21:19:07.568Z"
   },
   {
    "duration": 672,
    "start_time": "2023-06-13T21:19:25.484Z"
   },
   {
    "duration": 196,
    "start_time": "2023-06-13T21:20:00.164Z"
   },
   {
    "duration": 349,
    "start_time": "2023-06-13T21:20:15.242Z"
   },
   {
    "duration": 27,
    "start_time": "2023-06-14T05:35:21.809Z"
   },
   {
    "duration": 25,
    "start_time": "2023-06-14T05:38:21.154Z"
   },
   {
    "duration": 56,
    "start_time": "2023-06-14T05:39:05.459Z"
   },
   {
    "duration": 11,
    "start_time": "2023-06-14T05:40:31.225Z"
   },
   {
    "duration": 14,
    "start_time": "2023-06-14T05:40:39.775Z"
   },
   {
    "duration": 61,
    "start_time": "2023-06-14T05:40:47.358Z"
   },
   {
    "duration": 40,
    "start_time": "2023-06-14T05:41:46.436Z"
   },
   {
    "duration": 71,
    "start_time": "2023-06-14T05:42:06.491Z"
   },
   {
    "duration": 79,
    "start_time": "2023-06-14T05:42:15.236Z"
   },
   {
    "duration": 17,
    "start_time": "2023-06-14T05:42:22.105Z"
   },
   {
    "duration": 38,
    "start_time": "2023-06-14T05:52:30.350Z"
   },
   {
    "duration": 55,
    "start_time": "2023-06-14T05:52:33.138Z"
   },
   {
    "duration": 19,
    "start_time": "2023-06-14T05:53:09.153Z"
   },
   {
    "duration": 56,
    "start_time": "2023-06-14T05:53:54.783Z"
   },
   {
    "duration": 51,
    "start_time": "2023-06-14T05:54:19.904Z"
   },
   {
    "duration": 54,
    "start_time": "2023-06-14T05:54:20.312Z"
   },
   {
    "duration": 52,
    "start_time": "2023-06-14T05:55:19.241Z"
   },
   {
    "duration": 39,
    "start_time": "2023-06-14T05:57:17.082Z"
   },
   {
    "duration": 32,
    "start_time": "2023-06-14T05:59:14.755Z"
   },
   {
    "duration": 35,
    "start_time": "2023-06-14T05:59:20.977Z"
   },
   {
    "duration": 51,
    "start_time": "2023-06-14T06:01:10.816Z"
   },
   {
    "duration": 48,
    "start_time": "2023-06-14T06:01:28.837Z"
   },
   {
    "duration": 32,
    "start_time": "2023-06-14T06:03:33.732Z"
   },
   {
    "duration": 37,
    "start_time": "2023-06-14T06:03:43.751Z"
   },
   {
    "duration": 35,
    "start_time": "2023-06-14T06:04:26.333Z"
   },
   {
    "duration": 34,
    "start_time": "2023-06-14T06:04:42.657Z"
   },
   {
    "duration": 34,
    "start_time": "2023-06-14T06:05:04.853Z"
   },
   {
    "duration": 10,
    "start_time": "2023-06-14T06:06:37.562Z"
   },
   {
    "duration": 14,
    "start_time": "2023-06-14T06:09:28.591Z"
   },
   {
    "duration": 11,
    "start_time": "2023-06-14T06:10:22.400Z"
   },
   {
    "duration": 12,
    "start_time": "2023-06-14T06:11:05.361Z"
   },
   {
    "duration": 10,
    "start_time": "2023-06-14T06:11:30.074Z"
   },
   {
    "duration": 11,
    "start_time": "2023-06-14T06:12:16.739Z"
   },
   {
    "duration": 11,
    "start_time": "2023-06-14T06:12:22.343Z"
   },
   {
    "duration": 1472,
    "start_time": "2023-06-14T06:13:12.112Z"
   },
   {
    "duration": 895,
    "start_time": "2023-06-14T06:13:13.586Z"
   },
   {
    "duration": 122,
    "start_time": "2023-06-14T06:13:14.483Z"
   },
   {
    "duration": 510,
    "start_time": "2023-06-14T06:13:14.607Z"
   },
   {
    "duration": 640,
    "start_time": "2023-06-14T06:13:15.119Z"
   },
   {
    "duration": 57,
    "start_time": "2023-06-14T06:13:15.761Z"
   },
   {
    "duration": 16,
    "start_time": "2023-06-14T06:13:15.819Z"
   },
   {
    "duration": 89,
    "start_time": "2023-06-14T06:13:15.836Z"
   },
   {
    "duration": 82,
    "start_time": "2023-06-14T06:13:15.927Z"
   },
   {
    "duration": 597,
    "start_time": "2023-06-14T06:13:16.011Z"
   },
   {
    "duration": 13,
    "start_time": "2023-06-14T06:13:16.610Z"
   },
   {
    "duration": 150,
    "start_time": "2023-06-14T06:13:16.625Z"
   },
   {
    "duration": 57,
    "start_time": "2023-06-14T06:13:16.777Z"
   },
   {
    "duration": 26,
    "start_time": "2023-06-14T06:13:16.837Z"
   },
   {
    "duration": 1911,
    "start_time": "2023-06-14T06:13:16.866Z"
   },
   {
    "duration": 13,
    "start_time": "2023-06-14T06:13:18.779Z"
   },
   {
    "duration": 41,
    "start_time": "2023-06-14T06:13:18.794Z"
   },
   {
    "duration": 75,
    "start_time": "2023-06-14T06:13:18.837Z"
   },
   {
    "duration": 68,
    "start_time": "2023-06-14T06:13:18.914Z"
   },
   {
    "duration": 80,
    "start_time": "2023-06-14T06:13:18.985Z"
   },
   {
    "duration": 194,
    "start_time": "2023-06-14T06:13:19.067Z"
   },
   {
    "duration": 32,
    "start_time": "2023-06-14T06:13:19.263Z"
   },
   {
    "duration": 83,
    "start_time": "2023-06-14T06:13:19.297Z"
   },
   {
    "duration": 13,
    "start_time": "2023-06-14T06:13:19.382Z"
   },
   {
    "duration": 66,
    "start_time": "2023-06-14T06:13:19.397Z"
   },
   {
    "duration": 44,
    "start_time": "2023-06-14T06:13:19.465Z"
   },
   {
    "duration": 14,
    "start_time": "2023-06-14T06:13:19.510Z"
   },
   {
    "duration": 62,
    "start_time": "2023-06-14T06:13:19.526Z"
   },
   {
    "duration": 19,
    "start_time": "2023-06-14T06:13:19.590Z"
   },
   {
    "duration": 19,
    "start_time": "2023-06-14T06:13:19.611Z"
   },
   {
    "duration": 63,
    "start_time": "2023-06-14T06:13:19.632Z"
   },
   {
    "duration": 59,
    "start_time": "2023-06-14T06:13:19.697Z"
   },
   {
    "duration": 7,
    "start_time": "2023-06-14T06:13:19.758Z"
   },
   {
    "duration": 1497,
    "start_time": "2023-06-14T06:15:37.823Z"
   },
   {
    "duration": 843,
    "start_time": "2023-06-14T06:15:39.323Z"
   },
   {
    "duration": 137,
    "start_time": "2023-06-14T06:15:40.167Z"
   },
   {
    "duration": 512,
    "start_time": "2023-06-14T06:15:40.305Z"
   },
   {
    "duration": 631,
    "start_time": "2023-06-14T06:15:40.820Z"
   },
   {
    "duration": 53,
    "start_time": "2023-06-14T06:15:41.453Z"
   },
   {
    "duration": 31,
    "start_time": "2023-06-14T06:15:41.508Z"
   },
   {
    "duration": 83,
    "start_time": "2023-06-14T06:15:41.541Z"
   },
   {
    "duration": 78,
    "start_time": "2023-06-14T06:15:41.626Z"
   },
   {
    "duration": 574,
    "start_time": "2023-06-14T06:15:41.706Z"
   },
   {
    "duration": 13,
    "start_time": "2023-06-14T06:15:42.281Z"
   },
   {
    "duration": 150,
    "start_time": "2023-06-14T06:15:42.295Z"
   },
   {
    "duration": 54,
    "start_time": "2023-06-14T06:15:42.446Z"
   },
   {
    "duration": 9,
    "start_time": "2023-06-14T06:15:42.503Z"
   },
   {
    "duration": 1895,
    "start_time": "2023-06-14T06:15:42.513Z"
   },
   {
    "duration": 13,
    "start_time": "2023-06-14T06:15:44.410Z"
   },
   {
    "duration": 49,
    "start_time": "2023-06-14T06:15:44.424Z"
   },
   {
    "duration": 54,
    "start_time": "2023-06-14T06:15:44.475Z"
   },
   {
    "duration": 56,
    "start_time": "2023-06-14T06:15:44.532Z"
   },
   {
    "duration": 50,
    "start_time": "2023-06-14T06:15:44.590Z"
   },
   {
    "duration": 187,
    "start_time": "2023-06-14T06:15:44.642Z"
   },
   {
    "duration": 32,
    "start_time": "2023-06-14T06:15:44.832Z"
   },
   {
    "duration": 69,
    "start_time": "2023-06-14T06:15:44.866Z"
   },
   {
    "duration": 22,
    "start_time": "2023-06-14T06:15:44.937Z"
   },
   {
    "duration": 57,
    "start_time": "2023-06-14T06:15:44.961Z"
   },
   {
    "duration": 40,
    "start_time": "2023-06-14T06:15:45.020Z"
   },
   {
    "duration": 72,
    "start_time": "2023-06-14T06:15:45.062Z"
   },
   {
    "duration": 47,
    "start_time": "2023-06-14T06:15:45.136Z"
   },
   {
    "duration": 10,
    "start_time": "2023-06-14T06:15:45.186Z"
   },
   {
    "duration": 81,
    "start_time": "2023-06-14T06:15:45.198Z"
   },
   {
    "duration": 57,
    "start_time": "2023-06-14T06:15:45.281Z"
   },
   {
    "duration": 29,
    "start_time": "2023-06-14T06:15:45.340Z"
   },
   {
    "duration": 35,
    "start_time": "2023-06-14T06:20:14.092Z"
   },
   {
    "duration": 10,
    "start_time": "2023-06-14T06:20:22.574Z"
   },
   {
    "duration": 55,
    "start_time": "2023-06-14T06:20:27.566Z"
   },
   {
    "duration": 34,
    "start_time": "2023-06-14T06:22:08.016Z"
   },
   {
    "duration": 11,
    "start_time": "2023-06-14T06:22:21.407Z"
   },
   {
    "duration": 55,
    "start_time": "2023-06-14T06:22:25.964Z"
   },
   {
    "duration": 38,
    "start_time": "2023-06-14T06:23:21.629Z"
   },
   {
    "duration": 46,
    "start_time": "2023-06-14T06:23:22.571Z"
   },
   {
    "duration": 11,
    "start_time": "2023-06-14T06:25:01.119Z"
   },
   {
    "duration": 77,
    "start_time": "2023-06-14T06:30:58.057Z"
   },
   {
    "duration": 534,
    "start_time": "2023-06-14T06:33:49.577Z"
   },
   {
    "duration": 0,
    "start_time": "2023-06-14T06:33:50.115Z"
   },
   {
    "duration": 0,
    "start_time": "2023-06-14T06:33:50.116Z"
   },
   {
    "duration": 0,
    "start_time": "2023-06-14T06:33:50.119Z"
   },
   {
    "duration": 0,
    "start_time": "2023-06-14T06:33:50.120Z"
   },
   {
    "duration": 0,
    "start_time": "2023-06-14T06:33:50.121Z"
   },
   {
    "duration": 0,
    "start_time": "2023-06-14T06:33:50.123Z"
   },
   {
    "duration": 0,
    "start_time": "2023-06-14T06:33:50.125Z"
   },
   {
    "duration": 0,
    "start_time": "2023-06-14T06:33:50.126Z"
   },
   {
    "duration": 0,
    "start_time": "2023-06-14T06:33:50.127Z"
   },
   {
    "duration": 0,
    "start_time": "2023-06-14T06:33:50.128Z"
   },
   {
    "duration": 0,
    "start_time": "2023-06-14T06:33:50.129Z"
   },
   {
    "duration": 0,
    "start_time": "2023-06-14T06:33:50.129Z"
   },
   {
    "duration": 0,
    "start_time": "2023-06-14T06:33:50.130Z"
   },
   {
    "duration": 0,
    "start_time": "2023-06-14T06:33:50.131Z"
   },
   {
    "duration": 0,
    "start_time": "2023-06-14T06:33:50.163Z"
   },
   {
    "duration": 0,
    "start_time": "2023-06-14T06:33:50.165Z"
   },
   {
    "duration": 0,
    "start_time": "2023-06-14T06:33:50.165Z"
   },
   {
    "duration": 0,
    "start_time": "2023-06-14T06:33:50.167Z"
   },
   {
    "duration": 0,
    "start_time": "2023-06-14T06:33:50.168Z"
   },
   {
    "duration": 0,
    "start_time": "2023-06-14T06:33:50.170Z"
   },
   {
    "duration": 0,
    "start_time": "2023-06-14T06:33:50.171Z"
   },
   {
    "duration": 0,
    "start_time": "2023-06-14T06:33:50.172Z"
   },
   {
    "duration": 0,
    "start_time": "2023-06-14T06:33:50.173Z"
   },
   {
    "duration": 0,
    "start_time": "2023-06-14T06:33:50.175Z"
   },
   {
    "duration": 0,
    "start_time": "2023-06-14T06:33:50.177Z"
   },
   {
    "duration": 0,
    "start_time": "2023-06-14T06:33:50.178Z"
   },
   {
    "duration": 0,
    "start_time": "2023-06-14T06:33:50.179Z"
   },
   {
    "duration": 0,
    "start_time": "2023-06-14T06:33:50.180Z"
   },
   {
    "duration": 0,
    "start_time": "2023-06-14T06:33:50.185Z"
   },
   {
    "duration": 0,
    "start_time": "2023-06-14T06:33:50.186Z"
   },
   {
    "duration": 0,
    "start_time": "2023-06-14T06:33:50.188Z"
   },
   {
    "duration": 0,
    "start_time": "2023-06-14T06:33:50.189Z"
   },
   {
    "duration": 0,
    "start_time": "2023-06-14T06:33:50.191Z"
   },
   {
    "duration": 513,
    "start_time": "2023-06-14T06:34:02.788Z"
   },
   {
    "duration": 0,
    "start_time": "2023-06-14T06:34:03.305Z"
   },
   {
    "duration": 0,
    "start_time": "2023-06-14T06:34:03.306Z"
   },
   {
    "duration": 0,
    "start_time": "2023-06-14T06:34:03.308Z"
   },
   {
    "duration": 0,
    "start_time": "2023-06-14T06:34:03.309Z"
   },
   {
    "duration": 0,
    "start_time": "2023-06-14T06:34:03.310Z"
   },
   {
    "duration": 0,
    "start_time": "2023-06-14T06:34:03.312Z"
   },
   {
    "duration": 0,
    "start_time": "2023-06-14T06:34:03.313Z"
   },
   {
    "duration": 0,
    "start_time": "2023-06-14T06:34:03.315Z"
   },
   {
    "duration": 0,
    "start_time": "2023-06-14T06:34:03.317Z"
   },
   {
    "duration": 0,
    "start_time": "2023-06-14T06:34:03.318Z"
   },
   {
    "duration": 0,
    "start_time": "2023-06-14T06:34:03.320Z"
   },
   {
    "duration": 0,
    "start_time": "2023-06-14T06:34:03.321Z"
   },
   {
    "duration": 0,
    "start_time": "2023-06-14T06:34:03.324Z"
   },
   {
    "duration": 0,
    "start_time": "2023-06-14T06:34:03.325Z"
   },
   {
    "duration": 0,
    "start_time": "2023-06-14T06:34:03.327Z"
   },
   {
    "duration": 0,
    "start_time": "2023-06-14T06:34:03.371Z"
   },
   {
    "duration": 0,
    "start_time": "2023-06-14T06:34:03.379Z"
   },
   {
    "duration": 0,
    "start_time": "2023-06-14T06:34:03.384Z"
   },
   {
    "duration": 0,
    "start_time": "2023-06-14T06:34:03.386Z"
   },
   {
    "duration": 1,
    "start_time": "2023-06-14T06:34:03.387Z"
   },
   {
    "duration": 0,
    "start_time": "2023-06-14T06:34:03.389Z"
   },
   {
    "duration": 0,
    "start_time": "2023-06-14T06:34:03.390Z"
   },
   {
    "duration": 0,
    "start_time": "2023-06-14T06:34:03.391Z"
   },
   {
    "duration": 0,
    "start_time": "2023-06-14T06:34:03.392Z"
   },
   {
    "duration": 0,
    "start_time": "2023-06-14T06:34:03.393Z"
   },
   {
    "duration": 0,
    "start_time": "2023-06-14T06:34:03.394Z"
   },
   {
    "duration": 0,
    "start_time": "2023-06-14T06:34:03.396Z"
   },
   {
    "duration": 0,
    "start_time": "2023-06-14T06:34:03.397Z"
   },
   {
    "duration": 0,
    "start_time": "2023-06-14T06:34:03.399Z"
   },
   {
    "duration": 0,
    "start_time": "2023-06-14T06:34:03.401Z"
   },
   {
    "duration": 0,
    "start_time": "2023-06-14T06:34:03.402Z"
   },
   {
    "duration": 0,
    "start_time": "2023-06-14T06:34:03.404Z"
   },
   {
    "duration": 0,
    "start_time": "2023-06-14T06:34:03.407Z"
   },
   {
    "duration": 569,
    "start_time": "2023-06-14T06:35:53.250Z"
   },
   {
    "duration": 0,
    "start_time": "2023-06-14T06:35:53.822Z"
   },
   {
    "duration": 0,
    "start_time": "2023-06-14T06:35:53.824Z"
   },
   {
    "duration": 0,
    "start_time": "2023-06-14T06:35:53.825Z"
   },
   {
    "duration": 0,
    "start_time": "2023-06-14T06:35:53.827Z"
   },
   {
    "duration": 0,
    "start_time": "2023-06-14T06:35:53.829Z"
   },
   {
    "duration": 0,
    "start_time": "2023-06-14T06:35:53.830Z"
   },
   {
    "duration": 0,
    "start_time": "2023-06-14T06:35:53.832Z"
   },
   {
    "duration": 0,
    "start_time": "2023-06-14T06:35:53.833Z"
   },
   {
    "duration": 0,
    "start_time": "2023-06-14T06:35:53.835Z"
   },
   {
    "duration": 0,
    "start_time": "2023-06-14T06:35:53.835Z"
   },
   {
    "duration": 0,
    "start_time": "2023-06-14T06:35:53.857Z"
   },
   {
    "duration": 1,
    "start_time": "2023-06-14T06:35:53.858Z"
   },
   {
    "duration": 0,
    "start_time": "2023-06-14T06:35:53.860Z"
   },
   {
    "duration": 0,
    "start_time": "2023-06-14T06:35:53.861Z"
   },
   {
    "duration": 0,
    "start_time": "2023-06-14T06:35:53.862Z"
   },
   {
    "duration": 0,
    "start_time": "2023-06-14T06:35:53.863Z"
   },
   {
    "duration": 0,
    "start_time": "2023-06-14T06:35:53.864Z"
   },
   {
    "duration": 0,
    "start_time": "2023-06-14T06:35:53.865Z"
   },
   {
    "duration": 0,
    "start_time": "2023-06-14T06:35:53.866Z"
   },
   {
    "duration": 0,
    "start_time": "2023-06-14T06:35:53.868Z"
   },
   {
    "duration": 0,
    "start_time": "2023-06-14T06:35:53.869Z"
   },
   {
    "duration": 0,
    "start_time": "2023-06-14T06:35:53.870Z"
   },
   {
    "duration": 0,
    "start_time": "2023-06-14T06:35:53.871Z"
   },
   {
    "duration": 0,
    "start_time": "2023-06-14T06:35:53.872Z"
   },
   {
    "duration": 0,
    "start_time": "2023-06-14T06:35:53.873Z"
   },
   {
    "duration": 0,
    "start_time": "2023-06-14T06:35:53.874Z"
   },
   {
    "duration": 0,
    "start_time": "2023-06-14T06:35:53.876Z"
   },
   {
    "duration": 0,
    "start_time": "2023-06-14T06:35:53.877Z"
   },
   {
    "duration": 0,
    "start_time": "2023-06-14T06:35:53.878Z"
   },
   {
    "duration": 0,
    "start_time": "2023-06-14T06:35:53.879Z"
   },
   {
    "duration": 0,
    "start_time": "2023-06-14T06:35:53.881Z"
   },
   {
    "duration": 0,
    "start_time": "2023-06-14T06:35:53.882Z"
   },
   {
    "duration": 0,
    "start_time": "2023-06-14T06:35:53.883Z"
   },
   {
    "duration": 1702,
    "start_time": "2023-06-14T06:37:33.387Z"
   },
   {
    "duration": 1488,
    "start_time": "2023-06-14T06:37:35.092Z"
   },
   {
    "duration": 164,
    "start_time": "2023-06-14T06:37:36.582Z"
   },
   {
    "duration": 558,
    "start_time": "2023-06-14T06:37:36.748Z"
   },
   {
    "duration": 712,
    "start_time": "2023-06-14T06:37:37.309Z"
   },
   {
    "duration": 80,
    "start_time": "2023-06-14T06:37:38.023Z"
   },
   {
    "duration": 15,
    "start_time": "2023-06-14T06:37:38.106Z"
   },
   {
    "duration": 122,
    "start_time": "2023-06-14T06:37:38.123Z"
   },
   {
    "duration": 83,
    "start_time": "2023-06-14T06:37:38.249Z"
   },
   {
    "duration": 755,
    "start_time": "2023-06-14T06:37:38.334Z"
   },
   {
    "duration": 17,
    "start_time": "2023-06-14T06:37:39.092Z"
   },
   {
    "duration": 201,
    "start_time": "2023-06-14T06:37:39.111Z"
   },
   {
    "duration": 75,
    "start_time": "2023-06-14T06:37:39.314Z"
   },
   {
    "duration": 12,
    "start_time": "2023-06-14T06:37:39.394Z"
   },
   {
    "duration": 2278,
    "start_time": "2023-06-14T06:37:39.409Z"
   },
   {
    "duration": 19,
    "start_time": "2023-06-14T06:37:41.689Z"
   },
   {
    "duration": 71,
    "start_time": "2023-06-14T06:37:41.710Z"
   },
   {
    "duration": 37,
    "start_time": "2023-06-14T06:37:41.784Z"
   },
   {
    "duration": 46,
    "start_time": "2023-06-14T06:37:41.824Z"
   },
   {
    "duration": 56,
    "start_time": "2023-06-14T06:37:41.873Z"
   },
   {
    "duration": 206,
    "start_time": "2023-06-14T06:37:41.931Z"
   },
   {
    "duration": 52,
    "start_time": "2023-06-14T06:37:42.140Z"
   },
   {
    "duration": 98,
    "start_time": "2023-06-14T06:37:42.195Z"
   },
   {
    "duration": 18,
    "start_time": "2023-06-14T06:37:42.295Z"
   },
   {
    "duration": 105,
    "start_time": "2023-06-14T06:37:42.315Z"
   },
   {
    "duration": 40,
    "start_time": "2023-06-14T06:37:42.423Z"
   },
   {
    "duration": 72,
    "start_time": "2023-06-14T06:37:42.465Z"
   },
   {
    "duration": 63,
    "start_time": "2023-06-14T06:37:42.539Z"
   },
   {
    "duration": 38,
    "start_time": "2023-06-14T06:37:42.604Z"
   },
   {
    "duration": 44,
    "start_time": "2023-06-14T06:37:42.660Z"
   },
   {
    "duration": 73,
    "start_time": "2023-06-14T06:37:42.707Z"
   },
   {
    "duration": 59,
    "start_time": "2023-06-14T06:37:42.781Z"
   },
   {
    "duration": 26,
    "start_time": "2023-06-14T06:37:42.842Z"
   },
   {
    "duration": 71,
    "start_time": "2023-06-14T06:37:42.872Z"
   },
   {
    "duration": 1759,
    "start_time": "2023-06-14T06:44:50.254Z"
   },
   {
    "duration": 1008,
    "start_time": "2023-06-14T06:44:52.015Z"
   },
   {
    "duration": 163,
    "start_time": "2023-06-14T06:44:53.025Z"
   },
   {
    "duration": 631,
    "start_time": "2023-06-14T06:44:53.191Z"
   },
   {
    "duration": 708,
    "start_time": "2023-06-14T06:44:53.825Z"
   },
   {
    "duration": 75,
    "start_time": "2023-06-14T06:44:54.535Z"
   },
   {
    "duration": 55,
    "start_time": "2023-06-14T06:44:54.612Z"
   },
   {
    "duration": 158,
    "start_time": "2023-06-14T06:44:54.669Z"
   },
   {
    "duration": 80,
    "start_time": "2023-06-14T06:44:54.829Z"
   },
   {
    "duration": 692,
    "start_time": "2023-06-14T06:44:54.911Z"
   },
   {
    "duration": 15,
    "start_time": "2023-06-14T06:44:55.605Z"
   },
   {
    "duration": 179,
    "start_time": "2023-06-14T06:44:55.622Z"
   },
   {
    "duration": 77,
    "start_time": "2023-06-14T06:44:55.803Z"
   },
   {
    "duration": 13,
    "start_time": "2023-06-14T06:44:55.885Z"
   },
   {
    "duration": 2375,
    "start_time": "2023-06-14T06:44:55.899Z"
   },
   {
    "duration": 17,
    "start_time": "2023-06-14T06:44:58.277Z"
   },
   {
    "duration": 34,
    "start_time": "2023-06-14T06:44:58.295Z"
   },
   {
    "duration": 119,
    "start_time": "2023-06-14T06:44:58.332Z"
   },
   {
    "duration": 52,
    "start_time": "2023-06-14T06:44:58.453Z"
   },
   {
    "duration": 82,
    "start_time": "2023-06-14T06:44:58.508Z"
   },
   {
    "duration": 260,
    "start_time": "2023-06-14T06:44:58.593Z"
   },
   {
    "duration": 42,
    "start_time": "2023-06-14T06:44:58.855Z"
   },
   {
    "duration": 107,
    "start_time": "2023-06-14T06:44:58.899Z"
   },
   {
    "duration": 21,
    "start_time": "2023-06-14T06:44:59.009Z"
   },
   {
    "duration": 104,
    "start_time": "2023-06-14T06:44:59.038Z"
   },
   {
    "duration": 33,
    "start_time": "2023-06-14T06:44:59.144Z"
   },
   {
    "duration": 96,
    "start_time": "2023-06-14T06:44:59.179Z"
   },
   {
    "duration": 90,
    "start_time": "2023-06-14T06:44:59.281Z"
   },
   {
    "duration": 118,
    "start_time": "2023-06-14T06:44:59.377Z"
   },
   {
    "duration": 0,
    "start_time": "2023-06-14T06:44:59.498Z"
   },
   {
    "duration": 0,
    "start_time": "2023-06-14T06:44:59.499Z"
   },
   {
    "duration": 0,
    "start_time": "2023-06-14T06:44:59.501Z"
   },
   {
    "duration": 0,
    "start_time": "2023-06-14T06:44:59.503Z"
   },
   {
    "duration": 0,
    "start_time": "2023-06-14T06:44:59.504Z"
   },
   {
    "duration": 0,
    "start_time": "2023-06-14T06:44:59.505Z"
   },
   {
    "duration": 1772,
    "start_time": "2023-06-14T06:45:15.555Z"
   },
   {
    "duration": 988,
    "start_time": "2023-06-14T06:45:17.330Z"
   },
   {
    "duration": 173,
    "start_time": "2023-06-14T06:45:18.319Z"
   },
   {
    "duration": 711,
    "start_time": "2023-06-14T06:45:18.498Z"
   },
   {
    "duration": 837,
    "start_time": "2023-06-14T06:45:19.211Z"
   },
   {
    "duration": 68,
    "start_time": "2023-06-14T06:45:20.050Z"
   },
   {
    "duration": 14,
    "start_time": "2023-06-14T06:45:20.120Z"
   },
   {
    "duration": 114,
    "start_time": "2023-06-14T06:45:20.135Z"
   },
   {
    "duration": 104,
    "start_time": "2023-06-14T06:45:20.251Z"
   },
   {
    "duration": 763,
    "start_time": "2023-06-14T06:45:20.359Z"
   },
   {
    "duration": 15,
    "start_time": "2023-06-14T06:45:21.124Z"
   },
   {
    "duration": 184,
    "start_time": "2023-06-14T06:45:21.141Z"
   },
   {
    "duration": 85,
    "start_time": "2023-06-14T06:45:21.327Z"
   },
   {
    "duration": 13,
    "start_time": "2023-06-14T06:45:21.414Z"
   },
   {
    "duration": 2622,
    "start_time": "2023-06-14T06:45:21.429Z"
   },
   {
    "duration": 35,
    "start_time": "2023-06-14T06:45:24.058Z"
   },
   {
    "duration": 35,
    "start_time": "2023-06-14T06:45:24.095Z"
   },
   {
    "duration": 60,
    "start_time": "2023-06-14T06:45:24.132Z"
   },
   {
    "duration": 45,
    "start_time": "2023-06-14T06:45:24.195Z"
   },
   {
    "duration": 83,
    "start_time": "2023-06-14T06:45:24.243Z"
   },
   {
    "duration": 207,
    "start_time": "2023-06-14T06:45:24.328Z"
   },
   {
    "duration": 29,
    "start_time": "2023-06-14T06:45:24.537Z"
   },
   {
    "duration": 75,
    "start_time": "2023-06-14T06:45:24.570Z"
   },
   {
    "duration": 31,
    "start_time": "2023-06-14T06:45:24.647Z"
   },
   {
    "duration": 85,
    "start_time": "2023-06-14T06:45:24.680Z"
   },
   {
    "duration": 32,
    "start_time": "2023-06-14T06:45:24.767Z"
   },
   {
    "duration": 93,
    "start_time": "2023-06-14T06:45:24.803Z"
   },
   {
    "duration": 46,
    "start_time": "2023-06-14T06:45:24.900Z"
   },
   {
    "duration": 238,
    "start_time": "2023-06-14T06:45:24.947Z"
   },
   {
    "duration": 0,
    "start_time": "2023-06-14T06:45:25.188Z"
   },
   {
    "duration": 0,
    "start_time": "2023-06-14T06:45:25.189Z"
   },
   {
    "duration": 0,
    "start_time": "2023-06-14T06:45:25.191Z"
   },
   {
    "duration": 0,
    "start_time": "2023-06-14T06:45:25.192Z"
   },
   {
    "duration": 0,
    "start_time": "2023-06-14T06:45:25.193Z"
   },
   {
    "duration": 0,
    "start_time": "2023-06-14T06:45:25.195Z"
   },
   {
    "duration": 1671,
    "start_time": "2023-06-14T06:45:44.984Z"
   },
   {
    "duration": 1062,
    "start_time": "2023-06-14T06:45:46.659Z"
   },
   {
    "duration": 185,
    "start_time": "2023-06-14T06:45:47.723Z"
   },
   {
    "duration": 643,
    "start_time": "2023-06-14T06:45:47.911Z"
   },
   {
    "duration": 780,
    "start_time": "2023-06-14T06:45:48.561Z"
   },
   {
    "duration": 79,
    "start_time": "2023-06-14T06:45:49.344Z"
   },
   {
    "duration": 24,
    "start_time": "2023-06-14T06:45:49.426Z"
   },
   {
    "duration": 138,
    "start_time": "2023-06-14T06:45:49.452Z"
   },
   {
    "duration": 92,
    "start_time": "2023-06-14T06:45:49.592Z"
   },
   {
    "duration": 817,
    "start_time": "2023-06-14T06:45:49.687Z"
   },
   {
    "duration": 14,
    "start_time": "2023-06-14T06:45:50.507Z"
   },
   {
    "duration": 188,
    "start_time": "2023-06-14T06:45:50.524Z"
   },
   {
    "duration": 90,
    "start_time": "2023-06-14T06:45:50.715Z"
   },
   {
    "duration": 13,
    "start_time": "2023-06-14T06:45:50.812Z"
   },
   {
    "duration": 2409,
    "start_time": "2023-06-14T06:45:50.828Z"
   },
   {
    "duration": 19,
    "start_time": "2023-06-14T06:45:53.239Z"
   },
   {
    "duration": 48,
    "start_time": "2023-06-14T06:45:53.260Z"
   },
   {
    "duration": 69,
    "start_time": "2023-06-14T06:45:53.310Z"
   },
   {
    "duration": 93,
    "start_time": "2023-06-14T06:45:53.386Z"
   },
   {
    "duration": 79,
    "start_time": "2023-06-14T06:45:53.496Z"
   },
   {
    "duration": 231,
    "start_time": "2023-06-14T06:45:53.578Z"
   },
   {
    "duration": 46,
    "start_time": "2023-06-14T06:45:53.812Z"
   },
   {
    "duration": 106,
    "start_time": "2023-06-14T06:45:53.865Z"
   },
   {
    "duration": 21,
    "start_time": "2023-06-14T06:45:53.973Z"
   },
   {
    "duration": 110,
    "start_time": "2023-06-14T06:45:53.996Z"
   },
   {
    "duration": 20,
    "start_time": "2023-06-14T06:45:54.113Z"
   },
   {
    "duration": 76,
    "start_time": "2023-06-14T06:45:54.135Z"
   },
   {
    "duration": 88,
    "start_time": "2023-06-14T06:45:54.214Z"
   },
   {
    "duration": 108,
    "start_time": "2023-06-14T06:45:54.305Z"
   },
   {
    "duration": 75,
    "start_time": "2023-06-14T06:45:54.416Z"
   },
   {
    "duration": 61,
    "start_time": "2023-06-14T06:45:54.500Z"
   },
   {
    "duration": 78,
    "start_time": "2023-06-14T06:45:54.564Z"
   },
   {
    "duration": 75,
    "start_time": "2023-06-14T06:45:54.655Z"
   },
   {
    "duration": 33,
    "start_time": "2023-06-14T06:45:54.733Z"
   },
   {
    "duration": 70,
    "start_time": "2023-06-14T06:45:54.768Z"
   },
   {
    "duration": 24,
    "start_time": "2023-06-14T06:47:05.767Z"
   },
   {
    "duration": 1962,
    "start_time": "2023-06-14T06:47:11.146Z"
   },
   {
    "duration": 1080,
    "start_time": "2023-06-14T06:47:13.111Z"
   },
   {
    "duration": 139,
    "start_time": "2023-06-14T06:47:14.193Z"
   },
   {
    "duration": 640,
    "start_time": "2023-06-14T06:47:14.335Z"
   },
   {
    "duration": 842,
    "start_time": "2023-06-14T06:47:14.983Z"
   },
   {
    "duration": 79,
    "start_time": "2023-06-14T06:47:15.827Z"
   },
   {
    "duration": 16,
    "start_time": "2023-06-14T06:47:15.908Z"
   },
   {
    "duration": 168,
    "start_time": "2023-06-14T06:47:15.927Z"
   },
   {
    "duration": 109,
    "start_time": "2023-06-14T06:47:16.097Z"
   },
   {
    "duration": 711,
    "start_time": "2023-06-14T06:47:16.211Z"
   },
   {
    "duration": 17,
    "start_time": "2023-06-14T06:47:16.924Z"
   },
   {
    "duration": 199,
    "start_time": "2023-06-14T06:47:16.943Z"
   },
   {
    "duration": 72,
    "start_time": "2023-06-14T06:47:17.145Z"
   },
   {
    "duration": 16,
    "start_time": "2023-06-14T06:47:17.219Z"
   },
   {
    "duration": 2898,
    "start_time": "2023-06-14T06:47:17.237Z"
   },
   {
    "duration": 31,
    "start_time": "2023-06-14T06:47:20.136Z"
   },
   {
    "duration": 37,
    "start_time": "2023-06-14T06:47:20.169Z"
   },
   {
    "duration": 77,
    "start_time": "2023-06-14T06:47:20.208Z"
   },
   {
    "duration": 36,
    "start_time": "2023-06-14T06:47:20.287Z"
   },
   {
    "duration": 66,
    "start_time": "2023-06-14T06:47:20.325Z"
   },
   {
    "duration": 228,
    "start_time": "2023-06-14T06:47:20.393Z"
   },
   {
    "duration": 56,
    "start_time": "2023-06-14T06:47:20.624Z"
   },
   {
    "duration": 129,
    "start_time": "2023-06-14T06:47:20.682Z"
   },
   {
    "duration": 22,
    "start_time": "2023-06-14T06:47:20.813Z"
   },
   {
    "duration": 116,
    "start_time": "2023-06-14T06:47:20.837Z"
   },
   {
    "duration": 35,
    "start_time": "2023-06-14T06:47:20.963Z"
   },
   {
    "duration": 91,
    "start_time": "2023-06-14T06:47:21.000Z"
   },
   {
    "duration": 94,
    "start_time": "2023-06-14T06:47:21.095Z"
   },
   {
    "duration": 107,
    "start_time": "2023-06-14T06:47:21.191Z"
   },
   {
    "duration": 17,
    "start_time": "2023-06-14T06:47:21.300Z"
   },
   {
    "duration": 64,
    "start_time": "2023-06-14T06:47:21.319Z"
   },
   {
    "duration": 49,
    "start_time": "2023-06-14T06:47:21.386Z"
   },
   {
    "duration": 66,
    "start_time": "2023-06-14T06:47:21.438Z"
   },
   {
    "duration": 48,
    "start_time": "2023-06-14T06:47:21.507Z"
   },
   {
    "duration": 36,
    "start_time": "2023-06-14T06:47:21.557Z"
   },
   {
    "duration": 72,
    "start_time": "2023-06-14T06:47:21.596Z"
   },
   {
    "duration": 188,
    "start_time": "2023-06-14T07:16:00.434Z"
   },
   {
    "duration": 2041,
    "start_time": "2023-06-14T07:17:12.185Z"
   },
   {
    "duration": 3236,
    "start_time": "2023-06-14T07:17:14.231Z"
   },
   {
    "duration": 248,
    "start_time": "2023-06-14T07:17:17.474Z"
   },
   {
    "duration": 560,
    "start_time": "2023-06-14T07:17:17.724Z"
   },
   {
    "duration": 799,
    "start_time": "2023-06-14T07:17:18.289Z"
   },
   {
    "duration": 68,
    "start_time": "2023-06-14T07:17:19.092Z"
   },
   {
    "duration": 24,
    "start_time": "2023-06-14T07:17:19.163Z"
   },
   {
    "duration": 153,
    "start_time": "2023-06-14T07:17:19.192Z"
   },
   {
    "duration": 103,
    "start_time": "2023-06-14T07:17:19.348Z"
   },
   {
    "duration": 998,
    "start_time": "2023-06-14T07:17:19.453Z"
   },
   {
    "duration": 35,
    "start_time": "2023-06-14T07:17:20.453Z"
   },
   {
    "duration": 203,
    "start_time": "2023-06-14T07:17:20.493Z"
   },
   {
    "duration": 89,
    "start_time": "2023-06-14T07:17:20.699Z"
   },
   {
    "duration": 14,
    "start_time": "2023-06-14T07:17:20.794Z"
   },
   {
    "duration": 2527,
    "start_time": "2023-06-14T07:17:20.810Z"
   },
   {
    "duration": 15,
    "start_time": "2023-06-14T07:17:23.339Z"
   },
   {
    "duration": 55,
    "start_time": "2023-06-14T07:17:23.356Z"
   },
   {
    "duration": 50,
    "start_time": "2023-06-14T07:17:23.414Z"
   },
   {
    "duration": 43,
    "start_time": "2023-06-14T07:17:23.477Z"
   },
   {
    "duration": 82,
    "start_time": "2023-06-14T07:17:23.522Z"
   },
   {
    "duration": 226,
    "start_time": "2023-06-14T07:17:23.606Z"
   },
   {
    "duration": 50,
    "start_time": "2023-06-14T07:17:23.836Z"
   },
   {
    "duration": 111,
    "start_time": "2023-06-14T07:17:23.888Z"
   },
   {
    "duration": 26,
    "start_time": "2023-06-14T07:17:24.002Z"
   },
   {
    "duration": 119,
    "start_time": "2023-06-14T07:17:24.030Z"
   },
   {
    "duration": 39,
    "start_time": "2023-06-14T07:17:24.152Z"
   },
   {
    "duration": 101,
    "start_time": "2023-06-14T07:17:24.194Z"
   },
   {
    "duration": 85,
    "start_time": "2023-06-14T07:17:24.298Z"
   },
   {
    "duration": 118,
    "start_time": "2023-06-14T07:17:24.384Z"
   },
   {
    "duration": 19,
    "start_time": "2023-06-14T07:17:24.504Z"
   },
   {
    "duration": 72,
    "start_time": "2023-06-14T07:17:24.525Z"
   },
   {
    "duration": 64,
    "start_time": "2023-06-14T07:17:24.599Z"
   },
   {
    "duration": 53,
    "start_time": "2023-06-14T07:17:24.672Z"
   },
   {
    "duration": 84,
    "start_time": "2023-06-14T07:17:24.728Z"
   },
   {
    "duration": 28,
    "start_time": "2023-06-14T07:17:24.815Z"
   },
   {
    "duration": 141,
    "start_time": "2023-06-14T07:17:24.846Z"
   },
   {
    "duration": 1432,
    "start_time": "2023-06-14T07:17:24.990Z"
   },
   {
    "duration": 5,
    "start_time": "2023-06-14T07:17:43.728Z"
   },
   {
    "duration": 12,
    "start_time": "2023-06-14T07:18:33.588Z"
   },
   {
    "duration": 8,
    "start_time": "2023-06-14T07:18:47.269Z"
   },
   {
    "duration": 4016,
    "start_time": "2023-06-14T07:19:42.337Z"
   },
   {
    "duration": 4,
    "start_time": "2023-06-14T07:24:54.784Z"
   },
   {
    "duration": 1536,
    "start_time": "2023-06-14T07:51:20.139Z"
   },
   {
    "duration": 983,
    "start_time": "2023-06-14T07:51:21.677Z"
   },
   {
    "duration": 113,
    "start_time": "2023-06-14T07:51:22.662Z"
   },
   {
    "duration": 388,
    "start_time": "2023-06-14T07:51:22.778Z"
   },
   {
    "duration": 478,
    "start_time": "2023-06-14T07:51:23.168Z"
   },
   {
    "duration": 45,
    "start_time": "2023-06-14T07:51:23.648Z"
   },
   {
    "duration": 24,
    "start_time": "2023-06-14T07:51:23.695Z"
   },
   {
    "duration": 73,
    "start_time": "2023-06-14T07:51:23.721Z"
   },
   {
    "duration": 67,
    "start_time": "2023-06-14T07:51:23.796Z"
   },
   {
    "duration": 483,
    "start_time": "2023-06-14T07:51:23.866Z"
   },
   {
    "duration": 12,
    "start_time": "2023-06-14T07:51:24.350Z"
   },
   {
    "duration": 103,
    "start_time": "2023-06-14T07:51:24.363Z"
   },
   {
    "duration": 55,
    "start_time": "2023-06-14T07:51:24.468Z"
   },
   {
    "duration": 7,
    "start_time": "2023-06-14T07:51:24.524Z"
   },
   {
    "duration": 1582,
    "start_time": "2023-06-14T07:51:24.533Z"
   },
   {
    "duration": 11,
    "start_time": "2023-06-14T07:51:26.117Z"
   },
   {
    "duration": 69,
    "start_time": "2023-06-14T07:51:26.129Z"
   },
   {
    "duration": 33,
    "start_time": "2023-06-14T07:51:26.199Z"
   },
   {
    "duration": 66,
    "start_time": "2023-06-14T07:51:26.234Z"
   },
   {
    "duration": 53,
    "start_time": "2023-06-14T07:51:26.301Z"
   },
   {
    "duration": 162,
    "start_time": "2023-06-14T07:51:26.355Z"
   },
   {
    "duration": 28,
    "start_time": "2023-06-14T07:51:26.518Z"
   },
   {
    "duration": 84,
    "start_time": "2023-06-14T07:51:26.547Z"
   },
   {
    "duration": 12,
    "start_time": "2023-06-14T07:51:26.633Z"
   },
   {
    "duration": 60,
    "start_time": "2023-06-14T07:51:26.646Z"
   },
   {
    "duration": 18,
    "start_time": "2023-06-14T07:51:26.708Z"
   },
   {
    "duration": 54,
    "start_time": "2023-06-14T07:51:26.728Z"
   },
   {
    "duration": 54,
    "start_time": "2023-06-14T07:51:26.787Z"
   },
   {
    "duration": 80,
    "start_time": "2023-06-14T07:51:26.843Z"
   },
   {
    "duration": 13,
    "start_time": "2023-06-14T07:51:26.924Z"
   },
   {
    "duration": 36,
    "start_time": "2023-06-14T07:51:26.939Z"
   },
   {
    "duration": 49,
    "start_time": "2023-06-14T07:51:26.977Z"
   },
   {
    "duration": 32,
    "start_time": "2023-06-14T07:51:27.028Z"
   },
   {
    "duration": 53,
    "start_time": "2023-06-14T07:51:27.062Z"
   },
   {
    "duration": 19,
    "start_time": "2023-06-14T07:51:27.117Z"
   },
   {
    "duration": 51,
    "start_time": "2023-06-14T07:51:27.138Z"
   },
   {
    "duration": 1026,
    "start_time": "2023-06-14T07:51:27.191Z"
   },
   {
    "duration": 3,
    "start_time": "2023-06-14T07:51:28.219Z"
   },
   {
    "duration": 13,
    "start_time": "2023-06-14T07:51:28.224Z"
   },
   {
    "duration": 13,
    "start_time": "2023-06-14T07:51:28.238Z"
   },
   {
    "duration": 2101,
    "start_time": "2023-06-14T07:51:28.252Z"
   },
   {
    "duration": 4,
    "start_time": "2023-06-14T07:51:30.354Z"
   },
   {
    "duration": 59,
    "start_time": "2023-06-14T07:51:30.359Z"
   },
   {
    "duration": 260,
    "start_time": "2023-06-14T07:51:30.420Z"
   },
   {
    "duration": 633,
    "start_time": "2023-06-14T07:51:30.682Z"
   },
   {
    "duration": 1591,
    "start_time": "2023-06-14T07:55:29.621Z"
   },
   {
    "duration": 986,
    "start_time": "2023-06-14T07:55:31.214Z"
   },
   {
    "duration": 111,
    "start_time": "2023-06-14T07:55:32.201Z"
   },
   {
    "duration": 380,
    "start_time": "2023-06-14T07:55:32.315Z"
   },
   {
    "duration": 482,
    "start_time": "2023-06-14T07:55:32.697Z"
   },
   {
    "duration": 49,
    "start_time": "2023-06-14T07:55:33.181Z"
   },
   {
    "duration": 9,
    "start_time": "2023-06-14T07:55:33.232Z"
   },
   {
    "duration": 82,
    "start_time": "2023-06-14T07:55:33.242Z"
   },
   {
    "duration": 61,
    "start_time": "2023-06-14T07:55:33.325Z"
   },
   {
    "duration": 479,
    "start_time": "2023-06-14T07:55:33.388Z"
   },
   {
    "duration": 13,
    "start_time": "2023-06-14T07:55:33.869Z"
   },
   {
    "duration": 119,
    "start_time": "2023-06-14T07:55:33.883Z"
   },
   {
    "duration": 55,
    "start_time": "2023-06-14T07:55:34.004Z"
   },
   {
    "duration": 9,
    "start_time": "2023-06-14T07:55:34.063Z"
   },
   {
    "duration": 1571,
    "start_time": "2023-06-14T07:55:34.073Z"
   },
   {
    "duration": 12,
    "start_time": "2023-06-14T07:55:35.645Z"
   },
   {
    "duration": 37,
    "start_time": "2023-06-14T07:55:35.659Z"
   },
   {
    "duration": 32,
    "start_time": "2023-06-14T07:55:35.715Z"
   },
   {
    "duration": 31,
    "start_time": "2023-06-14T07:55:35.748Z"
   },
   {
    "duration": 71,
    "start_time": "2023-06-14T07:55:35.781Z"
   },
   {
    "duration": 165,
    "start_time": "2023-06-14T07:55:35.854Z"
   },
   {
    "duration": 26,
    "start_time": "2023-06-14T07:55:36.020Z"
   },
   {
    "duration": 81,
    "start_time": "2023-06-14T07:55:36.047Z"
   },
   {
    "duration": 13,
    "start_time": "2023-06-14T07:55:36.129Z"
   },
   {
    "duration": 86,
    "start_time": "2023-06-14T07:55:36.143Z"
   },
   {
    "duration": 17,
    "start_time": "2023-06-14T07:55:36.231Z"
   },
   {
    "duration": 67,
    "start_time": "2023-06-14T07:55:36.249Z"
   },
   {
    "duration": 37,
    "start_time": "2023-06-14T07:55:36.317Z"
   },
   {
    "duration": 73,
    "start_time": "2023-06-14T07:55:36.355Z"
   },
   {
    "duration": 11,
    "start_time": "2023-06-14T07:55:36.430Z"
   },
   {
    "duration": 38,
    "start_time": "2023-06-14T07:55:36.443Z"
   },
   {
    "duration": 44,
    "start_time": "2023-06-14T07:55:36.482Z"
   },
   {
    "duration": 71,
    "start_time": "2023-06-14T07:55:36.528Z"
   },
   {
    "duration": 57,
    "start_time": "2023-06-14T07:55:36.601Z"
   },
   {
    "duration": 8,
    "start_time": "2023-06-14T07:55:36.659Z"
   },
   {
    "duration": 49,
    "start_time": "2023-06-14T07:55:36.669Z"
   },
   {
    "duration": 1026,
    "start_time": "2023-06-14T07:55:36.719Z"
   },
   {
    "duration": 3,
    "start_time": "2023-06-14T07:55:37.747Z"
   },
   {
    "duration": 11,
    "start_time": "2023-06-14T07:55:37.751Z"
   },
   {
    "duration": 6,
    "start_time": "2023-06-14T07:55:37.764Z"
   },
   {
    "duration": 2102,
    "start_time": "2023-06-14T07:55:37.773Z"
   },
   {
    "duration": 4,
    "start_time": "2023-06-14T07:55:39.877Z"
   },
   {
    "duration": 14,
    "start_time": "2023-06-14T07:55:39.882Z"
   },
   {
    "duration": 236,
    "start_time": "2023-06-14T07:55:39.898Z"
   },
   {
    "duration": 565,
    "start_time": "2023-06-14T07:55:40.136Z"
   },
   {
    "duration": 54,
    "start_time": "2023-06-14T07:57:10.699Z"
   },
   {
    "duration": 5,
    "start_time": "2023-06-14T07:57:31.139Z"
   },
   {
    "duration": 1442,
    "start_time": "2023-06-14T07:57:43.771Z"
   },
   {
    "duration": 1058,
    "start_time": "2023-06-14T07:57:45.215Z"
   },
   {
    "duration": 109,
    "start_time": "2023-06-14T07:57:46.274Z"
   },
   {
    "duration": 417,
    "start_time": "2023-06-14T07:57:46.385Z"
   },
   {
    "duration": 518,
    "start_time": "2023-06-14T07:57:46.804Z"
   },
   {
    "duration": 45,
    "start_time": "2023-06-14T07:57:47.324Z"
   },
   {
    "duration": 25,
    "start_time": "2023-06-14T07:57:47.371Z"
   },
   {
    "duration": 78,
    "start_time": "2023-06-14T07:57:47.397Z"
   },
   {
    "duration": 71,
    "start_time": "2023-06-14T07:57:47.476Z"
   },
   {
    "duration": 524,
    "start_time": "2023-06-14T07:57:47.550Z"
   },
   {
    "duration": 16,
    "start_time": "2023-06-14T07:57:48.076Z"
   },
   {
    "duration": 135,
    "start_time": "2023-06-14T07:57:48.094Z"
   },
   {
    "duration": 52,
    "start_time": "2023-06-14T07:57:48.231Z"
   },
   {
    "duration": 8,
    "start_time": "2023-06-14T07:57:48.285Z"
   },
   {
    "duration": 1652,
    "start_time": "2023-06-14T07:57:48.294Z"
   },
   {
    "duration": 11,
    "start_time": "2023-06-14T07:57:49.947Z"
   },
   {
    "duration": 26,
    "start_time": "2023-06-14T07:57:49.959Z"
   },
   {
    "duration": 68,
    "start_time": "2023-06-14T07:57:49.987Z"
   },
   {
    "duration": 32,
    "start_time": "2023-06-14T07:57:50.056Z"
   },
   {
    "duration": 68,
    "start_time": "2023-06-14T07:57:50.090Z"
   },
   {
    "duration": 163,
    "start_time": "2023-06-14T07:57:50.159Z"
   },
   {
    "duration": 24,
    "start_time": "2023-06-14T07:57:50.324Z"
   },
   {
    "duration": 73,
    "start_time": "2023-06-14T07:57:50.349Z"
   },
   {
    "duration": 19,
    "start_time": "2023-06-14T07:57:50.424Z"
   },
   {
    "duration": 71,
    "start_time": "2023-06-14T07:57:50.444Z"
   },
   {
    "duration": 16,
    "start_time": "2023-06-14T07:57:50.517Z"
   },
   {
    "duration": 51,
    "start_time": "2023-06-14T07:57:50.535Z"
   },
   {
    "duration": 55,
    "start_time": "2023-06-14T07:57:50.589Z"
   },
   {
    "duration": 83,
    "start_time": "2023-06-14T07:57:50.645Z"
   },
   {
    "duration": 15,
    "start_time": "2023-06-14T07:57:50.730Z"
   },
   {
    "duration": 47,
    "start_time": "2023-06-14T07:57:50.747Z"
   },
   {
    "duration": 50,
    "start_time": "2023-06-14T07:57:50.796Z"
   },
   {
    "duration": 30,
    "start_time": "2023-06-14T07:57:50.848Z"
   },
   {
    "duration": 53,
    "start_time": "2023-06-14T07:57:50.879Z"
   },
   {
    "duration": 24,
    "start_time": "2023-06-14T07:57:50.934Z"
   },
   {
    "duration": 62,
    "start_time": "2023-06-14T07:57:50.959Z"
   },
   {
    "duration": 1047,
    "start_time": "2023-06-14T07:57:51.023Z"
   },
   {
    "duration": 3,
    "start_time": "2023-06-14T07:57:52.072Z"
   },
   {
    "duration": 27,
    "start_time": "2023-06-14T07:57:52.076Z"
   },
   {
    "duration": 33,
    "start_time": "2023-06-14T07:57:52.105Z"
   },
   {
    "duration": 2307,
    "start_time": "2023-06-14T07:57:52.139Z"
   },
   {
    "duration": 4,
    "start_time": "2023-06-14T07:57:54.447Z"
   },
   {
    "duration": 50,
    "start_time": "2023-06-14T07:57:54.452Z"
   },
   {
    "duration": 235,
    "start_time": "2023-06-14T07:57:54.503Z"
   },
   {
    "duration": 662,
    "start_time": "2023-06-14T07:57:54.740Z"
   },
   {
    "duration": 95,
    "start_time": "2023-06-14T07:57:55.404Z"
   },
   {
    "duration": 126,
    "start_time": "2023-06-14T07:57:55.500Z"
   },
   {
    "duration": 0,
    "start_time": "2023-06-14T07:57:55.627Z"
   },
   {
    "duration": 1499,
    "start_time": "2023-06-14T08:14:34.591Z"
   },
   {
    "duration": 789,
    "start_time": "2023-06-14T08:14:36.092Z"
   },
   {
    "duration": 133,
    "start_time": "2023-06-14T08:14:36.883Z"
   },
   {
    "duration": 452,
    "start_time": "2023-06-14T08:14:37.019Z"
   },
   {
    "duration": 537,
    "start_time": "2023-06-14T08:14:37.473Z"
   },
   {
    "duration": 53,
    "start_time": "2023-06-14T08:14:38.012Z"
   },
   {
    "duration": 15,
    "start_time": "2023-06-14T08:14:38.067Z"
   },
   {
    "duration": 112,
    "start_time": "2023-06-14T08:14:38.084Z"
   },
   {
    "duration": 66,
    "start_time": "2023-06-14T08:14:38.198Z"
   },
   {
    "duration": 522,
    "start_time": "2023-06-14T08:14:38.267Z"
   },
   {
    "duration": 25,
    "start_time": "2023-06-14T08:14:38.791Z"
   },
   {
    "duration": 109,
    "start_time": "2023-06-14T08:14:38.818Z"
   },
   {
    "duration": 53,
    "start_time": "2023-06-14T08:14:38.929Z"
   },
   {
    "duration": 8,
    "start_time": "2023-06-14T08:14:38.984Z"
   },
   {
    "duration": 1779,
    "start_time": "2023-06-14T08:14:38.994Z"
   },
   {
    "duration": 13,
    "start_time": "2023-06-14T08:14:40.775Z"
   },
   {
    "duration": 254,
    "start_time": "2023-06-14T08:14:40.790Z"
   },
   {
    "duration": 94,
    "start_time": "2023-06-14T08:14:41.045Z"
   },
   {
    "duration": 33,
    "start_time": "2023-06-14T08:14:41.142Z"
   },
   {
    "duration": 75,
    "start_time": "2023-06-14T08:14:41.177Z"
   },
   {
    "duration": 179,
    "start_time": "2023-06-14T08:14:41.253Z"
   },
   {
    "duration": 27,
    "start_time": "2023-06-14T08:14:41.434Z"
   },
   {
    "duration": 74,
    "start_time": "2023-06-14T08:14:41.463Z"
   },
   {
    "duration": 25,
    "start_time": "2023-06-14T08:14:41.539Z"
   },
   {
    "duration": 67,
    "start_time": "2023-06-14T08:14:41.566Z"
   },
   {
    "duration": 17,
    "start_time": "2023-06-14T08:14:41.635Z"
   },
   {
    "duration": 76,
    "start_time": "2023-06-14T08:14:41.654Z"
   },
   {
    "duration": 41,
    "start_time": "2023-06-14T08:14:41.734Z"
   },
   {
    "duration": 100,
    "start_time": "2023-06-14T08:14:41.777Z"
   },
   {
    "duration": 16,
    "start_time": "2023-06-14T08:14:41.879Z"
   },
   {
    "duration": 51,
    "start_time": "2023-06-14T08:14:41.897Z"
   },
   {
    "duration": 38,
    "start_time": "2023-06-14T08:14:41.949Z"
   },
   {
    "duration": 55,
    "start_time": "2023-06-14T08:14:41.989Z"
   },
   {
    "duration": 39,
    "start_time": "2023-06-14T08:14:42.046Z"
   },
   {
    "duration": 38,
    "start_time": "2023-06-14T08:14:42.087Z"
   },
   {
    "duration": 52,
    "start_time": "2023-06-14T08:14:42.127Z"
   },
   {
    "duration": 1144,
    "start_time": "2023-06-14T08:14:42.181Z"
   },
   {
    "duration": 4,
    "start_time": "2023-06-14T08:14:43.328Z"
   },
   {
    "duration": 22,
    "start_time": "2023-06-14T08:14:43.335Z"
   },
   {
    "duration": 9,
    "start_time": "2023-06-14T08:14:43.359Z"
   },
   {
    "duration": 2189,
    "start_time": "2023-06-14T08:14:43.370Z"
   },
   {
    "duration": 5,
    "start_time": "2023-06-14T08:14:45.562Z"
   },
   {
    "duration": 25,
    "start_time": "2023-06-14T08:14:45.569Z"
   },
   {
    "duration": 241,
    "start_time": "2023-06-14T08:14:45.597Z"
   },
   {
    "duration": 636,
    "start_time": "2023-06-14T08:14:45.841Z"
   },
   {
    "duration": 1421,
    "start_time": "2023-06-14T08:20:26.190Z"
   },
   {
    "duration": 1105,
    "start_time": "2023-06-14T08:20:27.612Z"
   },
   {
    "duration": 130,
    "start_time": "2023-06-14T08:20:28.730Z"
   },
   {
    "duration": 433,
    "start_time": "2023-06-14T08:20:28.862Z"
   },
   {
    "duration": 516,
    "start_time": "2023-06-14T08:20:29.297Z"
   },
   {
    "duration": 58,
    "start_time": "2023-06-14T08:20:29.815Z"
   },
   {
    "duration": 13,
    "start_time": "2023-06-14T08:20:29.875Z"
   },
   {
    "duration": 108,
    "start_time": "2023-06-14T08:20:29.890Z"
   },
   {
    "duration": 62,
    "start_time": "2023-06-14T08:20:30.000Z"
   },
   {
    "duration": 534,
    "start_time": "2023-06-14T08:20:30.064Z"
   },
   {
    "duration": 27,
    "start_time": "2023-06-14T08:20:30.600Z"
   },
   {
    "duration": 124,
    "start_time": "2023-06-14T08:20:30.629Z"
   },
   {
    "duration": 73,
    "start_time": "2023-06-14T08:20:30.755Z"
   },
   {
    "duration": 8,
    "start_time": "2023-06-14T08:20:30.830Z"
   },
   {
    "duration": 1702,
    "start_time": "2023-06-14T08:20:30.840Z"
   },
   {
    "duration": 11,
    "start_time": "2023-06-14T08:20:32.544Z"
   },
   {
    "duration": 49,
    "start_time": "2023-06-14T08:20:32.557Z"
   },
   {
    "duration": 65,
    "start_time": "2023-06-14T08:20:32.607Z"
   },
   {
    "duration": 30,
    "start_time": "2023-06-14T08:20:32.674Z"
   },
   {
    "duration": 59,
    "start_time": "2023-06-14T08:20:32.706Z"
   },
   {
    "duration": 169,
    "start_time": "2023-06-14T08:20:32.766Z"
   },
   {
    "duration": 25,
    "start_time": "2023-06-14T08:20:32.937Z"
   },
   {
    "duration": 77,
    "start_time": "2023-06-14T08:20:32.963Z"
   },
   {
    "duration": 12,
    "start_time": "2023-06-14T08:20:33.042Z"
   },
   {
    "duration": 84,
    "start_time": "2023-06-14T08:20:33.056Z"
   },
   {
    "duration": 18,
    "start_time": "2023-06-14T08:20:33.142Z"
   },
   {
    "duration": 75,
    "start_time": "2023-06-14T08:20:33.162Z"
   },
   {
    "duration": 45,
    "start_time": "2023-06-14T08:20:33.241Z"
   },
   {
    "duration": 88,
    "start_time": "2023-06-14T08:20:33.287Z"
   },
   {
    "duration": 17,
    "start_time": "2023-06-14T08:20:33.376Z"
   },
   {
    "duration": 79,
    "start_time": "2023-06-14T08:20:33.394Z"
   },
   {
    "duration": 68,
    "start_time": "2023-06-14T08:20:33.475Z"
   },
   {
    "duration": 32,
    "start_time": "2023-06-14T08:20:33.544Z"
   },
   {
    "duration": 49,
    "start_time": "2023-06-14T08:20:33.577Z"
   },
   {
    "duration": 13,
    "start_time": "2023-06-14T08:20:33.628Z"
   },
   {
    "duration": 53,
    "start_time": "2023-06-14T08:20:33.642Z"
   },
   {
    "duration": 1073,
    "start_time": "2023-06-14T08:20:33.696Z"
   },
   {
    "duration": 4,
    "start_time": "2023-06-14T08:20:34.770Z"
   },
   {
    "duration": 12,
    "start_time": "2023-06-14T08:20:34.776Z"
   },
   {
    "duration": 7,
    "start_time": "2023-06-14T08:20:34.790Z"
   },
   {
    "duration": 1787,
    "start_time": "2023-06-14T08:20:34.799Z"
   },
   {
    "duration": 4,
    "start_time": "2023-06-14T08:20:36.587Z"
   },
   {
    "duration": 35,
    "start_time": "2023-06-14T08:20:36.593Z"
   },
   {
    "duration": 261,
    "start_time": "2023-06-14T08:20:36.629Z"
   },
   {
    "duration": 668,
    "start_time": "2023-06-14T08:20:36.891Z"
   },
   {
    "duration": 18,
    "start_time": "2023-06-14T08:23:19.537Z"
   },
   {
    "duration": 1398,
    "start_time": "2023-06-14T08:27:37.121Z"
   },
   {
    "duration": 755,
    "start_time": "2023-06-14T08:27:38.520Z"
   },
   {
    "duration": 120,
    "start_time": "2023-06-14T08:27:39.276Z"
   },
   {
    "duration": 398,
    "start_time": "2023-06-14T08:27:39.398Z"
   },
   {
    "duration": 514,
    "start_time": "2023-06-14T08:27:39.797Z"
   },
   {
    "duration": 48,
    "start_time": "2023-06-14T08:27:40.312Z"
   },
   {
    "duration": 11,
    "start_time": "2023-06-14T08:27:40.362Z"
   },
   {
    "duration": 93,
    "start_time": "2023-06-14T08:27:40.374Z"
   },
   {
    "duration": 68,
    "start_time": "2023-06-14T08:27:40.468Z"
   },
   {
    "duration": 485,
    "start_time": "2023-06-14T08:27:40.538Z"
   },
   {
    "duration": 11,
    "start_time": "2023-06-14T08:27:41.025Z"
   },
   {
    "duration": 111,
    "start_time": "2023-06-14T08:27:41.038Z"
   },
   {
    "duration": 50,
    "start_time": "2023-06-14T08:27:41.150Z"
   },
   {
    "duration": 15,
    "start_time": "2023-06-14T08:27:41.201Z"
   },
   {
    "duration": 1591,
    "start_time": "2023-06-14T08:27:41.218Z"
   },
   {
    "duration": 13,
    "start_time": "2023-06-14T08:27:42.811Z"
   },
   {
    "duration": 24,
    "start_time": "2023-06-14T08:27:42.825Z"
   },
   {
    "duration": 31,
    "start_time": "2023-06-14T08:27:42.850Z"
   },
   {
    "duration": 56,
    "start_time": "2023-06-14T08:27:42.882Z"
   },
   {
    "duration": 50,
    "start_time": "2023-06-14T08:27:42.939Z"
   },
   {
    "duration": 172,
    "start_time": "2023-06-14T08:27:42.990Z"
   },
   {
    "duration": 25,
    "start_time": "2023-06-14T08:27:43.163Z"
   },
   {
    "duration": 69,
    "start_time": "2023-06-14T08:27:43.190Z"
   },
   {
    "duration": 12,
    "start_time": "2023-06-14T08:27:43.260Z"
   },
   {
    "duration": 70,
    "start_time": "2023-06-14T08:27:43.274Z"
   },
   {
    "duration": 17,
    "start_time": "2023-06-14T08:27:43.346Z"
   },
   {
    "duration": 67,
    "start_time": "2023-06-14T08:27:43.364Z"
   },
   {
    "duration": 39,
    "start_time": "2023-06-14T08:27:43.434Z"
   },
   {
    "duration": 76,
    "start_time": "2023-06-14T08:27:43.474Z"
   },
   {
    "duration": 15,
    "start_time": "2023-06-14T08:27:43.551Z"
   },
   {
    "duration": 49,
    "start_time": "2023-06-14T08:27:43.567Z"
   },
   {
    "duration": 32,
    "start_time": "2023-06-14T08:27:43.618Z"
   },
   {
    "duration": 30,
    "start_time": "2023-06-14T08:27:43.651Z"
   },
   {
    "duration": 2067,
    "start_time": "2023-06-14T08:27:43.683Z"
   },
   {
    "duration": 0,
    "start_time": "2023-06-14T08:27:45.751Z"
   },
   {
    "duration": 0,
    "start_time": "2023-06-14T08:27:45.753Z"
   },
   {
    "duration": 0,
    "start_time": "2023-06-14T08:27:45.755Z"
   },
   {
    "duration": 0,
    "start_time": "2023-06-14T08:27:45.756Z"
   },
   {
    "duration": 0,
    "start_time": "2023-06-14T08:27:45.758Z"
   },
   {
    "duration": 0,
    "start_time": "2023-06-14T08:27:45.759Z"
   },
   {
    "duration": 0,
    "start_time": "2023-06-14T08:27:45.760Z"
   },
   {
    "duration": 0,
    "start_time": "2023-06-14T08:27:45.762Z"
   },
   {
    "duration": 0,
    "start_time": "2023-06-14T08:27:45.763Z"
   },
   {
    "duration": 0,
    "start_time": "2023-06-14T08:27:45.764Z"
   },
   {
    "duration": 0,
    "start_time": "2023-06-14T08:27:45.765Z"
   },
   {
    "duration": 0,
    "start_time": "2023-06-14T08:27:45.766Z"
   },
   {
    "duration": 0,
    "start_time": "2023-06-14T08:27:45.767Z"
   },
   {
    "duration": 23,
    "start_time": "2023-06-14T08:27:52.294Z"
   },
   {
    "duration": 37,
    "start_time": "2023-06-14T08:27:55.036Z"
   },
   {
    "duration": 1486,
    "start_time": "2023-06-14T08:28:06.727Z"
   },
   {
    "duration": 741,
    "start_time": "2023-06-14T08:28:08.215Z"
   },
   {
    "duration": 133,
    "start_time": "2023-06-14T08:28:08.958Z"
   },
   {
    "duration": 405,
    "start_time": "2023-06-14T08:28:09.093Z"
   },
   {
    "duration": 501,
    "start_time": "2023-06-14T08:28:09.500Z"
   },
   {
    "duration": 45,
    "start_time": "2023-06-14T08:28:10.003Z"
   },
   {
    "duration": 44,
    "start_time": "2023-06-14T08:28:10.049Z"
   },
   {
    "duration": 82,
    "start_time": "2023-06-14T08:28:10.094Z"
   },
   {
    "duration": 64,
    "start_time": "2023-06-14T08:28:10.178Z"
   },
   {
    "duration": 494,
    "start_time": "2023-06-14T08:28:10.243Z"
   },
   {
    "duration": 12,
    "start_time": "2023-06-14T08:28:10.739Z"
   },
   {
    "duration": 144,
    "start_time": "2023-06-14T08:28:10.752Z"
   },
   {
    "duration": 56,
    "start_time": "2023-06-14T08:28:10.898Z"
   },
   {
    "duration": 7,
    "start_time": "2023-06-14T08:28:10.957Z"
   },
   {
    "duration": 1610,
    "start_time": "2023-06-14T08:28:10.965Z"
   },
   {
    "duration": 11,
    "start_time": "2023-06-14T08:28:12.576Z"
   },
   {
    "duration": 38,
    "start_time": "2023-06-14T08:28:12.588Z"
   },
   {
    "duration": 44,
    "start_time": "2023-06-14T08:28:12.628Z"
   },
   {
    "duration": 41,
    "start_time": "2023-06-14T08:28:12.674Z"
   },
   {
    "duration": 46,
    "start_time": "2023-06-14T08:28:12.717Z"
   },
   {
    "duration": 177,
    "start_time": "2023-06-14T08:28:12.764Z"
   },
   {
    "duration": 26,
    "start_time": "2023-06-14T08:28:12.943Z"
   },
   {
    "duration": 75,
    "start_time": "2023-06-14T08:28:12.971Z"
   },
   {
    "duration": 29,
    "start_time": "2023-06-14T08:28:13.047Z"
   },
   {
    "duration": 88,
    "start_time": "2023-06-14T08:28:13.078Z"
   },
   {
    "duration": 19,
    "start_time": "2023-06-14T08:28:13.168Z"
   },
   {
    "duration": 67,
    "start_time": "2023-06-14T08:28:13.188Z"
   },
   {
    "duration": 40,
    "start_time": "2023-06-14T08:28:13.256Z"
   },
   {
    "duration": 86,
    "start_time": "2023-06-14T08:28:13.297Z"
   },
   {
    "duration": 11,
    "start_time": "2023-06-14T08:28:13.385Z"
   },
   {
    "duration": 47,
    "start_time": "2023-06-14T08:28:13.398Z"
   },
   {
    "duration": 35,
    "start_time": "2023-06-14T08:28:13.446Z"
   },
   {
    "duration": 67,
    "start_time": "2023-06-14T08:28:13.483Z"
   },
   {
    "duration": 61,
    "start_time": "2023-06-14T08:28:13.552Z"
   },
   {
    "duration": 39,
    "start_time": "2023-06-14T08:28:13.615Z"
   },
   {
    "duration": 10,
    "start_time": "2023-06-14T08:28:13.656Z"
   },
   {
    "duration": 69,
    "start_time": "2023-06-14T08:28:13.668Z"
   },
   {
    "duration": 1103,
    "start_time": "2023-06-14T08:28:13.738Z"
   },
   {
    "duration": 3,
    "start_time": "2023-06-14T08:28:14.842Z"
   },
   {
    "duration": 28,
    "start_time": "2023-06-14T08:28:14.847Z"
   },
   {
    "duration": 20,
    "start_time": "2023-06-14T08:28:14.878Z"
   },
   {
    "duration": 1368,
    "start_time": "2023-06-14T08:28:14.900Z"
   },
   {
    "duration": 3,
    "start_time": "2023-06-14T08:28:16.270Z"
   },
   {
    "duration": 2419,
    "start_time": "2023-06-14T08:28:16.274Z"
   },
   {
    "duration": 0,
    "start_time": "2023-06-14T08:28:18.694Z"
   },
   {
    "duration": 0,
    "start_time": "2023-06-14T08:28:18.696Z"
   },
   {
    "duration": 0,
    "start_time": "2023-06-14T08:28:18.696Z"
   },
   {
    "duration": 15,
    "start_time": "2023-06-14T08:29:51.572Z"
   },
   {
    "duration": 1791,
    "start_time": "2023-06-14T08:30:08.123Z"
   },
   {
    "duration": 781,
    "start_time": "2023-06-14T08:30:09.916Z"
   },
   {
    "duration": 128,
    "start_time": "2023-06-14T08:30:10.699Z"
   },
   {
    "duration": 427,
    "start_time": "2023-06-14T08:30:10.830Z"
   },
   {
    "duration": 489,
    "start_time": "2023-06-14T08:30:11.258Z"
   },
   {
    "duration": 45,
    "start_time": "2023-06-14T08:30:11.748Z"
   },
   {
    "duration": 24,
    "start_time": "2023-06-14T08:30:11.794Z"
   },
   {
    "duration": 87,
    "start_time": "2023-06-14T08:30:11.819Z"
   },
   {
    "duration": 57,
    "start_time": "2023-06-14T08:30:11.907Z"
   },
   {
    "duration": 490,
    "start_time": "2023-06-14T08:30:11.967Z"
   },
   {
    "duration": 11,
    "start_time": "2023-06-14T08:30:12.459Z"
   },
   {
    "duration": 119,
    "start_time": "2023-06-14T08:30:12.472Z"
   },
   {
    "duration": 57,
    "start_time": "2023-06-14T08:30:12.592Z"
   },
   {
    "duration": 8,
    "start_time": "2023-06-14T08:30:12.650Z"
   },
   {
    "duration": 1659,
    "start_time": "2023-06-14T08:30:12.659Z"
   },
   {
    "duration": 11,
    "start_time": "2023-06-14T08:30:14.319Z"
   },
   {
    "duration": 32,
    "start_time": "2023-06-14T08:30:14.331Z"
   },
   {
    "duration": 86,
    "start_time": "2023-06-14T08:30:14.364Z"
   },
   {
    "duration": 30,
    "start_time": "2023-06-14T08:30:14.452Z"
   },
   {
    "duration": 53,
    "start_time": "2023-06-14T08:30:14.483Z"
   },
   {
    "duration": 162,
    "start_time": "2023-06-14T08:30:14.538Z"
   },
   {
    "duration": 26,
    "start_time": "2023-06-14T08:30:14.702Z"
   },
   {
    "duration": 60,
    "start_time": "2023-06-14T08:30:14.730Z"
   },
   {
    "duration": 24,
    "start_time": "2023-06-14T08:30:14.792Z"
   },
   {
    "duration": 67,
    "start_time": "2023-06-14T08:30:14.818Z"
   },
   {
    "duration": 17,
    "start_time": "2023-06-14T08:30:14.887Z"
   },
   {
    "duration": 58,
    "start_time": "2023-06-14T08:30:14.905Z"
   },
   {
    "duration": 57,
    "start_time": "2023-06-14T08:30:14.965Z"
   },
   {
    "duration": 63,
    "start_time": "2023-06-14T08:30:15.023Z"
   },
   {
    "duration": 13,
    "start_time": "2023-06-14T08:30:15.087Z"
   },
   {
    "duration": 32,
    "start_time": "2023-06-14T08:30:15.116Z"
   },
   {
    "duration": 43,
    "start_time": "2023-06-14T08:30:15.150Z"
   },
   {
    "duration": 55,
    "start_time": "2023-06-14T08:30:15.194Z"
   },
   {
    "duration": 49,
    "start_time": "2023-06-14T08:30:15.251Z"
   },
   {
    "duration": 24,
    "start_time": "2023-06-14T08:30:15.301Z"
   },
   {
    "duration": 39,
    "start_time": "2023-06-14T08:30:15.327Z"
   },
   {
    "duration": 10,
    "start_time": "2023-06-14T08:30:15.367Z"
   },
   {
    "duration": 66,
    "start_time": "2023-06-14T08:30:15.379Z"
   },
   {
    "duration": 1043,
    "start_time": "2023-06-14T08:30:15.446Z"
   },
   {
    "duration": 2,
    "start_time": "2023-06-14T08:30:16.491Z"
   },
   {
    "duration": 45,
    "start_time": "2023-06-14T08:30:16.495Z"
   },
   {
    "duration": 7,
    "start_time": "2023-06-14T08:30:16.542Z"
   },
   {
    "duration": 1687,
    "start_time": "2023-06-14T08:30:16.551Z"
   },
   {
    "duration": 4,
    "start_time": "2023-06-14T08:30:18.239Z"
   },
   {
    "duration": 6919,
    "start_time": "2023-06-14T08:30:18.245Z"
   },
   {
    "duration": 0,
    "start_time": "2023-06-14T08:30:25.166Z"
   },
   {
    "duration": 0,
    "start_time": "2023-06-14T08:30:25.168Z"
   },
   {
    "duration": 0,
    "start_time": "2023-06-14T08:30:25.168Z"
   },
   {
    "duration": 7,
    "start_time": "2023-06-14T08:31:03.335Z"
   },
   {
    "duration": 10,
    "start_time": "2023-06-14T08:31:55.572Z"
   },
   {
    "duration": 13,
    "start_time": "2023-06-14T08:31:58.126Z"
   },
   {
    "duration": 2104,
    "start_time": "2023-06-14T08:32:06.459Z"
   },
   {
    "duration": 777,
    "start_time": "2023-06-14T08:32:08.565Z"
   },
   {
    "duration": 123,
    "start_time": "2023-06-14T08:32:09.344Z"
   },
   {
    "duration": 414,
    "start_time": "2023-06-14T08:32:09.469Z"
   },
   {
    "duration": 524,
    "start_time": "2023-06-14T08:32:09.885Z"
   },
   {
    "duration": 50,
    "start_time": "2023-06-14T08:32:10.411Z"
   },
   {
    "duration": 11,
    "start_time": "2023-06-14T08:32:10.462Z"
   },
   {
    "duration": 92,
    "start_time": "2023-06-14T08:32:10.474Z"
   },
   {
    "duration": 72,
    "start_time": "2023-06-14T08:32:10.567Z"
   },
   {
    "duration": 509,
    "start_time": "2023-06-14T08:32:10.641Z"
   },
   {
    "duration": 14,
    "start_time": "2023-06-14T08:32:11.152Z"
   },
   {
    "duration": 140,
    "start_time": "2023-06-14T08:32:11.167Z"
   },
   {
    "duration": 53,
    "start_time": "2023-06-14T08:32:11.309Z"
   },
   {
    "duration": 9,
    "start_time": "2023-06-14T08:32:11.366Z"
   },
   {
    "duration": 1612,
    "start_time": "2023-06-14T08:32:11.377Z"
   },
   {
    "duration": 12,
    "start_time": "2023-06-14T08:32:12.990Z"
   },
   {
    "duration": 27,
    "start_time": "2023-06-14T08:32:13.016Z"
   },
   {
    "duration": 51,
    "start_time": "2023-06-14T08:32:13.045Z"
   },
   {
    "duration": 32,
    "start_time": "2023-06-14T08:32:13.116Z"
   },
   {
    "duration": 67,
    "start_time": "2023-06-14T08:32:13.150Z"
   },
   {
    "duration": 178,
    "start_time": "2023-06-14T08:32:13.219Z"
   },
   {
    "duration": 32,
    "start_time": "2023-06-14T08:32:13.399Z"
   },
   {
    "duration": 68,
    "start_time": "2023-06-14T08:32:13.433Z"
   },
   {
    "duration": 30,
    "start_time": "2023-06-14T08:32:13.516Z"
   },
   {
    "duration": 74,
    "start_time": "2023-06-14T08:32:13.548Z"
   },
   {
    "duration": 18,
    "start_time": "2023-06-14T08:32:13.624Z"
   },
   {
    "duration": 57,
    "start_time": "2023-06-14T08:32:13.644Z"
   },
   {
    "duration": 38,
    "start_time": "2023-06-14T08:32:13.716Z"
   },
   {
    "duration": 77,
    "start_time": "2023-06-14T08:32:13.756Z"
   },
   {
    "duration": 13,
    "start_time": "2023-06-14T08:32:13.835Z"
   },
   {
    "duration": 44,
    "start_time": "2023-06-14T08:32:13.849Z"
   },
   {
    "duration": 49,
    "start_time": "2023-06-14T08:32:13.894Z"
   },
   {
    "duration": 49,
    "start_time": "2023-06-14T08:32:13.945Z"
   },
   {
    "duration": 43,
    "start_time": "2023-06-14T08:32:13.996Z"
   },
   {
    "duration": 16,
    "start_time": "2023-06-14T08:32:14.041Z"
   },
   {
    "duration": 46,
    "start_time": "2023-06-14T08:32:14.058Z"
   },
   {
    "duration": 11,
    "start_time": "2023-06-14T08:32:14.106Z"
   },
   {
    "duration": 52,
    "start_time": "2023-06-14T08:32:14.118Z"
   },
   {
    "duration": 1014,
    "start_time": "2023-06-14T08:32:14.172Z"
   },
   {
    "duration": 3,
    "start_time": "2023-06-14T08:32:15.188Z"
   },
   {
    "duration": 24,
    "start_time": "2023-06-14T08:32:15.195Z"
   },
   {
    "duration": 61,
    "start_time": "2023-06-14T08:32:15.220Z"
   },
   {
    "duration": 1963,
    "start_time": "2023-06-14T08:32:15.283Z"
   },
   {
    "duration": 3,
    "start_time": "2023-06-14T08:32:17.248Z"
   },
   {
    "duration": 10,
    "start_time": "2023-06-14T08:32:17.252Z"
   },
   {
    "duration": 255,
    "start_time": "2023-06-14T08:32:17.263Z"
   },
   {
    "duration": 591,
    "start_time": "2023-06-14T08:32:17.520Z"
   },
   {
    "duration": 23,
    "start_time": "2023-06-14T08:32:18.113Z"
   },
   {
    "duration": 1634,
    "start_time": "2023-06-14T08:40:36.906Z"
   },
   {
    "duration": 967,
    "start_time": "2023-06-14T08:40:38.541Z"
   },
   {
    "duration": 113,
    "start_time": "2023-06-14T08:40:39.509Z"
   },
   {
    "duration": 418,
    "start_time": "2023-06-14T08:40:39.623Z"
   },
   {
    "duration": 483,
    "start_time": "2023-06-14T08:40:40.043Z"
   },
   {
    "duration": 46,
    "start_time": "2023-06-14T08:40:40.527Z"
   },
   {
    "duration": 16,
    "start_time": "2023-06-14T08:40:40.575Z"
   },
   {
    "duration": 88,
    "start_time": "2023-06-14T08:40:40.592Z"
   },
   {
    "duration": 66,
    "start_time": "2023-06-14T08:40:40.682Z"
   },
   {
    "duration": 489,
    "start_time": "2023-06-14T08:40:40.750Z"
   },
   {
    "duration": 12,
    "start_time": "2023-06-14T08:40:41.240Z"
   },
   {
    "duration": 117,
    "start_time": "2023-06-14T08:40:41.253Z"
   },
   {
    "duration": 60,
    "start_time": "2023-06-14T08:40:41.371Z"
   },
   {
    "duration": 7,
    "start_time": "2023-06-14T08:40:41.434Z"
   },
   {
    "duration": 1621,
    "start_time": "2023-06-14T08:40:41.442Z"
   },
   {
    "duration": 11,
    "start_time": "2023-06-14T08:40:43.065Z"
   },
   {
    "duration": 49,
    "start_time": "2023-06-14T08:40:43.077Z"
   },
   {
    "duration": 45,
    "start_time": "2023-06-14T08:40:43.127Z"
   },
   {
    "duration": 48,
    "start_time": "2023-06-14T08:40:43.174Z"
   },
   {
    "duration": 48,
    "start_time": "2023-06-14T08:40:43.224Z"
   },
   {
    "duration": 171,
    "start_time": "2023-06-14T08:40:43.274Z"
   },
   {
    "duration": 27,
    "start_time": "2023-06-14T08:40:43.446Z"
   },
   {
    "duration": 164,
    "start_time": "2023-06-14T08:40:43.474Z"
   },
   {
    "duration": 24,
    "start_time": "2023-06-14T08:40:43.640Z"
   },
   {
    "duration": 74,
    "start_time": "2023-06-14T08:40:43.665Z"
   },
   {
    "duration": 19,
    "start_time": "2023-06-14T08:40:43.741Z"
   },
   {
    "duration": 91,
    "start_time": "2023-06-14T08:40:43.761Z"
   },
   {
    "duration": 42,
    "start_time": "2023-06-14T08:40:43.854Z"
   },
   {
    "duration": 81,
    "start_time": "2023-06-14T08:40:43.897Z"
   },
   {
    "duration": 13,
    "start_time": "2023-06-14T08:40:43.979Z"
   },
   {
    "duration": 53,
    "start_time": "2023-06-14T08:40:43.994Z"
   },
   {
    "duration": 34,
    "start_time": "2023-06-14T08:40:44.048Z"
   },
   {
    "duration": 50,
    "start_time": "2023-06-14T08:40:44.084Z"
   },
   {
    "duration": 33,
    "start_time": "2023-06-14T08:40:44.136Z"
   },
   {
    "duration": 108,
    "start_time": "2023-06-14T08:40:44.171Z"
   },
   {
    "duration": 184,
    "start_time": "2023-06-14T08:40:44.282Z"
   },
   {
    "duration": 45,
    "start_time": "2023-06-14T08:40:44.468Z"
   },
   {
    "duration": 1033,
    "start_time": "2023-06-14T08:40:44.515Z"
   },
   {
    "duration": 8,
    "start_time": "2023-06-14T08:40:45.550Z"
   },
   {
    "duration": 25,
    "start_time": "2023-06-14T08:40:45.559Z"
   },
   {
    "duration": 28,
    "start_time": "2023-06-14T08:40:45.590Z"
   },
   {
    "duration": 1780,
    "start_time": "2023-06-14T08:40:45.620Z"
   },
   {
    "duration": 4,
    "start_time": "2023-06-14T08:40:47.401Z"
   },
   {
    "duration": 137,
    "start_time": "2023-06-14T08:40:47.415Z"
   },
   {
    "duration": 250,
    "start_time": "2023-06-14T08:40:47.554Z"
   },
   {
    "duration": 611,
    "start_time": "2023-06-14T08:40:47.806Z"
   },
   {
    "duration": 1633,
    "start_time": "2023-06-14T08:44:50.566Z"
   },
   {
    "duration": 1081,
    "start_time": "2023-06-14T08:44:52.200Z"
   },
   {
    "duration": 142,
    "start_time": "2023-06-14T08:44:53.283Z"
   },
   {
    "duration": 407,
    "start_time": "2023-06-14T08:44:53.427Z"
   },
   {
    "duration": 518,
    "start_time": "2023-06-14T08:44:53.836Z"
   },
   {
    "duration": 45,
    "start_time": "2023-06-14T08:44:54.355Z"
   },
   {
    "duration": 26,
    "start_time": "2023-06-14T08:44:54.402Z"
   },
   {
    "duration": 118,
    "start_time": "2023-06-14T08:44:54.435Z"
   },
   {
    "duration": 92,
    "start_time": "2023-06-14T08:44:54.555Z"
   },
   {
    "duration": 543,
    "start_time": "2023-06-14T08:44:54.648Z"
   },
   {
    "duration": 30,
    "start_time": "2023-06-14T08:44:55.192Z"
   },
   {
    "duration": 134,
    "start_time": "2023-06-14T08:44:55.225Z"
   },
   {
    "duration": 61,
    "start_time": "2023-06-14T08:44:55.362Z"
   },
   {
    "duration": 18,
    "start_time": "2023-06-14T08:44:55.427Z"
   },
   {
    "duration": 1791,
    "start_time": "2023-06-14T08:44:55.446Z"
   },
   {
    "duration": 11,
    "start_time": "2023-06-14T08:44:57.239Z"
   },
   {
    "duration": 29,
    "start_time": "2023-06-14T08:44:57.252Z"
   },
   {
    "duration": 79,
    "start_time": "2023-06-14T08:44:57.282Z"
   },
   {
    "duration": 32,
    "start_time": "2023-06-14T08:44:57.363Z"
   },
   {
    "duration": 60,
    "start_time": "2023-06-14T08:44:57.396Z"
   },
   {
    "duration": 178,
    "start_time": "2023-06-14T08:44:57.458Z"
   },
   {
    "duration": 27,
    "start_time": "2023-06-14T08:44:57.637Z"
   },
   {
    "duration": 106,
    "start_time": "2023-06-14T08:44:57.666Z"
   },
   {
    "duration": 28,
    "start_time": "2023-06-14T08:44:57.774Z"
   },
   {
    "duration": 97,
    "start_time": "2023-06-14T08:44:57.804Z"
   },
   {
    "duration": 31,
    "start_time": "2023-06-14T08:44:57.903Z"
   },
   {
    "duration": 59,
    "start_time": "2023-06-14T08:44:57.936Z"
   },
   {
    "duration": 53,
    "start_time": "2023-06-14T08:44:57.997Z"
   },
   {
    "duration": 88,
    "start_time": "2023-06-14T08:44:58.052Z"
   },
   {
    "duration": 16,
    "start_time": "2023-06-14T08:44:58.142Z"
   },
   {
    "duration": 91,
    "start_time": "2023-06-14T08:44:58.160Z"
   },
   {
    "duration": 36,
    "start_time": "2023-06-14T08:44:58.253Z"
   },
   {
    "duration": 55,
    "start_time": "2023-06-14T08:44:58.291Z"
   },
   {
    "duration": 44,
    "start_time": "2023-06-14T08:44:58.348Z"
   },
   {
    "duration": 56,
    "start_time": "2023-06-14T08:44:58.394Z"
   },
   {
    "duration": 22,
    "start_time": "2023-06-14T08:44:58.451Z"
   },
   {
    "duration": 83,
    "start_time": "2023-06-14T08:44:58.474Z"
   },
   {
    "duration": 130,
    "start_time": "2023-06-14T08:44:58.560Z"
   },
   {
    "duration": 0,
    "start_time": "2023-06-14T08:44:58.692Z"
   },
   {
    "duration": 0,
    "start_time": "2023-06-14T08:44:58.693Z"
   },
   {
    "duration": 0,
    "start_time": "2023-06-14T08:44:58.694Z"
   },
   {
    "duration": 0,
    "start_time": "2023-06-14T08:44:58.696Z"
   },
   {
    "duration": 0,
    "start_time": "2023-06-14T08:44:58.697Z"
   },
   {
    "duration": 1,
    "start_time": "2023-06-14T08:44:58.698Z"
   },
   {
    "duration": 0,
    "start_time": "2023-06-14T08:44:58.700Z"
   },
   {
    "duration": 0,
    "start_time": "2023-06-14T08:44:58.717Z"
   },
   {
    "duration": 0,
    "start_time": "2023-06-14T08:44:58.718Z"
   },
   {
    "duration": 0,
    "start_time": "2023-06-14T08:44:58.718Z"
   },
   {
    "duration": 11,
    "start_time": "2023-06-14T08:46:14.161Z"
   },
   {
    "duration": 31,
    "start_time": "2023-06-14T08:49:20.459Z"
   },
   {
    "duration": 16,
    "start_time": "2023-06-14T08:49:44.196Z"
   },
   {
    "duration": 347,
    "start_time": "2023-06-14T08:54:40.112Z"
   },
   {
    "duration": 176,
    "start_time": "2023-06-14T08:55:22.503Z"
   },
   {
    "duration": 20,
    "start_time": "2023-06-14T08:55:47.728Z"
   },
   {
    "duration": 14,
    "start_time": "2023-06-14T08:56:08.559Z"
   },
   {
    "duration": 15,
    "start_time": "2023-06-14T08:59:36.335Z"
   },
   {
    "duration": 13,
    "start_time": "2023-06-14T09:03:13.151Z"
   },
   {
    "duration": 5,
    "start_time": "2023-06-14T09:03:13.868Z"
   },
   {
    "duration": 3894,
    "start_time": "2023-06-14T09:03:20.568Z"
   },
   {
    "duration": 330,
    "start_time": "2023-06-14T09:04:27.241Z"
   },
   {
    "duration": 14,
    "start_time": "2023-06-14T09:04:53.139Z"
   },
   {
    "duration": 15,
    "start_time": "2023-06-14T09:04:56.836Z"
   },
   {
    "duration": 1839,
    "start_time": "2023-06-14T09:05:16.411Z"
   },
   {
    "duration": 855,
    "start_time": "2023-06-14T09:05:18.252Z"
   },
   {
    "duration": 147,
    "start_time": "2023-06-14T09:05:19.108Z"
   },
   {
    "duration": 654,
    "start_time": "2023-06-14T09:05:19.257Z"
   },
   {
    "duration": 733,
    "start_time": "2023-06-14T09:05:19.913Z"
   },
   {
    "duration": 77,
    "start_time": "2023-06-14T09:05:20.648Z"
   },
   {
    "duration": 17,
    "start_time": "2023-06-14T09:05:20.726Z"
   },
   {
    "duration": 176,
    "start_time": "2023-06-14T09:05:20.745Z"
   },
   {
    "duration": 118,
    "start_time": "2023-06-14T09:05:20.928Z"
   },
   {
    "duration": 626,
    "start_time": "2023-06-14T09:05:21.047Z"
   },
   {
    "duration": 15,
    "start_time": "2023-06-14T09:05:21.675Z"
   },
   {
    "duration": 210,
    "start_time": "2023-06-14T09:05:21.692Z"
   },
   {
    "duration": 61,
    "start_time": "2023-06-14T09:05:21.904Z"
   },
   {
    "duration": 102,
    "start_time": "2023-06-14T09:05:21.970Z"
   },
   {
    "duration": 1943,
    "start_time": "2023-06-14T09:05:22.074Z"
   },
   {
    "duration": 20,
    "start_time": "2023-06-14T09:05:24.018Z"
   },
   {
    "duration": 163,
    "start_time": "2023-06-14T09:05:24.040Z"
   },
   {
    "duration": 51,
    "start_time": "2023-06-14T09:05:24.205Z"
   },
   {
    "duration": 30,
    "start_time": "2023-06-14T09:05:24.258Z"
   },
   {
    "duration": 73,
    "start_time": "2023-06-14T09:05:24.289Z"
   },
   {
    "duration": 180,
    "start_time": "2023-06-14T09:05:24.364Z"
   },
   {
    "duration": 47,
    "start_time": "2023-06-14T09:05:24.546Z"
   },
   {
    "duration": 147,
    "start_time": "2023-06-14T09:05:24.595Z"
   },
   {
    "duration": 50,
    "start_time": "2023-06-14T09:05:24.744Z"
   },
   {
    "duration": 104,
    "start_time": "2023-06-14T09:05:24.796Z"
   },
   {
    "duration": 31,
    "start_time": "2023-06-14T09:05:24.902Z"
   },
   {
    "duration": 83,
    "start_time": "2023-06-14T09:05:24.938Z"
   },
   {
    "duration": 68,
    "start_time": "2023-06-14T09:05:25.022Z"
   },
   {
    "duration": 177,
    "start_time": "2023-06-14T09:05:25.092Z"
   },
   {
    "duration": 15,
    "start_time": "2023-06-14T09:05:25.271Z"
   },
   {
    "duration": 147,
    "start_time": "2023-06-14T09:05:25.289Z"
   },
   {
    "duration": 113,
    "start_time": "2023-06-14T09:05:25.438Z"
   },
   {
    "duration": 80,
    "start_time": "2023-06-14T09:05:25.553Z"
   },
   {
    "duration": 50,
    "start_time": "2023-06-14T09:05:25.638Z"
   },
   {
    "duration": 63,
    "start_time": "2023-06-14T09:05:25.690Z"
   },
   {
    "duration": 33,
    "start_time": "2023-06-14T09:05:25.754Z"
   },
   {
    "duration": 117,
    "start_time": "2023-06-14T09:05:25.789Z"
   },
   {
    "duration": 29,
    "start_time": "2023-06-14T09:05:25.908Z"
   },
   {
    "duration": 25,
    "start_time": "2023-06-14T09:05:25.940Z"
   },
   {
    "duration": 244,
    "start_time": "2023-06-14T09:05:25.967Z"
   },
   {
    "duration": 12,
    "start_time": "2023-06-14T09:05:26.217Z"
   },
   {
    "duration": 158,
    "start_time": "2023-06-14T09:05:26.230Z"
   },
   {
    "duration": 0,
    "start_time": "2023-06-14T09:05:26.390Z"
   },
   {
    "duration": 1,
    "start_time": "2023-06-14T09:05:26.390Z"
   },
   {
    "duration": 0,
    "start_time": "2023-06-14T09:05:26.391Z"
   },
   {
    "duration": 0,
    "start_time": "2023-06-14T09:05:26.392Z"
   },
   {
    "duration": 0,
    "start_time": "2023-06-14T09:05:26.393Z"
   },
   {
    "duration": 0,
    "start_time": "2023-06-14T09:05:26.394Z"
   },
   {
    "duration": 0,
    "start_time": "2023-06-14T09:05:26.396Z"
   },
   {
    "duration": 0,
    "start_time": "2023-06-14T09:05:26.397Z"
   },
   {
    "duration": 0,
    "start_time": "2023-06-14T09:05:26.398Z"
   },
   {
    "duration": 0,
    "start_time": "2023-06-14T09:05:26.398Z"
   },
   {
    "duration": 0,
    "start_time": "2023-06-14T09:05:26.399Z"
   },
   {
    "duration": 506,
    "start_time": "2023-06-14T09:07:12.389Z"
   },
   {
    "duration": 45,
    "start_time": "2023-06-14T09:07:15.566Z"
   },
   {
    "duration": 16,
    "start_time": "2023-06-14T09:08:23.213Z"
   },
   {
    "duration": 41,
    "start_time": "2023-06-14T09:08:31.044Z"
   },
   {
    "duration": 22,
    "start_time": "2023-06-14T09:10:07.747Z"
   },
   {
    "duration": 522,
    "start_time": "2023-06-14T09:11:15.058Z"
   },
   {
    "duration": 11,
    "start_time": "2023-06-14T09:11:29.356Z"
   },
   {
    "duration": 22,
    "start_time": "2023-06-14T09:11:36.459Z"
   },
   {
    "duration": 1709,
    "start_time": "2023-06-14T09:13:29.637Z"
   },
   {
    "duration": 862,
    "start_time": "2023-06-14T09:13:31.348Z"
   },
   {
    "duration": 223,
    "start_time": "2023-06-14T09:13:32.212Z"
   },
   {
    "duration": 575,
    "start_time": "2023-06-14T09:13:32.437Z"
   },
   {
    "duration": 571,
    "start_time": "2023-06-14T09:13:33.016Z"
   },
   {
    "duration": 65,
    "start_time": "2023-06-14T09:13:33.589Z"
   },
   {
    "duration": 28,
    "start_time": "2023-06-14T09:13:33.655Z"
   },
   {
    "duration": 172,
    "start_time": "2023-06-14T09:13:33.685Z"
   },
   {
    "duration": 85,
    "start_time": "2023-06-14T09:13:33.860Z"
   },
   {
    "duration": 549,
    "start_time": "2023-06-14T09:13:33.947Z"
   },
   {
    "duration": 25,
    "start_time": "2023-06-14T09:13:34.498Z"
   },
   {
    "duration": 143,
    "start_time": "2023-06-14T09:13:34.537Z"
   },
   {
    "duration": 55,
    "start_time": "2023-06-14T09:13:34.682Z"
   },
   {
    "duration": 13,
    "start_time": "2023-06-14T09:13:34.739Z"
   },
   {
    "duration": 2250,
    "start_time": "2023-06-14T09:13:34.754Z"
   },
   {
    "duration": 19,
    "start_time": "2023-06-14T09:13:37.006Z"
   },
   {
    "duration": 59,
    "start_time": "2023-06-14T09:13:37.027Z"
   },
   {
    "duration": 64,
    "start_time": "2023-06-14T09:13:37.089Z"
   },
   {
    "duration": 41,
    "start_time": "2023-06-14T09:13:37.155Z"
   },
   {
    "duration": 65,
    "start_time": "2023-06-14T09:13:37.198Z"
   },
   {
    "duration": 199,
    "start_time": "2023-06-14T09:13:37.265Z"
   },
   {
    "duration": 30,
    "start_time": "2023-06-14T09:13:37.465Z"
   },
   {
    "duration": 87,
    "start_time": "2023-06-14T09:13:37.496Z"
   },
   {
    "duration": 62,
    "start_time": "2023-06-14T09:13:37.586Z"
   },
   {
    "duration": 100,
    "start_time": "2023-06-14T09:13:37.650Z"
   },
   {
    "duration": 28,
    "start_time": "2023-06-14T09:13:37.753Z"
   },
   {
    "duration": 105,
    "start_time": "2023-06-14T09:13:37.783Z"
   },
   {
    "duration": 96,
    "start_time": "2023-06-14T09:13:37.894Z"
   },
   {
    "duration": 104,
    "start_time": "2023-06-14T09:13:37.992Z"
   },
   {
    "duration": 19,
    "start_time": "2023-06-14T09:13:38.099Z"
   },
   {
    "duration": 70,
    "start_time": "2023-06-14T09:13:38.134Z"
   },
   {
    "duration": 85,
    "start_time": "2023-06-14T09:13:38.206Z"
   },
   {
    "duration": 36,
    "start_time": "2023-06-14T09:13:38.294Z"
   },
   {
    "duration": 67,
    "start_time": "2023-06-14T09:13:38.331Z"
   },
   {
    "duration": 53,
    "start_time": "2023-06-14T09:13:38.400Z"
   },
   {
    "duration": 11,
    "start_time": "2023-06-14T09:13:38.456Z"
   },
   {
    "duration": 79,
    "start_time": "2023-06-14T09:13:38.469Z"
   },
   {
    "duration": 18,
    "start_time": "2023-06-14T09:13:38.552Z"
   },
   {
    "duration": 24,
    "start_time": "2023-06-14T09:13:38.572Z"
   },
   {
    "duration": 376,
    "start_time": "2023-06-14T09:13:38.599Z"
   },
   {
    "duration": 10,
    "start_time": "2023-06-14T09:13:38.976Z"
   },
   {
    "duration": 62,
    "start_time": "2023-06-14T09:13:38.989Z"
   },
   {
    "duration": 41,
    "start_time": "2023-06-14T09:13:39.055Z"
   },
   {
    "duration": 35,
    "start_time": "2023-06-14T09:13:39.098Z"
   },
   {
    "duration": 149,
    "start_time": "2023-06-14T09:13:39.138Z"
   },
   {
    "duration": 0,
    "start_time": "2023-06-14T09:13:39.289Z"
   },
   {
    "duration": 0,
    "start_time": "2023-06-14T09:13:39.291Z"
   },
   {
    "duration": 0,
    "start_time": "2023-06-14T09:13:39.293Z"
   },
   {
    "duration": 0,
    "start_time": "2023-06-14T09:13:39.294Z"
   },
   {
    "duration": 0,
    "start_time": "2023-06-14T09:13:39.295Z"
   },
   {
    "duration": 0,
    "start_time": "2023-06-14T09:13:39.297Z"
   },
   {
    "duration": 0,
    "start_time": "2023-06-14T09:13:39.299Z"
   },
   {
    "duration": 0,
    "start_time": "2023-06-14T09:13:39.300Z"
   },
   {
    "duration": 0,
    "start_time": "2023-06-14T09:13:39.324Z"
   },
   {
    "duration": 0,
    "start_time": "2023-06-14T09:13:39.324Z"
   },
   {
    "duration": 60,
    "start_time": "2023-06-14T09:14:47.923Z"
   },
   {
    "duration": 15,
    "start_time": "2023-06-14T09:16:13.039Z"
   },
   {
    "duration": 273,
    "start_time": "2023-06-14T09:16:45.450Z"
   },
   {
    "duration": 8,
    "start_time": "2023-06-14T09:16:45.725Z"
   },
   {
    "duration": 20,
    "start_time": "2023-06-14T09:16:45.914Z"
   },
   {
    "duration": 43,
    "start_time": "2023-06-14T09:16:46.182Z"
   },
   {
    "duration": 69,
    "start_time": "2023-06-14T09:16:46.684Z"
   },
   {
    "duration": 382,
    "start_time": "2023-06-14T09:19:08.463Z"
   },
   {
    "duration": 11,
    "start_time": "2023-06-14T09:19:14.058Z"
   },
   {
    "duration": 8,
    "start_time": "2023-06-14T09:19:51.138Z"
   },
   {
    "duration": 5,
    "start_time": "2023-06-14T09:19:57.439Z"
   },
   {
    "duration": 920,
    "start_time": "2023-06-14T10:00:00.209Z"
   },
   {
    "duration": 881,
    "start_time": "2023-06-14T10:01:54.035Z"
   },
   {
    "duration": 13,
    "start_time": "2023-06-14T10:03:51.668Z"
   },
   {
    "duration": 1496,
    "start_time": "2023-06-14T10:04:48.171Z"
   },
   {
    "duration": 785,
    "start_time": "2023-06-14T10:04:49.669Z"
   },
   {
    "duration": 135,
    "start_time": "2023-06-14T10:04:50.456Z"
   },
   {
    "duration": 441,
    "start_time": "2023-06-14T10:04:50.594Z"
   },
   {
    "duration": 512,
    "start_time": "2023-06-14T10:04:51.036Z"
   },
   {
    "duration": 44,
    "start_time": "2023-06-14T10:04:51.549Z"
   },
   {
    "duration": 24,
    "start_time": "2023-06-14T10:04:51.595Z"
   },
   {
    "duration": 134,
    "start_time": "2023-06-14T10:04:51.620Z"
   },
   {
    "duration": 99,
    "start_time": "2023-06-14T10:04:51.755Z"
   },
   {
    "duration": 598,
    "start_time": "2023-06-14T10:04:51.857Z"
   },
   {
    "duration": 12,
    "start_time": "2023-06-14T10:04:52.457Z"
   },
   {
    "duration": 104,
    "start_time": "2023-06-14T10:04:52.471Z"
   },
   {
    "duration": 57,
    "start_time": "2023-06-14T10:04:52.576Z"
   },
   {
    "duration": 10,
    "start_time": "2023-06-14T10:04:52.636Z"
   },
   {
    "duration": 1667,
    "start_time": "2023-06-14T10:04:52.648Z"
   },
   {
    "duration": 13,
    "start_time": "2023-06-14T10:04:54.332Z"
   },
   {
    "duration": 93,
    "start_time": "2023-06-14T10:04:54.346Z"
   },
   {
    "duration": 36,
    "start_time": "2023-06-14T10:04:54.440Z"
   },
   {
    "duration": 57,
    "start_time": "2023-06-14T10:04:54.477Z"
   },
   {
    "duration": 52,
    "start_time": "2023-06-14T10:04:54.536Z"
   },
   {
    "duration": 184,
    "start_time": "2023-06-14T10:04:54.589Z"
   },
   {
    "duration": 25,
    "start_time": "2023-06-14T10:04:54.775Z"
   },
   {
    "duration": 89,
    "start_time": "2023-06-14T10:04:54.802Z"
   },
   {
    "duration": 13,
    "start_time": "2023-06-14T10:04:54.892Z"
   },
   {
    "duration": 96,
    "start_time": "2023-06-14T10:04:54.907Z"
   },
   {
    "duration": 30,
    "start_time": "2023-06-14T10:04:55.004Z"
   },
   {
    "duration": 92,
    "start_time": "2023-06-14T10:04:55.036Z"
   },
   {
    "duration": 45,
    "start_time": "2023-06-14T10:04:55.132Z"
   },
   {
    "duration": 79,
    "start_time": "2023-06-14T10:04:55.179Z"
   },
   {
    "duration": 23,
    "start_time": "2023-06-14T10:04:55.260Z"
   },
   {
    "duration": 86,
    "start_time": "2023-06-14T10:04:55.286Z"
   },
   {
    "duration": 74,
    "start_time": "2023-06-14T10:04:55.374Z"
   },
   {
    "duration": 88,
    "start_time": "2023-06-14T10:04:55.451Z"
   },
   {
    "duration": 108,
    "start_time": "2023-06-14T10:04:55.541Z"
   },
   {
    "duration": 64,
    "start_time": "2023-06-14T10:04:55.651Z"
   },
   {
    "duration": 39,
    "start_time": "2023-06-14T10:04:55.722Z"
   },
   {
    "duration": 77,
    "start_time": "2023-06-14T10:04:55.763Z"
   },
   {
    "duration": 16,
    "start_time": "2023-06-14T10:04:55.842Z"
   },
   {
    "duration": 19,
    "start_time": "2023-06-14T10:04:55.860Z"
   },
   {
    "duration": 228,
    "start_time": "2023-06-14T10:04:55.881Z"
   },
   {
    "duration": 13,
    "start_time": "2023-06-14T10:04:56.111Z"
   },
   {
    "duration": 17,
    "start_time": "2023-06-14T10:04:56.126Z"
   },
   {
    "duration": 24,
    "start_time": "2023-06-14T10:04:56.145Z"
   },
   {
    "duration": 65,
    "start_time": "2023-06-14T10:04:56.170Z"
   },
   {
    "duration": 86,
    "start_time": "2023-06-14T10:04:56.238Z"
   },
   {
    "duration": 128,
    "start_time": "2023-06-14T10:04:56.326Z"
   },
   {
    "duration": 867,
    "start_time": "2023-06-14T10:04:56.456Z"
   },
   {
    "duration": 1450,
    "start_time": "2023-06-14T10:05:31.848Z"
   },
   {
    "duration": 828,
    "start_time": "2023-06-14T10:05:33.300Z"
   },
   {
    "duration": 131,
    "start_time": "2023-06-14T10:05:34.136Z"
   },
   {
    "duration": 426,
    "start_time": "2023-06-14T10:05:34.269Z"
   },
   {
    "duration": 550,
    "start_time": "2023-06-14T10:05:34.697Z"
   },
   {
    "duration": 45,
    "start_time": "2023-06-14T10:05:35.249Z"
   },
   {
    "duration": 43,
    "start_time": "2023-06-14T10:05:35.295Z"
   },
   {
    "duration": 152,
    "start_time": "2023-06-14T10:05:35.340Z"
   },
   {
    "duration": 82,
    "start_time": "2023-06-14T10:05:35.494Z"
   },
   {
    "duration": 679,
    "start_time": "2023-06-14T10:05:35.579Z"
   },
   {
    "duration": 15,
    "start_time": "2023-06-14T10:05:36.260Z"
   },
   {
    "duration": 75,
    "start_time": "2023-06-14T10:05:36.277Z"
   },
   {
    "duration": 75,
    "start_time": "2023-06-14T10:05:36.354Z"
   },
   {
    "duration": 12,
    "start_time": "2023-06-14T10:05:36.430Z"
   },
   {
    "duration": 1838,
    "start_time": "2023-06-14T10:05:36.444Z"
   },
   {
    "duration": 13,
    "start_time": "2023-06-14T10:05:38.284Z"
   },
   {
    "duration": 61,
    "start_time": "2023-06-14T10:05:38.299Z"
   },
   {
    "duration": 34,
    "start_time": "2023-06-14T10:05:38.362Z"
   },
   {
    "duration": 37,
    "start_time": "2023-06-14T10:05:38.397Z"
   },
   {
    "duration": 50,
    "start_time": "2023-06-14T10:05:38.436Z"
   },
   {
    "duration": 188,
    "start_time": "2023-06-14T10:05:38.487Z"
   },
   {
    "duration": 56,
    "start_time": "2023-06-14T10:05:38.677Z"
   },
   {
    "duration": 86,
    "start_time": "2023-06-14T10:05:38.735Z"
   },
   {
    "duration": 31,
    "start_time": "2023-06-14T10:05:38.822Z"
   },
   {
    "duration": 60,
    "start_time": "2023-06-14T10:05:38.855Z"
   },
   {
    "duration": 22,
    "start_time": "2023-06-14T10:05:38.921Z"
   },
   {
    "duration": 91,
    "start_time": "2023-06-14T10:05:38.945Z"
   },
   {
    "duration": 49,
    "start_time": "2023-06-14T10:05:39.042Z"
   },
   {
    "duration": 97,
    "start_time": "2023-06-14T10:05:39.094Z"
   },
   {
    "duration": 14,
    "start_time": "2023-06-14T10:05:39.192Z"
   },
   {
    "duration": 57,
    "start_time": "2023-06-14T10:05:39.215Z"
   },
   {
    "duration": 66,
    "start_time": "2023-06-14T10:05:39.274Z"
   },
   {
    "duration": 36,
    "start_time": "2023-06-14T10:05:39.342Z"
   },
   {
    "duration": 53,
    "start_time": "2023-06-14T10:05:39.380Z"
   },
   {
    "duration": 40,
    "start_time": "2023-06-14T10:05:39.435Z"
   },
   {
    "duration": 141,
    "start_time": "2023-06-14T10:05:39.476Z"
   },
   {
    "duration": 58,
    "start_time": "2023-06-14T10:05:39.618Z"
   },
   {
    "duration": 16,
    "start_time": "2023-06-14T10:05:39.678Z"
   },
   {
    "duration": 45,
    "start_time": "2023-06-14T10:05:39.696Z"
   },
   {
    "duration": 349,
    "start_time": "2023-06-14T10:05:39.743Z"
   },
   {
    "duration": 10,
    "start_time": "2023-06-14T10:05:40.094Z"
   },
   {
    "duration": 27,
    "start_time": "2023-06-14T10:05:40.115Z"
   },
   {
    "duration": 51,
    "start_time": "2023-06-14T10:05:40.144Z"
   },
   {
    "duration": 51,
    "start_time": "2023-06-14T10:05:40.196Z"
   },
   {
    "duration": 12,
    "start_time": "2023-06-14T10:05:40.249Z"
   },
   {
    "duration": 116,
    "start_time": "2023-06-14T10:05:40.325Z"
   },
   {
    "duration": 875,
    "start_time": "2023-06-14T10:05:40.443Z"
   },
   {
    "duration": 263,
    "start_time": "2023-06-14T10:05:41.320Z"
   },
   {
    "duration": 0,
    "start_time": "2023-06-14T10:05:41.585Z"
   },
   {
    "duration": 0,
    "start_time": "2023-06-14T10:05:41.587Z"
   },
   {
    "duration": 0,
    "start_time": "2023-06-14T10:05:41.588Z"
   },
   {
    "duration": 0,
    "start_time": "2023-06-14T10:05:41.589Z"
   },
   {
    "duration": 0,
    "start_time": "2023-06-14T10:05:41.590Z"
   },
   {
    "duration": 0,
    "start_time": "2023-06-14T10:05:41.591Z"
   },
   {
    "duration": 0,
    "start_time": "2023-06-14T10:05:41.593Z"
   },
   {
    "duration": 0,
    "start_time": "2023-06-14T10:05:41.594Z"
   },
   {
    "duration": 0,
    "start_time": "2023-06-14T10:05:41.595Z"
   },
   {
    "duration": 0,
    "start_time": "2023-06-14T10:05:41.596Z"
   },
   {
    "duration": 0,
    "start_time": "2023-06-14T10:05:41.602Z"
   },
   {
    "duration": 33,
    "start_time": "2023-06-14T10:11:31.657Z"
   },
   {
    "duration": 13,
    "start_time": "2023-06-14T10:13:32.901Z"
   },
   {
    "duration": 11,
    "start_time": "2023-06-14T10:13:36.684Z"
   },
   {
    "duration": 3,
    "start_time": "2023-06-14T10:14:06.659Z"
   },
   {
    "duration": 85,
    "start_time": "2023-06-14T10:16:46.983Z"
   },
   {
    "duration": 12,
    "start_time": "2023-06-14T10:18:47.290Z"
   },
   {
    "duration": 3,
    "start_time": "2023-06-14T10:19:01.767Z"
   },
   {
    "duration": 10,
    "start_time": "2023-06-14T10:20:44.820Z"
   },
   {
    "duration": 1394,
    "start_time": "2023-06-14T10:29:16.959Z"
   },
   {
    "duration": 716,
    "start_time": "2023-06-14T10:29:18.354Z"
   },
   {
    "duration": 118,
    "start_time": "2023-06-14T10:29:19.071Z"
   },
   {
    "duration": 371,
    "start_time": "2023-06-14T10:29:19.191Z"
   },
   {
    "duration": 497,
    "start_time": "2023-06-14T10:29:19.564Z"
   },
   {
    "duration": 53,
    "start_time": "2023-06-14T10:29:20.063Z"
   },
   {
    "duration": 11,
    "start_time": "2023-06-14T10:29:20.117Z"
   },
   {
    "duration": 156,
    "start_time": "2023-06-14T10:29:20.129Z"
   },
   {
    "duration": 101,
    "start_time": "2023-06-14T10:29:20.286Z"
   },
   {
    "duration": 517,
    "start_time": "2023-06-14T10:29:20.389Z"
   },
   {
    "duration": 18,
    "start_time": "2023-06-14T10:29:20.907Z"
   },
   {
    "duration": 79,
    "start_time": "2023-06-14T10:29:20.927Z"
   },
   {
    "duration": 52,
    "start_time": "2023-06-14T10:29:21.008Z"
   },
   {
    "duration": 9,
    "start_time": "2023-06-14T10:29:21.062Z"
   },
   {
    "duration": 1585,
    "start_time": "2023-06-14T10:29:21.073Z"
   },
   {
    "duration": 14,
    "start_time": "2023-06-14T10:29:22.659Z"
   },
   {
    "duration": 51,
    "start_time": "2023-06-14T10:29:22.674Z"
   },
   {
    "duration": 36,
    "start_time": "2023-06-14T10:29:22.727Z"
   },
   {
    "duration": 53,
    "start_time": "2023-06-14T10:29:22.765Z"
   },
   {
    "duration": 63,
    "start_time": "2023-06-14T10:29:22.819Z"
   },
   {
    "duration": 170,
    "start_time": "2023-06-14T10:29:22.883Z"
   },
   {
    "duration": 23,
    "start_time": "2023-06-14T10:29:23.055Z"
   },
   {
    "duration": 75,
    "start_time": "2023-06-14T10:29:23.079Z"
   },
   {
    "duration": 34,
    "start_time": "2023-06-14T10:29:23.156Z"
   },
   {
    "duration": 59,
    "start_time": "2023-06-14T10:29:23.192Z"
   },
   {
    "duration": 16,
    "start_time": "2023-06-14T10:29:23.253Z"
   },
   {
    "duration": 81,
    "start_time": "2023-06-14T10:29:23.270Z"
   },
   {
    "duration": 59,
    "start_time": "2023-06-14T10:29:23.352Z"
   },
   {
    "duration": 61,
    "start_time": "2023-06-14T10:29:23.413Z"
   },
   {
    "duration": 12,
    "start_time": "2023-06-14T10:29:23.476Z"
   },
   {
    "duration": 67,
    "start_time": "2023-06-14T10:29:23.490Z"
   },
   {
    "duration": 66,
    "start_time": "2023-06-14T10:29:23.559Z"
   },
   {
    "duration": 31,
    "start_time": "2023-06-14T10:29:23.627Z"
   },
   {
    "duration": 59,
    "start_time": "2023-06-14T10:29:23.660Z"
   },
   {
    "duration": 41,
    "start_time": "2023-06-14T10:29:23.721Z"
   },
   {
    "duration": 20,
    "start_time": "2023-06-14T10:29:23.763Z"
   },
   {
    "duration": 63,
    "start_time": "2023-06-14T10:29:23.785Z"
   },
   {
    "duration": 16,
    "start_time": "2023-06-14T10:29:23.849Z"
   },
   {
    "duration": 20,
    "start_time": "2023-06-14T10:29:23.867Z"
   },
   {
    "duration": 206,
    "start_time": "2023-06-14T10:29:23.888Z"
   },
   {
    "duration": 8,
    "start_time": "2023-06-14T10:29:24.098Z"
   },
   {
    "duration": 12,
    "start_time": "2023-06-14T10:29:24.107Z"
   },
   {
    "duration": 27,
    "start_time": "2023-06-14T10:29:24.120Z"
   },
   {
    "duration": 71,
    "start_time": "2023-06-14T10:29:24.148Z"
   },
   {
    "duration": 17,
    "start_time": "2023-06-14T10:29:24.221Z"
   },
   {
    "duration": 109,
    "start_time": "2023-06-14T10:29:24.316Z"
   },
   {
    "duration": 1546,
    "start_time": "2023-06-14T10:29:27.106Z"
   },
   {
    "duration": 746,
    "start_time": "2023-06-14T10:29:28.654Z"
   },
   {
    "duration": 125,
    "start_time": "2023-06-14T10:29:29.401Z"
   },
   {
    "duration": 431,
    "start_time": "2023-06-14T10:29:29.528Z"
   },
   {
    "duration": 516,
    "start_time": "2023-06-14T10:29:29.961Z"
   },
   {
    "duration": 52,
    "start_time": "2023-06-14T10:29:30.478Z"
   },
   {
    "duration": 112,
    "start_time": "2023-06-14T10:29:30.532Z"
   },
   {
    "duration": 92,
    "start_time": "2023-06-14T10:29:30.645Z"
   },
   {
    "duration": 78,
    "start_time": "2023-06-14T10:29:30.739Z"
   },
   {
    "duration": 574,
    "start_time": "2023-06-14T10:29:30.819Z"
   },
   {
    "duration": 28,
    "start_time": "2023-06-14T10:29:31.394Z"
   },
   {
    "duration": 71,
    "start_time": "2023-06-14T10:29:31.424Z"
   },
   {
    "duration": 63,
    "start_time": "2023-06-14T10:29:31.496Z"
   },
   {
    "duration": 9,
    "start_time": "2023-06-14T10:29:31.561Z"
   },
   {
    "duration": 1664,
    "start_time": "2023-06-14T10:29:31.571Z"
   },
   {
    "duration": 11,
    "start_time": "2023-06-14T10:29:33.237Z"
   },
   {
    "duration": 25,
    "start_time": "2023-06-14T10:29:33.249Z"
   },
   {
    "duration": 61,
    "start_time": "2023-06-14T10:29:33.276Z"
   },
   {
    "duration": 29,
    "start_time": "2023-06-14T10:29:33.338Z"
   },
   {
    "duration": 64,
    "start_time": "2023-06-14T10:29:33.368Z"
   },
   {
    "duration": 165,
    "start_time": "2023-06-14T10:29:33.434Z"
   },
   {
    "duration": 32,
    "start_time": "2023-06-14T10:29:33.600Z"
   },
   {
    "duration": 78,
    "start_time": "2023-06-14T10:29:33.634Z"
   },
   {
    "duration": 42,
    "start_time": "2023-06-14T10:29:33.716Z"
   },
   {
    "duration": 111,
    "start_time": "2023-06-14T10:29:33.759Z"
   },
   {
    "duration": 29,
    "start_time": "2023-06-14T10:29:33.872Z"
   },
   {
    "duration": 81,
    "start_time": "2023-06-14T10:29:33.903Z"
   },
   {
    "duration": 42,
    "start_time": "2023-06-14T10:29:33.987Z"
   },
   {
    "duration": 64,
    "start_time": "2023-06-14T10:29:34.030Z"
   },
   {
    "duration": 28,
    "start_time": "2023-06-14T10:29:34.095Z"
   },
   {
    "duration": 36,
    "start_time": "2023-06-14T10:29:34.125Z"
   },
   {
    "duration": 45,
    "start_time": "2023-06-14T10:29:34.162Z"
   },
   {
    "duration": 40,
    "start_time": "2023-06-14T10:29:34.208Z"
   },
   {
    "duration": 54,
    "start_time": "2023-06-14T10:29:34.250Z"
   },
   {
    "duration": 39,
    "start_time": "2023-06-14T10:29:34.305Z"
   },
   {
    "duration": 9,
    "start_time": "2023-06-14T10:29:34.346Z"
   },
   {
    "duration": 82,
    "start_time": "2023-06-14T10:29:34.356Z"
   },
   {
    "duration": 20,
    "start_time": "2023-06-14T10:29:34.439Z"
   },
   {
    "duration": 15,
    "start_time": "2023-06-14T10:29:34.461Z"
   },
   {
    "duration": 239,
    "start_time": "2023-06-14T10:29:34.478Z"
   },
   {
    "duration": 8,
    "start_time": "2023-06-14T10:29:34.718Z"
   },
   {
    "duration": 17,
    "start_time": "2023-06-14T10:29:34.727Z"
   },
   {
    "duration": 21,
    "start_time": "2023-06-14T10:29:34.746Z"
   },
   {
    "duration": 57,
    "start_time": "2023-06-14T10:29:34.769Z"
   },
   {
    "duration": 12,
    "start_time": "2023-06-14T10:29:34.827Z"
   },
   {
    "duration": 89,
    "start_time": "2023-06-14T10:29:34.840Z"
   },
   {
    "duration": 1054,
    "start_time": "2023-06-14T10:29:35.016Z"
   },
   {
    "duration": 4,
    "start_time": "2023-06-14T10:29:36.072Z"
   },
   {
    "duration": 36,
    "start_time": "2023-06-14T10:29:36.078Z"
   },
   {
    "duration": 29,
    "start_time": "2023-06-14T10:29:36.115Z"
   },
   {
    "duration": 1587,
    "start_time": "2023-06-14T10:29:36.146Z"
   },
   {
    "duration": 4,
    "start_time": "2023-06-14T10:29:37.735Z"
   },
   {
    "duration": 29,
    "start_time": "2023-06-14T10:29:37.741Z"
   },
   {
    "duration": 254,
    "start_time": "2023-06-14T10:29:37.772Z"
   },
   {
    "duration": 613,
    "start_time": "2023-06-14T10:29:38.027Z"
   },
   {
    "duration": 125,
    "start_time": "2023-06-14T10:29:38.642Z"
   },
   {
    "duration": 0,
    "start_time": "2023-06-14T10:29:38.770Z"
   },
   {
    "duration": 1415,
    "start_time": "2023-06-14T10:34:07.711Z"
   },
   {
    "duration": 740,
    "start_time": "2023-06-14T10:34:09.127Z"
   },
   {
    "duration": 144,
    "start_time": "2023-06-14T10:34:09.869Z"
   },
   {
    "duration": 404,
    "start_time": "2023-06-14T10:34:10.016Z"
   },
   {
    "duration": 498,
    "start_time": "2023-06-14T10:34:10.422Z"
   },
   {
    "duration": 53,
    "start_time": "2023-06-14T10:34:10.922Z"
   },
   {
    "duration": 12,
    "start_time": "2023-06-14T10:34:10.978Z"
   },
   {
    "duration": 91,
    "start_time": "2023-06-14T10:34:10.992Z"
   },
   {
    "duration": 82,
    "start_time": "2023-06-14T10:34:11.085Z"
   },
   {
    "duration": 541,
    "start_time": "2023-06-14T10:34:11.169Z"
   },
   {
    "duration": 13,
    "start_time": "2023-06-14T10:34:11.711Z"
   },
   {
    "duration": 63,
    "start_time": "2023-06-14T10:34:11.725Z"
   },
   {
    "duration": 51,
    "start_time": "2023-06-14T10:34:11.789Z"
   },
   {
    "duration": 9,
    "start_time": "2023-06-14T10:34:11.842Z"
   },
   {
    "duration": 1624,
    "start_time": "2023-06-14T10:34:11.852Z"
   },
   {
    "duration": 11,
    "start_time": "2023-06-14T10:34:13.477Z"
   },
   {
    "duration": 46,
    "start_time": "2023-06-14T10:34:13.490Z"
   },
   {
    "duration": 47,
    "start_time": "2023-06-14T10:34:13.538Z"
   },
   {
    "duration": 33,
    "start_time": "2023-06-14T10:34:13.586Z"
   },
   {
    "duration": 58,
    "start_time": "2023-06-14T10:34:13.621Z"
   },
   {
    "duration": 177,
    "start_time": "2023-06-14T10:34:13.680Z"
   },
   {
    "duration": 29,
    "start_time": "2023-06-14T10:34:13.859Z"
   },
   {
    "duration": 89,
    "start_time": "2023-06-14T10:34:13.890Z"
   },
   {
    "duration": 17,
    "start_time": "2023-06-14T10:34:13.980Z"
   },
   {
    "duration": 79,
    "start_time": "2023-06-14T10:34:13.999Z"
   },
   {
    "duration": 21,
    "start_time": "2023-06-14T10:34:14.080Z"
   },
   {
    "duration": 56,
    "start_time": "2023-06-14T10:34:14.103Z"
   },
   {
    "duration": 60,
    "start_time": "2023-06-14T10:34:14.165Z"
   },
   {
    "duration": 81,
    "start_time": "2023-06-14T10:34:14.228Z"
   },
   {
    "duration": 18,
    "start_time": "2023-06-14T10:34:14.311Z"
   },
   {
    "duration": 39,
    "start_time": "2023-06-14T10:34:14.331Z"
   },
   {
    "duration": 48,
    "start_time": "2023-06-14T10:34:14.372Z"
   },
   {
    "duration": 76,
    "start_time": "2023-06-14T10:34:14.422Z"
   },
   {
    "duration": 58,
    "start_time": "2023-06-14T10:34:14.499Z"
   },
   {
    "duration": 37,
    "start_time": "2023-06-14T10:34:14.559Z"
   },
   {
    "duration": 32,
    "start_time": "2023-06-14T10:34:14.597Z"
   },
   {
    "duration": 67,
    "start_time": "2023-06-14T10:34:14.630Z"
   },
   {
    "duration": 15,
    "start_time": "2023-06-14T10:34:14.699Z"
   },
   {
    "duration": 33,
    "start_time": "2023-06-14T10:34:14.716Z"
   },
   {
    "duration": 221,
    "start_time": "2023-06-14T10:34:14.751Z"
   },
   {
    "duration": 7,
    "start_time": "2023-06-14T10:34:14.974Z"
   },
   {
    "duration": 114,
    "start_time": "2023-06-14T10:34:14.983Z"
   },
   {
    "duration": 53,
    "start_time": "2023-06-14T10:34:15.099Z"
   },
   {
    "duration": 48,
    "start_time": "2023-06-14T10:34:15.154Z"
   },
   {
    "duration": 15,
    "start_time": "2023-06-14T10:34:15.203Z"
   },
   {
    "duration": 328,
    "start_time": "2023-06-14T10:34:15.219Z"
   },
   {
    "duration": 0,
    "start_time": "2023-06-14T10:34:15.548Z"
   },
   {
    "duration": 0,
    "start_time": "2023-06-14T10:34:15.549Z"
   },
   {
    "duration": 0,
    "start_time": "2023-06-14T10:34:15.550Z"
   },
   {
    "duration": 0,
    "start_time": "2023-06-14T10:34:15.551Z"
   },
   {
    "duration": 11,
    "start_time": "2023-06-14T10:37:02.239Z"
   },
   {
    "duration": 5,
    "start_time": "2023-06-14T10:37:04.027Z"
   },
   {
    "duration": 6,
    "start_time": "2023-06-14T10:39:42.544Z"
   },
   {
    "duration": 5,
    "start_time": "2023-06-14T10:39:43.375Z"
   },
   {
    "duration": 124,
    "start_time": "2023-06-14T10:53:37.656Z"
   },
   {
    "duration": 1457,
    "start_time": "2023-06-14T10:54:06.005Z"
   },
   {
    "duration": 811,
    "start_time": "2023-06-14T10:54:07.464Z"
   },
   {
    "duration": 158,
    "start_time": "2023-06-14T10:54:08.276Z"
   },
   {
    "duration": 444,
    "start_time": "2023-06-14T10:54:08.436Z"
   },
   {
    "duration": 551,
    "start_time": "2023-06-14T10:54:08.882Z"
   },
   {
    "duration": 42,
    "start_time": "2023-06-14T10:54:09.434Z"
   },
   {
    "duration": 10,
    "start_time": "2023-06-14T10:54:09.478Z"
   },
   {
    "duration": 96,
    "start_time": "2023-06-14T10:54:09.489Z"
   },
   {
    "duration": 80,
    "start_time": "2023-06-14T10:54:09.587Z"
   },
   {
    "duration": 586,
    "start_time": "2023-06-14T10:54:09.670Z"
   },
   {
    "duration": 13,
    "start_time": "2023-06-14T10:54:10.258Z"
   },
   {
    "duration": 59,
    "start_time": "2023-06-14T10:54:10.273Z"
   },
   {
    "duration": 50,
    "start_time": "2023-06-14T10:54:10.334Z"
   },
   {
    "duration": 7,
    "start_time": "2023-06-14T10:54:10.386Z"
   },
   {
    "duration": 1654,
    "start_time": "2023-06-14T10:54:10.394Z"
   },
   {
    "duration": 11,
    "start_time": "2023-06-14T10:54:12.050Z"
   },
   {
    "duration": 24,
    "start_time": "2023-06-14T10:54:12.063Z"
   },
   {
    "duration": 59,
    "start_time": "2023-06-14T10:54:12.088Z"
   },
   {
    "duration": 29,
    "start_time": "2023-06-14T10:54:12.148Z"
   },
   {
    "duration": 66,
    "start_time": "2023-06-14T10:54:12.178Z"
   },
   {
    "duration": 157,
    "start_time": "2023-06-14T10:54:12.246Z"
   },
   {
    "duration": 41,
    "start_time": "2023-06-14T10:54:12.405Z"
   },
   {
    "duration": 55,
    "start_time": "2023-06-14T10:54:12.448Z"
   },
   {
    "duration": 47,
    "start_time": "2023-06-14T10:54:12.504Z"
   },
   {
    "duration": 80,
    "start_time": "2023-06-14T10:54:12.553Z"
   },
   {
    "duration": 16,
    "start_time": "2023-06-14T10:54:12.635Z"
   },
   {
    "duration": 90,
    "start_time": "2023-06-14T10:54:12.653Z"
   },
   {
    "duration": 44,
    "start_time": "2023-06-14T10:54:12.746Z"
   },
   {
    "duration": 80,
    "start_time": "2023-06-14T10:54:12.792Z"
   },
   {
    "duration": 13,
    "start_time": "2023-06-14T10:54:12.873Z"
   },
   {
    "duration": 59,
    "start_time": "2023-06-14T10:54:12.887Z"
   },
   {
    "duration": 46,
    "start_time": "2023-06-14T10:54:12.948Z"
   },
   {
    "duration": 68,
    "start_time": "2023-06-14T10:54:12.996Z"
   },
   {
    "duration": 38,
    "start_time": "2023-06-14T10:54:13.066Z"
   },
   {
    "duration": 40,
    "start_time": "2023-06-14T10:54:13.123Z"
   },
   {
    "duration": 8,
    "start_time": "2023-06-14T10:54:13.165Z"
   },
   {
    "duration": 58,
    "start_time": "2023-06-14T10:54:13.175Z"
   },
   {
    "duration": 16,
    "start_time": "2023-06-14T10:54:13.237Z"
   },
   {
    "duration": 11,
    "start_time": "2023-06-14T10:54:13.255Z"
   },
   {
    "duration": 223,
    "start_time": "2023-06-14T10:54:13.268Z"
   },
   {
    "duration": 7,
    "start_time": "2023-06-14T10:54:13.493Z"
   },
   {
    "duration": 11,
    "start_time": "2023-06-14T10:54:13.501Z"
   },
   {
    "duration": 45,
    "start_time": "2023-06-14T10:54:13.522Z"
   },
   {
    "duration": 471,
    "start_time": "2023-06-14T10:54:13.569Z"
   },
   {
    "duration": 548,
    "start_time": "2023-06-14T10:54:14.041Z"
   },
   {
    "duration": 4,
    "start_time": "2023-06-14T10:54:14.591Z"
   },
   {
    "duration": 41,
    "start_time": "2023-06-14T10:54:14.596Z"
   },
   {
    "duration": 1857,
    "start_time": "2023-06-14T10:54:14.638Z"
   },
   {
    "duration": 602,
    "start_time": "2023-06-14T10:54:16.496Z"
   },
   {
    "duration": 5,
    "start_time": "2023-06-14T10:54:17.100Z"
   },
   {
    "duration": 28648,
    "start_time": "2023-06-14T10:54:17.123Z"
   },
   {
    "duration": 78,
    "start_time": "2023-06-14T10:54:45.772Z"
   },
   {
    "duration": 6,
    "start_time": "2023-06-14T10:54:45.852Z"
   },
   {
    "duration": 37,
    "start_time": "2023-06-14T10:54:45.860Z"
   },
   {
    "duration": 30595,
    "start_time": "2023-06-14T10:54:45.899Z"
   },
   {
    "duration": 102,
    "start_time": "2023-06-14T10:55:16.496Z"
   },
   {
    "duration": 4,
    "start_time": "2023-06-14T10:55:16.600Z"
   },
   {
    "duration": 1589,
    "start_time": "2023-06-14T11:25:15.452Z"
   },
   {
    "duration": 778,
    "start_time": "2023-06-14T11:25:17.043Z"
   },
   {
    "duration": 130,
    "start_time": "2023-06-14T11:25:17.823Z"
   },
   {
    "duration": 495,
    "start_time": "2023-06-14T11:25:17.955Z"
   },
   {
    "duration": 514,
    "start_time": "2023-06-14T11:25:18.452Z"
   },
   {
    "duration": 52,
    "start_time": "2023-06-14T11:25:18.967Z"
   },
   {
    "duration": 11,
    "start_time": "2023-06-14T11:25:19.021Z"
   },
   {
    "duration": 83,
    "start_time": "2023-06-14T11:25:19.033Z"
   },
   {
    "duration": 83,
    "start_time": "2023-06-14T11:25:19.118Z"
   },
   {
    "duration": 622,
    "start_time": "2023-06-14T11:25:19.215Z"
   },
   {
    "duration": 13,
    "start_time": "2023-06-14T11:25:19.838Z"
   },
   {
    "duration": 41,
    "start_time": "2023-06-14T11:25:19.854Z"
   },
   {
    "duration": 82,
    "start_time": "2023-06-14T11:25:19.897Z"
   },
   {
    "duration": 11,
    "start_time": "2023-06-14T11:25:19.981Z"
   },
   {
    "duration": 1671,
    "start_time": "2023-06-14T11:25:19.994Z"
   },
   {
    "duration": 11,
    "start_time": "2023-06-14T11:25:21.667Z"
   },
   {
    "duration": 40,
    "start_time": "2023-06-14T11:25:21.680Z"
   },
   {
    "duration": 33,
    "start_time": "2023-06-14T11:25:21.722Z"
   },
   {
    "duration": 32,
    "start_time": "2023-06-14T11:25:21.756Z"
   },
   {
    "duration": 92,
    "start_time": "2023-06-14T11:25:21.789Z"
   },
   {
    "duration": 164,
    "start_time": "2023-06-14T11:25:21.883Z"
   },
   {
    "duration": 26,
    "start_time": "2023-06-14T11:25:22.048Z"
   },
   {
    "duration": 73,
    "start_time": "2023-06-14T11:25:22.075Z"
   },
   {
    "duration": 41,
    "start_time": "2023-06-14T11:25:22.150Z"
   },
   {
    "duration": 75,
    "start_time": "2023-06-14T11:25:22.193Z"
   },
   {
    "duration": 18,
    "start_time": "2023-06-14T11:25:22.269Z"
   },
   {
    "duration": 62,
    "start_time": "2023-06-14T11:25:22.289Z"
   },
   {
    "duration": 39,
    "start_time": "2023-06-14T11:25:22.355Z"
   },
   {
    "duration": 80,
    "start_time": "2023-06-14T11:25:22.395Z"
   },
   {
    "duration": 13,
    "start_time": "2023-06-14T11:25:22.477Z"
   },
   {
    "duration": 54,
    "start_time": "2023-06-14T11:25:22.492Z"
   },
   {
    "duration": 46,
    "start_time": "2023-06-14T11:25:22.548Z"
   },
   {
    "duration": 52,
    "start_time": "2023-06-14T11:25:22.595Z"
   },
   {
    "duration": 52,
    "start_time": "2023-06-14T11:25:22.649Z"
   },
   {
    "duration": 41,
    "start_time": "2023-06-14T11:25:22.703Z"
   },
   {
    "duration": 30,
    "start_time": "2023-06-14T11:25:22.745Z"
   },
   {
    "duration": 55,
    "start_time": "2023-06-14T11:25:22.776Z"
   },
   {
    "duration": 12,
    "start_time": "2023-06-14T11:25:22.832Z"
   },
   {
    "duration": 219,
    "start_time": "2023-06-14T11:25:22.846Z"
   },
   {
    "duration": 8,
    "start_time": "2023-06-14T11:25:23.066Z"
   },
   {
    "duration": 18,
    "start_time": "2023-06-14T11:25:23.075Z"
   },
   {
    "duration": 33,
    "start_time": "2023-06-14T11:25:23.095Z"
   },
   {
    "duration": 455,
    "start_time": "2023-06-14T11:25:23.129Z"
   },
   {
    "duration": 659,
    "start_time": "2023-06-14T11:25:23.585Z"
   },
   {
    "duration": 4,
    "start_time": "2023-06-14T11:25:24.246Z"
   },
   {
    "duration": 20,
    "start_time": "2023-06-14T11:25:24.251Z"
   },
   {
    "duration": 1863,
    "start_time": "2023-06-14T11:25:24.273Z"
   },
   {
    "duration": 624,
    "start_time": "2023-06-14T11:25:26.137Z"
   },
   {
    "duration": 5,
    "start_time": "2023-06-14T11:25:26.762Z"
   },
   {
    "duration": 27424,
    "start_time": "2023-06-14T11:25:26.769Z"
   },
   {
    "duration": 112,
    "start_time": "2023-06-14T11:25:54.195Z"
   },
   {
    "duration": 11,
    "start_time": "2023-06-14T11:25:54.309Z"
   },
   {
    "duration": 36,
    "start_time": "2023-06-14T11:25:54.322Z"
   },
   {
    "duration": 27922,
    "start_time": "2023-06-14T11:25:54.360Z"
   },
   {
    "duration": 77,
    "start_time": "2023-06-14T11:26:22.284Z"
   },
   {
    "duration": 6,
    "start_time": "2023-06-14T11:26:22.363Z"
   },
   {
    "duration": 656449,
    "start_time": "2023-06-14T11:26:22.371Z"
   },
   {
    "duration": 695,
    "start_time": "2023-06-14T11:37:18.821Z"
   },
   {
    "duration": 4,
    "start_time": "2023-06-14T11:37:19.518Z"
   },
   {
    "duration": 12,
    "start_time": "2023-06-14T11:37:19.523Z"
   },
   {
    "duration": 6286,
    "start_time": "2023-06-14T11:37:19.536Z"
   },
   {
    "duration": 501,
    "start_time": "2023-06-14T11:37:25.824Z"
   },
   {
    "duration": 5,
    "start_time": "2023-06-14T11:37:26.415Z"
   },
   {
    "duration": 95,
    "start_time": "2023-06-14T11:37:26.421Z"
   },
   {
    "duration": 88,
    "start_time": "2023-06-14T12:47:35.982Z"
   },
   {
    "duration": 118,
    "start_time": "2023-06-14T12:48:03.410Z"
   },
   {
    "duration": 73,
    "start_time": "2023-06-14T12:48:11.891Z"
   },
   {
    "duration": 100,
    "start_time": "2023-06-14T12:48:17.277Z"
   },
   {
    "duration": 353,
    "start_time": "2023-06-14T12:48:22.555Z"
   },
   {
    "duration": 103,
    "start_time": "2023-06-14T12:49:17.544Z"
   },
   {
    "duration": 101,
    "start_time": "2023-06-14T12:49:54.929Z"
   },
   {
    "duration": 76,
    "start_time": "2023-06-14T12:51:31.927Z"
   },
   {
    "duration": 90,
    "start_time": "2023-06-14T12:51:39.002Z"
   },
   {
    "duration": 14,
    "start_time": "2023-06-14T12:52:17.488Z"
   },
   {
    "duration": 13,
    "start_time": "2023-06-14T12:53:00.187Z"
   },
   {
    "duration": 11,
    "start_time": "2023-06-14T12:53:44.785Z"
   },
   {
    "duration": 2,
    "start_time": "2023-06-14T12:55:48.600Z"
   },
   {
    "duration": 4339,
    "start_time": "2023-06-14T13:15:47.604Z"
   },
   {
    "duration": 2787,
    "start_time": "2023-06-14T13:16:10.431Z"
   },
   {
    "duration": 7,
    "start_time": "2023-06-14T13:16:46.596Z"
   },
   {
    "duration": 2,
    "start_time": "2023-06-14T13:23:12.235Z"
   },
   {
    "duration": 1639,
    "start_time": "2023-06-14T15:14:39.760Z"
   },
   {
    "duration": 2845,
    "start_time": "2023-06-14T15:14:41.401Z"
   },
   {
    "duration": 133,
    "start_time": "2023-06-14T15:14:44.248Z"
   },
   {
    "duration": 527,
    "start_time": "2023-06-14T15:14:44.384Z"
   },
   {
    "duration": 566,
    "start_time": "2023-06-14T15:14:44.912Z"
   },
   {
    "duration": 46,
    "start_time": "2023-06-14T15:14:45.480Z"
   },
   {
    "duration": 10,
    "start_time": "2023-06-14T15:14:45.527Z"
   },
   {
    "duration": 89,
    "start_time": "2023-06-14T15:14:45.554Z"
   },
   {
    "duration": 57,
    "start_time": "2023-06-14T15:14:45.653Z"
   },
   {
    "duration": 661,
    "start_time": "2023-06-14T15:14:45.713Z"
   },
   {
    "duration": 13,
    "start_time": "2023-06-14T15:14:46.375Z"
   },
   {
    "duration": 44,
    "start_time": "2023-06-14T15:14:46.389Z"
   },
   {
    "duration": 81,
    "start_time": "2023-06-14T15:14:46.436Z"
   },
   {
    "duration": 9,
    "start_time": "2023-06-14T15:14:46.519Z"
   },
   {
    "duration": 1869,
    "start_time": "2023-06-14T15:14:46.529Z"
   },
   {
    "duration": 11,
    "start_time": "2023-06-14T15:14:48.400Z"
   },
   {
    "duration": 42,
    "start_time": "2023-06-14T15:14:48.413Z"
   },
   {
    "duration": 34,
    "start_time": "2023-06-14T15:14:48.457Z"
   },
   {
    "duration": 33,
    "start_time": "2023-06-14T15:14:48.493Z"
   },
   {
    "duration": 69,
    "start_time": "2023-06-14T15:14:48.528Z"
   },
   {
    "duration": 188,
    "start_time": "2023-06-14T15:14:48.598Z"
   },
   {
    "duration": 27,
    "start_time": "2023-06-14T15:14:48.787Z"
   },
   {
    "duration": 73,
    "start_time": "2023-06-14T15:14:48.816Z"
   },
   {
    "duration": 13,
    "start_time": "2023-06-14T15:14:48.891Z"
   },
   {
    "duration": 71,
    "start_time": "2023-06-14T15:14:48.906Z"
   },
   {
    "duration": 18,
    "start_time": "2023-06-14T15:14:48.979Z"
   },
   {
    "duration": 68,
    "start_time": "2023-06-14T15:14:48.999Z"
   },
   {
    "duration": 48,
    "start_time": "2023-06-14T15:14:49.071Z"
   },
   {
    "duration": 85,
    "start_time": "2023-06-14T15:14:49.120Z"
   },
   {
    "duration": 13,
    "start_time": "2023-06-14T15:14:49.207Z"
   },
   {
    "duration": 49,
    "start_time": "2023-06-14T15:14:49.222Z"
   },
   {
    "duration": 37,
    "start_time": "2023-06-14T15:14:49.272Z"
   },
   {
    "duration": 45,
    "start_time": "2023-06-14T15:14:49.310Z"
   },
   {
    "duration": 39,
    "start_time": "2023-06-14T15:14:49.356Z"
   },
   {
    "duration": 58,
    "start_time": "2023-06-14T15:14:49.397Z"
   },
   {
    "duration": 12,
    "start_time": "2023-06-14T15:14:49.456Z"
   },
   {
    "duration": 40,
    "start_time": "2023-06-14T15:14:49.471Z"
   },
   {
    "duration": 13,
    "start_time": "2023-06-14T15:14:49.513Z"
   },
   {
    "duration": 225,
    "start_time": "2023-06-14T15:14:49.527Z"
   },
   {
    "duration": 9,
    "start_time": "2023-06-14T15:14:49.753Z"
   },
   {
    "duration": 15,
    "start_time": "2023-06-14T15:14:49.763Z"
   },
   {
    "duration": 41,
    "start_time": "2023-06-14T15:14:49.779Z"
   },
   {
    "duration": 421,
    "start_time": "2023-06-14T15:14:49.821Z"
   },
   {
    "duration": 696,
    "start_time": "2023-06-14T15:14:50.243Z"
   },
   {
    "duration": 14,
    "start_time": "2023-06-14T15:14:50.941Z"
   },
   {
    "duration": 3,
    "start_time": "2023-06-14T15:14:50.956Z"
   },
   {
    "duration": 1783,
    "start_time": "2023-06-14T15:14:50.961Z"
   },
   {
    "duration": 785,
    "start_time": "2023-06-14T15:14:52.746Z"
   },
   {
    "duration": 5,
    "start_time": "2023-06-14T15:14:53.532Z"
   },
   {
    "duration": 28429,
    "start_time": "2023-06-14T15:14:53.539Z"
   },
   {
    "duration": 68,
    "start_time": "2023-06-14T15:15:21.970Z"
   },
   {
    "duration": 15,
    "start_time": "2023-06-14T15:15:22.040Z"
   },
   {
    "duration": 3,
    "start_time": "2023-06-14T15:15:22.056Z"
   },
   {
    "duration": 28060,
    "start_time": "2023-06-14T15:15:22.060Z"
   },
   {
    "duration": 67,
    "start_time": "2023-06-14T15:15:50.123Z"
   },
   {
    "duration": 5,
    "start_time": "2023-06-14T15:15:50.192Z"
   },
   {
    "duration": 124570,
    "start_time": "2023-06-14T15:15:50.199Z"
   },
   {
    "duration": 598,
    "start_time": "2023-06-14T15:17:54.770Z"
   },
   {
    "duration": 5,
    "start_time": "2023-06-14T15:17:55.369Z"
   },
   {
    "duration": 2,
    "start_time": "2023-06-14T15:17:55.376Z"
   },
   {
    "duration": 5794,
    "start_time": "2023-06-14T15:17:55.380Z"
   },
   {
    "duration": 408,
    "start_time": "2023-06-14T15:18:01.255Z"
   },
   {
    "duration": 5,
    "start_time": "2023-06-14T15:18:01.665Z"
   },
   {
    "duration": 47,
    "start_time": "2023-06-14T15:18:01.671Z"
   },
   {
    "duration": 32,
    "start_time": "2023-06-14T15:18:01.719Z"
   },
   {
    "duration": 28,
    "start_time": "2023-06-14T15:18:01.754Z"
   },
   {
    "duration": 20,
    "start_time": "2023-06-14T15:18:01.784Z"
   },
   {
    "duration": 11,
    "start_time": "2023-06-14T15:18:59.956Z"
   },
   {
    "duration": 4,
    "start_time": "2023-06-14T15:24:28.456Z"
   },
   {
    "duration": 4,
    "start_time": "2023-06-14T15:26:12.223Z"
   },
   {
    "duration": 13327,
    "start_time": "2023-06-14T20:31:59.327Z"
   },
   {
    "duration": 1511,
    "start_time": "2023-06-14T20:32:12.656Z"
   },
   {
    "duration": 147,
    "start_time": "2023-06-14T20:32:14.168Z"
   },
   {
    "duration": 507,
    "start_time": "2023-06-14T20:32:14.335Z"
   },
   {
    "duration": 585,
    "start_time": "2023-06-14T20:32:14.844Z"
   },
   {
    "duration": 87,
    "start_time": "2023-06-14T20:32:15.430Z"
   },
   {
    "duration": 10,
    "start_time": "2023-06-14T20:32:15.518Z"
   },
   {
    "duration": 174,
    "start_time": "2023-06-14T20:32:15.529Z"
   },
   {
    "duration": 122,
    "start_time": "2023-06-14T20:32:15.704Z"
   },
   {
    "duration": 944,
    "start_time": "2023-06-14T20:32:15.827Z"
   },
   {
    "duration": 12,
    "start_time": "2023-06-14T20:32:16.772Z"
   },
   {
    "duration": 56,
    "start_time": "2023-06-14T20:32:16.785Z"
   },
   {
    "duration": 51,
    "start_time": "2023-06-14T20:32:16.842Z"
   },
   {
    "duration": 47,
    "start_time": "2023-06-14T20:32:16.897Z"
   },
   {
    "duration": 1740,
    "start_time": "2023-06-14T20:32:16.945Z"
   },
   {
    "duration": 17,
    "start_time": "2023-06-14T20:32:18.687Z"
   },
   {
    "duration": 65,
    "start_time": "2023-06-14T20:32:18.713Z"
   },
   {
    "duration": 54,
    "start_time": "2023-06-14T20:32:18.779Z"
   },
   {
    "duration": 30,
    "start_time": "2023-06-14T20:32:18.848Z"
   },
   {
    "duration": 54,
    "start_time": "2023-06-14T20:32:18.879Z"
   },
   {
    "duration": 160,
    "start_time": "2023-06-14T20:32:18.935Z"
   },
   {
    "duration": 37,
    "start_time": "2023-06-14T20:32:19.099Z"
   },
   {
    "duration": 77,
    "start_time": "2023-06-14T20:32:19.137Z"
   },
   {
    "duration": 46,
    "start_time": "2023-06-14T20:32:19.216Z"
   },
   {
    "duration": 77,
    "start_time": "2023-06-14T20:32:19.264Z"
   },
   {
    "duration": 17,
    "start_time": "2023-06-14T20:32:19.345Z"
   },
   {
    "duration": 55,
    "start_time": "2023-06-14T20:32:19.363Z"
   },
   {
    "duration": 49,
    "start_time": "2023-06-14T20:32:19.420Z"
   },
   {
    "duration": 86,
    "start_time": "2023-06-14T20:32:19.470Z"
   },
   {
    "duration": 25,
    "start_time": "2023-06-14T20:32:19.558Z"
   },
   {
    "duration": 51,
    "start_time": "2023-06-14T20:32:19.585Z"
   },
   {
    "duration": 54,
    "start_time": "2023-06-14T20:32:19.637Z"
   },
   {
    "duration": 58,
    "start_time": "2023-06-14T20:32:19.693Z"
   },
   {
    "duration": 35,
    "start_time": "2023-06-14T20:32:19.752Z"
   },
   {
    "duration": 57,
    "start_time": "2023-06-14T20:32:19.788Z"
   },
   {
    "duration": 20,
    "start_time": "2023-06-14T20:32:19.846Z"
   },
   {
    "duration": 65,
    "start_time": "2023-06-14T20:32:19.867Z"
   },
   {
    "duration": 147,
    "start_time": "2023-06-14T20:32:19.933Z"
   },
   {
    "duration": 0,
    "start_time": "2023-06-14T20:32:20.082Z"
   },
   {
    "duration": 0,
    "start_time": "2023-06-14T20:32:20.084Z"
   },
   {
    "duration": 0,
    "start_time": "2023-06-14T20:32:20.085Z"
   },
   {
    "duration": 0,
    "start_time": "2023-06-14T20:32:20.086Z"
   },
   {
    "duration": 0,
    "start_time": "2023-06-14T20:32:20.088Z"
   },
   {
    "duration": 0,
    "start_time": "2023-06-14T20:32:20.089Z"
   },
   {
    "duration": 0,
    "start_time": "2023-06-14T20:32:20.090Z"
   },
   {
    "duration": 0,
    "start_time": "2023-06-14T20:32:20.091Z"
   },
   {
    "duration": 0,
    "start_time": "2023-06-14T20:32:20.092Z"
   },
   {
    "duration": 0,
    "start_time": "2023-06-14T20:32:20.093Z"
   },
   {
    "duration": 0,
    "start_time": "2023-06-14T20:32:20.109Z"
   },
   {
    "duration": 0,
    "start_time": "2023-06-14T20:32:20.110Z"
   },
   {
    "duration": 0,
    "start_time": "2023-06-14T20:32:20.113Z"
   },
   {
    "duration": 0,
    "start_time": "2023-06-14T20:32:20.114Z"
   },
   {
    "duration": 0,
    "start_time": "2023-06-14T20:32:20.115Z"
   },
   {
    "duration": 0,
    "start_time": "2023-06-14T20:32:20.117Z"
   },
   {
    "duration": 0,
    "start_time": "2023-06-14T20:32:20.118Z"
   },
   {
    "duration": 0,
    "start_time": "2023-06-14T20:32:20.119Z"
   },
   {
    "duration": 0,
    "start_time": "2023-06-14T20:32:20.120Z"
   },
   {
    "duration": 0,
    "start_time": "2023-06-14T20:32:20.121Z"
   },
   {
    "duration": 0,
    "start_time": "2023-06-14T20:32:20.122Z"
   },
   {
    "duration": 0,
    "start_time": "2023-06-14T20:32:20.123Z"
   },
   {
    "duration": 0,
    "start_time": "2023-06-14T20:32:20.124Z"
   },
   {
    "duration": 0,
    "start_time": "2023-06-14T20:32:20.124Z"
   },
   {
    "duration": 0,
    "start_time": "2023-06-14T20:32:20.125Z"
   },
   {
    "duration": 0,
    "start_time": "2023-06-14T20:32:20.127Z"
   },
   {
    "duration": 0,
    "start_time": "2023-06-14T20:32:20.128Z"
   },
   {
    "duration": 0,
    "start_time": "2023-06-14T20:32:20.129Z"
   },
   {
    "duration": 0,
    "start_time": "2023-06-14T20:32:20.130Z"
   },
   {
    "duration": 0,
    "start_time": "2023-06-14T20:32:20.131Z"
   },
   {
    "duration": 11,
    "start_time": "2023-06-14T20:32:33.427Z"
   },
   {
    "duration": 16,
    "start_time": "2023-06-14T20:34:05.780Z"
   },
   {
    "duration": 51,
    "start_time": "2023-06-14T20:34:06.723Z"
   },
   {
    "duration": 311,
    "start_time": "2023-06-14T20:40:07.555Z"
   },
   {
    "duration": 18,
    "start_time": "2023-06-14T20:40:15.132Z"
   },
   {
    "duration": 45,
    "start_time": "2023-06-14T20:40:15.624Z"
   },
   {
    "duration": 295,
    "start_time": "2023-06-14T20:40:16.052Z"
   },
   {
    "duration": 415,
    "start_time": "2023-06-14T20:41:23.567Z"
   },
   {
    "duration": 453,
    "start_time": "2023-06-14T20:45:37.602Z"
   },
   {
    "duration": 270,
    "start_time": "2023-06-14T20:46:07.925Z"
   },
   {
    "duration": 554,
    "start_time": "2023-06-14T20:47:47.861Z"
   },
   {
    "duration": 368,
    "start_time": "2023-06-14T20:48:47.218Z"
   },
   {
    "duration": 314,
    "start_time": "2023-06-14T20:54:37.624Z"
   },
   {
    "duration": 22,
    "start_time": "2023-06-14T20:56:01.930Z"
   },
   {
    "duration": 17,
    "start_time": "2023-06-14T20:56:07.429Z"
   },
   {
    "duration": 14,
    "start_time": "2023-06-14T20:56:36.142Z"
   },
   {
    "duration": 3677,
    "start_time": "2023-06-14T20:57:18.644Z"
   },
   {
    "duration": 1032,
    "start_time": "2023-06-14T20:57:22.323Z"
   },
   {
    "duration": 111,
    "start_time": "2023-06-14T20:57:23.357Z"
   },
   {
    "duration": 410,
    "start_time": "2023-06-14T20:57:23.470Z"
   },
   {
    "duration": 504,
    "start_time": "2023-06-14T20:57:23.882Z"
   },
   {
    "duration": 49,
    "start_time": "2023-06-14T20:57:24.387Z"
   },
   {
    "duration": 10,
    "start_time": "2023-06-14T20:57:24.437Z"
   },
   {
    "duration": 94,
    "start_time": "2023-06-14T20:57:24.449Z"
   },
   {
    "duration": 72,
    "start_time": "2023-06-14T20:57:24.545Z"
   },
   {
    "duration": 561,
    "start_time": "2023-06-14T20:57:24.620Z"
   },
   {
    "duration": 29,
    "start_time": "2023-06-14T20:57:25.183Z"
   },
   {
    "duration": 37,
    "start_time": "2023-06-14T20:57:25.213Z"
   },
   {
    "duration": 61,
    "start_time": "2023-06-14T20:57:25.252Z"
   },
   {
    "duration": 10,
    "start_time": "2023-06-14T20:57:25.315Z"
   },
   {
    "duration": 1699,
    "start_time": "2023-06-14T20:57:25.327Z"
   },
   {
    "duration": 10,
    "start_time": "2023-06-14T20:57:27.027Z"
   },
   {
    "duration": 34,
    "start_time": "2023-06-14T20:57:27.039Z"
   },
   {
    "duration": 42,
    "start_time": "2023-06-14T20:57:27.074Z"
   },
   {
    "duration": 33,
    "start_time": "2023-06-14T20:57:27.117Z"
   },
   {
    "duration": 60,
    "start_time": "2023-06-14T20:57:27.151Z"
   },
   {
    "duration": 144,
    "start_time": "2023-06-14T20:57:27.213Z"
   },
   {
    "duration": 22,
    "start_time": "2023-06-14T20:57:27.359Z"
   },
   {
    "duration": 85,
    "start_time": "2023-06-14T20:57:27.383Z"
   },
   {
    "duration": 12,
    "start_time": "2023-06-14T20:57:27.469Z"
   },
   {
    "duration": 92,
    "start_time": "2023-06-14T20:57:27.483Z"
   },
   {
    "duration": 134,
    "start_time": "2023-06-14T20:57:27.577Z"
   },
   {
    "duration": 55,
    "start_time": "2023-06-14T20:57:27.713Z"
   },
   {
    "duration": 47,
    "start_time": "2023-06-14T20:57:27.773Z"
   },
   {
    "duration": 91,
    "start_time": "2023-06-14T20:57:27.822Z"
   },
   {
    "duration": 15,
    "start_time": "2023-06-14T20:57:27.915Z"
   },
   {
    "duration": 36,
    "start_time": "2023-06-14T20:57:27.932Z"
   },
   {
    "duration": 43,
    "start_time": "2023-06-14T20:57:27.970Z"
   },
   {
    "duration": 32,
    "start_time": "2023-06-14T20:57:28.014Z"
   },
   {
    "duration": 32,
    "start_time": "2023-06-14T20:57:28.047Z"
   },
   {
    "duration": 43,
    "start_time": "2023-06-14T20:57:28.080Z"
   },
   {
    "duration": 13,
    "start_time": "2023-06-14T20:57:28.125Z"
   },
   {
    "duration": 43,
    "start_time": "2023-06-14T20:57:28.140Z"
   },
   {
    "duration": 24,
    "start_time": "2023-06-14T20:57:28.185Z"
   },
   {
    "duration": 54,
    "start_time": "2023-06-14T20:57:28.210Z"
   },
   {
    "duration": 307,
    "start_time": "2023-06-14T20:57:28.266Z"
   },
   {
    "duration": 9,
    "start_time": "2023-06-14T20:57:28.574Z"
   },
   {
    "duration": 29,
    "start_time": "2023-06-14T20:57:28.584Z"
   },
   {
    "duration": 112,
    "start_time": "2023-06-14T20:57:28.615Z"
   },
   {
    "duration": 0,
    "start_time": "2023-06-14T20:57:28.729Z"
   },
   {
    "duration": 0,
    "start_time": "2023-06-14T20:57:28.730Z"
   },
   {
    "duration": 0,
    "start_time": "2023-06-14T20:57:28.731Z"
   },
   {
    "duration": 0,
    "start_time": "2023-06-14T20:57:28.732Z"
   },
   {
    "duration": 0,
    "start_time": "2023-06-14T20:57:28.733Z"
   },
   {
    "duration": 0,
    "start_time": "2023-06-14T20:57:28.734Z"
   },
   {
    "duration": 0,
    "start_time": "2023-06-14T20:57:28.735Z"
   },
   {
    "duration": 0,
    "start_time": "2023-06-14T20:57:28.736Z"
   },
   {
    "duration": 0,
    "start_time": "2023-06-14T20:57:28.737Z"
   },
   {
    "duration": 0,
    "start_time": "2023-06-14T20:57:28.738Z"
   },
   {
    "duration": 0,
    "start_time": "2023-06-14T20:57:28.739Z"
   },
   {
    "duration": 0,
    "start_time": "2023-06-14T20:57:28.741Z"
   },
   {
    "duration": 0,
    "start_time": "2023-06-14T20:57:28.742Z"
   },
   {
    "duration": 0,
    "start_time": "2023-06-14T20:57:28.743Z"
   },
   {
    "duration": 0,
    "start_time": "2023-06-14T20:57:28.743Z"
   },
   {
    "duration": 0,
    "start_time": "2023-06-14T20:57:28.744Z"
   },
   {
    "duration": 0,
    "start_time": "2023-06-14T20:57:28.745Z"
   },
   {
    "duration": 0,
    "start_time": "2023-06-14T20:57:28.746Z"
   },
   {
    "duration": 0,
    "start_time": "2023-06-14T20:57:28.746Z"
   },
   {
    "duration": 0,
    "start_time": "2023-06-14T20:57:28.747Z"
   },
   {
    "duration": 0,
    "start_time": "2023-06-14T20:57:28.748Z"
   },
   {
    "duration": 0,
    "start_time": "2023-06-14T20:57:28.749Z"
   },
   {
    "duration": 0,
    "start_time": "2023-06-14T20:57:28.749Z"
   },
   {
    "duration": 0,
    "start_time": "2023-06-14T20:57:28.750Z"
   },
   {
    "duration": 0,
    "start_time": "2023-06-14T20:57:28.751Z"
   },
   {
    "duration": 0,
    "start_time": "2023-06-14T20:57:28.751Z"
   },
   {
    "duration": 0,
    "start_time": "2023-06-14T20:57:28.752Z"
   },
   {
    "duration": 16,
    "start_time": "2023-06-14T20:57:43.748Z"
   },
   {
    "duration": 7,
    "start_time": "2023-06-14T20:58:17.343Z"
   },
   {
    "duration": 6,
    "start_time": "2023-06-14T20:58:41.250Z"
   },
   {
    "duration": 19,
    "start_time": "2023-06-14T20:58:49.392Z"
   },
   {
    "duration": 101,
    "start_time": "2023-06-14T21:01:25.698Z"
   },
   {
    "duration": 145,
    "start_time": "2023-06-14T21:03:21.511Z"
   },
   {
    "duration": 99,
    "start_time": "2023-06-14T21:03:43.899Z"
   },
   {
    "duration": 6,
    "start_time": "2023-06-14T21:03:50.234Z"
   },
   {
    "duration": 6,
    "start_time": "2023-06-14T21:03:50.684Z"
   },
   {
    "duration": 4,
    "start_time": "2023-06-14T21:03:51.238Z"
   },
   {
    "duration": 12,
    "start_time": "2023-06-14T21:03:51.697Z"
   },
   {
    "duration": 26,
    "start_time": "2023-06-14T21:15:49.018Z"
   },
   {
    "duration": 448339,
    "start_time": "2023-06-14T21:18:20.295Z"
   },
   {
    "duration": 5,
    "start_time": "2023-06-14T21:25:48.636Z"
   },
   {
    "duration": 2844,
    "start_time": "2023-06-14T21:32:36.415Z"
   },
   {
    "duration": 12,
    "start_time": "2023-06-14T21:32:56.168Z"
   },
   {
    "duration": 4,
    "start_time": "2023-06-14T21:33:49.180Z"
   },
   {
    "duration": 5644,
    "start_time": "2023-06-14T21:34:02.302Z"
   },
   {
    "duration": 96,
    "start_time": "2023-06-14T21:35:16.502Z"
   },
   {
    "duration": 5318,
    "start_time": "2023-06-14T21:35:32.112Z"
   },
   {
    "duration": 813,
    "start_time": "2023-06-14T21:39:16.487Z"
   },
   {
    "duration": 1737,
    "start_time": "2023-06-14T21:39:21.999Z"
   },
   {
    "duration": 11,
    "start_time": "2023-06-14T21:44:05.048Z"
   },
   {
    "duration": 9,
    "start_time": "2023-06-14T21:44:17.010Z"
   },
   {
    "duration": 1350,
    "start_time": "2023-06-14T22:07:24.018Z"
   },
   {
    "duration": 1104,
    "start_time": "2023-06-14T22:07:25.370Z"
   },
   {
    "duration": 107,
    "start_time": "2023-06-14T22:07:26.475Z"
   },
   {
    "duration": 392,
    "start_time": "2023-06-14T22:07:26.585Z"
   },
   {
    "duration": 487,
    "start_time": "2023-06-14T22:07:26.979Z"
   },
   {
    "duration": 61,
    "start_time": "2023-06-14T22:07:27.468Z"
   },
   {
    "duration": 11,
    "start_time": "2023-06-14T22:07:27.532Z"
   },
   {
    "duration": 74,
    "start_time": "2023-06-14T22:07:27.545Z"
   },
   {
    "duration": 58,
    "start_time": "2023-06-14T22:07:27.621Z"
   },
   {
    "duration": 551,
    "start_time": "2023-06-14T22:07:27.682Z"
   },
   {
    "duration": 12,
    "start_time": "2023-06-14T22:07:28.235Z"
   },
   {
    "duration": 31,
    "start_time": "2023-06-14T22:07:28.249Z"
   },
   {
    "duration": 66,
    "start_time": "2023-06-14T22:07:28.282Z"
   },
   {
    "duration": 9,
    "start_time": "2023-06-14T22:07:28.350Z"
   },
   {
    "duration": 1527,
    "start_time": "2023-06-14T22:07:28.360Z"
   },
   {
    "duration": 13,
    "start_time": "2023-06-14T22:07:29.889Z"
   },
   {
    "duration": 24,
    "start_time": "2023-06-14T22:07:29.903Z"
   },
   {
    "duration": 33,
    "start_time": "2023-06-14T22:07:29.929Z"
   },
   {
    "duration": 62,
    "start_time": "2023-06-14T22:07:29.964Z"
   },
   {
    "duration": 53,
    "start_time": "2023-06-14T22:07:30.028Z"
   },
   {
    "duration": 167,
    "start_time": "2023-06-14T22:07:30.082Z"
   },
   {
    "duration": 24,
    "start_time": "2023-06-14T22:07:30.250Z"
   },
   {
    "duration": 75,
    "start_time": "2023-06-14T22:07:30.275Z"
   },
   {
    "duration": 13,
    "start_time": "2023-06-14T22:07:30.352Z"
   },
   {
    "duration": 88,
    "start_time": "2023-06-14T22:07:30.367Z"
   },
   {
    "duration": 16,
    "start_time": "2023-06-14T22:07:30.456Z"
   },
   {
    "duration": 72,
    "start_time": "2023-06-14T22:07:30.474Z"
   },
   {
    "duration": 50,
    "start_time": "2023-06-14T22:07:30.550Z"
   },
   {
    "duration": 66,
    "start_time": "2023-06-14T22:07:30.602Z"
   },
   {
    "duration": 41,
    "start_time": "2023-06-14T22:07:30.670Z"
   },
   {
    "duration": 98,
    "start_time": "2023-06-14T22:07:30.713Z"
   },
   {
    "duration": 62,
    "start_time": "2023-06-14T22:07:30.812Z"
   },
   {
    "duration": 64,
    "start_time": "2023-06-14T22:07:30.875Z"
   },
   {
    "duration": 94,
    "start_time": "2023-06-14T22:07:30.940Z"
   },
   {
    "duration": 96,
    "start_time": "2023-06-14T22:07:31.035Z"
   },
   {
    "duration": 95,
    "start_time": "2023-06-14T22:07:31.132Z"
   },
   {
    "duration": 184,
    "start_time": "2023-06-14T22:07:31.228Z"
   },
   {
    "duration": 131,
    "start_time": "2023-06-14T22:07:31.413Z"
   },
   {
    "duration": 50,
    "start_time": "2023-06-14T22:07:31.546Z"
   },
   {
    "duration": 405,
    "start_time": "2023-06-14T22:07:31.598Z"
   },
   {
    "duration": 0,
    "start_time": "2023-06-14T22:07:32.004Z"
   },
   {
    "duration": 0,
    "start_time": "2023-06-14T22:07:32.005Z"
   },
   {
    "duration": 0,
    "start_time": "2023-06-14T22:07:32.006Z"
   },
   {
    "duration": 0,
    "start_time": "2023-06-14T22:07:32.007Z"
   },
   {
    "duration": 0,
    "start_time": "2023-06-14T22:07:32.008Z"
   },
   {
    "duration": 0,
    "start_time": "2023-06-14T22:07:32.009Z"
   },
   {
    "duration": 0,
    "start_time": "2023-06-14T22:07:32.009Z"
   },
   {
    "duration": 0,
    "start_time": "2023-06-14T22:07:32.010Z"
   },
   {
    "duration": 0,
    "start_time": "2023-06-14T22:07:32.011Z"
   },
   {
    "duration": 0,
    "start_time": "2023-06-14T22:07:32.011Z"
   },
   {
    "duration": 0,
    "start_time": "2023-06-14T22:07:32.012Z"
   },
   {
    "duration": 0,
    "start_time": "2023-06-14T22:07:32.013Z"
   },
   {
    "duration": 0,
    "start_time": "2023-06-14T22:07:32.014Z"
   },
   {
    "duration": 0,
    "start_time": "2023-06-14T22:07:32.015Z"
   },
   {
    "duration": 0,
    "start_time": "2023-06-14T22:07:32.016Z"
   },
   {
    "duration": 0,
    "start_time": "2023-06-14T22:07:32.017Z"
   },
   {
    "duration": 0,
    "start_time": "2023-06-14T22:07:32.018Z"
   },
   {
    "duration": 0,
    "start_time": "2023-06-14T22:07:32.018Z"
   },
   {
    "duration": 0,
    "start_time": "2023-06-14T22:07:32.019Z"
   },
   {
    "duration": 0,
    "start_time": "2023-06-14T22:07:32.020Z"
   },
   {
    "duration": 0,
    "start_time": "2023-06-14T22:07:32.021Z"
   },
   {
    "duration": 0,
    "start_time": "2023-06-14T22:07:32.021Z"
   },
   {
    "duration": 0,
    "start_time": "2023-06-14T22:07:32.022Z"
   },
   {
    "duration": 0,
    "start_time": "2023-06-14T22:07:32.023Z"
   },
   {
    "duration": 0,
    "start_time": "2023-06-14T22:07:32.024Z"
   },
   {
    "duration": 0,
    "start_time": "2023-06-14T22:07:32.025Z"
   },
   {
    "duration": 0,
    "start_time": "2023-06-14T22:07:32.025Z"
   },
   {
    "duration": 0,
    "start_time": "2023-06-14T22:07:32.026Z"
   },
   {
    "duration": 211,
    "start_time": "2023-06-14T22:09:07.899Z"
   },
   {
    "duration": 1406,
    "start_time": "2023-06-14T22:09:15.113Z"
   },
   {
    "duration": 767,
    "start_time": "2023-06-14T22:09:16.520Z"
   },
   {
    "duration": 136,
    "start_time": "2023-06-14T22:09:17.289Z"
   },
   {
    "duration": 392,
    "start_time": "2023-06-14T22:09:17.428Z"
   },
   {
    "duration": 495,
    "start_time": "2023-06-14T22:09:17.822Z"
   },
   {
    "duration": 45,
    "start_time": "2023-06-14T22:09:18.318Z"
   },
   {
    "duration": 10,
    "start_time": "2023-06-14T22:09:18.364Z"
   },
   {
    "duration": 79,
    "start_time": "2023-06-14T22:09:18.376Z"
   },
   {
    "duration": 64,
    "start_time": "2023-06-14T22:09:18.457Z"
   },
   {
    "duration": 571,
    "start_time": "2023-06-14T22:09:18.523Z"
   },
   {
    "duration": 14,
    "start_time": "2023-06-14T22:09:19.095Z"
   },
   {
    "duration": 29,
    "start_time": "2023-06-14T22:09:19.110Z"
   },
   {
    "duration": 65,
    "start_time": "2023-06-14T22:09:19.141Z"
   },
   {
    "duration": 7,
    "start_time": "2023-06-14T22:09:19.208Z"
   },
   {
    "duration": 1521,
    "start_time": "2023-06-14T22:09:19.216Z"
   },
   {
    "duration": 12,
    "start_time": "2023-06-14T22:09:20.739Z"
   },
   {
    "duration": 31,
    "start_time": "2023-06-14T22:09:20.752Z"
   },
   {
    "duration": 45,
    "start_time": "2023-06-14T22:09:20.784Z"
   },
   {
    "duration": 31,
    "start_time": "2023-06-14T22:09:20.831Z"
   },
   {
    "duration": 60,
    "start_time": "2023-06-14T22:09:20.864Z"
   },
   {
    "duration": 166,
    "start_time": "2023-06-14T22:09:20.926Z"
   },
   {
    "duration": 26,
    "start_time": "2023-06-14T22:09:21.093Z"
   },
   {
    "duration": 59,
    "start_time": "2023-06-14T22:09:21.120Z"
   },
   {
    "duration": 23,
    "start_time": "2023-06-14T22:09:21.180Z"
   },
   {
    "duration": 69,
    "start_time": "2023-06-14T22:09:21.205Z"
   },
   {
    "duration": 23,
    "start_time": "2023-06-14T22:09:21.276Z"
   },
   {
    "duration": 58,
    "start_time": "2023-06-14T22:09:21.301Z"
   },
   {
    "duration": 46,
    "start_time": "2023-06-14T22:09:21.364Z"
   },
   {
    "duration": 64,
    "start_time": "2023-06-14T22:09:21.411Z"
   },
   {
    "duration": 28,
    "start_time": "2023-06-14T22:09:21.477Z"
   },
   {
    "duration": 40,
    "start_time": "2023-06-14T22:09:21.507Z"
   },
   {
    "duration": 33,
    "start_time": "2023-06-14T22:09:21.548Z"
   },
   {
    "duration": 31,
    "start_time": "2023-06-14T22:09:21.600Z"
   },
   {
    "duration": 35,
    "start_time": "2023-06-14T22:09:21.632Z"
   },
   {
    "duration": 47,
    "start_time": "2023-06-14T22:09:21.669Z"
   },
   {
    "duration": 9,
    "start_time": "2023-06-14T22:09:21.717Z"
   },
   {
    "duration": 45,
    "start_time": "2023-06-14T22:09:21.727Z"
   },
   {
    "duration": 30,
    "start_time": "2023-06-14T22:09:21.774Z"
   },
   {
    "duration": 46,
    "start_time": "2023-06-14T22:09:21.806Z"
   },
   {
    "duration": 236,
    "start_time": "2023-06-14T22:09:21.854Z"
   },
   {
    "duration": 181,
    "start_time": "2023-06-14T22:09:22.092Z"
   },
   {
    "duration": 0,
    "start_time": "2023-06-14T22:09:22.274Z"
   },
   {
    "duration": 0,
    "start_time": "2023-06-14T22:09:22.276Z"
   },
   {
    "duration": 0,
    "start_time": "2023-06-14T22:09:22.277Z"
   },
   {
    "duration": 0,
    "start_time": "2023-06-14T22:09:22.278Z"
   },
   {
    "duration": 0,
    "start_time": "2023-06-14T22:09:22.279Z"
   },
   {
    "duration": 0,
    "start_time": "2023-06-14T22:09:22.281Z"
   },
   {
    "duration": 0,
    "start_time": "2023-06-14T22:09:22.282Z"
   },
   {
    "duration": 0,
    "start_time": "2023-06-14T22:09:22.300Z"
   },
   {
    "duration": 0,
    "start_time": "2023-06-14T22:09:22.301Z"
   },
   {
    "duration": 0,
    "start_time": "2023-06-14T22:09:22.302Z"
   },
   {
    "duration": 0,
    "start_time": "2023-06-14T22:09:22.303Z"
   },
   {
    "duration": 0,
    "start_time": "2023-06-14T22:09:22.305Z"
   },
   {
    "duration": 0,
    "start_time": "2023-06-14T22:09:22.306Z"
   },
   {
    "duration": 0,
    "start_time": "2023-06-14T22:09:22.307Z"
   },
   {
    "duration": 0,
    "start_time": "2023-06-14T22:09:22.308Z"
   },
   {
    "duration": 0,
    "start_time": "2023-06-14T22:09:22.310Z"
   },
   {
    "duration": 0,
    "start_time": "2023-06-14T22:09:22.311Z"
   },
   {
    "duration": 0,
    "start_time": "2023-06-14T22:09:22.313Z"
   },
   {
    "duration": 0,
    "start_time": "2023-06-14T22:09:22.314Z"
   },
   {
    "duration": 0,
    "start_time": "2023-06-14T22:09:22.315Z"
   },
   {
    "duration": 0,
    "start_time": "2023-06-14T22:09:22.316Z"
   },
   {
    "duration": 0,
    "start_time": "2023-06-14T22:09:22.318Z"
   },
   {
    "duration": 1,
    "start_time": "2023-06-14T22:09:22.318Z"
   },
   {
    "duration": 0,
    "start_time": "2023-06-14T22:09:22.320Z"
   },
   {
    "duration": 0,
    "start_time": "2023-06-14T22:09:22.321Z"
   },
   {
    "duration": 0,
    "start_time": "2023-06-14T22:09:22.322Z"
   },
   {
    "duration": 0,
    "start_time": "2023-06-14T22:09:22.322Z"
   },
   {
    "duration": 0,
    "start_time": "2023-06-14T22:09:22.323Z"
   },
   {
    "duration": 1295,
    "start_time": "2023-06-14T22:33:15.956Z"
   },
   {
    "duration": 740,
    "start_time": "2023-06-14T22:33:17.253Z"
   },
   {
    "duration": 123,
    "start_time": "2023-06-14T22:33:17.994Z"
   },
   {
    "duration": 421,
    "start_time": "2023-06-14T22:33:18.120Z"
   },
   {
    "duration": 486,
    "start_time": "2023-06-14T22:33:18.542Z"
   },
   {
    "duration": 40,
    "start_time": "2023-06-14T22:33:19.029Z"
   },
   {
    "duration": 9,
    "start_time": "2023-06-14T22:33:19.071Z"
   },
   {
    "duration": 76,
    "start_time": "2023-06-14T22:33:19.105Z"
   },
   {
    "duration": 63,
    "start_time": "2023-06-14T22:33:19.183Z"
   },
   {
    "duration": 533,
    "start_time": "2023-06-14T22:33:19.249Z"
   },
   {
    "duration": 23,
    "start_time": "2023-06-14T22:33:19.784Z"
   },
   {
    "duration": 56,
    "start_time": "2023-06-14T22:33:19.808Z"
   },
   {
    "duration": 52,
    "start_time": "2023-06-14T22:33:19.866Z"
   },
   {
    "duration": 8,
    "start_time": "2023-06-14T22:33:19.919Z"
   },
   {
    "duration": 1559,
    "start_time": "2023-06-14T22:33:19.928Z"
   },
   {
    "duration": 21,
    "start_time": "2023-06-14T22:33:21.488Z"
   },
   {
    "duration": 40,
    "start_time": "2023-06-14T22:33:21.510Z"
   },
   {
    "duration": 35,
    "start_time": "2023-06-14T22:33:21.552Z"
   },
   {
    "duration": 61,
    "start_time": "2023-06-14T22:33:21.589Z"
   },
   {
    "duration": 46,
    "start_time": "2023-06-14T22:33:21.652Z"
   },
   {
    "duration": 153,
    "start_time": "2023-06-14T22:33:21.699Z"
   },
   {
    "duration": 25,
    "start_time": "2023-06-14T22:33:21.854Z"
   },
   {
    "duration": 77,
    "start_time": "2023-06-14T22:33:21.881Z"
   },
   {
    "duration": 12,
    "start_time": "2023-06-14T22:33:21.960Z"
   },
   {
    "duration": 71,
    "start_time": "2023-06-14T22:33:21.973Z"
   },
   {
    "duration": 16,
    "start_time": "2023-06-14T22:33:22.046Z"
   },
   {
    "duration": 66,
    "start_time": "2023-06-14T22:33:22.063Z"
   },
   {
    "duration": 34,
    "start_time": "2023-06-14T22:33:22.134Z"
   },
   {
    "duration": 85,
    "start_time": "2023-06-14T22:33:22.170Z"
   },
   {
    "duration": 12,
    "start_time": "2023-06-14T22:33:22.256Z"
   },
   {
    "duration": 40,
    "start_time": "2023-06-14T22:33:22.270Z"
   },
   {
    "duration": 32,
    "start_time": "2023-06-14T22:33:22.312Z"
   },
   {
    "duration": 28,
    "start_time": "2023-06-14T22:33:22.346Z"
   },
   {
    "duration": 50,
    "start_time": "2023-06-14T22:33:22.375Z"
   },
   {
    "duration": 33,
    "start_time": "2023-06-14T22:33:22.426Z"
   },
   {
    "duration": 8,
    "start_time": "2023-06-14T22:33:22.460Z"
   },
   {
    "duration": 53,
    "start_time": "2023-06-14T22:33:22.470Z"
   },
   {
    "duration": 13,
    "start_time": "2023-06-14T22:33:22.525Z"
   },
   {
    "duration": 34,
    "start_time": "2023-06-14T22:33:22.540Z"
   },
   {
    "duration": 245,
    "start_time": "2023-06-14T22:33:22.575Z"
   },
   {
    "duration": 90,
    "start_time": "2023-06-14T22:33:22.822Z"
   },
   {
    "duration": 10,
    "start_time": "2023-06-14T22:33:22.913Z"
   },
   {
    "duration": 19,
    "start_time": "2023-06-14T22:33:22.924Z"
   },
   {
    "duration": 8,
    "start_time": "2023-06-14T22:33:22.944Z"
   },
   {
    "duration": 11,
    "start_time": "2023-06-14T22:33:22.954Z"
   },
   {
    "duration": 1495,
    "start_time": "2023-06-14T22:34:24.013Z"
   },
   {
    "duration": 849,
    "start_time": "2023-06-14T22:34:25.510Z"
   },
   {
    "duration": 116,
    "start_time": "2023-06-14T22:34:26.360Z"
   },
   {
    "duration": 401,
    "start_time": "2023-06-14T22:34:26.477Z"
   },
   {
    "duration": 473,
    "start_time": "2023-06-14T22:34:26.879Z"
   },
   {
    "duration": 61,
    "start_time": "2023-06-14T22:34:27.353Z"
   },
   {
    "duration": 9,
    "start_time": "2023-06-14T22:34:27.416Z"
   },
   {
    "duration": 72,
    "start_time": "2023-06-14T22:34:27.426Z"
   },
   {
    "duration": 54,
    "start_time": "2023-06-14T22:34:27.505Z"
   },
   {
    "duration": 508,
    "start_time": "2023-06-14T22:34:27.560Z"
   },
   {
    "duration": 11,
    "start_time": "2023-06-14T22:34:28.070Z"
   },
   {
    "duration": 53,
    "start_time": "2023-06-14T22:34:28.082Z"
   },
   {
    "duration": 49,
    "start_time": "2023-06-14T22:34:28.137Z"
   },
   {
    "duration": 23,
    "start_time": "2023-06-14T22:34:28.189Z"
   },
   {
    "duration": 1501,
    "start_time": "2023-06-14T22:34:28.213Z"
   },
   {
    "duration": 11,
    "start_time": "2023-06-14T22:34:29.715Z"
   },
   {
    "duration": 23,
    "start_time": "2023-06-14T22:34:29.727Z"
   },
   {
    "duration": 29,
    "start_time": "2023-06-14T22:34:29.752Z"
   },
   {
    "duration": 44,
    "start_time": "2023-06-14T22:34:29.783Z"
   },
   {
    "duration": 46,
    "start_time": "2023-06-14T22:34:29.829Z"
   },
   {
    "duration": 169,
    "start_time": "2023-06-14T22:34:29.876Z"
   },
   {
    "duration": 22,
    "start_time": "2023-06-14T22:34:30.047Z"
   },
   {
    "duration": 102,
    "start_time": "2023-06-14T22:34:30.071Z"
   },
   {
    "duration": 88,
    "start_time": "2023-06-14T22:34:30.174Z"
   },
   {
    "duration": 86,
    "start_time": "2023-06-14T22:34:30.264Z"
   },
   {
    "duration": 33,
    "start_time": "2023-06-14T22:34:30.352Z"
   },
   {
    "duration": 87,
    "start_time": "2023-06-14T22:34:30.386Z"
   },
   {
    "duration": 74,
    "start_time": "2023-06-14T22:34:30.474Z"
   },
   {
    "duration": 99,
    "start_time": "2023-06-14T22:34:30.550Z"
   },
   {
    "duration": 13,
    "start_time": "2023-06-14T22:34:30.650Z"
   },
   {
    "duration": 70,
    "start_time": "2023-06-14T22:34:30.664Z"
   },
   {
    "duration": 108,
    "start_time": "2023-06-14T22:34:30.736Z"
   },
   {
    "duration": 51,
    "start_time": "2023-06-14T22:34:30.845Z"
   },
   {
    "duration": 88,
    "start_time": "2023-06-14T22:34:30.898Z"
   },
   {
    "duration": 90,
    "start_time": "2023-06-14T22:34:30.987Z"
   },
   {
    "duration": 54,
    "start_time": "2023-06-14T22:34:31.078Z"
   },
   {
    "duration": 83,
    "start_time": "2023-06-14T22:34:31.134Z"
   },
   {
    "duration": 25,
    "start_time": "2023-06-14T22:34:31.219Z"
   },
   {
    "duration": 100,
    "start_time": "2023-06-14T22:34:31.246Z"
   },
   {
    "duration": 131,
    "start_time": "2023-06-14T22:34:31.348Z"
   },
   {
    "duration": 0,
    "start_time": "2023-06-14T22:34:31.481Z"
   },
   {
    "duration": 0,
    "start_time": "2023-06-14T22:34:31.482Z"
   },
   {
    "duration": 0,
    "start_time": "2023-06-14T22:34:31.483Z"
   },
   {
    "duration": 0,
    "start_time": "2023-06-14T22:34:31.484Z"
   },
   {
    "duration": 0,
    "start_time": "2023-06-14T22:34:31.486Z"
   },
   {
    "duration": 0,
    "start_time": "2023-06-14T22:34:31.487Z"
   },
   {
    "duration": 0,
    "start_time": "2023-06-14T22:34:31.499Z"
   },
   {
    "duration": 0,
    "start_time": "2023-06-14T22:34:31.500Z"
   },
   {
    "duration": 0,
    "start_time": "2023-06-14T22:34:31.500Z"
   },
   {
    "duration": 0,
    "start_time": "2023-06-14T22:34:31.501Z"
   },
   {
    "duration": 0,
    "start_time": "2023-06-14T22:34:31.502Z"
   },
   {
    "duration": 0,
    "start_time": "2023-06-14T22:34:31.502Z"
   },
   {
    "duration": 0,
    "start_time": "2023-06-14T22:34:31.503Z"
   },
   {
    "duration": 0,
    "start_time": "2023-06-14T22:34:31.503Z"
   },
   {
    "duration": 0,
    "start_time": "2023-06-14T22:34:31.504Z"
   },
   {
    "duration": 0,
    "start_time": "2023-06-14T22:34:31.504Z"
   },
   {
    "duration": 0,
    "start_time": "2023-06-14T22:34:31.505Z"
   },
   {
    "duration": 0,
    "start_time": "2023-06-14T22:34:31.506Z"
   },
   {
    "duration": 0,
    "start_time": "2023-06-14T22:34:31.506Z"
   },
   {
    "duration": 0,
    "start_time": "2023-06-14T22:34:31.507Z"
   },
   {
    "duration": 0,
    "start_time": "2023-06-14T22:34:31.507Z"
   },
   {
    "duration": 0,
    "start_time": "2023-06-14T22:34:31.508Z"
   },
   {
    "duration": 0,
    "start_time": "2023-06-14T22:34:31.508Z"
   },
   {
    "duration": 0,
    "start_time": "2023-06-14T22:34:31.508Z"
   },
   {
    "duration": 0,
    "start_time": "2023-06-14T22:34:31.509Z"
   },
   {
    "duration": 0,
    "start_time": "2023-06-14T22:34:31.509Z"
   },
   {
    "duration": 0,
    "start_time": "2023-06-14T22:34:31.510Z"
   },
   {
    "duration": 0,
    "start_time": "2023-06-14T22:34:31.510Z"
   },
   {
    "duration": 0,
    "start_time": "2023-06-14T22:34:31.511Z"
   },
   {
    "duration": 1324,
    "start_time": "2023-06-14T22:34:41.613Z"
   },
   {
    "duration": 699,
    "start_time": "2023-06-14T22:34:42.939Z"
   },
   {
    "duration": 123,
    "start_time": "2023-06-14T22:34:43.639Z"
   },
   {
    "duration": 382,
    "start_time": "2023-06-14T22:34:43.763Z"
   },
   {
    "duration": 462,
    "start_time": "2023-06-14T22:34:44.147Z"
   },
   {
    "duration": 41,
    "start_time": "2023-06-14T22:34:44.610Z"
   },
   {
    "duration": 9,
    "start_time": "2023-06-14T22:34:44.652Z"
   },
   {
    "duration": 85,
    "start_time": "2023-06-14T22:34:44.662Z"
   },
   {
    "duration": 90,
    "start_time": "2023-06-14T22:34:44.748Z"
   },
   {
    "duration": 515,
    "start_time": "2023-06-14T22:34:44.840Z"
   },
   {
    "duration": 11,
    "start_time": "2023-06-14T22:34:45.356Z"
   },
   {
    "duration": 46,
    "start_time": "2023-06-14T22:34:45.368Z"
   },
   {
    "duration": 48,
    "start_time": "2023-06-14T22:34:45.416Z"
   },
   {
    "duration": 7,
    "start_time": "2023-06-14T22:34:45.466Z"
   },
   {
    "duration": 1784,
    "start_time": "2023-06-14T22:34:45.474Z"
   },
   {
    "duration": 10,
    "start_time": "2023-06-14T22:34:47.260Z"
   },
   {
    "duration": 42,
    "start_time": "2023-06-14T22:34:47.272Z"
   },
   {
    "duration": 44,
    "start_time": "2023-06-14T22:34:47.317Z"
   },
   {
    "duration": 47,
    "start_time": "2023-06-14T22:34:47.363Z"
   },
   {
    "duration": 45,
    "start_time": "2023-06-14T22:34:47.411Z"
   },
   {
    "duration": 154,
    "start_time": "2023-06-14T22:34:47.457Z"
   },
   {
    "duration": 25,
    "start_time": "2023-06-14T22:34:47.613Z"
   },
   {
    "duration": 81,
    "start_time": "2023-06-14T22:34:47.639Z"
   },
   {
    "duration": 11,
    "start_time": "2023-06-14T22:34:47.721Z"
   },
   {
    "duration": 89,
    "start_time": "2023-06-14T22:34:47.733Z"
   },
   {
    "duration": 15,
    "start_time": "2023-06-14T22:34:47.824Z"
   },
   {
    "duration": 152,
    "start_time": "2023-06-14T22:34:47.840Z"
   },
   {
    "duration": 405,
    "start_time": "2023-06-14T22:34:47.993Z"
   },
   {
    "duration": 162,
    "start_time": "2023-06-14T22:34:48.410Z"
   },
   {
    "duration": 13,
    "start_time": "2023-06-14T22:34:48.574Z"
   },
   {
    "duration": 55,
    "start_time": "2023-06-14T22:34:48.589Z"
   },
   {
    "duration": 80,
    "start_time": "2023-06-14T22:34:48.645Z"
   },
   {
    "duration": 85,
    "start_time": "2023-06-14T22:34:48.726Z"
   },
   {
    "duration": 60,
    "start_time": "2023-06-14T22:34:48.812Z"
   },
   {
    "duration": 38,
    "start_time": "2023-06-14T22:34:48.873Z"
   },
   {
    "duration": 36,
    "start_time": "2023-06-14T22:34:48.913Z"
   },
   {
    "duration": 65,
    "start_time": "2023-06-14T22:34:48.950Z"
   },
   {
    "duration": 16,
    "start_time": "2023-06-14T22:34:49.016Z"
   },
   {
    "duration": 36,
    "start_time": "2023-06-14T22:34:49.034Z"
   },
   {
    "duration": 213,
    "start_time": "2023-06-14T22:34:49.072Z"
   },
   {
    "duration": 83,
    "start_time": "2023-06-14T22:34:49.289Z"
   },
   {
    "duration": 8,
    "start_time": "2023-06-14T22:34:49.373Z"
   },
   {
    "duration": 30,
    "start_time": "2023-06-14T22:34:49.382Z"
   },
   {
    "duration": 10,
    "start_time": "2023-06-14T22:34:49.413Z"
   },
   {
    "duration": 17,
    "start_time": "2023-06-14T22:34:49.424Z"
   },
   {
    "duration": 466870,
    "start_time": "2023-06-14T22:34:49.443Z"
   },
   {
    "duration": 5,
    "start_time": "2023-06-14T22:42:36.315Z"
   },
   {
    "duration": 2914,
    "start_time": "2023-06-14T22:42:36.322Z"
   },
   {
    "duration": 6300,
    "start_time": "2023-06-14T22:42:39.237Z"
   },
   {
    "duration": 3,
    "start_time": "2023-06-14T22:42:45.538Z"
   },
   {
    "duration": 1117,
    "start_time": "2023-06-14T22:42:45.543Z"
   },
   {
    "duration": 1864,
    "start_time": "2023-06-14T22:42:46.661Z"
   },
   {
    "duration": 220149,
    "start_time": "2023-06-14T22:42:48.527Z"
   },
   {
    "duration": 54,
    "start_time": "2023-06-14T22:46:28.677Z"
   },
   {
    "duration": 0,
    "start_time": "2023-06-14T22:46:28.733Z"
   },
   {
    "duration": 0,
    "start_time": "2023-06-14T22:46:28.734Z"
   },
   {
    "duration": 0,
    "start_time": "2023-06-14T22:46:28.736Z"
   },
   {
    "duration": 0,
    "start_time": "2023-06-14T22:46:28.737Z"
   },
   {
    "duration": 1,
    "start_time": "2023-06-14T22:46:28.738Z"
   },
   {
    "duration": 0,
    "start_time": "2023-06-14T22:46:28.739Z"
   },
   {
    "duration": 0,
    "start_time": "2023-06-14T22:46:28.744Z"
   },
   {
    "duration": 0,
    "start_time": "2023-06-14T22:46:28.744Z"
   },
   {
    "duration": 0,
    "start_time": "2023-06-14T22:46:28.746Z"
   },
   {
    "duration": 0,
    "start_time": "2023-06-14T22:46:28.746Z"
   },
   {
    "duration": 0,
    "start_time": "2023-06-14T22:46:28.748Z"
   },
   {
    "duration": 0,
    "start_time": "2023-06-14T22:46:28.748Z"
   },
   {
    "duration": 0,
    "start_time": "2023-06-14T22:46:28.749Z"
   },
   {
    "duration": 0,
    "start_time": "2023-06-14T22:46:28.750Z"
   },
   {
    "duration": 0,
    "start_time": "2023-06-14T22:46:28.751Z"
   },
   {
    "duration": 3,
    "start_time": "2023-06-14T22:47:42.664Z"
   },
   {
    "duration": 4,
    "start_time": "2023-06-14T22:48:50.889Z"
   },
   {
    "duration": 84,
    "start_time": "2023-06-14T23:00:08.370Z"
   },
   {
    "duration": 3,
    "start_time": "2023-06-14T23:00:12.994Z"
   },
   {
    "duration": 56,
    "start_time": "2023-06-14T23:01:02.647Z"
   },
   {
    "duration": 36,
    "start_time": "2023-06-14T23:01:22.135Z"
   },
   {
    "duration": 53662,
    "start_time": "2023-06-14T23:03:23.087Z"
   },
   {
    "duration": 120138,
    "start_time": "2023-06-14T23:04:16.750Z"
   },
   {
    "duration": 123,
    "start_time": "2023-06-15T06:09:18.151Z"
   },
   {
    "duration": 104,
    "start_time": "2023-06-15T06:09:22.648Z"
   },
   {
    "duration": 160566,
    "start_time": "2023-06-15T06:09:35.764Z"
   },
   {
    "duration": 1608,
    "start_time": "2023-06-15T06:17:43.590Z"
   },
   {
    "duration": 859,
    "start_time": "2023-06-15T06:17:45.199Z"
   },
   {
    "duration": 217,
    "start_time": "2023-06-15T06:17:46.060Z"
   },
   {
    "duration": 509,
    "start_time": "2023-06-15T06:17:46.279Z"
   },
   {
    "duration": 507,
    "start_time": "2023-06-15T06:17:46.789Z"
   },
   {
    "duration": 58,
    "start_time": "2023-06-15T06:17:47.300Z"
   },
   {
    "duration": 10,
    "start_time": "2023-06-15T06:17:47.360Z"
   },
   {
    "duration": 169,
    "start_time": "2023-06-15T06:17:47.371Z"
   },
   {
    "duration": 55,
    "start_time": "2023-06-15T06:17:47.541Z"
   },
   {
    "duration": 562,
    "start_time": "2023-06-15T06:17:47.598Z"
   },
   {
    "duration": 12,
    "start_time": "2023-06-15T06:17:48.162Z"
   },
   {
    "duration": 59,
    "start_time": "2023-06-15T06:17:48.175Z"
   },
   {
    "duration": 84,
    "start_time": "2023-06-15T06:17:48.235Z"
   },
   {
    "duration": 19,
    "start_time": "2023-06-15T06:17:48.325Z"
   },
   {
    "duration": 1684,
    "start_time": "2023-06-15T06:17:48.346Z"
   },
   {
    "duration": 12,
    "start_time": "2023-06-15T06:17:50.032Z"
   },
   {
    "duration": 26,
    "start_time": "2023-06-15T06:17:50.045Z"
   },
   {
    "duration": 65,
    "start_time": "2023-06-15T06:17:50.073Z"
   },
   {
    "duration": 34,
    "start_time": "2023-06-15T06:17:50.139Z"
   },
   {
    "duration": 56,
    "start_time": "2023-06-15T06:17:50.174Z"
   },
   {
    "duration": 149,
    "start_time": "2023-06-15T06:17:50.231Z"
   },
   {
    "duration": 52,
    "start_time": "2023-06-15T06:17:50.381Z"
   },
   {
    "duration": 82,
    "start_time": "2023-06-15T06:17:50.435Z"
   },
   {
    "duration": 17,
    "start_time": "2023-06-15T06:17:50.533Z"
   },
   {
    "duration": 82,
    "start_time": "2023-06-15T06:17:50.551Z"
   },
   {
    "duration": 19,
    "start_time": "2023-06-15T06:17:50.635Z"
   },
   {
    "duration": 117,
    "start_time": "2023-06-15T06:17:50.656Z"
   },
   {
    "duration": 68,
    "start_time": "2023-06-15T06:17:50.777Z"
   },
   {
    "duration": 89,
    "start_time": "2023-06-15T06:17:50.846Z"
   },
   {
    "duration": 15,
    "start_time": "2023-06-15T06:17:50.937Z"
   },
   {
    "duration": 91,
    "start_time": "2023-06-15T06:17:50.954Z"
   },
   {
    "duration": 100,
    "start_time": "2023-06-15T06:17:51.047Z"
   },
   {
    "duration": 92,
    "start_time": "2023-06-15T06:17:51.149Z"
   },
   {
    "duration": 37,
    "start_time": "2023-06-15T06:17:51.243Z"
   },
   {
    "duration": 66,
    "start_time": "2023-06-15T06:17:51.282Z"
   },
   {
    "duration": 25,
    "start_time": "2023-06-15T06:17:51.349Z"
   },
   {
    "duration": 70,
    "start_time": "2023-06-15T06:17:51.376Z"
   },
   {
    "duration": 11,
    "start_time": "2023-06-15T06:17:51.448Z"
   },
   {
    "duration": 49,
    "start_time": "2023-06-15T06:17:51.460Z"
   },
   {
    "duration": 275,
    "start_time": "2023-06-15T06:17:51.523Z"
   },
   {
    "duration": 101,
    "start_time": "2023-06-15T06:17:51.812Z"
   },
   {
    "duration": 12,
    "start_time": "2023-06-15T06:17:51.914Z"
   },
   {
    "duration": 32,
    "start_time": "2023-06-15T06:17:51.934Z"
   },
   {
    "duration": 35,
    "start_time": "2023-06-15T06:17:51.968Z"
   },
   {
    "duration": 65,
    "start_time": "2023-06-15T06:17:52.004Z"
   },
   {
    "duration": 514669,
    "start_time": "2023-06-15T06:17:52.071Z"
   },
   {
    "duration": 5,
    "start_time": "2023-06-15T06:26:26.742Z"
   },
   {
    "duration": 3597,
    "start_time": "2023-06-15T06:26:26.748Z"
   },
   {
    "duration": 7291,
    "start_time": "2023-06-15T06:26:30.347Z"
   },
   {
    "duration": 4,
    "start_time": "2023-06-15T06:26:37.644Z"
   },
   {
    "duration": 1228,
    "start_time": "2023-06-15T06:26:37.650Z"
   },
   {
    "duration": 2477,
    "start_time": "2023-06-15T06:26:38.882Z"
   },
   {
    "duration": 265297,
    "start_time": "2023-06-15T06:26:41.361Z"
   },
   {
    "duration": 4,
    "start_time": "2023-06-15T06:31:06.659Z"
   },
   {
    "duration": 72493,
    "start_time": "2023-06-15T06:31:06.664Z"
   },
   {
    "duration": 162427,
    "start_time": "2023-06-15T06:32:19.159Z"
   },
   {
    "duration": 3,
    "start_time": "2023-06-15T06:35:01.587Z"
   },
   {
    "duration": 156,
    "start_time": "2023-06-15T06:35:01.592Z"
   },
   {
    "duration": 0,
    "start_time": "2023-06-15T06:35:01.750Z"
   },
   {
    "duration": 0,
    "start_time": "2023-06-15T06:35:01.751Z"
   },
   {
    "duration": 0,
    "start_time": "2023-06-15T06:35:01.752Z"
   },
   {
    "duration": 0,
    "start_time": "2023-06-15T06:35:01.753Z"
   },
   {
    "duration": 0,
    "start_time": "2023-06-15T06:35:01.754Z"
   },
   {
    "duration": 0,
    "start_time": "2023-06-15T06:35:01.755Z"
   },
   {
    "duration": 0,
    "start_time": "2023-06-15T06:35:01.756Z"
   },
   {
    "duration": 0,
    "start_time": "2023-06-15T06:35:01.757Z"
   },
   {
    "duration": 0,
    "start_time": "2023-06-15T06:35:01.758Z"
   },
   {
    "duration": 0,
    "start_time": "2023-06-15T06:35:01.759Z"
   },
   {
    "duration": 0,
    "start_time": "2023-06-15T06:35:01.760Z"
   },
   {
    "duration": 35927,
    "start_time": "2023-06-15T07:01:57.459Z"
   },
   {
    "duration": 87588,
    "start_time": "2023-06-15T07:02:33.389Z"
   },
   {
    "duration": 65347,
    "start_time": "2023-06-15T07:04:52.746Z"
   },
   {
    "duration": 1586,
    "start_time": "2023-06-15T07:20:12.550Z"
   },
   {
    "duration": 761,
    "start_time": "2023-06-15T07:20:14.138Z"
   },
   {
    "duration": 141,
    "start_time": "2023-06-15T07:20:14.913Z"
   },
   {
    "duration": 424,
    "start_time": "2023-06-15T07:20:15.057Z"
   },
   {
    "duration": 538,
    "start_time": "2023-06-15T07:20:15.483Z"
   },
   {
    "duration": 47,
    "start_time": "2023-06-15T07:20:16.022Z"
   },
   {
    "duration": 9,
    "start_time": "2023-06-15T07:20:16.071Z"
   },
   {
    "duration": 97,
    "start_time": "2023-06-15T07:20:16.081Z"
   },
   {
    "duration": 73,
    "start_time": "2023-06-15T07:20:16.179Z"
   },
   {
    "duration": 610,
    "start_time": "2023-06-15T07:20:16.254Z"
   },
   {
    "duration": 11,
    "start_time": "2023-06-15T07:20:16.865Z"
   },
   {
    "duration": 57,
    "start_time": "2023-06-15T07:20:16.877Z"
   },
   {
    "duration": 52,
    "start_time": "2023-06-15T07:20:16.936Z"
   },
   {
    "duration": 35,
    "start_time": "2023-06-15T07:20:16.990Z"
   },
   {
    "duration": 1600,
    "start_time": "2023-06-15T07:20:17.027Z"
   },
   {
    "duration": 11,
    "start_time": "2023-06-15T07:20:18.629Z"
   },
   {
    "duration": 29,
    "start_time": "2023-06-15T07:20:18.641Z"
   },
   {
    "duration": 42,
    "start_time": "2023-06-15T07:20:18.671Z"
   },
   {
    "duration": 34,
    "start_time": "2023-06-15T07:20:18.723Z"
   },
   {
    "duration": 47,
    "start_time": "2023-06-15T07:20:18.758Z"
   },
   {
    "duration": 157,
    "start_time": "2023-06-15T07:20:18.806Z"
   },
   {
    "duration": 22,
    "start_time": "2023-06-15T07:20:18.965Z"
   },
   {
    "duration": 83,
    "start_time": "2023-06-15T07:20:18.988Z"
   },
   {
    "duration": 12,
    "start_time": "2023-06-15T07:20:19.072Z"
   },
   {
    "duration": 88,
    "start_time": "2023-06-15T07:20:19.085Z"
   },
   {
    "duration": 15,
    "start_time": "2023-06-15T07:20:19.175Z"
   },
   {
    "duration": 71,
    "start_time": "2023-06-15T07:20:19.192Z"
   },
   {
    "duration": 45,
    "start_time": "2023-06-15T07:20:19.267Z"
   },
   {
    "duration": 68,
    "start_time": "2023-06-15T07:20:19.313Z"
   },
   {
    "duration": 23,
    "start_time": "2023-06-15T07:20:19.382Z"
   },
   {
    "duration": 42,
    "start_time": "2023-06-15T07:20:19.406Z"
   },
   {
    "duration": 32,
    "start_time": "2023-06-15T07:20:19.450Z"
   },
   {
    "duration": 61,
    "start_time": "2023-06-15T07:20:19.484Z"
   },
   {
    "duration": 32,
    "start_time": "2023-06-15T07:20:19.546Z"
   },
   {
    "duration": 53,
    "start_time": "2023-06-15T07:20:19.579Z"
   },
   {
    "duration": 11,
    "start_time": "2023-06-15T07:20:19.634Z"
   },
   {
    "duration": 43,
    "start_time": "2023-06-15T07:20:19.646Z"
   },
   {
    "duration": 40,
    "start_time": "2023-06-15T07:20:19.690Z"
   },
   {
    "duration": 42,
    "start_time": "2023-06-15T07:20:19.732Z"
   },
   {
    "duration": 222,
    "start_time": "2023-06-15T07:20:19.776Z"
   },
   {
    "duration": 94,
    "start_time": "2023-06-15T07:20:20.010Z"
   },
   {
    "duration": 14,
    "start_time": "2023-06-15T07:20:20.106Z"
   },
   {
    "duration": 46,
    "start_time": "2023-06-15T07:20:20.127Z"
   },
   {
    "duration": 50,
    "start_time": "2023-06-15T07:20:20.175Z"
   },
   {
    "duration": 19,
    "start_time": "2023-06-15T07:20:20.232Z"
   },
   {
    "duration": 485873,
    "start_time": "2023-06-15T07:20:20.252Z"
   },
   {
    "duration": 7,
    "start_time": "2023-06-15T07:28:26.126Z"
   },
   {
    "duration": 2951,
    "start_time": "2023-06-15T07:28:26.134Z"
   },
   {
    "duration": 6283,
    "start_time": "2023-06-15T07:28:29.087Z"
   },
   {
    "duration": 2,
    "start_time": "2023-06-15T07:28:35.372Z"
   },
   {
    "duration": 1065,
    "start_time": "2023-06-15T07:28:35.376Z"
   },
   {
    "duration": 2242,
    "start_time": "2023-06-15T07:28:36.442Z"
   },
   {
    "duration": 286967,
    "start_time": "2023-06-15T07:28:38.687Z"
   },
   {
    "duration": 4,
    "start_time": "2023-06-15T07:33:25.656Z"
   },
   {
    "duration": 75497,
    "start_time": "2023-06-15T07:33:25.661Z"
   },
   {
    "duration": 167468,
    "start_time": "2023-06-15T07:34:41.161Z"
   },
   {
    "duration": 6,
    "start_time": "2023-06-15T07:37:28.638Z"
   },
   {
    "duration": 36953,
    "start_time": "2023-06-15T07:37:28.653Z"
   },
   {
    "duration": 79586,
    "start_time": "2023-06-15T07:38:05.607Z"
   },
   {
    "duration": 0,
    "start_time": "2023-06-15T09:29:13.595Z"
   },
   {
    "duration": 0,
    "start_time": "2023-06-15T09:29:13.597Z"
   },
   {
    "duration": 0,
    "start_time": "2023-06-15T09:29:13.597Z"
   },
   {
    "duration": 0,
    "start_time": "2023-06-15T09:29:13.598Z"
   },
   {
    "duration": 0,
    "start_time": "2023-06-15T09:29:13.599Z"
   },
   {
    "duration": 0,
    "start_time": "2023-06-15T09:29:13.600Z"
   },
   {
    "duration": 0,
    "start_time": "2023-06-15T09:29:13.600Z"
   },
   {
    "duration": 0,
    "start_time": "2023-06-15T09:29:13.600Z"
   },
   {
    "duration": 0,
    "start_time": "2023-06-15T09:29:13.613Z"
   },
   {
    "duration": 0,
    "start_time": "2023-06-15T09:29:13.614Z"
   },
   {
    "duration": 0,
    "start_time": "2023-06-15T09:29:13.614Z"
   },
   {
    "duration": 4736,
    "start_time": "2023-06-15T09:38:42.634Z"
   },
   {
    "duration": 894,
    "start_time": "2023-06-15T09:38:47.372Z"
   },
   {
    "duration": 169,
    "start_time": "2023-06-15T09:38:48.267Z"
   },
   {
    "duration": 549,
    "start_time": "2023-06-15T09:38:48.437Z"
   },
   {
    "duration": 586,
    "start_time": "2023-06-15T09:38:48.988Z"
   },
   {
    "duration": 64,
    "start_time": "2023-06-15T09:38:49.576Z"
   },
   {
    "duration": 29,
    "start_time": "2023-06-15T09:38:49.641Z"
   },
   {
    "duration": 162,
    "start_time": "2023-06-15T09:38:49.671Z"
   },
   {
    "duration": 119,
    "start_time": "2023-06-15T09:38:49.834Z"
   },
   {
    "duration": 606,
    "start_time": "2023-06-15T09:38:49.957Z"
   },
   {
    "duration": 12,
    "start_time": "2023-06-15T09:38:50.567Z"
   },
   {
    "duration": 52,
    "start_time": "2023-06-15T09:38:50.581Z"
   },
   {
    "duration": 79,
    "start_time": "2023-06-15T09:38:50.634Z"
   },
   {
    "duration": 25,
    "start_time": "2023-06-15T09:38:50.716Z"
   },
   {
    "duration": 1815,
    "start_time": "2023-06-15T09:38:50.745Z"
   },
   {
    "duration": 16,
    "start_time": "2023-06-15T09:38:52.563Z"
   },
   {
    "duration": 159,
    "start_time": "2023-06-15T09:38:52.581Z"
   },
   {
    "duration": 124,
    "start_time": "2023-06-15T09:38:52.743Z"
   },
   {
    "duration": 56,
    "start_time": "2023-06-15T09:38:52.869Z"
   },
   {
    "duration": 87,
    "start_time": "2023-06-15T09:38:52.927Z"
   },
   {
    "duration": 180,
    "start_time": "2023-06-15T09:38:53.016Z"
   },
   {
    "duration": 49,
    "start_time": "2023-06-15T09:38:53.197Z"
   },
   {
    "duration": 123,
    "start_time": "2023-06-15T09:38:53.249Z"
   },
   {
    "duration": 52,
    "start_time": "2023-06-15T09:38:53.373Z"
   },
   {
    "duration": 137,
    "start_time": "2023-06-15T09:38:53.436Z"
   },
   {
    "duration": 46,
    "start_time": "2023-06-15T09:38:53.575Z"
   },
   {
    "duration": 153,
    "start_time": "2023-06-15T09:38:53.622Z"
   },
   {
    "duration": 45,
    "start_time": "2023-06-15T09:38:53.777Z"
   },
   {
    "duration": 112,
    "start_time": "2023-06-15T09:38:53.823Z"
   },
   {
    "duration": 27,
    "start_time": "2023-06-15T09:38:53.947Z"
   },
   {
    "duration": 83,
    "start_time": "2023-06-15T09:38:53.976Z"
   },
   {
    "duration": 79,
    "start_time": "2023-06-15T09:38:54.062Z"
   },
   {
    "duration": 82,
    "start_time": "2023-06-15T09:38:54.143Z"
   },
   {
    "duration": 91,
    "start_time": "2023-06-15T09:38:54.226Z"
   },
   {
    "duration": 52,
    "start_time": "2023-06-15T09:38:54.318Z"
   },
   {
    "duration": 15,
    "start_time": "2023-06-15T09:38:54.372Z"
   },
   {
    "duration": 133,
    "start_time": "2023-06-15T09:38:54.388Z"
   },
   {
    "duration": 32,
    "start_time": "2023-06-15T09:38:54.523Z"
   },
   {
    "duration": 65,
    "start_time": "2023-06-15T09:38:54.556Z"
   },
   {
    "duration": 351,
    "start_time": "2023-06-15T09:38:54.622Z"
   },
   {
    "duration": 104,
    "start_time": "2023-06-15T09:38:54.977Z"
   },
   {
    "duration": 10,
    "start_time": "2023-06-15T09:38:55.083Z"
   },
   {
    "duration": 76,
    "start_time": "2023-06-15T09:38:55.094Z"
   },
   {
    "duration": 77,
    "start_time": "2023-06-15T09:38:55.171Z"
   },
   {
    "duration": 18,
    "start_time": "2023-06-15T09:38:55.251Z"
   },
   {
    "duration": 541111,
    "start_time": "2023-06-15T09:38:55.271Z"
   },
   {
    "duration": 4,
    "start_time": "2023-06-15T09:47:56.383Z"
   },
   {
    "duration": 2845,
    "start_time": "2023-06-15T09:47:56.389Z"
   },
   {
    "duration": 6026,
    "start_time": "2023-06-15T09:47:59.236Z"
   },
   {
    "duration": 2,
    "start_time": "2023-06-15T09:48:05.263Z"
   },
   {
    "duration": 1015,
    "start_time": "2023-06-15T09:48:05.267Z"
   },
   {
    "duration": 2061,
    "start_time": "2023-06-15T09:48:06.284Z"
   },
   {
    "duration": 243611,
    "start_time": "2023-06-15T09:48:08.347Z"
   },
   {
    "duration": 3,
    "start_time": "2023-06-15T09:52:11.960Z"
   },
   {
    "duration": 70123,
    "start_time": "2023-06-15T09:52:11.965Z"
   },
   {
    "duration": 150365,
    "start_time": "2023-06-15T09:53:22.089Z"
   },
   {
    "duration": 1,
    "start_time": "2023-06-15T09:55:52.456Z"
   },
   {
    "duration": 33999,
    "start_time": "2023-06-15T09:55:52.459Z"
   },
   {
    "duration": 72118,
    "start_time": "2023-06-15T09:56:26.460Z"
   },
   {
    "duration": 323548,
    "start_time": "2023-06-15T09:57:38.580Z"
   },
   {
    "duration": 0,
    "start_time": "2023-06-15T10:03:02.133Z"
   },
   {
    "duration": 0,
    "start_time": "2023-06-15T10:03:02.135Z"
   },
   {
    "duration": 0,
    "start_time": "2023-06-15T10:03:02.136Z"
   },
   {
    "duration": 0,
    "start_time": "2023-06-15T10:03:02.137Z"
   },
   {
    "duration": 0,
    "start_time": "2023-06-15T10:03:02.141Z"
   },
   {
    "duration": 0,
    "start_time": "2023-06-15T10:03:02.142Z"
   },
   {
    "duration": 0,
    "start_time": "2023-06-15T10:03:02.143Z"
   },
   {
    "duration": 0,
    "start_time": "2023-06-15T10:03:02.144Z"
   },
   {
    "duration": 0,
    "start_time": "2023-06-15T10:03:02.145Z"
   },
   {
    "duration": 0,
    "start_time": "2023-06-15T10:03:02.146Z"
   },
   {
    "duration": 1917,
    "start_time": "2023-06-15T10:03:24.751Z"
   },
   {
    "duration": 990,
    "start_time": "2023-06-15T10:03:26.670Z"
   },
   {
    "duration": 187,
    "start_time": "2023-06-15T10:03:27.661Z"
   },
   {
    "duration": 585,
    "start_time": "2023-06-15T10:03:27.854Z"
   },
   {
    "duration": 570,
    "start_time": "2023-06-15T10:03:28.441Z"
   },
   {
    "duration": 44,
    "start_time": "2023-06-15T10:03:29.025Z"
   },
   {
    "duration": 10,
    "start_time": "2023-06-15T10:03:29.070Z"
   },
   {
    "duration": 168,
    "start_time": "2023-06-15T10:03:29.082Z"
   },
   {
    "duration": 80,
    "start_time": "2023-06-15T10:03:29.252Z"
   },
   {
    "duration": 712,
    "start_time": "2023-06-15T10:03:29.338Z"
   },
   {
    "duration": 16,
    "start_time": "2023-06-15T10:03:30.052Z"
   },
   {
    "duration": 410,
    "start_time": "2023-06-15T10:03:30.070Z"
   },
   {
    "duration": 159,
    "start_time": "2023-06-15T10:03:30.482Z"
   },
   {
    "duration": 215,
    "start_time": "2023-06-15T10:03:30.644Z"
   },
   {
    "duration": 2446,
    "start_time": "2023-06-15T10:03:30.861Z"
   },
   {
    "duration": 15,
    "start_time": "2023-06-15T10:03:33.309Z"
   },
   {
    "duration": 51,
    "start_time": "2023-06-15T10:03:33.334Z"
   },
   {
    "duration": 124,
    "start_time": "2023-06-15T10:03:33.389Z"
   },
   {
    "duration": 51,
    "start_time": "2023-06-15T10:03:33.525Z"
   },
   {
    "duration": 72,
    "start_time": "2023-06-15T10:03:33.578Z"
   },
   {
    "duration": 178,
    "start_time": "2023-06-15T10:03:33.653Z"
   },
   {
    "duration": 34,
    "start_time": "2023-06-15T10:03:33.833Z"
   },
   {
    "duration": 131,
    "start_time": "2023-06-15T10:03:33.869Z"
   },
   {
    "duration": 78,
    "start_time": "2023-06-15T10:03:34.004Z"
   },
   {
    "duration": 220,
    "start_time": "2023-06-15T10:03:34.084Z"
   },
   {
    "duration": 78,
    "start_time": "2023-06-15T10:03:34.306Z"
   },
   {
    "duration": 146,
    "start_time": "2023-06-15T10:03:34.386Z"
   },
   {
    "duration": 38,
    "start_time": "2023-06-15T10:03:34.551Z"
   },
   {
    "duration": 94,
    "start_time": "2023-06-15T10:03:34.591Z"
   },
   {
    "duration": 51,
    "start_time": "2023-06-15T10:03:34.687Z"
   },
   {
    "duration": 146,
    "start_time": "2023-06-15T10:03:34.739Z"
   },
   {
    "duration": 151,
    "start_time": "2023-06-15T10:03:34.889Z"
   },
   {
    "duration": 30,
    "start_time": "2023-06-15T10:03:35.046Z"
   },
   {
    "duration": 57,
    "start_time": "2023-06-15T10:03:35.078Z"
   },
   {
    "duration": 75,
    "start_time": "2023-06-15T10:03:35.146Z"
   },
   {
    "duration": 46,
    "start_time": "2023-06-15T10:03:35.222Z"
   },
   {
    "duration": 94,
    "start_time": "2023-06-15T10:03:35.270Z"
   },
   {
    "duration": 24,
    "start_time": "2023-06-15T10:03:35.366Z"
   },
   {
    "duration": 125,
    "start_time": "2023-06-15T10:03:35.392Z"
   },
   {
    "duration": 357,
    "start_time": "2023-06-15T10:03:35.518Z"
   },
   {
    "duration": 160,
    "start_time": "2023-06-15T10:03:35.877Z"
   },
   {
    "duration": 11,
    "start_time": "2023-06-15T10:03:36.038Z"
   },
   {
    "duration": 111,
    "start_time": "2023-06-15T10:03:36.058Z"
   },
   {
    "duration": 220,
    "start_time": "2023-06-15T10:03:36.171Z"
   },
   {
    "duration": 161,
    "start_time": "2023-06-15T10:03:36.393Z"
   },
   {
    "duration": 511423,
    "start_time": "2023-06-15T10:03:36.556Z"
   },
   {
    "duration": 5,
    "start_time": "2023-06-15T10:12:07.980Z"
   },
   {
    "duration": 2951,
    "start_time": "2023-06-15T10:12:07.986Z"
   },
   {
    "duration": 6091,
    "start_time": "2023-06-15T10:12:10.938Z"
   },
   {
    "duration": 2,
    "start_time": "2023-06-15T10:12:17.031Z"
   },
   {
    "duration": 944,
    "start_time": "2023-06-15T10:12:17.038Z"
   },
   {
    "duration": 1927,
    "start_time": "2023-06-15T10:12:17.984Z"
   },
   {
    "duration": 262911,
    "start_time": "2023-06-15T10:12:19.918Z"
   },
   {
    "duration": 7,
    "start_time": "2023-06-15T10:16:42.830Z"
   },
   {
    "duration": 68927,
    "start_time": "2023-06-15T10:16:42.838Z"
   },
   {
    "duration": 162596,
    "start_time": "2023-06-15T10:17:51.766Z"
   },
   {
    "duration": 2,
    "start_time": "2023-06-15T10:20:34.370Z"
   },
   {
    "duration": 38098,
    "start_time": "2023-06-15T10:20:34.374Z"
   },
   {
    "duration": 82062,
    "start_time": "2023-06-15T10:21:12.473Z"
   },
   {
    "duration": 489966,
    "start_time": "2023-06-15T10:22:34.544Z"
   },
   {
    "duration": 22,
    "start_time": "2023-06-15T10:30:44.511Z"
   },
   {
    "duration": 297,
    "start_time": "2023-06-15T10:30:44.534Z"
   },
   {
    "duration": 0,
    "start_time": "2023-06-15T10:30:44.833Z"
   },
   {
    "duration": 0,
    "start_time": "2023-06-15T10:30:44.834Z"
   },
   {
    "duration": 0,
    "start_time": "2023-06-15T10:30:44.834Z"
   },
   {
    "duration": 0,
    "start_time": "2023-06-15T10:30:44.835Z"
   },
   {
    "duration": 0,
    "start_time": "2023-06-15T10:30:44.836Z"
   },
   {
    "duration": 0,
    "start_time": "2023-06-15T10:30:44.837Z"
   },
   {
    "duration": 0,
    "start_time": "2023-06-15T10:30:44.838Z"
   },
   {
    "duration": 0,
    "start_time": "2023-06-15T10:30:44.838Z"
   },
   {
    "duration": 76,
    "start_time": "2023-06-15T12:21:33.836Z"
   },
   {
    "duration": 26972,
    "start_time": "2023-06-15T12:22:09.735Z"
   },
   {
    "duration": 134844,
    "start_time": "2023-06-15T12:22:51.097Z"
   },
   {
    "duration": 4,
    "start_time": "2023-06-15T12:25:06.000Z"
   },
   {
    "duration": 87420,
    "start_time": "2023-06-15T12:25:06.005Z"
   },
   {
    "duration": 271014,
    "start_time": "2023-06-15T12:26:33.499Z"
   },
   {
    "duration": 107,
    "start_time": "2023-06-15T13:19:53.390Z"
   },
   {
    "duration": 9,
    "start_time": "2023-06-15T13:20:03.839Z"
   },
   {
    "duration": 35092,
    "start_time": "2023-06-15T13:21:26.580Z"
   },
   {
    "duration": 112,
    "start_time": "2023-06-15T13:23:11.453Z"
   },
   {
    "duration": 5,
    "start_time": "2023-06-15T13:23:53.055Z"
   },
   {
    "duration": 3,
    "start_time": "2023-06-15T13:25:04.590Z"
   },
   {
    "duration": 3,
    "start_time": "2023-06-15T13:25:28.938Z"
   },
   {
    "duration": 3,
    "start_time": "2023-06-15T13:25:29.338Z"
   },
   {
    "duration": 10,
    "start_time": "2023-06-15T13:28:38.855Z"
   },
   {
    "duration": 98,
    "start_time": "2023-06-16T14:05:50.653Z"
   },
   {
    "duration": 188,
    "start_time": "2023-06-16T14:05:55.951Z"
   },
   {
    "duration": 126,
    "start_time": "2023-06-16T14:06:22.649Z"
   },
   {
    "duration": 327,
    "start_time": "2023-06-16T14:07:09.027Z"
   },
   {
    "duration": 346,
    "start_time": "2023-06-16T14:08:04.286Z"
   },
   {
    "duration": 108,
    "start_time": "2023-06-16T14:08:33.420Z"
   },
   {
    "duration": 307,
    "start_time": "2023-06-16T14:09:25.856Z"
   },
   {
    "duration": 4,
    "start_time": "2023-06-16T15:44:53.066Z"
   },
   {
    "duration": 3,
    "start_time": "2023-06-16T15:51:32.738Z"
   },
   {
    "duration": 107,
    "start_time": "2023-06-16T15:51:42.946Z"
   },
   {
    "duration": 3,
    "start_time": "2023-06-16T15:51:51.557Z"
   },
   {
    "duration": 567,
    "start_time": "2023-06-16T16:00:44.426Z"
   },
   {
    "duration": 0,
    "start_time": "2023-06-16T16:00:44.996Z"
   },
   {
    "duration": 0,
    "start_time": "2023-06-16T16:00:44.997Z"
   },
   {
    "duration": 0,
    "start_time": "2023-06-16T16:00:44.998Z"
   },
   {
    "duration": 0,
    "start_time": "2023-06-16T16:00:44.999Z"
   },
   {
    "duration": 0,
    "start_time": "2023-06-16T16:00:44.999Z"
   },
   {
    "duration": 0,
    "start_time": "2023-06-16T16:00:45.000Z"
   },
   {
    "duration": 0,
    "start_time": "2023-06-16T16:00:45.001Z"
   },
   {
    "duration": 0,
    "start_time": "2023-06-16T16:00:45.002Z"
   },
   {
    "duration": 0,
    "start_time": "2023-06-16T16:00:45.002Z"
   },
   {
    "duration": 0,
    "start_time": "2023-06-16T16:00:45.003Z"
   },
   {
    "duration": 0,
    "start_time": "2023-06-16T16:00:45.004Z"
   },
   {
    "duration": 0,
    "start_time": "2023-06-16T16:00:45.004Z"
   },
   {
    "duration": 0,
    "start_time": "2023-06-16T16:00:45.005Z"
   },
   {
    "duration": 0,
    "start_time": "2023-06-16T16:00:45.006Z"
   },
   {
    "duration": 0,
    "start_time": "2023-06-16T16:00:45.006Z"
   },
   {
    "duration": 0,
    "start_time": "2023-06-16T16:00:45.007Z"
   },
   {
    "duration": 0,
    "start_time": "2023-06-16T16:00:45.008Z"
   },
   {
    "duration": 0,
    "start_time": "2023-06-16T16:00:45.009Z"
   },
   {
    "duration": 0,
    "start_time": "2023-06-16T16:00:45.010Z"
   },
   {
    "duration": 0,
    "start_time": "2023-06-16T16:00:45.011Z"
   },
   {
    "duration": 0,
    "start_time": "2023-06-16T16:00:45.012Z"
   },
   {
    "duration": 0,
    "start_time": "2023-06-16T16:00:45.013Z"
   },
   {
    "duration": 0,
    "start_time": "2023-06-16T16:00:45.014Z"
   },
   {
    "duration": 0,
    "start_time": "2023-06-16T16:00:45.015Z"
   },
   {
    "duration": 0,
    "start_time": "2023-06-16T16:00:45.016Z"
   },
   {
    "duration": 0,
    "start_time": "2023-06-16T16:00:45.017Z"
   },
   {
    "duration": 0,
    "start_time": "2023-06-16T16:00:45.018Z"
   },
   {
    "duration": 1,
    "start_time": "2023-06-16T16:00:45.019Z"
   },
   {
    "duration": 0,
    "start_time": "2023-06-16T16:00:45.020Z"
   },
   {
    "duration": 0,
    "start_time": "2023-06-16T16:00:45.021Z"
   },
   {
    "duration": 0,
    "start_time": "2023-06-16T16:00:45.022Z"
   },
   {
    "duration": 0,
    "start_time": "2023-06-16T16:00:45.023Z"
   },
   {
    "duration": 0,
    "start_time": "2023-06-16T16:00:45.025Z"
   },
   {
    "duration": 0,
    "start_time": "2023-06-16T16:00:45.025Z"
   },
   {
    "duration": 0,
    "start_time": "2023-06-16T16:00:45.026Z"
   },
   {
    "duration": 0,
    "start_time": "2023-06-16T16:00:45.027Z"
   },
   {
    "duration": 0,
    "start_time": "2023-06-16T16:00:45.028Z"
   },
   {
    "duration": 0,
    "start_time": "2023-06-16T16:00:45.029Z"
   },
   {
    "duration": 0,
    "start_time": "2023-06-16T16:00:45.030Z"
   },
   {
    "duration": 0,
    "start_time": "2023-06-16T16:00:45.031Z"
   },
   {
    "duration": 0,
    "start_time": "2023-06-16T16:00:45.032Z"
   },
   {
    "duration": 0,
    "start_time": "2023-06-16T16:00:45.032Z"
   },
   {
    "duration": 0,
    "start_time": "2023-06-16T16:00:45.034Z"
   },
   {
    "duration": 0,
    "start_time": "2023-06-16T16:00:45.034Z"
   },
   {
    "duration": 0,
    "start_time": "2023-06-16T16:00:45.035Z"
   },
   {
    "duration": 0,
    "start_time": "2023-06-16T16:00:45.036Z"
   },
   {
    "duration": 0,
    "start_time": "2023-06-16T16:00:45.037Z"
   },
   {
    "duration": 0,
    "start_time": "2023-06-16T16:00:45.038Z"
   },
   {
    "duration": 0,
    "start_time": "2023-06-16T16:00:45.099Z"
   },
   {
    "duration": 0,
    "start_time": "2023-06-16T16:00:45.100Z"
   },
   {
    "duration": 0,
    "start_time": "2023-06-16T16:00:45.101Z"
   },
   {
    "duration": 0,
    "start_time": "2023-06-16T16:00:45.102Z"
   },
   {
    "duration": 0,
    "start_time": "2023-06-16T16:00:45.102Z"
   },
   {
    "duration": 0,
    "start_time": "2023-06-16T16:00:45.103Z"
   },
   {
    "duration": 0,
    "start_time": "2023-06-16T16:00:45.104Z"
   },
   {
    "duration": 0,
    "start_time": "2023-06-16T16:00:45.105Z"
   },
   {
    "duration": 0,
    "start_time": "2023-06-16T16:00:45.105Z"
   },
   {
    "duration": 0,
    "start_time": "2023-06-16T16:00:45.106Z"
   },
   {
    "duration": 0,
    "start_time": "2023-06-16T16:00:45.107Z"
   },
   {
    "duration": 0,
    "start_time": "2023-06-16T16:00:45.108Z"
   },
   {
    "duration": 0,
    "start_time": "2023-06-16T16:00:45.109Z"
   },
   {
    "duration": 0,
    "start_time": "2023-06-16T16:00:45.110Z"
   },
   {
    "duration": 0,
    "start_time": "2023-06-16T16:00:45.111Z"
   },
   {
    "duration": 0,
    "start_time": "2023-06-16T16:00:45.112Z"
   },
   {
    "duration": 0,
    "start_time": "2023-06-16T16:00:45.112Z"
   },
   {
    "duration": 0,
    "start_time": "2023-06-16T16:00:45.113Z"
   },
   {
    "duration": 0,
    "start_time": "2023-06-16T16:00:45.114Z"
   },
   {
    "duration": 0,
    "start_time": "2023-06-16T16:00:45.115Z"
   },
   {
    "duration": 1,
    "start_time": "2023-06-16T16:00:45.115Z"
   },
   {
    "duration": 0,
    "start_time": "2023-06-16T16:00:45.116Z"
   },
   {
    "duration": 0,
    "start_time": "2023-06-16T16:00:45.117Z"
   },
   {
    "duration": 0,
    "start_time": "2023-06-16T16:00:45.118Z"
   },
   {
    "duration": 0,
    "start_time": "2023-06-16T16:00:45.119Z"
   },
   {
    "duration": 0,
    "start_time": "2023-06-16T16:00:45.120Z"
   },
   {
    "duration": 1457,
    "start_time": "2023-06-16T16:01:25.149Z"
   },
   {
    "duration": 1073,
    "start_time": "2023-06-16T16:01:26.608Z"
   },
   {
    "duration": 108,
    "start_time": "2023-06-16T16:01:27.684Z"
   },
   {
    "duration": 405,
    "start_time": "2023-06-16T16:01:27.801Z"
   },
   {
    "duration": 496,
    "start_time": "2023-06-16T16:01:28.208Z"
   },
   {
    "duration": 49,
    "start_time": "2023-06-16T16:01:28.705Z"
   },
   {
    "duration": 10,
    "start_time": "2023-06-16T16:01:28.756Z"
   },
   {
    "duration": 85,
    "start_time": "2023-06-16T16:01:28.767Z"
   },
   {
    "duration": 67,
    "start_time": "2023-06-16T16:01:28.854Z"
   },
   {
    "duration": 517,
    "start_time": "2023-06-16T16:01:28.924Z"
   },
   {
    "duration": 15,
    "start_time": "2023-06-16T16:01:29.443Z"
   },
   {
    "duration": 54,
    "start_time": "2023-06-16T16:01:29.460Z"
   },
   {
    "duration": 60,
    "start_time": "2023-06-16T16:01:29.516Z"
   },
   {
    "duration": 25,
    "start_time": "2023-06-16T16:01:29.579Z"
   },
   {
    "duration": 1533,
    "start_time": "2023-06-16T16:01:29.605Z"
   },
   {
    "duration": 11,
    "start_time": "2023-06-16T16:01:31.139Z"
   },
   {
    "duration": 57,
    "start_time": "2023-06-16T16:01:31.152Z"
   },
   {
    "duration": 33,
    "start_time": "2023-06-16T16:01:31.210Z"
   },
   {
    "duration": 63,
    "start_time": "2023-06-16T16:01:31.245Z"
   },
   {
    "duration": 52,
    "start_time": "2023-06-16T16:01:31.310Z"
   },
   {
    "duration": 161,
    "start_time": "2023-06-16T16:01:31.363Z"
   },
   {
    "duration": 27,
    "start_time": "2023-06-16T16:01:31.526Z"
   },
   {
    "duration": 137,
    "start_time": "2023-06-16T16:01:31.555Z"
   },
   {
    "duration": 34,
    "start_time": "2023-06-16T16:01:31.694Z"
   },
   {
    "duration": 83,
    "start_time": "2023-06-16T16:01:31.729Z"
   },
   {
    "duration": 26,
    "start_time": "2023-06-16T16:01:31.814Z"
   },
   {
    "duration": 113,
    "start_time": "2023-06-16T16:01:31.842Z"
   },
   {
    "duration": 45,
    "start_time": "2023-06-16T16:01:31.960Z"
   },
   {
    "duration": 84,
    "start_time": "2023-06-16T16:01:32.006Z"
   },
   {
    "duration": 13,
    "start_time": "2023-06-16T16:01:32.092Z"
   },
   {
    "duration": 92,
    "start_time": "2023-06-16T16:01:32.106Z"
   },
   {
    "duration": 73,
    "start_time": "2023-06-16T16:01:32.200Z"
   },
   {
    "duration": 42,
    "start_time": "2023-06-16T16:01:32.275Z"
   },
   {
    "duration": 66,
    "start_time": "2023-06-16T16:01:32.319Z"
   },
   {
    "duration": 64,
    "start_time": "2023-06-16T16:01:32.387Z"
   },
   {
    "duration": 50,
    "start_time": "2023-06-16T16:01:32.452Z"
   },
   {
    "duration": 63,
    "start_time": "2023-06-16T16:01:32.504Z"
   },
   {
    "duration": 12,
    "start_time": "2023-06-16T16:01:32.568Z"
   },
   {
    "duration": 61,
    "start_time": "2023-06-16T16:01:32.582Z"
   },
   {
    "duration": 208,
    "start_time": "2023-06-16T16:01:32.644Z"
   },
   {
    "duration": 89,
    "start_time": "2023-06-16T16:01:32.854Z"
   },
   {
    "duration": 11,
    "start_time": "2023-06-16T16:01:32.944Z"
   },
   {
    "duration": 30,
    "start_time": "2023-06-16T16:01:32.956Z"
   },
   {
    "duration": 18,
    "start_time": "2023-06-16T16:01:32.987Z"
   },
   {
    "duration": 29,
    "start_time": "2023-06-16T16:01:33.007Z"
   },
   {
    "duration": 38,
    "start_time": "2023-06-16T16:01:33.038Z"
   },
   {
    "duration": 450065,
    "start_time": "2023-06-16T16:01:33.078Z"
   },
   {
    "duration": 342,
    "start_time": "2023-06-16T16:09:03.144Z"
   },
   {
    "duration": 125,
    "start_time": "2023-06-16T16:09:03.487Z"
   },
   {
    "duration": 0,
    "start_time": "2023-06-16T16:09:03.613Z"
   },
   {
    "duration": 0,
    "start_time": "2023-06-16T16:09:03.614Z"
   },
   {
    "duration": 0,
    "start_time": "2023-06-16T16:09:03.615Z"
   },
   {
    "duration": 0,
    "start_time": "2023-06-16T16:09:03.616Z"
   },
   {
    "duration": 0,
    "start_time": "2023-06-16T16:09:03.617Z"
   },
   {
    "duration": 0,
    "start_time": "2023-06-16T16:09:03.618Z"
   },
   {
    "duration": 0,
    "start_time": "2023-06-16T16:09:03.619Z"
   },
   {
    "duration": 0,
    "start_time": "2023-06-16T16:09:03.620Z"
   },
   {
    "duration": 0,
    "start_time": "2023-06-16T16:09:03.620Z"
   },
   {
    "duration": 0,
    "start_time": "2023-06-16T16:09:03.621Z"
   },
   {
    "duration": 0,
    "start_time": "2023-06-16T16:09:03.622Z"
   },
   {
    "duration": 0,
    "start_time": "2023-06-16T16:09:03.623Z"
   },
   {
    "duration": 0,
    "start_time": "2023-06-16T16:09:03.624Z"
   },
   {
    "duration": 0,
    "start_time": "2023-06-16T16:09:03.625Z"
   },
   {
    "duration": 0,
    "start_time": "2023-06-16T16:09:03.626Z"
   },
   {
    "duration": 0,
    "start_time": "2023-06-16T16:09:03.627Z"
   },
   {
    "duration": 0,
    "start_time": "2023-06-16T16:09:03.627Z"
   },
   {
    "duration": 0,
    "start_time": "2023-06-16T16:09:03.628Z"
   },
   {
    "duration": 0,
    "start_time": "2023-06-16T16:09:03.629Z"
   },
   {
    "duration": 0,
    "start_time": "2023-06-16T16:09:03.630Z"
   },
   {
    "duration": 0,
    "start_time": "2023-06-16T16:09:03.631Z"
   },
   {
    "duration": 0,
    "start_time": "2023-06-16T16:09:03.632Z"
   },
   {
    "duration": 0,
    "start_time": "2023-06-16T16:09:03.632Z"
   },
   {
    "duration": 0,
    "start_time": "2023-06-16T16:09:03.633Z"
   },
   {
    "duration": 0,
    "start_time": "2023-06-16T16:09:03.634Z"
   },
   {
    "duration": 5,
    "start_time": "2023-06-16T16:09:29.926Z"
   },
   {
    "duration": 10,
    "start_time": "2023-06-16T16:09:35.415Z"
   },
   {
    "duration": 5,
    "start_time": "2023-06-16T16:09:41.926Z"
   },
   {
    "duration": 837,
    "start_time": "2023-06-16T16:09:56.316Z"
   },
   {
    "duration": 8,
    "start_time": "2023-06-16T16:10:00.975Z"
   },
   {
    "duration": 1837,
    "start_time": "2023-06-16T16:10:49.812Z"
   },
   {
    "duration": 113,
    "start_time": "2023-06-16T16:10:52.039Z"
   },
   {
    "duration": 1793,
    "start_time": "2023-06-16T16:11:08.879Z"
   },
   {
    "duration": 4,
    "start_time": "2023-06-16T16:17:08.324Z"
   },
   {
    "duration": 233084,
    "start_time": "2023-06-16T16:17:23.817Z"
   },
   {
    "duration": 3,
    "start_time": "2023-06-16T16:21:16.913Z"
   },
   {
    "duration": 17,
    "start_time": "2023-06-16T16:21:16.919Z"
   },
   {
    "duration": 957,
    "start_time": "2023-06-16T16:21:16.938Z"
   },
   {
    "duration": 31436,
    "start_time": "2023-06-16T16:22:19.224Z"
   },
   {
    "duration": 63467,
    "start_time": "2023-06-16T16:22:50.662Z"
   },
   {
    "duration": 224,
    "start_time": "2023-06-16T16:23:54.131Z"
   },
   {
    "duration": 63736,
    "start_time": "2023-06-16T16:24:27.522Z"
   },
   {
    "duration": 212,
    "start_time": "2023-06-16T16:25:31.260Z"
   },
   {
    "duration": 11,
    "start_time": "2023-06-16T16:26:26.504Z"
   },
   {
    "duration": 484976,
    "start_time": "2023-06-16T16:26:27.129Z"
   },
   {
    "duration": 22,
    "start_time": "2023-06-16T16:34:32.108Z"
   },
   {
    "duration": 50,
    "start_time": "2023-06-16T16:34:32.132Z"
   },
   {
    "duration": 635,
    "start_time": "2023-06-16T16:34:32.183Z"
   },
   {
    "duration": 101523,
    "start_time": "2023-06-16T16:36:35.122Z"
   },
   {
    "duration": 297759,
    "start_time": "2023-06-16T16:38:16.650Z"
   },
   {
    "duration": 793,
    "start_time": "2023-06-16T16:43:15.027Z"
   },
   {
    "duration": 108,
    "start_time": "2023-06-16T16:43:15.823Z"
   },
   {
    "duration": 1490,
    "start_time": "2023-06-16T16:48:43.373Z"
   },
   {
    "duration": 804,
    "start_time": "2023-06-16T16:48:44.865Z"
   },
   {
    "duration": 123,
    "start_time": "2023-06-16T16:48:45.670Z"
   },
   {
    "duration": 590,
    "start_time": "2023-06-16T16:48:45.794Z"
   },
   {
    "duration": 528,
    "start_time": "2023-06-16T16:48:46.385Z"
   },
   {
    "duration": 46,
    "start_time": "2023-06-16T16:48:46.915Z"
   },
   {
    "duration": 10,
    "start_time": "2023-06-16T16:48:46.963Z"
   },
   {
    "duration": 110,
    "start_time": "2023-06-16T16:48:46.975Z"
   },
   {
    "duration": 62,
    "start_time": "2023-06-16T16:48:47.087Z"
   },
   {
    "duration": 542,
    "start_time": "2023-06-16T16:48:47.151Z"
   },
   {
    "duration": 15,
    "start_time": "2023-06-16T16:48:47.695Z"
   },
   {
    "duration": 84,
    "start_time": "2023-06-16T16:48:47.711Z"
   },
   {
    "duration": 79,
    "start_time": "2023-06-16T16:48:47.797Z"
   },
   {
    "duration": 7,
    "start_time": "2023-06-16T16:48:47.878Z"
   },
   {
    "duration": 1579,
    "start_time": "2023-06-16T16:48:47.886Z"
   },
   {
    "duration": 12,
    "start_time": "2023-06-16T16:48:49.467Z"
   },
   {
    "duration": 49,
    "start_time": "2023-06-16T16:48:49.480Z"
   },
   {
    "duration": 44,
    "start_time": "2023-06-16T16:48:49.531Z"
   },
   {
    "duration": 31,
    "start_time": "2023-06-16T16:48:49.576Z"
   },
   {
    "duration": 55,
    "start_time": "2023-06-16T16:48:49.608Z"
   },
   {
    "duration": 178,
    "start_time": "2023-06-16T16:48:49.665Z"
   },
   {
    "duration": 23,
    "start_time": "2023-06-16T16:48:49.845Z"
   },
   {
    "duration": 76,
    "start_time": "2023-06-16T16:48:49.870Z"
   },
   {
    "duration": 12,
    "start_time": "2023-06-16T16:48:49.947Z"
   },
   {
    "duration": 76,
    "start_time": "2023-06-16T16:48:49.960Z"
   },
   {
    "duration": 16,
    "start_time": "2023-06-16T16:48:50.037Z"
   },
   {
    "duration": 74,
    "start_time": "2023-06-16T16:48:50.054Z"
   },
   {
    "duration": 40,
    "start_time": "2023-06-16T16:48:50.134Z"
   },
   {
    "duration": 83,
    "start_time": "2023-06-16T16:48:50.176Z"
   },
   {
    "duration": 15,
    "start_time": "2023-06-16T16:48:50.260Z"
   },
   {
    "duration": 58,
    "start_time": "2023-06-16T16:48:50.276Z"
   },
   {
    "duration": 32,
    "start_time": "2023-06-16T16:48:50.336Z"
   },
   {
    "duration": 54,
    "start_time": "2023-06-16T16:48:50.370Z"
   },
   {
    "duration": 33,
    "start_time": "2023-06-16T16:48:50.426Z"
   },
   {
    "duration": 59,
    "start_time": "2023-06-16T16:48:50.461Z"
   },
   {
    "duration": 10,
    "start_time": "2023-06-16T16:48:50.522Z"
   },
   {
    "duration": 51,
    "start_time": "2023-06-16T16:48:50.533Z"
   },
   {
    "duration": 27,
    "start_time": "2023-06-16T16:48:50.586Z"
   },
   {
    "duration": 56,
    "start_time": "2023-06-16T16:48:50.614Z"
   },
   {
    "duration": 238,
    "start_time": "2023-06-16T16:48:50.671Z"
   },
   {
    "duration": 81,
    "start_time": "2023-06-16T16:48:50.912Z"
   },
   {
    "duration": 22,
    "start_time": "2023-06-16T16:48:50.995Z"
   },
   {
    "duration": 39,
    "start_time": "2023-06-16T16:48:51.018Z"
   },
   {
    "duration": 20,
    "start_time": "2023-06-16T16:48:51.058Z"
   },
   {
    "duration": 41,
    "start_time": "2023-06-16T16:48:51.079Z"
   },
   {
    "duration": 30,
    "start_time": "2023-06-16T16:48:51.121Z"
   },
   {
    "duration": 465825,
    "start_time": "2023-06-16T16:48:51.153Z"
   },
   {
    "duration": 350,
    "start_time": "2023-06-16T16:56:36.979Z"
   },
   {
    "duration": 4,
    "start_time": "2023-06-16T16:56:37.331Z"
   },
   {
    "duration": 35,
    "start_time": "2023-06-16T16:56:37.336Z"
   },
   {
    "duration": 890,
    "start_time": "2023-06-16T16:56:37.372Z"
   },
   {
    "duration": 1857,
    "start_time": "2023-06-16T16:56:38.264Z"
   },
   {
    "duration": 119,
    "start_time": "2023-06-16T16:56:40.122Z"
   },
   {
    "duration": 3,
    "start_time": "2023-06-16T16:56:40.243Z"
   },
   {
    "duration": 226367,
    "start_time": "2023-06-16T16:56:40.247Z"
   },
   {
    "duration": 4,
    "start_time": "2023-06-16T17:00:26.616Z"
   },
   {
    "duration": 10,
    "start_time": "2023-06-16T17:00:26.622Z"
   },
   {
    "duration": 1002,
    "start_time": "2023-06-16T17:00:26.634Z"
   },
   {
    "duration": 30121,
    "start_time": "2023-06-16T17:00:27.637Z"
   },
   {
    "duration": 63459,
    "start_time": "2023-06-16T17:00:57.760Z"
   },
   {
    "duration": 221,
    "start_time": "2023-06-16T17:02:01.220Z"
   },
   {
    "duration": 3,
    "start_time": "2023-06-16T17:02:01.443Z"
   },
   {
    "duration": 466865,
    "start_time": "2023-06-16T17:02:01.448Z"
   },
   {
    "duration": 3,
    "start_time": "2023-06-16T17:09:48.318Z"
   },
   {
    "duration": 74,
    "start_time": "2023-06-16T17:09:48.322Z"
   },
   {
    "duration": 523,
    "start_time": "2023-06-16T17:09:48.397Z"
   },
   {
    "duration": 97603,
    "start_time": "2023-06-16T17:09:48.921Z"
   },
   {
    "duration": 293491,
    "start_time": "2023-06-16T17:11:26.526Z"
   },
   {
    "duration": 691,
    "start_time": "2023-06-16T17:16:20.019Z"
   },
   {
    "duration": 12,
    "start_time": "2023-06-16T17:16:20.711Z"
   },
   {
    "duration": 30642,
    "start_time": "2023-06-16T17:16:20.724Z"
   },
   {
    "duration": 89,
    "start_time": "2023-06-16T17:16:51.368Z"
   },
   {
    "duration": 3,
    "start_time": "2023-06-16T17:16:51.459Z"
   },
   {
    "duration": 24,
    "start_time": "2023-06-16T17:16:51.463Z"
   },
   {
    "duration": 169,
    "start_time": "2023-06-17T08:55:42.564Z"
   },
   {
    "duration": 3,
    "start_time": "2023-06-17T08:57:11.548Z"
   },
   {
    "duration": 3,
    "start_time": "2023-06-17T08:57:49.930Z"
   },
   {
    "duration": 15,
    "start_time": "2023-06-17T08:58:34.694Z"
   },
   {
    "duration": 3,
    "start_time": "2023-06-17T08:58:50.933Z"
   },
   {
    "duration": 30,
    "start_time": "2023-06-17T08:58:56.787Z"
   },
   {
    "duration": 10434,
    "start_time": "2023-06-17T09:00:45.523Z"
   },
   {
    "duration": 1826,
    "start_time": "2023-06-17T09:00:55.959Z"
   },
   {
    "duration": 186,
    "start_time": "2023-06-17T09:00:57.787Z"
   },
   {
    "duration": 602,
    "start_time": "2023-06-17T09:00:57.975Z"
   },
   {
    "duration": 637,
    "start_time": "2023-06-17T09:00:58.580Z"
   },
   {
    "duration": 51,
    "start_time": "2023-06-17T09:00:59.219Z"
   },
   {
    "duration": 16,
    "start_time": "2023-06-17T09:00:59.272Z"
   },
   {
    "duration": 162,
    "start_time": "2023-06-17T09:00:59.300Z"
   },
   {
    "duration": 124,
    "start_time": "2023-06-17T09:00:59.463Z"
   },
   {
    "duration": 775,
    "start_time": "2023-06-17T09:00:59.589Z"
   },
   {
    "duration": 12,
    "start_time": "2023-06-17T09:01:00.366Z"
   },
   {
    "duration": 196,
    "start_time": "2023-06-17T09:01:00.380Z"
   },
   {
    "duration": 151,
    "start_time": "2023-06-17T09:01:00.578Z"
   },
   {
    "duration": 18,
    "start_time": "2023-06-17T09:01:00.733Z"
   },
   {
    "duration": 2055,
    "start_time": "2023-06-17T09:01:00.753Z"
   },
   {
    "duration": 14,
    "start_time": "2023-06-17T09:01:02.810Z"
   },
   {
    "duration": 71,
    "start_time": "2023-06-17T09:01:02.827Z"
   },
   {
    "duration": 80,
    "start_time": "2023-06-17T09:01:02.906Z"
   },
   {
    "duration": 53,
    "start_time": "2023-06-17T09:01:02.988Z"
   },
   {
    "duration": 81,
    "start_time": "2023-06-17T09:01:03.043Z"
   },
   {
    "duration": 209,
    "start_time": "2023-06-17T09:01:03.126Z"
   },
   {
    "duration": 47,
    "start_time": "2023-06-17T09:01:03.337Z"
   },
   {
    "duration": 120,
    "start_time": "2023-06-17T09:01:03.386Z"
   },
   {
    "duration": 74,
    "start_time": "2023-06-17T09:01:03.514Z"
   },
   {
    "duration": 108,
    "start_time": "2023-06-17T09:01:03.590Z"
   },
   {
    "duration": 35,
    "start_time": "2023-06-17T09:01:03.710Z"
   },
   {
    "duration": 79,
    "start_time": "2023-06-17T09:01:03.746Z"
   },
   {
    "duration": 49,
    "start_time": "2023-06-17T09:01:03.832Z"
   },
   {
    "duration": 87,
    "start_time": "2023-06-17T09:01:03.883Z"
   },
   {
    "duration": 18,
    "start_time": "2023-06-17T09:01:03.972Z"
   },
   {
    "duration": 93,
    "start_time": "2023-06-17T09:01:03.992Z"
   },
   {
    "duration": 91,
    "start_time": "2023-06-17T09:01:04.087Z"
   },
   {
    "duration": 56,
    "start_time": "2023-06-17T09:01:04.179Z"
   },
   {
    "duration": 56,
    "start_time": "2023-06-17T09:01:04.237Z"
   },
   {
    "duration": 71,
    "start_time": "2023-06-17T09:01:04.295Z"
   },
   {
    "duration": 13,
    "start_time": "2023-06-17T09:01:04.367Z"
   },
   {
    "duration": 82,
    "start_time": "2023-06-17T09:01:04.382Z"
   },
   {
    "duration": 19,
    "start_time": "2023-06-17T09:01:04.465Z"
   },
   {
    "duration": 77,
    "start_time": "2023-06-17T09:01:04.486Z"
   },
   {
    "duration": 313,
    "start_time": "2023-06-17T09:01:04.565Z"
   },
   {
    "duration": 124,
    "start_time": "2023-06-17T09:01:04.882Z"
   },
   {
    "duration": 15,
    "start_time": "2023-06-17T09:01:05.008Z"
   },
   {
    "duration": 132,
    "start_time": "2023-06-17T09:01:05.025Z"
   },
   {
    "duration": 6,
    "start_time": "2023-06-17T09:01:05.159Z"
   },
   {
    "duration": 28,
    "start_time": "2023-06-17T09:01:05.166Z"
   },
   {
    "duration": 58,
    "start_time": "2023-06-17T09:01:05.196Z"
   },
   {
    "duration": 522607,
    "start_time": "2023-06-17T09:01:05.255Z"
   },
   {
    "duration": 403,
    "start_time": "2023-06-17T09:09:47.863Z"
   },
   {
    "duration": 5,
    "start_time": "2023-06-17T09:09:48.267Z"
   },
   {
    "duration": 33,
    "start_time": "2023-06-17T09:09:48.273Z"
   },
   {
    "duration": 51,
    "start_time": "2023-06-17T09:09:48.312Z"
   },
   {
    "duration": 251179,
    "start_time": "2023-06-17T09:09:48.365Z"
   },
   {
    "duration": 4,
    "start_time": "2023-06-17T09:13:59.546Z"
   },
   {
    "duration": 12,
    "start_time": "2023-06-17T09:13:59.552Z"
   },
   {
    "duration": 1006,
    "start_time": "2023-06-17T09:13:59.566Z"
   },
   {
    "duration": 3,
    "start_time": "2023-06-17T09:14:00.573Z"
   },
   {
    "duration": 483041,
    "start_time": "2023-06-17T09:14:00.578Z"
   },
   {
    "duration": 10,
    "start_time": "2023-06-17T09:22:03.624Z"
   },
   {
    "duration": 37,
    "start_time": "2023-06-17T09:22:03.635Z"
   },
   {
    "duration": 626,
    "start_time": "2023-06-17T09:22:03.674Z"
   },
   {
    "duration": 14,
    "start_time": "2023-06-17T09:22:04.301Z"
   },
   {
    "duration": 34599,
    "start_time": "2023-06-17T09:22:04.317Z"
   },
   {
    "duration": 78,
    "start_time": "2023-06-17T09:22:38.917Z"
   },
   {
    "duration": 4,
    "start_time": "2023-06-17T09:22:38.997Z"
   },
   {
    "duration": 56,
    "start_time": "2023-06-17T09:22:39.002Z"
   },
   {
    "duration": 10,
    "start_time": "2023-06-17T09:23:47.143Z"
   },
   {
    "duration": 572944,
    "start_time": "2023-09-06T14:10:23.655Z"
   },
   {
    "duration": 428,
    "start_time": "2023-09-06T14:19:56.607Z"
   },
   {
    "duration": 13,
    "start_time": "2023-09-06T14:19:57.042Z"
   },
   {
    "duration": 142,
    "start_time": "2023-09-06T14:19:57.058Z"
   },
   {
    "duration": 148,
    "start_time": "2023-09-06T14:19:57.202Z"
   },
   {
    "duration": 305389,
    "start_time": "2023-09-06T14:19:57.353Z"
   },
   {
    "duration": 4,
    "start_time": "2023-09-06T14:25:02.743Z"
   },
   {
    "duration": 159,
    "start_time": "2023-09-06T14:25:02.749Z"
   },
   {
    "duration": 1390,
    "start_time": "2023-09-06T14:25:02.909Z"
   },
   {
    "duration": 13,
    "start_time": "2023-09-06T14:25:04.308Z"
   },
   {
    "duration": 208980,
    "start_time": "2023-09-06T14:25:04.327Z"
   },
   {
    "duration": 12,
    "start_time": "2023-09-06T14:28:33.311Z"
   },
   {
    "duration": 16,
    "start_time": "2023-09-06T14:28:33.325Z"
   },
   {
    "duration": 569,
    "start_time": "2023-09-06T14:28:33.343Z"
   },
   {
    "duration": 20,
    "start_time": "2023-09-06T14:28:33.914Z"
   },
   {
    "duration": 2641,
    "start_time": "2023-09-06T14:28:33.936Z"
   },
   {
    "duration": 183,
    "start_time": "2023-09-06T14:28:36.579Z"
   },
   {
    "duration": 0,
    "start_time": "2023-09-06T14:28:36.764Z"
   },
   {
    "duration": 0,
    "start_time": "2023-09-06T14:28:36.766Z"
   }
  ],
  "kernelspec": {
   "display_name": "Python 3 (ipykernel)",
   "language": "python",
   "name": "python3"
  },
  "language_info": {
   "codemirror_mode": {
    "name": "ipython",
    "version": 3
   },
   "file_extension": ".py",
   "mimetype": "text/x-python",
   "name": "python",
   "nbconvert_exporter": "python",
   "pygments_lexer": "ipython3",
   "version": "3.11.6"
  },
  "toc": {
   "base_numbering": 1,
   "nav_menu": {},
   "number_sections": true,
   "sideBar": true,
   "skip_h1_title": true,
   "title_cell": "Table of Contents",
   "title_sidebar": "Contents",
   "toc_cell": false,
   "toc_position": {},
   "toc_section_display": true,
   "toc_window_display": false
  }
 },
 "nbformat": 4,
 "nbformat_minor": 4
}
